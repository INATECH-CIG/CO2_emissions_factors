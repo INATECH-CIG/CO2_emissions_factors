{
 "cells": [
  {
   "cell_type": "markdown",
   "metadata": {},
   "source": [
    "# Introduction"
   ]
  },
  {
   "cell_type": "markdown",
   "metadata": {},
   "source": [
    "This notebook provides an overview of the notebooks and code used for the publication ...."
   ]
  },
  {
   "cell_type": "markdown",
   "metadata": {},
   "source": [
    "<div style=\"width:100%; background-color: #D9EDF7; border: 1px solid #CFCFCF; text-align: left; padding: 10px;\">\n",
    "      <b>CO2 notebook processing overview:</b>\n",
    "      <ul>\n",
    "        <li>Main Notebook</li>\n",
    "        <li><a href=\"Matching EUETS and ENTSO E.ipynb\">Matching EUETS and ENTSO-E data</a></li>\n",
    "        <li><a href=\"CI calculation top down method.ipynb\">CI calculation top down method</a></li>\n",
    "        <li><a href=\"EF calculation bottom up method.ipynb\">EF caluclation bottom up method</a></li>\n",
    "        <li><a href=\"CI calculation bottom up method.ipynb\">CI calculation bottom up method</a></li>\n",
    "        <li><a href=\"CO2 Signals.ipynb\">CO2 Signals</a></li>\n",
    "    </ul>\n",
    "</div>"
   ]
  },
  {
   "cell_type": "code",
   "execution_count": null,
   "metadata": {},
   "outputs": [],
   "source": []
  }
 ],
 "metadata": {
  "kernelspec": {
   "display_name": "Python 3",
   "language": "python",
   "name": "python3"
  },
  "language_info": {
   "codemirror_mode": {
    "name": "ipython",
    "version": 3
   },
   "file_extension": ".py",
   "mimetype": "text/x-python",
   "name": "python",
   "nbconvert_exporter": "python",
   "pygments_lexer": "ipython3",
   "version": "3.7.9"
  },
  "toc": {
   "base_numbering": 1,
   "nav_menu": {},
   "number_sections": true,
   "sideBar": true,
   "skip_h1_title": false,
   "title_cell": "Table of Contents",
   "title_sidebar": "Contents",
   "toc_cell": false,
   "toc_position": {},
   "toc_section_display": true,
   "toc_window_display": false
  }
 },
 "nbformat": 4,
 "nbformat_minor": 4
}
