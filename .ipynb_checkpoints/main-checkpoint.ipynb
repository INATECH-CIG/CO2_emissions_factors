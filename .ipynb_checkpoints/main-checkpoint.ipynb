{
 "cells": [
  {
   "cell_type": "markdown",
   "metadata": {},
   "source": [
    "# Introduction"
   ]
  },
  {
   "cell_type": "markdown",
   "metadata": {},
   "source": [
    "This notebook gives you an overview in which order the scripts should be executed to get all results. The scripts can in principle be executed independently of each other, in a few cases results from another script are needed."
   ]
  },
  {
   "cell_type": "markdown",
   "metadata": {},
   "source": [
    "<div style=\"width:100%; background-color: #D9EDF7; border: 1px solid #CFCFCF; text-align: left; padding: 10px;\">\n",
    "      <b>CO2 notebook process order overview:</b>\n",
    "      <ul>\n",
    "        <li>Main Notebook</li>\n",
    "        <li><a href=\"Matching EUETS and ENTSO E.ipynb\">1) Matching EUETS and ENTSO-E data</a></li>\n",
    "        <li><a href=\"CI calculation top down method.ipynb\">2) CI calculation top down method</a></li>\n",
    "        <li><a href=\"EF calculation bottom up method.ipynb\">3) EF caluclation bottom up method</a></li>\n",
    "        <li><a href=\"CI calculation bottom up method.ipynb\">4) CI calculation bottom up method</a></li>\n",
    "        <li><a href=\"CO2 Signals.ipynb\">5) CO2 Signals</a></li>\n",
    "    </ul>\n",
    "</div>"
   ]
  },
  {
   "cell_type": "markdown",
   "metadata": {},
   "source": [
    "# Notebook overview"
   ]
  },
  {
   "cell_type": "markdown",
   "metadata": {},
   "source": [
    "- Matching EUETS and ENTSO E.ipynb\n",
    "\n",
    "    Contains information on how the matching was performed and shows some quantitative results of the matching process.\n",
    "\n",
    "\n",
    "- CI calculation top down method.ipynb\n",
    "\n",
    "    Calculates the CO2 intensity of electricity production using the top-down method for EU countries.\n",
    "\n",
    "\n",
    "- EF calculation bottom up method.ipynb\n",
    "\n",
    "    Calculates the emission factors of electricity production for different countries and technologies using the bottom-up method for EU countries.\n",
    "    \n",
    "\n",
    "- CI calculation top down method.ipynb\n",
    "\n",
    "    Calculates the CO2 intensity of electricity production using the EF from the bottom-up method for EU countries.\n",
    "    \n",
    "    \n",
    "- CO2 Signals.ipynb\n",
    "\n",
    "    Uses the calculated EF to generate a CO2 signal for countries of the EU."
   ]
  }
 ],
 "metadata": {
  "kernelspec": {
   "display_name": "Python 3",
   "language": "python",
   "name": "python3"
  },
  "language_info": {
   "codemirror_mode": {
    "name": "ipython",
    "version": 3
   },
   "file_extension": ".py",
   "mimetype": "text/x-python",
   "name": "python",
   "nbconvert_exporter": "python",
   "pygments_lexer": "ipython3",
   "version": "3.7.9"
  },
  "toc": {
   "base_numbering": 1,
   "nav_menu": {},
   "number_sections": true,
   "sideBar": true,
   "skip_h1_title": false,
   "title_cell": "Table of Contents",
   "title_sidebar": "Contents",
   "toc_cell": false,
   "toc_position": {},
   "toc_section_display": true,
   "toc_window_display": false
  }
 },
 "nbformat": 4,
 "nbformat_minor": 4
}
