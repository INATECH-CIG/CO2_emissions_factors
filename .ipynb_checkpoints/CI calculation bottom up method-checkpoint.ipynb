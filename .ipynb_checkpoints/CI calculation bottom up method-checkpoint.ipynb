{
 "cells": [
  {
   "cell_type": "markdown",
   "metadata": {
    "toc": true
   },
   "source": [
    "<h1>Table of Contents<span class=\"tocSkip\"></span></h1>\n",
    "<div class=\"toc\"><ul class=\"toc-item\"><li><span><a href=\"#Introduction\" data-toc-modified-id=\"Introduction-1\"><span class=\"toc-item-num\">1&nbsp;&nbsp;</span>Introduction</a></span></li><li><span><a href=\"#Script-setup\" data-toc-modified-id=\"Script-setup-2\"><span class=\"toc-item-num\">2&nbsp;&nbsp;</span>Script setup</a></span></li><li><span><a href=\"#Data-directory-preparention\" data-toc-modified-id=\"Data-directory-preparention-3\"><span class=\"toc-item-num\">3&nbsp;&nbsp;</span>Data directory preparention</a></span></li><li><span><a href=\"#Data-file-preperation\" data-toc-modified-id=\"Data-file-preperation-4\"><span class=\"toc-item-num\">4&nbsp;&nbsp;</span>Data file preperation</a></span><ul class=\"toc-item\"><li><span><a href=\"#input-directory-(all-general-raw-data-files)\" data-toc-modified-id=\"input-directory-(all-general-raw-data-files)-4.1\"><span class=\"toc-item-num\">4.1&nbsp;&nbsp;</span><code>input</code> directory (all general raw data files)</a></span></li><li><span><a href=\"#processed-directory-(all-data-files-produced-in-this-repository)\" data-toc-modified-id=\"processed-directory-(all-data-files-produced-in-this-repository)-4.2\"><span class=\"toc-item-num\">4.2&nbsp;&nbsp;</span><code>processed</code> directory (all data files produced in this repository)</a></span></li></ul></li><li><span><a href=\"#Load-data-functions\" data-toc-modified-id=\"Load-data-functions-5\"><span class=\"toc-item-num\">5&nbsp;&nbsp;</span>Load data functions</a></span></li><li><span><a href=\"#Load-data-sets\" data-toc-modified-id=\"Load-data-sets-6\"><span class=\"toc-item-num\">6&nbsp;&nbsp;</span>Load data sets</a></span></li><li><span><a href=\"#ENTSO-E-generation-per-technology-CI\" data-toc-modified-id=\"ENTSO-E-generation-per-technology-CI-7\"><span class=\"toc-item-num\">7&nbsp;&nbsp;</span>ENTSO-E generation per technology CI</a></span><ul class=\"toc-item\"><li><span><a href=\"#EF-preparation\" data-toc-modified-id=\"EF-preparation-7.1\"><span class=\"toc-item-num\">7.1&nbsp;&nbsp;</span>EF preparation</a></span></li><li><span><a href=\"#Plots\" data-toc-modified-id=\"Plots-7.2\"><span class=\"toc-item-num\">7.2&nbsp;&nbsp;</span>Plots</a></span></li></ul></li><li><span><a href=\"#ENTSO-E-Power-Stats-generation-per-technology-CO2-Signal\" data-toc-modified-id=\"ENTSO-E-Power-Stats-generation-per-technology-CO2-Signal-8\"><span class=\"toc-item-num\">8&nbsp;&nbsp;</span>ENTSO-E Power Stats generation per technology CO2 Signal</a></span></li><li><span><a href=\"#Compair-Bottom-Up-and-Top-down\" data-toc-modified-id=\"Compair-Bottom-Up-and-Top-down-9\"><span class=\"toc-item-num\">9&nbsp;&nbsp;</span>Compair Bottom Up and Top down</a></span></li><li><span><a href=\"#DK-wärme-wird-dort-viel-von-Kraftwerken-genutzt\" data-toc-modified-id=\"DK-wärme-wird-dort-viel-von-Kraftwerken-genutzt-10\"><span class=\"toc-item-num\">10&nbsp;&nbsp;</span>DK wärme wird dort viel von Kraftwerken genutzt</a></span></li><li><span><a href=\"#EE-hat-ganz-viel-other-fossil-(wir-haben-keine-EF-ausgerechnet)\" data-toc-modified-id=\"EE-hat-ganz-viel-other-fossil-(wir-haben-keine-EF-ausgerechnet)-11\"><span class=\"toc-item-num\">11&nbsp;&nbsp;</span>EE hat ganz viel other fossil (wir haben keine EF ausgerechnet)</a></span></li><li><span><a href=\"#LT\" data-toc-modified-id=\"LT-12\"><span class=\"toc-item-num\">12&nbsp;&nbsp;</span>LT</a></span></li><li><span><a href=\"#LV\" data-toc-modified-id=\"LV-13\"><span class=\"toc-item-num\">13&nbsp;&nbsp;</span>LV</a></span></li><li><span><a href=\"#NO\" data-toc-modified-id=\"NO-14\"><span class=\"toc-item-num\">14&nbsp;&nbsp;</span>NO</a></span></li><li><span><a href=\"#Plotting-CI\" data-toc-modified-id=\"Plotting-CI-15\"><span class=\"toc-item-num\">15&nbsp;&nbsp;</span>Plotting CI</a></span></li><li><span><a href=\"#Export-final-CO2-signals\" data-toc-modified-id=\"Export-final-CO2-signals-16\"><span class=\"toc-item-num\">16&nbsp;&nbsp;</span>Export final CO2 signals</a></span></li><li><span><a href=\"#Plottting\" data-toc-modified-id=\"Plottting-17\"><span class=\"toc-item-num\">17&nbsp;&nbsp;</span>Plottting</a></span></li><li><span><a href=\"#Create-a-dataframe\" data-toc-modified-id=\"Create-a-dataframe-18\"><span class=\"toc-item-num\">18&nbsp;&nbsp;</span>Create a dataframe</a></span></li><li><span><a href=\"#Reorder-it-following-the-values-of-the-first-value:\" data-toc-modified-id=\"Reorder-it-following-the-values-of-the-first-value:-19\"><span class=\"toc-item-num\">19&nbsp;&nbsp;</span>Reorder it following the values of the first value:</a></span></li><li><span><a href=\"#The-vertical-plot-is-made-using-the-hline-function\" data-toc-modified-id=\"The-vertical-plot-is-made-using-the-hline-function-20\"><span class=\"toc-item-num\">20&nbsp;&nbsp;</span>The vertical plot is made using the hline function</a></span></li><li><span><a href=\"#I-load-the-seaborn-library-only-to-benefit-the-nice-looking-feature\" data-toc-modified-id=\"I-load-the-seaborn-library-only-to-benefit-the-nice-looking-feature-21\"><span class=\"toc-item-num\">21&nbsp;&nbsp;</span>I load the seaborn library only to benefit the nice looking feature</a></span></li><li><span><a href=\"#Add-title-and-axis-names\" data-toc-modified-id=\"Add-title-and-axis-names-22\"><span class=\"toc-item-num\">22&nbsp;&nbsp;</span>Add title and axis names</a></span></li></ul></div>"
   ]
  },
  {
   "cell_type": "markdown",
   "metadata": {},
   "source": [
    "# Introduction"
   ]
  },
  {
   "cell_type": "markdown",
   "metadata": {},
   "source": [
    "This notebook uses the calculated EFs to calculate the CI for EU countries."
   ]
  },
  {
   "cell_type": "markdown",
   "metadata": {},
   "source": [
    "# Script setup"
   ]
  },
  {
   "cell_type": "code",
   "execution_count": 1,
   "metadata": {},
   "outputs": [],
   "source": [
    "import os\n",
    "import logging\n",
    "\n",
    "import pandas as pd\n",
    "import seaborn as sns\n",
    "import matplotlib.pyplot as plt\n",
    "from matplotlib.dates import DateFormatter\n",
    "from IPython.display import Image \n",
    "import datetime\n",
    "from matplotlib.lines import Line2D\n",
    "\n",
    "#GEO\n",
    "import geopandas as gpd\n",
    "#from pyproj import CRS\n",
    "#from pyproj import Transformer\n",
    "#from shapely.geometry import Point\n",
    "\n",
    "%matplotlib inline\n",
    "plt.style.use('seaborn')\n",
    "plt.rcParams['figure.figsize'] = [15, 10]\n",
    "sns.set_theme()\n",
    "\n",
    "#helpers\n",
    "from helpers import change_ENTSOE_ProductionTypeName"
   ]
  },
  {
   "cell_type": "markdown",
   "metadata": {},
   "source": [
    "# Data directory preparention"
   ]
  },
  {
   "cell_type": "markdown",
   "metadata": {},
   "source": [
    "Create input, processed and output folders if they don't exist\n",
    "If the paths are relative, the corresponding folders will be created inside the current working directory.\n",
    "- input -> all needed input data\n",
    "- processed -> save point and exchange with other scripts\n",
    "- output -> final emission factors"
   ]
  },
  {
   "cell_type": "code",
   "execution_count": 2,
   "metadata": {},
   "outputs": [],
   "source": [
    "input_directory_path = os.path.join('input')\n",
    "processed_directory_path = 'processed'\n",
    "output_directory_path = os.path.join('output')\n",
    "\n",
    "os.makedirs(input_directory_path, exist_ok=True)\n",
    "os.makedirs(processed_directory_path, exist_ok=True)\n",
    "os.makedirs(output_directory_path, exist_ok=True)"
   ]
  },
  {
   "cell_type": "markdown",
   "metadata": {},
   "source": [
    "# Data file preperation"
   ]
  },
  {
   "cell_type": "markdown",
   "metadata": {},
   "source": [
    "## `input` directory (all general raw data files)\n",
    "\n",
    "- 1) ENTSO-E production per type\n",
    "Production per type from ENTSO-E\n",
    "Original data: ENTSO-E Transparency Platform, Actual Generation per Production Type Available online: \n",
    "https://transparency.entsoe.eu/generation/r2/actualGenerationPerProductionType/show\n",
    "Processed with the following script that converts the data to hourly resolution (private script from INATECH):\n",
    "\n",
    "\n",
    " File - > time_series_60min_multiindex.csv - > generation per technology\n",
    " \n",
    "- 2) ENTSO-E production per unit\n",
    "Production per Unit from ENTSO-E\n",
    "Original data: ENTSO-E Transparency Platform, Actual Generation per Generation Unit Available online: https://transparency.entsoe.eu/generation/r2/actualGenerationPerGenerationUnit/show (accessed on Apr 29, 2020).\n",
    "Processed with the following script that converts the data to hourly resolution (private script from INATECH):\n",
    "https://github.com/INATECH-CIG/entso-e_GenerationOutputPerUnit\n",
    "\n",
    "File - > gen_data.csv -> hourly generation data per unit"
   ]
  },
  {
   "cell_type": "code",
   "execution_count": 3,
   "metadata": {},
   "outputs": [
    {
     "name": "stdout",
     "output_type": "stream",
     "text": [
      "['input\\\\Bootom_up_methode', 'input\\\\CO2_Signal', 'input\\\\ember_EF.csv', 'input\\\\entso.csv', 'input\\\\entsoe-statistical-factsheet-2018-stacked.csv', 'input\\\\entsoe_gen_type_hourly_table.csv', 'input\\\\entso_gen_type_hourly_table_scaled.csv', 'input\\\\entso_scaled.csv', 'input\\\\gen_data_2015.csv', 'input\\\\gen_data_2016.csv', 'input\\\\gen_data_2017.csv', 'input\\\\gen_data_2018.csv', 'input\\\\Matching', 'input\\\\MDV_table.csv', 'input\\\\time_series_60min_multiindex.csv', 'input\\\\top_down_methode', 'input\\\\unit_data_2015.csv', 'input\\\\unit_data_2016.csv', 'input\\\\unit_data_2017.csv', 'input\\\\unit_data_2018.csv']\n"
     ]
    }
   ],
   "source": [
    "# Checks if the the input directories are empty or not\n",
    "# Checks all filenames in the input directory\n",
    "\n",
    "if not os.listdir(input_directory_path) :\n",
    "    print(\"The directory for the bootom up method is empty. Please provide the data to the directory as described in the instructions above.\")\n",
    "\n",
    "\n",
    "filenames = [os.path.join(input_directory_path, fn) for fn in os.listdir(input_directory_path)]\n",
    "\n",
    "print(filenames)"
   ]
  },
  {
   "cell_type": "markdown",
   "metadata": {},
   "source": [
    "## `processed` directory (all data files produced in this repository)\n",
    "\n",
    "- 1) EF per type and county\n",
    "\n",
    "File - > EF_bottom_up_methode.csv\n",
    "\n",
    "- 2) EF per unit\n",
    "\n",
    "File -> generation_unit_EF_bottom_up_methode.csv"
   ]
  },
  {
   "cell_type": "code",
   "execution_count": 4,
   "metadata": {},
   "outputs": [
    {
     "name": "stdout",
     "output_type": "stream",
     "text": [
      "['processed\\\\CI_0_top_down.csv', 'processed\\\\CI_1_top_down.csv', 'processed\\\\EF_bottom_up_methode.csv', 'processed\\\\generation_unit_EF_bottom_up_methode.csv']\n"
     ]
    }
   ],
   "source": [
    "# Checks if the the input directories are empty or not\n",
    "# Checks all filenames in the input directory\n",
    "\n",
    "if not os.listdir(processed_directory_path) :\n",
    "    print(\"The directory for the CO2 Signal is empty. Please provide the data to the directory as described in the instructions above.\")\n",
    "\n",
    "\n",
    "filenames = [os.path.join(processed_directory_path, fn) for fn in os.listdir(processed_directory_path)]\n",
    "\n",
    "print(filenames)"
   ]
  },
  {
   "cell_type": "markdown",
   "metadata": {},
   "source": [
    "# Load data functions"
   ]
  },
  {
   "cell_type": "code",
   "execution_count": 5,
   "metadata": {},
   "outputs": [],
   "source": [
    "def load_generation_per_unit(path, fn):\n",
    "    \"\"\"\n",
    "    Load the ENTSO-E gernation per unit data.\n",
    "        \n",
    "    Parameters\n",
    "    ----------\n",
    "    path: str\n",
    "        path to data\n",
    "    fn : str\n",
    "        filename\n",
    "        \n",
    "    \"\"\"\n",
    "    \n",
    "    generation = pd.read_csv(os.path.join(path, fn),sep = ',',index_col=0,parse_dates=True)\n",
    "    \n",
    "    return generation\n",
    "\n",
    "def load_unit_CO2_data(path, fn):\n",
    "    \"\"\"\n",
    "    Own generation unit information with CO2 information per unit\n",
    "        \n",
    "    Parameters\n",
    "    ----------\n",
    "    path: str\n",
    "        path to data\n",
    "    fn : str\n",
    "        filename\n",
    "        \n",
    "    \"\"\"\n",
    "    \n",
    "    df = pd.read_csv(os.path.join(path, fn),sep = ',',index_col=0)\n",
    "    \n",
    "    # set name for the index\n",
    "    #df.index.set_names('eic_g', inplace=True)\n",
    "\n",
    "    return df\n",
    "\n",
    "def load_EF(path, fn):\n",
    "    \"\"\"\n",
    "    Own generation EF per tech and country\n",
    "        \n",
    "    Parameters\n",
    "    ----------\n",
    "    path: str\n",
    "        path to data\n",
    "    fn : str\n",
    "        filename\n",
    "        \n",
    "    \"\"\"\n",
    "    \n",
    "    df = pd.read_csv(os.path.join(path, fn),sep = ',',index_col=[0,1])\n",
    "    \n",
    "    return df\n",
    "\n",
    "def load_timeseries_ENTSOE(path, fn):\n",
    "    \"\"\"\n",
    "    Read generation data from time-series package own modification.\n",
    "\n",
    "\n",
    "    Parameters\n",
    "    ----------\n",
    "    path : TYPE\n",
    "        DESCRIPTION.\n",
    "    fn : TYPE\n",
    "        DESCRIPTION.\n",
    "\n",
    "    Returns\n",
    "    -------\n",
    "    generation : TYPE\n",
    "        DESCRIPTION.\n",
    "\n",
    "    \"\"\"\n",
    "   \n",
    "    generation = (pd.read_csv(os.path.join(path, fn), index_col=[0], header=[0, 1], parse_dates=True)\n",
    "                    .dropna(how=\"all\", axis=0))\n",
    "       \n",
    "    \n",
    "    return generation"
   ]
  },
  {
   "cell_type": "markdown",
   "metadata": {},
   "source": [
    "# Load data sets"
   ]
  },
  {
   "cell_type": "markdown",
   "metadata": {},
   "source": [
    "#### Load ENTSO-E generation per type"
   ]
  },
  {
   "cell_type": "code",
   "execution_count": 6,
   "metadata": {},
   "outputs": [],
   "source": [
    "entsoe_gen_type = load_timeseries_ENTSOE(input_directory_path, 'entso_gen_type_hourly_table_scaled.csv')"
   ]
  },
  {
   "cell_type": "markdown",
   "metadata": {},
   "source": [
    "#### Load EF per technology"
   ]
  },
  {
   "cell_type": "code",
   "execution_count": 7,
   "metadata": {},
   "outputs": [],
   "source": [
    "EF = load_EF(processed_directory_path, 'EF_bottom_up_methode.csv')"
   ]
  },
  {
   "cell_type": "code",
   "execution_count": 8,
   "metadata": {},
   "outputs": [
    {
     "data": {
      "text/html": [
       "<div>\n",
       "<style scoped>\n",
       "    .dataframe tbody tr th:only-of-type {\n",
       "        vertical-align: middle;\n",
       "    }\n",
       "\n",
       "    .dataframe tbody tr th {\n",
       "        vertical-align: top;\n",
       "    }\n",
       "\n",
       "    .dataframe thead th {\n",
       "        text-align: right;\n",
       "    }\n",
       "</style>\n",
       "<table border=\"1\" class=\"dataframe\">\n",
       "  <thead>\n",
       "    <tr style=\"text-align: right;\">\n",
       "      <th></th>\n",
       "      <th></th>\n",
       "      <th>EF</th>\n",
       "      <th>Verified_EF</th>\n",
       "      <th>EF_round_in_kwh</th>\n",
       "    </tr>\n",
       "    <tr>\n",
       "      <th>MapCode</th>\n",
       "      <th>ProductionTypeName</th>\n",
       "      <th></th>\n",
       "      <th></th>\n",
       "      <th></th>\n",
       "    </tr>\n",
       "  </thead>\n",
       "  <tbody>\n",
       "    <tr>\n",
       "      <th rowspan=\"2\" valign=\"top\">AT</th>\n",
       "      <th>gas</th>\n",
       "      <td>0.288711</td>\n",
       "      <td>True</td>\n",
       "      <td>288.71</td>\n",
       "    </tr>\n",
       "    <tr>\n",
       "      <th>hard_coal</th>\n",
       "      <td>0.884070</td>\n",
       "      <td>True</td>\n",
       "      <td>884.07</td>\n",
       "    </tr>\n",
       "    <tr>\n",
       "      <th>BE</th>\n",
       "      <th>gas</th>\n",
       "      <td>0.389641</td>\n",
       "      <td>True</td>\n",
       "      <td>389.64</td>\n",
       "    </tr>\n",
       "    <tr>\n",
       "      <th rowspan=\"2\" valign=\"top\">CZ</th>\n",
       "      <th>hard_coal</th>\n",
       "      <td>0.985546</td>\n",
       "      <td>True</td>\n",
       "      <td>985.55</td>\n",
       "    </tr>\n",
       "    <tr>\n",
       "      <th>lignite</th>\n",
       "      <td>0.928296</td>\n",
       "      <td>True</td>\n",
       "      <td>928.30</td>\n",
       "    </tr>\n",
       "    <tr>\n",
       "      <th rowspan=\"4\" valign=\"top\">DE</th>\n",
       "      <th>gas</th>\n",
       "      <td>0.334091</td>\n",
       "      <td>True</td>\n",
       "      <td>334.09</td>\n",
       "    </tr>\n",
       "    <tr>\n",
       "      <th>hard_coal</th>\n",
       "      <td>0.871051</td>\n",
       "      <td>True</td>\n",
       "      <td>871.05</td>\n",
       "    </tr>\n",
       "    <tr>\n",
       "      <th>lignite</th>\n",
       "      <td>1.125560</td>\n",
       "      <td>True</td>\n",
       "      <td>1125.56</td>\n",
       "    </tr>\n",
       "    <tr>\n",
       "      <th>other_fossil</th>\n",
       "      <td>1.619695</td>\n",
       "      <td>True</td>\n",
       "      <td>1619.69</td>\n",
       "    </tr>\n",
       "    <tr>\n",
       "      <th>DK</th>\n",
       "      <th>gas</th>\n",
       "      <td>0.329783</td>\n",
       "      <td>False</td>\n",
       "      <td>329.78</td>\n",
       "    </tr>\n",
       "  </tbody>\n",
       "</table>\n",
       "</div>"
      ],
      "text/plain": [
       "                                  EF Verified_EF  EF_round_in_kwh\n",
       "MapCode ProductionTypeName                                       \n",
       "AT      gas                 0.288711        True           288.71\n",
       "        hard_coal           0.884070        True           884.07\n",
       "BE      gas                 0.389641        True           389.64\n",
       "CZ      hard_coal           0.985546        True           985.55\n",
       "        lignite             0.928296        True           928.30\n",
       "DE      gas                 0.334091        True           334.09\n",
       "        hard_coal           0.871051        True           871.05\n",
       "        lignite             1.125560        True          1125.56\n",
       "        other_fossil        1.619695        True          1619.69\n",
       "DK      gas                 0.329783       False           329.78"
      ]
     },
     "execution_count": 8,
     "metadata": {},
     "output_type": "execute_result"
    }
   ],
   "source": [
    "EF.head(10)"
   ]
  },
  {
   "cell_type": "markdown",
   "metadata": {},
   "source": [
    "# ENTSO-E generation per technology CI"
   ]
  },
  {
   "cell_type": "markdown",
   "metadata": {},
   "source": [
    "In this section we using the country specific EF for generating the CI for all EU countries. The production data are based on the production per type data from ENTSO-E"
   ]
  },
  {
   "cell_type": "code",
   "execution_count": 9,
   "metadata": {},
   "outputs": [
    {
     "data": {
      "text/plain": [
       "variable\n",
       "biomass           17900.0\n",
       "gas              129900.0\n",
       "hard_coal         16800.0\n",
       "hydro              5900.0\n",
       "nuclear           60700.0\n",
       "other_fossil          0.0\n",
       "solar             11800.0\n",
       "wind_offshore     16700.0\n",
       "wind_onshore      25600.0\n",
       "dtype: float64"
      ]
     },
     "execution_count": 9,
     "metadata": {},
     "output_type": "execute_result"
    }
   ],
   "source": [
    "# take a look at the generation data\n",
    "entsoe_gen_type['GB'].sum()/1000"
   ]
  },
  {
   "cell_type": "markdown",
   "metadata": {},
   "source": [
    "## EF preparation "
   ]
  },
  {
   "cell_type": "code",
   "execution_count": 10,
   "metadata": {},
   "outputs": [
    {
     "name": "stdout",
     "output_type": "stream",
     "text": [
      "{'gas': 0.3665166624413151, 'hard_coal': 0.9088482292089693, 'lignite': 1.180877690651492, 'other_fossil': 0.75}\n"
     ]
    }
   ],
   "source": [
    "# Mean EF for all calculated countries and technologies\n",
    "\n",
    "EF_mean = EF.groupby('ProductionTypeName').mean()\n",
    "# using a mean EF for other fossil of 0.75 because we are covering only some countries with other fossils and the resulting EF is over 1.0\n",
    "EF_mean.loc['other_fossil'] = 0.75\n",
    "EF_mean = EF_mean.EF.to_dict()\n",
    "\n",
    "\n",
    "print(EF_mean)"
   ]
  },
  {
   "cell_type": "code",
   "execution_count": 11,
   "metadata": {},
   "outputs": [],
   "source": [
    "# If no country-specific EFs are available and also no mean EF is available for a country and technology, we use the following EFs. Source:\n",
    "\n",
    "EF_default = {'biomass':0,\n",
    "            'geothermal':0,\n",
    "            'hydro':0,\n",
    "            'nuclear':0,\n",
    "            'oil':0.8,\n",
    "            'other_renewable':0,\n",
    "            'solar':0,\n",
    "            'waste':0.5,\n",
    "            'wind_offshore':0,\n",
    "            'wind_onshore':0,\n",
    "            'marine':0,\n",
    "            'oil shale':0.51,\n",
    "            'other_fossil': 0.75}\n"
   ]
  },
  {
   "cell_type": "code",
   "execution_count": 12,
   "metadata": {},
   "outputs": [],
   "source": [
    "# Create a dataframe with the EF for each country and technology. If no specific EF is available, we use the default EF .\n",
    "EF_multi = {}\n",
    "\n",
    "for i in entsoe_gen_type.columns:\n",
    "    if i in EF:\n",
    "        EF_multi[i] = EF[i]\n",
    "    elif i[1] in EF_mean:\n",
    "        EF_multi[i] = EF_mean[i[1]]\n",
    "    else:\n",
    "        EF_multi[i] = EF_default[i[1]]"
   ]
  },
  {
   "cell_type": "code",
   "execution_count": 13,
   "metadata": {},
   "outputs": [],
   "source": [
    "# calculate emissions based on EF and generation per type\n",
    "CO2_emission_entsoe_gen_type = entsoe_gen_type * EF_multi"
   ]
  },
  {
   "cell_type": "code",
   "execution_count": 14,
   "metadata": {},
   "outputs": [],
   "source": [
    "# From the previously calculated emissions, an emission signal (g CO2 / kWh) can now be calculated for each country.\n",
    "# Since emissions and generation are available per technology, they must first be grouped and summed. \n",
    "\n",
    "# Emission in g CO2\n",
    "CO2_emission = (CO2_emission_entsoe_gen_type * 1000000).groupby(level=0, axis=1).sum()\n",
    "# generation in kWh\n",
    "Generation = (entsoe_gen_type * 1000).groupby(level=0, axis=1).sum()\n",
    "\n",
    "# CI in g CO2/kWh\n",
    "Carbon_intensitiy_entsoe_gen_type = CO2_emission.div(Generation)"
   ]
  },
  {
   "cell_type": "code",
   "execution_count": 15,
   "metadata": {},
   "outputs": [
    {
     "data": {
      "text/html": [
       "<div>\n",
       "<style scoped>\n",
       "    .dataframe tbody tr th:only-of-type {\n",
       "        vertical-align: middle;\n",
       "    }\n",
       "\n",
       "    .dataframe tbody tr th {\n",
       "        vertical-align: top;\n",
       "    }\n",
       "\n",
       "    .dataframe thead th {\n",
       "        text-align: right;\n",
       "    }\n",
       "</style>\n",
       "<table border=\"1\" class=\"dataframe\">\n",
       "  <thead>\n",
       "    <tr style=\"text-align: right;\">\n",
       "      <th>region</th>\n",
       "      <th>AT</th>\n",
       "      <th>BE</th>\n",
       "      <th>BG</th>\n",
       "      <th>CH</th>\n",
       "      <th>CY</th>\n",
       "      <th>CZ</th>\n",
       "      <th>DE</th>\n",
       "      <th>DE_50hertz</th>\n",
       "      <th>DE_LU</th>\n",
       "      <th>DE_amprion</th>\n",
       "      <th>...</th>\n",
       "      <th>PT</th>\n",
       "      <th>RO</th>\n",
       "      <th>RS</th>\n",
       "      <th>SE</th>\n",
       "      <th>SE_1</th>\n",
       "      <th>SE_2</th>\n",
       "      <th>SE_3</th>\n",
       "      <th>SE_4</th>\n",
       "      <th>SI</th>\n",
       "      <th>SK</th>\n",
       "    </tr>\n",
       "    <tr>\n",
       "      <th>utc_timestamp</th>\n",
       "      <th></th>\n",
       "      <th></th>\n",
       "      <th></th>\n",
       "      <th></th>\n",
       "      <th></th>\n",
       "      <th></th>\n",
       "      <th></th>\n",
       "      <th></th>\n",
       "      <th></th>\n",
       "      <th></th>\n",
       "      <th></th>\n",
       "      <th></th>\n",
       "      <th></th>\n",
       "      <th></th>\n",
       "      <th></th>\n",
       "      <th></th>\n",
       "      <th></th>\n",
       "      <th></th>\n",
       "      <th></th>\n",
       "      <th></th>\n",
       "      <th></th>\n",
       "    </tr>\n",
       "  </thead>\n",
       "  <tbody>\n",
       "    <tr>\n",
       "      <th>2018-01-01 00:00:00+00:00</th>\n",
       "      <td>96.245777</td>\n",
       "      <td>83.406769</td>\n",
       "      <td>445.827602</td>\n",
       "      <td>0.0</td>\n",
       "      <td>714.497120</td>\n",
       "      <td>483.588247</td>\n",
       "      <td>206.008262</td>\n",
       "      <td>282.493536</td>\n",
       "      <td>NaN</td>\n",
       "      <td>347.767242</td>\n",
       "      <td>...</td>\n",
       "      <td>133.707935</td>\n",
       "      <td>374.099352</td>\n",
       "      <td>879.225413</td>\n",
       "      <td>11.317237</td>\n",
       "      <td>0.0</td>\n",
       "      <td>0.0</td>\n",
       "      <td>0.0</td>\n",
       "      <td>0.0</td>\n",
       "      <td>259.008510</td>\n",
       "      <td>153.392147</td>\n",
       "    </tr>\n",
       "    <tr>\n",
       "      <th>2018-01-01 01:00:00+00:00</th>\n",
       "      <td>95.775234</td>\n",
       "      <td>87.731986</td>\n",
       "      <td>446.001878</td>\n",
       "      <td>0.0</td>\n",
       "      <td>706.883241</td>\n",
       "      <td>480.349661</td>\n",
       "      <td>204.749608</td>\n",
       "      <td>280.818436</td>\n",
       "      <td>NaN</td>\n",
       "      <td>345.770573</td>\n",
       "      <td>...</td>\n",
       "      <td>138.154869</td>\n",
       "      <td>364.935210</td>\n",
       "      <td>902.858444</td>\n",
       "      <td>11.431386</td>\n",
       "      <td>0.0</td>\n",
       "      <td>0.0</td>\n",
       "      <td>0.0</td>\n",
       "      <td>0.0</td>\n",
       "      <td>253.442024</td>\n",
       "      <td>152.184621</td>\n",
       "    </tr>\n",
       "    <tr>\n",
       "      <th>2018-01-01 02:00:00+00:00</th>\n",
       "      <td>102.458141</td>\n",
       "      <td>91.733857</td>\n",
       "      <td>446.860983</td>\n",
       "      <td>0.0</td>\n",
       "      <td>669.643451</td>\n",
       "      <td>476.908153</td>\n",
       "      <td>201.544742</td>\n",
       "      <td>283.880736</td>\n",
       "      <td>NaN</td>\n",
       "      <td>346.995886</td>\n",
       "      <td>...</td>\n",
       "      <td>129.603411</td>\n",
       "      <td>383.590409</td>\n",
       "      <td>909.342872</td>\n",
       "      <td>10.624402</td>\n",
       "      <td>0.0</td>\n",
       "      <td>0.0</td>\n",
       "      <td>0.0</td>\n",
       "      <td>0.0</td>\n",
       "      <td>235.192277</td>\n",
       "      <td>146.707846</td>\n",
       "    </tr>\n",
       "    <tr>\n",
       "      <th>2018-01-01 03:00:00+00:00</th>\n",
       "      <td>107.860447</td>\n",
       "      <td>91.111598</td>\n",
       "      <td>446.377176</td>\n",
       "      <td>0.0</td>\n",
       "      <td>668.807796</td>\n",
       "      <td>479.848593</td>\n",
       "      <td>202.174091</td>\n",
       "      <td>279.689209</td>\n",
       "      <td>NaN</td>\n",
       "      <td>349.444901</td>\n",
       "      <td>...</td>\n",
       "      <td>134.892045</td>\n",
       "      <td>393.300909</td>\n",
       "      <td>890.098963</td>\n",
       "      <td>10.655589</td>\n",
       "      <td>0.0</td>\n",
       "      <td>0.0</td>\n",
       "      <td>0.0</td>\n",
       "      <td>0.0</td>\n",
       "      <td>242.335607</td>\n",
       "      <td>137.265972</td>\n",
       "    </tr>\n",
       "    <tr>\n",
       "      <th>2018-01-01 04:00:00+00:00</th>\n",
       "      <td>106.579828</td>\n",
       "      <td>91.502021</td>\n",
       "      <td>447.662192</td>\n",
       "      <td>0.0</td>\n",
       "      <td>701.969841</td>\n",
       "      <td>486.076098</td>\n",
       "      <td>200.245924</td>\n",
       "      <td>278.638089</td>\n",
       "      <td>NaN</td>\n",
       "      <td>347.130527</td>\n",
       "      <td>...</td>\n",
       "      <td>135.347004</td>\n",
       "      <td>397.361279</td>\n",
       "      <td>906.729967</td>\n",
       "      <td>10.544596</td>\n",
       "      <td>0.0</td>\n",
       "      <td>0.0</td>\n",
       "      <td>0.0</td>\n",
       "      <td>0.0</td>\n",
       "      <td>244.202129</td>\n",
       "      <td>140.095207</td>\n",
       "    </tr>\n",
       "  </tbody>\n",
       "</table>\n",
       "<p>5 rows × 59 columns</p>\n",
       "</div>"
      ],
      "text/plain": [
       "region                             AT         BE          BG   CH          CY  \\\n",
       "utc_timestamp                                                                   \n",
       "2018-01-01 00:00:00+00:00   96.245777  83.406769  445.827602  0.0  714.497120   \n",
       "2018-01-01 01:00:00+00:00   95.775234  87.731986  446.001878  0.0  706.883241   \n",
       "2018-01-01 02:00:00+00:00  102.458141  91.733857  446.860983  0.0  669.643451   \n",
       "2018-01-01 03:00:00+00:00  107.860447  91.111598  446.377176  0.0  668.807796   \n",
       "2018-01-01 04:00:00+00:00  106.579828  91.502021  447.662192  0.0  701.969841   \n",
       "\n",
       "region                             CZ          DE  DE_50hertz  DE_LU  \\\n",
       "utc_timestamp                                                          \n",
       "2018-01-01 00:00:00+00:00  483.588247  206.008262  282.493536    NaN   \n",
       "2018-01-01 01:00:00+00:00  480.349661  204.749608  280.818436    NaN   \n",
       "2018-01-01 02:00:00+00:00  476.908153  201.544742  283.880736    NaN   \n",
       "2018-01-01 03:00:00+00:00  479.848593  202.174091  279.689209    NaN   \n",
       "2018-01-01 04:00:00+00:00  486.076098  200.245924  278.638089    NaN   \n",
       "\n",
       "region                     DE_amprion  ...          PT          RO  \\\n",
       "utc_timestamp                          ...                           \n",
       "2018-01-01 00:00:00+00:00  347.767242  ...  133.707935  374.099352   \n",
       "2018-01-01 01:00:00+00:00  345.770573  ...  138.154869  364.935210   \n",
       "2018-01-01 02:00:00+00:00  346.995886  ...  129.603411  383.590409   \n",
       "2018-01-01 03:00:00+00:00  349.444901  ...  134.892045  393.300909   \n",
       "2018-01-01 04:00:00+00:00  347.130527  ...  135.347004  397.361279   \n",
       "\n",
       "region                             RS         SE  SE_1  SE_2  SE_3  SE_4  \\\n",
       "utc_timestamp                                                              \n",
       "2018-01-01 00:00:00+00:00  879.225413  11.317237   0.0   0.0   0.0   0.0   \n",
       "2018-01-01 01:00:00+00:00  902.858444  11.431386   0.0   0.0   0.0   0.0   \n",
       "2018-01-01 02:00:00+00:00  909.342872  10.624402   0.0   0.0   0.0   0.0   \n",
       "2018-01-01 03:00:00+00:00  890.098963  10.655589   0.0   0.0   0.0   0.0   \n",
       "2018-01-01 04:00:00+00:00  906.729967  10.544596   0.0   0.0   0.0   0.0   \n",
       "\n",
       "region                             SI          SK  \n",
       "utc_timestamp                                      \n",
       "2018-01-01 00:00:00+00:00  259.008510  153.392147  \n",
       "2018-01-01 01:00:00+00:00  253.442024  152.184621  \n",
       "2018-01-01 02:00:00+00:00  235.192277  146.707846  \n",
       "2018-01-01 03:00:00+00:00  242.335607  137.265972  \n",
       "2018-01-01 04:00:00+00:00  244.202129  140.095207  \n",
       "\n",
       "[5 rows x 59 columns]"
      ]
     },
     "execution_count": 15,
     "metadata": {},
     "output_type": "execute_result"
    }
   ],
   "source": [
    "Carbon_intensitiy_entsoe_gen_type.head(5)"
   ]
  },
  {
   "cell_type": "code",
   "execution_count": 16,
   "metadata": {},
   "outputs": [],
   "source": [
    "mean_Carbon_intensitiy_entsoe_gen_type = CO2_emission.sum() / Generation.sum()"
   ]
  },
  {
   "cell_type": "code",
   "execution_count": 17,
   "metadata": {},
   "outputs": [],
   "source": [
    "Carbon_intensitiy_entsoe_gen_type_mean = Carbon_intensitiy_entsoe_gen_type.copy()\n"
   ]
  },
  {
   "cell_type": "code",
   "execution_count": 18,
   "metadata": {},
   "outputs": [],
   "source": [
    "for i in Carbon_intensitiy_entsoe_gen_type_mean.columns:\n",
    "    Carbon_intensitiy_entsoe_gen_type_mean[i] = mean_Carbon_intensitiy_entsoe_gen_type[i]"
   ]
  },
  {
   "cell_type": "code",
   "execution_count": 19,
   "metadata": {},
   "outputs": [
    {
     "data": {
      "text/html": [
       "<div>\n",
       "<style scoped>\n",
       "    .dataframe tbody tr th:only-of-type {\n",
       "        vertical-align: middle;\n",
       "    }\n",
       "\n",
       "    .dataframe tbody tr th {\n",
       "        vertical-align: top;\n",
       "    }\n",
       "\n",
       "    .dataframe thead th {\n",
       "        text-align: right;\n",
       "    }\n",
       "</style>\n",
       "<table border=\"1\" class=\"dataframe\">\n",
       "  <thead>\n",
       "    <tr style=\"text-align: right;\">\n",
       "      <th>region</th>\n",
       "      <th>AT</th>\n",
       "      <th>BE</th>\n",
       "      <th>BG</th>\n",
       "      <th>CH</th>\n",
       "      <th>CY</th>\n",
       "      <th>CZ</th>\n",
       "      <th>DE</th>\n",
       "      <th>DE_50hertz</th>\n",
       "      <th>DE_LU</th>\n",
       "      <th>DE_amprion</th>\n",
       "      <th>...</th>\n",
       "      <th>PT</th>\n",
       "      <th>RO</th>\n",
       "      <th>RS</th>\n",
       "      <th>SE</th>\n",
       "      <th>SE_1</th>\n",
       "      <th>SE_2</th>\n",
       "      <th>SE_3</th>\n",
       "      <th>SE_4</th>\n",
       "      <th>SI</th>\n",
       "      <th>SK</th>\n",
       "    </tr>\n",
       "    <tr>\n",
       "      <th>utc_timestamp</th>\n",
       "      <th></th>\n",
       "      <th></th>\n",
       "      <th></th>\n",
       "      <th></th>\n",
       "      <th></th>\n",
       "      <th></th>\n",
       "      <th></th>\n",
       "      <th></th>\n",
       "      <th></th>\n",
       "      <th></th>\n",
       "      <th></th>\n",
       "      <th></th>\n",
       "      <th></th>\n",
       "      <th></th>\n",
       "      <th></th>\n",
       "      <th></th>\n",
       "      <th></th>\n",
       "      <th></th>\n",
       "      <th></th>\n",
       "      <th></th>\n",
       "      <th></th>\n",
       "    </tr>\n",
       "  </thead>\n",
       "  <tbody>\n",
       "    <tr>\n",
       "      <th>2018-01-01 00:00:00+00:00</th>\n",
       "      <td>131.671626</td>\n",
       "      <td>153.16669</td>\n",
       "      <td>487.870071</td>\n",
       "      <td>0.0</td>\n",
       "      <td>720.0</td>\n",
       "      <td>564.572184</td>\n",
       "      <td>442.410062</td>\n",
       "      <td>624.434392</td>\n",
       "      <td>432.467503</td>\n",
       "      <td>620.660345</td>\n",
       "      <td>...</td>\n",
       "      <td>282.446654</td>\n",
       "      <td>325.997145</td>\n",
       "      <td>841.923201</td>\n",
       "      <td>8.787043</td>\n",
       "      <td>0.0</td>\n",
       "      <td>0.0</td>\n",
       "      <td>0.0</td>\n",
       "      <td>0.0</td>\n",
       "      <td>329.900718</td>\n",
       "      <td>156.04373</td>\n",
       "    </tr>\n",
       "    <tr>\n",
       "      <th>2018-01-01 01:00:00+00:00</th>\n",
       "      <td>131.671626</td>\n",
       "      <td>153.16669</td>\n",
       "      <td>487.870071</td>\n",
       "      <td>0.0</td>\n",
       "      <td>720.0</td>\n",
       "      <td>564.572184</td>\n",
       "      <td>442.410062</td>\n",
       "      <td>624.434392</td>\n",
       "      <td>432.467503</td>\n",
       "      <td>620.660345</td>\n",
       "      <td>...</td>\n",
       "      <td>282.446654</td>\n",
       "      <td>325.997145</td>\n",
       "      <td>841.923201</td>\n",
       "      <td>8.787043</td>\n",
       "      <td>0.0</td>\n",
       "      <td>0.0</td>\n",
       "      <td>0.0</td>\n",
       "      <td>0.0</td>\n",
       "      <td>329.900718</td>\n",
       "      <td>156.04373</td>\n",
       "    </tr>\n",
       "    <tr>\n",
       "      <th>2018-01-01 02:00:00+00:00</th>\n",
       "      <td>131.671626</td>\n",
       "      <td>153.16669</td>\n",
       "      <td>487.870071</td>\n",
       "      <td>0.0</td>\n",
       "      <td>720.0</td>\n",
       "      <td>564.572184</td>\n",
       "      <td>442.410062</td>\n",
       "      <td>624.434392</td>\n",
       "      <td>432.467503</td>\n",
       "      <td>620.660345</td>\n",
       "      <td>...</td>\n",
       "      <td>282.446654</td>\n",
       "      <td>325.997145</td>\n",
       "      <td>841.923201</td>\n",
       "      <td>8.787043</td>\n",
       "      <td>0.0</td>\n",
       "      <td>0.0</td>\n",
       "      <td>0.0</td>\n",
       "      <td>0.0</td>\n",
       "      <td>329.900718</td>\n",
       "      <td>156.04373</td>\n",
       "    </tr>\n",
       "    <tr>\n",
       "      <th>2018-01-01 03:00:00+00:00</th>\n",
       "      <td>131.671626</td>\n",
       "      <td>153.16669</td>\n",
       "      <td>487.870071</td>\n",
       "      <td>0.0</td>\n",
       "      <td>720.0</td>\n",
       "      <td>564.572184</td>\n",
       "      <td>442.410062</td>\n",
       "      <td>624.434392</td>\n",
       "      <td>432.467503</td>\n",
       "      <td>620.660345</td>\n",
       "      <td>...</td>\n",
       "      <td>282.446654</td>\n",
       "      <td>325.997145</td>\n",
       "      <td>841.923201</td>\n",
       "      <td>8.787043</td>\n",
       "      <td>0.0</td>\n",
       "      <td>0.0</td>\n",
       "      <td>0.0</td>\n",
       "      <td>0.0</td>\n",
       "      <td>329.900718</td>\n",
       "      <td>156.04373</td>\n",
       "    </tr>\n",
       "    <tr>\n",
       "      <th>2018-01-01 04:00:00+00:00</th>\n",
       "      <td>131.671626</td>\n",
       "      <td>153.16669</td>\n",
       "      <td>487.870071</td>\n",
       "      <td>0.0</td>\n",
       "      <td>720.0</td>\n",
       "      <td>564.572184</td>\n",
       "      <td>442.410062</td>\n",
       "      <td>624.434392</td>\n",
       "      <td>432.467503</td>\n",
       "      <td>620.660345</td>\n",
       "      <td>...</td>\n",
       "      <td>282.446654</td>\n",
       "      <td>325.997145</td>\n",
       "      <td>841.923201</td>\n",
       "      <td>8.787043</td>\n",
       "      <td>0.0</td>\n",
       "      <td>0.0</td>\n",
       "      <td>0.0</td>\n",
       "      <td>0.0</td>\n",
       "      <td>329.900718</td>\n",
       "      <td>156.04373</td>\n",
       "    </tr>\n",
       "  </tbody>\n",
       "</table>\n",
       "<p>5 rows × 59 columns</p>\n",
       "</div>"
      ],
      "text/plain": [
       "region                             AT         BE          BG   CH     CY  \\\n",
       "utc_timestamp                                                              \n",
       "2018-01-01 00:00:00+00:00  131.671626  153.16669  487.870071  0.0  720.0   \n",
       "2018-01-01 01:00:00+00:00  131.671626  153.16669  487.870071  0.0  720.0   \n",
       "2018-01-01 02:00:00+00:00  131.671626  153.16669  487.870071  0.0  720.0   \n",
       "2018-01-01 03:00:00+00:00  131.671626  153.16669  487.870071  0.0  720.0   \n",
       "2018-01-01 04:00:00+00:00  131.671626  153.16669  487.870071  0.0  720.0   \n",
       "\n",
       "region                             CZ          DE  DE_50hertz       DE_LU  \\\n",
       "utc_timestamp                                                               \n",
       "2018-01-01 00:00:00+00:00  564.572184  442.410062  624.434392  432.467503   \n",
       "2018-01-01 01:00:00+00:00  564.572184  442.410062  624.434392  432.467503   \n",
       "2018-01-01 02:00:00+00:00  564.572184  442.410062  624.434392  432.467503   \n",
       "2018-01-01 03:00:00+00:00  564.572184  442.410062  624.434392  432.467503   \n",
       "2018-01-01 04:00:00+00:00  564.572184  442.410062  624.434392  432.467503   \n",
       "\n",
       "region                     DE_amprion  ...          PT          RO  \\\n",
       "utc_timestamp                          ...                           \n",
       "2018-01-01 00:00:00+00:00  620.660345  ...  282.446654  325.997145   \n",
       "2018-01-01 01:00:00+00:00  620.660345  ...  282.446654  325.997145   \n",
       "2018-01-01 02:00:00+00:00  620.660345  ...  282.446654  325.997145   \n",
       "2018-01-01 03:00:00+00:00  620.660345  ...  282.446654  325.997145   \n",
       "2018-01-01 04:00:00+00:00  620.660345  ...  282.446654  325.997145   \n",
       "\n",
       "region                             RS        SE  SE_1  SE_2  SE_3  SE_4  \\\n",
       "utc_timestamp                                                             \n",
       "2018-01-01 00:00:00+00:00  841.923201  8.787043   0.0   0.0   0.0   0.0   \n",
       "2018-01-01 01:00:00+00:00  841.923201  8.787043   0.0   0.0   0.0   0.0   \n",
       "2018-01-01 02:00:00+00:00  841.923201  8.787043   0.0   0.0   0.0   0.0   \n",
       "2018-01-01 03:00:00+00:00  841.923201  8.787043   0.0   0.0   0.0   0.0   \n",
       "2018-01-01 04:00:00+00:00  841.923201  8.787043   0.0   0.0   0.0   0.0   \n",
       "\n",
       "region                             SI         SK  \n",
       "utc_timestamp                                     \n",
       "2018-01-01 00:00:00+00:00  329.900718  156.04373  \n",
       "2018-01-01 01:00:00+00:00  329.900718  156.04373  \n",
       "2018-01-01 02:00:00+00:00  329.900718  156.04373  \n",
       "2018-01-01 03:00:00+00:00  329.900718  156.04373  \n",
       "2018-01-01 04:00:00+00:00  329.900718  156.04373  \n",
       "\n",
       "[5 rows x 59 columns]"
      ]
     },
     "execution_count": 19,
     "metadata": {},
     "output_type": "execute_result"
    }
   ],
   "source": [
    "Carbon_intensitiy_entsoe_gen_type_mean.head()"
   ]
  },
  {
   "cell_type": "markdown",
   "metadata": {},
   "source": [
    "## Plots"
   ]
  },
  {
   "cell_type": "markdown",
   "metadata": {},
   "source": [
    "# Compair Bottom Up and Top down"
   ]
  },
  {
   "cell_type": "code",
   "execution_count": 20,
   "metadata": {},
   "outputs": [],
   "source": [
    "CI_1_top_down = pd.read_csv(os.path.join(processed_directory_path,'CI_1_top_down.csv'), index_col=0)\n",
    "CI_0_top_down = pd.read_csv(os.path.join(processed_directory_path,'CI_0_top_down.csv'), index_col=0)\n",
    "\n",
    "\n",
    "#CI_top_down.rename(columns={'UK':'GB'}, inplace = True)"
   ]
  },
  {
   "cell_type": "code",
   "execution_count": 21,
   "metadata": {},
   "outputs": [],
   "source": [
    "CI_compar = pd.DataFrame()\n",
    "CI_compar.index.rename('country',inplace=True)"
   ]
  },
  {
   "cell_type": "code",
   "execution_count": 22,
   "metadata": {},
   "outputs": [
    {
     "data": {
      "text/plain": [
       "Index([], dtype='object', name='country')"
      ]
     },
     "execution_count": 22,
     "metadata": {},
     "output_type": "execute_result"
    }
   ],
   "source": [
    "CI_compar.index"
   ]
  },
  {
   "cell_type": "code",
   "execution_count": null,
   "metadata": {},
   "outputs": [],
   "source": [
    "CI_compar['CI_1_top_down'] = CI_1_top_down.loc[2018].filter(mean_Carbon_intensitiy_entsoe_gen_type.index.to_list())"
   ]
  },
  {
   "cell_type": "code",
   "execution_count": null,
   "metadata": {},
   "outputs": [],
   "source": [
    "CI_compar['CI_0_top_down'] = CI_0_top_down.loc[2018].filter(mean_Carbon_intensitiy_entsoe_gen_type.index.to_list())"
   ]
  },
  {
   "cell_type": "code",
   "execution_count": null,
   "metadata": {},
   "outputs": [],
   "source": [
    "CI_compar['CI_bottom_up'] = mean_Carbon_intensitiy_entsoe_gen_type.filter(CI_compar.index.to_list())\n",
    "\n",
    "CI_compar['diff_bottom_up_vs_CI_0_top_down'] =CI_compar['CI_bottom_up'] -  CI_compar['CI_0_top_down']\n",
    "CI_compar['diff_pro_0'] = round((100 / CI_compar['CI_bottom_up']) * CI_compar['diff_bottom_up_vs_CI_0_top_down'])\n",
    "\n",
    "CI_compar['diff_bottom_up_vs_CI_1_top_down'] =CI_compar['CI_bottom_up'] -  CI_compar['CI_1_top_down']\n",
    "CI_compar['diff_pro_1'] = round((100 / CI_compar['CI_bottom_up']) * CI_compar['diff_bottom_up_vs_CI_1_top_down'])"
   ]
  },
  {
   "cell_type": "code",
   "execution_count": null,
   "metadata": {},
   "outputs": [],
   "source": [
    "round(CI_compar, 2).sort_values(by='diff_pro_1')"
   ]
  },
  {
   "cell_type": "code",
   "execution_count": null,
   "metadata": {},
   "outputs": [],
   "source": [
    "round(CI_compar, 2).to_csv(output_directory_path + '/CI_table.csv')"
   ]
  },
  {
   "cell_type": "markdown",
   "metadata": {},
   "source": [
    "# ENTSO-E Power Stats generation per technology CO2 Signal"
   ]
  },
  {
   "cell_type": "code",
   "execution_count": null,
   "metadata": {},
   "outputs": [],
   "source": [
    "MDV = pd.read_csv(input_directory_path + '/MDV_table.csv', index_col=[0], header=[0, 1], parse_dates=True)"
   ]
  },
  {
   "cell_type": "code",
   "execution_count": null,
   "metadata": {},
   "outputs": [],
   "source": [
    "MDV.loc['2018'].head(5)"
   ]
  },
  {
   "cell_type": "code",
   "execution_count": null,
   "metadata": {},
   "outputs": [],
   "source": [
    "# convert to MWh\n",
    "MDV = MDV * 1000"
   ]
  },
  {
   "cell_type": "code",
   "execution_count": null,
   "metadata": {},
   "outputs": [],
   "source": [
    "# Create a dataframe with the EF for each country and technology. If no specific EF is available, we use the default EF .\n",
    "EF_multi = {}\n",
    "\n",
    "for i in MDV.columns:\n",
    "    if i in EF:\n",
    "        EF_multi[i] = EF[i]\n",
    "    elif i[1] in EF_mean:\n",
    "        EF_multi[i] = EF_mean[i[1]]\n",
    "    else:\n",
    "        EF_multi[i] = EF_default[i[1]]"
   ]
  },
  {
   "cell_type": "code",
   "execution_count": null,
   "metadata": {},
   "outputs": [],
   "source": [
    "# calculate emissions based on EF and generation per type\n",
    "CO2_emission_MDV = MDV * EF_multi"
   ]
  },
  {
   "cell_type": "code",
   "execution_count": null,
   "metadata": {},
   "outputs": [],
   "source": [
    "# From the previously calculated emissions, an emission signal (g CO2 / kWh) can now be calculated for each country.\n",
    "# Since emissions and generation are available per technology, they must first be grouped and summed. \n",
    "CO2_emission_MDV = (CO2_emission_MDV * 1000000).groupby(level=0, axis=1).sum()\n",
    "Generation_MDV = (MDV * 1000).groupby(level=0, axis=1).sum()\n",
    "\n",
    "Carbon_intensitiy_MDV = CO2_emission_MDV.div(Generation_MDV)"
   ]
  },
  {
   "cell_type": "code",
   "execution_count": null,
   "metadata": {},
   "outputs": [],
   "source": [
    "#take only year 2018\n",
    "Carbon_intensitiy_MDV = Carbon_intensitiy_MDV.loc['2018']"
   ]
  },
  {
   "cell_type": "code",
   "execution_count": null,
   "metadata": {},
   "outputs": [],
   "source": [
    "\n",
    "\n",
    "mean_Carbon_intensitiy_MDV = CO2_emission_MDV.loc['2018'].sum() / Generation_MDV.loc['2018'].sum()"
   ]
  },
  {
   "cell_type": "code",
   "execution_count": null,
   "metadata": {},
   "outputs": [],
   "source": [
    "MDV['DE'].sum().sum()"
   ]
  },
  {
   "cell_type": "markdown",
   "metadata": {},
   "source": [
    "\n",
    "\n",
    "\n",
    "CI_compar['CI_MDV'] = mean_Carbon_intensitiy_MDV\n",
    "CI_compar['CI_FACT'] = mean_Carbon_intensitiy_FACT\n",
    "\n",
    "CI_compar['diff_MDV'] =CI_compar['CI_MDV'] -  CI_compar['CI_top_down_ref']\n",
    "CI_compar['diff_FACT'] =CI_compar['CI_FACT'] -  CI_compar['CI_top_down_ref']\n",
    "\n",
    "\n",
    "CI_compar['diff_MDV_pro'] = round((100 / CI_compar['CI_top_down_ref']) * CI_compar['diff_MDV'])\n",
    "\n",
    "CI_compar['diff_FACT_pro'] = round((100 / CI_compar['CI_top_down_ref']) * CI_compar['diff_FACT'])\n"
   ]
  },
  {
   "cell_type": "markdown",
   "metadata": {},
   "source": [
    "entsoe_gen_type['SE'].sum()/1000"
   ]
  },
  {
   "cell_type": "markdown",
   "metadata": {},
   "source": [
    "mean_Carbon_intensitiy_entsoe_gen_type['SE'].sum()/1000"
   ]
  },
  {
   "cell_type": "markdown",
   "metadata": {},
   "source": [
    "CI_compar\n",
    "#gründe warum CI_bottom up zu hoch\n",
    "# DK wärme wird dort viel von Kraftwerken genutzt\n",
    "# EE hat ganz viel other fossil (wir haben keine EF ausgerechnet)\n",
    "# LT\n",
    "# LV\n",
    "# NO"
   ]
  },
  {
   "cell_type": "markdown",
   "metadata": {},
   "source": [
    "Information about the data shown. The reference value shown here is not an official value, but can be used as a reference, since it is based on a documented and freely available method. "
   ]
  },
  {
   "cell_type": "markdown",
   "metadata": {},
   "source": [
    "energy_comp = pd.DataFrame()\n",
    "\n",
    "energy_comp['MDV'] = MDV['2018'].sum()"
   ]
  },
  {
   "cell_type": "markdown",
   "metadata": {},
   "source": [
    "energy_comp['entsoe'] = entsoe_gen_type.sum()"
   ]
  },
  {
   "cell_type": "markdown",
   "metadata": {},
   "source": [
    "energy_comp['diff'] = energy_comp['MDV'] - energy_comp['entsoe']\n",
    "energy_comp['missing_pro'] = round((100 / energy_comp['MDV']) * energy_comp['diff'])"
   ]
  },
  {
   "cell_type": "markdown",
   "metadata": {},
   "source": [
    "energy_comp.loc['DE']"
   ]
  },
  {
   "cell_type": "markdown",
   "metadata": {},
   "source": [
    "ember_CF = pd.read_csv(os.path.join(input_directory_path,'ember_EF.csv'))"
   ]
  },
  {
   "cell_type": "markdown",
   "metadata": {},
   "source": [
    "# Plotting CI"
   ]
  },
  {
   "cell_type": "markdown",
   "metadata": {},
   "source": [
    "world = gpd.read_file(gpd.datasets.get_path('naturalearth_lowres'))"
   ]
  },
  {
   "cell_type": "markdown",
   "metadata": {},
   "source": [
    "world[world.name == 'Germany']"
   ]
  },
  {
   "cell_type": "markdown",
   "metadata": {},
   "source": [
    "import pycountry\n",
    "\n"
   ]
  },
  {
   "cell_type": "markdown",
   "metadata": {},
   "source": [
    "pycountry.countries.search_fuzzy('Norway')"
   ]
  },
  {
   "cell_type": "markdown",
   "metadata": {},
   "source": [
    "import numpy as np\n",
    "\n",
    "\n",
    "def do_fuzzy_search(country):\n",
    "    try:\n",
    "        result = pycountry.countries.search_fuzzy(country)\n",
    "        return result[0].alpha_2\n",
    "    except:\n",
    "        return np.nan\n",
    "\n",
    "world[\"country_code\"] = world[\"name\"].apply(lambda country: do_fuzzy_search(country))"
   ]
  },
  {
   "cell_type": "markdown",
   "metadata": {},
   "source": [
    "world.set_index('country_code', inplace=True)"
   ]
  },
  {
   "cell_type": "markdown",
   "metadata": {},
   "source": []
  },
  {
   "cell_type": "markdown",
   "metadata": {},
   "source": [
    "world['CI'] = Carbon_intensitiy_entsoe_gen_type.mean()"
   ]
  },
  {
   "cell_type": "markdown",
   "metadata": {},
   "source": [
    "world[world.name == 'France']"
   ]
  },
  {
   "cell_type": "markdown",
   "metadata": {},
   "source": [
    "world.plot(column='CI')"
   ]
  },
  {
   "cell_type": "markdown",
   "metadata": {},
   "source": [
    "from mpl_toolkits.axes_grid1 import make_axes_locatable\n",
    "\n",
    "fig, ax = plt.subplots(1, 1)\n",
    "\n",
    "fig.suptitle(\"Density difference plot for \" + country, fontsize=16)\n",
    "\n",
    "divider = make_axes_locatable(ax)\n",
    "\n",
    "cax = divider.append_axes(\"right\", size=\"5%\", pad=0.1)\n",
    "\n",
    "world.plot(column='CI',\n",
    "           ax=ax,\n",
    "           cax=cax,\n",
    "           legend=True,\n",
    "           legend_kwds={'label': \"Capacity density diff per NUTS region [MW/km²]\", 'orientation': \"vertical\"},\n",
    "           cmap='Blues',\n",
    "           edgecolor='k')\n",
    "\n",
    "\n",
    "ax.text(0.05, 0.05,'Mean Cap. difference ' + str(round(world.CI.mean())) + ' [MW]',\\\n",
    "        ha='left', va='center', transform=ax.transAxes, fontsize=15, color='white',\\\n",
    "        bbox={'facecolor': 'royalblue', 'alpha': 0.5, 'pad': 5})\n",
    "\n",
    "ax.title.set_text('Density difference plot for capacities in the NUTS regions')\n"
   ]
  },
  {
   "cell_type": "markdown",
   "metadata": {},
   "source": [
    "# Export final CO2 signals"
   ]
  },
  {
   "cell_type": "markdown",
   "metadata": {},
   "source": [
    "Carbon_intensitiy_entsoe_gen_type.to_csv(processed_directory_path + '/CI_bottom_up_methode.csv')\n",
    "Carbon_intensitiy_entsoe_gen_type.to_csv(output_directory_path + '/CI_bottom_up_methode.csv')"
   ]
  },
  {
   "cell_type": "markdown",
   "metadata": {},
   "source": [
    "# Plottting "
   ]
  },
  {
   "cell_type": "markdown",
   "metadata": {},
   "source": [
    "CI_compar.index"
   ]
  },
  {
   "cell_type": "markdown",
   "metadata": {},
   "source": [
    "import numpy as np\n",
    "# Create a dataframe\n",
    "#value1=np.random.uniform(size=20)\n",
    "#value2=value1+np.random.uniform(size=20)/4\n",
    "#df = pd.DataFrame({'group':list(map(chr, range(65, 85))), 'value1':value1 , 'value2':value2 })\n",
    "\n",
    "CI_compar\n",
    "\n",
    "# Reorder it following the values of the first value:\n",
    "ordered_df = CI_compar.sort_values(by='CI_bottom_up')\n",
    "my_range=range(1,len(CI_compar.index)+1)\n",
    " \n",
    "# The vertical plot is made using the hline function\n",
    "# I load the seaborn library only to benefit the nice looking feature\n",
    "import seaborn as sns\n",
    "plt.hlines(y=my_range, xmin=ordered_df['CI_top_down_ref'], xmax=ordered_df['CI_bottom_up'], color='grey', alpha=0.4)\n",
    "plt.scatter(ordered_df['CI_top_down_ref'], my_range, color='skyblue', alpha=1, label='CI_top_down_ref')\n",
    "plt.scatter(ordered_df['CI_bottom_up'], my_range, color='green', alpha=0.4 , label='CI_bottom_up')\n",
    "plt.legend()\n",
    " \n",
    "# Add title and axis names\n",
    "plt.yticks(my_range, ordered_df.index)\n",
    "plt.title(\"Comparison of the CI_top_down_ref and the CI_bottom_up\", loc='left')\n",
    "plt.xlabel('Value of the variables')\n",
    "#plt.ylabel(ordered_df.index)"
   ]
  },
  {
   "cell_type": "markdown",
   "metadata": {},
   "source": [
    "df"
   ]
  },
  {
   "cell_type": "markdown",
   "metadata": {},
   "source": []
  }
 ],
 "metadata": {
  "kernelspec": {
   "display_name": "Python 3",
   "language": "python",
   "name": "python3"
  },
  "language_info": {
   "codemirror_mode": {
    "name": "ipython",
    "version": 3
   },
   "file_extension": ".py",
   "mimetype": "text/x-python",
   "name": "python",
   "nbconvert_exporter": "python",
   "pygments_lexer": "ipython3",
   "version": "3.7.9"
  },
  "toc": {
   "base_numbering": 1,
   "nav_menu": {},
   "number_sections": true,
   "sideBar": true,
   "skip_h1_title": false,
   "title_cell": "Table of Contents",
   "title_sidebar": "Contents",
   "toc_cell": true,
   "toc_position": {},
   "toc_section_display": true,
   "toc_window_display": false
  }
 },
 "nbformat": 4,
 "nbformat_minor": 4
}
