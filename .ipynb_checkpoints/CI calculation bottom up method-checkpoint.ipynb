{
 "cells": [
  {
   "cell_type": "markdown",
   "metadata": {
    "toc": true
   },
   "source": [
    "<h1>Table of Contents<span class=\"tocSkip\"></span></h1>\n",
    "<div class=\"toc\"><ul class=\"toc-item\"><li><span><a href=\"#Introduction\" data-toc-modified-id=\"Introduction-1\"><span class=\"toc-item-num\">1&nbsp;&nbsp;</span>Introduction</a></span></li><li><span><a href=\"#Script-setup\" data-toc-modified-id=\"Script-setup-2\"><span class=\"toc-item-num\">2&nbsp;&nbsp;</span>Script setup</a></span></li><li><span><a href=\"#Data-directory-preparention\" data-toc-modified-id=\"Data-directory-preparention-3\"><span class=\"toc-item-num\">3&nbsp;&nbsp;</span>Data directory preparention</a></span></li><li><span><a href=\"#Data-file-preperation\" data-toc-modified-id=\"Data-file-preperation-4\"><span class=\"toc-item-num\">4&nbsp;&nbsp;</span>Data file preperation</a></span><ul class=\"toc-item\"><li><span><a href=\"#input-directory-(all-general-raw-data-files)\" data-toc-modified-id=\"input-directory-(all-general-raw-data-files)-4.1\"><span class=\"toc-item-num\">4.1&nbsp;&nbsp;</span><code>input</code> directory (all general raw data files)</a></span></li><li><span><a href=\"#processed-directory-(all-data-files-produced-in-this-repository)\" data-toc-modified-id=\"processed-directory-(all-data-files-produced-in-this-repository)-4.2\"><span class=\"toc-item-num\">4.2&nbsp;&nbsp;</span><code>processed</code> directory (all data files produced in this repository)</a></span></li></ul></li><li><span><a href=\"#Load-data-functions\" data-toc-modified-id=\"Load-data-functions-5\"><span class=\"toc-item-num\">5&nbsp;&nbsp;</span>Load data functions</a></span></li><li><span><a href=\"#Load-data-sets\" data-toc-modified-id=\"Load-data-sets-6\"><span class=\"toc-item-num\">6&nbsp;&nbsp;</span>Load data sets</a></span></li><li><span><a href=\"#ENTSO-E-generation-per-technology-CI\" data-toc-modified-id=\"ENTSO-E-generation-per-technology-CI-7\"><span class=\"toc-item-num\">7&nbsp;&nbsp;</span>ENTSO-E generation per technology CI</a></span><ul class=\"toc-item\"><li><span><a href=\"#EF-preparation\" data-toc-modified-id=\"EF-preparation-7.1\"><span class=\"toc-item-num\">7.1&nbsp;&nbsp;</span>EF preparation</a></span></li><li><span><a href=\"#Emission-calculation\" data-toc-modified-id=\"Emission-calculation-7.2\"><span class=\"toc-item-num\">7.2&nbsp;&nbsp;</span>Emission calculation</a></span></li></ul></li><li><span><a href=\"#Compair-ENTSO-E-scaled-vs.-no-scaled\" data-toc-modified-id=\"Compair-ENTSO-E-scaled-vs.-no-scaled-8\"><span class=\"toc-item-num\">8&nbsp;&nbsp;</span>Compair ENTSO-E scaled vs. no scaled</a></span></li><li><span><a href=\"#Compare-Bottom-Up-and-Top-down\" data-toc-modified-id=\"Compare-Bottom-Up-and-Top-down-9\"><span class=\"toc-item-num\">9&nbsp;&nbsp;</span>Compare Bottom Up and Top down</a></span></li><li><span><a href=\"#Compare-Bottom-Up-and-Top-down-in-relation-to-possible-errors-in-the-data-sets\" data-toc-modified-id=\"Compare-Bottom-Up-and-Top-down-in-relation-to-possible-errors-in-the-data-sets-10\"><span class=\"toc-item-num\">10&nbsp;&nbsp;</span>Compare Bottom Up and Top down in relation to possible errors in the data sets</a></span></li><li><span><a href=\"#Export-results\" data-toc-modified-id=\"Export-results-11\"><span class=\"toc-item-num\">11&nbsp;&nbsp;</span>Export results</a></span></li></ul></div>"
   ]
  },
  {
   "cell_type": "markdown",
   "metadata": {},
   "source": [
    "# Introduction"
   ]
  },
  {
   "cell_type": "raw",
   "metadata": {},
   "source": [
    "This notebook uses the calculated EFs to generat CI for EU countries."
   ]
  },
  {
   "cell_type": "markdown",
   "metadata": {},
   "source": [
    "# Script setup"
   ]
  },
  {
   "cell_type": "code",
   "execution_count": 1,
   "metadata": {},
   "outputs": [],
   "source": [
    "import os\n",
    "import logging\n",
    "\n",
    "import pandas as pd\n",
    "import seaborn as sns\n",
    "import matplotlib.pyplot as plt\n",
    "from matplotlib.dates import DateFormatter\n",
    "from IPython.display import Image \n",
    "import datetime\n",
    "from matplotlib.lines import Line2D\n",
    "\n",
    "#GEO\n",
    "import geopandas as gpd\n",
    "\n",
    "%matplotlib inline\n",
    "plt.style.use('seaborn')\n",
    "plt.rcParams['figure.figsize'] = [15, 6]\n",
    "\n",
    "#helpers\n",
    "from helpers import change_ENTSOE_ProductionTypeName"
   ]
  },
  {
   "cell_type": "markdown",
   "metadata": {},
   "source": [
    "# Data directory preparention"
   ]
  },
  {
   "cell_type": "markdown",
   "metadata": {},
   "source": [
    "Create input, processed and output folders if they don't exist\n",
    "If the paths are relative, the corresponding folders will be created inside the current working directory.\n",
    "- input -> all needed input data\n",
    "- processed -> save point and exchange with other scripts\n",
    "- output -> final emission factors"
   ]
  },
  {
   "cell_type": "code",
   "execution_count": 2,
   "metadata": {},
   "outputs": [],
   "source": [
    "input_directory_path = os.path.join('input')\n",
    "processed_directory_path = 'processed'\n",
    "output_directory_path = os.path.join('output')\n",
    "\n",
    "os.makedirs(input_directory_path, exist_ok=True)\n",
    "os.makedirs(processed_directory_path, exist_ok=True)\n",
    "os.makedirs(output_directory_path, exist_ok=True)"
   ]
  },
  {
   "cell_type": "markdown",
   "metadata": {},
   "source": [
    "# Data file preperation"
   ]
  },
  {
   "cell_type": "markdown",
   "metadata": {},
   "source": [
    "## `input` directory (all general raw data files)\n",
    "\n",
    "- 1) ENTSO-E production per type (scaled)\n",
    "\n",
    "Production per type from ENTSO-E\n",
    "Original data: ENTSO-E Transparency Platform, Actual Generation per Production Type Available online: \n",
    "https://transparency.entsoe.eu/generation/r2/actualGenerationPerProductionType/show\n",
    "Processed with the following two script that converts the data to hourly resolution and scale the data to reported yearly data:\n",
    "\n",
    "- https://github.com/Open-Power-System-Data/time_series/tree/2020-10-06\n",
    "- https://github.com/INATECH-CIG/entso-e_GenerationOutputPerType\n",
    "\n",
    "File - > entso_gen_type_hourly_table_scaled.csv -> generation per technology\n",
    "\n",
    "\n",
    "- 2) ENTSO-E production per type (no scaled)\n",
    "\n",
    "File - > entso_gen_type_hourly_table.csv -> generation per technology\n",
    "\n",
    "\n",
    "- 3) ENTSO-E production per unit\n",
    "\n",
    "Production per Unit from ENTSO-E\n",
    "Original data: ENTSO-E Transparency Platform, Actual Generation per Generation Unit Available online: https://transparency.entsoe.eu/generation/r2/actualGenerationPerGenerationUnit/show (accessed on Apr 29, 2020).\n",
    "Processed with the following script that converts the data to hourly resolution:\n",
    "\n",
    "- https://github.com/INATECH-CIG/entso-e_GenerationOutputPerUnit\n",
    "\n",
    "File - > gen_data_2018.csv -> hourly generation data per unit\n",
    "\n",
    "File - > unit_data_2018.csv -> information about the generation units\n",
    "\n"
   ]
  },
  {
   "cell_type": "code",
   "execution_count": 3,
   "metadata": {},
   "outputs": [
    {
     "name": "stdout",
     "output_type": "stream",
     "text": [
      "['input\\\\bootom_up_method', 'input\\\\entsoe_gen_type_hourly_table.csv', 'input\\\\entsoe_gen_type_hourly_table_scaled.csv', 'input\\\\gen_data_2018.csv', 'input\\\\matching_ENTSOE_EU_ETS.csv', 'input\\\\top_down_method', 'input\\\\unit_data_2018.csv']\n"
     ]
    }
   ],
   "source": [
    "# Checks if the the input directories are empty or not\n",
    "# Checks all filenames in the input directory\n",
    "\n",
    "if not os.listdir(input_directory_path) :\n",
    "    print(\"The directory for the bootom up method is empty. Please provide the data to the directory as described in the instructions above.\")\n",
    "\n",
    "\n",
    "filenames = [os.path.join(input_directory_path, fn) for fn in os.listdir(input_directory_path)]\n",
    "\n",
    "print(filenames)"
   ]
  },
  {
   "cell_type": "markdown",
   "metadata": {},
   "source": [
    "## `processed` directory (all data files produced in this repository)\n",
    "\n",
    "- 1) EF per type and county\n",
    "\n",
    "File - > EF_bottom_up_method.csv\n",
    "\n",
    "- 2) EF per unit\n",
    "\n",
    "File -> generation_unit_EF_bottom_up_method.csv"
   ]
  },
  {
   "cell_type": "code",
   "execution_count": 4,
   "metadata": {},
   "outputs": [
    {
     "name": "stdout",
     "output_type": "stream",
     "text": [
      "['processed\\\\CI_0_top_down.csv', 'processed\\\\CI_1_top_down.csv', 'processed\\\\CI_bottom_up_method.csv', 'processed\\\\CI_MAP_1_top_down.csv', 'processed\\\\EF_bottom_up_method.csv', 'processed\\\\ei_AP_top_down.csv', 'processed\\\\ei_MAP_top_down.csv', 'processed\\\\generation_unit_EF_bottom_up_method.csv']\n"
     ]
    }
   ],
   "source": [
    "# Checks if the the input directories are empty or not\n",
    "# Checks all filenames in the input directory\n",
    "\n",
    "if not os.listdir(processed_directory_path) :\n",
    "    print(\"The directory for the CO2 Signal is empty. Please provide the data to the directory as described in the instructions above.\")\n",
    "\n",
    "\n",
    "filenames = [os.path.join(processed_directory_path, fn) for fn in os.listdir(processed_directory_path)]\n",
    "\n",
    "print(filenames)"
   ]
  },
  {
   "cell_type": "markdown",
   "metadata": {},
   "source": [
    "# Load data functions"
   ]
  },
  {
   "cell_type": "code",
   "execution_count": 5,
   "metadata": {},
   "outputs": [],
   "source": [
    "def load_generation_per_unit(path, fn):\n",
    "    \"\"\"\n",
    "    Load the ENTSO-E gernation per unit data.\n",
    "        \n",
    "    Parameters\n",
    "    ----------\n",
    "    path: str\n",
    "        path to data\n",
    "    fn : str\n",
    "        filename\n",
    "        \n",
    "    \"\"\"\n",
    "    \n",
    "    generation = pd.read_csv(os.path.join(path, fn),sep = ',',index_col=0,parse_dates=True)\n",
    "    \n",
    "    return generation\n",
    "\n",
    "def load_unit_CO2_data(path, fn):\n",
    "    \"\"\"\n",
    "    Own generation unit information with CO2 information per unit\n",
    "        \n",
    "    Parameters\n",
    "    ----------\n",
    "    path: str\n",
    "        path to data\n",
    "    fn : str\n",
    "        filename\n",
    "        \n",
    "    \"\"\"\n",
    "    \n",
    "    df = pd.read_csv(os.path.join(path, fn),sep = ',',index_col=0)\n",
    "\n",
    "    return df\n",
    "\n",
    "def load_EF(path, fn):\n",
    "    \"\"\"\n",
    "    Own generated EF per tech and country\n",
    "        \n",
    "    Parameters\n",
    "    ----------\n",
    "    path: str\n",
    "        path to data\n",
    "    fn : str\n",
    "        filename\n",
    "        \n",
    "    \"\"\"\n",
    "    \n",
    "    df = pd.read_csv(os.path.join(path, fn),sep = ',',index_col=[0,1])\n",
    "    \n",
    "    return df\n",
    "\n",
    "def load_timeseries_ENTSOE(path, fn):\n",
    "    \"\"\"\n",
    "    Read generation data from time-series package own modification.\n",
    "\n",
    "\n",
    "    Parameters\n",
    "    ----------\n",
    "    path : TYPE\n",
    "        DESCRIPTION.\n",
    "    fn : TYPE\n",
    "        DESCRIPTION.\n",
    "\n",
    "    Returns\n",
    "    -------\n",
    "    generation : TYPE\n",
    "        DESCRIPTION.\n",
    "\n",
    "    \"\"\"\n",
    "   \n",
    "    generation = (pd.read_csv(os.path.join(path, fn), index_col=[0], header=[0, 1], parse_dates=True))\n",
    "       \n",
    "    \n",
    "    return generation"
   ]
  },
  {
   "cell_type": "markdown",
   "metadata": {},
   "source": [
    "# Load data sets"
   ]
  },
  {
   "cell_type": "markdown",
   "metadata": {},
   "source": [
    "#### Load ENTSO-E generation per type"
   ]
  },
  {
   "cell_type": "code",
   "execution_count": 6,
   "metadata": {},
   "outputs": [],
   "source": [
    "entsoe_gen_type_org = load_timeseries_ENTSOE(input_directory_path, 'entsoe_gen_type_hourly_table.csv')"
   ]
  },
  {
   "cell_type": "markdown",
   "metadata": {},
   "source": [
    "#### Load ENTSO-E generation per type scaled with Factsheet"
   ]
  },
  {
   "cell_type": "code",
   "execution_count": 7,
   "metadata": {},
   "outputs": [],
   "source": [
    "entsoe_gen_type_scal = load_timeseries_ENTSOE(input_directory_path, 'entsoe_gen_type_hourly_table_scaled.csv')"
   ]
  },
  {
   "cell_type": "markdown",
   "metadata": {},
   "source": [
    "#### Load EF per technology"
   ]
  },
  {
   "cell_type": "code",
   "execution_count": 8,
   "metadata": {},
   "outputs": [],
   "source": [
    "EF = load_EF(processed_directory_path, 'EF_bottom_up_method.csv')"
   ]
  },
  {
   "cell_type": "markdown",
   "metadata": {},
   "source": [
    "# ENTSO-E generation per technology CI"
   ]
  },
  {
   "cell_type": "markdown",
   "metadata": {},
   "source": [
    "In this section we using the country specific EF for generating the CI for all EU countries. The production data are based on the production per type data from ENTSO-E"
   ]
  },
  {
   "cell_type": "markdown",
   "metadata": {},
   "source": [
    "## EF preparation "
   ]
  },
  {
   "cell_type": "markdown",
   "metadata": {},
   "source": [
    "Since we could not calculate EF for all countries and technologies, we use a stepwise process to close this gap. For all countries where EF is missing, which we calculate in other countries, we average all calculated technology specific EF. Then, we define standard EFs for the technologies where EFs could not be calculated. "
   ]
  },
  {
   "cell_type": "code",
   "execution_count": 9,
   "metadata": {},
   "outputs": [
    {
     "data": {
      "text/html": [
       "<div>\n",
       "<style scoped>\n",
       "    .dataframe tbody tr th:only-of-type {\n",
       "        vertical-align: middle;\n",
       "    }\n",
       "\n",
       "    .dataframe tbody tr th {\n",
       "        vertical-align: top;\n",
       "    }\n",
       "\n",
       "    .dataframe thead th {\n",
       "        text-align: right;\n",
       "    }\n",
       "</style>\n",
       "<table border=\"1\" class=\"dataframe\">\n",
       "  <thead>\n",
       "    <tr style=\"text-align: right;\">\n",
       "      <th></th>\n",
       "      <th></th>\n",
       "      <th>EF</th>\n",
       "      <th>Verified_EF</th>\n",
       "      <th>Coverage</th>\n",
       "      <th>EF_round_in_gCO2_kwh</th>\n",
       "    </tr>\n",
       "    <tr>\n",
       "      <th>MapCode</th>\n",
       "      <th>ProductionTypeName</th>\n",
       "      <th></th>\n",
       "      <th></th>\n",
       "      <th></th>\n",
       "      <th></th>\n",
       "    </tr>\n",
       "  </thead>\n",
       "  <tbody>\n",
       "    <tr>\n",
       "      <th rowspan=\"2\" valign=\"top\">AT</th>\n",
       "      <th>gas</th>\n",
       "      <td>0.398292</td>\n",
       "      <td>False</td>\n",
       "      <td>24.0</td>\n",
       "      <td>398.29</td>\n",
       "    </tr>\n",
       "    <tr>\n",
       "      <th>hard_coal</th>\n",
       "      <td>0.884070</td>\n",
       "      <td>True</td>\n",
       "      <td>39.0</td>\n",
       "      <td>884.07</td>\n",
       "    </tr>\n",
       "    <tr>\n",
       "      <th>BE</th>\n",
       "      <th>gas</th>\n",
       "      <td>0.389641</td>\n",
       "      <td>True</td>\n",
       "      <td>64.0</td>\n",
       "      <td>389.64</td>\n",
       "    </tr>\n",
       "    <tr>\n",
       "      <th rowspan=\"2\" valign=\"top\">CZ</th>\n",
       "      <th>gas</th>\n",
       "      <td>0.780843</td>\n",
       "      <td>True</td>\n",
       "      <td>39.0</td>\n",
       "      <td>780.84</td>\n",
       "    </tr>\n",
       "    <tr>\n",
       "      <th>hard_coal</th>\n",
       "      <td>0.985546</td>\n",
       "      <td>True</td>\n",
       "      <td>36.0</td>\n",
       "      <td>985.55</td>\n",
       "    </tr>\n",
       "  </tbody>\n",
       "</table>\n",
       "</div>"
      ],
      "text/plain": [
       "                                  EF  Verified_EF  Coverage  \\\n",
       "MapCode ProductionTypeName                                    \n",
       "AT      gas                 0.398292        False      24.0   \n",
       "        hard_coal           0.884070         True      39.0   \n",
       "BE      gas                 0.389641         True      64.0   \n",
       "CZ      gas                 0.780843         True      39.0   \n",
       "        hard_coal           0.985546         True      36.0   \n",
       "\n",
       "                            EF_round_in_gCO2_kwh  \n",
       "MapCode ProductionTypeName                        \n",
       "AT      gas                               398.29  \n",
       "        hard_coal                         884.07  \n",
       "BE      gas                               389.64  \n",
       "CZ      gas                               780.84  \n",
       "        hard_coal                         985.55  "
      ]
     },
     "execution_count": 9,
     "metadata": {},
     "output_type": "execute_result"
    }
   ],
   "source": [
    "# check EF dataset\n",
    "EF.head(5)"
   ]
  },
  {
   "cell_type": "markdown",
   "metadata": {},
   "source": [
    "#### Set EF for SE because most of the power plants in other_fossil are biomass power plants "
   ]
  },
  {
   "cell_type": "markdown",
   "metadata": {},
   "source": [
    "EF.loc[('SE','other_fossil'),:] = EF.loc[('SE','gas'),:].copy()\n",
    "EF.loc[('SE','other_fossil'),'EF'] = 0.25\n",
    "EF.loc[('SE','other_fossil'),'Coverage'] = 0\n",
    "EF.loc[('SE','other_fossil'),'EF_round_in_gCO2_kwh'] = 300"
   ]
  },
  {
   "cell_type": "markdown",
   "metadata": {},
   "source": [
    "#### Mean EF from calculated EF"
   ]
  },
  {
   "cell_type": "code",
   "execution_count": 10,
   "metadata": {},
   "outputs": [
    {
     "name": "stdout",
     "output_type": "stream",
     "text": [
      "{'gas': 0.41978787102138526, 'hard_coal': 0.9749115732664191, 'lignite': 1.1848068573544648, 'other_fossil': 0.9193148563890987}\n"
     ]
    }
   ],
   "source": [
    "EF_mean = EF.groupby('ProductionTypeName').mean()\n",
    "\n",
    "#### old ####\n",
    "# Using a mean EF for other fossils of 0.75 because we only cover some countries with other fossils\n",
    "# and the resulting mean EF would be above 1.0, which seems too high.\n",
    "# EF_mean.loc['other_fossil'] = 0.75\n",
    "# converting EF_mean to a diconary\n",
    "#### old ####\n",
    "\n",
    "EF_mean = EF_mean.EF.to_dict()\n",
    "\n",
    "#show resulting EF\n",
    "print(EF_mean)"
   ]
  },
  {
   "cell_type": "markdown",
   "metadata": {},
   "source": [
    "#### Standard EF per technology"
   ]
  },
  {
   "cell_type": "code",
   "execution_count": 11,
   "metadata": {},
   "outputs": [],
   "source": [
    "# If no country-specific EFs are available and also no mean EF is available for a country and technology,\n",
    "# we use the following standard EFs. In addition, we define for the renewable generation types a EF with\n",
    "# an emission value of 0.\n",
    "\n",
    "EF_default = {'biomass':0,\n",
    "              'geothermal':0,\n",
    "              'hydro':0,\n",
    "              'nuclear':0,\n",
    "              'oil':0.8,\n",
    "              'other_renewable':0,\n",
    "              'solar':0,\n",
    "              'waste':0.2,\n",
    "              'wind_offshore':0,\n",
    "              'wind_onshore':0,\n",
    "              'marine':0,\n",
    "              'oil shale':0.51,\n",
    "              'other_fossil': 0.51}"
   ]
  },
  {
   "cell_type": "markdown",
   "metadata": {},
   "source": [
    "#### Multi EF for each country and technology"
   ]
  },
  {
   "cell_type": "code",
   "execution_count": 12,
   "metadata": {},
   "outputs": [
    {
     "name": "stdout",
     "output_type": "stream",
     "text": [
      "('AT', 'biomass') EF_default\n",
      "('AT', 'gas') EF\n",
      "('AT', 'hard_coal') EF\n",
      "('AT', 'hydro') EF_default\n",
      "('AT', 'other_fossil') EF_mean\n",
      "('AT', 'other_renewable') EF_default\n",
      "('AT', 'solar') EF_default\n",
      "('AT', 'waste') EF_default\n",
      "('AT', 'wind_onshore') EF_default\n",
      "('BE', 'biomass') EF_default\n",
      "('BE', 'gas') EF\n",
      "('BE', 'hydro') EF_default\n",
      "('BE', 'nuclear') EF_default\n",
      "('BE', 'other_fossil') EF_mean\n",
      "('BE', 'solar') EF_default\n",
      "('BE', 'waste') EF_default\n",
      "('BE', 'wind_offshore') EF_default\n",
      "('BE', 'wind_onshore') EF_default\n",
      "('BG', 'biomass') EF_default\n",
      "('BG', 'gas') EF_mean\n",
      "('BG', 'hard_coal') EF_mean\n",
      "('BG', 'hydro') EF_default\n",
      "('BG', 'lignite') EF_mean\n",
      "('BG', 'nuclear') EF_default\n",
      "('BG', 'solar') EF_default\n",
      "('BG', 'waste') EF_default\n",
      "('BG', 'wind_onshore') EF_default\n",
      "('CH', 'hydro') EF_default\n",
      "('CH', 'nuclear') EF_default\n",
      "('CH', 'solar') EF_default\n",
      "('CH', 'wind_onshore') EF_default\n",
      "('CY', 'other_fossil') EF_mean\n",
      "('CY', 'wind_onshore') EF_default\n",
      "('CZ', 'biomass') EF_default\n",
      "('CZ', 'gas') EF\n",
      "('CZ', 'hard_coal') EF\n",
      "('CZ', 'hydro') EF_default\n",
      "('CZ', 'lignite') EF\n",
      "('CZ', 'nuclear') EF_default\n",
      "('CZ', 'other_fossil') EF_mean\n",
      "('CZ', 'other_renewable') EF_default\n",
      "('CZ', 'solar') EF_default\n",
      "('CZ', 'waste') EF_default\n",
      "('CZ', 'wind_onshore') EF_default\n",
      "('DE', 'biomass') EF_default\n",
      "('DE', 'gas') EF\n",
      "('DE', 'hard_coal') EF\n",
      "('DE', 'hydro') EF_default\n",
      "('DE', 'lignite') EF\n",
      "('DE', 'nuclear') EF_default\n",
      "('DE', 'other_fossil') EF\n",
      "('DE', 'other_renewable') EF_default\n",
      "('DE', 'solar') EF_default\n",
      "('DE', 'waste') EF_default\n",
      "('DE', 'wind_offshore') EF_default\n",
      "('DE', 'wind_onshore') EF_default\n",
      "('DK', 'biomass') EF_default\n",
      "('DK', 'gas') EF\n",
      "('DK', 'hard_coal') EF\n",
      "('DK', 'other_fossil') EF_mean\n",
      "('DK', 'solar') EF_default\n",
      "('DK', 'waste') EF_default\n",
      "('DK', 'wind_offshore') EF_default\n",
      "('DK', 'wind_onshore') EF_default\n",
      "('EE', 'biomass') EF_default\n",
      "('EE', 'gas') EF_mean\n",
      "('EE', 'hydro') EF_default\n",
      "('EE', 'other_fossil') EF\n",
      "('EE', 'other_renewable') EF_default\n",
      "('EE', 'solar') EF_default\n",
      "('EE', 'waste') EF_default\n",
      "('EE', 'wind_onshore') EF_default\n",
      "('ES', 'biomass') EF_default\n",
      "('ES', 'gas') EF\n",
      "('ES', 'hard_coal') EF\n",
      "('ES', 'hydro') EF_default\n",
      "('ES', 'lignite') EF_mean\n",
      "('ES', 'nuclear') EF_default\n",
      "('ES', 'other_fossil') EF_mean\n",
      "('ES', 'other_renewable') EF_default\n",
      "('ES', 'solar') EF_default\n",
      "('ES', 'waste') EF_default\n",
      "('ES', 'wind_onshore') EF_default\n",
      "('FI', 'biomass') EF_default\n",
      "('FI', 'gas') EF_mean\n",
      "('FI', 'hard_coal') EF\n",
      "('FI', 'hydro') EF_default\n",
      "('FI', 'nuclear') EF_default\n",
      "('FI', 'other_fossil') EF\n",
      "('FI', 'other_renewable') EF_default\n",
      "('FI', 'waste') EF_default\n",
      "('FI', 'wind_onshore') EF_default\n",
      "('FR', 'biomass') EF_default\n",
      "('FR', 'gas') EF\n",
      "('FR', 'hard_coal') EF\n",
      "('FR', 'hydro') EF_default\n",
      "('FR', 'nuclear') EF_default\n",
      "('FR', 'other_fossil') EF_mean\n",
      "('FR', 'solar') EF_default\n",
      "('FR', 'waste') EF_default\n",
      "('FR', 'wind_onshore') EF_default\n",
      "('GB', 'biomass') EF_default\n",
      "('GB', 'gas') EF\n",
      "('GB', 'hard_coal') EF\n",
      "('GB', 'hydro') EF_default\n",
      "('GB', 'nuclear') EF_default\n",
      "('GB', 'other_fossil') EF_mean\n",
      "('GB', 'solar') EF_default\n",
      "('GB', 'wind_offshore') EF_default\n",
      "('GB', 'wind_onshore') EF_default\n",
      "('GR', 'gas') EF\n",
      "('GR', 'lignite') EF\n",
      "('GR', 'solar') EF_default\n",
      "('GR', 'wind_onshore') EF_default\n",
      "('HU', 'biomass') EF_default\n",
      "('HU', 'gas') EF\n",
      "('HU', 'hydro') EF_default\n",
      "('HU', 'lignite') EF\n",
      "('HU', 'nuclear') EF_default\n",
      "('HU', 'other_fossil') EF_mean\n",
      "('HU', 'other_renewable') EF_default\n",
      "('HU', 'waste') EF_default\n",
      "('HU', 'wind_onshore') EF_default\n",
      "('IE', 'gas') EF\n",
      "('IE', 'hard_coal') EF\n",
      "('IE', 'hydro') EF_default\n",
      "('IE', 'other_fossil') EF_mean\n",
      "('IE', 'wind_onshore') EF_default\n",
      "('IT', 'biomass') EF_default\n",
      "('IT', 'gas') EF\n",
      "('IT', 'hard_coal') EF\n",
      "('IT', 'hydro') EF_default\n",
      "('IT', 'other_fossil') EF\n",
      "('IT', 'other_renewable') EF_default\n",
      "('IT', 'solar') EF_default\n",
      "('IT', 'waste') EF_default\n",
      "('IT', 'wind_onshore') EF_default\n",
      "('LT', 'biomass') EF_default\n",
      "('LT', 'gas') EF_mean\n",
      "('LT', 'hydro') EF_default\n",
      "('LT', 'other_fossil') EF_mean\n",
      "('LT', 'solar') EF_default\n",
      "('LT', 'waste') EF_default\n",
      "('LT', 'wind_onshore') EF_default\n",
      "('LV', 'biomass') EF_default\n",
      "('LV', 'gas') EF_mean\n",
      "('LV', 'hydro') EF_default\n",
      "('LV', 'other_fossil') EF_mean\n",
      "('LV', 'wind_onshore') EF_default\n",
      "('ME', 'hydro') EF_default\n",
      "('ME', 'lignite') EF_mean\n",
      "('ME', 'wind_onshore') EF_default\n",
      "('NL', 'biomass') EF_default\n",
      "('NL', 'gas') EF\n",
      "('NL', 'hard_coal') EF\n",
      "('NL', 'nuclear') EF_default\n",
      "('NL', 'other_fossil') EF_mean\n",
      "('NL', 'solar') EF_default\n",
      "('NL', 'waste') EF_default\n",
      "('NL', 'wind_offshore') EF_default\n",
      "('NL', 'wind_onshore') EF_default\n",
      "('NO', 'gas') EF_mean\n",
      "('NO', 'hydro') EF_default\n",
      "('NO', 'other_fossil') EF_mean\n",
      "('NO', 'wind_onshore') EF_default\n",
      "('PL', 'biomass') EF_default\n",
      "('PL', 'gas') EF\n",
      "('PL', 'hard_coal') EF\n",
      "('PL', 'hydro') EF_default\n",
      "('PL', 'lignite') EF\n",
      "('PL', 'other_fossil') EF_mean\n",
      "('PL', 'wind_onshore') EF_default\n",
      "('PT', 'biomass') EF_default\n",
      "('PT', 'gas') EF\n",
      "('PT', 'hard_coal') EF_mean\n",
      "('PT', 'hydro') EF_default\n",
      "('PT', 'other_fossil') EF_mean\n",
      "('PT', 'solar') EF_default\n",
      "('PT', 'wind_onshore') EF_default\n",
      "('RO', 'biomass') EF_default\n",
      "('RO', 'gas') EF\n",
      "('RO', 'hard_coal') EF\n",
      "('RO', 'hydro') EF_default\n",
      "('RO', 'lignite') EF\n",
      "('RO', 'nuclear') EF_default\n",
      "('RO', 'solar') EF_default\n",
      "('RO', 'wind_onshore') EF_default\n",
      "('RS', 'biomass') EF_default\n",
      "('RS', 'gas') EF_mean\n",
      "('RS', 'hydro') EF_default\n",
      "('RS', 'lignite') EF_mean\n",
      "('RS', 'other_fossil') EF_mean\n",
      "('SE', 'hydro') EF_default\n",
      "('SE', 'nuclear') EF_default\n",
      "('SE', 'other_fossil') EF_mean\n",
      "('SE', 'wind_onshore') EF_default\n",
      "('SI', 'biomass') EF_default\n",
      "('SI', 'gas') EF_mean\n",
      "('SI', 'hydro') EF_default\n",
      "('SI', 'lignite') EF_mean\n",
      "('SI', 'nuclear') EF_default\n",
      "('SI', 'other_fossil') EF_mean\n",
      "('SI', 'solar') EF_default\n",
      "('SI', 'waste') EF_default\n",
      "('SI', 'wind_onshore') EF_default\n",
      "('SK', 'biomass') EF_default\n",
      "('SK', 'gas') EF_mean\n",
      "('SK', 'hard_coal') EF\n",
      "('SK', 'hydro') EF_default\n",
      "('SK', 'lignite') EF\n",
      "('SK', 'nuclear') EF_default\n",
      "('SK', 'other_fossil') EF_mean\n",
      "('SK', 'other_renewable') EF_default\n",
      "('SK', 'solar') EF_default\n",
      "('SE', 'biomass') EF_default\n",
      "('SE', 'gas') EF\n",
      "('SE', 'hard_coal') EF_mean\n",
      "('SE', 'other_renewable') EF_default\n",
      "('SE', 'waste') EF_default\n"
     ]
    }
   ],
   "source": [
    "# Create a dataframe with the EF for each country and technology. If no specific EF is available, we use the default EF.\n",
    "EF_multi = {}\n",
    "\n",
    "for i in entsoe_gen_type_scal.columns:\n",
    "    if i in EF.index:\n",
    "        print(str(i)+' EF')\n",
    "        EF_multi[i] = EF.loc[i[0],i[1]].loc['EF']\n",
    "    elif i[1] in EF_mean:\n",
    "        print(str(i) +' EF_mean')\n",
    "        EF_multi[i] = EF_mean[i[1]]\n",
    "    else:\n",
    "        print(str(i) + ' EF_default')\n",
    "        EF_multi[i] = EF_default[i[1]]"
   ]
  },
  {
   "cell_type": "markdown",
   "metadata": {},
   "source": [
    "## Emission calculation"
   ]
  },
  {
   "cell_type": "code",
   "execution_count": 13,
   "metadata": {},
   "outputs": [
    {
     "data": {
      "text/plain": [
       "variable\n",
       "hydro              62110.097000\n",
       "nuclear            65787.278500\n",
       "other_fossil        1022.169550\n",
       "wind_onshore       16305.413000\n",
       "biomass             8116.120750\n",
       "gas                  408.286300\n",
       "hard_coal            378.460900\n",
       "other_renewable      833.451250\n",
       "waste                102.216955\n",
       "dtype: float64"
      ]
     },
     "execution_count": 13,
     "metadata": {},
     "output_type": "execute_result"
    }
   ],
   "source": [
    "(entsoe_gen_type_org['SE'].sum()/1000)"
   ]
  },
  {
   "cell_type": "code",
   "execution_count": 14,
   "metadata": {},
   "outputs": [],
   "source": [
    "# calculate emissions based on EF and generation per type\n",
    "CO2_emission_type_org = entsoe_gen_type_org * EF_multi\n",
    "\n",
    "CO2_emission_type_scal = entsoe_gen_type_scal * EF_multi"
   ]
  },
  {
   "cell_type": "markdown",
   "metadata": {},
   "source": [
    "#### Total emissions and generation"
   ]
  },
  {
   "cell_type": "code",
   "execution_count": 15,
   "metadata": {},
   "outputs": [],
   "source": [
    "# Emission in gCO2\n",
    "CO2_emission_org = (CO2_emission_type_org * 1000000).groupby(level=0, axis=1).sum()\n",
    "# generation in kWh\n",
    "Generation_org = (entsoe_gen_type_org * 1000).groupby(level=0, axis=1).sum()\n",
    "\n",
    "# Emission in gCO2\n",
    "CO2_emission_scal = (CO2_emission_type_scal * 1000000).groupby(level=0, axis=1).sum()\n",
    "# generation in kWh\n",
    "Generation_scale = (entsoe_gen_type_scal * 1000).groupby(level=0, axis=1).sum()"
   ]
  },
  {
   "cell_type": "markdown",
   "metadata": {},
   "source": [
    "#### Carbon intensity of gernation "
   ]
  },
  {
   "cell_type": "code",
   "execution_count": 16,
   "metadata": {},
   "outputs": [],
   "source": [
    "# CI in g CO2/kWh\n",
    "Carbon_intensitiy_org = CO2_emission_org.div(Generation_org)\n",
    "# CI in g CO2/kWh\n",
    "Carbon_intensitiy_scal = CO2_emission_scal.div(Generation_scale)"
   ]
  },
  {
   "cell_type": "code",
   "execution_count": 17,
   "metadata": {},
   "outputs": [],
   "source": [
    "# mean CI in gCO2/kWh\n",
    "mean_Carbon_intensitiy_org = CO2_emission_org.sum() / Generation_org.sum()\n",
    "# mean CI in gCO2/kWh\n",
    "mean_Carbon_intensitiy_scale = CO2_emission_scal.sum() / Generation_scale.sum()"
   ]
  },
  {
   "cell_type": "code",
   "execution_count": 18,
   "metadata": {},
   "outputs": [],
   "source": [
    "# transfer mean CI to hourly data set\n",
    "#Carbon_intensitiy_entsoe_gen_type_mean = Carbon_intensitiy_entsoe_gen_type.copy()\n",
    "#for i in Carbon_intensitiy_entsoe_gen_type_mean.columns:\n",
    "#    Carbon_intensitiy_entsoe_gen_type_mean[i] = mean_Carbon_intensitiy_entsoe_gen_type[i]"
   ]
  },
  {
   "cell_type": "markdown",
   "metadata": {},
   "source": [
    "# Compair ENTSO-E scaled vs. no scaled "
   ]
  },
  {
   "cell_type": "markdown",
   "metadata": {},
   "source": [
    "Forming an indicator for emissions and carbon intensity to see how they change by scaling."
   ]
  },
  {
   "cell_type": "markdown",
   "metadata": {},
   "source": [
    "#### Emissions"
   ]
  },
  {
   "cell_type": "code",
   "execution_count": 19,
   "metadata": {},
   "outputs": [],
   "source": [
    "indicator_EM = ((CO2_emission_scal.sum() - CO2_emission_org.sum()) / CO2_emission_scal.sum()).to_frame().fillna(0)"
   ]
  },
  {
   "cell_type": "code",
   "execution_count": 20,
   "metadata": {},
   "outputs": [
    {
     "data": {
      "image/png": "[encoded data removed]",
      "text/plain": [
       "<Figure size 1080x432 with 1 Axes>"
      ]
     },
     "metadata": {},
     "output_type": "display_data"
    }
   ],
   "source": [
    "fig, ax = plt.subplots(1, 1)\n",
    "\n",
    "indicator_EM.sort_values(by=0).plot(kind='bar', ylabel='Emission delta indicator', legend=False, ax=ax)\n",
    "\n",
    "ax.set_xlabel(\"Country\" , fontsize=20)\n",
    "ax.set_ylabel(\"Emission delta indicator\", fontsize=20)\n",
    "\n",
    "ax.tick_params(axis='y',labelsize=19)\n",
    "ax.tick_params(axis='x',labelsize=19)\n",
    "\n",
    "ax.tick_params(axis='x', rotation=45)"
   ]
  },
  {
   "cell_type": "code",
   "execution_count": 21,
   "metadata": {},
   "outputs": [],
   "source": [
    "fig.savefig(os.path.join(output_directory_path + '/_emission_delta_indicator.png'))"
   ]
  },
  {
   "cell_type": "markdown",
   "metadata": {},
   "source": [
    "#### Carbon intensity"
   ]
  },
  {
   "cell_type": "code",
   "execution_count": 22,
   "metadata": {},
   "outputs": [],
   "source": [
    "indicator_CI = ((mean_Carbon_intensitiy_scale - mean_Carbon_intensitiy_org) / mean_Carbon_intensitiy_scale).to_frame().fillna(0)"
   ]
  },
  {
   "cell_type": "code",
   "execution_count": 23,
   "metadata": {},
   "outputs": [
    {
     "data": {
      "image/png": "[encoded data removed]",
      "text/plain": [
       "<Figure size 1080x432 with 1 Axes>"
      ]
     },
     "metadata": {},
     "output_type": "display_data"
    }
   ],
   "source": [
    "fig, ax = plt.subplots(1, 1)\n",
    "\n",
    "indicator_CI.sort_values(by=0).plot(kind='bar', ylabel='CI delta indicator', legend=False, ax=ax)\n",
    "\n",
    "ax.set_xlabel(\"Country\" , fontsize=20)\n",
    "ax.set_ylabel(\"CI delta indicator\", fontsize=20)\n",
    "\n",
    "ax.tick_params(axis='y',labelsize=19)\n",
    "ax.tick_params(axis='x',labelsize=19)\n",
    "\n",
    "ax.tick_params(axis='x', rotation=45)"
   ]
  },
  {
   "cell_type": "code",
   "execution_count": 24,
   "metadata": {},
   "outputs": [],
   "source": [
    "fig.savefig(os.path.join(output_directory_path + '/_CI_delta_indicator.png'))"
   ]
  },
  {
   "cell_type": "code",
   "execution_count": 25,
   "metadata": {},
   "outputs": [],
   "source": [
    "Indicator_compar = pd.DataFrame()\n",
    "Indicator_compar.index.rename('country',inplace=True)"
   ]
  },
  {
   "cell_type": "code",
   "execution_count": 26,
   "metadata": {},
   "outputs": [],
   "source": [
    "Indicator_compar['emission_delta_indicator'] = indicator_EM.squeeze()\n",
    "Indicator_compar['CI_delta_indicator'] = indicator_CI.squeeze()\n",
    "Indicator_compar['CI_delta_indicator_abs'] = abs(indicator_CI.squeeze())"
   ]
  },
  {
   "cell_type": "code",
   "execution_count": 27,
   "metadata": {},
   "outputs": [
    {
     "data": {
      "text/plain": [
       "<matplotlib.legend.Legend at 0x1de52756fc8>"
      ]
     },
     "execution_count": 27,
     "metadata": {},
     "output_type": "execute_result"
    },
    {
     "data": {
      "image/png": "[encoded data removed]",
      "text/plain": [
       "<Figure size 1080x432 with 1 Axes>"
      ]
     },
     "metadata": {},
     "output_type": "display_data"
    }
   ],
   "source": [
    "fig, ax = plt.subplots(1, 1)\n",
    "\n",
    "ax = sns.scatterplot(data=Indicator_compar, x=\"CI_delta_indicator\", y=\"emission_delta_indicator\", hue=Indicator_compar.index, s=200, style=Indicator_compar.index)\n",
    "#CI_compar.plot(kind='scatter', x=\"indikator_CI\", y=\"indikator_em\", ax=ax, alpha=0.6, s=10, edgecolor='black')\n",
    "\n",
    "ax.set_xlabel(\"CI Delta\" , fontsize=20)\n",
    "ax.set_ylabel(\"EM Delta\", fontsize=20)\n",
    "\n",
    "ax.tick_params(axis='y',labelsize=19)\n",
    "ax.tick_params(axis='x',labelsize=19)\n",
    "\n",
    "ax.tick_params(axis='x', rotation=45)\n",
    "\n",
    "ax.legend(bbox_to_anchor=(1.01, 1),\n",
    "           borderaxespad=0)\n",
    "\n",
    "#CI_compar.plot(x='indikator_CI',y='indikator_em',kind='scatter',legend=True)"
   ]
  },
  {
   "cell_type": "code",
   "execution_count": 28,
   "metadata": {},
   "outputs": [],
   "source": [
    "fig.savefig(os.path.join(output_directory_path + '/_scaling_indicator.png'))"
   ]
  },
  {
   "cell_type": "markdown",
   "metadata": {},
   "source": [
    "# Compare Bottom Up and Top down"
   ]
  },
  {
   "cell_type": "markdown",
   "metadata": {},
   "source": [
    "#### Load CI from top down method"
   ]
  },
  {
   "cell_type": "code",
   "execution_count": 29,
   "metadata": {},
   "outputs": [],
   "source": [
    "CI_top_down = pd.read_csv(os.path.join(processed_directory_path,'CI_1_top_down.csv'), index_col=0)"
   ]
  },
  {
   "cell_type": "code",
   "execution_count": 30,
   "metadata": {},
   "outputs": [],
   "source": [
    "# set up a dataframe and store CI\n",
    "CI_compar = pd.DataFrame()\n",
    "CI_compar.index.rename('country',inplace=True)\n",
    "\n",
    "CI_compar['CI_top_down'] = CI_top_down.loc[2018].filter(mean_Carbon_intensitiy_scale.index.to_list())"
   ]
  },
  {
   "cell_type": "code",
   "execution_count": 31,
   "metadata": {},
   "outputs": [],
   "source": [
    "CI_compar['CI_bottom_up'] = mean_Carbon_intensitiy_scale.filter(CI_compar.index.to_list())\n",
    "\n",
    "CI_compar['diff_bottom_up_vs_CI_top_down'] = CI_compar['CI_bottom_up'] - CI_compar['CI_top_down']\n",
    "CI_compar['diff_pro'] = round((100 / CI_compar['CI_bottom_up']) * CI_compar['diff_bottom_up_vs_CI_top_down'])"
   ]
  },
  {
   "cell_type": "code",
   "execution_count": 32,
   "metadata": {},
   "outputs": [
    {
     "data": {
      "text/html": [
       "<div>\n",
       "<style scoped>\n",
       "    .dataframe tbody tr th:only-of-type {\n",
       "        vertical-align: middle;\n",
       "    }\n",
       "\n",
       "    .dataframe tbody tr th {\n",
       "        vertical-align: top;\n",
       "    }\n",
       "\n",
       "    .dataframe thead th {\n",
       "        text-align: right;\n",
       "    }\n",
       "</style>\n",
       "<table border=\"1\" class=\"dataframe\">\n",
       "  <thead>\n",
       "    <tr style=\"text-align: right;\">\n",
       "      <th></th>\n",
       "      <th>CI_top_down</th>\n",
       "      <th>CI_bottom_up</th>\n",
       "      <th>diff_bottom_up_vs_CI_top_down</th>\n",
       "      <th>diff_pro</th>\n",
       "    </tr>\n",
       "    <tr>\n",
       "      <th>country</th>\n",
       "      <th></th>\n",
       "      <th></th>\n",
       "      <th></th>\n",
       "      <th></th>\n",
       "    </tr>\n",
       "  </thead>\n",
       "  <tbody>\n",
       "    <tr>\n",
       "      <th>FR</th>\n",
       "      <td>56.57</td>\n",
       "      <td>37.16</td>\n",
       "      <td>-19.41</td>\n",
       "      <td>-52.0</td>\n",
       "    </tr>\n",
       "    <tr>\n",
       "      <th>NO</th>\n",
       "      <td>19.45</td>\n",
       "      <td>16.32</td>\n",
       "      <td>-3.13</td>\n",
       "      <td>-19.0</td>\n",
       "    </tr>\n",
       "    <tr>\n",
       "      <th>BE</th>\n",
       "      <td>218.56</td>\n",
       "      <td>194.79</td>\n",
       "      <td>-23.77</td>\n",
       "      <td>-12.0</td>\n",
       "    </tr>\n",
       "    <tr>\n",
       "      <th>EE</th>\n",
       "      <td>943.07</td>\n",
       "      <td>895.14</td>\n",
       "      <td>-47.93</td>\n",
       "      <td>-5.0</td>\n",
       "    </tr>\n",
       "    <tr>\n",
       "      <th>PT</th>\n",
       "      <td>326.01</td>\n",
       "      <td>317.05</td>\n",
       "      <td>-8.95</td>\n",
       "      <td>-3.0</td>\n",
       "    </tr>\n",
       "    <tr>\n",
       "      <th>PL</th>\n",
       "      <td>833.30</td>\n",
       "      <td>837.94</td>\n",
       "      <td>4.64</td>\n",
       "      <td>1.0</td>\n",
       "    </tr>\n",
       "    <tr>\n",
       "      <th>NL</th>\n",
       "      <td>465.48</td>\n",
       "      <td>469.08</td>\n",
       "      <td>3.59</td>\n",
       "      <td>1.0</td>\n",
       "    </tr>\n",
       "    <tr>\n",
       "      <th>CZ</th>\n",
       "      <td>470.43</td>\n",
       "      <td>479.78</td>\n",
       "      <td>9.35</td>\n",
       "      <td>2.0</td>\n",
       "    </tr>\n",
       "    <tr>\n",
       "      <th>DE</th>\n",
       "      <td>423.38</td>\n",
       "      <td>435.15</td>\n",
       "      <td>11.77</td>\n",
       "      <td>3.0</td>\n",
       "    </tr>\n",
       "    <tr>\n",
       "      <th>IE</th>\n",
       "      <td>369.52</td>\n",
       "      <td>386.85</td>\n",
       "      <td>17.33</td>\n",
       "      <td>4.0</td>\n",
       "    </tr>\n",
       "    <tr>\n",
       "      <th>RO</th>\n",
       "      <td>308.48</td>\n",
       "      <td>321.03</td>\n",
       "      <td>12.55</td>\n",
       "      <td>4.0</td>\n",
       "    </tr>\n",
       "    <tr>\n",
       "      <th>GR</th>\n",
       "      <td>691.17</td>\n",
       "      <td>726.01</td>\n",
       "      <td>34.84</td>\n",
       "      <td>5.0</td>\n",
       "    </tr>\n",
       "    <tr>\n",
       "      <th>DK</th>\n",
       "      <td>200.42</td>\n",
       "      <td>223.17</td>\n",
       "      <td>22.74</td>\n",
       "      <td>10.0</td>\n",
       "    </tr>\n",
       "    <tr>\n",
       "      <th>GB</th>\n",
       "      <td>256.56</td>\n",
       "      <td>287.08</td>\n",
       "      <td>30.52</td>\n",
       "      <td>11.0</td>\n",
       "    </tr>\n",
       "    <tr>\n",
       "      <th>SE</th>\n",
       "      <td>13.29</td>\n",
       "      <td>15.36</td>\n",
       "      <td>2.07</td>\n",
       "      <td>13.0</td>\n",
       "    </tr>\n",
       "    <tr>\n",
       "      <th>ES</th>\n",
       "      <td>291.10</td>\n",
       "      <td>342.77</td>\n",
       "      <td>51.67</td>\n",
       "      <td>15.0</td>\n",
       "    </tr>\n",
       "    <tr>\n",
       "      <th>BG</th>\n",
       "      <td>449.79</td>\n",
       "      <td>527.36</td>\n",
       "      <td>77.57</td>\n",
       "      <td>15.0</td>\n",
       "    </tr>\n",
       "    <tr>\n",
       "      <th>HU</th>\n",
       "      <td>265.61</td>\n",
       "      <td>318.21</td>\n",
       "      <td>52.60</td>\n",
       "      <td>17.0</td>\n",
       "    </tr>\n",
       "    <tr>\n",
       "      <th>IT</th>\n",
       "      <td>262.45</td>\n",
       "      <td>323.79</td>\n",
       "      <td>61.34</td>\n",
       "      <td>19.0</td>\n",
       "    </tr>\n",
       "    <tr>\n",
       "      <th>CY</th>\n",
       "      <td>703.98</td>\n",
       "      <td>879.69</td>\n",
       "      <td>175.72</td>\n",
       "      <td>20.0</td>\n",
       "    </tr>\n",
       "    <tr>\n",
       "      <th>AT</th>\n",
       "      <td>106.16</td>\n",
       "      <td>136.27</td>\n",
       "      <td>30.11</td>\n",
       "      <td>22.0</td>\n",
       "    </tr>\n",
       "    <tr>\n",
       "      <th>SI</th>\n",
       "      <td>260.85</td>\n",
       "      <td>342.20</td>\n",
       "      <td>81.35</td>\n",
       "      <td>24.0</td>\n",
       "    </tr>\n",
       "    <tr>\n",
       "      <th>FI</th>\n",
       "      <td>115.63</td>\n",
       "      <td>155.46</td>\n",
       "      <td>39.84</td>\n",
       "      <td>26.0</td>\n",
       "    </tr>\n",
       "    <tr>\n",
       "      <th>SK</th>\n",
       "      <td>144.24</td>\n",
       "      <td>231.71</td>\n",
       "      <td>87.48</td>\n",
       "      <td>38.0</td>\n",
       "    </tr>\n",
       "    <tr>\n",
       "      <th>LV</th>\n",
       "      <td>148.24</td>\n",
       "      <td>260.32</td>\n",
       "      <td>112.08</td>\n",
       "      <td>43.0</td>\n",
       "    </tr>\n",
       "    <tr>\n",
       "      <th>LT</th>\n",
       "      <td>60.45</td>\n",
       "      <td>129.60</td>\n",
       "      <td>69.16</td>\n",
       "      <td>53.0</td>\n",
       "    </tr>\n",
       "  </tbody>\n",
       "</table>\n",
       "</div>"
      ],
      "text/plain": [
       "         CI_top_down  CI_bottom_up  diff_bottom_up_vs_CI_top_down  diff_pro\n",
       "country                                                                    \n",
       "FR             56.57         37.16                         -19.41     -52.0\n",
       "NO             19.45         16.32                          -3.13     -19.0\n",
       "BE            218.56        194.79                         -23.77     -12.0\n",
       "EE            943.07        895.14                         -47.93      -5.0\n",
       "PT            326.01        317.05                          -8.95      -3.0\n",
       "PL            833.30        837.94                           4.64       1.0\n",
       "NL            465.48        469.08                           3.59       1.0\n",
       "CZ            470.43        479.78                           9.35       2.0\n",
       "DE            423.38        435.15                          11.77       3.0\n",
       "IE            369.52        386.85                          17.33       4.0\n",
       "RO            308.48        321.03                          12.55       4.0\n",
       "GR            691.17        726.01                          34.84       5.0\n",
       "DK            200.42        223.17                          22.74      10.0\n",
       "GB            256.56        287.08                          30.52      11.0\n",
       "SE             13.29         15.36                           2.07      13.0\n",
       "ES            291.10        342.77                          51.67      15.0\n",
       "BG            449.79        527.36                          77.57      15.0\n",
       "HU            265.61        318.21                          52.60      17.0\n",
       "IT            262.45        323.79                          61.34      19.0\n",
       "CY            703.98        879.69                         175.72      20.0\n",
       "AT            106.16        136.27                          30.11      22.0\n",
       "SI            260.85        342.20                          81.35      24.0\n",
       "FI            115.63        155.46                          39.84      26.0\n",
       "SK            144.24        231.71                          87.48      38.0\n",
       "LV            148.24        260.32                         112.08      43.0\n",
       "LT             60.45        129.60                          69.16      53.0"
      ]
     },
     "execution_count": 32,
     "metadata": {},
     "output_type": "execute_result"
    }
   ],
   "source": [
    "round(CI_compar, 2).sort_values(by='diff_pro', ascending=True)"
   ]
  },
  {
   "cell_type": "markdown",
   "metadata": {},
   "source": [
    "# Compare Bottom Up and Top down in relation to possible errors in the data sets"
   ]
  },
  {
   "cell_type": "code",
   "execution_count": 33,
   "metadata": {},
   "outputs": [],
   "source": [
    "Indicator_compar['CI_indicator']  = (CI_compar['CI_bottom_up'] - CI_compar['CI_top_down']) / CI_compar['CI_bottom_up']"
   ]
  },
  {
   "cell_type": "code",
   "execution_count": 34,
   "metadata": {},
   "outputs": [],
   "source": [
    "ei_MAP = pd.read_csv(os.path.join(processed_directory_path,'ei_MAP_top_down.csv'), index_col=0)\n",
    "ei_AP = pd.read_csv(os.path.join(processed_directory_path,'ei_AP_top_down.csv'), index_col=0)\n"
   ]
  },
  {
   "cell_type": "code",
   "execution_count": 35,
   "metadata": {},
   "outputs": [],
   "source": [
    "Indicator_EI = ((ei_AP) / (ei_AP + ei_MAP))"
   ]
  },
  {
   "cell_type": "code",
   "execution_count": 36,
   "metadata": {},
   "outputs": [],
   "source": [
    "Indicator_compar['EI_indicator'] = Indicator_EI.loc[2018].squeeze() "
   ]
  },
  {
   "cell_type": "code",
   "execution_count": 37,
   "metadata": {},
   "outputs": [
    {
     "data": {
      "text/html": [
       "<div>\n",
       "<style scoped>\n",
       "    .dataframe tbody tr th:only-of-type {\n",
       "        vertical-align: middle;\n",
       "    }\n",
       "\n",
       "    .dataframe tbody tr th {\n",
       "        vertical-align: top;\n",
       "    }\n",
       "\n",
       "    .dataframe thead th {\n",
       "        text-align: right;\n",
       "    }\n",
       "</style>\n",
       "<table border=\"1\" class=\"dataframe\">\n",
       "  <thead>\n",
       "    <tr style=\"text-align: right;\">\n",
       "      <th></th>\n",
       "      <th>emission_delta_indicator</th>\n",
       "      <th>CI_delta_indicator</th>\n",
       "      <th>CI_delta_indicator_abs</th>\n",
       "      <th>CI_indicator</th>\n",
       "      <th>EI_indicator</th>\n",
       "    </tr>\n",
       "    <tr>\n",
       "      <th>country</th>\n",
       "      <th></th>\n",
       "      <th></th>\n",
       "      <th></th>\n",
       "      <th></th>\n",
       "      <th></th>\n",
       "    </tr>\n",
       "  </thead>\n",
       "  <tbody>\n",
       "    <tr>\n",
       "      <th>AT</th>\n",
       "      <td>0.441242</td>\n",
       "      <td>0.360014</td>\n",
       "      <td>0.360014</td>\n",
       "      <td>0.220962</td>\n",
       "      <td>0.331902</td>\n",
       "    </tr>\n",
       "    <tr>\n",
       "      <th>BE</th>\n",
       "      <td>0.000000</td>\n",
       "      <td>-0.025468</td>\n",
       "      <td>0.025468</td>\n",
       "      <td>-0.122026</td>\n",
       "      <td>0.121718</td>\n",
       "    </tr>\n",
       "    <tr>\n",
       "      <th>BG</th>\n",
       "      <td>0.000000</td>\n",
       "      <td>-0.008020</td>\n",
       "      <td>0.008020</td>\n",
       "      <td>0.147090</td>\n",
       "      <td>0.017587</td>\n",
       "    </tr>\n",
       "    <tr>\n",
       "      <th>CH</th>\n",
       "      <td>0.000000</td>\n",
       "      <td>0.000000</td>\n",
       "      <td>0.000000</td>\n",
       "      <td>NaN</td>\n",
       "      <td>NaN</td>\n",
       "    </tr>\n",
       "    <tr>\n",
       "      <th>CY</th>\n",
       "      <td>0.062271</td>\n",
       "      <td>0.002854</td>\n",
       "      <td>0.002854</td>\n",
       "      <td>0.199746</td>\n",
       "      <td>0.001967</td>\n",
       "    </tr>\n",
       "    <tr>\n",
       "      <th>CZ</th>\n",
       "      <td>0.030196</td>\n",
       "      <td>-0.013692</td>\n",
       "      <td>0.013692</td>\n",
       "      <td>0.019484</td>\n",
       "      <td>0.093155</td>\n",
       "    </tr>\n",
       "    <tr>\n",
       "      <th>DE</th>\n",
       "      <td>0.094196</td>\n",
       "      <td>-0.004042</td>\n",
       "      <td>0.004042</td>\n",
       "      <td>0.027047</td>\n",
       "      <td>0.122422</td>\n",
       "    </tr>\n",
       "    <tr>\n",
       "      <th>DK</th>\n",
       "      <td>0.054623</td>\n",
       "      <td>0.033036</td>\n",
       "      <td>0.033036</td>\n",
       "      <td>0.101912</td>\n",
       "      <td>0.168807</td>\n",
       "    </tr>\n",
       "    <tr>\n",
       "      <th>EE</th>\n",
       "      <td>0.939322</td>\n",
       "      <td>0.672145</td>\n",
       "      <td>0.672145</td>\n",
       "      <td>-0.053544</td>\n",
       "      <td>0.005290</td>\n",
       "    </tr>\n",
       "    <tr>\n",
       "      <th>ES</th>\n",
       "      <td>0.373126</td>\n",
       "      <td>0.281824</td>\n",
       "      <td>0.281824</td>\n",
       "      <td>0.150747</td>\n",
       "      <td>0.214318</td>\n",
       "    </tr>\n",
       "    <tr>\n",
       "      <th>FI</th>\n",
       "      <td>0.000000</td>\n",
       "      <td>-0.113428</td>\n",
       "      <td>0.113428</td>\n",
       "      <td>0.256243</td>\n",
       "      <td>0.062645</td>\n",
       "    </tr>\n",
       "    <tr>\n",
       "      <th>FR</th>\n",
       "      <td>0.042883</td>\n",
       "      <td>0.027464</td>\n",
       "      <td>0.027464</td>\n",
       "      <td>-0.522294</td>\n",
       "      <td>0.207088</td>\n",
       "    </tr>\n",
       "    <tr>\n",
       "      <th>GB</th>\n",
       "      <td>0.086587</td>\n",
       "      <td>0.027301</td>\n",
       "      <td>0.027301</td>\n",
       "      <td>0.106319</td>\n",
       "      <td>0.168740</td>\n",
       "    </tr>\n",
       "    <tr>\n",
       "      <th>GR</th>\n",
       "      <td>0.000000</td>\n",
       "      <td>-0.021203</td>\n",
       "      <td>0.021203</td>\n",
       "      <td>0.047984</td>\n",
       "      <td>0.048040</td>\n",
       "    </tr>\n",
       "    <tr>\n",
       "      <th>HU</th>\n",
       "      <td>0.000000</td>\n",
       "      <td>-0.050236</td>\n",
       "      <td>0.050236</td>\n",
       "      <td>0.165285</td>\n",
       "      <td>0.041196</td>\n",
       "    </tr>\n",
       "    <tr>\n",
       "      <th>IE</th>\n",
       "      <td>0.176387</td>\n",
       "      <td>0.003277</td>\n",
       "      <td>0.003277</td>\n",
       "      <td>0.044792</td>\n",
       "      <td>0.079263</td>\n",
       "    </tr>\n",
       "    <tr>\n",
       "      <th>IT</th>\n",
       "      <td>0.214268</td>\n",
       "      <td>-0.016035</td>\n",
       "      <td>0.016035</td>\n",
       "      <td>0.189440</td>\n",
       "      <td>0.159820</td>\n",
       "    </tr>\n",
       "    <tr>\n",
       "      <th>LT</th>\n",
       "      <td>0.081649</td>\n",
       "      <td>0.058112</td>\n",
       "      <td>0.058112</td>\n",
       "      <td>0.533607</td>\n",
       "      <td>0.172003</td>\n",
       "    </tr>\n",
       "    <tr>\n",
       "      <th>LV</th>\n",
       "      <td>0.000000</td>\n",
       "      <td>-0.042393</td>\n",
       "      <td>0.042393</td>\n",
       "      <td>0.430543</td>\n",
       "      <td>0.008618</td>\n",
       "    </tr>\n",
       "    <tr>\n",
       "      <th>ME</th>\n",
       "      <td>0.000000</td>\n",
       "      <td>-0.288991</td>\n",
       "      <td>0.288991</td>\n",
       "      <td>NaN</td>\n",
       "      <td>NaN</td>\n",
       "    </tr>\n",
       "    <tr>\n",
       "      <th>NL</th>\n",
       "      <td>0.373363</td>\n",
       "      <td>-0.038994</td>\n",
       "      <td>0.038994</td>\n",
       "      <td>0.007659</td>\n",
       "      <td>0.179037</td>\n",
       "    </tr>\n",
       "    <tr>\n",
       "      <th>NO</th>\n",
       "      <td>0.024270</td>\n",
       "      <td>0.023223</td>\n",
       "      <td>0.023223</td>\n",
       "      <td>-0.191480</td>\n",
       "      <td>0.670183</td>\n",
       "    </tr>\n",
       "    <tr>\n",
       "      <th>PL</th>\n",
       "      <td>0.020583</td>\n",
       "      <td>-0.040040</td>\n",
       "      <td>0.040040</td>\n",
       "      <td>0.005539</td>\n",
       "      <td>0.066422</td>\n",
       "    </tr>\n",
       "    <tr>\n",
       "      <th>PT</th>\n",
       "      <td>0.000000</td>\n",
       "      <td>-0.007280</td>\n",
       "      <td>0.007280</td>\n",
       "      <td>-0.028244</td>\n",
       "      <td>0.229104</td>\n",
       "    </tr>\n",
       "    <tr>\n",
       "      <th>RO</th>\n",
       "      <td>0.000000</td>\n",
       "      <td>-0.008283</td>\n",
       "      <td>0.008283</td>\n",
       "      <td>0.039100</td>\n",
       "      <td>0.184926</td>\n",
       "    </tr>\n",
       "    <tr>\n",
       "      <th>RS</th>\n",
       "      <td>0.195681</td>\n",
       "      <td>0.062208</td>\n",
       "      <td>0.062208</td>\n",
       "      <td>NaN</td>\n",
       "      <td>NaN</td>\n",
       "    </tr>\n",
       "    <tr>\n",
       "      <th>SE</th>\n",
       "      <td>0.396568</td>\n",
       "      <td>0.380042</td>\n",
       "      <td>0.380042</td>\n",
       "      <td>0.134708</td>\n",
       "      <td>0.043351</td>\n",
       "    </tr>\n",
       "    <tr>\n",
       "      <th>SI</th>\n",
       "      <td>0.051744</td>\n",
       "      <td>0.021674</td>\n",
       "      <td>0.021674</td>\n",
       "      <td>0.237722</td>\n",
       "      <td>0.018769</td>\n",
       "    </tr>\n",
       "    <tr>\n",
       "      <th>SK</th>\n",
       "      <td>0.077306</td>\n",
       "      <td>0.002523</td>\n",
       "      <td>0.002523</td>\n",
       "      <td>0.377519</td>\n",
       "      <td>0.172730</td>\n",
       "    </tr>\n",
       "  </tbody>\n",
       "</table>\n",
       "</div>"
      ],
      "text/plain": [
       "         emission_delta_indicator  CI_delta_indicator  CI_delta_indicator_abs  \\\n",
       "country                                                                         \n",
       "AT                       0.441242            0.360014                0.360014   \n",
       "BE                       0.000000           -0.025468                0.025468   \n",
       "BG                       0.000000           -0.008020                0.008020   \n",
       "CH                       0.000000            0.000000                0.000000   \n",
       "CY                       0.062271            0.002854                0.002854   \n",
       "CZ                       0.030196           -0.013692                0.013692   \n",
       "DE                       0.094196           -0.004042                0.004042   \n",
       "DK                       0.054623            0.033036                0.033036   \n",
       "EE                       0.939322            0.672145                0.672145   \n",
       "ES                       0.373126            0.281824                0.281824   \n",
       "FI                       0.000000           -0.113428                0.113428   \n",
       "FR                       0.042883            0.027464                0.027464   \n",
       "GB                       0.086587            0.027301                0.027301   \n",
       "GR                       0.000000           -0.021203                0.021203   \n",
       "HU                       0.000000           -0.050236                0.050236   \n",
       "IE                       0.176387            0.003277                0.003277   \n",
       "IT                       0.214268           -0.016035                0.016035   \n",
       "LT                       0.081649            0.058112                0.058112   \n",
       "LV                       0.000000           -0.042393                0.042393   \n",
       "ME                       0.000000           -0.288991                0.288991   \n",
       "NL                       0.373363           -0.038994                0.038994   \n",
       "NO                       0.024270            0.023223                0.023223   \n",
       "PL                       0.020583           -0.040040                0.040040   \n",
       "PT                       0.000000           -0.007280                0.007280   \n",
       "RO                       0.000000           -0.008283                0.008283   \n",
       "RS                       0.195681            0.062208                0.062208   \n",
       "SE                       0.396568            0.380042                0.380042   \n",
       "SI                       0.051744            0.021674                0.021674   \n",
       "SK                       0.077306            0.002523                0.002523   \n",
       "\n",
       "         CI_indicator  EI_indicator  \n",
       "country                              \n",
       "AT           0.220962      0.331902  \n",
       "BE          -0.122026      0.121718  \n",
       "BG           0.147090      0.017587  \n",
       "CH                NaN           NaN  \n",
       "CY           0.199746      0.001967  \n",
       "CZ           0.019484      0.093155  \n",
       "DE           0.027047      0.122422  \n",
       "DK           0.101912      0.168807  \n",
       "EE          -0.053544      0.005290  \n",
       "ES           0.150747      0.214318  \n",
       "FI           0.256243      0.062645  \n",
       "FR          -0.522294      0.207088  \n",
       "GB           0.106319      0.168740  \n",
       "GR           0.047984      0.048040  \n",
       "HU           0.165285      0.041196  \n",
       "IE           0.044792      0.079263  \n",
       "IT           0.189440      0.159820  \n",
       "LT           0.533607      0.172003  \n",
       "LV           0.430543      0.008618  \n",
       "ME                NaN           NaN  \n",
       "NL           0.007659      0.179037  \n",
       "NO          -0.191480      0.670183  \n",
       "PL           0.005539      0.066422  \n",
       "PT          -0.028244      0.229104  \n",
       "RO           0.039100      0.184926  \n",
       "RS                NaN           NaN  \n",
       "SE           0.134708      0.043351  \n",
       "SI           0.237722      0.018769  \n",
       "SK           0.377519      0.172730  "
      ]
     },
     "execution_count": 37,
     "metadata": {},
     "output_type": "execute_result"
    }
   ],
   "source": [
    "Indicator_compar"
   ]
  },
  {
   "cell_type": "code",
   "execution_count": 38,
   "metadata": {},
   "outputs": [
    {
     "data": {
      "text/plain": [
       "<matplotlib.legend.Legend at 0x1de529e9188>"
      ]
     },
     "execution_count": 38,
     "metadata": {},
     "output_type": "execute_result"
    },
    {
     "data": {
      "image/png": "[encoded data removed]",
      "text/plain": [
       "<Figure size 1080x432 with 1 Axes>"
      ]
     },
     "metadata": {},
     "output_type": "display_data"
    }
   ],
   "source": [
    "fig, ax = plt.subplots(1, 1)\n",
    "\n",
    "ax = sns.scatterplot(data=Indicator_compar, x=\"CI_indicator\", y=\"EI_indicator\", hue=Indicator_compar.index, s=200, style=Indicator_compar.index)\n",
    "#CI_compar.plot(kind='scatter', x=\"indikator_CI\", y=\"indikator_em\", ax=ax, alpha=0.6, s=10, edgecolor='black')\n",
    "\n",
    "ax.set_xlabel(\"CI Delta\" , fontsize=20)\n",
    "ax.set_ylabel(\"EI Delta\", fontsize=20)\n",
    "\n",
    "ax.tick_params(axis='y',labelsize=19)\n",
    "ax.tick_params(axis='x',labelsize=19)\n",
    "\n",
    "ax.tick_params(axis='x', rotation=45)\n",
    "\n",
    "ax.legend(bbox_to_anchor=(1.01, 1),\n",
    "           borderaxespad=0)\n",
    "\n",
    "#CI_compar.plot(x='indikator_CI',y='indikator_em',kind='scatter',legend=True)"
   ]
  },
  {
   "cell_type": "code",
   "execution_count": 39,
   "metadata": {},
   "outputs": [],
   "source": [
    "fig.savefig(os.path.join(output_directory_path + '/_CI_indicator_EI_MAP_AP.png'))"
   ]
  },
  {
   "cell_type": "code",
   "execution_count": 40,
   "metadata": {},
   "outputs": [
    {
     "data": {
      "text/plain": [
       "<matplotlib.legend.Legend at 0x1de534f07c8>"
      ]
     },
     "execution_count": 40,
     "metadata": {},
     "output_type": "execute_result"
    },
    {
     "data": {
      "image/png": "[encoded data removed]",
      "text/plain": [
       "<Figure size 1080x432 with 1 Axes>"
      ]
     },
     "metadata": {},
     "output_type": "display_data"
    }
   ],
   "source": [
    "fig, ax = plt.subplots(1, 1)\n",
    "\n",
    "ax = sns.scatterplot(data=Indicator_compar, x=\"CI_indicator\", y=\"emission_delta_indicator\", hue=Indicator_compar.index, s=200, style=Indicator_compar.index)\n",
    "#CI_compar.plot(kind='scatter', x=\"indikator_CI\", y=\"indikator_em\", ax=ax, alpha=0.6, s=10, edgecolor='black')\n",
    "\n",
    "ax.set_xlabel(\"CI Delta\" , fontsize=20)\n",
    "ax.set_ylabel(\"EM Delta\", fontsize=20)\n",
    "\n",
    "ax.tick_params(axis='y',labelsize=19)\n",
    "ax.tick_params(axis='x',labelsize=19)\n",
    "\n",
    "ax.tick_params(axis='x', rotation=45)\n",
    "\n",
    "ax.legend(bbox_to_anchor=(1.01, 1),\n",
    "           borderaxespad=0)\n",
    "\n",
    "#CI_compar.plot(x='indikator_CI',y='indikator_em',kind='scatter',legend=True)"
   ]
  },
  {
   "cell_type": "code",
   "execution_count": 41,
   "metadata": {},
   "outputs": [],
   "source": [
    "fig.savefig(os.path.join(output_directory_path + '/_CI_indicator_EM_org_scaled.png'))"
   ]
  },
  {
   "cell_type": "markdown",
   "metadata": {},
   "source": [
    "# Export results "
   ]
  },
  {
   "cell_type": "code",
   "execution_count": 42,
   "metadata": {},
   "outputs": [],
   "source": [
    "round(CI_compar, 2).sort_values(by='CI_top_down', ascending=True).to_csv(output_directory_path + '/CI_table.csv')"
   ]
  }
 ],
 "metadata": {
  "kernelspec": {
   "display_name": "Python 3",
   "language": "python",
   "name": "python3"
  },
  "language_info": {
   "codemirror_mode": {
    "name": "ipython",
    "version": 3
   },
   "file_extension": ".py",
   "mimetype": "text/x-python",
   "name": "python",
   "nbconvert_exporter": "python",
   "pygments_lexer": "ipython3",
   "version": "3.7.9"
  },
  "toc": {
   "base_numbering": 1,
   "nav_menu": {},
   "number_sections": true,
   "sideBar": true,
   "skip_h1_title": false,
   "title_cell": "Table of Contents",
   "title_sidebar": "Contents",
   "toc_cell": true,
   "toc_position": {},
   "toc_section_display": true,
   "toc_window_display": false
  }
 },
 "nbformat": 4,
 "nbformat_minor": 4
}
