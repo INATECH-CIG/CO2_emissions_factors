{
 "cells": [
  {
   "cell_type": "markdown",
   "metadata": {},
   "source": [
    "# CO2 calculation bottom up methode; From power plant data to country aggregated CO2 intensity of electricity generation"
   ]
  },
  {
   "cell_type": "markdown",
   "metadata": {},
   "source": [
    "In this script we calculated an CO2 emission factor per country out of hourly power plant generation and yearly published emission data on plant level.\n",
    "\n",
    "The used method follows the idea to calculated a CI for specific power plants. In a second step an representative sample of power plants for a country is build and an CI for each technology and country is calculated."
   ]
  },
  {
   "cell_type": "markdown",
   "metadata": {},
   "source": [
    "# Script setup"
   ]
  },
  {
   "cell_type": "code",
   "execution_count": 126,
   "metadata": {},
   "outputs": [],
   "source": [
    "import os\n",
    "import logging\n",
    "\n",
    "import pandas as pd\n",
    "import seaborn as sns\n",
    "import matplotlib.pyplot as plt\n",
    "from matplotlib.dates import DateFormatter\n",
    "from IPython.display import Image \n",
    "\n",
    "%matplotlib inline\n",
    "plt.style.use('seaborn')\n",
    "plt.rcParams['figure.figsize'] = [15, 10]\n",
    "\n",
    "#helpers\n"
   ]
  },
  {
   "cell_type": "markdown",
   "metadata": {},
   "source": [
    "# Data directory preparention"
   ]
  },
  {
   "cell_type": "markdown",
   "metadata": {},
   "source": [
    "Create input, processed and output folders if they don't exist\n",
    "If the paths are relative, the corresponding folders will be created inside the current working directory."
   ]
  },
  {
   "cell_type": "code",
   "execution_count": 127,
   "metadata": {},
   "outputs": [],
   "source": [
    "input_directory_path = os.path.join('input')\n",
    "Bootom_up_methode_input_directory_path = os.path.join('input', 'Bootom_up_methode')\n",
    "processed_directory_path = 'processed'\n",
    "output_directory_path = os.path.join('output')\n",
    "\n",
    "os.makedirs(input_directory_path, exist_ok=True)\n",
    "os.makedirs(Bootom_up_methode_input_directory_path, exist_ok=True)\n",
    "os.makedirs(processed_directory_path, exist_ok=True)\n",
    "os.makedirs(output_directory_path, exist_ok=True)"
   ]
  },
  {
   "cell_type": "markdown",
   "metadata": {},
   "source": [
    "# Data file preperation"
   ]
  },
  {
   "cell_type": "markdown",
   "metadata": {},
   "source": [
    "The directory `input/Bootom_up_method` should contain all necessary raw data files.\n",
    "\n",
    "Based on the developed method the following data sets needed:\n",
    "\n",
    "1) Matcher for power plants in Entso e and EUTL Data for Europe\n",
    "The matching was performed by a manual process (see description).\n",
    "\n",
    "File - > Matching_Entso_EUTL_EU.csv\n",
    "\n",
    "2) EU Emissions Data (EUTL)\n",
    "Data are provided in the report section. See the following link:\n",
    "https://ec.europa.eu/clima/policies/ets/registry_en#tab-0-1\n",
    "\n",
    "For example: ->Documentation->Reports->Verified Emissions for 2019\n",
    "\n",
    "File - > \"Verified Emissions for 2019\" -> verified_emissions_2018_en.xlsx -> converted to .csv\n",
    "\n",
    "Another way to check the data is directly through the European Union Transaction Log:\n",
    "https://ec.europa.eu/clima/ets/napMgt.do?languageCode=en\n",
    "\n",
    "3) ENTSO e Data\n",
    "Production per Unit from ENTSO-E\n",
    "Original data: ENTSO-E Transparency Platform, Actual Generation per Generation Unit Available online: https://transparency.entsoe.eu/generation/r2/actualGenerationPerGenerationUnit/show (accessed on Apr 29, 2020).\n",
    "Processed with the following script that converts the data to hourly resolution (private script from INATECH):\n",
    "https://github.com/INATECH-CIG/entso-e_GenerationOutputPerUnit\n",
    "\n",
    "\n",
    "File - > gen_data.csv -> hourly generation data per unit\\\n",
    "\n",
    "File - > unit_data.csv -> information about the generation units\n",
    "\n",
    "4) Entso unit generation data from EMBER\n",
    "The Entso e data has lot of gaps and need to be preprocessing (is done partly and the result is different than the one from Ember)\n",
    "\n",
    "File - > entsoe_unit_gen_data.csv\n",
    "\n",
    "\n"
   ]
  },
  {
   "cell_type": "code",
   "execution_count": 128,
   "metadata": {},
   "outputs": [
    {
     "name": "stdout",
     "output_type": "stream",
     "text": [
      "['input\\\\Bootom_up_methode\\\\entsoe_unit_gen_data.csv', 'input\\\\Bootom_up_methode\\\\gen_data.csv', 'input\\\\Bootom_up_methode\\\\Matching_Entso_EUTL_EU.csv', 'input\\\\Bootom_up_methode\\\\Matching_Entso_EUTL_EU_2.csv', 'input\\\\Bootom_up_methode\\\\Matching_Entso_EUTL_LCPD.csv', 'input\\\\Bootom_up_methode\\\\unit_data.csv', 'input\\\\Bootom_up_methode\\\\verified_emissions_2018_en.csv', 'input\\\\Bootom_up_methode\\\\verified_emissions_2018_en.xlsx']\n"
     ]
    }
   ],
   "source": [
    "# Checks if the the input directories are empty or not\n",
    "# Checks all filenames in the input directory\n",
    "\n",
    "if not os.listdir(Bootom_up_methode_input_directory_path) :\n",
    "    print(\"The directory for the bootom up method is empty. Please provide the data to the directory as described in the instructions above.\")\n",
    "\n",
    "\n",
    "filenames = [os.path.join(Bootom_up_methode_input_directory_path, fn) for fn in os.listdir(Bootom_up_methode_input_directory_path)]\n",
    "\n",
    "print(filenames)"
   ]
  },
  {
   "cell_type": "markdown",
   "metadata": {},
   "source": [
    "# Load data functions"
   ]
  },
  {
   "cell_type": "code",
   "execution_count": 43,
   "metadata": {},
   "outputs": [],
   "source": [
    "def load_matching_data_EU(path, fn):\n",
    "    \"\"\"\n",
    "    Matching List for EU power plants with Entso e identifier and the EUTL identifier.\n",
    "        \n",
    "    Parameters\n",
    "    ----------\n",
    "    path: str\n",
    "        path to data\n",
    "    fn : str\n",
    "        filename\n",
    "        \n",
    "    \"\"\"\n",
    "    \n",
    "    logging.info(f'Loading data from {fn}')\n",
    "    \n",
    "    df = pd.read_csv(os.path.join(path, fn), sep = ',', header = 0, index_col=0)\n",
    "\n",
    "    return df\n",
    "\n",
    "def load_EUTL_data(path, fn):\n",
    "    \"\"\"\n",
    "    EU Emissions Data (EUTL)\n",
    "        \n",
    "    Parameters\n",
    "    ----------\n",
    "    path: str\n",
    "        path to data\n",
    "    fn : str\n",
    "        filename\n",
    "        \n",
    "    \"\"\"\n",
    "    \n",
    "    logging.info(f'Loading data from {fn}')\n",
    "    \n",
    "    df = pd.read_csv(os.path.join(path, fn),sep = ';',header = 13,encoding ='unicode_escape' )\n",
    "\n",
    "    return df\n",
    "\n",
    "def load_generation_data(path, fn):\n",
    "    \"\"\"\n",
    "    Entso e gernation data per unit\n",
    "        \n",
    "    Parameters\n",
    "    ----------\n",
    "    path: str\n",
    "        path to data\n",
    "    fn : str\n",
    "        filename\n",
    "        \n",
    "    \"\"\"\n",
    "    \n",
    "    logging.info(f'Loading data from {fn}')\n",
    "    \n",
    "    df = pd.read_csv(os.path.join(path, fn),sep = ',',index_col=0,parse_dates=True)\n",
    "\n",
    "    return df\n",
    "\n",
    "def load_unit_data(path, fn):\n",
    "    \"\"\"\n",
    "    Entso e generation unit information\n",
    "        \n",
    "    Parameters\n",
    "    ----------\n",
    "    path: str\n",
    "        path to data\n",
    "    fn : str\n",
    "        filename\n",
    "        \n",
    "    \"\"\"\n",
    "    \n",
    "    logging.info(f'Loading data from {fn}')\n",
    "    \n",
    "    df = pd.read_csv(os.path.join(path, fn),sep = ',',index_col=0)\n",
    "    # set name for the index\n",
    "    df.index.set_names('GenerationUnitEIC', inplace=True)\n",
    "\n",
    "    return df\n",
    "\n",
    "def load_unit_data_ember(path, fn):\n",
    "    \"\"\"\n",
    "    Entso e unit generation from ember\n",
    "        \n",
    "    Parameters\n",
    "    ----------\n",
    "    path: str\n",
    "        path to data\n",
    "    fn : str\n",
    "        filename\n",
    "        \n",
    "    \"\"\"\n",
    "    \n",
    "    logging.info(f'Loading data from {fn}')\n",
    "    \n",
    "    df = pd.read_csv(os.path.join(path, fn), sep = ';', header = 0, encoding = 'unicode_escape')\n",
    "\n",
    "    return df"
   ]
  },
  {
   "cell_type": "markdown",
   "metadata": {},
   "source": [
    "# Load data sets"
   ]
  },
  {
   "cell_type": "markdown",
   "metadata": {},
   "source": [
    "Load power plant generation data."
   ]
  },
  {
   "cell_type": "code",
   "execution_count": 4,
   "metadata": {},
   "outputs": [],
   "source": [
    "generation_per_unit = load_generation_data(Bootom_up_methode_input_directory_path, 'gen_data.csv')"
   ]
  },
  {
   "cell_type": "markdown",
   "metadata": {},
   "source": [
    "Load power plant unit inforamtion (capacity, name, etc.)"
   ]
  },
  {
   "cell_type": "code",
   "execution_count": 129,
   "metadata": {},
   "outputs": [],
   "source": [
    "generation_unit_info = load_unit_data(Bootom_up_methode_input_directory_path, 'unit_data.csv')"
   ]
  },
  {
   "cell_type": "markdown",
   "metadata": {},
   "source": [
    "Load CO2_emissions data from EUTL dataset"
   ]
  },
  {
   "cell_type": "code",
   "execution_count": 6,
   "metadata": {},
   "outputs": [],
   "source": [
    "EUTL_emissions = load_EUTL_data(Bootom_up_methode_input_directory_path, 'verified_emissions_2018_en.csv')"
   ]
  },
  {
   "cell_type": "markdown",
   "metadata": {},
   "source": [
    "Load machting information for power plant data"
   ]
  },
  {
   "cell_type": "code",
   "execution_count": null,
   "metadata": {},
   "outputs": [],
   "source": [
    "unit_matching_EU = load_matching_data_EU(Bootom_up_methode_input_directory_path, 'Matching_Entso_EUTL_EU.csv')"
   ]
  },
  {
   "cell_type": "code",
   "execution_count": null,
   "metadata": {},
   "outputs": [],
   "source": []
  },
  {
   "cell_type": "markdown",
   "metadata": {},
   "source": [
    "following data are not needed (testdata)"
   ]
  },
  {
   "cell_type": "code",
   "execution_count": 130,
   "metadata": {},
   "outputs": [],
   "source": [
    "#generation_per_unit_ember = load_unit_data_ember(Bootom_up_methode_input_directory_path, 'entsoe_unit_gen_data.csv') \n",
    "\n",
    "#generation_per_unit_ember = generation_per_unit_ember[generation_per_unit_ember.Year == 2018]\n",
    "\n",
    "#generation_per_unit_ember = generation_per_unit_ember.groupby(by = 'PowerSystemResourceName').sum()['Monthly Generation (GWh)']"
   ]
  },
  {
   "cell_type": "code",
   "execution_count": 131,
   "metadata": {},
   "outputs": [],
   "source": [
    "#unit_matching_EU_2 = load_matching_data_EU(Bootom_up_methode_input_directory_path, 'Matching_Entso_EUTL_EU_2.csv')"
   ]
  },
  {
   "cell_type": "markdown",
   "metadata": {},
   "source": [
    "# Yearly power generation per unit"
   ]
  },
  {
   "cell_type": "markdown",
   "metadata": {},
   "source": [
    "Store the yearly generation per power plant to the power plant information data set."
   ]
  },
  {
   "cell_type": "code",
   "execution_count": 132,
   "metadata": {},
   "outputs": [],
   "source": [
    "generation_unit_info['yearly_generation_2018'] = generation_per_unit.sum()"
   ]
  },
  {
   "cell_type": "markdown",
   "metadata": {},
   "source": [
    "following part not needed"
   ]
  },
  {
   "cell_type": "markdown",
   "metadata": {},
   "source": [
    "vergleich unsere Jährliche Erzeugung mit denen, die wir von Ember bekommen haben (in 12, in Gfuellner Code) . Die unserscheidet sich. Was macht Ember noch mit den Daten?"
   ]
  },
  {
   "cell_type": "code",
   "execution_count": 133,
   "metadata": {},
   "outputs": [],
   "source": [
    "#generation_unit_info[generation_unit_info.PowerSystemResourceName == 'Scheldelaan Exxonmobil']"
   ]
  },
  {
   "cell_type": "markdown",
   "metadata": {},
   "source": [
    "Combining matching information to generation unit info"
   ]
  },
  {
   "cell_type": "code",
   "execution_count": 136,
   "metadata": {},
   "outputs": [],
   "source": [
    "generation_unit_info_matcher = pd.merge(generation_unit_info, unit_matching_EU, on='PowerSystemResourceName', how='inner')"
   ]
  },
  {
   "cell_type": "code",
   "execution_count": 138,
   "metadata": {},
   "outputs": [
    {
     "data": {
      "text/html": [
       "<div>\n",
       "<style scoped>\n",
       "    .dataframe tbody tr th:only-of-type {\n",
       "        vertical-align: middle;\n",
       "    }\n",
       "\n",
       "    .dataframe tbody tr th {\n",
       "        vertical-align: top;\n",
       "    }\n",
       "\n",
       "    .dataframe thead th {\n",
       "        text-align: right;\n",
       "    }\n",
       "</style>\n",
       "<table border=\"1\" class=\"dataframe\">\n",
       "  <thead>\n",
       "    <tr style=\"text-align: right;\">\n",
       "      <th></th>\n",
       "      <th>AreaCode</th>\n",
       "      <th>AreaName</th>\n",
       "      <th>AreaTypeCode</th>\n",
       "      <th>InstalledGenCapacity</th>\n",
       "      <th>MapCode</th>\n",
       "      <th>PowerSystemResourceName</th>\n",
       "      <th>ProductionTypeName</th>\n",
       "      <th>duplicate_count</th>\n",
       "      <th>yearly_generation_2018</th>\n",
       "      <th>countrycode</th>\n",
       "      <th>EUTL_ID</th>\n",
       "    </tr>\n",
       "  </thead>\n",
       "  <tbody>\n",
       "    <tr>\n",
       "      <th>0</th>\n",
       "      <td>10YAT-APG------L</td>\n",
       "      <td>APG CA</td>\n",
       "      <td>CTA</td>\n",
       "      <td>140.0</td>\n",
       "      <td>AT</td>\n",
       "      <td>Lau GuD</td>\n",
       "      <td>Fossil Gas</td>\n",
       "      <td>2.0</td>\n",
       "      <td>0.00</td>\n",
       "      <td>AT</td>\n",
       "      <td>86.0</td>\n",
       "    </tr>\n",
       "    <tr>\n",
       "      <th>1</th>\n",
       "      <td>10YAT-APG------L</td>\n",
       "      <td>APG CA</td>\n",
       "      <td>CTA</td>\n",
       "      <td>400.0</td>\n",
       "      <td>AT</td>\n",
       "      <td>Kraftwerk Timelkam GUD</td>\n",
       "      <td>Fossil Gas</td>\n",
       "      <td>2.0</td>\n",
       "      <td>685235.67</td>\n",
       "      <td>AT</td>\n",
       "      <td>149.0</td>\n",
       "    </tr>\n",
       "    <tr>\n",
       "      <th>2</th>\n",
       "      <td>10YAT-APG------L</td>\n",
       "      <td>APG CA</td>\n",
       "      <td>CTA</td>\n",
       "      <td>332.0</td>\n",
       "      <td>AT</td>\n",
       "      <td>KW Dürnrohr Block 2</td>\n",
       "      <td>Fossil Hard coal</td>\n",
       "      <td>2.0</td>\n",
       "      <td>745290.41</td>\n",
       "      <td>AT</td>\n",
       "      <td>94.0</td>\n",
       "    </tr>\n",
       "    <tr>\n",
       "      <th>3</th>\n",
       "      <td>10YAT-APG------L</td>\n",
       "      <td>APG CA</td>\n",
       "      <td>CTA</td>\n",
       "      <td>150.0</td>\n",
       "      <td>AT</td>\n",
       "      <td>KW Riedersbach 2 G2</td>\n",
       "      <td>Fossil Hard coal</td>\n",
       "      <td>2.0</td>\n",
       "      <td>0.00</td>\n",
       "      <td>AT</td>\n",
       "      <td>79.0</td>\n",
       "    </tr>\n",
       "    <tr>\n",
       "      <th>4</th>\n",
       "      <td>10Y1001A1001A796</td>\n",
       "      <td>Energinet CA</td>\n",
       "      <td>CTA</td>\n",
       "      <td>147.0</td>\n",
       "      <td>DK</td>\n",
       "      <td>Asnaesvaerket 2</td>\n",
       "      <td>Fossil Hard coal</td>\n",
       "      <td>1.0</td>\n",
       "      <td>219309.91</td>\n",
       "      <td>DK</td>\n",
       "      <td>48.0</td>\n",
       "    </tr>\n",
       "  </tbody>\n",
       "</table>\n",
       "</div>"
      ],
      "text/plain": [
       "           AreaCode      AreaName AreaTypeCode  InstalledGenCapacity MapCode  \\\n",
       "0  10YAT-APG------L        APG CA          CTA                 140.0      AT   \n",
       "1  10YAT-APG------L        APG CA          CTA                 400.0      AT   \n",
       "2  10YAT-APG------L        APG CA          CTA                 332.0      AT   \n",
       "3  10YAT-APG------L        APG CA          CTA                 150.0      AT   \n",
       "4  10Y1001A1001A796  Energinet CA          CTA                 147.0      DK   \n",
       "\n",
       "  PowerSystemResourceName ProductionTypeName  duplicate_count  \\\n",
       "0                 Lau GuD         Fossil Gas              2.0   \n",
       "1  Kraftwerk Timelkam GUD         Fossil Gas              2.0   \n",
       "2     KW Dürnrohr Block 2   Fossil Hard coal              2.0   \n",
       "3     KW Riedersbach 2 G2   Fossil Hard coal              2.0   \n",
       "4         Asnaesvaerket 2   Fossil Hard coal              1.0   \n",
       "\n",
       "   yearly_generation_2018 countrycode  EUTL_ID  \n",
       "0                    0.00          AT     86.0  \n",
       "1               685235.67          AT    149.0  \n",
       "2               745290.41          AT     94.0  \n",
       "3                    0.00          AT     79.0  \n",
       "4               219309.91          DK     48.0  "
      ]
     },
     "execution_count": 138,
     "metadata": {},
     "output_type": "execute_result"
    }
   ],
   "source": [
    "generation_unit_info_matcher.head()"
   ]
  },
  {
   "cell_type": "code",
   "execution_count": null,
   "metadata": {},
   "outputs": [],
   "source": [
    "#not needed anymore\n",
    "#generation_per_unit_ember = generation_per_unit_ember.groupby(by = 'PowerSystemResourceName').agg({'Monthly Generation (GWh)': 'sum',\n",
    "                                                                       'MapCode':'first',\n",
    "                                                                       'ProductionTypeName':'first',\n",
    "                                                                       \n",
    "                                                                         'Year': 'first',\n",
    "                                                                         'Installed Capacity (MW)': 'first'\n",
    "                                                                      })\n",
    "#merged_ember = pd.merge(generation_per_unit_ember, unit_matching_EU_2, on='PowerSystemResourceName', how='inner')"
   ]
  },
  {
   "cell_type": "markdown",
   "metadata": {},
   "source": [
    "# Def. function for connecting emissions and production data"
   ]
  },
  {
   "cell_type": "code",
   "execution_count": 99,
   "metadata": {},
   "outputs": [],
   "source": [
    "def conv(x):\n",
    "    # converts german grid operator areas string in german countrycode of ETS\n",
    "    areas =['DE_TenneT_GER','DE_TransnetBW','DE_Amprion','DE_50HzT']\n",
    "    if x in areas:\n",
    "        x = 'DE' \n",
    "    return x\n",
    "\n",
    "def connect_CO2(df, ETS):\n",
    "    #df = df.drop(columns = 'index')\n",
    "    df['countrycode']= df.countrycode.apply(lambda x: conv(x))\n",
    "    # caring for characteristics of the dataset: EUTL-ID IS NOT UNIQUE - only countrywise.\n",
    "    # removing power plants from the dataset which are not covered in ETS:\n",
    "    miss_country = []\n",
    "    for i in set(df.countrycode):\n",
    "        if sum(i == ETS['REGISTRY_CODE']) == 0:\n",
    "            print(i)\n",
    "            miss_country.append(i)\n",
    "            #removing this power plants from the list:\n",
    "    df = df.query('countrycode not in @miss_country')\n",
    "    \n",
    "    # removing power plants where match could not be found:\n",
    "    miss_match = []\n",
    "    for j in df.PowerSystemResourceName:\n",
    "        row = df[df.PowerSystemResourceName == j]\n",
    "        if len(ETS.query('REGISTRY_CODE == @row.countrycode.iloc[0]')\\\n",
    "                  .query('INSTALLATION_IDENTIFIER == @row.EUTL_ID.iloc[0]')) == 0:\n",
    "            print(j)\n",
    "            miss_match.append(j)\n",
    "            \n",
    "    df = df.query('PowerSystemResourceName not in @miss_match')\n",
    "    # apply matching:\n",
    "    df['verified_emissions_18'] = df.apply(lambda x: ETS.query('REGISTRY_CODE==@x.countrycode')\\\n",
    "                                    .query('INSTALLATION_IDENTIFIER==@x.EUTL_ID')['VERIFIED_EMISSIONS_2018']\\\n",
    "                                    .iloc[0], axis = 1)\n",
    "    df['verified_emissions_17'] = df.apply(lambda x: ETS.query('REGISTRY_CODE==@x.countrycode')\\\n",
    "                                    .query('INSTALLATION_IDENTIFIER==@x.EUTL_ID')['VERIFIED_EMISSIONS_2017']\\\n",
    "                                    .iloc[0], axis = 1)\n",
    "    df['verified_emissions_16'] = df.apply(lambda x: ETS.query('REGISTRY_CODE==@x.countrycode')\\\n",
    "                                    .query('INSTALLATION_IDENTIFIER==@x.EUTL_ID')['VERIFIED_EMISSIONS_2016']\\\n",
    "                                    .iloc[0], axis = 1)\n",
    "    df['verified_emissions_15'] = df.apply(lambda x: ETS.query('REGISTRY_CODE==@x.countrycode')\\\n",
    "                                    .query('INSTALLATION_IDENTIFIER==@x.EUTL_ID')['VERIFIED_EMISSIONS_2015']\\\n",
    "                                    .iloc[0], axis = 1)\n",
    "    \n",
    "    df['ETS_name'] = df.apply(lambda x: ETS.query('REGISTRY_CODE==@x.countrycode')\\\n",
    "                                    .query('INSTALLATION_IDENTIFIER==@x.EUTL_ID')['IDENTIFIER_IN_REG']\\\n",
    "                                    .iloc[0], axis = 1)\n",
    "    return df"
   ]
  },
  {
   "cell_type": "code",
   "execution_count": 139,
   "metadata": {},
   "outputs": [],
   "source": [
    "Powerplants_emission = connect_CO2(generation_unit_info_matcher, EUTL_emissions)"
   ]
  },
  {
   "cell_type": "code",
   "execution_count": 140,
   "metadata": {},
   "outputs": [
    {
     "data": {
      "text/html": [
       "<div>\n",
       "<style scoped>\n",
       "    .dataframe tbody tr th:only-of-type {\n",
       "        vertical-align: middle;\n",
       "    }\n",
       "\n",
       "    .dataframe tbody tr th {\n",
       "        vertical-align: top;\n",
       "    }\n",
       "\n",
       "    .dataframe thead th {\n",
       "        text-align: right;\n",
       "    }\n",
       "</style>\n",
       "<table border=\"1\" class=\"dataframe\">\n",
       "  <thead>\n",
       "    <tr style=\"text-align: right;\">\n",
       "      <th></th>\n",
       "      <th>AreaCode</th>\n",
       "      <th>AreaName</th>\n",
       "      <th>AreaTypeCode</th>\n",
       "      <th>InstalledGenCapacity</th>\n",
       "      <th>MapCode</th>\n",
       "      <th>PowerSystemResourceName</th>\n",
       "      <th>ProductionTypeName</th>\n",
       "      <th>duplicate_count</th>\n",
       "      <th>yearly_generation_2018</th>\n",
       "      <th>countrycode</th>\n",
       "      <th>EUTL_ID</th>\n",
       "      <th>verified_emissions_18</th>\n",
       "      <th>verified_emissions_17</th>\n",
       "      <th>verified_emissions_16</th>\n",
       "      <th>verified_emissions_15</th>\n",
       "      <th>ETS_name</th>\n",
       "    </tr>\n",
       "  </thead>\n",
       "  <tbody>\n",
       "    <tr>\n",
       "      <th>0</th>\n",
       "      <td>10YAT-APG------L</td>\n",
       "      <td>APG CA</td>\n",
       "      <td>CTA</td>\n",
       "      <td>140.0</td>\n",
       "      <td>AT</td>\n",
       "      <td>Lau GuD</td>\n",
       "      <td>Fossil Gas</td>\n",
       "      <td>2.0</td>\n",
       "      <td>0.000</td>\n",
       "      <td>AT</td>\n",
       "      <td>86.0</td>\n",
       "      <td>6300</td>\n",
       "      <td>3825</td>\n",
       "      <td>3136</td>\n",
       "      <td>4097</td>\n",
       "      <td>Wienstrom KW Leopoldau Wien</td>\n",
       "    </tr>\n",
       "    <tr>\n",
       "      <th>1</th>\n",
       "      <td>10YAT-APG------L</td>\n",
       "      <td>APG CA</td>\n",
       "      <td>CTA</td>\n",
       "      <td>400.0</td>\n",
       "      <td>AT</td>\n",
       "      <td>Kraftwerk Timelkam GUD</td>\n",
       "      <td>Fossil Gas</td>\n",
       "      <td>2.0</td>\n",
       "      <td>685235.670</td>\n",
       "      <td>AT</td>\n",
       "      <td>149.0</td>\n",
       "      <td>267204</td>\n",
       "      <td>356994</td>\n",
       "      <td>213716</td>\n",
       "      <td>174692</td>\n",
       "      <td>Energie AG GuD Kraftwerk Timelkam</td>\n",
       "    </tr>\n",
       "    <tr>\n",
       "      <th>2</th>\n",
       "      <td>10YAT-APG------L</td>\n",
       "      <td>APG CA</td>\n",
       "      <td>CTA</td>\n",
       "      <td>332.0</td>\n",
       "      <td>AT</td>\n",
       "      <td>KW Dürnrohr Block 2</td>\n",
       "      <td>Fossil Hard coal</td>\n",
       "      <td>2.0</td>\n",
       "      <td>745290.410</td>\n",
       "      <td>AT</td>\n",
       "      <td>94.0</td>\n",
       "      <td>0</td>\n",
       "      <td>0</td>\n",
       "      <td>8</td>\n",
       "      <td>565110</td>\n",
       "      <td>Verbund KW Dürnrohr Zwentendorf</td>\n",
       "    </tr>\n",
       "    <tr>\n",
       "      <th>3</th>\n",
       "      <td>10YAT-APG------L</td>\n",
       "      <td>APG CA</td>\n",
       "      <td>CTA</td>\n",
       "      <td>150.0</td>\n",
       "      <td>AT</td>\n",
       "      <td>KW Riedersbach 2 G2</td>\n",
       "      <td>Fossil Hard coal</td>\n",
       "      <td>2.0</td>\n",
       "      <td>0.000</td>\n",
       "      <td>AT</td>\n",
       "      <td>79.0</td>\n",
       "      <td>6576</td>\n",
       "      <td>7775</td>\n",
       "      <td>203045</td>\n",
       "      <td>270681</td>\n",
       "      <td>KW Riedersbach</td>\n",
       "    </tr>\n",
       "    <tr>\n",
       "      <th>4</th>\n",
       "      <td>10Y1001A1001A796</td>\n",
       "      <td>Energinet CA</td>\n",
       "      <td>CTA</td>\n",
       "      <td>147.0</td>\n",
       "      <td>DK</td>\n",
       "      <td>Asnaesvaerket 2</td>\n",
       "      <td>Fossil Hard coal</td>\n",
       "      <td>1.0</td>\n",
       "      <td>219309.910</td>\n",
       "      <td>DK</td>\n",
       "      <td>48.0</td>\n",
       "      <td>878395</td>\n",
       "      <td>1048994</td>\n",
       "      <td>952588</td>\n",
       "      <td>695549</td>\n",
       "      <td>Asnæsværket</td>\n",
       "    </tr>\n",
       "    <tr>\n",
       "      <th>...</th>\n",
       "      <td>...</td>\n",
       "      <td>...</td>\n",
       "      <td>...</td>\n",
       "      <td>...</td>\n",
       "      <td>...</td>\n",
       "      <td>...</td>\n",
       "      <td>...</td>\n",
       "      <td>...</td>\n",
       "      <td>...</td>\n",
       "      <td>...</td>\n",
       "      <td>...</td>\n",
       "      <td>...</td>\n",
       "      <td>...</td>\n",
       "      <td>...</td>\n",
       "      <td>...</td>\n",
       "      <td>...</td>\n",
       "    </tr>\n",
       "    <tr>\n",
       "      <th>796</th>\n",
       "      <td>10YGB----------A</td>\n",
       "      <td>National Grid CA</td>\n",
       "      <td>CTA</td>\n",
       "      <td>525.0</td>\n",
       "      <td>GB</td>\n",
       "      <td>EGGPS-3</td>\n",
       "      <td>Fossil Hard coal</td>\n",
       "      <td>0.0</td>\n",
       "      <td>236678.180</td>\n",
       "      <td>GB</td>\n",
       "      <td>169.0</td>\n",
       "      <td>540497</td>\n",
       "      <td>1014334</td>\n",
       "      <td>2098992</td>\n",
       "      <td>4748504</td>\n",
       "      <td>Eggborough Operator Account</td>\n",
       "    </tr>\n",
       "    <tr>\n",
       "      <th>797</th>\n",
       "      <td>10YGB----------A</td>\n",
       "      <td>National Grid CA</td>\n",
       "      <td>CTA</td>\n",
       "      <td>260.0</td>\n",
       "      <td>GB</td>\n",
       "      <td>DEEP-1</td>\n",
       "      <td>Fossil Gas</td>\n",
       "      <td>0.0</td>\n",
       "      <td>335757.515</td>\n",
       "      <td>GB</td>\n",
       "      <td>187.0</td>\n",
       "      <td>145298</td>\n",
       "      <td>289810</td>\n",
       "      <td>248853</td>\n",
       "      <td>141965</td>\n",
       "      <td>Operator Account</td>\n",
       "    </tr>\n",
       "    <tr>\n",
       "      <th>798</th>\n",
       "      <td>10YGB----------A</td>\n",
       "      <td>National Grid CA</td>\n",
       "      <td>CTA</td>\n",
       "      <td>525.0</td>\n",
       "      <td>GB</td>\n",
       "      <td>EGGPS-2</td>\n",
       "      <td>Fossil Hard coal</td>\n",
       "      <td>0.0</td>\n",
       "      <td>15438.130</td>\n",
       "      <td>GB</td>\n",
       "      <td>169.0</td>\n",
       "      <td>540497</td>\n",
       "      <td>1014334</td>\n",
       "      <td>2098992</td>\n",
       "      <td>4748504</td>\n",
       "      <td>Eggborough Operator Account</td>\n",
       "    </tr>\n",
       "    <tr>\n",
       "      <th>799</th>\n",
       "      <td>10YGB----------A</td>\n",
       "      <td>National Grid CA</td>\n",
       "      <td>CTA</td>\n",
       "      <td>20.0</td>\n",
       "      <td>GB</td>\n",
       "      <td>WBUGT-4</td>\n",
       "      <td>Fossil Gas</td>\n",
       "      <td>0.0</td>\n",
       "      <td>81.230</td>\n",
       "      <td>GB</td>\n",
       "      <td>145.0</td>\n",
       "      <td>1679509</td>\n",
       "      <td>1766100</td>\n",
       "      <td>1165058</td>\n",
       "      <td>7724207</td>\n",
       "      <td>West Burton A</td>\n",
       "    </tr>\n",
       "    <tr>\n",
       "      <th>800</th>\n",
       "      <td>10YGB----------A</td>\n",
       "      <td>National Grid CA</td>\n",
       "      <td>CTA</td>\n",
       "      <td>485.0</td>\n",
       "      <td>GB</td>\n",
       "      <td>FIDL-1</td>\n",
       "      <td>Fossil Hard coal</td>\n",
       "      <td>0.0</td>\n",
       "      <td>37992.540</td>\n",
       "      <td>GB</td>\n",
       "      <td>562.0</td>\n",
       "      <td>1339355</td>\n",
       "      <td>1947931</td>\n",
       "      <td>1964028</td>\n",
       "      <td>5556750</td>\n",
       "      <td>Fiddlers Ferry Power Station</td>\n",
       "    </tr>\n",
       "  </tbody>\n",
       "</table>\n",
       "<p>801 rows × 16 columns</p>\n",
       "</div>"
      ],
      "text/plain": [
       "             AreaCode          AreaName AreaTypeCode  InstalledGenCapacity  \\\n",
       "0    10YAT-APG------L            APG CA          CTA                 140.0   \n",
       "1    10YAT-APG------L            APG CA          CTA                 400.0   \n",
       "2    10YAT-APG------L            APG CA          CTA                 332.0   \n",
       "3    10YAT-APG------L            APG CA          CTA                 150.0   \n",
       "4    10Y1001A1001A796      Energinet CA          CTA                 147.0   \n",
       "..                ...               ...          ...                   ...   \n",
       "796  10YGB----------A  National Grid CA          CTA                 525.0   \n",
       "797  10YGB----------A  National Grid CA          CTA                 260.0   \n",
       "798  10YGB----------A  National Grid CA          CTA                 525.0   \n",
       "799  10YGB----------A  National Grid CA          CTA                  20.0   \n",
       "800  10YGB----------A  National Grid CA          CTA                 485.0   \n",
       "\n",
       "    MapCode PowerSystemResourceName ProductionTypeName  duplicate_count  \\\n",
       "0        AT                 Lau GuD         Fossil Gas              2.0   \n",
       "1        AT  Kraftwerk Timelkam GUD         Fossil Gas              2.0   \n",
       "2        AT     KW Dürnrohr Block 2   Fossil Hard coal              2.0   \n",
       "3        AT     KW Riedersbach 2 G2   Fossil Hard coal              2.0   \n",
       "4        DK         Asnaesvaerket 2   Fossil Hard coal              1.0   \n",
       "..      ...                     ...                ...              ...   \n",
       "796      GB                 EGGPS-3   Fossil Hard coal              0.0   \n",
       "797      GB                  DEEP-1         Fossil Gas              0.0   \n",
       "798      GB                 EGGPS-2   Fossil Hard coal              0.0   \n",
       "799      GB                 WBUGT-4         Fossil Gas              0.0   \n",
       "800      GB                  FIDL-1   Fossil Hard coal              0.0   \n",
       "\n",
       "     yearly_generation_2018 countrycode  EUTL_ID verified_emissions_18  \\\n",
       "0                     0.000          AT     86.0                  6300   \n",
       "1                685235.670          AT    149.0                267204   \n",
       "2                745290.410          AT     94.0                     0   \n",
       "3                     0.000          AT     79.0                  6576   \n",
       "4                219309.910          DK     48.0                878395   \n",
       "..                      ...         ...      ...                   ...   \n",
       "796              236678.180          GB    169.0                540497   \n",
       "797              335757.515          GB    187.0                145298   \n",
       "798               15438.130          GB    169.0                540497   \n",
       "799                  81.230          GB    145.0               1679509   \n",
       "800               37992.540          GB    562.0               1339355   \n",
       "\n",
       "    verified_emissions_17 verified_emissions_16 verified_emissions_15  \\\n",
       "0                    3825                  3136                  4097   \n",
       "1                  356994                213716                174692   \n",
       "2                       0                     8                565110   \n",
       "3                    7775                203045                270681   \n",
       "4                 1048994                952588                695549   \n",
       "..                    ...                   ...                   ...   \n",
       "796               1014334               2098992               4748504   \n",
       "797                289810                248853                141965   \n",
       "798               1014334               2098992               4748504   \n",
       "799               1766100               1165058               7724207   \n",
       "800               1947931               1964028               5556750   \n",
       "\n",
       "                              ETS_name  \n",
       "0          Wienstrom KW Leopoldau Wien  \n",
       "1    Energie AG GuD Kraftwerk Timelkam  \n",
       "2      Verbund KW Dürnrohr Zwentendorf  \n",
       "3                       KW Riedersbach  \n",
       "4                          Asnæsværket  \n",
       "..                                 ...  \n",
       "796        Eggborough Operator Account  \n",
       "797                   Operator Account  \n",
       "798        Eggborough Operator Account  \n",
       "799                      West Burton A  \n",
       "800       Fiddlers Ferry Power Station  \n",
       "\n",
       "[801 rows x 16 columns]"
      ]
     },
     "execution_count": 140,
     "metadata": {},
     "output_type": "execute_result"
    }
   ],
   "source": [
    "Powerplants_emission"
   ]
  },
  {
   "cell_type": "code",
   "execution_count": null,
   "metadata": {},
   "outputs": [],
   "source": []
  },
  {
   "cell_type": "code",
   "execution_count": 141,
   "metadata": {},
   "outputs": [],
   "source": [
    "def calc_CI(df):\n",
    "    # calculates the carbon intensity of sites. Due to non-unique labelings of the power plants across different\n",
    "    # countries it needs care taken about it.\n",
    "    \n",
    "    df['verified_emissions_18']=df['verified_emissions_18'].apply(float)\n",
    "    \n",
    "    sites = pd.DataFrame(df.groupby(['countrycode','EUTL_ID']).mean()['verified_emissions_18']\\\n",
    "                       / df.groupby(['countrycode','EUTL_ID']).sum()['yearly_generation_2018'])\\\n",
    "                        .reset_index()\n",
    "    df['carbon_intensity'] = df.apply(lambda x: sites.query('countrycode == @x.countrycode')\\\n",
    "                            .query('EUTL_ID == @x.EUTL_ID')[0].iloc[0],axis = 1)\n",
    "    \n",
    "    return df"
   ]
  },
  {
   "cell_type": "code",
   "execution_count": 142,
   "metadata": {},
   "outputs": [],
   "source": [
    "Powerplants_emission_EU_CI = calc_CI(Powerplants_emission)"
   ]
  },
  {
   "cell_type": "code",
   "execution_count": 151,
   "metadata": {},
   "outputs": [
    {
     "data": {
      "text/html": [
       "<div>\n",
       "<style scoped>\n",
       "    .dataframe tbody tr th:only-of-type {\n",
       "        vertical-align: middle;\n",
       "    }\n",
       "\n",
       "    .dataframe tbody tr th {\n",
       "        vertical-align: top;\n",
       "    }\n",
       "\n",
       "    .dataframe thead th {\n",
       "        text-align: right;\n",
       "    }\n",
       "</style>\n",
       "<table border=\"1\" class=\"dataframe\">\n",
       "  <thead>\n",
       "    <tr style=\"text-align: right;\">\n",
       "      <th></th>\n",
       "      <th>AreaCode</th>\n",
       "      <th>AreaName</th>\n",
       "      <th>AreaTypeCode</th>\n",
       "      <th>InstalledGenCapacity</th>\n",
       "      <th>MapCode</th>\n",
       "      <th>PowerSystemResourceName</th>\n",
       "      <th>ProductionTypeName</th>\n",
       "      <th>duplicate_count</th>\n",
       "      <th>yearly_generation_2018</th>\n",
       "      <th>countrycode</th>\n",
       "      <th>EUTL_ID</th>\n",
       "      <th>verified_emissions_18</th>\n",
       "      <th>verified_emissions_17</th>\n",
       "      <th>verified_emissions_16</th>\n",
       "      <th>verified_emissions_15</th>\n",
       "      <th>ETS_name</th>\n",
       "      <th>carbon_intensity</th>\n",
       "    </tr>\n",
       "  </thead>\n",
       "  <tbody>\n",
       "    <tr>\n",
       "      <th>0</th>\n",
       "      <td>10YAT-APG------L</td>\n",
       "      <td>APG CA</td>\n",
       "      <td>CTA</td>\n",
       "      <td>140.0</td>\n",
       "      <td>AT</td>\n",
       "      <td>Lau GuD</td>\n",
       "      <td>Fossil Gas</td>\n",
       "      <td>2.0</td>\n",
       "      <td>0.00</td>\n",
       "      <td>AT</td>\n",
       "      <td>86.0</td>\n",
       "      <td>6300.0</td>\n",
       "      <td>3825</td>\n",
       "      <td>3136</td>\n",
       "      <td>4097</td>\n",
       "      <td>Wienstrom KW Leopoldau Wien</td>\n",
       "      <td>inf</td>\n",
       "    </tr>\n",
       "    <tr>\n",
       "      <th>1</th>\n",
       "      <td>10YAT-APG------L</td>\n",
       "      <td>APG CA</td>\n",
       "      <td>CTA</td>\n",
       "      <td>400.0</td>\n",
       "      <td>AT</td>\n",
       "      <td>Kraftwerk Timelkam GUD</td>\n",
       "      <td>Fossil Gas</td>\n",
       "      <td>2.0</td>\n",
       "      <td>685235.67</td>\n",
       "      <td>AT</td>\n",
       "      <td>149.0</td>\n",
       "      <td>267204.0</td>\n",
       "      <td>356994</td>\n",
       "      <td>213716</td>\n",
       "      <td>174692</td>\n",
       "      <td>Energie AG GuD Kraftwerk Timelkam</td>\n",
       "      <td>0.389945</td>\n",
       "    </tr>\n",
       "    <tr>\n",
       "      <th>2</th>\n",
       "      <td>10YAT-APG------L</td>\n",
       "      <td>APG CA</td>\n",
       "      <td>CTA</td>\n",
       "      <td>332.0</td>\n",
       "      <td>AT</td>\n",
       "      <td>KW Dürnrohr Block 2</td>\n",
       "      <td>Fossil Hard coal</td>\n",
       "      <td>2.0</td>\n",
       "      <td>745290.41</td>\n",
       "      <td>AT</td>\n",
       "      <td>94.0</td>\n",
       "      <td>0.0</td>\n",
       "      <td>0</td>\n",
       "      <td>8</td>\n",
       "      <td>565110</td>\n",
       "      <td>Verbund KW Dürnrohr Zwentendorf</td>\n",
       "      <td>0.000000</td>\n",
       "    </tr>\n",
       "    <tr>\n",
       "      <th>3</th>\n",
       "      <td>10YAT-APG------L</td>\n",
       "      <td>APG CA</td>\n",
       "      <td>CTA</td>\n",
       "      <td>150.0</td>\n",
       "      <td>AT</td>\n",
       "      <td>KW Riedersbach 2 G2</td>\n",
       "      <td>Fossil Hard coal</td>\n",
       "      <td>2.0</td>\n",
       "      <td>0.00</td>\n",
       "      <td>AT</td>\n",
       "      <td>79.0</td>\n",
       "      <td>6576.0</td>\n",
       "      <td>7775</td>\n",
       "      <td>203045</td>\n",
       "      <td>270681</td>\n",
       "      <td>KW Riedersbach</td>\n",
       "      <td>inf</td>\n",
       "    </tr>\n",
       "    <tr>\n",
       "      <th>4</th>\n",
       "      <td>10Y1001A1001A796</td>\n",
       "      <td>Energinet CA</td>\n",
       "      <td>CTA</td>\n",
       "      <td>147.0</td>\n",
       "      <td>DK</td>\n",
       "      <td>Asnaesvaerket 2</td>\n",
       "      <td>Fossil Hard coal</td>\n",
       "      <td>1.0</td>\n",
       "      <td>219309.91</td>\n",
       "      <td>DK</td>\n",
       "      <td>48.0</td>\n",
       "      <td>878395.0</td>\n",
       "      <td>1048994</td>\n",
       "      <td>952588</td>\n",
       "      <td>695549</td>\n",
       "      <td>Asnæsværket</td>\n",
       "      <td>1.140746</td>\n",
       "    </tr>\n",
       "  </tbody>\n",
       "</table>\n",
       "</div>"
      ],
      "text/plain": [
       "           AreaCode      AreaName AreaTypeCode  InstalledGenCapacity MapCode  \\\n",
       "0  10YAT-APG------L        APG CA          CTA                 140.0      AT   \n",
       "1  10YAT-APG------L        APG CA          CTA                 400.0      AT   \n",
       "2  10YAT-APG------L        APG CA          CTA                 332.0      AT   \n",
       "3  10YAT-APG------L        APG CA          CTA                 150.0      AT   \n",
       "4  10Y1001A1001A796  Energinet CA          CTA                 147.0      DK   \n",
       "\n",
       "  PowerSystemResourceName ProductionTypeName  duplicate_count  \\\n",
       "0                 Lau GuD         Fossil Gas              2.0   \n",
       "1  Kraftwerk Timelkam GUD         Fossil Gas              2.0   \n",
       "2     KW Dürnrohr Block 2   Fossil Hard coal              2.0   \n",
       "3     KW Riedersbach 2 G2   Fossil Hard coal              2.0   \n",
       "4         Asnaesvaerket 2   Fossil Hard coal              1.0   \n",
       "\n",
       "   yearly_generation_2018 countrycode  EUTL_ID  verified_emissions_18  \\\n",
       "0                    0.00          AT     86.0                 6300.0   \n",
       "1               685235.67          AT    149.0               267204.0   \n",
       "2               745290.41          AT     94.0                    0.0   \n",
       "3                    0.00          AT     79.0                 6576.0   \n",
       "4               219309.91          DK     48.0               878395.0   \n",
       "\n",
       "  verified_emissions_17 verified_emissions_16 verified_emissions_15  \\\n",
       "0                  3825                  3136                  4097   \n",
       "1                356994                213716                174692   \n",
       "2                     0                     8                565110   \n",
       "3                  7775                203045                270681   \n",
       "4               1048994                952588                695549   \n",
       "\n",
       "                            ETS_name  carbon_intensity  \n",
       "0        Wienstrom KW Leopoldau Wien               inf  \n",
       "1  Energie AG GuD Kraftwerk Timelkam          0.389945  \n",
       "2    Verbund KW Dürnrohr Zwentendorf          0.000000  \n",
       "3                     KW Riedersbach               inf  \n",
       "4                        Asnæsværket          1.140746  "
      ]
     },
     "execution_count": 151,
     "metadata": {},
     "output_type": "execute_result"
    }
   ],
   "source": [
    "Powerplants_emission_EU_CI.head()"
   ]
  },
  {
   "cell_type": "markdown",
   "metadata": {},
   "source": [
    "# Validation of results"
   ]
  },
  {
   "cell_type": "code",
   "execution_count": 190,
   "metadata": {},
   "outputs": [
    {
     "name": "stdout",
     "output_type": "stream",
     "text": [
      "We were able to allocate 89.14285714285714 % of the power plants an emission value.\n"
     ]
    }
   ],
   "source": [
    "# covert technology\n",
    "tech = ['Fossil Gas', 'Fossil Hard coal',\n",
    "       'Fossil Brown coal/Lignite']\n",
    "\n",
    "Powerplants_emission_EU_CI = Powerplants_emission_EU_CI.query('ProductionTypeName in @tech')\n",
    "\n",
    "# not covert : 'Fossil Oil shale', 'Fossil Oil', 'Fossil Coal-derived gas','Fossil Peat'\n",
    "\n",
    "coverage = len(Powerplants_emission_EU_CI) / len(generation_unit_info.query('ProductionTypeName in @tech'))\n",
    "print(\"We were able to allocate \" + str(coverage*100) + \" % of the power plants an emission value.\")"
   ]
  },
  {
   "cell_type": "markdown",
   "metadata": {},
   "source": [
    "Since not all emission factors are correctly calculated we limited the list of calculated emissions per power plant is checked by a plausibility check.\n",
    "\n",
    "thresholds for plausibility check - until [g/kWh]: \n",
    "lignite_high = 1750\n",
    "lignite_low = 800\n",
    "\n",
    "hardcoal_high = 1350\n",
    "hardcoal_low = 700\n",
    "\n",
    "gas_high = 550\n",
    "gas_low = 350\n",
    "\n",
    "Numbers taken from:\n",
    "https://www.gegenwind-saarland.de/Materialien/Energiewende/071031--VdI---CO2-Emissionen%20der%20Stromerzeugung_01.pdf"
   ]
  },
  {
   "cell_type": "code",
   "execution_count": 191,
   "metadata": {},
   "outputs": [],
   "source": [
    "# emissions space per technology in [g/kWh] \n",
    "\n",
    "emission_space = {\"Fossil Brown coal/Lignite\": (1750,800),\n",
    "                  \"Fossil Hard coal\": (1350,700),\n",
    "                  \"Fossil Gas\": (550,350)}"
   ]
  },
  {
   "cell_type": "code",
   "execution_count": 192,
   "metadata": {},
   "outputs": [],
   "source": [
    "# function for CI check\n",
    "def check_CI (row):\n",
    "    if row.carbon_intensity > emission_space[row.ProductionTypeName][1] and row.carbon_intensity < emission_space[row.ProductionTypeName][0]:\n",
    "        return True\n",
    "    else:\n",
    "        return False  "
   ]
  },
  {
   "cell_type": "code",
   "execution_count": 200,
   "metadata": {},
   "outputs": [],
   "source": [
    "# convert emissions to [g/kWh]\n",
    "Powerplants_emission_EU_CI.carbon_intensity = Powerplants_emission_EU_CI.carbon_intensity * 1000"
   ]
  },
  {
   "cell_type": "code",
   "execution_count": 201,
   "metadata": {},
   "outputs": [],
   "source": [
    "Powerplants_emission_EU_CI['CI_validation'] = Powerplants_emission_EU_CI.apply(check_CI, axis=1)"
   ]
  },
  {
   "cell_type": "code",
   "execution_count": 204,
   "metadata": {},
   "outputs": [],
   "source": [
    "Powerplants_emission_EU_CI = Powerplants_emission_EU_CI[Powerplants_emission_EU_CI.CI_validation == True]"
   ]
  },
  {
   "cell_type": "code",
   "execution_count": 208,
   "metadata": {},
   "outputs": [
    {
     "name": "stdout",
     "output_type": "stream",
     "text": [
      "After validation we were able to allocate 55.2 % of the power plants an emission value.\n"
     ]
    }
   ],
   "source": [
    "coverage_val = len(Powerplants_emission_EU_CI) / len(generation_unit_info.query('ProductionTypeName in @tech'))\n",
    "print(\"After validation we were able to allocate \" + str(coverage_val*100) + \" % of the power plants an emission value.\")"
   ]
  },
  {
   "cell_type": "markdown",
   "metadata": {},
   "source": [
    "reasons why the CI is not valid:\n",
    "\n",
    "1.) Match is not correct - then one more iteration is necessary\n",
    "\n",
    "2.) Data is wrong or incomplete\n",
    "\n",
    "3.) Match is correct, but it's a highly aggregated facility such like a steel manufacturing factory, where both process-CO2 AND the emissions from the power plant running the process accounts into the number given in the dataset.\n",
    "\n",
    "4.) the facility contains more smaller power plants which are not covered by ENTSO-E (<100MW) but nevertheless\n",
    "produce emissions which need to be paid for.\n",
    "\n",
    "5.) if the number of the carbon-intensity is negative, then the dataset is explained as \" -1 = blank (No allocation has been made / No Emissions have been Verified)\""
   ]
  },
  {
   "cell_type": "markdown",
   "metadata": {},
   "source": [
    "# Carbon intensity per technology and country "
   ]
  },
  {
   "cell_type": "code",
   "execution_count": 215,
   "metadata": {},
   "outputs": [],
   "source": [
    "def calc_CI_tech_country(df):\n",
    "    # calculates the average carbon intensity per technology in a country for plausible results defined above.\n",
    "    # df is a dataframe which contains all sites with plausible carbon intensities of whole Europe.\n",
    "    CI_tech_country = df.groupby(['countrycode','EUTL_ID','ProductionTypeName'])\\\n",
    "                                     .mean()['verified_emissions_18']\\\n",
    "                                     .groupby(['countrycode','ProductionTypeName']).sum()\\\n",
    "                                     /\\\n",
    "                      df.groupby('countrycode')['yearly_generation_2018'].sum()\n",
    "    print(CI_tech_country)\n",
    "    return CI_tech_country"
   ]
  },
  {
   "cell_type": "code",
   "execution_count": 220,
   "metadata": {},
   "outputs": [],
   "source": [
    "# form the gourp out of the different power plant per country\n",
    "CI_tech_country = Powerplants_emission_EU_CI.groupby(['countrycode','ProductionTypeName'])\\\n",
    "                                            .mean()['carbon_intensity']"
   ]
  },
  {
   "cell_type": "code",
   "execution_count": 246,
   "metadata": {},
   "outputs": [
    {
     "data": {
      "text/plain": [
       "1151.2639041959112"
      ]
     },
     "execution_count": 246,
     "metadata": {},
     "output_type": "execute_result"
    }
   ],
   "source": [
    "CI_tech_country[('DE','Fossil Brown coal/Lignite')]"
   ]
  },
  {
   "cell_type": "code",
   "execution_count": 247,
   "metadata": {},
   "outputs": [],
   "source": [
    "# Plot CI per country for the technologies (drei Plots)"
   ]
  },
  {
   "cell_type": "code",
   "execution_count": 212,
   "metadata": {},
   "outputs": [
    {
     "data": {
      "text/plain": [
       "Index(['AreaCode', 'AreaName', 'AreaTypeCode', 'InstalledGenCapacity',\n",
       "       'MapCode', 'PowerSystemResourceName', 'ProductionTypeName',\n",
       "       'duplicate_count', 'yearly_generation_2018', 'countrycode', 'EUTL_ID',\n",
       "       'verified_emissions_18', 'verified_emissions_17',\n",
       "       'verified_emissions_16', 'verified_emissions_15', 'ETS_name',\n",
       "       'carbon_intensity', 'drop', 'CI_validation'],\n",
       "      dtype='object')"
      ]
     },
     "execution_count": 212,
     "metadata": {},
     "output_type": "execute_result"
    }
   ],
   "source": [
    "Powerplants_emission_EU_CI.columns"
   ]
  },
  {
   "cell_type": "code",
   "execution_count": null,
   "metadata": {},
   "outputs": [],
   "source": [
    "# Teste wie viel Energie decken wir mit dieser Methode ab?\n",
    "# Dafür welche Daten verwenden (Problem Gross vs Net)\n",
    "# Gibt es von Eurostat eine Net Version (ich glaube ja pro Monat)\n",
    "# Dann Plot pro Land wie viel Dekcen wir ab (0 bis 1)\n",
    "\n"
   ]
  },
  {
   "cell_type": "code",
   "execution_count": null,
   "metadata": {},
   "outputs": [],
   "source": [
    "# wie könnten wir ein representatives sample bilder. Das soll uns dann die CI ausrechnen\n",
    "\n",
    "# Wie machen wir den Vergleich zur anderen Methode?"
   ]
  },
  {
   "cell_type": "code",
   "execution_count": null,
   "metadata": {},
   "outputs": [],
   "source": [
    "# Jetzt können wir dann CI pro technologie bestimmen. "
   ]
  }
 ],
 "metadata": {
  "kernelspec": {
   "display_name": "Python 3",
   "language": "python",
   "name": "python3"
  },
  "language_info": {
   "codemirror_mode": {
    "name": "ipython",
    "version": 3
   },
   "file_extension": ".py",
   "mimetype": "text/x-python",
   "name": "python",
   "nbconvert_exporter": "python",
   "pygments_lexer": "ipython3",
   "version": "3.7.9"
  }
 },
 "nbformat": 4,
 "nbformat_minor": 4
}
