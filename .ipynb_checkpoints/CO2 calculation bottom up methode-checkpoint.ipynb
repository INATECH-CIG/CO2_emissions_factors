{
 "cells": [
  {
   "cell_type": "markdown",
   "metadata": {},
   "source": [
    "# CO2 calculation bottom up method\n",
    "### - From power plant data to country aggregated CO2 intensity of electricity generation -"
   ]
  },
  {
   "cell_type": "markdown",
   "metadata": {},
   "source": [
    "In this script we calculated an CO2 emission factor per country out of hourly power plant generation and yearly published emission data on plant level.\n",
    "\n",
    "The used method follows the idea to calculated a CI for specific power plants. In a second step an representative sample of power plants for a country is build and an CI for each technology and country is calculated."
   ]
  },
  {
   "cell_type": "markdown",
   "metadata": {},
   "source": [
    "# Script setup"
   ]
  },
  {
   "cell_type": "code",
   "execution_count": 2,
   "metadata": {},
   "outputs": [],
   "source": [
    "import os\n",
    "import logging\n",
    "\n",
    "import pandas as pd\n",
    "import seaborn as sns\n",
    "import matplotlib.pyplot as plt\n",
    "from matplotlib.dates import DateFormatter\n",
    "from IPython.display import Image \n",
    "\n",
    "%matplotlib inline\n",
    "plt.style.use('seaborn')\n",
    "plt.rcParams['figure.figsize'] = [15, 10]\n",
    "\n",
    "#helpers\n",
    "def change_ProductionTypeName (ProductionTypeName):\n",
    "    return ProductionTypeName.replace(\n",
    "                    {\n",
    "            'Fossil Hard coal': 'hard_coal', \n",
    "            'Fossil Brown coal/Lignite': 'lignite', \n",
    "            'Fossil Gas': 'gas', \n",
    "            'Fossil Oil': 'other_fossil',\n",
    "            'Fossil Coal-derived gas': 'other_fossil',\n",
    "            'Fossil Peat': 'other_fossil',\n",
    "            'Fossil Oil Shale': 'other_fossil',\n",
    "            'Nuclear': 'nuclear',\n",
    "            'Biomass': 'biomass',\n",
    "            'Waste': 'waste',\n",
    "            'Geothermal': 'geothermal',\n",
    "            'Marine': 'marine',\n",
    "            'Other': 'other_fossil',\n",
    "            'Hydro Pumped Storage': 'hydro',\n",
    "            'Hydro Run-of-river and poundage': 'hydro',\n",
    "            'Hydro Water Reservoir': 'hydro',\n",
    "            'Fossil Oil': 'oil',\n",
    "            'Fossil Oil shale': 'oil', \n",
    "            'Solar': 'solar',\n",
    "            'Wind Onshore': 'wind_onshore',\n",
    "            'Wind Offshore': 'wind_offshore',\n",
    "            'Other renewable': 'other_renewable',\n",
    "                                 }, regex = True, inplace = False)"
   ]
  },
  {
   "cell_type": "markdown",
   "metadata": {},
   "source": [
    "# Data directory preparention"
   ]
  },
  {
   "cell_type": "markdown",
   "metadata": {},
   "source": [
    "Create input, processed and output folders if they don't exist\n",
    "If the paths are relative, the corresponding folders will be created inside the current working directory."
   ]
  },
  {
   "cell_type": "code",
   "execution_count": 3,
   "metadata": {},
   "outputs": [],
   "source": [
    "input_directory_path = os.path.join('input')\n",
    "Bootom_up_methode_input_directory_path = os.path.join('input', 'Bootom_up_methode')\n",
    "processed_directory_path = 'processed'\n",
    "output_directory_path = os.path.join('output')\n",
    "\n",
    "os.makedirs(input_directory_path, exist_ok=True)\n",
    "os.makedirs(Bootom_up_methode_input_directory_path, exist_ok=True)\n",
    "os.makedirs(processed_directory_path, exist_ok=True)\n",
    "os.makedirs(output_directory_path, exist_ok=True)"
   ]
  },
  {
   "cell_type": "markdown",
   "metadata": {},
   "source": [
    "# Data file preperation"
   ]
  },
  {
   "cell_type": "markdown",
   "metadata": {},
   "source": [
    "The directory `input/Bootom_up_method` should contain all necessary raw data files.\n",
    "\n",
    "Based on the developed method the following data sets needed:\n",
    "\n",
    "1) Matcher for power plants in Entso e and EUTL Data for Europe\n",
    "The matching was performed by a manual process (see description).\n",
    "\n",
    "File - > Matching_Entso_EUTL_EU.csv\n",
    "\n",
    "2) EU Emissions Data (EUTL)\n",
    "Data are provided in the report section. See the following link:\n",
    "https://ec.europa.eu/clima/policies/ets/registry_en#tab-0-1\n",
    "\n",
    "For example: ->Documentation->Reports->Verified Emissions for 2019\n",
    "\n",
    "File - > \"Verified Emissions for 2019\" -> verified_emissions_2018_en.xlsx -> converted to .csv\n",
    "\n",
    "Another way to check the data is directly through the European Union Transaction Log:\n",
    "https://ec.europa.eu/clima/ets/napMgt.do?languageCode=en\n",
    "\n",
    "3) ENTSO-E production per unit \n",
    "Production per Unit from ENTSO-E\n",
    "Original data: ENTSO-E Transparency Platform, Actual Generation per Generation Unit Available online: https://transparency.entsoe.eu/generation/r2/actualGenerationPerGenerationUnit/show (accessed on Apr 29, 2020).\n",
    "Processed with the following script that converts the data to hourly resolution (private script from INATECH):\n",
    "https://github.com/INATECH-CIG/entso-e_GenerationOutputPerUnit\n",
    "\n",
    "\n",
    "File - > gen_data.csv -> hourly generation data per unit\\\n",
    "\n",
    "File - > unit_data.csv -> information about the generation units\n",
    "\n",
    "4) ENTSO-E production per type\n",
    "Production per Unit from ENTSO-E\n",
    "Original data: ENTSO-E Transparency Platform, Actual Generation per Production Type Available online: \n",
    "https://transparency.entsoe.eu/generation/r2/actualGenerationPerProductionType/show\n",
    "Processed with the following script that converts the data to hourly resolution (private script from INATECH):\n",
    ".... need to be updated ....\n",
    " File - > \n"
   ]
  },
  {
   "cell_type": "code",
   "execution_count": 4,
   "metadata": {},
   "outputs": [
    {
     "name": "stdout",
     "output_type": "stream",
     "text": [
      "['input\\\\Bootom_up_methode\\\\entsoe_unit_gen_data.csv', 'input\\\\Bootom_up_methode\\\\gen_data.csv', 'input\\\\Bootom_up_methode\\\\Matching_Entso_EUTL_EU.csv', 'input\\\\Bootom_up_methode\\\\Matching_Entso_EUTL_EU_2.csv', 'input\\\\Bootom_up_methode\\\\Matching_Entso_EUTL_LCPD.csv', 'input\\\\Bootom_up_methode\\\\nrg_cb_pem.csv', 'input\\\\Bootom_up_methode\\\\time_series_60min_multiindex.csv', 'input\\\\Bootom_up_methode\\\\unit_data.csv', 'input\\\\Bootom_up_methode\\\\verified_emissions_2018_en.csv', 'input\\\\Bootom_up_methode\\\\verified_emissions_2018_en.xlsx']\n"
     ]
    }
   ],
   "source": [
    "# Checks if the the input directories are empty or not\n",
    "# Checks all filenames in the input directory\n",
    "\n",
    "if not os.listdir(Bootom_up_methode_input_directory_path) :\n",
    "    print(\"The directory for the bootom up method is empty. Please provide the data to the directory as described in the instructions above.\")\n",
    "\n",
    "\n",
    "filenames = [os.path.join(Bootom_up_methode_input_directory_path, fn) for fn in os.listdir(Bootom_up_methode_input_directory_path)]\n",
    "\n",
    "print(filenames)"
   ]
  },
  {
   "cell_type": "markdown",
   "metadata": {},
   "source": [
    "# Load data functions"
   ]
  },
  {
   "cell_type": "code",
   "execution_count": 5,
   "metadata": {},
   "outputs": [],
   "source": [
    "def load_matching_data_EU(path, fn):\n",
    "    \"\"\"\n",
    "    Matching List for EU power plants with Entso e identifier and the EUTL identifier.\n",
    "        \n",
    "    Parameters\n",
    "    ----------\n",
    "    path: str\n",
    "        path to data\n",
    "    fn : str\n",
    "        filename\n",
    "        \n",
    "    \"\"\"\n",
    "    \n",
    "    logging.info(f'Loading data from {fn}')\n",
    "    \n",
    "    df = pd.read_csv(os.path.join(path, fn), sep = ',', header = 0, index_col=0)\n",
    "\n",
    "    return df\n",
    "\n",
    "def load_EUTL_data(path, fn):\n",
    "    \"\"\"\n",
    "    EU Emissions Data (EUTL)\n",
    "        \n",
    "    Parameters\n",
    "    ----------\n",
    "    path: str\n",
    "        path to data\n",
    "    fn : str\n",
    "        filename\n",
    "        \n",
    "    \"\"\"\n",
    "    \n",
    "    logging.info(f'Loading data from {fn}')\n",
    "    \n",
    "    df = pd.read_csv(os.path.join(path, fn),sep = ';',header = 13,encoding ='unicode_escape' )\n",
    "\n",
    "    return df\n",
    "\n",
    "def load_generation_data(path, fn):\n",
    "    \"\"\"\n",
    "    Entso e gernation data per unit\n",
    "        \n",
    "    Parameters\n",
    "    ----------\n",
    "    path: str\n",
    "        path to data\n",
    "    fn : str\n",
    "        filename\n",
    "        \n",
    "    \"\"\"\n",
    "    \n",
    "    logging.info(f'Loading data from {fn}')\n",
    "    \n",
    "    df = pd.read_csv(os.path.join(path, fn),sep = ',',index_col=0,parse_dates=True)\n",
    "    \n",
    "\n",
    "    return df\n",
    "\n",
    "def load_unit_data(path, fn):\n",
    "    \"\"\"\n",
    "    Entso e generation unit information\n",
    "        \n",
    "    Parameters\n",
    "    ----------\n",
    "    path: str\n",
    "        path to data\n",
    "    fn : str\n",
    "        filename\n",
    "        \n",
    "    \"\"\"\n",
    "    \n",
    "    logging.info(f'Loading data from {fn}')\n",
    "    \n",
    "    df = pd.read_csv(os.path.join(path, fn),sep = ',',index_col=0)\n",
    "    \n",
    "    # Rename production type name according to own convention\n",
    "    df.ProductionTypeName = change_ProductionTypeName(df.ProductionTypeName)\n",
    "    \n",
    "    # set name for the index\n",
    "    df.index.set_names('GenerationUnitEIC', inplace=True)\n",
    "\n",
    "    return df\n",
    "\n",
    "def load_timeseries_opsd(path, fn):\n",
    "    \"\"\"\n",
    "    Read data from OPSD time-series package own modification.\n",
    "\n",
    "    \n",
    "    \"\"\"\n",
    "    generation = (pd.read_csv(os.path.join(path, fn), index_col=[0], header=[0, 1, 2, 3, 4, 5], parse_dates=True)\n",
    "                    .dropna(how=\"all\", axis=0))\n",
    "        \n",
    "  \n",
    "    \n",
    "    generation = generation.rename(columns={'GB_UKM' : 'GB'})\n",
    "       \n",
    "    \n",
    "    return generation\n",
    "\n"
   ]
  },
  {
   "cell_type": "markdown",
   "metadata": {},
   "source": [
    "# Load data sets"
   ]
  },
  {
   "cell_type": "markdown",
   "metadata": {},
   "source": [
    "### Load power plant generation data."
   ]
  },
  {
   "cell_type": "code",
   "execution_count": 6,
   "metadata": {},
   "outputs": [],
   "source": [
    "generation_per_unit = load_generation_data(Bootom_up_methode_input_directory_path, 'gen_data.csv')"
   ]
  },
  {
   "cell_type": "markdown",
   "metadata": {},
   "source": [
    "### Load power plant unit inforamtion (capacity, name, etc.)"
   ]
  },
  {
   "cell_type": "code",
   "execution_count": 7,
   "metadata": {},
   "outputs": [],
   "source": [
    "generation_unit_info = load_unit_data(Bootom_up_methode_input_directory_path, 'unit_data.csv')"
   ]
  },
  {
   "cell_type": "markdown",
   "metadata": {},
   "source": [
    "### Load CO2_emissions data from EUTL dataset"
   ]
  },
  {
   "cell_type": "code",
   "execution_count": 8,
   "metadata": {},
   "outputs": [],
   "source": [
    "EUTL_emissions = load_EUTL_data(Bootom_up_methode_input_directory_path, 'verified_emissions_2018_en.csv')"
   ]
  },
  {
   "cell_type": "markdown",
   "metadata": {},
   "source": [
    "### Load machting information for power plant data"
   ]
  },
  {
   "cell_type": "code",
   "execution_count": 9,
   "metadata": {},
   "outputs": [],
   "source": [
    "unit_matching_EU = load_matching_data_EU(Bootom_up_methode_input_directory_path, 'Matching_Entso_EUTL_EU.csv')"
   ]
  },
  {
   "cell_type": "markdown",
   "metadata": {},
   "source": [
    "# Method"
   ]
  },
  {
   "cell_type": "markdown",
   "metadata": {},
   "source": [
    "## Yearly power generation per unit"
   ]
  },
  {
   "cell_type": "markdown",
   "metadata": {},
   "source": [
    "Store the yearly generation per power plant to the power plant information data set."
   ]
  },
  {
   "cell_type": "code",
   "execution_count": 10,
   "metadata": {},
   "outputs": [],
   "source": [
    "generation_unit_info['yearly_generation_2018'] = generation_per_unit.sum()"
   ]
  },
  {
   "cell_type": "markdown",
   "metadata": {},
   "source": [
    "## Matching ENTSO-E ID and EUTL ID"
   ]
  },
  {
   "cell_type": "markdown",
   "metadata": {},
   "source": [
    "Combining matching information (ENTSO-E ID and EUTL ID) to the generation unit info"
   ]
  },
  {
   "cell_type": "code",
   "execution_count": 11,
   "metadata": {},
   "outputs": [],
   "source": [
    "generation_unit_info_matched = pd.merge(generation_unit_info, unit_matching_EU, on='PowerSystemResourceName', how='inner')"
   ]
  },
  {
   "cell_type": "markdown",
   "metadata": {},
   "source": [
    "## Function for connecting emissions and production data"
   ]
  },
  {
   "cell_type": "code",
   "execution_count": 12,
   "metadata": {},
   "outputs": [],
   "source": [
    "def connect_CO2(df, ETS):\n",
    "    # caring for characteristics of the dataset: EUTL-ID IS NOT UNIQUE - only countrywise.\n",
    "    # removing power plants from the dataset which are not covered in ETS:\n",
    "    miss_country = []\n",
    "    for i in set(df.countrycode):\n",
    "        if sum(i == ETS['REGISTRY_CODE']) == 0:\n",
    "            print(i)\n",
    "            miss_country.append(i)\n",
    "            #removing this power plants from the list:\n",
    "    df = df.query('countrycode not in @miss_country')\n",
    "    \n",
    "    # removing power plants where match could not be found:\n",
    "    miss_match = []\n",
    "    for j in df.PowerSystemResourceName:\n",
    "        row = df[df.PowerSystemResourceName == j]\n",
    "        if len(ETS.query('REGISTRY_CODE == @row.countrycode.iloc[0]')\\\n",
    "                  .query('INSTALLATION_IDENTIFIER == @row.EUTL_ID.iloc[0]')) == 0:\n",
    "            print(j)\n",
    "            miss_match.append(j)\n",
    "            \n",
    "    df = df.query('PowerSystemResourceName not in @miss_match')\n",
    "    # apply matching:\n",
    "    df['verified_emissions_18'] = df.apply(lambda x: ETS.query('REGISTRY_CODE==@x.countrycode')\\\n",
    "                                    .query('INSTALLATION_IDENTIFIER==@x.EUTL_ID')['VERIFIED_EMISSIONS_2018']\\\n",
    "                                    .iloc[0], axis = 1)\n",
    "    df['verified_emissions_17'] = df.apply(lambda x: ETS.query('REGISTRY_CODE==@x.countrycode')\\\n",
    "                                    .query('INSTALLATION_IDENTIFIER==@x.EUTL_ID')['VERIFIED_EMISSIONS_2017']\\\n",
    "                                    .iloc[0], axis = 1)\n",
    "    df['verified_emissions_16'] = df.apply(lambda x: ETS.query('REGISTRY_CODE==@x.countrycode')\\\n",
    "                                    .query('INSTALLATION_IDENTIFIER==@x.EUTL_ID')['VERIFIED_EMISSIONS_2016']\\\n",
    "                                    .iloc[0], axis = 1)\n",
    "    df['verified_emissions_15'] = df.apply(lambda x: ETS.query('REGISTRY_CODE==@x.countrycode')\\\n",
    "                                    .query('INSTALLATION_IDENTIFIER==@x.EUTL_ID')['VERIFIED_EMISSIONS_2015']\\\n",
    "                                    .iloc[0], axis = 1)\n",
    "    \n",
    "    df['ETS_name'] = df.apply(lambda x: ETS.query('REGISTRY_CODE==@x.countrycode')\\\n",
    "                                    .query('INSTALLATION_IDENTIFIER==@x.EUTL_ID')['IDENTIFIER_IN_REG']\\\n",
    "                                    .iloc[0], axis = 1)\n",
    "    return df"
   ]
  },
  {
   "cell_type": "code",
   "execution_count": 13,
   "metadata": {},
   "outputs": [],
   "source": [
    "generation_unit_info_matched = connect_CO2(generation_unit_info_matched, EUTL_emissions)"
   ]
  },
  {
   "cell_type": "markdown",
   "metadata": {},
   "source": [
    "Show first 10 entries from data"
   ]
  },
  {
   "cell_type": "code",
   "execution_count": 14,
   "metadata": {},
   "outputs": [
    {
     "data": {
      "text/html": [
       "<div>\n",
       "<style scoped>\n",
       "    .dataframe tbody tr th:only-of-type {\n",
       "        vertical-align: middle;\n",
       "    }\n",
       "\n",
       "    .dataframe tbody tr th {\n",
       "        vertical-align: top;\n",
       "    }\n",
       "\n",
       "    .dataframe thead th {\n",
       "        text-align: right;\n",
       "    }\n",
       "</style>\n",
       "<table border=\"1\" class=\"dataframe\">\n",
       "  <thead>\n",
       "    <tr style=\"text-align: right;\">\n",
       "      <th></th>\n",
       "      <th>AreaCode</th>\n",
       "      <th>AreaName</th>\n",
       "      <th>AreaTypeCode</th>\n",
       "      <th>InstalledGenCapacity</th>\n",
       "      <th>MapCode</th>\n",
       "      <th>PowerSystemResourceName</th>\n",
       "      <th>ProductionTypeName</th>\n",
       "      <th>duplicate_count</th>\n",
       "      <th>yearly_generation_2018</th>\n",
       "      <th>countrycode</th>\n",
       "      <th>EUTL_ID</th>\n",
       "      <th>verified_emissions_18</th>\n",
       "      <th>verified_emissions_17</th>\n",
       "      <th>verified_emissions_16</th>\n",
       "      <th>verified_emissions_15</th>\n",
       "      <th>ETS_name</th>\n",
       "    </tr>\n",
       "  </thead>\n",
       "  <tbody>\n",
       "    <tr>\n",
       "      <th>0</th>\n",
       "      <td>10YAT-APG------L</td>\n",
       "      <td>APG CA</td>\n",
       "      <td>CTA</td>\n",
       "      <td>140.0</td>\n",
       "      <td>AT</td>\n",
       "      <td>Lau GuD</td>\n",
       "      <td>gas</td>\n",
       "      <td>2.0</td>\n",
       "      <td>0.00</td>\n",
       "      <td>AT</td>\n",
       "      <td>86.0</td>\n",
       "      <td>6300</td>\n",
       "      <td>3825</td>\n",
       "      <td>3136</td>\n",
       "      <td>4097</td>\n",
       "      <td>Wienstrom KW Leopoldau Wien</td>\n",
       "    </tr>\n",
       "    <tr>\n",
       "      <th>1</th>\n",
       "      <td>10YAT-APG------L</td>\n",
       "      <td>APG CA</td>\n",
       "      <td>CTA</td>\n",
       "      <td>400.0</td>\n",
       "      <td>AT</td>\n",
       "      <td>Kraftwerk Timelkam GUD</td>\n",
       "      <td>gas</td>\n",
       "      <td>2.0</td>\n",
       "      <td>685235.67</td>\n",
       "      <td>AT</td>\n",
       "      <td>149.0</td>\n",
       "      <td>267204</td>\n",
       "      <td>356994</td>\n",
       "      <td>213716</td>\n",
       "      <td>174692</td>\n",
       "      <td>Energie AG GuD Kraftwerk Timelkam</td>\n",
       "    </tr>\n",
       "    <tr>\n",
       "      <th>2</th>\n",
       "      <td>10YAT-APG------L</td>\n",
       "      <td>APG CA</td>\n",
       "      <td>CTA</td>\n",
       "      <td>332.0</td>\n",
       "      <td>AT</td>\n",
       "      <td>KW Dürnrohr Block 2</td>\n",
       "      <td>hard_coal</td>\n",
       "      <td>2.0</td>\n",
       "      <td>745290.41</td>\n",
       "      <td>AT</td>\n",
       "      <td>94.0</td>\n",
       "      <td>0</td>\n",
       "      <td>0</td>\n",
       "      <td>8</td>\n",
       "      <td>565110</td>\n",
       "      <td>Verbund KW Dürnrohr Zwentendorf</td>\n",
       "    </tr>\n",
       "    <tr>\n",
       "      <th>3</th>\n",
       "      <td>10YAT-APG------L</td>\n",
       "      <td>APG CA</td>\n",
       "      <td>CTA</td>\n",
       "      <td>150.0</td>\n",
       "      <td>AT</td>\n",
       "      <td>KW Riedersbach 2 G2</td>\n",
       "      <td>hard_coal</td>\n",
       "      <td>2.0</td>\n",
       "      <td>0.00</td>\n",
       "      <td>AT</td>\n",
       "      <td>79.0</td>\n",
       "      <td>6576</td>\n",
       "      <td>7775</td>\n",
       "      <td>203045</td>\n",
       "      <td>270681</td>\n",
       "      <td>KW Riedersbach</td>\n",
       "    </tr>\n",
       "    <tr>\n",
       "      <th>4</th>\n",
       "      <td>10Y1001A1001A796</td>\n",
       "      <td>Energinet CA</td>\n",
       "      <td>CTA</td>\n",
       "      <td>147.0</td>\n",
       "      <td>DK</td>\n",
       "      <td>Asnaesvaerket 2</td>\n",
       "      <td>hard_coal</td>\n",
       "      <td>1.0</td>\n",
       "      <td>219309.91</td>\n",
       "      <td>DK</td>\n",
       "      <td>48.0</td>\n",
       "      <td>878395</td>\n",
       "      <td>1048994</td>\n",
       "      <td>952588</td>\n",
       "      <td>695549</td>\n",
       "      <td>Asnæsværket</td>\n",
       "    </tr>\n",
       "    <tr>\n",
       "      <th>5</th>\n",
       "      <td>10Y1001A1001A796</td>\n",
       "      <td>Energinet CA</td>\n",
       "      <td>CTA</td>\n",
       "      <td>250.0</td>\n",
       "      <td>DK</td>\n",
       "      <td>Amagervaerket 3</td>\n",
       "      <td>hard_coal</td>\n",
       "      <td>1.0</td>\n",
       "      <td>1060165.23</td>\n",
       "      <td>DK</td>\n",
       "      <td>52.0</td>\n",
       "      <td>1038454</td>\n",
       "      <td>962853</td>\n",
       "      <td>1109048</td>\n",
       "      <td>862186</td>\n",
       "      <td>Amagerværket:DK299</td>\n",
       "    </tr>\n",
       "    <tr>\n",
       "      <th>6</th>\n",
       "      <td>10Y1001A1001A796</td>\n",
       "      <td>Energinet CA</td>\n",
       "      <td>CTA</td>\n",
       "      <td>377.0</td>\n",
       "      <td>DK</td>\n",
       "      <td>Esbjergvaerket 3</td>\n",
       "      <td>hard_coal</td>\n",
       "      <td>1.0</td>\n",
       "      <td>1193633.83</td>\n",
       "      <td>DK</td>\n",
       "      <td>80.0</td>\n",
       "      <td>1066679</td>\n",
       "      <td>767819</td>\n",
       "      <td>1212705</td>\n",
       "      <td>875783</td>\n",
       "      <td>Esbjergværket</td>\n",
       "    </tr>\n",
       "    <tr>\n",
       "      <th>7</th>\n",
       "      <td>10Y1001A1001A796</td>\n",
       "      <td>Energinet CA</td>\n",
       "      <td>CTA</td>\n",
       "      <td>372.0</td>\n",
       "      <td>DK</td>\n",
       "      <td>Fynsvaerket 7</td>\n",
       "      <td>hard_coal</td>\n",
       "      <td>1.0</td>\n",
       "      <td>770123.83</td>\n",
       "      <td>DK</td>\n",
       "      <td>69.0</td>\n",
       "      <td>747392</td>\n",
       "      <td>1053586</td>\n",
       "      <td>1155662</td>\n",
       "      <td>901683</td>\n",
       "      <td>Fjernvarme Fyn Produktion A/S Blok 7</td>\n",
       "    </tr>\n",
       "    <tr>\n",
       "      <th>8</th>\n",
       "      <td>10Y1001A1001A796</td>\n",
       "      <td>Energinet CA</td>\n",
       "      <td>CTA</td>\n",
       "      <td>108.2</td>\n",
       "      <td>DK</td>\n",
       "      <td>Silkeborgvaerket</td>\n",
       "      <td>gas</td>\n",
       "      <td>1.0</td>\n",
       "      <td>273443.11</td>\n",
       "      <td>DK</td>\n",
       "      <td>68.0</td>\n",
       "      <td>124943</td>\n",
       "      <td>80817</td>\n",
       "      <td>108179</td>\n",
       "      <td>35491</td>\n",
       "      <td>SKVV</td>\n",
       "    </tr>\n",
       "    <tr>\n",
       "      <th>9</th>\n",
       "      <td>10Y1001A1001A796</td>\n",
       "      <td>Energinet CA</td>\n",
       "      <td>CTA</td>\n",
       "      <td>640.0</td>\n",
       "      <td>DK</td>\n",
       "      <td>Asnaesvaerket 5</td>\n",
       "      <td>hard_coal</td>\n",
       "      <td>1.0</td>\n",
       "      <td>550708.39</td>\n",
       "      <td>DK</td>\n",
       "      <td>48.0</td>\n",
       "      <td>878395</td>\n",
       "      <td>1048994</td>\n",
       "      <td>952588</td>\n",
       "      <td>695549</td>\n",
       "      <td>Asnæsværket</td>\n",
       "    </tr>\n",
       "  </tbody>\n",
       "</table>\n",
       "</div>"
      ],
      "text/plain": [
       "           AreaCode      AreaName AreaTypeCode  InstalledGenCapacity MapCode  \\\n",
       "0  10YAT-APG------L        APG CA          CTA                 140.0      AT   \n",
       "1  10YAT-APG------L        APG CA          CTA                 400.0      AT   \n",
       "2  10YAT-APG------L        APG CA          CTA                 332.0      AT   \n",
       "3  10YAT-APG------L        APG CA          CTA                 150.0      AT   \n",
       "4  10Y1001A1001A796  Energinet CA          CTA                 147.0      DK   \n",
       "5  10Y1001A1001A796  Energinet CA          CTA                 250.0      DK   \n",
       "6  10Y1001A1001A796  Energinet CA          CTA                 377.0      DK   \n",
       "7  10Y1001A1001A796  Energinet CA          CTA                 372.0      DK   \n",
       "8  10Y1001A1001A796  Energinet CA          CTA                 108.2      DK   \n",
       "9  10Y1001A1001A796  Energinet CA          CTA                 640.0      DK   \n",
       "\n",
       "  PowerSystemResourceName ProductionTypeName  duplicate_count  \\\n",
       "0                 Lau GuD                gas              2.0   \n",
       "1  Kraftwerk Timelkam GUD                gas              2.0   \n",
       "2     KW Dürnrohr Block 2          hard_coal              2.0   \n",
       "3     KW Riedersbach 2 G2          hard_coal              2.0   \n",
       "4         Asnaesvaerket 2          hard_coal              1.0   \n",
       "5         Amagervaerket 3          hard_coal              1.0   \n",
       "6        Esbjergvaerket 3          hard_coal              1.0   \n",
       "7           Fynsvaerket 7          hard_coal              1.0   \n",
       "8        Silkeborgvaerket                gas              1.0   \n",
       "9         Asnaesvaerket 5          hard_coal              1.0   \n",
       "\n",
       "   yearly_generation_2018 countrycode  EUTL_ID verified_emissions_18  \\\n",
       "0                    0.00          AT     86.0                  6300   \n",
       "1               685235.67          AT    149.0                267204   \n",
       "2               745290.41          AT     94.0                     0   \n",
       "3                    0.00          AT     79.0                  6576   \n",
       "4               219309.91          DK     48.0                878395   \n",
       "5              1060165.23          DK     52.0               1038454   \n",
       "6              1193633.83          DK     80.0               1066679   \n",
       "7               770123.83          DK     69.0                747392   \n",
       "8               273443.11          DK     68.0                124943   \n",
       "9               550708.39          DK     48.0                878395   \n",
       "\n",
       "  verified_emissions_17 verified_emissions_16 verified_emissions_15  \\\n",
       "0                  3825                  3136                  4097   \n",
       "1                356994                213716                174692   \n",
       "2                     0                     8                565110   \n",
       "3                  7775                203045                270681   \n",
       "4               1048994                952588                695549   \n",
       "5                962853               1109048                862186   \n",
       "6                767819               1212705                875783   \n",
       "7               1053586               1155662                901683   \n",
       "8                 80817                108179                 35491   \n",
       "9               1048994                952588                695549   \n",
       "\n",
       "                               ETS_name  \n",
       "0           Wienstrom KW Leopoldau Wien  \n",
       "1     Energie AG GuD Kraftwerk Timelkam  \n",
       "2       Verbund KW Dürnrohr Zwentendorf  \n",
       "3                        KW Riedersbach  \n",
       "4                           Asnæsværket  \n",
       "5                    Amagerværket:DK299  \n",
       "6                         Esbjergværket  \n",
       "7  Fjernvarme Fyn Produktion A/S Blok 7  \n",
       "8                                  SKVV  \n",
       "9                           Asnæsværket  "
      ]
     },
     "execution_count": 14,
     "metadata": {},
     "output_type": "execute_result"
    }
   ],
   "source": [
    "generation_unit_info_matched.head(10)"
   ]
  },
  {
   "cell_type": "markdown",
   "metadata": {},
   "source": [
    "## Carbon intensity (CI) per power plants (sites)"
   ]
  },
  {
   "cell_type": "markdown",
   "metadata": {},
   "source": [
    "The following function calculates the CI for each entry in the EUTL data set. Due to the fact, that the EUTL data set has a spatial resolution on site level and not on power plant level it can happen, that power plants data need to be aggregated together in the emission calculation."
   ]
  },
  {
   "cell_type": "code",
   "execution_count": 15,
   "metadata": {},
   "outputs": [],
   "source": [
    "def calc_CI(df):\n",
    "    # calculates the carbon intensity of sites. Due to non-unique labelings of the power plants across different\n",
    "    # countries it needs care taken about it.\n",
    "    \n",
    "    df['verified_emissions_18']=df['verified_emissions_18'].apply(float)\n",
    "    \n",
    "    sites = pd.DataFrame(df.groupby(['countrycode','EUTL_ID']).mean()['verified_emissions_18']\\\n",
    "                       / df.groupby(['countrycode','EUTL_ID']).sum()['yearly_generation_2018'])\\\n",
    "                        .reset_index()\n",
    "    df['carbon_intensity'] = df.apply(lambda x: sites.query('countrycode == @x.countrycode')\\\n",
    "                            .query('EUTL_ID == @x.EUTL_ID')[0].iloc[0],axis = 1)\n",
    "    \n",
    "    return df"
   ]
  },
  {
   "cell_type": "code",
   "execution_count": 16,
   "metadata": {},
   "outputs": [],
   "source": [
    "generation_unit_info_matched = calc_CI(generation_unit_info_matched)"
   ]
  },
  {
   "cell_type": "markdown",
   "metadata": {},
   "source": [
    "Show first 10 entries from data"
   ]
  },
  {
   "cell_type": "code",
   "execution_count": 17,
   "metadata": {},
   "outputs": [
    {
     "data": {
      "text/html": [
       "<div>\n",
       "<style scoped>\n",
       "    .dataframe tbody tr th:only-of-type {\n",
       "        vertical-align: middle;\n",
       "    }\n",
       "\n",
       "    .dataframe tbody tr th {\n",
       "        vertical-align: top;\n",
       "    }\n",
       "\n",
       "    .dataframe thead th {\n",
       "        text-align: right;\n",
       "    }\n",
       "</style>\n",
       "<table border=\"1\" class=\"dataframe\">\n",
       "  <thead>\n",
       "    <tr style=\"text-align: right;\">\n",
       "      <th></th>\n",
       "      <th>AreaCode</th>\n",
       "      <th>AreaName</th>\n",
       "      <th>AreaTypeCode</th>\n",
       "      <th>InstalledGenCapacity</th>\n",
       "      <th>MapCode</th>\n",
       "      <th>PowerSystemResourceName</th>\n",
       "      <th>ProductionTypeName</th>\n",
       "      <th>duplicate_count</th>\n",
       "      <th>yearly_generation_2018</th>\n",
       "      <th>countrycode</th>\n",
       "      <th>EUTL_ID</th>\n",
       "      <th>verified_emissions_18</th>\n",
       "      <th>verified_emissions_17</th>\n",
       "      <th>verified_emissions_16</th>\n",
       "      <th>verified_emissions_15</th>\n",
       "      <th>ETS_name</th>\n",
       "      <th>carbon_intensity</th>\n",
       "    </tr>\n",
       "  </thead>\n",
       "  <tbody>\n",
       "    <tr>\n",
       "      <th>0</th>\n",
       "      <td>10YAT-APG------L</td>\n",
       "      <td>APG CA</td>\n",
       "      <td>CTA</td>\n",
       "      <td>140.0</td>\n",
       "      <td>AT</td>\n",
       "      <td>Lau GuD</td>\n",
       "      <td>gas</td>\n",
       "      <td>2.0</td>\n",
       "      <td>0.00</td>\n",
       "      <td>AT</td>\n",
       "      <td>86.0</td>\n",
       "      <td>6300.0</td>\n",
       "      <td>3825</td>\n",
       "      <td>3136</td>\n",
       "      <td>4097</td>\n",
       "      <td>Wienstrom KW Leopoldau Wien</td>\n",
       "      <td>inf</td>\n",
       "    </tr>\n",
       "    <tr>\n",
       "      <th>1</th>\n",
       "      <td>10YAT-APG------L</td>\n",
       "      <td>APG CA</td>\n",
       "      <td>CTA</td>\n",
       "      <td>400.0</td>\n",
       "      <td>AT</td>\n",
       "      <td>Kraftwerk Timelkam GUD</td>\n",
       "      <td>gas</td>\n",
       "      <td>2.0</td>\n",
       "      <td>685235.67</td>\n",
       "      <td>AT</td>\n",
       "      <td>149.0</td>\n",
       "      <td>267204.0</td>\n",
       "      <td>356994</td>\n",
       "      <td>213716</td>\n",
       "      <td>174692</td>\n",
       "      <td>Energie AG GuD Kraftwerk Timelkam</td>\n",
       "      <td>0.389945</td>\n",
       "    </tr>\n",
       "    <tr>\n",
       "      <th>2</th>\n",
       "      <td>10YAT-APG------L</td>\n",
       "      <td>APG CA</td>\n",
       "      <td>CTA</td>\n",
       "      <td>332.0</td>\n",
       "      <td>AT</td>\n",
       "      <td>KW Dürnrohr Block 2</td>\n",
       "      <td>hard_coal</td>\n",
       "      <td>2.0</td>\n",
       "      <td>745290.41</td>\n",
       "      <td>AT</td>\n",
       "      <td>94.0</td>\n",
       "      <td>0.0</td>\n",
       "      <td>0</td>\n",
       "      <td>8</td>\n",
       "      <td>565110</td>\n",
       "      <td>Verbund KW Dürnrohr Zwentendorf</td>\n",
       "      <td>0.000000</td>\n",
       "    </tr>\n",
       "    <tr>\n",
       "      <th>3</th>\n",
       "      <td>10YAT-APG------L</td>\n",
       "      <td>APG CA</td>\n",
       "      <td>CTA</td>\n",
       "      <td>150.0</td>\n",
       "      <td>AT</td>\n",
       "      <td>KW Riedersbach 2 G2</td>\n",
       "      <td>hard_coal</td>\n",
       "      <td>2.0</td>\n",
       "      <td>0.00</td>\n",
       "      <td>AT</td>\n",
       "      <td>79.0</td>\n",
       "      <td>6576.0</td>\n",
       "      <td>7775</td>\n",
       "      <td>203045</td>\n",
       "      <td>270681</td>\n",
       "      <td>KW Riedersbach</td>\n",
       "      <td>inf</td>\n",
       "    </tr>\n",
       "    <tr>\n",
       "      <th>4</th>\n",
       "      <td>10Y1001A1001A796</td>\n",
       "      <td>Energinet CA</td>\n",
       "      <td>CTA</td>\n",
       "      <td>147.0</td>\n",
       "      <td>DK</td>\n",
       "      <td>Asnaesvaerket 2</td>\n",
       "      <td>hard_coal</td>\n",
       "      <td>1.0</td>\n",
       "      <td>219309.91</td>\n",
       "      <td>DK</td>\n",
       "      <td>48.0</td>\n",
       "      <td>878395.0</td>\n",
       "      <td>1048994</td>\n",
       "      <td>952588</td>\n",
       "      <td>695549</td>\n",
       "      <td>Asnæsværket</td>\n",
       "      <td>1.140746</td>\n",
       "    </tr>\n",
       "  </tbody>\n",
       "</table>\n",
       "</div>"
      ],
      "text/plain": [
       "           AreaCode      AreaName AreaTypeCode  InstalledGenCapacity MapCode  \\\n",
       "0  10YAT-APG------L        APG CA          CTA                 140.0      AT   \n",
       "1  10YAT-APG------L        APG CA          CTA                 400.0      AT   \n",
       "2  10YAT-APG------L        APG CA          CTA                 332.0      AT   \n",
       "3  10YAT-APG------L        APG CA          CTA                 150.0      AT   \n",
       "4  10Y1001A1001A796  Energinet CA          CTA                 147.0      DK   \n",
       "\n",
       "  PowerSystemResourceName ProductionTypeName  duplicate_count  \\\n",
       "0                 Lau GuD                gas              2.0   \n",
       "1  Kraftwerk Timelkam GUD                gas              2.0   \n",
       "2     KW Dürnrohr Block 2          hard_coal              2.0   \n",
       "3     KW Riedersbach 2 G2          hard_coal              2.0   \n",
       "4         Asnaesvaerket 2          hard_coal              1.0   \n",
       "\n",
       "   yearly_generation_2018 countrycode  EUTL_ID  verified_emissions_18  \\\n",
       "0                    0.00          AT     86.0                 6300.0   \n",
       "1               685235.67          AT    149.0               267204.0   \n",
       "2               745290.41          AT     94.0                    0.0   \n",
       "3                    0.00          AT     79.0                 6576.0   \n",
       "4               219309.91          DK     48.0               878395.0   \n",
       "\n",
       "  verified_emissions_17 verified_emissions_16 verified_emissions_15  \\\n",
       "0                  3825                  3136                  4097   \n",
       "1                356994                213716                174692   \n",
       "2                     0                     8                565110   \n",
       "3                  7775                203045                270681   \n",
       "4               1048994                952588                695549   \n",
       "\n",
       "                            ETS_name  carbon_intensity  \n",
       "0        Wienstrom KW Leopoldau Wien               inf  \n",
       "1  Energie AG GuD Kraftwerk Timelkam          0.389945  \n",
       "2    Verbund KW Dürnrohr Zwentendorf          0.000000  \n",
       "3                     KW Riedersbach               inf  \n",
       "4                        Asnæsværket          1.140746  "
      ]
     },
     "execution_count": 17,
     "metadata": {},
     "output_type": "execute_result"
    }
   ],
   "source": [
    "generation_unit_info_matched.head()"
   ]
  },
  {
   "cell_type": "markdown",
   "metadata": {},
   "source": [
    "## Validation of carbon intensities (CI) per power plant"
   ]
  },
  {
   "cell_type": "markdown",
   "metadata": {},
   "source": [
    "Check and test results and drop all results that are not plausible"
   ]
  },
  {
   "cell_type": "code",
   "execution_count": 18,
   "metadata": {},
   "outputs": [],
   "source": [
    "# covert technologies for methode\n",
    "\n",
    "tech = ['gas', 'hard_coal',\n",
    "       'lignite', 'other_fossil']\n",
    "\n",
    "Powerplants_emission_EU_CI = generation_unit_info_matched.query('ProductionTypeName in @tech').copy()\n",
    "\n",
    "# not covert : 'Fossil Oil shale', 'Fossil Oil', 'Fossil Coal-derived gas','Fossil Peat'"
   ]
  },
  {
   "cell_type": "markdown",
   "metadata": {},
   "source": [
    "Since not all emission factors are correctly calculated we limited the list of calculated emissions per power plant is checked by a plausibility check.\n",
    "\n",
    "thresholds for plausibility check - until [g/kWh]: \n",
    "- lignite_high = 1750\n",
    "- lignite_low = 800\n",
    "-------------------\n",
    "- hardcoal_high = 1350\n",
    "- hardcoal_low = 700\n",
    "-------------------\n",
    "- gas_high = 550\n",
    "- gas_low = 350\n",
    "-------------------\n",
    "- other_high = 1570\n",
    "- other_low = 400\n",
    "\n",
    "Numbers taken from:\n",
    "https://www.gegenwind-saarland.de/Materialien/Energiewende/071031--VdI---CO2-Emissionen%20der%20Stromerzeugung_01.pdf"
   ]
  },
  {
   "cell_type": "code",
   "execution_count": 19,
   "metadata": {},
   "outputs": [],
   "source": [
    "# emissions space per technology in [t CO2/MWh] \n",
    "\n",
    "emission_space = {\"lignite\": (1.750,.800),\n",
    "                  \"hard_coal\": (1.350,.700),\n",
    "                  \"gas\": (.550,.350),\n",
    "                  \"other_fossil\": (1.570,.400)}\n",
    "\n",
    "\n",
    "# Entwicklung der spezifischen Kohlendioxid-Emissionen des deutschen Strommix in den Jahren 1990 - 2018 (UBA)\n",
    "# https://www.umweltbundesamt.de/sites/default/files/medien/1410/publikationen/2019-04-10_cc_10-2019_strommix_2019.pdf\n",
    "#\n",
    "# Unit: g CO2/kWh\n",
    "#  \n",
    "#lignite 1090,0\n",
    "#coal 820\n",
    "#gas 360\n",
    "#other 1570 (Müll und Öl)\n",
    "#\n",
    "#\n",
    "# um von t/MWh auf g/kWh zu kommen * 1000 "
   ]
  },
  {
   "cell_type": "code",
   "execution_count": 20,
   "metadata": {},
   "outputs": [],
   "source": [
    "# function for CI check\n",
    "def check_CI (row):\n",
    "    if row.carbon_intensity > emission_space[row.ProductionTypeName][1] and row.carbon_intensity < emission_space[row.ProductionTypeName][0]:\n",
    "        return True\n",
    "    else:\n",
    "        return False  "
   ]
  },
  {
   "cell_type": "code",
   "execution_count": 21,
   "metadata": {},
   "outputs": [],
   "source": [
    "# us CI_check function for CI validation\n",
    "Powerplants_emission_EU_CI['CI_validation'] = Powerplants_emission_EU_CI.apply(check_CI, axis=1)\n"
   ]
  },
  {
   "cell_type": "code",
   "execution_count": 26,
   "metadata": {},
   "outputs": [],
   "source": [
    "# take only the data that are validated\n",
    "Powerplants_emission_EU_CI_validated = Powerplants_emission_EU_CI[Powerplants_emission_EU_CI.CI_validation == True]"
   ]
  },
  {
   "cell_type": "markdown",
   "metadata": {},
   "source": [
    "reasons why the CI is not valid:\n",
    "\n",
    "1.) Match is not correct - then one more iteration is necessary\n",
    "\n",
    "2.) Data is wrong or incomplete\n",
    "\n",
    "3.) Match is correct, but it's a highly aggregated facility such like a steel manufacturing factory, where both process-CO2 AND the emissions from the power plant running the process accounts into the number given in the dataset.\n",
    "\n",
    "4.) the facility contains more smaller power plants which are not covered by ENTSO-E (<100MW) but nevertheless\n",
    "produce emissions which need to be paid for.\n",
    "\n",
    "5.) if the number of the carbon-intensity is negative, then the dataset is explained as \" -1 = blank (No allocation has been made / No Emissions have been Verified)\""
   ]
  },
  {
   "cell_type": "code",
   "execution_count": 46,
   "metadata": {},
   "outputs": [
    {
     "data": {
      "text/plain": [
       "Index(['AreaCode', 'AreaName', 'AreaTypeCode', 'InstalledGenCapacity',\n",
       "       'MapCode', 'PowerSystemResourceName', 'ProductionTypeName',\n",
       "       'duplicate_count', 'yearly_generation_2018', 'countrycode', 'EUTL_ID',\n",
       "       'verified_emissions_18', 'verified_emissions_17',\n",
       "       'verified_emissions_16', 'verified_emissions_15', 'ETS_name',\n",
       "       'carbon_intensity', 'CI_validation'],\n",
       "      dtype='object')"
      ]
     },
     "execution_count": 46,
     "metadata": {},
     "output_type": "execute_result"
    }
   ],
   "source": [
    "Powerplants_emission_EU_CI_validated.columns"
   ]
  },
  {
   "cell_type": "code",
   "execution_count": 55,
   "metadata": {},
   "outputs": [
    {
     "data": {
      "text/plain": [
       "Text(0, 0.5, 'Production technologie')"
      ]
     },
     "execution_count": 55,
     "metadata": {},
     "output_type": "execute_result"
    },
    {
     "data": {
      "image/png": "[encoded data removed]",
      "text/plain": [
       "<Figure size 1080x720 with 1 Axes>"
      ]
     },
     "metadata": {},
     "output_type": "display_data"
    }
   ],
   "source": [
    "fig, ax = plt.subplots(1, 1)\n",
    "\n",
    "ax = sns.boxplot(y=\"ProductionTypeName\", x=\"carbon_intensity\", data=Powerplants_emission_EU_CI_validated, orient=\"h\")\n",
    "\n",
    "ax.set_xlabel(\"CO2 intensity [g CO2/kWh]\")\n",
    "ax.set_ylabel(\"Production technologie\")"
   ]
  },
  {
   "cell_type": "code",
   "execution_count": 57,
   "metadata": {},
   "outputs": [],
   "source": [
    "fig.savefig(os.path.join(output_directory_path + '/_CO2_intensity_by_technology.png'))"
   ]
  },
  {
   "cell_type": "markdown",
   "metadata": {},
   "source": [
    "## Mean carbon intensity per technology and country "
   ]
  },
  {
   "cell_type": "code",
   "execution_count": 31,
   "metadata": {},
   "outputs": [],
   "source": [
    "def calc_CI_tech_country(df):\n",
    "    # calculates the average carbon intensity per technology in a country for plausible results defined above.\n",
    "    # df is a dataframe which contains all sites with plausible carbon intensities of whole Europe.\n",
    "    CI_tech_country = df.groupby(['countrycode','EUTL_ID','ProductionTypeName'])\\\n",
    "                                     .mean()['verified_emissions_18']\\\n",
    "                                     .groupby(['countrycode','ProductionTypeName']).sum()\\\n",
    "                                     /\\\n",
    "                      df.groupby(['countrycode','ProductionTypeName'])['yearly_generation_2018'].sum()\n",
    "    return CI_tech_country"
   ]
  },
  {
   "cell_type": "code",
   "execution_count": 32,
   "metadata": {},
   "outputs": [],
   "source": [
    "CI_PP_per_tech_country = calc_CI_tech_country(Powerplants_emission_EU_CI_validated)"
   ]
  },
  {
   "cell_type": "code",
   "execution_count": 33,
   "metadata": {},
   "outputs": [],
   "source": [
    "# hier noch mal drüber sprechen. Wie sieht das aus, wenn die EUTL_ID zu einem Ort gehört, an dem zwei Kraftwerke mit unterschiedlicher Technologie stehen\n",
    "# werte liegen leicht über den anderen Werten, da wir immer netto Strom nehmen und die anderen brutto Strom "
   ]
  },
  {
   "cell_type": "markdown",
   "metadata": {},
   "source": [
    "### Plot mean CI for countries and technologies "
   ]
  },
  {
   "cell_type": "code",
   "execution_count": 34,
   "metadata": {},
   "outputs": [
    {
     "data": {
      "text/plain": [
       "<Figure size 1080x720 with 0 Axes>"
      ]
     },
     "metadata": {},
     "output_type": "display_data"
    },
    {
     "data": {
      "image/png": "[encoded data removed]",
      "text/plain": [
       "<Figure size 1080x720 with 4 Axes>"
      ]
     },
     "metadata": {},
     "output_type": "display_data"
    }
   ],
   "source": [
    "plt.figure()\n",
    "\n",
    "CI_PP_per_tech_country.unstack(level=1).plot(kind='bar', subplots=True, ylabel='CI [t CO2/MWh]')\n",
    "\n",
    "plt.grid(True)"
   ]
  },
  {
   "cell_type": "markdown",
   "metadata": {},
   "source": [
    "### Check calculated CIs (are there represent the country production)"
   ]
  },
  {
   "cell_type": "markdown",
   "metadata": {},
   "source": [
    "By comparing the used power plant production with the production per production type (from ENTSO-E) of each country, we can get an idea how trustful is our resulting CI."
   ]
  },
  {
   "cell_type": "code",
   "execution_count": 59,
   "metadata": {},
   "outputs": [],
   "source": [
    "entsoe_gen_type = load_timeseries_opsd(Bootom_up_methode_input_directory_path, 'time_series_60min_multiindex.csv')"
   ]
  },
  {
   "cell_type": "markdown",
   "metadata": {},
   "source": [
    "Show the head of the data (the data is using a multi index for the columns)"
   ]
  },
  {
   "cell_type": "code",
   "execution_count": 60,
   "metadata": {},
   "outputs": [
    {
     "data": {
      "text/html": [
       "<div>\n",
       "<style scoped>\n",
       "    .dataframe tbody tr th:only-of-type {\n",
       "        vertical-align: middle;\n",
       "    }\n",
       "\n",
       "    .dataframe tbody tr th {\n",
       "        vertical-align: top;\n",
       "    }\n",
       "\n",
       "    .dataframe thead tr th {\n",
       "        text-align: left;\n",
       "    }\n",
       "\n",
       "    .dataframe thead tr:last-of-type th {\n",
       "        text-align: right;\n",
       "    }\n",
       "</style>\n",
       "<table border=\"1\" class=\"dataframe\">\n",
       "  <thead>\n",
       "    <tr>\n",
       "      <th>region</th>\n",
       "      <th>cet_cest_timestamp</th>\n",
       "      <th colspan=\"9\" halign=\"left\">AT</th>\n",
       "      <th>...</th>\n",
       "      <th colspan=\"10\" halign=\"left\">SK</th>\n",
       "    </tr>\n",
       "    <tr>\n",
       "      <th>variable</th>\n",
       "      <th>Unnamed: 1_level_1</th>\n",
       "      <th>biomass</th>\n",
       "      <th>gas</th>\n",
       "      <th>geothermal</th>\n",
       "      <th>hard_coal</th>\n",
       "      <th>hydro</th>\n",
       "      <th>other_fossil</th>\n",
       "      <th>solar</th>\n",
       "      <th>waste</th>\n",
       "      <th>wind_onshore</th>\n",
       "      <th>...</th>\n",
       "      <th>biomass</th>\n",
       "      <th>gas</th>\n",
       "      <th>hard_coal</th>\n",
       "      <th>hydro</th>\n",
       "      <th>lignite</th>\n",
       "      <th>nuclear</th>\n",
       "      <th>oil</th>\n",
       "      <th>other_fossil</th>\n",
       "      <th>other_renewable</th>\n",
       "      <th>solar</th>\n",
       "    </tr>\n",
       "    <tr>\n",
       "      <th>attribute</th>\n",
       "      <th>Unnamed: 1_level_2</th>\n",
       "      <th>generation_actual</th>\n",
       "      <th>generation_actual</th>\n",
       "      <th>generation_actual</th>\n",
       "      <th>generation_actual</th>\n",
       "      <th>generation_actual</th>\n",
       "      <th>generation_actual</th>\n",
       "      <th>generation_actual</th>\n",
       "      <th>generation_actual</th>\n",
       "      <th>generation_actual</th>\n",
       "      <th>...</th>\n",
       "      <th>generation_actual</th>\n",
       "      <th>generation_actual</th>\n",
       "      <th>generation_actual</th>\n",
       "      <th>generation_actual</th>\n",
       "      <th>generation_actual</th>\n",
       "      <th>generation_actual</th>\n",
       "      <th>generation_actual</th>\n",
       "      <th>generation_actual</th>\n",
       "      <th>generation_actual</th>\n",
       "      <th>generation_actual</th>\n",
       "    </tr>\n",
       "    <tr>\n",
       "      <th>source</th>\n",
       "      <th>Unnamed: 1_level_3</th>\n",
       "      <th>own calculation based on ENTSO-E Transparency</th>\n",
       "      <th>own calculation based on ENTSO-E Transparency</th>\n",
       "      <th>own calculation based on ENTSO-E Transparency</th>\n",
       "      <th>own calculation based on ENTSO-E Transparency</th>\n",
       "      <th>own calculation based on ENTSO-E Transparency</th>\n",
       "      <th>own calculation based on ENTSO-E Transparency</th>\n",
       "      <th>own calculation based on ENTSO-E Transparency</th>\n",
       "      <th>own calculation based on ENTSO-E Transparency</th>\n",
       "      <th>own calculation based on ENTSO-E Transparency</th>\n",
       "      <th>...</th>\n",
       "      <th>ENTSO-E Transparency</th>\n",
       "      <th>ENTSO-E Transparency</th>\n",
       "      <th>ENTSO-E Transparency</th>\n",
       "      <th>ENTSO-E Transparency</th>\n",
       "      <th>ENTSO-E Transparency</th>\n",
       "      <th>ENTSO-E Transparency</th>\n",
       "      <th>ENTSO-E Transparency</th>\n",
       "      <th>ENTSO-E Transparency</th>\n",
       "      <th>ENTSO-E Transparency</th>\n",
       "      <th>ENTSO-E Transparency</th>\n",
       "    </tr>\n",
       "    <tr>\n",
       "      <th>web</th>\n",
       "      <th>Unnamed: 1_level_4</th>\n",
       "      <th>https://transparency.entsoe.eu/generation/r2/actualGenerationPerProductionType/show</th>\n",
       "      <th>https://transparency.entsoe.eu/generation/r2/actualGenerationPerProductionType/show</th>\n",
       "      <th>https://transparency.entsoe.eu/generation/r2/actualGenerationPerProductionType/show</th>\n",
       "      <th>https://transparency.entsoe.eu/generation/r2/actualGenerationPerProductionType/show</th>\n",
       "      <th>https://transparency.entsoe.eu/generation/r2/actualGenerationPerProductionType/show</th>\n",
       "      <th>https://transparency.entsoe.eu/generation/r2/actualGenerationPerProductionType/show</th>\n",
       "      <th>https://transparency.entsoe.eu/generation/r2/actualGenerationPerProductionType/show</th>\n",
       "      <th>https://transparency.entsoe.eu/generation/r2/actualGenerationPerProductionType/show</th>\n",
       "      <th>https://transparency.entsoe.eu/generation/r2/actualGenerationPerProductionType/show</th>\n",
       "      <th>...</th>\n",
       "      <th>https://transparency.entsoe.eu/generation/r2/actualGenerationPerProductionType/show</th>\n",
       "      <th>https://transparency.entsoe.eu/generation/r2/actualGenerationPerProductionType/show</th>\n",
       "      <th>https://transparency.entsoe.eu/generation/r2/actualGenerationPerProductionType/show</th>\n",
       "      <th>https://transparency.entsoe.eu/generation/r2/actualGenerationPerProductionType/show</th>\n",
       "      <th>https://transparency.entsoe.eu/generation/r2/actualGenerationPerProductionType/show</th>\n",
       "      <th>https://transparency.entsoe.eu/generation/r2/actualGenerationPerProductionType/show</th>\n",
       "      <th>https://transparency.entsoe.eu/generation/r2/actualGenerationPerProductionType/show</th>\n",
       "      <th>https://transparency.entsoe.eu/generation/r2/actualGenerationPerProductionType/show</th>\n",
       "      <th>https://transparency.entsoe.eu/generation/r2/actualGenerationPerProductionType/show</th>\n",
       "      <th>https://transparency.entsoe.eu/generation/r2/actualGenerationPerProductionType/show</th>\n",
       "    </tr>\n",
       "    <tr>\n",
       "      <th>unit</th>\n",
       "      <th>Unnamed: 1_level_5</th>\n",
       "      <th>MW</th>\n",
       "      <th>MW</th>\n",
       "      <th>MW</th>\n",
       "      <th>MW</th>\n",
       "      <th>MW</th>\n",
       "      <th>MW</th>\n",
       "      <th>MW</th>\n",
       "      <th>MW</th>\n",
       "      <th>MW</th>\n",
       "      <th>...</th>\n",
       "      <th>MW</th>\n",
       "      <th>MW</th>\n",
       "      <th>MW</th>\n",
       "      <th>MW</th>\n",
       "      <th>MW</th>\n",
       "      <th>MW</th>\n",
       "      <th>MW</th>\n",
       "      <th>MW</th>\n",
       "      <th>MW</th>\n",
       "      <th>MW</th>\n",
       "    </tr>\n",
       "    <tr>\n",
       "      <th>utc_timestamp</th>\n",
       "      <th></th>\n",
       "      <th></th>\n",
       "      <th></th>\n",
       "      <th></th>\n",
       "      <th></th>\n",
       "      <th></th>\n",
       "      <th></th>\n",
       "      <th></th>\n",
       "      <th></th>\n",
       "      <th></th>\n",
       "      <th></th>\n",
       "      <th></th>\n",
       "      <th></th>\n",
       "      <th></th>\n",
       "      <th></th>\n",
       "      <th></th>\n",
       "      <th></th>\n",
       "      <th></th>\n",
       "      <th></th>\n",
       "      <th></th>\n",
       "      <th></th>\n",
       "    </tr>\n",
       "  </thead>\n",
       "  <tbody>\n",
       "    <tr>\n",
       "      <th>2018-01-01 00:00:00+00:00</th>\n",
       "      <td>2018-01-01T01:00:00+0100</td>\n",
       "      <td>316.0</td>\n",
       "      <td>71.0</td>\n",
       "      <td>0.0</td>\n",
       "      <td>150.0</td>\n",
       "      <td>751.0</td>\n",
       "      <td>22.0</td>\n",
       "      <td>0.0</td>\n",
       "      <td>100.0</td>\n",
       "      <td>832.0</td>\n",
       "      <td>...</td>\n",
       "      <td>28.2</td>\n",
       "      <td>175.6</td>\n",
       "      <td>48.1</td>\n",
       "      <td>455.9300</td>\n",
       "      <td>179.5</td>\n",
       "      <td>1819.3</td>\n",
       "      <td>42.3</td>\n",
       "      <td>436.5</td>\n",
       "      <td>41.4</td>\n",
       "      <td>0.0</td>\n",
       "    </tr>\n",
       "    <tr>\n",
       "      <th>2018-01-01 01:00:00+00:00</th>\n",
       "      <td>2018-01-01T02:00:00+0100</td>\n",
       "      <td>316.0</td>\n",
       "      <td>70.0</td>\n",
       "      <td>0.0</td>\n",
       "      <td>149.0</td>\n",
       "      <td>1538.0</td>\n",
       "      <td>22.0</td>\n",
       "      <td>0.0</td>\n",
       "      <td>100.0</td>\n",
       "      <td>926.0</td>\n",
       "      <td>...</td>\n",
       "      <td>28.1</td>\n",
       "      <td>172.9</td>\n",
       "      <td>48.0</td>\n",
       "      <td>499.8967</td>\n",
       "      <td>177.9</td>\n",
       "      <td>1816.7</td>\n",
       "      <td>42.0</td>\n",
       "      <td>433.8</td>\n",
       "      <td>41.0</td>\n",
       "      <td>0.0</td>\n",
       "    </tr>\n",
       "    <tr>\n",
       "      <th>2018-01-01 02:00:00+00:00</th>\n",
       "      <td>2018-01-01T03:00:00+0100</td>\n",
       "      <td>316.0</td>\n",
       "      <td>69.0</td>\n",
       "      <td>0.0</td>\n",
       "      <td>149.0</td>\n",
       "      <td>62.0</td>\n",
       "      <td>22.0</td>\n",
       "      <td>0.0</td>\n",
       "      <td>100.0</td>\n",
       "      <td>692.0</td>\n",
       "      <td>...</td>\n",
       "      <td>28.1</td>\n",
       "      <td>162.1</td>\n",
       "      <td>46.7</td>\n",
       "      <td>543.8633</td>\n",
       "      <td>174.7</td>\n",
       "      <td>1808.7</td>\n",
       "      <td>43.8</td>\n",
       "      <td>425.7</td>\n",
       "      <td>40.8</td>\n",
       "      <td>0.0</td>\n",
       "    </tr>\n",
       "    <tr>\n",
       "      <th>2018-01-01 03:00:00+00:00</th>\n",
       "      <td>2018-01-01T04:00:00+0100</td>\n",
       "      <td>316.0</td>\n",
       "      <td>72.0</td>\n",
       "      <td>0.0</td>\n",
       "      <td>149.0</td>\n",
       "      <td>1548.0</td>\n",
       "      <td>22.0</td>\n",
       "      <td>0.0</td>\n",
       "      <td>100.0</td>\n",
       "      <td>453.0</td>\n",
       "      <td>...</td>\n",
       "      <td>29.7</td>\n",
       "      <td>140.3</td>\n",
       "      <td>45.3</td>\n",
       "      <td>587.8300</td>\n",
       "      <td>168.5</td>\n",
       "      <td>1803.6</td>\n",
       "      <td>40.2</td>\n",
       "      <td>415.4</td>\n",
       "      <td>39.4</td>\n",
       "      <td>0.0</td>\n",
       "    </tr>\n",
       "    <tr>\n",
       "      <th>2018-01-01 04:00:00+00:00</th>\n",
       "      <td>2018-01-01T05:00:00+0100</td>\n",
       "      <td>316.0</td>\n",
       "      <td>75.0</td>\n",
       "      <td>0.0</td>\n",
       "      <td>149.0</td>\n",
       "      <td>40.0</td>\n",
       "      <td>22.0</td>\n",
       "      <td>0.0</td>\n",
       "      <td>100.0</td>\n",
       "      <td>321.0</td>\n",
       "      <td>...</td>\n",
       "      <td>29.5</td>\n",
       "      <td>143.5</td>\n",
       "      <td>46.4</td>\n",
       "      <td>552.4800</td>\n",
       "      <td>170.6</td>\n",
       "      <td>1809.1</td>\n",
       "      <td>40.2</td>\n",
       "      <td>421.3</td>\n",
       "      <td>40.4</td>\n",
       "      <td>0.0</td>\n",
       "    </tr>\n",
       "  </tbody>\n",
       "</table>\n",
       "<p>5 rows × 425 columns</p>\n",
       "</div>"
      ],
      "text/plain": [
       "region                           cet_cest_timestamp  \\\n",
       "variable                         Unnamed: 1_level_1   \n",
       "attribute                        Unnamed: 1_level_2   \n",
       "source                           Unnamed: 1_level_3   \n",
       "web                              Unnamed: 1_level_4   \n",
       "unit                             Unnamed: 1_level_5   \n",
       "utc_timestamp                                         \n",
       "2018-01-01 00:00:00+00:00  2018-01-01T01:00:00+0100   \n",
       "2018-01-01 01:00:00+00:00  2018-01-01T02:00:00+0100   \n",
       "2018-01-01 02:00:00+00:00  2018-01-01T03:00:00+0100   \n",
       "2018-01-01 03:00:00+00:00  2018-01-01T04:00:00+0100   \n",
       "2018-01-01 04:00:00+00:00  2018-01-01T05:00:00+0100   \n",
       "\n",
       "region                                                                                                     AT  \\\n",
       "variable                                                                                              biomass   \n",
       "attribute                                                                                   generation_actual   \n",
       "source                                                          own calculation based on ENTSO-E Transparency   \n",
       "web                       https://transparency.entsoe.eu/generation/r2/actualGenerationPerProductionType/show   \n",
       "unit                                                                                                       MW   \n",
       "utc_timestamp                                                                                                   \n",
       "2018-01-01 00:00:00+00:00                                              316.0                                    \n",
       "2018-01-01 01:00:00+00:00                                              316.0                                    \n",
       "2018-01-01 02:00:00+00:00                                              316.0                                    \n",
       "2018-01-01 03:00:00+00:00                                              316.0                                    \n",
       "2018-01-01 04:00:00+00:00                                              316.0                                    \n",
       "\n",
       "region                                                                                                         \\\n",
       "variable                                                                                                  gas   \n",
       "attribute                                                                                   generation_actual   \n",
       "source                                                          own calculation based on ENTSO-E Transparency   \n",
       "web                       https://transparency.entsoe.eu/generation/r2/actualGenerationPerProductionType/show   \n",
       "unit                                                                                                       MW   \n",
       "utc_timestamp                                                                                                   \n",
       "2018-01-01 00:00:00+00:00                                               71.0                                    \n",
       "2018-01-01 01:00:00+00:00                                               70.0                                    \n",
       "2018-01-01 02:00:00+00:00                                               69.0                                    \n",
       "2018-01-01 03:00:00+00:00                                               72.0                                    \n",
       "2018-01-01 04:00:00+00:00                                               75.0                                    \n",
       "\n",
       "region                                                                                                         \\\n",
       "variable                                                                                           geothermal   \n",
       "attribute                                                                                   generation_actual   \n",
       "source                                                          own calculation based on ENTSO-E Transparency   \n",
       "web                       https://transparency.entsoe.eu/generation/r2/actualGenerationPerProductionType/show   \n",
       "unit                                                                                                       MW   \n",
       "utc_timestamp                                                                                                   \n",
       "2018-01-01 00:00:00+00:00                                                0.0                                    \n",
       "2018-01-01 01:00:00+00:00                                                0.0                                    \n",
       "2018-01-01 02:00:00+00:00                                                0.0                                    \n",
       "2018-01-01 03:00:00+00:00                                                0.0                                    \n",
       "2018-01-01 04:00:00+00:00                                                0.0                                    \n",
       "\n",
       "region                                                                                                         \\\n",
       "variable                                                                                            hard_coal   \n",
       "attribute                                                                                   generation_actual   \n",
       "source                                                          own calculation based on ENTSO-E Transparency   \n",
       "web                       https://transparency.entsoe.eu/generation/r2/actualGenerationPerProductionType/show   \n",
       "unit                                                                                                       MW   \n",
       "utc_timestamp                                                                                                   \n",
       "2018-01-01 00:00:00+00:00                                              150.0                                    \n",
       "2018-01-01 01:00:00+00:00                                              149.0                                    \n",
       "2018-01-01 02:00:00+00:00                                              149.0                                    \n",
       "2018-01-01 03:00:00+00:00                                              149.0                                    \n",
       "2018-01-01 04:00:00+00:00                                              149.0                                    \n",
       "\n",
       "region                                                                                                         \\\n",
       "variable                                                                                                hydro   \n",
       "attribute                                                                                   generation_actual   \n",
       "source                                                          own calculation based on ENTSO-E Transparency   \n",
       "web                       https://transparency.entsoe.eu/generation/r2/actualGenerationPerProductionType/show   \n",
       "unit                                                                                                       MW   \n",
       "utc_timestamp                                                                                                   \n",
       "2018-01-01 00:00:00+00:00                                              751.0                                    \n",
       "2018-01-01 01:00:00+00:00                                             1538.0                                    \n",
       "2018-01-01 02:00:00+00:00                                               62.0                                    \n",
       "2018-01-01 03:00:00+00:00                                             1548.0                                    \n",
       "2018-01-01 04:00:00+00:00                                               40.0                                    \n",
       "\n",
       "region                                                                                                         \\\n",
       "variable                                                                                         other_fossil   \n",
       "attribute                                                                                   generation_actual   \n",
       "source                                                          own calculation based on ENTSO-E Transparency   \n",
       "web                       https://transparency.entsoe.eu/generation/r2/actualGenerationPerProductionType/show   \n",
       "unit                                                                                                       MW   \n",
       "utc_timestamp                                                                                                   \n",
       "2018-01-01 00:00:00+00:00                                               22.0                                    \n",
       "2018-01-01 01:00:00+00:00                                               22.0                                    \n",
       "2018-01-01 02:00:00+00:00                                               22.0                                    \n",
       "2018-01-01 03:00:00+00:00                                               22.0                                    \n",
       "2018-01-01 04:00:00+00:00                                               22.0                                    \n",
       "\n",
       "region                                                                                                         \\\n",
       "variable                                                                                                solar   \n",
       "attribute                                                                                   generation_actual   \n",
       "source                                                          own calculation based on ENTSO-E Transparency   \n",
       "web                       https://transparency.entsoe.eu/generation/r2/actualGenerationPerProductionType/show   \n",
       "unit                                                                                                       MW   \n",
       "utc_timestamp                                                                                                   \n",
       "2018-01-01 00:00:00+00:00                                                0.0                                    \n",
       "2018-01-01 01:00:00+00:00                                                0.0                                    \n",
       "2018-01-01 02:00:00+00:00                                                0.0                                    \n",
       "2018-01-01 03:00:00+00:00                                                0.0                                    \n",
       "2018-01-01 04:00:00+00:00                                                0.0                                    \n",
       "\n",
       "region                                                                                                         \\\n",
       "variable                                                                                                waste   \n",
       "attribute                                                                                   generation_actual   \n",
       "source                                                          own calculation based on ENTSO-E Transparency   \n",
       "web                       https://transparency.entsoe.eu/generation/r2/actualGenerationPerProductionType/show   \n",
       "unit                                                                                                       MW   \n",
       "utc_timestamp                                                                                                   \n",
       "2018-01-01 00:00:00+00:00                                              100.0                                    \n",
       "2018-01-01 01:00:00+00:00                                              100.0                                    \n",
       "2018-01-01 02:00:00+00:00                                              100.0                                    \n",
       "2018-01-01 03:00:00+00:00                                              100.0                                    \n",
       "2018-01-01 04:00:00+00:00                                              100.0                                    \n",
       "\n",
       "region                                                                                                         \\\n",
       "variable                                                                                         wind_onshore   \n",
       "attribute                                                                                   generation_actual   \n",
       "source                                                          own calculation based on ENTSO-E Transparency   \n",
       "web                       https://transparency.entsoe.eu/generation/r2/actualGenerationPerProductionType/show   \n",
       "unit                                                                                                       MW   \n",
       "utc_timestamp                                                                                                   \n",
       "2018-01-01 00:00:00+00:00                                              832.0                                    \n",
       "2018-01-01 01:00:00+00:00                                              926.0                                    \n",
       "2018-01-01 02:00:00+00:00                                              692.0                                    \n",
       "2018-01-01 03:00:00+00:00                                              453.0                                    \n",
       "2018-01-01 04:00:00+00:00                                              321.0                                    \n",
       "\n",
       "region                     ...  \\\n",
       "variable                   ...   \n",
       "attribute                  ...   \n",
       "source                     ...   \n",
       "web                        ...   \n",
       "unit                       ...   \n",
       "utc_timestamp              ...   \n",
       "2018-01-01 00:00:00+00:00  ...   \n",
       "2018-01-01 01:00:00+00:00  ...   \n",
       "2018-01-01 02:00:00+00:00  ...   \n",
       "2018-01-01 03:00:00+00:00  ...   \n",
       "2018-01-01 04:00:00+00:00  ...   \n",
       "\n",
       "region                                                                                                     SK  \\\n",
       "variable                                                                                              biomass   \n",
       "attribute                                                                                   generation_actual   \n",
       "source                                                                                   ENTSO-E Transparency   \n",
       "web                       https://transparency.entsoe.eu/generation/r2/actualGenerationPerProductionType/show   \n",
       "unit                                                                                                       MW   \n",
       "utc_timestamp                                                                                                   \n",
       "2018-01-01 00:00:00+00:00                                               28.2                                    \n",
       "2018-01-01 01:00:00+00:00                                               28.1                                    \n",
       "2018-01-01 02:00:00+00:00                                               28.1                                    \n",
       "2018-01-01 03:00:00+00:00                                               29.7                                    \n",
       "2018-01-01 04:00:00+00:00                                               29.5                                    \n",
       "\n",
       "region                                                                                                         \\\n",
       "variable                                                                                                  gas   \n",
       "attribute                                                                                   generation_actual   \n",
       "source                                                                                   ENTSO-E Transparency   \n",
       "web                       https://transparency.entsoe.eu/generation/r2/actualGenerationPerProductionType/show   \n",
       "unit                                                                                                       MW   \n",
       "utc_timestamp                                                                                                   \n",
       "2018-01-01 00:00:00+00:00                                              175.6                                    \n",
       "2018-01-01 01:00:00+00:00                                              172.9                                    \n",
       "2018-01-01 02:00:00+00:00                                              162.1                                    \n",
       "2018-01-01 03:00:00+00:00                                              140.3                                    \n",
       "2018-01-01 04:00:00+00:00                                              143.5                                    \n",
       "\n",
       "region                                                                                                         \\\n",
       "variable                                                                                            hard_coal   \n",
       "attribute                                                                                   generation_actual   \n",
       "source                                                                                   ENTSO-E Transparency   \n",
       "web                       https://transparency.entsoe.eu/generation/r2/actualGenerationPerProductionType/show   \n",
       "unit                                                                                                       MW   \n",
       "utc_timestamp                                                                                                   \n",
       "2018-01-01 00:00:00+00:00                                               48.1                                    \n",
       "2018-01-01 01:00:00+00:00                                               48.0                                    \n",
       "2018-01-01 02:00:00+00:00                                               46.7                                    \n",
       "2018-01-01 03:00:00+00:00                                               45.3                                    \n",
       "2018-01-01 04:00:00+00:00                                               46.4                                    \n",
       "\n",
       "region                                                                                                         \\\n",
       "variable                                                                                                hydro   \n",
       "attribute                                                                                   generation_actual   \n",
       "source                                                                                   ENTSO-E Transparency   \n",
       "web                       https://transparency.entsoe.eu/generation/r2/actualGenerationPerProductionType/show   \n",
       "unit                                                                                                       MW   \n",
       "utc_timestamp                                                                                                   \n",
       "2018-01-01 00:00:00+00:00                                           455.9300                                    \n",
       "2018-01-01 01:00:00+00:00                                           499.8967                                    \n",
       "2018-01-01 02:00:00+00:00                                           543.8633                                    \n",
       "2018-01-01 03:00:00+00:00                                           587.8300                                    \n",
       "2018-01-01 04:00:00+00:00                                           552.4800                                    \n",
       "\n",
       "region                                                                                                         \\\n",
       "variable                                                                                              lignite   \n",
       "attribute                                                                                   generation_actual   \n",
       "source                                                                                   ENTSO-E Transparency   \n",
       "web                       https://transparency.entsoe.eu/generation/r2/actualGenerationPerProductionType/show   \n",
       "unit                                                                                                       MW   \n",
       "utc_timestamp                                                                                                   \n",
       "2018-01-01 00:00:00+00:00                                              179.5                                    \n",
       "2018-01-01 01:00:00+00:00                                              177.9                                    \n",
       "2018-01-01 02:00:00+00:00                                              174.7                                    \n",
       "2018-01-01 03:00:00+00:00                                              168.5                                    \n",
       "2018-01-01 04:00:00+00:00                                              170.6                                    \n",
       "\n",
       "region                                                                                                         \\\n",
       "variable                                                                                              nuclear   \n",
       "attribute                                                                                   generation_actual   \n",
       "source                                                                                   ENTSO-E Transparency   \n",
       "web                       https://transparency.entsoe.eu/generation/r2/actualGenerationPerProductionType/show   \n",
       "unit                                                                                                       MW   \n",
       "utc_timestamp                                                                                                   \n",
       "2018-01-01 00:00:00+00:00                                             1819.3                                    \n",
       "2018-01-01 01:00:00+00:00                                             1816.7                                    \n",
       "2018-01-01 02:00:00+00:00                                             1808.7                                    \n",
       "2018-01-01 03:00:00+00:00                                             1803.6                                    \n",
       "2018-01-01 04:00:00+00:00                                             1809.1                                    \n",
       "\n",
       "region                                                                                                         \\\n",
       "variable                                                                                                  oil   \n",
       "attribute                                                                                   generation_actual   \n",
       "source                                                                                   ENTSO-E Transparency   \n",
       "web                       https://transparency.entsoe.eu/generation/r2/actualGenerationPerProductionType/show   \n",
       "unit                                                                                                       MW   \n",
       "utc_timestamp                                                                                                   \n",
       "2018-01-01 00:00:00+00:00                                               42.3                                    \n",
       "2018-01-01 01:00:00+00:00                                               42.0                                    \n",
       "2018-01-01 02:00:00+00:00                                               43.8                                    \n",
       "2018-01-01 03:00:00+00:00                                               40.2                                    \n",
       "2018-01-01 04:00:00+00:00                                               40.2                                    \n",
       "\n",
       "region                                                                                                         \\\n",
       "variable                                                                                         other_fossil   \n",
       "attribute                                                                                   generation_actual   \n",
       "source                                                                                   ENTSO-E Transparency   \n",
       "web                       https://transparency.entsoe.eu/generation/r2/actualGenerationPerProductionType/show   \n",
       "unit                                                                                                       MW   \n",
       "utc_timestamp                                                                                                   \n",
       "2018-01-01 00:00:00+00:00                                              436.5                                    \n",
       "2018-01-01 01:00:00+00:00                                              433.8                                    \n",
       "2018-01-01 02:00:00+00:00                                              425.7                                    \n",
       "2018-01-01 03:00:00+00:00                                              415.4                                    \n",
       "2018-01-01 04:00:00+00:00                                              421.3                                    \n",
       "\n",
       "region                                                                                                         \\\n",
       "variable                                                                                      other_renewable   \n",
       "attribute                                                                                   generation_actual   \n",
       "source                                                                                   ENTSO-E Transparency   \n",
       "web                       https://transparency.entsoe.eu/generation/r2/actualGenerationPerProductionType/show   \n",
       "unit                                                                                                       MW   \n",
       "utc_timestamp                                                                                                   \n",
       "2018-01-01 00:00:00+00:00                                               41.4                                    \n",
       "2018-01-01 01:00:00+00:00                                               41.0                                    \n",
       "2018-01-01 02:00:00+00:00                                               40.8                                    \n",
       "2018-01-01 03:00:00+00:00                                               39.4                                    \n",
       "2018-01-01 04:00:00+00:00                                               40.4                                    \n",
       "\n",
       "region                                                                                                         \n",
       "variable                                                                                                solar  \n",
       "attribute                                                                                   generation_actual  \n",
       "source                                                                                   ENTSO-E Transparency  \n",
       "web                       https://transparency.entsoe.eu/generation/r2/actualGenerationPerProductionType/show  \n",
       "unit                                                                                                       MW  \n",
       "utc_timestamp                                                                                                  \n",
       "2018-01-01 00:00:00+00:00                                                0.0                                   \n",
       "2018-01-01 01:00:00+00:00                                                0.0                                   \n",
       "2018-01-01 02:00:00+00:00                                                0.0                                   \n",
       "2018-01-01 03:00:00+00:00                                                0.0                                   \n",
       "2018-01-01 04:00:00+00:00                                                0.0                                   \n",
       "\n",
       "[5 rows x 425 columns]"
      ]
     },
     "execution_count": 60,
     "metadata": {},
     "output_type": "execute_result"
    }
   ],
   "source": [
    "entsoe_gen_type.head()"
   ]
  },
  {
   "cell_type": "markdown",
   "metadata": {},
   "source": [
    "Filter the data to the countries and technologies that are covert from our method\n",
    "- countries"
   ]
  },
  {
   "cell_type": "code",
   "execution_count": 61,
   "metadata": {},
   "outputs": [],
   "source": [
    "entsoe_gen_type = entsoe_gen_type[Powerplants_emission_EU_CI_validated.MapCode.unique()]"
   ]
  },
  {
   "cell_type": "markdown",
   "metadata": {},
   "source": [
    "- technologies"
   ]
  },
  {
   "cell_type": "code",
   "execution_count": 62,
   "metadata": {},
   "outputs": [],
   "source": [
    "entsoe_gen_type = entsoe_gen_type.loc[:,(slice(None),Powerplants_emission_EU_CI_validated.ProductionTypeName.unique())].sum()"
   ]
  },
  {
   "cell_type": "markdown",
   "metadata": {},
   "source": [
    "Reset the multiindex from pandas and drop not used columns"
   ]
  },
  {
   "cell_type": "code",
   "execution_count": 63,
   "metadata": {},
   "outputs": [],
   "source": [
    "entsoe_gen_type = entsoe_gen_type.reset_index()\n",
    "entsoe_gen_type = entsoe_gen_type.drop(columns=['attribute', 'source', 'web', 'unit'])"
   ]
  },
  {
   "cell_type": "markdown",
   "metadata": {},
   "source": [
    "Rename columns"
   ]
  },
  {
   "cell_type": "code",
   "execution_count": 64,
   "metadata": {},
   "outputs": [],
   "source": [
    "entsoe_gen_type = entsoe_gen_type.rename(columns={0:'generation_per_type_2018_ENTSO-E','region':'MapCode','variable':'ProductionTypeName'})"
   ]
  },
  {
   "cell_type": "markdown",
   "metadata": {},
   "source": [
    "Group production for each technology for the individual power plants"
   ]
  },
  {
   "cell_type": "code",
   "execution_count": 65,
   "metadata": {},
   "outputs": [],
   "source": [
    "Powerplants_gen_type_year = pd.DataFrame(Powerplants_emission_EU_CI_validated.groupby(['MapCode','ProductionTypeName']).sum()['yearly_generation_2018'])"
   ]
  },
  {
   "cell_type": "markdown",
   "metadata": {},
   "source": [
    "Reset the multiindex from pandas and drop not used columns"
   ]
  },
  {
   "cell_type": "code",
   "execution_count": 66,
   "metadata": {},
   "outputs": [],
   "source": [
    "Powerplants_gen_type_year = Powerplants_gen_type_year.reset_index()"
   ]
  },
  {
   "cell_type": "code",
   "execution_count": 67,
   "metadata": {},
   "outputs": [],
   "source": [
    "Powerplants_gen_type_year = Powerplants_gen_type_year.rename(columns={'yearly_generation_2018':'verified_generation_per_unit_2018_ENTSO-E'})"
   ]
  },
  {
   "cell_type": "code",
   "execution_count": 68,
   "metadata": {},
   "outputs": [],
   "source": [
    "gen_data_comparison = entsoe_gen_type.merge(Powerplants_gen_type_year, on=['MapCode','ProductionTypeName'])"
   ]
  },
  {
   "cell_type": "code",
   "execution_count": 69,
   "metadata": {},
   "outputs": [
    {
     "data": {
      "text/html": [
       "<div>\n",
       "<style scoped>\n",
       "    .dataframe tbody tr th:only-of-type {\n",
       "        vertical-align: middle;\n",
       "    }\n",
       "\n",
       "    .dataframe tbody tr th {\n",
       "        vertical-align: top;\n",
       "    }\n",
       "\n",
       "    .dataframe thead th {\n",
       "        text-align: right;\n",
       "    }\n",
       "</style>\n",
       "<table border=\"1\" class=\"dataframe\">\n",
       "  <thead>\n",
       "    <tr style=\"text-align: right;\">\n",
       "      <th></th>\n",
       "      <th>MapCode</th>\n",
       "      <th>ProductionTypeName</th>\n",
       "      <th>generation_per_type_2018_ENTSO-E</th>\n",
       "      <th>verified_generation_per_unit_2018_ENTSO-E</th>\n",
       "    </tr>\n",
       "  </thead>\n",
       "  <tbody>\n",
       "    <tr>\n",
       "      <th>0</th>\n",
       "      <td>AT</td>\n",
       "      <td>gas</td>\n",
       "      <td>8.168009e+06</td>\n",
       "      <td>3.895790e+06</td>\n",
       "    </tr>\n",
       "    <tr>\n",
       "      <th>1</th>\n",
       "      <td>AT</td>\n",
       "      <td>hard_coal</td>\n",
       "      <td>1.422450e+06</td>\n",
       "      <td>6.938571e+05</td>\n",
       "    </tr>\n",
       "    <tr>\n",
       "      <th>2</th>\n",
       "      <td>DK</td>\n",
       "      <td>gas</td>\n",
       "      <td>2.843756e+06</td>\n",
       "      <td>2.734431e+05</td>\n",
       "    </tr>\n",
       "    <tr>\n",
       "      <th>3</th>\n",
       "      <td>DK</td>\n",
       "      <td>hard_coal</td>\n",
       "      <td>6.426351e+06</td>\n",
       "      <td>5.161056e+06</td>\n",
       "    </tr>\n",
       "    <tr>\n",
       "      <th>4</th>\n",
       "      <td>BE</td>\n",
       "      <td>gas</td>\n",
       "      <td>2.230368e+07</td>\n",
       "      <td>1.096068e+07</td>\n",
       "    </tr>\n",
       "    <tr>\n",
       "      <th>5</th>\n",
       "      <td>DE</td>\n",
       "      <td>gas</td>\n",
       "      <td>4.295907e+07</td>\n",
       "      <td>1.318445e+07</td>\n",
       "    </tr>\n",
       "    <tr>\n",
       "      <th>6</th>\n",
       "      <td>DE</td>\n",
       "      <td>hard_coal</td>\n",
       "      <td>7.154638e+07</td>\n",
       "      <td>5.488206e+07</td>\n",
       "    </tr>\n",
       "    <tr>\n",
       "      <th>7</th>\n",
       "      <td>DE</td>\n",
       "      <td>lignite</td>\n",
       "      <td>1.283613e+08</td>\n",
       "      <td>1.292305e+08</td>\n",
       "    </tr>\n",
       "    <tr>\n",
       "      <th>8</th>\n",
       "      <td>FI</td>\n",
       "      <td>gas</td>\n",
       "      <td>5.000652e+06</td>\n",
       "      <td>1.969562e+06</td>\n",
       "    </tr>\n",
       "    <tr>\n",
       "      <th>9</th>\n",
       "      <td>FI</td>\n",
       "      <td>hard_coal</td>\n",
       "      <td>5.971642e+06</td>\n",
       "      <td>4.093411e+06</td>\n",
       "    </tr>\n",
       "  </tbody>\n",
       "</table>\n",
       "</div>"
      ],
      "text/plain": [
       "  MapCode ProductionTypeName  generation_per_type_2018_ENTSO-E  \\\n",
       "0      AT                gas                      8.168009e+06   \n",
       "1      AT          hard_coal                      1.422450e+06   \n",
       "2      DK                gas                      2.843756e+06   \n",
       "3      DK          hard_coal                      6.426351e+06   \n",
       "4      BE                gas                      2.230368e+07   \n",
       "5      DE                gas                      4.295907e+07   \n",
       "6      DE          hard_coal                      7.154638e+07   \n",
       "7      DE            lignite                      1.283613e+08   \n",
       "8      FI                gas                      5.000652e+06   \n",
       "9      FI          hard_coal                      5.971642e+06   \n",
       "\n",
       "   verified_generation_per_unit_2018_ENTSO-E  \n",
       "0                               3.895790e+06  \n",
       "1                               6.938571e+05  \n",
       "2                               2.734431e+05  \n",
       "3                               5.161056e+06  \n",
       "4                               1.096068e+07  \n",
       "5                               1.318445e+07  \n",
       "6                               5.488206e+07  \n",
       "7                               1.292305e+08  \n",
       "8                               1.969562e+06  \n",
       "9                               4.093411e+06  "
      ]
     },
     "execution_count": 69,
     "metadata": {},
     "output_type": "execute_result"
    }
   ],
   "source": [
    "gen_data_comparison.head(10)"
   ]
  },
  {
   "cell_type": "code",
   "execution_count": 70,
   "metadata": {},
   "outputs": [],
   "source": [
    "gen_data_comparison['missing_gen'] = gen_data_comparison['generation_per_type_2018_ENTSO-E'] - gen_data_comparison['verified_generation_per_unit_2018_ENTSO-E']"
   ]
  },
  {
   "cell_type": "code",
   "execution_count": 71,
   "metadata": {},
   "outputs": [],
   "source": [
    "gen_data_comparison['gen_covered_pro'] = round((100 / gen_data_comparison['generation_per_type_2018_ENTSO-E']) * gen_data_comparison['verified_generation_per_unit_2018_ENTSO-E'])"
   ]
  },
  {
   "cell_type": "markdown",
   "metadata": {},
   "source": [
    "covered generation per country and generation type"
   ]
  },
  {
   "cell_type": "code",
   "execution_count": 72,
   "metadata": {},
   "outputs": [
    {
     "data": {
      "image/png": "[encoded data removed]",
      "text/plain": [
       "<Figure size 1080x720 with 1 Axes>"
      ]
     },
     "metadata": {},
     "output_type": "display_data"
    }
   ],
   "source": [
    "ax = sns.barplot(x=\"MapCode\", y=\"gen_covered_pro\", hue=\"ProductionTypeName\", data=gen_data_comparison)"
   ]
  },
  {
   "cell_type": "markdown",
   "metadata": {},
   "source": [
    "Mean coverage per country"
   ]
  },
  {
   "cell_type": "code",
   "execution_count": 89,
   "metadata": {},
   "outputs": [
    {
     "data": {
      "text/plain": [
       "[<matplotlib.lines.Line2D at 0x297837bd708>]"
      ]
     },
     "execution_count": 89,
     "metadata": {},
     "output_type": "execute_result"
    },
    {
     "data": {
      "image/png": "[encoded data removed]",
      "text/plain": [
       "<Figure size 1080x720 with 1 Axes>"
      ]
     },
     "metadata": {},
     "output_type": "display_data"
    }
   ],
   "source": [
    "fig, ax = plt.subplots(1, 1)\n",
    "ax = gen_data_comparison.groupby(['MapCode']).mean()['gen_covered_pro'].plot(kind='bar', title='Mean coverage per country', ylabel='Coverage [%]')\n",
    "ax.plot([-10, 100], [30, 30], 'r--')"
   ]
  },
  {
   "cell_type": "code",
   "execution_count": 90,
   "metadata": {},
   "outputs": [],
   "source": [
    "fig.savefig(os.path.join(output_directory_path + '/_mean_coverage_of_elec_production_per_country.png'))"
   ]
  },
  {
   "cell_type": "markdown",
   "metadata": {},
   "source": [
    "Mean coverage over all countries"
   ]
  },
  {
   "cell_type": "code",
   "execution_count": 91,
   "metadata": {},
   "outputs": [
    {
     "data": {
      "text/plain": [
       "59.44444444444444"
      ]
     },
     "execution_count": 91,
     "metadata": {},
     "output_type": "execute_result"
    }
   ],
   "source": [
    "gen_data_comparison.gen_covered_pro.mean()"
   ]
  },
  {
   "cell_type": "markdown",
   "metadata": {},
   "source": [
    "### Carbon intensity per technology and country"
   ]
  },
  {
   "cell_type": "markdown",
   "metadata": {},
   "source": [
    "Take only the countries and technologies where at least 30 % of the generation is connected to CO2 emissions."
   ]
  },
  {
   "cell_type": "code",
   "execution_count": 92,
   "metadata": {},
   "outputs": [],
   "source": [
    "gen_data_comparison['Verified_for_CI_value'] = (round(gen_data_comparison['gen_covered_pro']) > 30)"
   ]
  },
  {
   "cell_type": "code",
   "execution_count": 93,
   "metadata": {},
   "outputs": [
    {
     "data": {
      "text/html": [
       "<div>\n",
       "<style scoped>\n",
       "    .dataframe tbody tr th:only-of-type {\n",
       "        vertical-align: middle;\n",
       "    }\n",
       "\n",
       "    .dataframe tbody tr th {\n",
       "        vertical-align: top;\n",
       "    }\n",
       "\n",
       "    .dataframe thead th {\n",
       "        text-align: right;\n",
       "    }\n",
       "</style>\n",
       "<table border=\"1\" class=\"dataframe\">\n",
       "  <thead>\n",
       "    <tr style=\"text-align: right;\">\n",
       "      <th></th>\n",
       "      <th>MapCode</th>\n",
       "      <th>ProductionTypeName</th>\n",
       "      <th>generation_per_type_2018_ENTSO-E</th>\n",
       "      <th>verified_generation_per_unit_2018_ENTSO-E</th>\n",
       "      <th>missing_gen</th>\n",
       "      <th>gen_covered_pro</th>\n",
       "      <th>Verified_for_CI_value</th>\n",
       "    </tr>\n",
       "  </thead>\n",
       "  <tbody>\n",
       "    <tr>\n",
       "      <th>0</th>\n",
       "      <td>AT</td>\n",
       "      <td>gas</td>\n",
       "      <td>8168009.00</td>\n",
       "      <td>3895789.63</td>\n",
       "      <td>4272219.37</td>\n",
       "      <td>48.0</td>\n",
       "      <td>True</td>\n",
       "    </tr>\n",
       "    <tr>\n",
       "      <th>1</th>\n",
       "      <td>AT</td>\n",
       "      <td>hard_coal</td>\n",
       "      <td>1422450.00</td>\n",
       "      <td>693857.10</td>\n",
       "      <td>728592.90</td>\n",
       "      <td>49.0</td>\n",
       "      <td>True</td>\n",
       "    </tr>\n",
       "    <tr>\n",
       "      <th>2</th>\n",
       "      <td>DK</td>\n",
       "      <td>gas</td>\n",
       "      <td>2843755.58</td>\n",
       "      <td>273443.11</td>\n",
       "      <td>2570312.47</td>\n",
       "      <td>10.0</td>\n",
       "      <td>False</td>\n",
       "    </tr>\n",
       "  </tbody>\n",
       "</table>\n",
       "</div>"
      ],
      "text/plain": [
       "  MapCode ProductionTypeName  generation_per_type_2018_ENTSO-E  \\\n",
       "0      AT                gas                        8168009.00   \n",
       "1      AT          hard_coal                        1422450.00   \n",
       "2      DK                gas                        2843755.58   \n",
       "\n",
       "   verified_generation_per_unit_2018_ENTSO-E  missing_gen  gen_covered_pro  \\\n",
       "0                                 3895789.63   4272219.37             48.0   \n",
       "1                                  693857.10    728592.90             49.0   \n",
       "2                                  273443.11   2570312.47             10.0   \n",
       "\n",
       "   Verified_for_CI_value  \n",
       "0                   True  \n",
       "1                   True  \n",
       "2                  False  "
      ]
     },
     "execution_count": 93,
     "metadata": {},
     "output_type": "execute_result"
    }
   ],
   "source": [
    "gen_data_comparison.head(3)"
   ]
  },
  {
   "cell_type": "code",
   "execution_count": 94,
   "metadata": {},
   "outputs": [],
   "source": [
    "gen_data_comparison = gen_data_comparison.set_index(['MapCode','ProductionTypeName'])"
   ]
  },
  {
   "cell_type": "code",
   "execution_count": 95,
   "metadata": {},
   "outputs": [],
   "source": [
    "CI_PP_per_tech_country = CI_PP_per_tech_country.reset_index().rename(columns={0:'CI','countrycode':'MapCode'}).set_index(['MapCode','ProductionTypeName'])"
   ]
  },
  {
   "cell_type": "markdown",
   "metadata": {},
   "source": [
    "Transfer the verification of CI too the result"
   ]
  },
  {
   "cell_type": "code",
   "execution_count": 96,
   "metadata": {},
   "outputs": [],
   "source": [
    "CI_PP_per_tech_country['Verified_CI_value'] = gen_data_comparison['Verified_for_CI_value']"
   ]
  },
  {
   "cell_type": "markdown",
   "metadata": {},
   "source": [
    "export the CIs to csv"
   ]
  },
  {
   "cell_type": "code",
   "execution_count": 98,
   "metadata": {},
   "outputs": [],
   "source": [
    "CI_PP_per_tech_country.to_csv(output_directory_path + '/CI_bottom_up_methode.csv')"
   ]
  },
  {
   "cell_type": "markdown",
   "metadata": {},
   "source": [
    "# Carbon intensity for power generation "
   ]
  },
  {
   "cell_type": "code",
   "execution_count": null,
   "metadata": {},
   "outputs": [],
   "source": [
    "# Achtung, hier muss ich die ganze erzeugung nehmen nicht nur die tech spezifische "
   ]
  },
  {
   "cell_type": "code",
   "execution_count": 104,
   "metadata": {},
   "outputs": [],
   "source": [
    "entsoe_gen_type.set_index(['MapCode', 'ProductionTypeName'], inplace = True)"
   ]
  },
  {
   "cell_type": "code",
   "execution_count": 107,
   "metadata": {},
   "outputs": [],
   "source": [
    "entsoe_gen_type['emissions'] = entsoe_gen_type['generation_per_type_2018_ENTSO-E'] * CI_PP_per_tech_country['CI']"
   ]
  },
  {
   "cell_type": "code",
   "execution_count": 114,
   "metadata": {},
   "outputs": [
    {
     "data": {
      "text/html": [
       "<div>\n",
       "<style scoped>\n",
       "    .dataframe tbody tr th:only-of-type {\n",
       "        vertical-align: middle;\n",
       "    }\n",
       "\n",
       "    .dataframe tbody tr th {\n",
       "        vertical-align: top;\n",
       "    }\n",
       "\n",
       "    .dataframe thead th {\n",
       "        text-align: right;\n",
       "    }\n",
       "</style>\n",
       "<table border=\"1\" class=\"dataframe\">\n",
       "  <thead>\n",
       "    <tr style=\"text-align: right;\">\n",
       "      <th></th>\n",
       "      <th>MapCode</th>\n",
       "      <th>ProductionTypeName</th>\n",
       "      <th>generation_per_type_2018_ENTSO-E</th>\n",
       "      <th>emissions</th>\n",
       "    </tr>\n",
       "  </thead>\n",
       "  <tbody>\n",
       "    <tr>\n",
       "      <th>0</th>\n",
       "      <td>AT</td>\n",
       "      <td>gas</td>\n",
       "      <td>8.168009e+06</td>\n",
       "      <td>3.326398e+06</td>\n",
       "    </tr>\n",
       "    <tr>\n",
       "      <th>1</th>\n",
       "      <td>AT</td>\n",
       "      <td>hard_coal</td>\n",
       "      <td>1.422450e+06</td>\n",
       "      <td>1.521490e+06</td>\n",
       "    </tr>\n",
       "    <tr>\n",
       "      <th>2</th>\n",
       "      <td>AT</td>\n",
       "      <td>other_fossil</td>\n",
       "      <td>1.927200e+05</td>\n",
       "      <td>NaN</td>\n",
       "    </tr>\n",
       "    <tr>\n",
       "      <th>3</th>\n",
       "      <td>DK</td>\n",
       "      <td>gas</td>\n",
       "      <td>2.843756e+06</td>\n",
       "      <td>1.299383e+06</td>\n",
       "    </tr>\n",
       "    <tr>\n",
       "      <th>4</th>\n",
       "      <td>DK</td>\n",
       "      <td>hard_coal</td>\n",
       "      <td>6.426351e+06</td>\n",
       "      <td>6.167438e+06</td>\n",
       "    </tr>\n",
       "    <tr>\n",
       "      <th>5</th>\n",
       "      <td>BE</td>\n",
       "      <td>gas</td>\n",
       "      <td>2.230368e+07</td>\n",
       "      <td>8.715736e+06</td>\n",
       "    </tr>\n",
       "    <tr>\n",
       "      <th>6</th>\n",
       "      <td>BE</td>\n",
       "      <td>other_fossil</td>\n",
       "      <td>5.462483e+06</td>\n",
       "      <td>NaN</td>\n",
       "    </tr>\n",
       "    <tr>\n",
       "      <th>7</th>\n",
       "      <td>DE</td>\n",
       "      <td>gas</td>\n",
       "      <td>4.295907e+07</td>\n",
       "      <td>1.761256e+07</td>\n",
       "    </tr>\n",
       "    <tr>\n",
       "      <th>8</th>\n",
       "      <td>DE</td>\n",
       "      <td>hard_coal</td>\n",
       "      <td>7.154638e+07</td>\n",
       "      <td>6.586058e+07</td>\n",
       "    </tr>\n",
       "    <tr>\n",
       "      <th>9</th>\n",
       "      <td>DE</td>\n",
       "      <td>lignite</td>\n",
       "      <td>1.283613e+08</td>\n",
       "      <td>1.458345e+08</td>\n",
       "    </tr>\n",
       "    <tr>\n",
       "      <th>10</th>\n",
       "      <td>DE</td>\n",
       "      <td>other_fossil</td>\n",
       "      <td>3.862005e+06</td>\n",
       "      <td>NaN</td>\n",
       "    </tr>\n",
       "    <tr>\n",
       "      <th>11</th>\n",
       "      <td>FI</td>\n",
       "      <td>gas</td>\n",
       "      <td>5.000652e+06</td>\n",
       "      <td>2.131328e+06</td>\n",
       "    </tr>\n",
       "    <tr>\n",
       "      <th>12</th>\n",
       "      <td>FI</td>\n",
       "      <td>hard_coal</td>\n",
       "      <td>5.971642e+06</td>\n",
       "      <td>5.734878e+06</td>\n",
       "    </tr>\n",
       "    <tr>\n",
       "      <th>13</th>\n",
       "      <td>FI</td>\n",
       "      <td>other_fossil</td>\n",
       "      <td>2.366317e+06</td>\n",
       "      <td>NaN</td>\n",
       "    </tr>\n",
       "    <tr>\n",
       "      <th>14</th>\n",
       "      <td>FR</td>\n",
       "      <td>gas</td>\n",
       "      <td>2.994049e+07</td>\n",
       "      <td>1.436133e+07</td>\n",
       "    </tr>\n",
       "    <tr>\n",
       "      <th>15</th>\n",
       "      <td>FR</td>\n",
       "      <td>hard_coal</td>\n",
       "      <td>5.803792e+06</td>\n",
       "      <td>5.390750e+06</td>\n",
       "    </tr>\n",
       "    <tr>\n",
       "      <th>16</th>\n",
       "      <td>CZ</td>\n",
       "      <td>gas</td>\n",
       "      <td>3.358639e+06</td>\n",
       "      <td>NaN</td>\n",
       "    </tr>\n",
       "    <tr>\n",
       "      <th>17</th>\n",
       "      <td>CZ</td>\n",
       "      <td>hard_coal</td>\n",
       "      <td>3.488435e+06</td>\n",
       "      <td>3.525080e+06</td>\n",
       "    </tr>\n",
       "    <tr>\n",
       "      <th>18</th>\n",
       "      <td>CZ</td>\n",
       "      <td>lignite</td>\n",
       "      <td>3.373734e+07</td>\n",
       "      <td>3.353871e+07</td>\n",
       "    </tr>\n",
       "    <tr>\n",
       "      <th>19</th>\n",
       "      <td>CZ</td>\n",
       "      <td>other_fossil</td>\n",
       "      <td>1.260696e+06</td>\n",
       "      <td>NaN</td>\n",
       "    </tr>\n",
       "    <tr>\n",
       "      <th>20</th>\n",
       "      <td>ES</td>\n",
       "      <td>gas</td>\n",
       "      <td>5.097010e+07</td>\n",
       "      <td>1.970027e+07</td>\n",
       "    </tr>\n",
       "    <tr>\n",
       "      <th>21</th>\n",
       "      <td>ES</td>\n",
       "      <td>hard_coal</td>\n",
       "      <td>3.234787e+07</td>\n",
       "      <td>3.156430e+07</td>\n",
       "    </tr>\n",
       "    <tr>\n",
       "      <th>22</th>\n",
       "      <td>ES</td>\n",
       "      <td>lignite</td>\n",
       "      <td>3.091189e+06</td>\n",
       "      <td>NaN</td>\n",
       "    </tr>\n",
       "    <tr>\n",
       "      <th>23</th>\n",
       "      <td>ES</td>\n",
       "      <td>other_fossil</td>\n",
       "      <td>1.512090e+05</td>\n",
       "      <td>NaN</td>\n",
       "    </tr>\n",
       "    <tr>\n",
       "      <th>24</th>\n",
       "      <td>SK</td>\n",
       "      <td>gas</td>\n",
       "      <td>1.412232e+06</td>\n",
       "      <td>NaN</td>\n",
       "    </tr>\n",
       "    <tr>\n",
       "      <th>25</th>\n",
       "      <td>SK</td>\n",
       "      <td>hard_coal</td>\n",
       "      <td>8.094529e+05</td>\n",
       "      <td>7.346544e+05</td>\n",
       "    </tr>\n",
       "    <tr>\n",
       "      <th>26</th>\n",
       "      <td>SK</td>\n",
       "      <td>lignite</td>\n",
       "      <td>1.337165e+06</td>\n",
       "      <td>1.807139e+06</td>\n",
       "    </tr>\n",
       "    <tr>\n",
       "      <th>27</th>\n",
       "      <td>SK</td>\n",
       "      <td>other_fossil</td>\n",
       "      <td>2.921645e+06</td>\n",
       "      <td>NaN</td>\n",
       "    </tr>\n",
       "    <tr>\n",
       "      <th>28</th>\n",
       "      <td>IE</td>\n",
       "      <td>gas</td>\n",
       "      <td>9.436705e+06</td>\n",
       "      <td>3.706727e+06</td>\n",
       "    </tr>\n",
       "    <tr>\n",
       "      <th>29</th>\n",
       "      <td>IE</td>\n",
       "      <td>hard_coal</td>\n",
       "      <td>2.132597e+06</td>\n",
       "      <td>2.201276e+06</td>\n",
       "    </tr>\n",
       "    <tr>\n",
       "      <th>30</th>\n",
       "      <td>IE</td>\n",
       "      <td>other_fossil</td>\n",
       "      <td>8.579280e+05</td>\n",
       "      <td>NaN</td>\n",
       "    </tr>\n",
       "    <tr>\n",
       "      <th>31</th>\n",
       "      <td>IT</td>\n",
       "      <td>gas</td>\n",
       "      <td>7.448945e+07</td>\n",
       "      <td>2.953949e+07</td>\n",
       "    </tr>\n",
       "    <tr>\n",
       "      <th>32</th>\n",
       "      <td>IT</td>\n",
       "      <td>hard_coal</td>\n",
       "      <td>2.583597e+07</td>\n",
       "      <td>2.577585e+07</td>\n",
       "    </tr>\n",
       "    <tr>\n",
       "      <th>33</th>\n",
       "      <td>IT</td>\n",
       "      <td>other_fossil</td>\n",
       "      <td>3.821050e+07</td>\n",
       "      <td>2.002600e+07</td>\n",
       "    </tr>\n",
       "    <tr>\n",
       "      <th>34</th>\n",
       "      <td>GB</td>\n",
       "      <td>gas</td>\n",
       "      <td>1.170665e+08</td>\n",
       "      <td>5.562360e+07</td>\n",
       "    </tr>\n",
       "    <tr>\n",
       "      <th>35</th>\n",
       "      <td>GB</td>\n",
       "      <td>hard_coal</td>\n",
       "      <td>1.598318e+07</td>\n",
       "      <td>1.798273e+07</td>\n",
       "    </tr>\n",
       "    <tr>\n",
       "      <th>36</th>\n",
       "      <td>GB</td>\n",
       "      <td>other_fossil</td>\n",
       "      <td>7.154970e+05</td>\n",
       "      <td>NaN</td>\n",
       "    </tr>\n",
       "    <tr>\n",
       "      <th>37</th>\n",
       "      <td>SE</td>\n",
       "      <td>other_fossil</td>\n",
       "      <td>8.334512e+06</td>\n",
       "      <td>NaN</td>\n",
       "    </tr>\n",
       "    <tr>\n",
       "      <th>38</th>\n",
       "      <td>GR</td>\n",
       "      <td>gas</td>\n",
       "      <td>1.523817e+07</td>\n",
       "      <td>5.685412e+06</td>\n",
       "    </tr>\n",
       "    <tr>\n",
       "      <th>39</th>\n",
       "      <td>GR</td>\n",
       "      <td>lignite</td>\n",
       "      <td>1.521597e+07</td>\n",
       "      <td>2.180478e+07</td>\n",
       "    </tr>\n",
       "    <tr>\n",
       "      <th>40</th>\n",
       "      <td>HU</td>\n",
       "      <td>gas</td>\n",
       "      <td>6.242123e+06</td>\n",
       "      <td>2.283838e+06</td>\n",
       "    </tr>\n",
       "    <tr>\n",
       "      <th>41</th>\n",
       "      <td>HU</td>\n",
       "      <td>lignite</td>\n",
       "      <td>4.775634e+06</td>\n",
       "      <td>6.506157e+06</td>\n",
       "    </tr>\n",
       "    <tr>\n",
       "      <th>42</th>\n",
       "      <td>HU</td>\n",
       "      <td>other_fossil</td>\n",
       "      <td>6.702160e+05</td>\n",
       "      <td>NaN</td>\n",
       "    </tr>\n",
       "    <tr>\n",
       "      <th>43</th>\n",
       "      <td>NL</td>\n",
       "      <td>gas</td>\n",
       "      <td>3.662547e+07</td>\n",
       "      <td>1.371328e+07</td>\n",
       "    </tr>\n",
       "    <tr>\n",
       "      <th>44</th>\n",
       "      <td>NL</td>\n",
       "      <td>hard_coal</td>\n",
       "      <td>1.088756e+07</td>\n",
       "      <td>1.071950e+07</td>\n",
       "    </tr>\n",
       "    <tr>\n",
       "      <th>45</th>\n",
       "      <td>NL</td>\n",
       "      <td>other_fossil</td>\n",
       "      <td>7.770123e+06</td>\n",
       "      <td>NaN</td>\n",
       "    </tr>\n",
       "    <tr>\n",
       "      <th>46</th>\n",
       "      <td>PL</td>\n",
       "      <td>gas</td>\n",
       "      <td>8.683778e+06</td>\n",
       "      <td>4.390336e+06</td>\n",
       "    </tr>\n",
       "    <tr>\n",
       "      <th>47</th>\n",
       "      <td>PL</td>\n",
       "      <td>hard_coal</td>\n",
       "      <td>7.967927e+07</td>\n",
       "      <td>7.856345e+07</td>\n",
       "    </tr>\n",
       "    <tr>\n",
       "      <th>48</th>\n",
       "      <td>PL</td>\n",
       "      <td>lignite</td>\n",
       "      <td>4.469104e+07</td>\n",
       "      <td>NaN</td>\n",
       "    </tr>\n",
       "    <tr>\n",
       "      <th>49</th>\n",
       "      <td>PL</td>\n",
       "      <td>other_fossil</td>\n",
       "      <td>5.433298e+05</td>\n",
       "      <td>NaN</td>\n",
       "    </tr>\n",
       "    <tr>\n",
       "      <th>50</th>\n",
       "      <td>PT</td>\n",
       "      <td>gas</td>\n",
       "      <td>1.453073e+07</td>\n",
       "      <td>1.019866e+07</td>\n",
       "    </tr>\n",
       "    <tr>\n",
       "      <th>51</th>\n",
       "      <td>PT</td>\n",
       "      <td>hard_coal</td>\n",
       "      <td>1.116572e+07</td>\n",
       "      <td>NaN</td>\n",
       "    </tr>\n",
       "    <tr>\n",
       "      <th>52</th>\n",
       "      <td>PT</td>\n",
       "      <td>other_fossil</td>\n",
       "      <td>5.653939e+05</td>\n",
       "      <td>NaN</td>\n",
       "    </tr>\n",
       "    <tr>\n",
       "      <th>53</th>\n",
       "      <td>RO</td>\n",
       "      <td>gas</td>\n",
       "      <td>1.070616e+07</td>\n",
       "      <td>NaN</td>\n",
       "    </tr>\n",
       "    <tr>\n",
       "      <th>54</th>\n",
       "      <td>RO</td>\n",
       "      <td>hard_coal</td>\n",
       "      <td>1.187176e+06</td>\n",
       "      <td>1.459060e+06</td>\n",
       "    </tr>\n",
       "    <tr>\n",
       "      <th>55</th>\n",
       "      <td>RO</td>\n",
       "      <td>lignite</td>\n",
       "      <td>1.460710e+07</td>\n",
       "      <td>1.481766e+07</td>\n",
       "    </tr>\n",
       "  </tbody>\n",
       "</table>\n",
       "</div>"
      ],
      "text/plain": [
       "   MapCode ProductionTypeName  generation_per_type_2018_ENTSO-E     emissions\n",
       "0       AT                gas                      8.168009e+06  3.326398e+06\n",
       "1       AT          hard_coal                      1.422450e+06  1.521490e+06\n",
       "2       AT       other_fossil                      1.927200e+05           NaN\n",
       "3       DK                gas                      2.843756e+06  1.299383e+06\n",
       "4       DK          hard_coal                      6.426351e+06  6.167438e+06\n",
       "5       BE                gas                      2.230368e+07  8.715736e+06\n",
       "6       BE       other_fossil                      5.462483e+06           NaN\n",
       "7       DE                gas                      4.295907e+07  1.761256e+07\n",
       "8       DE          hard_coal                      7.154638e+07  6.586058e+07\n",
       "9       DE            lignite                      1.283613e+08  1.458345e+08\n",
       "10      DE       other_fossil                      3.862005e+06           NaN\n",
       "11      FI                gas                      5.000652e+06  2.131328e+06\n",
       "12      FI          hard_coal                      5.971642e+06  5.734878e+06\n",
       "13      FI       other_fossil                      2.366317e+06           NaN\n",
       "14      FR                gas                      2.994049e+07  1.436133e+07\n",
       "15      FR          hard_coal                      5.803792e+06  5.390750e+06\n",
       "16      CZ                gas                      3.358639e+06           NaN\n",
       "17      CZ          hard_coal                      3.488435e+06  3.525080e+06\n",
       "18      CZ            lignite                      3.373734e+07  3.353871e+07\n",
       "19      CZ       other_fossil                      1.260696e+06           NaN\n",
       "20      ES                gas                      5.097010e+07  1.970027e+07\n",
       "21      ES          hard_coal                      3.234787e+07  3.156430e+07\n",
       "22      ES            lignite                      3.091189e+06           NaN\n",
       "23      ES       other_fossil                      1.512090e+05           NaN\n",
       "24      SK                gas                      1.412232e+06           NaN\n",
       "25      SK          hard_coal                      8.094529e+05  7.346544e+05\n",
       "26      SK            lignite                      1.337165e+06  1.807139e+06\n",
       "27      SK       other_fossil                      2.921645e+06           NaN\n",
       "28      IE                gas                      9.436705e+06  3.706727e+06\n",
       "29      IE          hard_coal                      2.132597e+06  2.201276e+06\n",
       "30      IE       other_fossil                      8.579280e+05           NaN\n",
       "31      IT                gas                      7.448945e+07  2.953949e+07\n",
       "32      IT          hard_coal                      2.583597e+07  2.577585e+07\n",
       "33      IT       other_fossil                      3.821050e+07  2.002600e+07\n",
       "34      GB                gas                      1.170665e+08  5.562360e+07\n",
       "35      GB          hard_coal                      1.598318e+07  1.798273e+07\n",
       "36      GB       other_fossil                      7.154970e+05           NaN\n",
       "37      SE       other_fossil                      8.334512e+06           NaN\n",
       "38      GR                gas                      1.523817e+07  5.685412e+06\n",
       "39      GR            lignite                      1.521597e+07  2.180478e+07\n",
       "40      HU                gas                      6.242123e+06  2.283838e+06\n",
       "41      HU            lignite                      4.775634e+06  6.506157e+06\n",
       "42      HU       other_fossil                      6.702160e+05           NaN\n",
       "43      NL                gas                      3.662547e+07  1.371328e+07\n",
       "44      NL          hard_coal                      1.088756e+07  1.071950e+07\n",
       "45      NL       other_fossil                      7.770123e+06           NaN\n",
       "46      PL                gas                      8.683778e+06  4.390336e+06\n",
       "47      PL          hard_coal                      7.967927e+07  7.856345e+07\n",
       "48      PL            lignite                      4.469104e+07           NaN\n",
       "49      PL       other_fossil                      5.433298e+05           NaN\n",
       "50      PT                gas                      1.453073e+07  1.019866e+07\n",
       "51      PT          hard_coal                      1.116572e+07           NaN\n",
       "52      PT       other_fossil                      5.653939e+05           NaN\n",
       "53      RO                gas                      1.070616e+07           NaN\n",
       "54      RO          hard_coal                      1.187176e+06  1.459060e+06\n",
       "55      RO            lignite                      1.460710e+07  1.481766e+07"
      ]
     },
     "execution_count": 114,
     "metadata": {},
     "output_type": "execute_result"
    }
   ],
   "source": [
    "entsoe_gen_type = entsoe_gen_type.reset_index()"
   ]
  },
  {
   "cell_type": "code",
   "execution_count": 116,
   "metadata": {},
   "outputs": [],
   "source": [
    "CI = entsoe_gen_type.groupby('MapCode').sum()['emissions'] / entsoe_gen_type.groupby('MapCode').sum()['generation_per_type_2018_ENTSO-E']"
   ]
  },
  {
   "cell_type": "code",
   "execution_count": 117,
   "metadata": {},
   "outputs": [
    {
     "data": {
      "text/plain": [
       "MapCode\n",
       "AT    0.495533\n",
       "BE    0.313898\n",
       "CZ    0.885738\n",
       "DE    0.929391\n",
       "DK    0.805473\n",
       "ES    0.592241\n",
       "FI    0.589732\n",
       "FR    0.552594\n",
       "GB    0.550265\n",
       "GR    0.902675\n",
       "HU    0.752055\n",
       "IE    0.475408\n",
       "IT    0.543840\n",
       "NL    0.441957\n",
       "PL    0.620924\n",
       "PT    0.388345\n",
       "RO    0.614206\n",
       "SE    0.000000\n",
       "SK    0.392222\n",
       "dtype: float64"
      ]
     },
     "execution_count": 117,
     "metadata": {},
     "output_type": "execute_result"
    }
   ],
   "source": [
    "CI"
   ]
  },
  {
   "cell_type": "code",
   "execution_count": null,
   "metadata": {},
   "outputs": [],
   "source": [
    "CI_eea = pd.read_csv()"
   ]
  },
  {
   "cell_type": "markdown",
   "metadata": {},
   "source": [
    "## Some other checks"
   ]
  },
  {
   "cell_type": "markdown",
   "metadata": {},
   "source": [
    "Plausibility check for EF from power plants"
   ]
  },
  {
   "cell_type": "code",
   "execution_count": 24,
   "metadata": {},
   "outputs": [
    {
     "data": {
      "text/plain": [
       "801"
      ]
     },
     "execution_count": 24,
     "metadata": {},
     "output_type": "execute_result"
    }
   ],
   "source": [
    "# number of PP from matching\n",
    "len(Powerplants_emission_EU_CI)"
   ]
  },
  {
   "cell_type": "code",
   "execution_count": 27,
   "metadata": {},
   "outputs": [
    {
     "data": {
      "text/plain": [
       "493"
      ]
     },
     "execution_count": 27,
     "metadata": {},
     "output_type": "execute_result"
    }
   ],
   "source": [
    "# validated PP with EF\n",
    "len(Powerplants_emission_EU_CI_validated)"
   ]
  },
  {
   "cell_type": "code",
   "execution_count": 30,
   "metadata": {},
   "outputs": [
    {
     "data": {
      "text/plain": [
       "589591944.6374995"
      ]
     },
     "execution_count": 30,
     "metadata": {},
     "output_type": "execute_result"
    }
   ],
   "source": [
    "# covered generation by validated PP\n",
    "Powerplants_emission_EU_CI_validated.yearly_generation_2018.sum()"
   ]
  },
  {
   "cell_type": "code",
   "execution_count": 44,
   "metadata": {},
   "outputs": [
    {
     "data": {
      "text/plain": [
       "1054364944.35"
      ]
     },
     "execution_count": 44,
     "metadata": {},
     "output_type": "execute_result"
    }
   ],
   "source": [
    "# conv. generation in 2018\n",
    "entsoe_gen_type['generation_per_type_2018_ENTSO-E'].sum()"
   ]
  },
  {
   "cell_type": "code",
   "execution_count": 45,
   "metadata": {},
   "outputs": [
    {
     "data": {
      "text/plain": [
       "55.91915283194226"
      ]
     },
     "execution_count": 45,
     "metadata": {},
     "output_type": "execute_result"
    }
   ],
   "source": [
    "# in % of validated PP generation\n",
    "(100 / (entsoe_gen_type['generation_per_type_2018_ENTSO-E'].sum())) * Powerplants_emission_EU_CI_validated.yearly_generation_2018.sum()"
   ]
  },
  {
   "cell_type": "code",
   "execution_count": null,
   "metadata": {},
   "outputs": [],
   "source": []
  },
  {
   "cell_type": "code",
   "execution_count": null,
   "metadata": {},
   "outputs": [],
   "source": []
  },
  {
   "cell_type": "code",
   "execution_count": null,
   "metadata": {},
   "outputs": [],
   "source": [
    "coverage_val = len(Powerplants_emission_EU_CI) / len(generation_unit_info.query('ProductionTypeName in @tech'))\n",
    "print(\"After validation we were able to allocate \" + str(coverage_val*100) + \" % of the power plants an emission value.\")"
   ]
  },
  {
   "cell_type": "markdown",
   "metadata": {},
   "source": []
  },
  {
   "cell_type": "code",
   "execution_count": null,
   "metadata": {},
   "outputs": [],
   "source": [
    "Powerplants_emission_EU_CI.yearly_generation_2018.sum()\n",
    "\n",
    "coverage = len(Powerplants_emission_EU_CI) / len(generation_unit_info.query('ProductionTypeName in @tech'))\n",
    "print(\"We were able to allocate \" + str(coverage*100) + \" % of the power plants an emission value.\")"
   ]
  },
  {
   "cell_type": "code",
   "execution_count": null,
   "metadata": {},
   "outputs": [],
   "source": [
    "# Plot CI per country for the technologies (drei Plots)"
   ]
  },
  {
   "cell_type": "code",
   "execution_count": null,
   "metadata": {},
   "outputs": [],
   "source": [
    "Powerplants_emission_EU_CI.columns"
   ]
  },
  {
   "cell_type": "code",
   "execution_count": null,
   "metadata": {},
   "outputs": [],
   "source": [
    "# Teste wie viel Energie decken wir mit dieser Methode ab?\n",
    "# Dafür welche Daten verwenden (Problem Gross vs Net)\n",
    "# Gibt es von Eurostat eine Net Version (ich glaube ja pro Monat)\n",
    "# Dann Plot pro Land wie viel Dekcen wir ab (0 bis 1)\n",
    "\n"
   ]
  },
  {
   "cell_type": "code",
   "execution_count": null,
   "metadata": {},
   "outputs": [],
   "source": [
    "# wie könnten wir ein representatives sample bilder. Das soll uns dann die CI ausrechnen\n",
    "\n",
    "# Wie machen wir den Vergleich zur anderen Methode?"
   ]
  },
  {
   "cell_type": "code",
   "execution_count": null,
   "metadata": {},
   "outputs": [],
   "source": [
    "# Jetzt können wir dann CI pro technologie bestimmen. "
   ]
  },
  {
   "cell_type": "code",
   "execution_count": null,
   "metadata": {},
   "outputs": [],
   "source": []
  },
  {
   "cell_type": "markdown",
   "metadata": {},
   "source": [
    "vergleich unsere Jährliche Erzeugung mit denen, die wir von Ember bekommen haben (in 12, in Gfuellner Code) . Die unserscheidet sich. Was macht Ember noch mit den Daten?"
   ]
  },
  {
   "cell_type": "code",
   "execution_count": null,
   "metadata": {},
   "outputs": [],
   "source": [
    "#generation_unit_info[generation_unit_info.PowerSystemResourceName == 'Scheldelaan Exxonmobil']"
   ]
  },
  {
   "cell_type": "code",
   "execution_count": null,
   "metadata": {},
   "outputs": [],
   "source": []
  },
  {
   "cell_type": "code",
   "execution_count": null,
   "metadata": {},
   "outputs": [],
   "source": [
    "pd.merge(generation_unit_info, unit_matching_EU, on='PowerSystemResourceName', how='left')"
   ]
  },
  {
   "cell_type": "markdown",
   "metadata": {},
   "source": [
    "## Some check up numbers"
   ]
  },
  {
   "cell_type": "code",
   "execution_count": null,
   "metadata": {},
   "outputs": [],
   "source": [
    "tech = ['Fossil Gas', 'Fossil Hard coal',\n",
    "       'Fossil Brown coal/Lignite', 'Other']\n",
    "\n",
    "print('number of pp in data set that has emissions that we want to match')\n",
    "print(len(generation_unit_info.query('ProductionTypeName in @tech')))\n",
    "\n",
    "print('generation in MWh in 2018 from the unis')\n",
    "print(generation_unit_info.query('ProductionTypeName in @tech').yearly_generation_2018.sum())\n",
    "\n",
    "\n",
    "(100/(generation_unit_info.query('ProductionTypeName in @tech').yearly_generation_2018.sum()))* Powerplants_emission_EU_CI.yearly_generation_2018.sum()"
   ]
  },
  {
   "cell_type": "code",
   "execution_count": null,
   "metadata": {},
   "outputs": [],
   "source": [
    "generation_unit_info_matched[generation_unit_info_matched.ProductionTypeName == 'Other'].sort_values(by='yearly_generation_2018', ascending=False)"
   ]
  },
  {
   "cell_type": "code",
   "execution_count": null,
   "metadata": {},
   "outputs": [],
   "source": [
    "generation_unit_info.ProductionTypeName.unique()"
   ]
  },
  {
   "cell_type": "code",
   "execution_count": null,
   "metadata": {},
   "outputs": [],
   "source": []
  },
  {
   "cell_type": "code",
   "execution_count": null,
   "metadata": {},
   "outputs": [],
   "source": [
    "# überprüfen, ob wir noch weitere technologien mit aufnehmen sollen \n",
    "# ich denke IT 'other' sollte man sich anschauen da haben wir auch schon einige drin.\n",
    "tech = ['Fossil Oil shale', 'Fossil Oil','Fossil Coal-derived gas',\n",
    "       'Fossil Peat', 'Other', 'Waste']"
   ]
  },
  {
   "cell_type": "code",
   "execution_count": null,
   "metadata": {},
   "outputs": [],
   "source": [
    "generation_unit_info.query('ProductionTypeName in @tech').sort_values(by='yearly_generation_2018', ascending=False).head(50)"
   ]
  },
  {
   "cell_type": "markdown",
   "metadata": {},
   "source": [
    "### --- Following function and data are only for check up the results and are not needed (test data)  --- "
   ]
  },
  {
   "cell_type": "markdown",
   "metadata": {},
   "source": [
    "1) Entso unit generation data from EMBER\n",
    "The Entso e data has lot of gaps and need to be preprocessing (is done partly and the result is different than the one from Ember)\n",
    "\n",
    "File - > entsoe_unit_gen_data.csv"
   ]
  },
  {
   "cell_type": "code",
   "execution_count": null,
   "metadata": {},
   "outputs": [],
   "source": [
    "def load_unit_data_ember(path, fn):\n",
    "    \"\"\"\n",
    "    Entso e unit generation from ember\n",
    "        \n",
    "    Parameters\n",
    "    ----------\n",
    "    path: str\n",
    "        path to data\n",
    "    fn : str\n",
    "        filename\n",
    "        \n",
    "    \"\"\"\n",
    "    \n",
    "    logging.info(f'Loading data from {fn}')\n",
    "    \n",
    "    df = pd.read_csv(os.path.join(path, fn), sep = ';', header = 0, encoding = 'unicode_escape')\n",
    "\n",
    "    return df\n",
    "\n",
    "# load the ember data\n",
    "generation_per_unit_ember = load_unit_data_ember(Bootom_up_methode_input_directory_path, 'entsoe_unit_gen_data.csv') \n",
    "\n",
    "# filter to the year 2018\n",
    "generation_per_unit_ember = generation_per_unit_ember[generation_per_unit_ember.Year == 2018]\n",
    "\n",
    "# group and sum monthly data too yearly data\n",
    "generation_per_unit_ember = generation_per_unit_ember.groupby(by = 'PowerSystemResourceName').sum()['Monthly Generation (GWh)']"
   ]
  },
  {
   "cell_type": "code",
   "execution_count": null,
   "metadata": {},
   "outputs": [],
   "source": [
    "# for the ember datat the country code in germany needs to be converted \n",
    "def conv(x):\n",
    "    # converts german grid operator areas string in german countrycode of ETS\n",
    "    areas =['DE_TenneT_GER','DE_TransnetBW','DE_Amprion','DE_50HzT']\n",
    "    if x in areas:\n",
    "        x = 'DE' \n",
    "    return x"
   ]
  },
  {
   "cell_type": "code",
   "execution_count": null,
   "metadata": {},
   "outputs": [],
   "source": [
    "#not needed anymore\n",
    "#generation_per_unit_ember = generation_per_unit_ember.groupby(by = 'PowerSystemResourceName').agg({'Monthly Generation (GWh)': 'sum',\n",
    "                                                                       'MapCode':'first',\n",
    "                                                                       'ProductionTypeName':'first',\n",
    "                                                                       \n",
    "                                                                         'Year': 'first',\n",
    "                                                                         'Installed Capacity (MW)': 'first'\n",
    "                                                                      })\n",
    "#merged_ember = pd.merge(generation_per_unit_ember, unit_matching_EU_2, on='PowerSystemResourceName', how='inner')"
   ]
  }
 ],
 "metadata": {
  "kernelspec": {
   "display_name": "Python 3",
   "language": "python",
   "name": "python3"
  },
  "language_info": {
   "codemirror_mode": {
    "name": "ipython",
    "version": 3
   },
   "file_extension": ".py",
   "mimetype": "text/x-python",
   "name": "python",
   "nbconvert_exporter": "python",
   "pygments_lexer": "ipython3",
   "version": "3.7.9"
  }
 },
 "nbformat": 4,
 "nbformat_minor": 4
}
