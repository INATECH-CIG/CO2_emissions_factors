{
 "cells": [
  {
   "cell_type": "markdown",
   "metadata": {},
   "source": [
    "# CO2 calculation bottom up method\n",
    "### - From power plant data to country aggregated CO2 intensity of electricity generation -"
   ]
  },
  {
   "cell_type": "markdown",
   "metadata": {},
   "source": [
    "In this script we calculated an CO2 emission factor per country out of hourly power plant generation and yearly published emission data on plant level.\n",
    "\n",
    "The used method follows the idea to calculated a CI for specific power plants. In a second step an representative sample of power plants for a country is build and an CI for each technology and country is calculated."
   ]
  },
  {
   "cell_type": "markdown",
   "metadata": {},
   "source": [
    "# Script setup"
   ]
  },
  {
   "cell_type": "code",
   "execution_count": 1,
   "metadata": {},
   "outputs": [],
   "source": [
    "import os\n",
    "import logging\n",
    "\n",
    "import pandas as pd\n",
    "import seaborn as sns\n",
    "import matplotlib.pyplot as plt\n",
    "from matplotlib.dates import DateFormatter\n",
    "from IPython.display import Image \n",
    "\n",
    "%matplotlib inline\n",
    "plt.style.use('seaborn')\n",
    "plt.rcParams['figure.figsize'] = [15, 10]\n",
    "\n",
    "#helpers\n",
    "def change_ProductionTypeName (ProductionTypeName):\n",
    "    return ProductionTypeName.replace({\n",
    "            'Fossil Hard coal': 'hard_coal', \n",
    "            'Fossil Brown coal/Lignite': 'lignite', \n",
    "            'Fossil Gas': 'gas',\n",
    "            'Fossil Coal-derived gas': 'other_fossil',\n",
    "            'Fossil Peat': 'other_fossil',\n",
    "            'Nuclear': 'nuclear',\n",
    "            'Biomass': 'biomass',\n",
    "            'Waste': 'waste',\n",
    "            'Geothermal': 'geothermal',\n",
    "            'Marine': 'marine',\n",
    "            'Other': 'other_fossil',\n",
    "            'Hydro Pumped Storage': 'hydro',\n",
    "            'Hydro Run-of-river and poundage': 'hydro',\n",
    "            'Hydro Water Reservoir': 'hydro',\n",
    "            'Fossil Oil': 'oil',\n",
    "            'Fossil Oil shale': 'oil', \n",
    "            'Solar': 'solar',\n",
    "            'Wind Onshore': 'wind_onshore',\n",
    "            'Wind Offshore': 'wind_offshore',\n",
    "            'Other renewable': 'other_renewable'}, regex = True, inplace = False)"
   ]
  },
  {
   "cell_type": "markdown",
   "metadata": {},
   "source": [
    "# Data directory preparention"
   ]
  },
  {
   "cell_type": "markdown",
   "metadata": {},
   "source": [
    "Create input, processed and output folders if they don't exist\n",
    "If the paths are relative, the corresponding folders will be created inside the current working directory."
   ]
  },
  {
   "cell_type": "code",
   "execution_count": 2,
   "metadata": {},
   "outputs": [],
   "source": [
    "input_directory_path = os.path.join('input')\n",
    "Bootom_up_methode_input_directory_path = os.path.join('input', 'Bootom_up_methode')\n",
    "processed_directory_path = 'processed'\n",
    "output_directory_path = os.path.join('output')\n",
    "\n",
    "os.makedirs(input_directory_path, exist_ok=True)\n",
    "os.makedirs(Bootom_up_methode_input_directory_path, exist_ok=True)\n",
    "os.makedirs(processed_directory_path, exist_ok=True)\n",
    "os.makedirs(output_directory_path, exist_ok=True)"
   ]
  },
  {
   "cell_type": "markdown",
   "metadata": {},
   "source": [
    "# Data file preperation"
   ]
  },
  {
   "cell_type": "markdown",
   "metadata": {},
   "source": [
    "The directory `input/Bootom_up_method` should contain all necessary raw data files.\n",
    "\n",
    "Based on the developed method the following data sets needed:\n",
    "\n",
    "1) Matcher for power plants in Entso e and EUTL Data for Europe\n",
    "The matching was performed by a manual process (see description).\n",
    "\n",
    "File - > Matching_Entso_EUTL_EU.csv\n",
    "\n",
    "2) EU Emissions Data (EUTL)\n",
    "Data are provided in the report section. See the following link:\n",
    "https://ec.europa.eu/clima/policies/ets/registry_en#tab-0-1\n",
    "\n",
    "For example: ->Documentation->Reports->Verified Emissions for 2019\n",
    "\n",
    "File - > \"Verified Emissions for 2019\" -> verified_emissions_2018_en.xlsx -> converted to .csv\n",
    "\n",
    "Another way to check the data is directly through the European Union Transaction Log:\n",
    "https://ec.europa.eu/clima/ets/napMgt.do?languageCode=en\n",
    "\n",
    "3) ENTSO-E production per unit \n",
    "Production per Unit from ENTSO-E\n",
    "Original data: ENTSO-E Transparency Platform, Actual Generation per Generation Unit Available online: https://transparency.entsoe.eu/generation/r2/actualGenerationPerGenerationUnit/show (accessed on Apr 29, 2020).\n",
    "Processed with the following script that converts the data to hourly resolution (private script from INATECH):\n",
    "https://github.com/INATECH-CIG/entso-e_GenerationOutputPerUnit\n",
    "\n",
    "\n",
    "File - > gen_data.csv -> hourly generation data per unit\\\n",
    "\n",
    "File - > unit_data.csv -> information about the generation units\n",
    "\n",
    "4) ENTSO-E production per type\n",
    "Production per Unit from ENTSO-E\n",
    "Original data: ENTSO-E Transparency Platform, Actual Generation per Production Type Available online: \n",
    "https://transparency.entsoe.eu/generation/r2/actualGenerationPerProductionType/show\n",
    "Processed with the following script that converts the data to hourly resolution (private script from INATECH):\n",
    ".... need to be updated ....\n",
    " File - > \n"
   ]
  },
  {
   "cell_type": "code",
   "execution_count": 3,
   "metadata": {},
   "outputs": [
    {
     "name": "stdout",
     "output_type": "stream",
     "text": [
      "['input\\\\Bootom_up_methode\\\\entsoe_unit_gen_data.csv', 'input\\\\Bootom_up_methode\\\\gen_data.csv', 'input\\\\Bootom_up_methode\\\\matching_ENTSOE_EU_ETS.csv', 'input\\\\Bootom_up_methode\\\\Matching_Entso_EUTL_EU.csv', 'input\\\\Bootom_up_methode\\\\Matching_Entso_EUTL_EU_2.csv', 'input\\\\Bootom_up_methode\\\\Matching_Entso_EUTL_LCPD.csv', 'input\\\\Bootom_up_methode\\\\nrg_cb_pem.csv', 'input\\\\Bootom_up_methode\\\\time_series_60min_multiindex.csv', 'input\\\\Bootom_up_methode\\\\unit_data.csv', 'input\\\\Bootom_up_methode\\\\verified_emissions_2018_en.csv', 'input\\\\Bootom_up_methode\\\\verified_emissions_2018_en.xlsx']\n"
     ]
    }
   ],
   "source": [
    "# Checks if the the input directories are empty or not\n",
    "# Checks all filenames in the input directory\n",
    "\n",
    "if not os.listdir(Bootom_up_methode_input_directory_path) :\n",
    "    print(\"The directory for the bootom up method is empty. Please provide the data to the directory as described in the instructions above.\")\n",
    "\n",
    "\n",
    "filenames = [os.path.join(Bootom_up_methode_input_directory_path, fn) for fn in os.listdir(Bootom_up_methode_input_directory_path)]\n",
    "\n",
    "print(filenames)"
   ]
  },
  {
   "cell_type": "markdown",
   "metadata": {},
   "source": [
    "# Load data functions"
   ]
  },
  {
   "cell_type": "code",
   "execution_count": 4,
   "metadata": {},
   "outputs": [],
   "source": [
    "def load_matching_data_EU(path, fn):\n",
    "    \"\"\"\n",
    "    Matching List for EU power plants with Entso e identifier and the EUTL identifier.\n",
    "        \n",
    "    Parameters\n",
    "    ----------\n",
    "    path: str\n",
    "        path to data\n",
    "    fn : str\n",
    "        filename\n",
    "        \n",
    "    \"\"\"\n",
    "    \n",
    "    logging.info(f'Loading data from {fn}')\n",
    "    \n",
    "    df = pd.read_csv(os.path.join(path, fn), sep = ',', header = 0, index_col=0)\n",
    "\n",
    "    return df\n",
    "\n",
    "def load_EUTL_data(path, fn):\n",
    "    \"\"\"\n",
    "    EU Emissions Data (EUTL)\n",
    "        \n",
    "    Parameters\n",
    "    ----------\n",
    "    path: str\n",
    "        path to data\n",
    "    fn : str\n",
    "        filename\n",
    "        \n",
    "    \"\"\"\n",
    "    \n",
    "    logging.info(f'Loading data from {fn}')\n",
    "    \n",
    "    df = pd.read_csv(os.path.join(path, fn),sep = ';', header = 13, encoding='ISO-8859-1')\n",
    "\n",
    "    return df\n",
    "\n",
    "def load_generation_data(path, fn):\n",
    "    \"\"\"\n",
    "    Entso e gernation data per unit\n",
    "        \n",
    "    Parameters\n",
    "    ----------\n",
    "    path: str\n",
    "        path to data\n",
    "    fn : str\n",
    "        filename\n",
    "        \n",
    "    \"\"\"\n",
    "    \n",
    "    logging.info(f'Loading data from {fn}')\n",
    "    \n",
    "    df = pd.read_csv(os.path.join(path, fn),sep = ',',index_col=0,parse_dates=True)\n",
    "    \n",
    "\n",
    "    return df\n",
    "\n",
    "def load_unit_data(path, fn):\n",
    "    \"\"\"\n",
    "    Entso e generation unit information\n",
    "        \n",
    "    Parameters\n",
    "    ----------\n",
    "    path: str\n",
    "        path to data\n",
    "    fn : str\n",
    "        filename\n",
    "        \n",
    "    \"\"\"\n",
    "    \n",
    "    logging.info(f'Loading data from {fn}')\n",
    "    \n",
    "    df = pd.read_csv(os.path.join(path, fn),sep = ',',index_col=0)\n",
    "    \n",
    "    # Rename production type name according to own convention\n",
    "    df.ProductionTypeName = change_ProductionTypeName(df.ProductionTypeName)\n",
    "    \n",
    "    # set name for the index\n",
    "    df.index.set_names('GenerationUnitEIC', inplace=True)\n",
    "\n",
    "    return df\n",
    "\n",
    "def load_timeseries_opsd(path, fn):\n",
    "    \"\"\"\n",
    "    Read data from OPSD time-series package own modification.\n",
    "\n",
    "    \n",
    "    \"\"\"\n",
    "    generation = (pd.read_csv(os.path.join(path, fn), index_col=[0], header=[0, 1, 2, 3, 4, 5], parse_dates=True)\n",
    "                    .dropna(how=\"all\", axis=0))\n",
    "        \n",
    "  \n",
    "    \n",
    "    generation = generation.rename(columns={'GB_UKM' : 'GB'})\n",
    "    generation = generation.drop(columns='cet_cest_timestamp', level='region')\n",
    "       \n",
    "    \n",
    "    return generation\n",
    "\n"
   ]
  },
  {
   "cell_type": "markdown",
   "metadata": {},
   "source": [
    "# Load data sets"
   ]
  },
  {
   "cell_type": "markdown",
   "metadata": {},
   "source": [
    "### Load power plant generation data."
   ]
  },
  {
   "cell_type": "code",
   "execution_count": 5,
   "metadata": {},
   "outputs": [],
   "source": [
    "generation_per_unit = load_generation_data(Bootom_up_methode_input_directory_path, 'gen_data.csv')"
   ]
  },
  {
   "cell_type": "markdown",
   "metadata": {},
   "source": [
    "### Load power plant unit inforamtion (capacity, name, etc.)"
   ]
  },
  {
   "cell_type": "code",
   "execution_count": 6,
   "metadata": {},
   "outputs": [],
   "source": [
    "generation_unit_info = load_unit_data(Bootom_up_methode_input_directory_path, 'unit_data.csv')"
   ]
  },
  {
   "cell_type": "markdown",
   "metadata": {},
   "source": [
    "### Load CO2_emissions data from EUTL dataset"
   ]
  },
  {
   "cell_type": "code",
   "execution_count": 7,
   "metadata": {},
   "outputs": [],
   "source": [
    "EUTL_emissions = load_EUTL_data(Bootom_up_methode_input_directory_path, 'verified_emissions_2018_en.csv')"
   ]
  },
  {
   "cell_type": "markdown",
   "metadata": {},
   "source": [
    "### Load machting information for power plant data"
   ]
  },
  {
   "cell_type": "code",
   "execution_count": 8,
   "metadata": {},
   "outputs": [],
   "source": [
    "unit_matching_EU = load_matching_data_EU(Bootom_up_methode_input_directory_path, 'matching_ENTSOE_EU_ETS.csv')"
   ]
  },
  {
   "cell_type": "markdown",
   "metadata": {},
   "source": [
    "# Method"
   ]
  },
  {
   "cell_type": "markdown",
   "metadata": {},
   "source": [
    "## Yearly power generation per unit"
   ]
  },
  {
   "cell_type": "markdown",
   "metadata": {},
   "source": [
    "Store the yearly generation per power plant to the power plant information data set."
   ]
  },
  {
   "cell_type": "code",
   "execution_count": 10,
   "metadata": {},
   "outputs": [],
   "source": [
    "generation_unit_info['generation_2018'] = generation_per_unit.sum()"
   ]
  },
  {
   "cell_type": "code",
   "execution_count": 11,
   "metadata": {},
   "outputs": [
    {
     "data": {
      "text/html": [
       "<div>\n",
       "<style scoped>\n",
       "    .dataframe tbody tr th:only-of-type {\n",
       "        vertical-align: middle;\n",
       "    }\n",
       "\n",
       "    .dataframe tbody tr th {\n",
       "        vertical-align: top;\n",
       "    }\n",
       "\n",
       "    .dataframe thead th {\n",
       "        text-align: right;\n",
       "    }\n",
       "</style>\n",
       "<table border=\"1\" class=\"dataframe\">\n",
       "  <thead>\n",
       "    <tr style=\"text-align: right;\">\n",
       "      <th></th>\n",
       "      <th>AreaCode</th>\n",
       "      <th>AreaName</th>\n",
       "      <th>AreaTypeCode</th>\n",
       "      <th>InstalledGenCapacity</th>\n",
       "      <th>MapCode</th>\n",
       "      <th>PowerSystemResourceName</th>\n",
       "      <th>ProductionTypeName</th>\n",
       "      <th>duplicate_count</th>\n",
       "      <th>generation_2018</th>\n",
       "    </tr>\n",
       "    <tr>\n",
       "      <th>GenerationUnitEIC</th>\n",
       "      <th></th>\n",
       "      <th></th>\n",
       "      <th></th>\n",
       "      <th></th>\n",
       "      <th></th>\n",
       "      <th></th>\n",
       "      <th></th>\n",
       "      <th></th>\n",
       "      <th></th>\n",
       "    </tr>\n",
       "  </thead>\n",
       "  <tbody>\n",
       "    <tr>\n",
       "      <th>14W-KW-THE-M2--7</th>\n",
       "      <td>10YAT-APG------L</td>\n",
       "      <td>APG CA</td>\n",
       "      <td>CTA</td>\n",
       "      <td>130.0</td>\n",
       "      <td>AT</td>\n",
       "      <td>Theiß 2</td>\n",
       "      <td>gas</td>\n",
       "      <td>2.0</td>\n",
       "      <td>72072.08</td>\n",
       "    </tr>\n",
       "  </tbody>\n",
       "</table>\n",
       "</div>"
      ],
      "text/plain": [
       "                           AreaCode AreaName AreaTypeCode  \\\n",
       "GenerationUnitEIC                                           \n",
       "14W-KW-THE-M2--7   10YAT-APG------L   APG CA          CTA   \n",
       "\n",
       "                   InstalledGenCapacity MapCode PowerSystemResourceName  \\\n",
       "GenerationUnitEIC                                                         \n",
       "14W-KW-THE-M2--7                  130.0      AT                 Theiß 2   \n",
       "\n",
       "                  ProductionTypeName  duplicate_count  generation_2018  \n",
       "GenerationUnitEIC                                                       \n",
       "14W-KW-THE-M2--7                 gas              2.0         72072.08  "
      ]
     },
     "execution_count": 11,
     "metadata": {},
     "output_type": "execute_result"
    }
   ],
   "source": [
    "generation_unit_info[generation_unit_info.PowerSystemResourceName == 'Theiß 2']"
   ]
  },
  {
   "cell_type": "markdown",
   "metadata": {},
   "source": [
    "## Matching ENTSO-E ID and EUTL ID"
   ]
  },
  {
   "cell_type": "markdown",
   "metadata": {},
   "source": [
    "Combining matching information (ENTSO-E ID and EUTL ID) to the generation unit info. Keep only matched information."
   ]
  },
  {
   "cell_type": "code",
   "execution_count": 12,
   "metadata": {},
   "outputs": [],
   "source": [
    "generation_unit_info_matched = pd.merge(generation_unit_info, unit_matching_EU, left_on='GenerationUnitEIC', right_on='eic_g', how='inner')"
   ]
  },
  {
   "cell_type": "markdown",
   "metadata": {},
   "source": [
    "## Function for connecting emissions and production data"
   ]
  },
  {
   "cell_type": "code",
   "execution_count": 14,
   "metadata": {},
   "outputs": [],
   "source": [
    "def connect_CO2(df, ETS):\n",
    "    # caring for characteristics of the dataset: EUTL-ID IS NOT UNIQUE - only countrywise.\n",
    "    # removing power plants from the dataset which are not covered in ETS:\n",
    "    miss_country = []\n",
    "    for i in set(df.EUTL_countrycode):\n",
    "        if sum(i == ETS['REGISTRY_CODE']) == 0:\n",
    "            print(i)\n",
    "            miss_country.append(i)\n",
    "            #removing this power plants from the list:\n",
    "    df = df.query('EUTL_countrycode not in @miss_country')\n",
    "    \n",
    "    # removing power plants where match could not be found:\n",
    "    miss_match = []\n",
    "    for j in df.eic_g:\n",
    "        row = df[df.eic_g == j]\n",
    "        if len(ETS.query('REGISTRY_CODE == @row.EUTL_countrycode.iloc[0]')\\\n",
    "                  .query('INSTALLATION_IDENTIFIER == @row.EUTL_ID.iloc[0]')) == 0:\n",
    "            print(j)\n",
    "            miss_match.append(j)\n",
    "            \n",
    "    df = df.query('eic_g not in @miss_match')\n",
    "    # apply matching:\n",
    "    df['verified_emissions_18'] = df.apply(lambda x: ETS.query('REGISTRY_CODE==@x.EUTL_countrycode')\\\n",
    "                                    .query('INSTALLATION_IDENTIFIER==@x.EUTL_ID')['VERIFIED_EMISSIONS_2018']\\\n",
    "                                    .iloc[0], axis = 1)\n",
    "    df['verified_emissions_17'] = df.apply(lambda x: ETS.query('REGISTRY_CODE==@x.EUTL_countrycode')\\\n",
    "                                    .query('INSTALLATION_IDENTIFIER==@x.EUTL_ID')['VERIFIED_EMISSIONS_2017']\\\n",
    "                                    .iloc[0], axis = 1)\n",
    "    df['verified_emissions_16'] = df.apply(lambda x: ETS.query('REGISTRY_CODE==@x.EUTL_countrycode')\\\n",
    "                                    .query('INSTALLATION_IDENTIFIER==@x.EUTL_ID')['VERIFIED_EMISSIONS_2016']\\\n",
    "                                    .iloc[0], axis = 1)\n",
    "    df['verified_emissions_15'] = df.apply(lambda x: ETS.query('REGISTRY_CODE==@x.EUTL_countrycode')\\\n",
    "                                    .query('INSTALLATION_IDENTIFIER==@x.EUTL_ID')['VERIFIED_EMISSIONS_2015']\\\n",
    "                                    .iloc[0], axis = 1)\n",
    "    \n",
    "    df['ETS_name'] = df.apply(lambda x: ETS.query('REGISTRY_CODE==@x.EUTL_countrycode')\\\n",
    "                                    .query('INSTALLATION_IDENTIFIER==@x.EUTL_ID')['IDENTIFIER_IN_REG']\\\n",
    "                                    .iloc[0], axis = 1)\n",
    "    return df"
   ]
  },
  {
   "cell_type": "code",
   "execution_count": 15,
   "metadata": {},
   "outputs": [],
   "source": [
    "generation_unit_info_matched = connect_CO2(generation_unit_info_matched, EUTL_emissions)"
   ]
  },
  {
   "cell_type": "markdown",
   "metadata": {},
   "source": [
    "Show first 10 entries from data"
   ]
  },
  {
   "cell_type": "code",
   "execution_count": 18,
   "metadata": {},
   "outputs": [
    {
     "data": {
      "text/html": [
       "<div>\n",
       "<style scoped>\n",
       "    .dataframe tbody tr th:only-of-type {\n",
       "        vertical-align: middle;\n",
       "    }\n",
       "\n",
       "    .dataframe tbody tr th {\n",
       "        vertical-align: top;\n",
       "    }\n",
       "\n",
       "    .dataframe thead th {\n",
       "        text-align: right;\n",
       "    }\n",
       "</style>\n",
       "<table border=\"1\" class=\"dataframe\">\n",
       "  <thead>\n",
       "    <tr style=\"text-align: right;\">\n",
       "      <th></th>\n",
       "      <th>AreaCode</th>\n",
       "      <th>AreaName</th>\n",
       "      <th>AreaTypeCode</th>\n",
       "      <th>InstalledGenCapacity</th>\n",
       "      <th>MapCode_x</th>\n",
       "      <th>PowerSystemResourceName</th>\n",
       "      <th>ProductionTypeName</th>\n",
       "      <th>duplicate_count</th>\n",
       "      <th>generation_2018</th>\n",
       "      <th>eic_g</th>\n",
       "      <th>...</th>\n",
       "      <th>GU_Type</th>\n",
       "      <th>GU_Installed_Capacity</th>\n",
       "      <th>MapCode_y</th>\n",
       "      <th>EUTL_countrycode</th>\n",
       "      <th>EUTL_ID</th>\n",
       "      <th>verified_emissions_18</th>\n",
       "      <th>verified_emissions_17</th>\n",
       "      <th>verified_emissions_16</th>\n",
       "      <th>verified_emissions_15</th>\n",
       "      <th>ETS_name</th>\n",
       "    </tr>\n",
       "  </thead>\n",
       "  <tbody>\n",
       "    <tr>\n",
       "      <th>0</th>\n",
       "      <td>10YAT-APG------L</td>\n",
       "      <td>APG CA</td>\n",
       "      <td>CTA</td>\n",
       "      <td>140.0</td>\n",
       "      <td>AT</td>\n",
       "      <td>Lau GuD</td>\n",
       "      <td>gas</td>\n",
       "      <td>2.0</td>\n",
       "      <td>0.00</td>\n",
       "      <td>14W-GEN-LAU----Z</td>\n",
       "      <td>...</td>\n",
       "      <td>Fossil Gas</td>\n",
       "      <td>140.0</td>\n",
       "      <td>AT</td>\n",
       "      <td>AT</td>\n",
       "      <td>86</td>\n",
       "      <td>6300</td>\n",
       "      <td>3825</td>\n",
       "      <td>3136</td>\n",
       "      <td>4097</td>\n",
       "      <td>Wienstrom KW Leopoldau Wien</td>\n",
       "    </tr>\n",
       "    <tr>\n",
       "      <th>1</th>\n",
       "      <td>10YAT-APG------L</td>\n",
       "      <td>APG CA</td>\n",
       "      <td>CTA</td>\n",
       "      <td>400.0</td>\n",
       "      <td>AT</td>\n",
       "      <td>Kraftwerk Timelkam GUD</td>\n",
       "      <td>gas</td>\n",
       "      <td>2.0</td>\n",
       "      <td>685235.67</td>\n",
       "      <td>14WENERGIEAGWT4S</td>\n",
       "      <td>...</td>\n",
       "      <td>Fossil Gas</td>\n",
       "      <td>400.0</td>\n",
       "      <td>AT</td>\n",
       "      <td>AT</td>\n",
       "      <td>149</td>\n",
       "      <td>267204</td>\n",
       "      <td>356994</td>\n",
       "      <td>213716</td>\n",
       "      <td>174692</td>\n",
       "      <td>Energie AG GuD Kraftwerk Timelkam</td>\n",
       "    </tr>\n",
       "    <tr>\n",
       "      <th>2</th>\n",
       "      <td>10YAT-APG------L</td>\n",
       "      <td>APG CA</td>\n",
       "      <td>CTA</td>\n",
       "      <td>332.0</td>\n",
       "      <td>AT</td>\n",
       "      <td>KW Dürnrohr Block 2</td>\n",
       "      <td>hard_coal</td>\n",
       "      <td>2.0</td>\n",
       "      <td>745290.41</td>\n",
       "      <td>14W-KW-DUE-EVN-A</td>\n",
       "      <td>...</td>\n",
       "      <td>Fossil Hard coal</td>\n",
       "      <td>332.0</td>\n",
       "      <td>AT</td>\n",
       "      <td>AT</td>\n",
       "      <td>94</td>\n",
       "      <td>0</td>\n",
       "      <td>0</td>\n",
       "      <td>8</td>\n",
       "      <td>565110</td>\n",
       "      <td>Verbund KW Dürnrohr Zwentendorf</td>\n",
       "    </tr>\n",
       "    <tr>\n",
       "      <th>3</th>\n",
       "      <td>10YAT-APG------L</td>\n",
       "      <td>APG CA</td>\n",
       "      <td>CTA</td>\n",
       "      <td>150.0</td>\n",
       "      <td>AT</td>\n",
       "      <td>KW Riedersbach 2 G2</td>\n",
       "      <td>hard_coal</td>\n",
       "      <td>2.0</td>\n",
       "      <td>0.00</td>\n",
       "      <td>14WENERGIEAGWR21</td>\n",
       "      <td>...</td>\n",
       "      <td>Fossil Hard coal</td>\n",
       "      <td>150.0</td>\n",
       "      <td>AT</td>\n",
       "      <td>AT</td>\n",
       "      <td>79</td>\n",
       "      <td>6576</td>\n",
       "      <td>7775</td>\n",
       "      <td>203045</td>\n",
       "      <td>270681</td>\n",
       "      <td>KW Riedersbach</td>\n",
       "    </tr>\n",
       "    <tr>\n",
       "      <th>4</th>\n",
       "      <td>10Y1001A1001A796</td>\n",
       "      <td>Energinet CA</td>\n",
       "      <td>CTA</td>\n",
       "      <td>147.0</td>\n",
       "      <td>DK</td>\n",
       "      <td>Asnaesvaerket 2</td>\n",
       "      <td>hard_coal</td>\n",
       "      <td>1.0</td>\n",
       "      <td>219309.91</td>\n",
       "      <td>45W000000000032T</td>\n",
       "      <td>...</td>\n",
       "      <td>Fossil Hard coal</td>\n",
       "      <td>147.0</td>\n",
       "      <td>DK</td>\n",
       "      <td>DK</td>\n",
       "      <td>48</td>\n",
       "      <td>878395</td>\n",
       "      <td>1048994</td>\n",
       "      <td>952588</td>\n",
       "      <td>695549</td>\n",
       "      <td>Asnæsværket</td>\n",
       "    </tr>\n",
       "  </tbody>\n",
       "</table>\n",
       "<p>5 rows × 25 columns</p>\n",
       "</div>"
      ],
      "text/plain": [
       "           AreaCode      AreaName AreaTypeCode  InstalledGenCapacity  \\\n",
       "0  10YAT-APG------L        APG CA          CTA                 140.0   \n",
       "1  10YAT-APG------L        APG CA          CTA                 400.0   \n",
       "2  10YAT-APG------L        APG CA          CTA                 332.0   \n",
       "3  10YAT-APG------L        APG CA          CTA                 150.0   \n",
       "4  10Y1001A1001A796  Energinet CA          CTA                 147.0   \n",
       "\n",
       "  MapCode_x PowerSystemResourceName ProductionTypeName  duplicate_count  \\\n",
       "0        AT                 Lau GuD                gas              2.0   \n",
       "1        AT  Kraftwerk Timelkam GUD                gas              2.0   \n",
       "2        AT     KW Dürnrohr Block 2          hard_coal              2.0   \n",
       "3        AT     KW Riedersbach 2 G2          hard_coal              2.0   \n",
       "4        DK         Asnaesvaerket 2          hard_coal              1.0   \n",
       "\n",
       "   generation_2018             eic_g  ...           GU_Type  \\\n",
       "0             0.00  14W-GEN-LAU----Z  ...        Fossil Gas   \n",
       "1        685235.67  14WENERGIEAGWT4S  ...        Fossil Gas   \n",
       "2        745290.41  14W-KW-DUE-EVN-A  ...  Fossil Hard coal   \n",
       "3             0.00  14WENERGIEAGWR21  ...  Fossil Hard coal   \n",
       "4        219309.91  45W000000000032T  ...  Fossil Hard coal   \n",
       "\n",
       "  GU_Installed_Capacity MapCode_y  EUTL_countrycode EUTL_ID  \\\n",
       "0                 140.0        AT                AT      86   \n",
       "1                 400.0        AT                AT     149   \n",
       "2                 332.0        AT                AT      94   \n",
       "3                 150.0        AT                AT      79   \n",
       "4                 147.0        DK                DK      48   \n",
       "\n",
       "  verified_emissions_18  verified_emissions_17 verified_emissions_16  \\\n",
       "0                  6300                   3825                  3136   \n",
       "1                267204                 356994                213716   \n",
       "2                     0                      0                     8   \n",
       "3                  6576                   7775                203045   \n",
       "4                878395                1048994                952588   \n",
       "\n",
       "  verified_emissions_15                           ETS_name  \n",
       "0                  4097        Wienstrom KW Leopoldau Wien  \n",
       "1                174692  Energie AG GuD Kraftwerk Timelkam  \n",
       "2                565110    Verbund KW Dürnrohr Zwentendorf  \n",
       "3                270681                     KW Riedersbach  \n",
       "4                695549                        Asnæsværket  \n",
       "\n",
       "[5 rows x 25 columns]"
      ]
     },
     "execution_count": 18,
     "metadata": {},
     "output_type": "execute_result"
    }
   ],
   "source": [
    "generation_unit_info_matched.head(5)"
   ]
  },
  {
   "cell_type": "markdown",
   "metadata": {},
   "source": [
    "## Carbon intensity (CI) per power plants (sites)"
   ]
  },
  {
   "cell_type": "markdown",
   "metadata": {},
   "source": [
    "The following function calculates the CI for each entry in the EUTL data set. Due to the fact, that the EUTL data set has a spatial resolution on site level and not on power plant level it can happen, that power plants data need to be aggregated together in the emission calculation.\n"
   ]
  },
  {
   "cell_type": "code",
   "execution_count": 19,
   "metadata": {},
   "outputs": [],
   "source": [
    "def calc_side_gen(df):\n",
    "    # calculate the electricity generation per side.\n",
    "    side_generation = df.groupby(['EUTL_countrycode','EUTL_ID']).sum()['generation_2018'].reset_index()\n",
    "    \n",
    "    # add side generation to PP dataset\n",
    "    df['side_generation'] = df.apply(lambda x: side_generation.query('EUTL_countrycode == @x.EUTL_countrycode')\\\n",
    "                                                              .query('EUTL_ID == @x.EUTL_ID').iloc[0,2],axis = 1)\n",
    "    \n",
    "    return df"
   ]
  },
  {
   "cell_type": "code",
   "execution_count": 20,
   "metadata": {},
   "outputs": [],
   "source": [
    "generation_unit_info_matched = calc_side_gen(generation_unit_info_matched)"
   ]
  },
  {
   "cell_type": "markdown",
   "metadata": {},
   "source": [
    "Distribute the reported emissions per site across the individual power plants in relation to the reported generation."
   ]
  },
  {
   "cell_type": "code",
   "execution_count": 21,
   "metadata": {},
   "outputs": [],
   "source": [
    "generation_unit_info_matched.verified_emissions_18 = generation_unit_info_matched.verified_emissions_18.apply(float)"
   ]
  },
  {
   "cell_type": "code",
   "execution_count": 22,
   "metadata": {},
   "outputs": [],
   "source": [
    "generation_unit_info_matched['PP_emissions'] = (generation_unit_info_matched.verified_emissions_18 / generation_unit_info_matched.side_generation) * generation_unit_info_matched.generation_2018"
   ]
  },
  {
   "cell_type": "markdown",
   "metadata": {},
   "source": [
    "Calculates the emission factor for each PP."
   ]
  },
  {
   "cell_type": "code",
   "execution_count": 23,
   "metadata": {},
   "outputs": [],
   "source": [
    "generation_unit_info_matched['PP_EF'] = generation_unit_info_matched.PP_emissions / generation_unit_info_matched.generation_2018"
   ]
  },
  {
   "cell_type": "markdown",
   "metadata": {},
   "source": [
    "EF calculation old, EF on side level"
   ]
  },
  {
   "cell_type": "markdown",
   "metadata": {},
   "source": [
    "def calc_CI(df):\n",
    "    # calculates the carbon intensity of sites. Due to non-unique labelings of the power plants across different\n",
    "    # countries it needs care taken about it.\n",
    "    \n",
    "    df['verified_emissions_18']=df['verified_emissions_18'].apply(float)\n",
    "    \n",
    "    sites = pd.DataFrame(df.groupby(['EUTL_countrycode','EUTL_ID']).mean()['verified_emissions_18']\\\n",
    "                       / df.groupby(['EUTL_countrycode','EUTL_ID']).sum()['yearly_generation_2018'])\\\n",
    "                        .reset_index()\n",
    "    df['carbon_intensity'] = df.apply(lambda x: sites.query('EUTL_countrycode == @x.EUTL_countrycode')\\\n",
    "                            .query('EUTL_ID == @x.EUTL_ID')[0].iloc[0],axis = 1)\n",
    "    \n",
    "    return df"
   ]
  },
  {
   "cell_type": "code",
   "execution_count": 35,
   "metadata": {},
   "outputs": [],
   "source": [
    "#generation_unit_info_matched = calc_CI(generation_unit_info_matched)"
   ]
  },
  {
   "cell_type": "markdown",
   "metadata": {},
   "source": [
    "Show first 10 entries from data.\n",
    "\n",
    "Attention, the verified_emissions_* per power plant are always site-related, if there are several power plants at one site, the emissions have to be distributed among the power plants. (see. PP_emissions)"
   ]
  },
  {
   "cell_type": "code",
   "execution_count": 26,
   "metadata": {},
   "outputs": [
    {
     "data": {
      "text/html": [
       "<div>\n",
       "<style scoped>\n",
       "    .dataframe tbody tr th:only-of-type {\n",
       "        vertical-align: middle;\n",
       "    }\n",
       "\n",
       "    .dataframe tbody tr th {\n",
       "        vertical-align: top;\n",
       "    }\n",
       "\n",
       "    .dataframe thead th {\n",
       "        text-align: right;\n",
       "    }\n",
       "</style>\n",
       "<table border=\"1\" class=\"dataframe\">\n",
       "  <thead>\n",
       "    <tr style=\"text-align: right;\">\n",
       "      <th></th>\n",
       "      <th>AreaCode</th>\n",
       "      <th>AreaName</th>\n",
       "      <th>AreaTypeCode</th>\n",
       "      <th>InstalledGenCapacity</th>\n",
       "      <th>MapCode_x</th>\n",
       "      <th>PowerSystemResourceName</th>\n",
       "      <th>ProductionTypeName</th>\n",
       "      <th>duplicate_count</th>\n",
       "      <th>generation_2018</th>\n",
       "      <th>eic_g</th>\n",
       "      <th>...</th>\n",
       "      <th>EUTL_countrycode</th>\n",
       "      <th>EUTL_ID</th>\n",
       "      <th>verified_emissions_18</th>\n",
       "      <th>verified_emissions_17</th>\n",
       "      <th>verified_emissions_16</th>\n",
       "      <th>verified_emissions_15</th>\n",
       "      <th>ETS_name</th>\n",
       "      <th>side_generation</th>\n",
       "      <th>PP_emissions</th>\n",
       "      <th>PP_EF</th>\n",
       "    </tr>\n",
       "  </thead>\n",
       "  <tbody>\n",
       "    <tr>\n",
       "      <th>0</th>\n",
       "      <td>10YAT-APG------L</td>\n",
       "      <td>APG CA</td>\n",
       "      <td>CTA</td>\n",
       "      <td>140.0</td>\n",
       "      <td>AT</td>\n",
       "      <td>Lau GuD</td>\n",
       "      <td>gas</td>\n",
       "      <td>2.0</td>\n",
       "      <td>0.00</td>\n",
       "      <td>14W-GEN-LAU----Z</td>\n",
       "      <td>...</td>\n",
       "      <td>AT</td>\n",
       "      <td>86</td>\n",
       "      <td>6300.0</td>\n",
       "      <td>3825</td>\n",
       "      <td>3136</td>\n",
       "      <td>4097</td>\n",
       "      <td>Wienstrom KW Leopoldau Wien</td>\n",
       "      <td>0.00</td>\n",
       "      <td>NaN</td>\n",
       "      <td>NaN</td>\n",
       "    </tr>\n",
       "    <tr>\n",
       "      <th>1</th>\n",
       "      <td>10YAT-APG------L</td>\n",
       "      <td>APG CA</td>\n",
       "      <td>CTA</td>\n",
       "      <td>400.0</td>\n",
       "      <td>AT</td>\n",
       "      <td>Kraftwerk Timelkam GUD</td>\n",
       "      <td>gas</td>\n",
       "      <td>2.0</td>\n",
       "      <td>685235.67</td>\n",
       "      <td>14WENERGIEAGWT4S</td>\n",
       "      <td>...</td>\n",
       "      <td>AT</td>\n",
       "      <td>149</td>\n",
       "      <td>267204.0</td>\n",
       "      <td>356994</td>\n",
       "      <td>213716</td>\n",
       "      <td>174692</td>\n",
       "      <td>Energie AG GuD Kraftwerk Timelkam</td>\n",
       "      <td>685235.67</td>\n",
       "      <td>267204.000000</td>\n",
       "      <td>0.389945</td>\n",
       "    </tr>\n",
       "    <tr>\n",
       "      <th>2</th>\n",
       "      <td>10YAT-APG------L</td>\n",
       "      <td>APG CA</td>\n",
       "      <td>CTA</td>\n",
       "      <td>332.0</td>\n",
       "      <td>AT</td>\n",
       "      <td>KW Dürnrohr Block 2</td>\n",
       "      <td>hard_coal</td>\n",
       "      <td>2.0</td>\n",
       "      <td>745290.41</td>\n",
       "      <td>14W-KW-DUE-EVN-A</td>\n",
       "      <td>...</td>\n",
       "      <td>AT</td>\n",
       "      <td>94</td>\n",
       "      <td>0.0</td>\n",
       "      <td>0</td>\n",
       "      <td>8</td>\n",
       "      <td>565110</td>\n",
       "      <td>Verbund KW Dürnrohr Zwentendorf</td>\n",
       "      <td>745290.41</td>\n",
       "      <td>0.000000</td>\n",
       "      <td>0.000000</td>\n",
       "    </tr>\n",
       "    <tr>\n",
       "      <th>3</th>\n",
       "      <td>10YAT-APG------L</td>\n",
       "      <td>APG CA</td>\n",
       "      <td>CTA</td>\n",
       "      <td>150.0</td>\n",
       "      <td>AT</td>\n",
       "      <td>KW Riedersbach 2 G2</td>\n",
       "      <td>hard_coal</td>\n",
       "      <td>2.0</td>\n",
       "      <td>0.00</td>\n",
       "      <td>14WENERGIEAGWR21</td>\n",
       "      <td>...</td>\n",
       "      <td>AT</td>\n",
       "      <td>79</td>\n",
       "      <td>6576.0</td>\n",
       "      <td>7775</td>\n",
       "      <td>203045</td>\n",
       "      <td>270681</td>\n",
       "      <td>KW Riedersbach</td>\n",
       "      <td>0.00</td>\n",
       "      <td>NaN</td>\n",
       "      <td>NaN</td>\n",
       "    </tr>\n",
       "    <tr>\n",
       "      <th>4</th>\n",
       "      <td>10Y1001A1001A796</td>\n",
       "      <td>Energinet CA</td>\n",
       "      <td>CTA</td>\n",
       "      <td>147.0</td>\n",
       "      <td>DK</td>\n",
       "      <td>Asnaesvaerket 2</td>\n",
       "      <td>hard_coal</td>\n",
       "      <td>1.0</td>\n",
       "      <td>219309.91</td>\n",
       "      <td>45W000000000032T</td>\n",
       "      <td>...</td>\n",
       "      <td>DK</td>\n",
       "      <td>48</td>\n",
       "      <td>878395.0</td>\n",
       "      <td>1048994</td>\n",
       "      <td>952588</td>\n",
       "      <td>695549</td>\n",
       "      <td>Asnæsværket</td>\n",
       "      <td>770018.30</td>\n",
       "      <td>250176.818388</td>\n",
       "      <td>1.140746</td>\n",
       "    </tr>\n",
       "  </tbody>\n",
       "</table>\n",
       "<p>5 rows × 28 columns</p>\n",
       "</div>"
      ],
      "text/plain": [
       "           AreaCode      AreaName AreaTypeCode  InstalledGenCapacity  \\\n",
       "0  10YAT-APG------L        APG CA          CTA                 140.0   \n",
       "1  10YAT-APG------L        APG CA          CTA                 400.0   \n",
       "2  10YAT-APG------L        APG CA          CTA                 332.0   \n",
       "3  10YAT-APG------L        APG CA          CTA                 150.0   \n",
       "4  10Y1001A1001A796  Energinet CA          CTA                 147.0   \n",
       "\n",
       "  MapCode_x PowerSystemResourceName ProductionTypeName  duplicate_count  \\\n",
       "0        AT                 Lau GuD                gas              2.0   \n",
       "1        AT  Kraftwerk Timelkam GUD                gas              2.0   \n",
       "2        AT     KW Dürnrohr Block 2          hard_coal              2.0   \n",
       "3        AT     KW Riedersbach 2 G2          hard_coal              2.0   \n",
       "4        DK         Asnaesvaerket 2          hard_coal              1.0   \n",
       "\n",
       "   generation_2018             eic_g  ... EUTL_countrycode EUTL_ID  \\\n",
       "0             0.00  14W-GEN-LAU----Z  ...               AT      86   \n",
       "1        685235.67  14WENERGIEAGWT4S  ...               AT     149   \n",
       "2        745290.41  14W-KW-DUE-EVN-A  ...               AT      94   \n",
       "3             0.00  14WENERGIEAGWR21  ...               AT      79   \n",
       "4        219309.91  45W000000000032T  ...               DK      48   \n",
       "\n",
       "  verified_emissions_18  verified_emissions_17 verified_emissions_16  \\\n",
       "0                6300.0                   3825                  3136   \n",
       "1              267204.0                 356994                213716   \n",
       "2                   0.0                      0                     8   \n",
       "3                6576.0                   7775                203045   \n",
       "4              878395.0                1048994                952588   \n",
       "\n",
       "  verified_emissions_15                           ETS_name side_generation  \\\n",
       "0                  4097        Wienstrom KW Leopoldau Wien            0.00   \n",
       "1                174692  Energie AG GuD Kraftwerk Timelkam       685235.67   \n",
       "2                565110    Verbund KW Dürnrohr Zwentendorf       745290.41   \n",
       "3                270681                     KW Riedersbach            0.00   \n",
       "4                695549                        Asnæsværket       770018.30   \n",
       "\n",
       "    PP_emissions     PP_EF  \n",
       "0            NaN       NaN  \n",
       "1  267204.000000  0.389945  \n",
       "2       0.000000  0.000000  \n",
       "3            NaN       NaN  \n",
       "4  250176.818388  1.140746  \n",
       "\n",
       "[5 rows x 28 columns]"
      ]
     },
     "execution_count": 26,
     "metadata": {},
     "output_type": "execute_result"
    }
   ],
   "source": [
    "generation_unit_info_matched.head()"
   ]
  },
  {
   "cell_type": "markdown",
   "metadata": {},
   "source": [
    "## Validation of carbon intensities (CI) per power plant"
   ]
  },
  {
   "cell_type": "markdown",
   "metadata": {},
   "source": [
    "Check and test results and drop all results that are not plausible"
   ]
  },
  {
   "cell_type": "markdown",
   "metadata": {},
   "source": [
    "Which technologies are covered?"
   ]
  },
  {
   "cell_type": "code",
   "execution_count": 27,
   "metadata": {},
   "outputs": [
    {
     "data": {
      "text/plain": [
       "array(['gas', 'hard_coal', 'lignite', 'other_fossil'], dtype=object)"
      ]
     },
     "execution_count": 27,
     "metadata": {},
     "output_type": "execute_result"
    }
   ],
   "source": [
    "generation_unit_info_matched.ProductionTypeName.unique()"
   ]
  },
  {
   "cell_type": "markdown",
   "metadata": {},
   "source": [
    "Missing technologies are oil and waste"
   ]
  },
  {
   "cell_type": "markdown",
   "metadata": {},
   "source": [
    "# covert technologies for methode\n",
    "\n",
    "tech = ['gas', 'hard_coal',\n",
    "       'lignite', 'other_fossil']\n",
    "\n",
    "Powerplants_emission_EU_CI = generation_unit_info_matched.query('ProductionTypeName in @tech').copy()\n",
    "\n",
    "# not covert : 'Fossil Oil shale', 'Fossil Oil', 'Fossil Coal-derived gas','Fossil Peat'"
   ]
  },
  {
   "cell_type": "markdown",
   "metadata": {},
   "source": [
    "Since not all emission factors are correctly calculated we limited the list of calculated emissions per power plant is checked by a plausibility check.\n",
    "\n",
    "thresholds for plausibility check - until [g/kWh]: \n",
    "- lignite_high = 1750\n",
    "- lignite_low = 800\n",
    "-------------------\n",
    "- hardcoal_high = 1350\n",
    "- hardcoal_low = 700\n",
    "-------------------\n",
    "- gas_high = 550\n",
    "- gas_low = 350\n",
    "-------------------\n",
    "- other_high = 1570\n",
    "- other_low = 400\n",
    "\n",
    "Numbers taken from:\n",
    "https://www.gegenwind-saarland.de/Materialien/Energiewende/071031--VdI---CO2-Emissionen%20der%20Stromerzeugung_01.pdf"
   ]
  },
  {
   "cell_type": "code",
   "execution_count": 28,
   "metadata": {},
   "outputs": [],
   "source": [
    "# emissions space per technology in [t CO2/MWh] \n",
    "\n",
    "emission_space = {\"lignite\": (1.750,.800),\n",
    "                  \"hard_coal\": (1.350,.700),\n",
    "                  \"gas\": (.550,.350),\n",
    "                  \"other_fossil\": (1.570,.400)}\n",
    "\n",
    "\n",
    "# Entwicklung der spezifischen Kohlendioxid-Emissionen des deutschen Strommix in den Jahren 1990 - 2018 (UBA)\n",
    "# https://www.umweltbundesamt.de/sites/default/files/medien/1410/publikationen/2019-04-10_cc_10-2019_strommix_2019.pdf\n",
    "#\n",
    "# Unit: g CO2/kWh\n",
    "#  \n",
    "#lignite 1090,0\n",
    "#coal 820\n",
    "#gas 360\n",
    "#other 1570 (Müll und Öl)\n",
    "#\n",
    "#\n",
    "# um von t/MWh auf g/kWh zu kommen * 1000 "
   ]
  },
  {
   "cell_type": "code",
   "execution_count": 29,
   "metadata": {},
   "outputs": [],
   "source": [
    "# function for CI check\n",
    "def check_CI (row):\n",
    "    if row.PP_EF > emission_space[row.ProductionTypeName][1] and row.PP_EF < emission_space[row.ProductionTypeName][0]:\n",
    "        return True\n",
    "    else:\n",
    "        return False  "
   ]
  },
  {
   "cell_type": "code",
   "execution_count": 30,
   "metadata": {},
   "outputs": [],
   "source": [
    "# us CI_check function for CI validation\n",
    "generation_unit_info_matched['CI_validation'] = generation_unit_info_matched.apply(check_CI, axis=1)\n"
   ]
  },
  {
   "cell_type": "code",
   "execution_count": 31,
   "metadata": {},
   "outputs": [
    {
     "data": {
      "text/html": [
       "<div>\n",
       "<style scoped>\n",
       "    .dataframe tbody tr th:only-of-type {\n",
       "        vertical-align: middle;\n",
       "    }\n",
       "\n",
       "    .dataframe tbody tr th {\n",
       "        vertical-align: top;\n",
       "    }\n",
       "\n",
       "    .dataframe thead th {\n",
       "        text-align: right;\n",
       "    }\n",
       "</style>\n",
       "<table border=\"1\" class=\"dataframe\">\n",
       "  <thead>\n",
       "    <tr style=\"text-align: right;\">\n",
       "      <th></th>\n",
       "      <th>AreaCode</th>\n",
       "      <th>AreaName</th>\n",
       "      <th>AreaTypeCode</th>\n",
       "      <th>InstalledGenCapacity</th>\n",
       "      <th>MapCode_x</th>\n",
       "      <th>PowerSystemResourceName</th>\n",
       "      <th>ProductionTypeName</th>\n",
       "      <th>duplicate_count</th>\n",
       "      <th>generation_2018</th>\n",
       "      <th>eic_g</th>\n",
       "      <th>...</th>\n",
       "      <th>EUTL_ID</th>\n",
       "      <th>verified_emissions_18</th>\n",
       "      <th>verified_emissions_17</th>\n",
       "      <th>verified_emissions_16</th>\n",
       "      <th>verified_emissions_15</th>\n",
       "      <th>ETS_name</th>\n",
       "      <th>side_generation</th>\n",
       "      <th>PP_emissions</th>\n",
       "      <th>PP_EF</th>\n",
       "      <th>CI_validation</th>\n",
       "    </tr>\n",
       "  </thead>\n",
       "  <tbody>\n",
       "    <tr>\n",
       "      <th>0</th>\n",
       "      <td>10YAT-APG------L</td>\n",
       "      <td>APG CA</td>\n",
       "      <td>CTA</td>\n",
       "      <td>140.0</td>\n",
       "      <td>AT</td>\n",
       "      <td>Lau GuD</td>\n",
       "      <td>gas</td>\n",
       "      <td>2.0</td>\n",
       "      <td>0.00</td>\n",
       "      <td>14W-GEN-LAU----Z</td>\n",
       "      <td>...</td>\n",
       "      <td>86</td>\n",
       "      <td>6300.0</td>\n",
       "      <td>3825</td>\n",
       "      <td>3136</td>\n",
       "      <td>4097</td>\n",
       "      <td>Wienstrom KW Leopoldau Wien</td>\n",
       "      <td>0.00</td>\n",
       "      <td>NaN</td>\n",
       "      <td>NaN</td>\n",
       "      <td>False</td>\n",
       "    </tr>\n",
       "    <tr>\n",
       "      <th>1</th>\n",
       "      <td>10YAT-APG------L</td>\n",
       "      <td>APG CA</td>\n",
       "      <td>CTA</td>\n",
       "      <td>400.0</td>\n",
       "      <td>AT</td>\n",
       "      <td>Kraftwerk Timelkam GUD</td>\n",
       "      <td>gas</td>\n",
       "      <td>2.0</td>\n",
       "      <td>685235.67</td>\n",
       "      <td>14WENERGIEAGWT4S</td>\n",
       "      <td>...</td>\n",
       "      <td>149</td>\n",
       "      <td>267204.0</td>\n",
       "      <td>356994</td>\n",
       "      <td>213716</td>\n",
       "      <td>174692</td>\n",
       "      <td>Energie AG GuD Kraftwerk Timelkam</td>\n",
       "      <td>685235.67</td>\n",
       "      <td>267204.000000</td>\n",
       "      <td>0.389945</td>\n",
       "      <td>True</td>\n",
       "    </tr>\n",
       "    <tr>\n",
       "      <th>2</th>\n",
       "      <td>10YAT-APG------L</td>\n",
       "      <td>APG CA</td>\n",
       "      <td>CTA</td>\n",
       "      <td>332.0</td>\n",
       "      <td>AT</td>\n",
       "      <td>KW Dürnrohr Block 2</td>\n",
       "      <td>hard_coal</td>\n",
       "      <td>2.0</td>\n",
       "      <td>745290.41</td>\n",
       "      <td>14W-KW-DUE-EVN-A</td>\n",
       "      <td>...</td>\n",
       "      <td>94</td>\n",
       "      <td>0.0</td>\n",
       "      <td>0</td>\n",
       "      <td>8</td>\n",
       "      <td>565110</td>\n",
       "      <td>Verbund KW Dürnrohr Zwentendorf</td>\n",
       "      <td>745290.41</td>\n",
       "      <td>0.000000</td>\n",
       "      <td>0.000000</td>\n",
       "      <td>False</td>\n",
       "    </tr>\n",
       "    <tr>\n",
       "      <th>3</th>\n",
       "      <td>10YAT-APG------L</td>\n",
       "      <td>APG CA</td>\n",
       "      <td>CTA</td>\n",
       "      <td>150.0</td>\n",
       "      <td>AT</td>\n",
       "      <td>KW Riedersbach 2 G2</td>\n",
       "      <td>hard_coal</td>\n",
       "      <td>2.0</td>\n",
       "      <td>0.00</td>\n",
       "      <td>14WENERGIEAGWR21</td>\n",
       "      <td>...</td>\n",
       "      <td>79</td>\n",
       "      <td>6576.0</td>\n",
       "      <td>7775</td>\n",
       "      <td>203045</td>\n",
       "      <td>270681</td>\n",
       "      <td>KW Riedersbach</td>\n",
       "      <td>0.00</td>\n",
       "      <td>NaN</td>\n",
       "      <td>NaN</td>\n",
       "      <td>False</td>\n",
       "    </tr>\n",
       "    <tr>\n",
       "      <th>4</th>\n",
       "      <td>10Y1001A1001A796</td>\n",
       "      <td>Energinet CA</td>\n",
       "      <td>CTA</td>\n",
       "      <td>147.0</td>\n",
       "      <td>DK</td>\n",
       "      <td>Asnaesvaerket 2</td>\n",
       "      <td>hard_coal</td>\n",
       "      <td>1.0</td>\n",
       "      <td>219309.91</td>\n",
       "      <td>45W000000000032T</td>\n",
       "      <td>...</td>\n",
       "      <td>48</td>\n",
       "      <td>878395.0</td>\n",
       "      <td>1048994</td>\n",
       "      <td>952588</td>\n",
       "      <td>695549</td>\n",
       "      <td>Asnæsværket</td>\n",
       "      <td>770018.30</td>\n",
       "      <td>250176.818388</td>\n",
       "      <td>1.140746</td>\n",
       "      <td>True</td>\n",
       "    </tr>\n",
       "  </tbody>\n",
       "</table>\n",
       "<p>5 rows × 29 columns</p>\n",
       "</div>"
      ],
      "text/plain": [
       "           AreaCode      AreaName AreaTypeCode  InstalledGenCapacity  \\\n",
       "0  10YAT-APG------L        APG CA          CTA                 140.0   \n",
       "1  10YAT-APG------L        APG CA          CTA                 400.0   \n",
       "2  10YAT-APG------L        APG CA          CTA                 332.0   \n",
       "3  10YAT-APG------L        APG CA          CTA                 150.0   \n",
       "4  10Y1001A1001A796  Energinet CA          CTA                 147.0   \n",
       "\n",
       "  MapCode_x PowerSystemResourceName ProductionTypeName  duplicate_count  \\\n",
       "0        AT                 Lau GuD                gas              2.0   \n",
       "1        AT  Kraftwerk Timelkam GUD                gas              2.0   \n",
       "2        AT     KW Dürnrohr Block 2          hard_coal              2.0   \n",
       "3        AT     KW Riedersbach 2 G2          hard_coal              2.0   \n",
       "4        DK         Asnaesvaerket 2          hard_coal              1.0   \n",
       "\n",
       "   generation_2018             eic_g  ... EUTL_ID verified_emissions_18  \\\n",
       "0             0.00  14W-GEN-LAU----Z  ...      86                6300.0   \n",
       "1        685235.67  14WENERGIEAGWT4S  ...     149              267204.0   \n",
       "2        745290.41  14W-KW-DUE-EVN-A  ...      94                   0.0   \n",
       "3             0.00  14WENERGIEAGWR21  ...      79                6576.0   \n",
       "4        219309.91  45W000000000032T  ...      48              878395.0   \n",
       "\n",
       "  verified_emissions_17  verified_emissions_16 verified_emissions_15  \\\n",
       "0                  3825                   3136                  4097   \n",
       "1                356994                 213716                174692   \n",
       "2                     0                      8                565110   \n",
       "3                  7775                 203045                270681   \n",
       "4               1048994                 952588                695549   \n",
       "\n",
       "                            ETS_name  side_generation   PP_emissions  \\\n",
       "0        Wienstrom KW Leopoldau Wien             0.00            NaN   \n",
       "1  Energie AG GuD Kraftwerk Timelkam        685235.67  267204.000000   \n",
       "2    Verbund KW Dürnrohr Zwentendorf        745290.41       0.000000   \n",
       "3                     KW Riedersbach             0.00            NaN   \n",
       "4                        Asnæsværket        770018.30  250176.818388   \n",
       "\n",
       "      PP_EF  CI_validation  \n",
       "0       NaN          False  \n",
       "1  0.389945           True  \n",
       "2  0.000000          False  \n",
       "3       NaN          False  \n",
       "4  1.140746           True  \n",
       "\n",
       "[5 rows x 29 columns]"
      ]
     },
     "execution_count": 31,
     "metadata": {},
     "output_type": "execute_result"
    }
   ],
   "source": [
    "generation_unit_info_matched.head()"
   ]
  },
  {
   "cell_type": "code",
   "execution_count": 36,
   "metadata": {},
   "outputs": [
    {
     "data": {
      "text/plain": [
       "811"
      ]
     },
     "execution_count": 36,
     "metadata": {},
     "output_type": "execute_result"
    }
   ],
   "source": [
    "len(generation_unit_info_matched)"
   ]
  },
  {
   "cell_type": "code",
   "execution_count": 32,
   "metadata": {},
   "outputs": [],
   "source": [
    "# take only the data that are validated\n",
    "generation_unit_info_validated = generation_unit_info_matched[generation_unit_info_matched.CI_validation == True]"
   ]
  },
  {
   "cell_type": "markdown",
   "metadata": {},
   "source": [
    "reasons why the CI is not valid:\n",
    "\n",
    "1.) Match is not correct - then one more iteration is necessary\n",
    "\n",
    "2.) Data is wrong or incomplete\n",
    "\n",
    "3.) Match is correct, but it's a highly aggregated facility such like a steel manufacturing factory, where both process-CO2 AND the emissions from the power plant running the process accounts into the number given in the dataset.\n",
    "\n",
    "4.) the facility contains more smaller power plants which are not covered by ENTSO-E (<100MW) but nevertheless\n",
    "produce emissions which need to be paid for.\n",
    "\n",
    "5.) if the number of the carbon-intensity is negative, then the dataset is explained as \" -1 = blank (No allocation has been made / No Emissions have been Verified)\""
   ]
  },
  {
   "cell_type": "code",
   "execution_count": 33,
   "metadata": {},
   "outputs": [
    {
     "data": {
      "text/plain": [
       "Index(['AreaCode', 'AreaName', 'AreaTypeCode', 'InstalledGenCapacity',\n",
       "       'MapCode_x', 'PowerSystemResourceName', 'ProductionTypeName',\n",
       "       'duplicate_count', 'generation_2018', 'eic_g', 'eic_p', 'PU_Name',\n",
       "       'PU_Type', 'PU_Installed_Capacity', 'GU_Name', 'GU_Type',\n",
       "       'GU_Installed_Capacity', 'MapCode_y', 'EUTL_countrycode', 'EUTL_ID',\n",
       "       'verified_emissions_18', 'verified_emissions_17',\n",
       "       'verified_emissions_16', 'verified_emissions_15', 'ETS_name',\n",
       "       'side_generation', 'PP_emissions', 'PP_EF', 'CI_validation'],\n",
       "      dtype='object')"
      ]
     },
     "execution_count": 33,
     "metadata": {},
     "output_type": "execute_result"
    }
   ],
   "source": [
    "generation_unit_info_validated.columns"
   ]
  },
  {
   "cell_type": "code",
   "execution_count": 34,
   "metadata": {},
   "outputs": [
    {
     "data": {
      "text/plain": [
       "508"
      ]
     },
     "execution_count": 34,
     "metadata": {},
     "output_type": "execute_result"
    }
   ],
   "source": [
    "len(generation_unit_info_validated)"
   ]
  },
  {
   "cell_type": "code",
   "execution_count": 37,
   "metadata": {},
   "outputs": [
    {
     "data": {
      "text/html": [
       "<div>\n",
       "<style scoped>\n",
       "    .dataframe tbody tr th:only-of-type {\n",
       "        vertical-align: middle;\n",
       "    }\n",
       "\n",
       "    .dataframe tbody tr th {\n",
       "        vertical-align: top;\n",
       "    }\n",
       "\n",
       "    .dataframe thead th {\n",
       "        text-align: right;\n",
       "    }\n",
       "</style>\n",
       "<table border=\"1\" class=\"dataframe\">\n",
       "  <thead>\n",
       "    <tr style=\"text-align: right;\">\n",
       "      <th></th>\n",
       "      <th>AreaCode</th>\n",
       "      <th>AreaName</th>\n",
       "      <th>AreaTypeCode</th>\n",
       "      <th>InstalledGenCapacity</th>\n",
       "      <th>MapCode_x</th>\n",
       "      <th>PowerSystemResourceName</th>\n",
       "      <th>ProductionTypeName</th>\n",
       "      <th>duplicate_count</th>\n",
       "      <th>generation_2018</th>\n",
       "      <th>eic_g</th>\n",
       "      <th>...</th>\n",
       "      <th>EUTL_ID</th>\n",
       "      <th>verified_emissions_18</th>\n",
       "      <th>verified_emissions_17</th>\n",
       "      <th>verified_emissions_16</th>\n",
       "      <th>verified_emissions_15</th>\n",
       "      <th>ETS_name</th>\n",
       "      <th>side_generation</th>\n",
       "      <th>PP_emissions</th>\n",
       "      <th>PP_EF</th>\n",
       "      <th>CI_validation</th>\n",
       "    </tr>\n",
       "  </thead>\n",
       "  <tbody>\n",
       "    <tr>\n",
       "      <th>1</th>\n",
       "      <td>10YAT-APG------L</td>\n",
       "      <td>APG CA</td>\n",
       "      <td>CTA</td>\n",
       "      <td>400.0</td>\n",
       "      <td>AT</td>\n",
       "      <td>Kraftwerk Timelkam GUD</td>\n",
       "      <td>gas</td>\n",
       "      <td>2.0</td>\n",
       "      <td>685235.67</td>\n",
       "      <td>14WENERGIEAGWT4S</td>\n",
       "      <td>...</td>\n",
       "      <td>149</td>\n",
       "      <td>267204.0</td>\n",
       "      <td>356994</td>\n",
       "      <td>213716</td>\n",
       "      <td>174692</td>\n",
       "      <td>Energie AG GuD Kraftwerk Timelkam</td>\n",
       "      <td>685235.67</td>\n",
       "      <td>2.672040e+05</td>\n",
       "      <td>0.389945</td>\n",
       "      <td>True</td>\n",
       "    </tr>\n",
       "    <tr>\n",
       "      <th>4</th>\n",
       "      <td>10Y1001A1001A796</td>\n",
       "      <td>Energinet CA</td>\n",
       "      <td>CTA</td>\n",
       "      <td>147.0</td>\n",
       "      <td>DK</td>\n",
       "      <td>Asnaesvaerket 2</td>\n",
       "      <td>hard_coal</td>\n",
       "      <td>1.0</td>\n",
       "      <td>219309.91</td>\n",
       "      <td>45W000000000032T</td>\n",
       "      <td>...</td>\n",
       "      <td>48</td>\n",
       "      <td>878395.0</td>\n",
       "      <td>1048994</td>\n",
       "      <td>952588</td>\n",
       "      <td>695549</td>\n",
       "      <td>Asnæsværket</td>\n",
       "      <td>770018.30</td>\n",
       "      <td>2.501768e+05</td>\n",
       "      <td>1.140746</td>\n",
       "      <td>True</td>\n",
       "    </tr>\n",
       "    <tr>\n",
       "      <th>5</th>\n",
       "      <td>10Y1001A1001A796</td>\n",
       "      <td>Energinet CA</td>\n",
       "      <td>CTA</td>\n",
       "      <td>250.0</td>\n",
       "      <td>DK</td>\n",
       "      <td>Amagervaerket 3</td>\n",
       "      <td>hard_coal</td>\n",
       "      <td>1.0</td>\n",
       "      <td>1060165.23</td>\n",
       "      <td>45W000000000034P</td>\n",
       "      <td>...</td>\n",
       "      <td>52</td>\n",
       "      <td>1038454.0</td>\n",
       "      <td>962853</td>\n",
       "      <td>1109048</td>\n",
       "      <td>862186</td>\n",
       "      <td>Amagerværket:DK299</td>\n",
       "      <td>1060165.23</td>\n",
       "      <td>1.038454e+06</td>\n",
       "      <td>0.979521</td>\n",
       "      <td>True</td>\n",
       "    </tr>\n",
       "    <tr>\n",
       "      <th>6</th>\n",
       "      <td>10Y1001A1001A796</td>\n",
       "      <td>Energinet CA</td>\n",
       "      <td>CTA</td>\n",
       "      <td>377.0</td>\n",
       "      <td>DK</td>\n",
       "      <td>Esbjergvaerket 3</td>\n",
       "      <td>hard_coal</td>\n",
       "      <td>1.0</td>\n",
       "      <td>1193633.83</td>\n",
       "      <td>45W000000000040U</td>\n",
       "      <td>...</td>\n",
       "      <td>80</td>\n",
       "      <td>1066679.0</td>\n",
       "      <td>767819</td>\n",
       "      <td>1212705</td>\n",
       "      <td>875783</td>\n",
       "      <td>Esbjergværket</td>\n",
       "      <td>1193633.83</td>\n",
       "      <td>1.066679e+06</td>\n",
       "      <td>0.893640</td>\n",
       "      <td>True</td>\n",
       "    </tr>\n",
       "    <tr>\n",
       "      <th>7</th>\n",
       "      <td>10Y1001A1001A796</td>\n",
       "      <td>Energinet CA</td>\n",
       "      <td>CTA</td>\n",
       "      <td>372.0</td>\n",
       "      <td>DK</td>\n",
       "      <td>Fynsvaerket 7</td>\n",
       "      <td>hard_coal</td>\n",
       "      <td>1.0</td>\n",
       "      <td>770123.83</td>\n",
       "      <td>45W000000000035N</td>\n",
       "      <td>...</td>\n",
       "      <td>69</td>\n",
       "      <td>747392.0</td>\n",
       "      <td>1053586</td>\n",
       "      <td>1155662</td>\n",
       "      <td>901683</td>\n",
       "      <td>Fjernvarme Fyn Produktion A/S Blok 7</td>\n",
       "      <td>770123.83</td>\n",
       "      <td>7.473920e+05</td>\n",
       "      <td>0.970483</td>\n",
       "      <td>True</td>\n",
       "    </tr>\n",
       "  </tbody>\n",
       "</table>\n",
       "<p>5 rows × 29 columns</p>\n",
       "</div>"
      ],
      "text/plain": [
       "           AreaCode      AreaName AreaTypeCode  InstalledGenCapacity  \\\n",
       "1  10YAT-APG------L        APG CA          CTA                 400.0   \n",
       "4  10Y1001A1001A796  Energinet CA          CTA                 147.0   \n",
       "5  10Y1001A1001A796  Energinet CA          CTA                 250.0   \n",
       "6  10Y1001A1001A796  Energinet CA          CTA                 377.0   \n",
       "7  10Y1001A1001A796  Energinet CA          CTA                 372.0   \n",
       "\n",
       "  MapCode_x PowerSystemResourceName ProductionTypeName  duplicate_count  \\\n",
       "1        AT  Kraftwerk Timelkam GUD                gas              2.0   \n",
       "4        DK         Asnaesvaerket 2          hard_coal              1.0   \n",
       "5        DK         Amagervaerket 3          hard_coal              1.0   \n",
       "6        DK        Esbjergvaerket 3          hard_coal              1.0   \n",
       "7        DK           Fynsvaerket 7          hard_coal              1.0   \n",
       "\n",
       "   generation_2018             eic_g  ... EUTL_ID verified_emissions_18  \\\n",
       "1        685235.67  14WENERGIEAGWT4S  ...     149              267204.0   \n",
       "4        219309.91  45W000000000032T  ...      48              878395.0   \n",
       "5       1060165.23  45W000000000034P  ...      52             1038454.0   \n",
       "6       1193633.83  45W000000000040U  ...      80             1066679.0   \n",
       "7        770123.83  45W000000000035N  ...      69              747392.0   \n",
       "\n",
       "  verified_emissions_17  verified_emissions_16 verified_emissions_15  \\\n",
       "1                356994                 213716                174692   \n",
       "4               1048994                 952588                695549   \n",
       "5                962853                1109048                862186   \n",
       "6                767819                1212705                875783   \n",
       "7               1053586                1155662                901683   \n",
       "\n",
       "                               ETS_name  side_generation  PP_emissions  \\\n",
       "1     Energie AG GuD Kraftwerk Timelkam        685235.67  2.672040e+05   \n",
       "4                           Asnæsværket        770018.30  2.501768e+05   \n",
       "5                    Amagerværket:DK299       1060165.23  1.038454e+06   \n",
       "6                         Esbjergværket       1193633.83  1.066679e+06   \n",
       "7  Fjernvarme Fyn Produktion A/S Blok 7        770123.83  7.473920e+05   \n",
       "\n",
       "      PP_EF  CI_validation  \n",
       "1  0.389945           True  \n",
       "4  1.140746           True  \n",
       "5  0.979521           True  \n",
       "6  0.893640           True  \n",
       "7  0.970483           True  \n",
       "\n",
       "[5 rows x 29 columns]"
      ]
     },
     "execution_count": 37,
     "metadata": {},
     "output_type": "execute_result"
    }
   ],
   "source": [
    "generation_unit_info_validated.head()"
   ]
  },
  {
   "cell_type": "code",
   "execution_count": 38,
   "metadata": {},
   "outputs": [
    {
     "data": {
      "text/plain": [
       "Text(0, 0.5, 'Production technologie')"
      ]
     },
     "execution_count": 38,
     "metadata": {},
     "output_type": "execute_result"
    },
    {
     "data": {
      "image/png": "[encoded data removed]",
      "text/plain": [
       "<Figure size 1080x720 with 1 Axes>"
      ]
     },
     "metadata": {},
     "output_type": "display_data"
    }
   ],
   "source": [
    "fig, ax = plt.subplots(1, 1)\n",
    "\n",
    "ax = sns.boxplot(y=\"ProductionTypeName\", x=\"PP_EF\", data=generation_unit_info_validated, orient=\"h\")\n",
    "\n",
    "ax.set_xlabel(\"CO2 intensity [t CO2/MWh]\")\n",
    "ax.set_ylabel(\"Production technologie\")"
   ]
  },
  {
   "cell_type": "code",
   "execution_count": 39,
   "metadata": {},
   "outputs": [],
   "source": [
    "fig.savefig(os.path.join(output_directory_path + '/_CO2_intensity_by_technology.png'))"
   ]
  },
  {
   "cell_type": "code",
   "execution_count": 40,
   "metadata": {},
   "outputs": [],
   "source": [
    "generation_unit_info_validated.to_csv(output_directory_path + '/generation_unit_EF_bottom_up_methode.csv')"
   ]
  },
  {
   "cell_type": "markdown",
   "metadata": {},
   "source": [
    "## Mean carbon intensity per technology and country "
   ]
  },
  {
   "cell_type": "code",
   "execution_count": 41,
   "metadata": {},
   "outputs": [],
   "source": [
    "generation_per_tech_country = generation_unit_info_validated.groupby(['EUTL_countrycode','ProductionTypeName']).sum()[['generation_2018','PP_emissions']]"
   ]
  },
  {
   "cell_type": "code",
   "execution_count": 42,
   "metadata": {},
   "outputs": [],
   "source": [
    "EF_per_tech_country = generation_per_tech_country.PP_emissions / generation_per_tech_country.generation_2018"
   ]
  },
  {
   "cell_type": "markdown",
   "metadata": {},
   "source": [
    "### Plot mean CI for countries and technologies "
   ]
  },
  {
   "cell_type": "code",
   "execution_count": 43,
   "metadata": {},
   "outputs": [
    {
     "data": {
      "text/plain": [
       "<Figure size 1080x720 with 0 Axes>"
      ]
     },
     "metadata": {},
     "output_type": "display_data"
    },
    {
     "data": {
      "image/png": "[encoded data removed]",
      "text/plain": [
       "<Figure size 1080x720 with 4 Axes>"
      ]
     },
     "metadata": {},
     "output_type": "display_data"
    }
   ],
   "source": [
    "plt.figure()\n",
    "\n",
    "EF_per_tech_country.unstack(level=1).plot(kind='bar', subplots=True, ylabel='CI [t CO2/MWh]')\n",
    "\n",
    "plt.grid(True)"
   ]
  },
  {
   "cell_type": "code",
   "execution_count": 44,
   "metadata": {},
   "outputs": [
    {
     "data": {
      "text/plain": [
       "EUTL_countrycode  ProductionTypeName\n",
       "AT                gas                   0.407247\n",
       "                  hard_coal             1.069627\n",
       "BE                gas                   0.390776\n",
       "CZ                hard_coal             1.010505\n",
       "                  lignite               0.994113\n",
       "DE                gas                   0.409985\n",
       "                  hard_coal             0.915483\n",
       "                  lignite               1.135463\n",
       "DK                gas                   0.456925\n",
       "                  hard_coal             0.959711\n",
       "ES                gas                   0.386506\n",
       "                  hard_coal             0.975777\n",
       "FI                gas                   0.426210\n",
       "                  hard_coal             0.960352\n",
       "FR                gas                   0.412844\n",
       "                  hard_coal             0.928832\n",
       "GB                gas                   0.466577\n",
       "                  hard_coal             1.124997\n",
       "GR                gas                   0.373103\n",
       "                  lignite               1.433019\n",
       "HU                gas                   0.365875\n",
       "                  lignite               1.362365\n",
       "IE                gas                   0.392799\n",
       "                  hard_coal             1.032204\n",
       "IT                gas                   0.395613\n",
       "                  hard_coal             0.997673\n",
       "                  other_fossil          0.516962\n",
       "NL                gas                   0.374419\n",
       "                  hard_coal             0.984564\n",
       "PL                gas                   0.505579\n",
       "                  hard_coal             0.945580\n",
       "                  lignite               1.162487\n",
       "PT                gas                   0.430328\n",
       "RO                hard_coal             1.229018\n",
       "                  lignite               1.014415\n",
       "SE                gas                   0.492360\n",
       "SK                hard_coal             0.907594\n",
       "                  lignite               1.351470\n",
       "dtype: float64"
      ]
     },
     "execution_count": 44,
     "metadata": {},
     "output_type": "execute_result"
    }
   ],
   "source": [
    "EF_per_tech_country"
   ]
  },
  {
   "cell_type": "code",
   "execution_count": 45,
   "metadata": {},
   "outputs": [
    {
     "data": {
      "text/plain": [
       "{('AT', 'gas'): 0.4072470925489882,\n",
       " ('AT', 'hard_coal'): 1.0696265844941162,\n",
       " ('BE', 'gas'): 0.3907757989628334,\n",
       " ('CZ', 'hard_coal'): 1.0105047658240423,\n",
       " ('CZ', 'lignite'): 0.9941125329000815,\n",
       " ('DE', 'gas'): 0.40998476939684886,\n",
       " ('DE', 'hard_coal'): 0.9154833541822203,\n",
       " ('DE', 'lignite'): 1.1354629121744761,\n",
       " ('DK', 'gas'): 0.45692502546507746,\n",
       " ('DK', 'hard_coal'): 0.9597106526789643,\n",
       " ('ES', 'gas'): 0.3865062928259561,\n",
       " ('ES', 'hard_coal'): 0.9757768006040004,\n",
       " ('FI', 'gas'): 0.42621001796708874,\n",
       " ('FI', 'hard_coal'): 0.960351983843637,\n",
       " ('FR', 'gas'): 0.41284392070990855,\n",
       " ('FR', 'hard_coal'): 0.9288323706586412,\n",
       " ('GB', 'gas'): 0.46657682291527297,\n",
       " ('GB', 'hard_coal'): 1.1249974028616405,\n",
       " ('GR', 'gas'): 0.3731032775316458,\n",
       " ('GR', 'lignite'): 1.433019470147994,\n",
       " ('HU', 'gas'): 0.36587527157733324,\n",
       " ('HU', 'lignite'): 1.362365045220333,\n",
       " ('IE', 'gas'): 0.39279891245284976,\n",
       " ('IE', 'hard_coal'): 1.032204433154683,\n",
       " ('IT', 'gas'): 0.395613065811579,\n",
       " ('IT', 'hard_coal'): 0.9976733173467555,\n",
       " ('IT', 'other_fossil'): 0.5169622380607268,\n",
       " ('NL', 'gas'): 0.37441920089620095,\n",
       " ('NL', 'hard_coal'): 0.9845641008765953,\n",
       " ('PL', 'gas'): 0.5055790304909331,\n",
       " ('PL', 'hard_coal'): 0.9455797275391097,\n",
       " ('PL', 'lignite'): 1.1624872316739963,\n",
       " ('PT', 'gas'): 0.430328125062089,\n",
       " ('RO', 'hard_coal'): 1.2290176634286059,\n",
       " ('RO', 'lignite'): 1.0144148659031023,\n",
       " ('SE', 'gas'): 0.49236038534724597,\n",
       " ('SK', 'hard_coal'): 0.9075938172939626,\n",
       " ('SK', 'lignite'): 1.351470439925445}"
      ]
     },
     "execution_count": 45,
     "metadata": {},
     "output_type": "execute_result"
    }
   ],
   "source": [
    "EF_per_tech_country.to_dict()"
   ]
  },
  {
   "cell_type": "code",
   "execution_count": 47,
   "metadata": {},
   "outputs": [],
   "source": [
    "# reset index\n",
    "generation_unit_info_validated.reset_index(inplace=True)\n",
    "# set new index for maping function \n",
    "generation_unit_info_EF_tech = generation_unit_info_validated.set_index(['EUTL_countrycode','ProductionTypeName'])\n",
    "\n",
    "\n",
    "generation_unit_info_EF_tech['Tech_EF'] = generation_unit_info_EF_tech.index.map(EF_per_tech_country.to_dict())\n",
    "\n",
    "#reset index\n",
    "generation_unit_info_EF_tech.reset_index(inplace=True)\n",
    "\n",
    "#set old index\n",
    "generation_unit_info_EF_tech.set_index(['eic_g'],inplace=True)"
   ]
  },
  {
   "cell_type": "code",
   "execution_count": 48,
   "metadata": {},
   "outputs": [
    {
     "data": {
      "text/html": [
       "<div>\n",
       "<style scoped>\n",
       "    .dataframe tbody tr th:only-of-type {\n",
       "        vertical-align: middle;\n",
       "    }\n",
       "\n",
       "    .dataframe tbody tr th {\n",
       "        vertical-align: top;\n",
       "    }\n",
       "\n",
       "    .dataframe thead th {\n",
       "        text-align: right;\n",
       "    }\n",
       "</style>\n",
       "<table border=\"1\" class=\"dataframe\">\n",
       "  <thead>\n",
       "    <tr style=\"text-align: right;\">\n",
       "      <th></th>\n",
       "      <th>EUTL_countrycode</th>\n",
       "      <th>ProductionTypeName</th>\n",
       "      <th>level_0</th>\n",
       "      <th>index</th>\n",
       "      <th>AreaCode</th>\n",
       "      <th>AreaName</th>\n",
       "      <th>AreaTypeCode</th>\n",
       "      <th>InstalledGenCapacity</th>\n",
       "      <th>MapCode_x</th>\n",
       "      <th>PowerSystemResourceName</th>\n",
       "      <th>...</th>\n",
       "      <th>verified_emissions_18</th>\n",
       "      <th>verified_emissions_17</th>\n",
       "      <th>verified_emissions_16</th>\n",
       "      <th>verified_emissions_15</th>\n",
       "      <th>ETS_name</th>\n",
       "      <th>side_generation</th>\n",
       "      <th>PP_emissions</th>\n",
       "      <th>PP_EF</th>\n",
       "      <th>CI_validation</th>\n",
       "      <th>Tech_EF</th>\n",
       "    </tr>\n",
       "    <tr>\n",
       "      <th>eic_g</th>\n",
       "      <th></th>\n",
       "      <th></th>\n",
       "      <th></th>\n",
       "      <th></th>\n",
       "      <th></th>\n",
       "      <th></th>\n",
       "      <th></th>\n",
       "      <th></th>\n",
       "      <th></th>\n",
       "      <th></th>\n",
       "      <th></th>\n",
       "      <th></th>\n",
       "      <th></th>\n",
       "      <th></th>\n",
       "      <th></th>\n",
       "      <th></th>\n",
       "      <th></th>\n",
       "      <th></th>\n",
       "      <th></th>\n",
       "      <th></th>\n",
       "      <th></th>\n",
       "    </tr>\n",
       "  </thead>\n",
       "  <tbody>\n",
       "    <tr>\n",
       "      <th>14WENERGIEAGWT4S</th>\n",
       "      <td>AT</td>\n",
       "      <td>gas</td>\n",
       "      <td>0</td>\n",
       "      <td>1</td>\n",
       "      <td>10YAT-APG------L</td>\n",
       "      <td>APG CA</td>\n",
       "      <td>CTA</td>\n",
       "      <td>400.0</td>\n",
       "      <td>AT</td>\n",
       "      <td>Kraftwerk Timelkam GUD</td>\n",
       "      <td>...</td>\n",
       "      <td>267204.0</td>\n",
       "      <td>356994</td>\n",
       "      <td>213716</td>\n",
       "      <td>174692</td>\n",
       "      <td>Energie AG GuD Kraftwerk Timelkam</td>\n",
       "      <td>685235.67</td>\n",
       "      <td>2.672040e+05</td>\n",
       "      <td>0.389945</td>\n",
       "      <td>True</td>\n",
       "      <td>0.407247</td>\n",
       "    </tr>\n",
       "    <tr>\n",
       "      <th>45W000000000032T</th>\n",
       "      <td>DK</td>\n",
       "      <td>hard_coal</td>\n",
       "      <td>1</td>\n",
       "      <td>4</td>\n",
       "      <td>10Y1001A1001A796</td>\n",
       "      <td>Energinet CA</td>\n",
       "      <td>CTA</td>\n",
       "      <td>147.0</td>\n",
       "      <td>DK</td>\n",
       "      <td>Asnaesvaerket 2</td>\n",
       "      <td>...</td>\n",
       "      <td>878395.0</td>\n",
       "      <td>1048994</td>\n",
       "      <td>952588</td>\n",
       "      <td>695549</td>\n",
       "      <td>Asnæsværket</td>\n",
       "      <td>770018.30</td>\n",
       "      <td>2.501768e+05</td>\n",
       "      <td>1.140746</td>\n",
       "      <td>True</td>\n",
       "      <td>0.959711</td>\n",
       "    </tr>\n",
       "    <tr>\n",
       "      <th>45W000000000034P</th>\n",
       "      <td>DK</td>\n",
       "      <td>hard_coal</td>\n",
       "      <td>2</td>\n",
       "      <td>5</td>\n",
       "      <td>10Y1001A1001A796</td>\n",
       "      <td>Energinet CA</td>\n",
       "      <td>CTA</td>\n",
       "      <td>250.0</td>\n",
       "      <td>DK</td>\n",
       "      <td>Amagervaerket 3</td>\n",
       "      <td>...</td>\n",
       "      <td>1038454.0</td>\n",
       "      <td>962853</td>\n",
       "      <td>1109048</td>\n",
       "      <td>862186</td>\n",
       "      <td>Amagerværket:DK299</td>\n",
       "      <td>1060165.23</td>\n",
       "      <td>1.038454e+06</td>\n",
       "      <td>0.979521</td>\n",
       "      <td>True</td>\n",
       "      <td>0.959711</td>\n",
       "    </tr>\n",
       "    <tr>\n",
       "      <th>45W000000000040U</th>\n",
       "      <td>DK</td>\n",
       "      <td>hard_coal</td>\n",
       "      <td>3</td>\n",
       "      <td>6</td>\n",
       "      <td>10Y1001A1001A796</td>\n",
       "      <td>Energinet CA</td>\n",
       "      <td>CTA</td>\n",
       "      <td>377.0</td>\n",
       "      <td>DK</td>\n",
       "      <td>Esbjergvaerket 3</td>\n",
       "      <td>...</td>\n",
       "      <td>1066679.0</td>\n",
       "      <td>767819</td>\n",
       "      <td>1212705</td>\n",
       "      <td>875783</td>\n",
       "      <td>Esbjergværket</td>\n",
       "      <td>1193633.83</td>\n",
       "      <td>1.066679e+06</td>\n",
       "      <td>0.893640</td>\n",
       "      <td>True</td>\n",
       "      <td>0.959711</td>\n",
       "    </tr>\n",
       "    <tr>\n",
       "      <th>45W000000000035N</th>\n",
       "      <td>DK</td>\n",
       "      <td>hard_coal</td>\n",
       "      <td>4</td>\n",
       "      <td>7</td>\n",
       "      <td>10Y1001A1001A796</td>\n",
       "      <td>Energinet CA</td>\n",
       "      <td>CTA</td>\n",
       "      <td>372.0</td>\n",
       "      <td>DK</td>\n",
       "      <td>Fynsvaerket 7</td>\n",
       "      <td>...</td>\n",
       "      <td>747392.0</td>\n",
       "      <td>1053586</td>\n",
       "      <td>1155662</td>\n",
       "      <td>901683</td>\n",
       "      <td>Fjernvarme Fyn Produktion A/S Blok 7</td>\n",
       "      <td>770123.83</td>\n",
       "      <td>7.473920e+05</td>\n",
       "      <td>0.970483</td>\n",
       "      <td>True</td>\n",
       "      <td>0.959711</td>\n",
       "    </tr>\n",
       "  </tbody>\n",
       "</table>\n",
       "<p>5 rows × 31 columns</p>\n",
       "</div>"
      ],
      "text/plain": [
       "                 EUTL_countrycode ProductionTypeName  level_0  index  \\\n",
       "eic_g                                                                  \n",
       "14WENERGIEAGWT4S               AT                gas        0      1   \n",
       "45W000000000032T               DK          hard_coal        1      4   \n",
       "45W000000000034P               DK          hard_coal        2      5   \n",
       "45W000000000040U               DK          hard_coal        3      6   \n",
       "45W000000000035N               DK          hard_coal        4      7   \n",
       "\n",
       "                          AreaCode      AreaName AreaTypeCode  \\\n",
       "eic_g                                                           \n",
       "14WENERGIEAGWT4S  10YAT-APG------L        APG CA          CTA   \n",
       "45W000000000032T  10Y1001A1001A796  Energinet CA          CTA   \n",
       "45W000000000034P  10Y1001A1001A796  Energinet CA          CTA   \n",
       "45W000000000040U  10Y1001A1001A796  Energinet CA          CTA   \n",
       "45W000000000035N  10Y1001A1001A796  Energinet CA          CTA   \n",
       "\n",
       "                  InstalledGenCapacity MapCode_x PowerSystemResourceName  ...  \\\n",
       "eic_g                                                                     ...   \n",
       "14WENERGIEAGWT4S                 400.0        AT  Kraftwerk Timelkam GUD  ...   \n",
       "45W000000000032T                 147.0        DK         Asnaesvaerket 2  ...   \n",
       "45W000000000034P                 250.0        DK         Amagervaerket 3  ...   \n",
       "45W000000000040U                 377.0        DK        Esbjergvaerket 3  ...   \n",
       "45W000000000035N                 372.0        DK           Fynsvaerket 7  ...   \n",
       "\n",
       "                  verified_emissions_18  verified_emissions_17  \\\n",
       "eic_g                                                            \n",
       "14WENERGIEAGWT4S               267204.0                 356994   \n",
       "45W000000000032T               878395.0                1048994   \n",
       "45W000000000034P              1038454.0                 962853   \n",
       "45W000000000040U              1066679.0                 767819   \n",
       "45W000000000035N               747392.0                1053586   \n",
       "\n",
       "                 verified_emissions_16 verified_emissions_15  \\\n",
       "eic_g                                                          \n",
       "14WENERGIEAGWT4S                213716                174692   \n",
       "45W000000000032T                952588                695549   \n",
       "45W000000000034P               1109048                862186   \n",
       "45W000000000040U               1212705                875783   \n",
       "45W000000000035N               1155662                901683   \n",
       "\n",
       "                                              ETS_name  side_generation  \\\n",
       "eic_g                                                                     \n",
       "14WENERGIEAGWT4S     Energie AG GuD Kraftwerk Timelkam        685235.67   \n",
       "45W000000000032T                           Asnæsværket        770018.30   \n",
       "45W000000000034P                    Amagerværket:DK299       1060165.23   \n",
       "45W000000000040U                         Esbjergværket       1193633.83   \n",
       "45W000000000035N  Fjernvarme Fyn Produktion A/S Blok 7        770123.83   \n",
       "\n",
       "                  PP_emissions     PP_EF  CI_validation   Tech_EF  \n",
       "eic_g                                                              \n",
       "14WENERGIEAGWT4S  2.672040e+05  0.389945           True  0.407247  \n",
       "45W000000000032T  2.501768e+05  1.140746           True  0.959711  \n",
       "45W000000000034P  1.038454e+06  0.979521           True  0.959711  \n",
       "45W000000000040U  1.066679e+06  0.893640           True  0.959711  \n",
       "45W000000000035N  7.473920e+05  0.970483           True  0.959711  \n",
       "\n",
       "[5 rows x 31 columns]"
      ]
     },
     "execution_count": 48,
     "metadata": {},
     "output_type": "execute_result"
    }
   ],
   "source": [
    "generation_unit_info_EF_tech.head(5)"
   ]
  },
  {
   "cell_type": "code",
   "execution_count": 49,
   "metadata": {},
   "outputs": [],
   "source": [
    "generation_unit_info_EF_tech.to_csv(output_directory_path + '/generation_unit_EF_bottom_up_methode.csv')"
   ]
  },
  {
   "cell_type": "markdown",
   "metadata": {},
   "source": [
    "## Mean carbon intensity per country "
   ]
  },
  {
   "cell_type": "code",
   "execution_count": 50,
   "metadata": {},
   "outputs": [],
   "source": [
    "generation_per_country = generation_unit_info_validated.groupby(['EUTL_countrycode']).sum()[['generation_2018','PP_emissions']]"
   ]
  },
  {
   "cell_type": "code",
   "execution_count": 51,
   "metadata": {},
   "outputs": [],
   "source": [
    "EF_per_country = generation_per_country.PP_emissions / generation_per_country.generation_2018"
   ]
  },
  {
   "cell_type": "code",
   "execution_count": null,
   "metadata": {},
   "outputs": [],
   "source": [
    "# reset index\n",
    "generation_unit_info_EF_tech.reset_index(inplace=True)\n",
    "# set new index for maping function \n",
    "generation_unit_info_EF_country = generation_unit_info_EF_tech.set_index(['MapCode'])\n",
    "\n",
    "\n",
    "generation_unit_info_EF_country['Country_EF'] = generation_unit_info_EF_country.index.map(EF_per_country.to_dict())\n",
    "\n",
    "#reset index\n",
    "generation_unit_info_EF_country.reset_index(inplace=True)\n",
    "\n",
    "#set old index\n",
    "generation_unit_info_EF_country.set_index(['GenerationUnitEIC'],inplace=True)"
   ]
  },
  {
   "cell_type": "code",
   "execution_count": null,
   "metadata": {},
   "outputs": [],
   "source": [
    "generation_unit_info_EF_country.head(5)"
   ]
  },
  {
   "cell_type": "code",
   "execution_count": null,
   "metadata": {},
   "outputs": [],
   "source": [
    "generation_unit_info_EF_country.to_csv(output_directory_path + '/generation_unit_EF_bottom_up_methode.csv')"
   ]
  },
  {
   "cell_type": "markdown",
   "metadata": {},
   "source": [
    "# Check calculated CIs (are there represent the country production)"
   ]
  },
  {
   "cell_type": "markdown",
   "metadata": {},
   "source": [
    "By comparing the used power plant production with the production per production type (from ENTSO-E) of each country, we can get an idea how trustful is our resulting CI."
   ]
  },
  {
   "cell_type": "code",
   "execution_count": 61,
   "metadata": {},
   "outputs": [],
   "source": [
    "entsoe_gen_type = load_timeseries_opsd(Bootom_up_methode_input_directory_path, 'time_series_60min_multiindex.csv')"
   ]
  },
  {
   "cell_type": "markdown",
   "metadata": {},
   "source": [
    "Show the head of the data (the data is using a multi index for the columns)"
   ]
  },
  {
   "cell_type": "code",
   "execution_count": 62,
   "metadata": {},
   "outputs": [
    {
     "data": {
      "text/html": [
       "<div>\n",
       "<style scoped>\n",
       "    .dataframe tbody tr th:only-of-type {\n",
       "        vertical-align: middle;\n",
       "    }\n",
       "\n",
       "    .dataframe tbody tr th {\n",
       "        vertical-align: top;\n",
       "    }\n",
       "\n",
       "    .dataframe thead tr th {\n",
       "        text-align: left;\n",
       "    }\n",
       "\n",
       "    .dataframe thead tr:last-of-type th {\n",
       "        text-align: right;\n",
       "    }\n",
       "</style>\n",
       "<table border=\"1\" class=\"dataframe\">\n",
       "  <thead>\n",
       "    <tr>\n",
       "      <th>region</th>\n",
       "      <th colspan=\"9\" halign=\"left\">AT</th>\n",
       "      <th>BE</th>\n",
       "      <th>...</th>\n",
       "      <th colspan=\"10\" halign=\"left\">SK</th>\n",
       "    </tr>\n",
       "    <tr>\n",
       "      <th>variable</th>\n",
       "      <th>biomass</th>\n",
       "      <th>gas</th>\n",
       "      <th>geothermal</th>\n",
       "      <th>hard_coal</th>\n",
       "      <th>hydro</th>\n",
       "      <th>other_fossil</th>\n",
       "      <th>solar</th>\n",
       "      <th>waste</th>\n",
       "      <th>wind_onshore</th>\n",
       "      <th>biomass</th>\n",
       "      <th>...</th>\n",
       "      <th>biomass</th>\n",
       "      <th>gas</th>\n",
       "      <th>hard_coal</th>\n",
       "      <th>hydro</th>\n",
       "      <th>lignite</th>\n",
       "      <th>nuclear</th>\n",
       "      <th>oil</th>\n",
       "      <th>other_fossil</th>\n",
       "      <th>other_renewable</th>\n",
       "      <th>solar</th>\n",
       "    </tr>\n",
       "    <tr>\n",
       "      <th>attribute</th>\n",
       "      <th>generation_actual</th>\n",
       "      <th>generation_actual</th>\n",
       "      <th>generation_actual</th>\n",
       "      <th>generation_actual</th>\n",
       "      <th>generation_actual</th>\n",
       "      <th>generation_actual</th>\n",
       "      <th>generation_actual</th>\n",
       "      <th>generation_actual</th>\n",
       "      <th>generation_actual</th>\n",
       "      <th>generation_actual</th>\n",
       "      <th>...</th>\n",
       "      <th>generation_actual</th>\n",
       "      <th>generation_actual</th>\n",
       "      <th>generation_actual</th>\n",
       "      <th>generation_actual</th>\n",
       "      <th>generation_actual</th>\n",
       "      <th>generation_actual</th>\n",
       "      <th>generation_actual</th>\n",
       "      <th>generation_actual</th>\n",
       "      <th>generation_actual</th>\n",
       "      <th>generation_actual</th>\n",
       "    </tr>\n",
       "    <tr>\n",
       "      <th>source</th>\n",
       "      <th>own calculation based on ENTSO-E Transparency</th>\n",
       "      <th>own calculation based on ENTSO-E Transparency</th>\n",
       "      <th>own calculation based on ENTSO-E Transparency</th>\n",
       "      <th>own calculation based on ENTSO-E Transparency</th>\n",
       "      <th>own calculation based on ENTSO-E Transparency</th>\n",
       "      <th>own calculation based on ENTSO-E Transparency</th>\n",
       "      <th>own calculation based on ENTSO-E Transparency</th>\n",
       "      <th>own calculation based on ENTSO-E Transparency</th>\n",
       "      <th>own calculation based on ENTSO-E Transparency</th>\n",
       "      <th>ENTSO-E Transparency</th>\n",
       "      <th>...</th>\n",
       "      <th>ENTSO-E Transparency</th>\n",
       "      <th>ENTSO-E Transparency</th>\n",
       "      <th>ENTSO-E Transparency</th>\n",
       "      <th>ENTSO-E Transparency</th>\n",
       "      <th>ENTSO-E Transparency</th>\n",
       "      <th>ENTSO-E Transparency</th>\n",
       "      <th>ENTSO-E Transparency</th>\n",
       "      <th>ENTSO-E Transparency</th>\n",
       "      <th>ENTSO-E Transparency</th>\n",
       "      <th>ENTSO-E Transparency</th>\n",
       "    </tr>\n",
       "    <tr>\n",
       "      <th>web</th>\n",
       "      <th>https://transparency.entsoe.eu/generation/r2/actualGenerationPerProductionType/show</th>\n",
       "      <th>https://transparency.entsoe.eu/generation/r2/actualGenerationPerProductionType/show</th>\n",
       "      <th>https://transparency.entsoe.eu/generation/r2/actualGenerationPerProductionType/show</th>\n",
       "      <th>https://transparency.entsoe.eu/generation/r2/actualGenerationPerProductionType/show</th>\n",
       "      <th>https://transparency.entsoe.eu/generation/r2/actualGenerationPerProductionType/show</th>\n",
       "      <th>https://transparency.entsoe.eu/generation/r2/actualGenerationPerProductionType/show</th>\n",
       "      <th>https://transparency.entsoe.eu/generation/r2/actualGenerationPerProductionType/show</th>\n",
       "      <th>https://transparency.entsoe.eu/generation/r2/actualGenerationPerProductionType/show</th>\n",
       "      <th>https://transparency.entsoe.eu/generation/r2/actualGenerationPerProductionType/show</th>\n",
       "      <th>https://transparency.entsoe.eu/generation/r2/actualGenerationPerProductionType/show</th>\n",
       "      <th>...</th>\n",
       "      <th>https://transparency.entsoe.eu/generation/r2/actualGenerationPerProductionType/show</th>\n",
       "      <th>https://transparency.entsoe.eu/generation/r2/actualGenerationPerProductionType/show</th>\n",
       "      <th>https://transparency.entsoe.eu/generation/r2/actualGenerationPerProductionType/show</th>\n",
       "      <th>https://transparency.entsoe.eu/generation/r2/actualGenerationPerProductionType/show</th>\n",
       "      <th>https://transparency.entsoe.eu/generation/r2/actualGenerationPerProductionType/show</th>\n",
       "      <th>https://transparency.entsoe.eu/generation/r2/actualGenerationPerProductionType/show</th>\n",
       "      <th>https://transparency.entsoe.eu/generation/r2/actualGenerationPerProductionType/show</th>\n",
       "      <th>https://transparency.entsoe.eu/generation/r2/actualGenerationPerProductionType/show</th>\n",
       "      <th>https://transparency.entsoe.eu/generation/r2/actualGenerationPerProductionType/show</th>\n",
       "      <th>https://transparency.entsoe.eu/generation/r2/actualGenerationPerProductionType/show</th>\n",
       "    </tr>\n",
       "    <tr>\n",
       "      <th>unit</th>\n",
       "      <th>MW</th>\n",
       "      <th>MW</th>\n",
       "      <th>MW</th>\n",
       "      <th>MW</th>\n",
       "      <th>MW</th>\n",
       "      <th>MW</th>\n",
       "      <th>MW</th>\n",
       "      <th>MW</th>\n",
       "      <th>MW</th>\n",
       "      <th>MW</th>\n",
       "      <th>...</th>\n",
       "      <th>MW</th>\n",
       "      <th>MW</th>\n",
       "      <th>MW</th>\n",
       "      <th>MW</th>\n",
       "      <th>MW</th>\n",
       "      <th>MW</th>\n",
       "      <th>MW</th>\n",
       "      <th>MW</th>\n",
       "      <th>MW</th>\n",
       "      <th>MW</th>\n",
       "    </tr>\n",
       "    <tr>\n",
       "      <th>utc_timestamp</th>\n",
       "      <th></th>\n",
       "      <th></th>\n",
       "      <th></th>\n",
       "      <th></th>\n",
       "      <th></th>\n",
       "      <th></th>\n",
       "      <th></th>\n",
       "      <th></th>\n",
       "      <th></th>\n",
       "      <th></th>\n",
       "      <th></th>\n",
       "      <th></th>\n",
       "      <th></th>\n",
       "      <th></th>\n",
       "      <th></th>\n",
       "      <th></th>\n",
       "      <th></th>\n",
       "      <th></th>\n",
       "      <th></th>\n",
       "      <th></th>\n",
       "      <th></th>\n",
       "    </tr>\n",
       "  </thead>\n",
       "  <tbody>\n",
       "    <tr>\n",
       "      <th>2018-01-01 00:00:00+00:00</th>\n",
       "      <td>316.0</td>\n",
       "      <td>71.0</td>\n",
       "      <td>0.0</td>\n",
       "      <td>150.0</td>\n",
       "      <td>751.0</td>\n",
       "      <td>22.0</td>\n",
       "      <td>0.0</td>\n",
       "      <td>100.0</td>\n",
       "      <td>832.0</td>\n",
       "      <td>232.46</td>\n",
       "      <td>...</td>\n",
       "      <td>28.2</td>\n",
       "      <td>175.6</td>\n",
       "      <td>48.1</td>\n",
       "      <td>455.9300</td>\n",
       "      <td>179.5</td>\n",
       "      <td>1819.3</td>\n",
       "      <td>42.3</td>\n",
       "      <td>436.5</td>\n",
       "      <td>41.4</td>\n",
       "      <td>0.0</td>\n",
       "    </tr>\n",
       "    <tr>\n",
       "      <th>2018-01-01 01:00:00+00:00</th>\n",
       "      <td>316.0</td>\n",
       "      <td>70.0</td>\n",
       "      <td>0.0</td>\n",
       "      <td>149.0</td>\n",
       "      <td>1538.0</td>\n",
       "      <td>22.0</td>\n",
       "      <td>0.0</td>\n",
       "      <td>100.0</td>\n",
       "      <td>926.0</td>\n",
       "      <td>153.58</td>\n",
       "      <td>...</td>\n",
       "      <td>28.1</td>\n",
       "      <td>172.9</td>\n",
       "      <td>48.0</td>\n",
       "      <td>499.8967</td>\n",
       "      <td>177.9</td>\n",
       "      <td>1816.7</td>\n",
       "      <td>42.0</td>\n",
       "      <td>433.8</td>\n",
       "      <td>41.0</td>\n",
       "      <td>0.0</td>\n",
       "    </tr>\n",
       "    <tr>\n",
       "      <th>2018-01-01 02:00:00+00:00</th>\n",
       "      <td>316.0</td>\n",
       "      <td>69.0</td>\n",
       "      <td>0.0</td>\n",
       "      <td>149.0</td>\n",
       "      <td>62.0</td>\n",
       "      <td>22.0</td>\n",
       "      <td>0.0</td>\n",
       "      <td>100.0</td>\n",
       "      <td>692.0</td>\n",
       "      <td>133.70</td>\n",
       "      <td>...</td>\n",
       "      <td>28.1</td>\n",
       "      <td>162.1</td>\n",
       "      <td>46.7</td>\n",
       "      <td>543.8633</td>\n",
       "      <td>174.7</td>\n",
       "      <td>1808.7</td>\n",
       "      <td>43.8</td>\n",
       "      <td>425.7</td>\n",
       "      <td>40.8</td>\n",
       "      <td>0.0</td>\n",
       "    </tr>\n",
       "    <tr>\n",
       "      <th>2018-01-01 03:00:00+00:00</th>\n",
       "      <td>316.0</td>\n",
       "      <td>72.0</td>\n",
       "      <td>0.0</td>\n",
       "      <td>149.0</td>\n",
       "      <td>1548.0</td>\n",
       "      <td>22.0</td>\n",
       "      <td>0.0</td>\n",
       "      <td>100.0</td>\n",
       "      <td>453.0</td>\n",
       "      <td>131.38</td>\n",
       "      <td>...</td>\n",
       "      <td>29.7</td>\n",
       "      <td>140.3</td>\n",
       "      <td>45.3</td>\n",
       "      <td>587.8300</td>\n",
       "      <td>168.5</td>\n",
       "      <td>1803.6</td>\n",
       "      <td>40.2</td>\n",
       "      <td>415.4</td>\n",
       "      <td>39.4</td>\n",
       "      <td>0.0</td>\n",
       "    </tr>\n",
       "    <tr>\n",
       "      <th>2018-01-01 04:00:00+00:00</th>\n",
       "      <td>316.0</td>\n",
       "      <td>75.0</td>\n",
       "      <td>0.0</td>\n",
       "      <td>149.0</td>\n",
       "      <td>40.0</td>\n",
       "      <td>22.0</td>\n",
       "      <td>0.0</td>\n",
       "      <td>100.0</td>\n",
       "      <td>321.0</td>\n",
       "      <td>131.26</td>\n",
       "      <td>...</td>\n",
       "      <td>29.5</td>\n",
       "      <td>143.5</td>\n",
       "      <td>46.4</td>\n",
       "      <td>552.4800</td>\n",
       "      <td>170.6</td>\n",
       "      <td>1809.1</td>\n",
       "      <td>40.2</td>\n",
       "      <td>421.3</td>\n",
       "      <td>40.4</td>\n",
       "      <td>0.0</td>\n",
       "    </tr>\n",
       "  </tbody>\n",
       "</table>\n",
       "<p>5 rows × 424 columns</p>\n",
       "</div>"
      ],
      "text/plain": [
       "region                                                                                                     AT  \\\n",
       "variable                                                                                              biomass   \n",
       "attribute                                                                                   generation_actual   \n",
       "source                                                          own calculation based on ENTSO-E Transparency   \n",
       "web                       https://transparency.entsoe.eu/generation/r2/actualGenerationPerProductionType/show   \n",
       "unit                                                                                                       MW   \n",
       "utc_timestamp                                                                                                   \n",
       "2018-01-01 00:00:00+00:00                                              316.0                                    \n",
       "2018-01-01 01:00:00+00:00                                              316.0                                    \n",
       "2018-01-01 02:00:00+00:00                                              316.0                                    \n",
       "2018-01-01 03:00:00+00:00                                              316.0                                    \n",
       "2018-01-01 04:00:00+00:00                                              316.0                                    \n",
       "\n",
       "region                                                                                                         \\\n",
       "variable                                                                                                  gas   \n",
       "attribute                                                                                   generation_actual   \n",
       "source                                                          own calculation based on ENTSO-E Transparency   \n",
       "web                       https://transparency.entsoe.eu/generation/r2/actualGenerationPerProductionType/show   \n",
       "unit                                                                                                       MW   \n",
       "utc_timestamp                                                                                                   \n",
       "2018-01-01 00:00:00+00:00                                               71.0                                    \n",
       "2018-01-01 01:00:00+00:00                                               70.0                                    \n",
       "2018-01-01 02:00:00+00:00                                               69.0                                    \n",
       "2018-01-01 03:00:00+00:00                                               72.0                                    \n",
       "2018-01-01 04:00:00+00:00                                               75.0                                    \n",
       "\n",
       "region                                                                                                         \\\n",
       "variable                                                                                           geothermal   \n",
       "attribute                                                                                   generation_actual   \n",
       "source                                                          own calculation based on ENTSO-E Transparency   \n",
       "web                       https://transparency.entsoe.eu/generation/r2/actualGenerationPerProductionType/show   \n",
       "unit                                                                                                       MW   \n",
       "utc_timestamp                                                                                                   \n",
       "2018-01-01 00:00:00+00:00                                                0.0                                    \n",
       "2018-01-01 01:00:00+00:00                                                0.0                                    \n",
       "2018-01-01 02:00:00+00:00                                                0.0                                    \n",
       "2018-01-01 03:00:00+00:00                                                0.0                                    \n",
       "2018-01-01 04:00:00+00:00                                                0.0                                    \n",
       "\n",
       "region                                                                                                         \\\n",
       "variable                                                                                            hard_coal   \n",
       "attribute                                                                                   generation_actual   \n",
       "source                                                          own calculation based on ENTSO-E Transparency   \n",
       "web                       https://transparency.entsoe.eu/generation/r2/actualGenerationPerProductionType/show   \n",
       "unit                                                                                                       MW   \n",
       "utc_timestamp                                                                                                   \n",
       "2018-01-01 00:00:00+00:00                                              150.0                                    \n",
       "2018-01-01 01:00:00+00:00                                              149.0                                    \n",
       "2018-01-01 02:00:00+00:00                                              149.0                                    \n",
       "2018-01-01 03:00:00+00:00                                              149.0                                    \n",
       "2018-01-01 04:00:00+00:00                                              149.0                                    \n",
       "\n",
       "region                                                                                                         \\\n",
       "variable                                                                                                hydro   \n",
       "attribute                                                                                   generation_actual   \n",
       "source                                                          own calculation based on ENTSO-E Transparency   \n",
       "web                       https://transparency.entsoe.eu/generation/r2/actualGenerationPerProductionType/show   \n",
       "unit                                                                                                       MW   \n",
       "utc_timestamp                                                                                                   \n",
       "2018-01-01 00:00:00+00:00                                              751.0                                    \n",
       "2018-01-01 01:00:00+00:00                                             1538.0                                    \n",
       "2018-01-01 02:00:00+00:00                                               62.0                                    \n",
       "2018-01-01 03:00:00+00:00                                             1548.0                                    \n",
       "2018-01-01 04:00:00+00:00                                               40.0                                    \n",
       "\n",
       "region                                                                                                         \\\n",
       "variable                                                                                         other_fossil   \n",
       "attribute                                                                                   generation_actual   \n",
       "source                                                          own calculation based on ENTSO-E Transparency   \n",
       "web                       https://transparency.entsoe.eu/generation/r2/actualGenerationPerProductionType/show   \n",
       "unit                                                                                                       MW   \n",
       "utc_timestamp                                                                                                   \n",
       "2018-01-01 00:00:00+00:00                                               22.0                                    \n",
       "2018-01-01 01:00:00+00:00                                               22.0                                    \n",
       "2018-01-01 02:00:00+00:00                                               22.0                                    \n",
       "2018-01-01 03:00:00+00:00                                               22.0                                    \n",
       "2018-01-01 04:00:00+00:00                                               22.0                                    \n",
       "\n",
       "region                                                                                                         \\\n",
       "variable                                                                                                solar   \n",
       "attribute                                                                                   generation_actual   \n",
       "source                                                          own calculation based on ENTSO-E Transparency   \n",
       "web                       https://transparency.entsoe.eu/generation/r2/actualGenerationPerProductionType/show   \n",
       "unit                                                                                                       MW   \n",
       "utc_timestamp                                                                                                   \n",
       "2018-01-01 00:00:00+00:00                                                0.0                                    \n",
       "2018-01-01 01:00:00+00:00                                                0.0                                    \n",
       "2018-01-01 02:00:00+00:00                                                0.0                                    \n",
       "2018-01-01 03:00:00+00:00                                                0.0                                    \n",
       "2018-01-01 04:00:00+00:00                                                0.0                                    \n",
       "\n",
       "region                                                                                                         \\\n",
       "variable                                                                                                waste   \n",
       "attribute                                                                                   generation_actual   \n",
       "source                                                          own calculation based on ENTSO-E Transparency   \n",
       "web                       https://transparency.entsoe.eu/generation/r2/actualGenerationPerProductionType/show   \n",
       "unit                                                                                                       MW   \n",
       "utc_timestamp                                                                                                   \n",
       "2018-01-01 00:00:00+00:00                                              100.0                                    \n",
       "2018-01-01 01:00:00+00:00                                              100.0                                    \n",
       "2018-01-01 02:00:00+00:00                                              100.0                                    \n",
       "2018-01-01 03:00:00+00:00                                              100.0                                    \n",
       "2018-01-01 04:00:00+00:00                                              100.0                                    \n",
       "\n",
       "region                                                                                                         \\\n",
       "variable                                                                                         wind_onshore   \n",
       "attribute                                                                                   generation_actual   \n",
       "source                                                          own calculation based on ENTSO-E Transparency   \n",
       "web                       https://transparency.entsoe.eu/generation/r2/actualGenerationPerProductionType/show   \n",
       "unit                                                                                                       MW   \n",
       "utc_timestamp                                                                                                   \n",
       "2018-01-01 00:00:00+00:00                                              832.0                                    \n",
       "2018-01-01 01:00:00+00:00                                              926.0                                    \n",
       "2018-01-01 02:00:00+00:00                                              692.0                                    \n",
       "2018-01-01 03:00:00+00:00                                              453.0                                    \n",
       "2018-01-01 04:00:00+00:00                                              321.0                                    \n",
       "\n",
       "region                                                                                                     BE  \\\n",
       "variable                                                                                              biomass   \n",
       "attribute                                                                                   generation_actual   \n",
       "source                                                                                   ENTSO-E Transparency   \n",
       "web                       https://transparency.entsoe.eu/generation/r2/actualGenerationPerProductionType/show   \n",
       "unit                                                                                                       MW   \n",
       "utc_timestamp                                                                                                   \n",
       "2018-01-01 00:00:00+00:00                                             232.46                                    \n",
       "2018-01-01 01:00:00+00:00                                             153.58                                    \n",
       "2018-01-01 02:00:00+00:00                                             133.70                                    \n",
       "2018-01-01 03:00:00+00:00                                             131.38                                    \n",
       "2018-01-01 04:00:00+00:00                                             131.26                                    \n",
       "\n",
       "region                     ...  \\\n",
       "variable                   ...   \n",
       "attribute                  ...   \n",
       "source                     ...   \n",
       "web                        ...   \n",
       "unit                       ...   \n",
       "utc_timestamp              ...   \n",
       "2018-01-01 00:00:00+00:00  ...   \n",
       "2018-01-01 01:00:00+00:00  ...   \n",
       "2018-01-01 02:00:00+00:00  ...   \n",
       "2018-01-01 03:00:00+00:00  ...   \n",
       "2018-01-01 04:00:00+00:00  ...   \n",
       "\n",
       "region                                                                                                     SK  \\\n",
       "variable                                                                                              biomass   \n",
       "attribute                                                                                   generation_actual   \n",
       "source                                                                                   ENTSO-E Transparency   \n",
       "web                       https://transparency.entsoe.eu/generation/r2/actualGenerationPerProductionType/show   \n",
       "unit                                                                                                       MW   \n",
       "utc_timestamp                                                                                                   \n",
       "2018-01-01 00:00:00+00:00                                               28.2                                    \n",
       "2018-01-01 01:00:00+00:00                                               28.1                                    \n",
       "2018-01-01 02:00:00+00:00                                               28.1                                    \n",
       "2018-01-01 03:00:00+00:00                                               29.7                                    \n",
       "2018-01-01 04:00:00+00:00                                               29.5                                    \n",
       "\n",
       "region                                                                                                         \\\n",
       "variable                                                                                                  gas   \n",
       "attribute                                                                                   generation_actual   \n",
       "source                                                                                   ENTSO-E Transparency   \n",
       "web                       https://transparency.entsoe.eu/generation/r2/actualGenerationPerProductionType/show   \n",
       "unit                                                                                                       MW   \n",
       "utc_timestamp                                                                                                   \n",
       "2018-01-01 00:00:00+00:00                                              175.6                                    \n",
       "2018-01-01 01:00:00+00:00                                              172.9                                    \n",
       "2018-01-01 02:00:00+00:00                                              162.1                                    \n",
       "2018-01-01 03:00:00+00:00                                              140.3                                    \n",
       "2018-01-01 04:00:00+00:00                                              143.5                                    \n",
       "\n",
       "region                                                                                                         \\\n",
       "variable                                                                                            hard_coal   \n",
       "attribute                                                                                   generation_actual   \n",
       "source                                                                                   ENTSO-E Transparency   \n",
       "web                       https://transparency.entsoe.eu/generation/r2/actualGenerationPerProductionType/show   \n",
       "unit                                                                                                       MW   \n",
       "utc_timestamp                                                                                                   \n",
       "2018-01-01 00:00:00+00:00                                               48.1                                    \n",
       "2018-01-01 01:00:00+00:00                                               48.0                                    \n",
       "2018-01-01 02:00:00+00:00                                               46.7                                    \n",
       "2018-01-01 03:00:00+00:00                                               45.3                                    \n",
       "2018-01-01 04:00:00+00:00                                               46.4                                    \n",
       "\n",
       "region                                                                                                         \\\n",
       "variable                                                                                                hydro   \n",
       "attribute                                                                                   generation_actual   \n",
       "source                                                                                   ENTSO-E Transparency   \n",
       "web                       https://transparency.entsoe.eu/generation/r2/actualGenerationPerProductionType/show   \n",
       "unit                                                                                                       MW   \n",
       "utc_timestamp                                                                                                   \n",
       "2018-01-01 00:00:00+00:00                                           455.9300                                    \n",
       "2018-01-01 01:00:00+00:00                                           499.8967                                    \n",
       "2018-01-01 02:00:00+00:00                                           543.8633                                    \n",
       "2018-01-01 03:00:00+00:00                                           587.8300                                    \n",
       "2018-01-01 04:00:00+00:00                                           552.4800                                    \n",
       "\n",
       "region                                                                                                         \\\n",
       "variable                                                                                              lignite   \n",
       "attribute                                                                                   generation_actual   \n",
       "source                                                                                   ENTSO-E Transparency   \n",
       "web                       https://transparency.entsoe.eu/generation/r2/actualGenerationPerProductionType/show   \n",
       "unit                                                                                                       MW   \n",
       "utc_timestamp                                                                                                   \n",
       "2018-01-01 00:00:00+00:00                                              179.5                                    \n",
       "2018-01-01 01:00:00+00:00                                              177.9                                    \n",
       "2018-01-01 02:00:00+00:00                                              174.7                                    \n",
       "2018-01-01 03:00:00+00:00                                              168.5                                    \n",
       "2018-01-01 04:00:00+00:00                                              170.6                                    \n",
       "\n",
       "region                                                                                                         \\\n",
       "variable                                                                                              nuclear   \n",
       "attribute                                                                                   generation_actual   \n",
       "source                                                                                   ENTSO-E Transparency   \n",
       "web                       https://transparency.entsoe.eu/generation/r2/actualGenerationPerProductionType/show   \n",
       "unit                                                                                                       MW   \n",
       "utc_timestamp                                                                                                   \n",
       "2018-01-01 00:00:00+00:00                                             1819.3                                    \n",
       "2018-01-01 01:00:00+00:00                                             1816.7                                    \n",
       "2018-01-01 02:00:00+00:00                                             1808.7                                    \n",
       "2018-01-01 03:00:00+00:00                                             1803.6                                    \n",
       "2018-01-01 04:00:00+00:00                                             1809.1                                    \n",
       "\n",
       "region                                                                                                         \\\n",
       "variable                                                                                                  oil   \n",
       "attribute                                                                                   generation_actual   \n",
       "source                                                                                   ENTSO-E Transparency   \n",
       "web                       https://transparency.entsoe.eu/generation/r2/actualGenerationPerProductionType/show   \n",
       "unit                                                                                                       MW   \n",
       "utc_timestamp                                                                                                   \n",
       "2018-01-01 00:00:00+00:00                                               42.3                                    \n",
       "2018-01-01 01:00:00+00:00                                               42.0                                    \n",
       "2018-01-01 02:00:00+00:00                                               43.8                                    \n",
       "2018-01-01 03:00:00+00:00                                               40.2                                    \n",
       "2018-01-01 04:00:00+00:00                                               40.2                                    \n",
       "\n",
       "region                                                                                                         \\\n",
       "variable                                                                                         other_fossil   \n",
       "attribute                                                                                   generation_actual   \n",
       "source                                                                                   ENTSO-E Transparency   \n",
       "web                       https://transparency.entsoe.eu/generation/r2/actualGenerationPerProductionType/show   \n",
       "unit                                                                                                       MW   \n",
       "utc_timestamp                                                                                                   \n",
       "2018-01-01 00:00:00+00:00                                              436.5                                    \n",
       "2018-01-01 01:00:00+00:00                                              433.8                                    \n",
       "2018-01-01 02:00:00+00:00                                              425.7                                    \n",
       "2018-01-01 03:00:00+00:00                                              415.4                                    \n",
       "2018-01-01 04:00:00+00:00                                              421.3                                    \n",
       "\n",
       "region                                                                                                         \\\n",
       "variable                                                                                      other_renewable   \n",
       "attribute                                                                                   generation_actual   \n",
       "source                                                                                   ENTSO-E Transparency   \n",
       "web                       https://transparency.entsoe.eu/generation/r2/actualGenerationPerProductionType/show   \n",
       "unit                                                                                                       MW   \n",
       "utc_timestamp                                                                                                   \n",
       "2018-01-01 00:00:00+00:00                                               41.4                                    \n",
       "2018-01-01 01:00:00+00:00                                               41.0                                    \n",
       "2018-01-01 02:00:00+00:00                                               40.8                                    \n",
       "2018-01-01 03:00:00+00:00                                               39.4                                    \n",
       "2018-01-01 04:00:00+00:00                                               40.4                                    \n",
       "\n",
       "region                                                                                                         \n",
       "variable                                                                                                solar  \n",
       "attribute                                                                                   generation_actual  \n",
       "source                                                                                   ENTSO-E Transparency  \n",
       "web                       https://transparency.entsoe.eu/generation/r2/actualGenerationPerProductionType/show  \n",
       "unit                                                                                                       MW  \n",
       "utc_timestamp                                                                                                  \n",
       "2018-01-01 00:00:00+00:00                                                0.0                                   \n",
       "2018-01-01 01:00:00+00:00                                                0.0                                   \n",
       "2018-01-01 02:00:00+00:00                                                0.0                                   \n",
       "2018-01-01 03:00:00+00:00                                                0.0                                   \n",
       "2018-01-01 04:00:00+00:00                                                0.0                                   \n",
       "\n",
       "[5 rows x 424 columns]"
      ]
     },
     "execution_count": 62,
     "metadata": {},
     "output_type": "execute_result"
    }
   ],
   "source": [
    "entsoe_gen_type.head()"
   ]
  },
  {
   "cell_type": "markdown",
   "metadata": {},
   "source": [
    "Filter the data to the countries and technologies that are covert from our method\n",
    "- countries\n",
    "- technologies"
   ]
  },
  {
   "cell_type": "code",
   "execution_count": 63,
   "metadata": {},
   "outputs": [],
   "source": [
    "entsoe_gen_type_pp = entsoe_gen_type[generation_unit_info_validated.EUTL_countrycode.unique()]\n",
    "entsoe_gen_type_pp = entsoe_gen_type_pp.loc[:,(slice(None),generation_unit_info_validated.ProductionTypeName.unique())].sum()"
   ]
  },
  {
   "cell_type": "markdown",
   "metadata": {},
   "source": [
    "Reset the multiindex from pandas and drop not used columns"
   ]
  },
  {
   "cell_type": "code",
   "execution_count": 64,
   "metadata": {},
   "outputs": [],
   "source": [
    "entsoe_gen_type_pp = entsoe_gen_type_pp.reset_index()\n",
    "entsoe_gen_type_pp = entsoe_gen_type_pp.drop(columns=['attribute', 'source', 'web', 'unit'])"
   ]
  },
  {
   "cell_type": "markdown",
   "metadata": {},
   "source": [
    "Rename columns"
   ]
  },
  {
   "cell_type": "code",
   "execution_count": 65,
   "metadata": {},
   "outputs": [],
   "source": [
    "entsoe_gen_type_pp = entsoe_gen_type_pp.rename(columns={0:'generation_per_type_2018_ENTSO-E','region':'EUTL_countrycode','variable':'ProductionTypeName'})"
   ]
  },
  {
   "cell_type": "markdown",
   "metadata": {},
   "source": [
    "Group production for each technology for the individual power plants"
   ]
  },
  {
   "cell_type": "code",
   "execution_count": 66,
   "metadata": {},
   "outputs": [],
   "source": [
    "Powerplants_gen_type_year = pd.DataFrame(generation_unit_info_validated.groupby(['EUTL_countrycode','ProductionTypeName']).sum()['generation_2018'])"
   ]
  },
  {
   "cell_type": "markdown",
   "metadata": {},
   "source": [
    "Reset the multiindex from pandas and drop not used columns"
   ]
  },
  {
   "cell_type": "code",
   "execution_count": 67,
   "metadata": {},
   "outputs": [],
   "source": [
    "Powerplants_gen_type_year = Powerplants_gen_type_year.reset_index()"
   ]
  },
  {
   "cell_type": "code",
   "execution_count": 68,
   "metadata": {},
   "outputs": [],
   "source": [
    "Powerplants_gen_type_year = Powerplants_gen_type_year.rename(columns={'generation_2018':'verified_generation_per_unit_2018_ENTSO-E'})"
   ]
  },
  {
   "cell_type": "code",
   "execution_count": 70,
   "metadata": {},
   "outputs": [],
   "source": [
    "gen_data_comparison = entsoe_gen_type_pp.merge(Powerplants_gen_type_year, on=['EUTL_countrycode','ProductionTypeName'])"
   ]
  },
  {
   "cell_type": "code",
   "execution_count": 71,
   "metadata": {},
   "outputs": [
    {
     "data": {
      "text/html": [
       "<div>\n",
       "<style scoped>\n",
       "    .dataframe tbody tr th:only-of-type {\n",
       "        vertical-align: middle;\n",
       "    }\n",
       "\n",
       "    .dataframe tbody tr th {\n",
       "        vertical-align: top;\n",
       "    }\n",
       "\n",
       "    .dataframe thead th {\n",
       "        text-align: right;\n",
       "    }\n",
       "</style>\n",
       "<table border=\"1\" class=\"dataframe\">\n",
       "  <thead>\n",
       "    <tr style=\"text-align: right;\">\n",
       "      <th></th>\n",
       "      <th>EUTL_countrycode</th>\n",
       "      <th>ProductionTypeName</th>\n",
       "      <th>generation_per_type_2018_ENTSO-E</th>\n",
       "      <th>verified_generation_per_unit_2018_ENTSO-E</th>\n",
       "    </tr>\n",
       "  </thead>\n",
       "  <tbody>\n",
       "    <tr>\n",
       "      <th>0</th>\n",
       "      <td>AT</td>\n",
       "      <td>gas</td>\n",
       "      <td>8.168009e+06</td>\n",
       "      <td>3.895790e+06</td>\n",
       "    </tr>\n",
       "    <tr>\n",
       "      <th>1</th>\n",
       "      <td>AT</td>\n",
       "      <td>hard_coal</td>\n",
       "      <td>1.422450e+06</td>\n",
       "      <td>6.938571e+05</td>\n",
       "    </tr>\n",
       "    <tr>\n",
       "      <th>2</th>\n",
       "      <td>DK</td>\n",
       "      <td>gas</td>\n",
       "      <td>2.843756e+06</td>\n",
       "      <td>2.734431e+05</td>\n",
       "    </tr>\n",
       "    <tr>\n",
       "      <th>3</th>\n",
       "      <td>DK</td>\n",
       "      <td>hard_coal</td>\n",
       "      <td>6.426351e+06</td>\n",
       "      <td>5.161056e+06</td>\n",
       "    </tr>\n",
       "    <tr>\n",
       "      <th>4</th>\n",
       "      <td>BE</td>\n",
       "      <td>gas</td>\n",
       "      <td>2.230368e+07</td>\n",
       "      <td>1.096068e+07</td>\n",
       "    </tr>\n",
       "    <tr>\n",
       "      <th>5</th>\n",
       "      <td>DE</td>\n",
       "      <td>gas</td>\n",
       "      <td>4.295907e+07</td>\n",
       "      <td>1.318445e+07</td>\n",
       "    </tr>\n",
       "    <tr>\n",
       "      <th>6</th>\n",
       "      <td>DE</td>\n",
       "      <td>hard_coal</td>\n",
       "      <td>7.154638e+07</td>\n",
       "      <td>5.488206e+07</td>\n",
       "    </tr>\n",
       "    <tr>\n",
       "      <th>7</th>\n",
       "      <td>DE</td>\n",
       "      <td>lignite</td>\n",
       "      <td>1.283613e+08</td>\n",
       "      <td>1.292305e+08</td>\n",
       "    </tr>\n",
       "    <tr>\n",
       "      <th>8</th>\n",
       "      <td>FI</td>\n",
       "      <td>gas</td>\n",
       "      <td>5.000652e+06</td>\n",
       "      <td>1.969562e+06</td>\n",
       "    </tr>\n",
       "    <tr>\n",
       "      <th>9</th>\n",
       "      <td>FI</td>\n",
       "      <td>hard_coal</td>\n",
       "      <td>5.971642e+06</td>\n",
       "      <td>4.093411e+06</td>\n",
       "    </tr>\n",
       "  </tbody>\n",
       "</table>\n",
       "</div>"
      ],
      "text/plain": [
       "  EUTL_countrycode ProductionTypeName  generation_per_type_2018_ENTSO-E  \\\n",
       "0               AT                gas                      8.168009e+06   \n",
       "1               AT          hard_coal                      1.422450e+06   \n",
       "2               DK                gas                      2.843756e+06   \n",
       "3               DK          hard_coal                      6.426351e+06   \n",
       "4               BE                gas                      2.230368e+07   \n",
       "5               DE                gas                      4.295907e+07   \n",
       "6               DE          hard_coal                      7.154638e+07   \n",
       "7               DE            lignite                      1.283613e+08   \n",
       "8               FI                gas                      5.000652e+06   \n",
       "9               FI          hard_coal                      5.971642e+06   \n",
       "\n",
       "   verified_generation_per_unit_2018_ENTSO-E  \n",
       "0                               3.895790e+06  \n",
       "1                               6.938571e+05  \n",
       "2                               2.734431e+05  \n",
       "3                               5.161056e+06  \n",
       "4                               1.096068e+07  \n",
       "5                               1.318445e+07  \n",
       "6                               5.488206e+07  \n",
       "7                               1.292305e+08  \n",
       "8                               1.969562e+06  \n",
       "9                               4.093411e+06  "
      ]
     },
     "execution_count": 71,
     "metadata": {},
     "output_type": "execute_result"
    }
   ],
   "source": [
    "gen_data_comparison.head(10)"
   ]
  },
  {
   "cell_type": "code",
   "execution_count": 72,
   "metadata": {},
   "outputs": [],
   "source": [
    "gen_data_comparison['missing_gen'] = gen_data_comparison['generation_per_type_2018_ENTSO-E'] - gen_data_comparison['verified_generation_per_unit_2018_ENTSO-E']"
   ]
  },
  {
   "cell_type": "code",
   "execution_count": 73,
   "metadata": {},
   "outputs": [],
   "source": [
    "gen_data_comparison['gen_covered_pro'] = round((100 / gen_data_comparison['generation_per_type_2018_ENTSO-E']) * gen_data_comparison['verified_generation_per_unit_2018_ENTSO-E'])"
   ]
  },
  {
   "cell_type": "markdown",
   "metadata": {},
   "source": [
    "covered generation per country and generation type"
   ]
  },
  {
   "cell_type": "code",
   "execution_count": 82,
   "metadata": {},
   "outputs": [
    {
     "data": {
      "text/plain": [
       "[<matplotlib.lines.Line2D at 0x13d023fecc8>]"
      ]
     },
     "execution_count": 82,
     "metadata": {},
     "output_type": "execute_result"
    },
    {
     "data": {
      "image/png": "[encoded data removed]",
      "text/plain": [
       "<Figure size 1080x720 with 1 Axes>"
      ]
     },
     "metadata": {},
     "output_type": "display_data"
    }
   ],
   "source": [
    "ax = sns.barplot(x=\"EUTL_countrycode\", y=\"gen_covered_pro\", hue=\"ProductionTypeName\", data=gen_data_comparison)\n",
    "ax.plot([-1, 18], [30, 30], 'r--')"
   ]
  },
  {
   "cell_type": "markdown",
   "metadata": {},
   "source": [
    "Mean coverage per country"
   ]
  },
  {
   "cell_type": "code",
   "execution_count": 78,
   "metadata": {},
   "outputs": [
    {
     "data": {
      "text/plain": [
       "[<matplotlib.lines.Line2D at 0x13d01a928c8>]"
      ]
     },
     "execution_count": 78,
     "metadata": {},
     "output_type": "execute_result"
    },
    {
     "data": {
      "image/png": "[encoded data removed]",
      "text/plain": [
       "<Figure size 1080x720 with 1 Axes>"
      ]
     },
     "metadata": {},
     "output_type": "display_data"
    }
   ],
   "source": [
    "fig, ax = plt.subplots(1, 1)\n",
    "ax = gen_data_comparison.groupby(['EUTL_countrycode']).mean()['gen_covered_pro'].plot(kind='bar', title='Mean coverage per country', ylabel='Coverage [%]')\n",
    "ax.plot([-10, 100], [30, 30], 'r--')"
   ]
  },
  {
   "cell_type": "code",
   "execution_count": null,
   "metadata": {},
   "outputs": [],
   "source": [
    "fig.savefig(os.path.join(output_directory_path + '/_mean_coverage_of_elec_production_per_country.png'))"
   ]
  },
  {
   "cell_type": "markdown",
   "metadata": {},
   "source": [
    "Mean coverage over all countries"
   ]
  },
  {
   "cell_type": "code",
   "execution_count": null,
   "metadata": {},
   "outputs": [],
   "source": [
    "gen_data_comparison.gen_covered_pro.mean()"
   ]
  },
  {
   "cell_type": "markdown",
   "metadata": {},
   "source": [
    "### Carbon intensity per technology and country"
   ]
  },
  {
   "cell_type": "markdown",
   "metadata": {},
   "source": [
    "Take only the countries and technologies where at least 30 % of the generation is connected to CO2 emissions."
   ]
  },
  {
   "cell_type": "code",
   "execution_count": null,
   "metadata": {},
   "outputs": [],
   "source": [
    "gen_data_comparison['Verified_for_CI_value'] = (round(gen_data_comparison['gen_covered_pro']) > 30)"
   ]
  },
  {
   "cell_type": "code",
   "execution_count": null,
   "metadata": {},
   "outputs": [],
   "source": [
    "gen_data_comparison.head(3)"
   ]
  },
  {
   "cell_type": "code",
   "execution_count": null,
   "metadata": {},
   "outputs": [],
   "source": [
    "gen_data_comparison = gen_data_comparison.set_index(['MapCode','ProductionTypeName'])"
   ]
  },
  {
   "cell_type": "code",
   "execution_count": null,
   "metadata": {},
   "outputs": [],
   "source": [
    "CI_PP_per_tech_country = EF_per_tech_country.reset_index().rename(columns={0:'PP_EF','countrycode':'MapCode'}).set_index(['MapCode','ProductionTypeName'])"
   ]
  },
  {
   "cell_type": "markdown",
   "metadata": {},
   "source": [
    "Transfer the verification of CI too the result"
   ]
  },
  {
   "cell_type": "code",
   "execution_count": null,
   "metadata": {},
   "outputs": [],
   "source": [
    "CI_PP_per_tech_country['Verified_CI_value'] = gen_data_comparison['Verified_for_CI_value']"
   ]
  },
  {
   "cell_type": "code",
   "execution_count": null,
   "metadata": {},
   "outputs": [],
   "source": [
    "CI_PP_per_tech_country['EF_round'] = round(CI_PP_per_tech_country['PP_EF'],2)"
   ]
  },
  {
   "cell_type": "markdown",
   "metadata": {},
   "source": [
    "export the CIs to csv"
   ]
  },
  {
   "cell_type": "code",
   "execution_count": null,
   "metadata": {},
   "outputs": [],
   "source": [
    "CI_PP_per_tech_country.to_csv(output_directory_path + '/CI_bottom_up_methode.csv')"
   ]
  },
  {
   "cell_type": "markdown",
   "metadata": {},
   "source": [
    "## Mean carbon intensity per country "
   ]
  },
  {
   "cell_type": "code",
   "execution_count": null,
   "metadata": {},
   "outputs": [],
   "source": [
    "EF_per_country = generation_unit_info_validated.groupby(['countrycode']).mean()['PP_EF']"
   ]
  },
  {
   "cell_type": "code",
   "execution_count": null,
   "metadata": {},
   "outputs": [],
   "source": [
    "EF_per_country"
   ]
  },
  {
   "cell_type": "code",
   "execution_count": null,
   "metadata": {},
   "outputs": [],
   "source": []
  },
  {
   "cell_type": "code",
   "execution_count": null,
   "metadata": {},
   "outputs": [],
   "source": []
  },
  {
   "cell_type": "markdown",
   "metadata": {},
   "source": [
    "# Carbon intensity for power generation "
   ]
  },
  {
   "cell_type": "code",
   "execution_count": null,
   "metadata": {},
   "outputs": [],
   "source": [
    "entsoe_gen_type_sum = entsoe_gen_type[Powerplants_emission_EU_CI_validated.MapCode.unique()].sum().reset_index().drop(columns=['attribute', 'source', 'web', 'unit'])"
   ]
  },
  {
   "cell_type": "code",
   "execution_count": null,
   "metadata": {},
   "outputs": [],
   "source": [
    "entsoe_gen_type_sum = entsoe_gen_type_sum.rename(columns={0:'generation_per_type_2018_ENTSO-E','region':'MapCode','variable':'ProductionTypeName'})"
   ]
  },
  {
   "cell_type": "code",
   "execution_count": null,
   "metadata": {},
   "outputs": [],
   "source": [
    "entsoe_gen_type_sum.set_index(['MapCode', 'ProductionTypeName'], inplace = True)"
   ]
  },
  {
   "cell_type": "code",
   "execution_count": null,
   "metadata": {},
   "outputs": [],
   "source": [
    "entsoe_gen_type_sum['emissions'] = entsoe_gen_type_sum['generation_per_type_2018_ENTSO-E'] * CI_PP_per_tech_country['CI']"
   ]
  },
  {
   "cell_type": "code",
   "execution_count": null,
   "metadata": {},
   "outputs": [],
   "source": [
    "entsoe_gen_type_sum = entsoe_gen_type_sum.reset_index()"
   ]
  },
  {
   "cell_type": "code",
   "execution_count": null,
   "metadata": {},
   "outputs": [],
   "source": [
    "CI_country = entsoe_gen_type_sum.groupby('MapCode').sum()['emissions'] / entsoe_gen_type_sum.groupby('MapCode').sum()['generation_per_type_2018_ENTSO-E']"
   ]
  },
  {
   "cell_type": "code",
   "execution_count": null,
   "metadata": {},
   "outputs": [],
   "source": [
    "entsoe_gen_type_sum.groupby('MapCode').sum()['generation_per_type_2018_ENTSO-E'].plot(kind='pie')"
   ]
  },
  {
   "cell_type": "code",
   "execution_count": null,
   "metadata": {},
   "outputs": [],
   "source": [
    "CI_country.to_csv(output_directory_path + '/CI_country_bottom_up_methode.csv')"
   ]
  },
  {
   "cell_type": "code",
   "execution_count": null,
   "metadata": {},
   "outputs": [],
   "source": []
  },
  {
   "cell_type": "code",
   "execution_count": null,
   "metadata": {},
   "outputs": [],
   "source": []
  },
  {
   "cell_type": "code",
   "execution_count": null,
   "metadata": {},
   "outputs": [],
   "source": []
  },
  {
   "cell_type": "code",
   "execution_count": null,
   "metadata": {},
   "outputs": [],
   "source": [
    "CI_eea = pd.read_csv(output_directory_path + '/CI_top_down_methode.csv', index_col='Year')/1000"
   ]
  },
  {
   "cell_type": "code",
   "execution_count": null,
   "metadata": {},
   "outputs": [],
   "source": [
    "CI_eea.loc[2018]"
   ]
  },
  {
   "cell_type": "code",
   "execution_count": null,
   "metadata": {},
   "outputs": [],
   "source": [
    "df = pd.concat([CI_eea.loc[2018],CI_country], axis=1)\n",
    "df.rename(columns={0:'Bottom up method',2018:'Top down method'}, inplace=True)\n",
    "\n",
    "# making a nice plot:\n",
    "df.plot(kind='barh', label=['Calculation','asd'])\n",
    "\n",
    "\n",
    "#plt.barh(CI,label='Calculation',height=0.4, align='edge',color='b')\n",
    "#plt.barh(CI_eea.loc[2018],label='EEA entry',height=-0.4,align='edge',color='y')\n",
    "\n",
    "plt.xlabel('Carbon intensity in kg/kWh')\n",
    "plt.ylabel('Countrys')\n",
    "plt.title('Validation of calculated country and technology specific carbon intensities',fontweight='bold')\n",
    "plt.legend()\n",
    "\n",
    "plt.savefig(os.path.join(output_directory_path + '/_validation_of_calculation.png'))\n"
   ]
  },
  {
   "cell_type": "code",
   "execution_count": null,
   "metadata": {},
   "outputs": [],
   "source": [
    "\n"
   ]
  },
  {
   "cell_type": "markdown",
   "metadata": {},
   "source": [
    "## Some other checks"
   ]
  },
  {
   "cell_type": "markdown",
   "metadata": {},
   "source": [
    "Plausibility check for EF from power plants"
   ]
  },
  {
   "cell_type": "code",
   "execution_count": null,
   "metadata": {},
   "outputs": [],
   "source": [
    "# number of PP from matching\n",
    "len(Powerplants_emission_EU_CI)"
   ]
  },
  {
   "cell_type": "code",
   "execution_count": null,
   "metadata": {},
   "outputs": [],
   "source": [
    "# validated PP with EF\n",
    "len(Powerplants_emission_EU_CI_validated)"
   ]
  },
  {
   "cell_type": "code",
   "execution_count": null,
   "metadata": {},
   "outputs": [],
   "source": [
    "# covered generation by validated PP\n",
    "Powerplants_emission_EU_CI_validated.yearly_generation_2018.sum()"
   ]
  },
  {
   "cell_type": "code",
   "execution_count": null,
   "metadata": {},
   "outputs": [],
   "source": [
    "# conv. generation in 2018\n",
    "entsoe_gen_type['generation_per_type_2018_ENTSO-E'].sum()"
   ]
  },
  {
   "cell_type": "code",
   "execution_count": null,
   "metadata": {},
   "outputs": [],
   "source": [
    "# in % of validated PP generation\n",
    "(100 / (entsoe_gen_type['generation_per_type_2018_ENTSO-E'].sum())) * Powerplants_emission_EU_CI_validated.yearly_generation_2018.sum()"
   ]
  },
  {
   "cell_type": "code",
   "execution_count": null,
   "metadata": {},
   "outputs": [],
   "source": [
    "pl_match = unit_matching_EU[unit_matching_EU.countrycode == 'PL']"
   ]
  },
  {
   "cell_type": "code",
   "execution_count": null,
   "metadata": {},
   "outputs": [],
   "source": [
    "pl_match[pl_match.EUTL_ID == 1]"
   ]
  },
  {
   "cell_type": "code",
   "execution_count": null,
   "metadata": {},
   "outputs": [],
   "source": [
    "Powerplants_emission_EU_CI[Powerplants_emission_EU_CI.PowerSystemResourceName.str.contains(\"Bełchatów\")]"
   ]
  },
  {
   "cell_type": "code",
   "execution_count": null,
   "metadata": {},
   "outputs": [],
   "source": []
  },
  {
   "cell_type": "code",
   "execution_count": null,
   "metadata": {},
   "outputs": [],
   "source": [
    "generation_per_unit"
   ]
  },
  {
   "cell_type": "code",
   "execution_count": null,
   "metadata": {},
   "outputs": [],
   "source": [
    "generation_unit_info[generation_unit_info.PowerSystemResourceName.str.contains(\"Bełchatów\")]"
   ]
  },
  {
   "cell_type": "code",
   "execution_count": null,
   "metadata": {},
   "outputs": [],
   "source": [
    "PL = EUTL_emissions[EUTL_emissions.REGISTRY_CODE == 'PL']"
   ]
  },
  {
   "cell_type": "code",
   "execution_count": null,
   "metadata": {},
   "outputs": [],
   "source": [
    "PL = PL[PL.VERIFIED_EMISSIONS_2018 != 'Excluded']"
   ]
  },
  {
   "cell_type": "code",
   "execution_count": null,
   "metadata": {},
   "outputs": [],
   "source": [
    "PL.VERIFIED_EMISSIONS_2018 = PL.VERIFIED_EMISSIONS_2018.astype(float)"
   ]
  },
  {
   "cell_type": "code",
   "execution_count": null,
   "metadata": {},
   "outputs": [],
   "source": [
    "PL.sort_values(by='VERIFIED_EMISSIONS_2018', ascending=False)"
   ]
  },
  {
   "cell_type": "code",
   "execution_count": null,
   "metadata": {},
   "outputs": [],
   "source": [
    "coverage_val = len(Powerplants_emission_EU_CI) / len(generation_unit_info.query('ProductionTypeName in @tech'))\n",
    "print(\"After validation we were able to allocate \" + str(coverage_val*100) + \" % of the power plants an emission value.\")"
   ]
  },
  {
   "cell_type": "markdown",
   "metadata": {},
   "source": []
  },
  {
   "cell_type": "code",
   "execution_count": null,
   "metadata": {},
   "outputs": [],
   "source": [
    "Powerplants_emission_EU_CI.yearly_generation_2018.sum()\n",
    "\n",
    "coverage = len(Powerplants_emission_EU_CI) / len(generation_unit_info.query('ProductionTypeName in @tech'))\n",
    "print(\"We were able to allocate \" + str(coverage*100) + \" % of the power plants an emission value.\")"
   ]
  },
  {
   "cell_type": "code",
   "execution_count": null,
   "metadata": {},
   "outputs": [],
   "source": [
    "# Plot CI per country for the technologies (drei Plots)"
   ]
  },
  {
   "cell_type": "code",
   "execution_count": null,
   "metadata": {},
   "outputs": [],
   "source": [
    "Powerplants_emission_EU_CI.columns"
   ]
  },
  {
   "cell_type": "code",
   "execution_count": null,
   "metadata": {},
   "outputs": [],
   "source": [
    "# Teste wie viel Energie decken wir mit dieser Methode ab?\n",
    "# Dafür welche Daten verwenden (Problem Gross vs Net)\n",
    "# Gibt es von Eurostat eine Net Version (ich glaube ja pro Monat)\n",
    "# Dann Plot pro Land wie viel Dekcen wir ab (0 bis 1)\n",
    "\n"
   ]
  },
  {
   "cell_type": "code",
   "execution_count": null,
   "metadata": {},
   "outputs": [],
   "source": [
    "# wie könnten wir ein representatives sample bilder. Das soll uns dann die CI ausrechnen\n",
    "\n",
    "# Wie machen wir den Vergleich zur anderen Methode?"
   ]
  },
  {
   "cell_type": "code",
   "execution_count": null,
   "metadata": {},
   "outputs": [],
   "source": [
    "# Jetzt können wir dann CI pro technologie bestimmen. "
   ]
  },
  {
   "cell_type": "code",
   "execution_count": null,
   "metadata": {},
   "outputs": [],
   "source": []
  },
  {
   "cell_type": "markdown",
   "metadata": {},
   "source": [
    "vergleich unsere Jährliche Erzeugung mit denen, die wir von Ember bekommen haben (in 12, in Gfuellner Code) . Die unserscheidet sich. Was macht Ember noch mit den Daten?"
   ]
  },
  {
   "cell_type": "code",
   "execution_count": null,
   "metadata": {},
   "outputs": [],
   "source": [
    "#generation_unit_info[generation_unit_info.PowerSystemResourceName == 'Scheldelaan Exxonmobil']"
   ]
  },
  {
   "cell_type": "code",
   "execution_count": null,
   "metadata": {},
   "outputs": [],
   "source": []
  },
  {
   "cell_type": "code",
   "execution_count": null,
   "metadata": {},
   "outputs": [],
   "source": [
    "pd.merge(generation_unit_info, unit_matching_EU, on='PowerSystemResourceName', how='left')"
   ]
  },
  {
   "cell_type": "markdown",
   "metadata": {},
   "source": [
    "## Some check up numbers"
   ]
  },
  {
   "cell_type": "code",
   "execution_count": null,
   "metadata": {},
   "outputs": [],
   "source": [
    "tech = ['Fossil Gas', 'Fossil Hard coal',\n",
    "       'Fossil Brown coal/Lignite', 'Other']\n",
    "\n",
    "print('number of pp in data set that has emissions that we want to match')\n",
    "print(len(generation_unit_info.query('ProductionTypeName in @tech')))\n",
    "\n",
    "print('generation in MWh in 2018 from the unis')\n",
    "print(generation_unit_info.query('ProductionTypeName in @tech').yearly_generation_2018.sum())\n",
    "\n",
    "\n",
    "(100/(generation_unit_info.query('ProductionTypeName in @tech').yearly_generation_2018.sum()))* Powerplants_emission_EU_CI.yearly_generation_2018.sum()"
   ]
  },
  {
   "cell_type": "code",
   "execution_count": null,
   "metadata": {},
   "outputs": [],
   "source": [
    "generation_unit_info_matched[generation_unit_info_matched.ProductionTypeName == 'Other'].sort_values(by='yearly_generation_2018', ascending=False)"
   ]
  },
  {
   "cell_type": "code",
   "execution_count": null,
   "metadata": {},
   "outputs": [],
   "source": [
    "generation_unit_info.ProductionTypeName.unique()"
   ]
  },
  {
   "cell_type": "code",
   "execution_count": null,
   "metadata": {},
   "outputs": [],
   "source": []
  },
  {
   "cell_type": "code",
   "execution_count": null,
   "metadata": {},
   "outputs": [],
   "source": [
    "# überprüfen, ob wir noch weitere technologien mit aufnehmen sollen \n",
    "# ich denke IT 'other' sollte man sich anschauen da haben wir auch schon einige drin.\n",
    "tech = ['Fossil Oil shale', 'Fossil Oil','Fossil Coal-derived gas',\n",
    "       'Fossil Peat', 'Other', 'Waste']"
   ]
  },
  {
   "cell_type": "code",
   "execution_count": null,
   "metadata": {},
   "outputs": [],
   "source": [
    "generation_unit_info.query('ProductionTypeName in @tech').sort_values(by='yearly_generation_2018', ascending=False).head(50)"
   ]
  },
  {
   "cell_type": "markdown",
   "metadata": {},
   "source": [
    "### --- Following function and data are only for check up the results and are not needed (test data)  --- "
   ]
  },
  {
   "cell_type": "markdown",
   "metadata": {},
   "source": [
    "1) Entso unit generation data from EMBER\n",
    "The Entso e data has lot of gaps and need to be preprocessing (is done partly and the result is different than the one from Ember)\n",
    "\n",
    "File - > entsoe_unit_gen_data.csv"
   ]
  },
  {
   "cell_type": "code",
   "execution_count": null,
   "metadata": {},
   "outputs": [],
   "source": [
    "def load_unit_data_ember(path, fn):\n",
    "    \"\"\"\n",
    "    Entso e unit generation from ember\n",
    "        \n",
    "    Parameters\n",
    "    ----------\n",
    "    path: str\n",
    "        path to data\n",
    "    fn : str\n",
    "        filename\n",
    "        \n",
    "    \"\"\"\n",
    "    \n",
    "    logging.info(f'Loading data from {fn}')\n",
    "    \n",
    "    df = pd.read_csv(os.path.join(path, fn), sep = ';', header = 0, encoding = 'unicode_escape')\n",
    "\n",
    "    return df\n",
    "\n",
    "# load the ember data\n",
    "generation_per_unit_ember = load_unit_data_ember(Bootom_up_methode_input_directory_path, 'entsoe_unit_gen_data.csv') \n",
    "\n",
    "# filter to the year 2018\n",
    "generation_per_unit_ember = generation_per_unit_ember[generation_per_unit_ember.Year == 2018]\n",
    "\n",
    "# group and sum monthly data too yearly data\n",
    "generation_per_unit_ember = generation_per_unit_ember.groupby(by = 'PowerSystemResourceName').sum()['Monthly Generation (GWh)']"
   ]
  },
  {
   "cell_type": "code",
   "execution_count": null,
   "metadata": {},
   "outputs": [],
   "source": [
    "# for the ember datat the country code in germany needs to be converted \n",
    "def conv(x):\n",
    "    # converts german grid operator areas string in german countrycode of ETS\n",
    "    areas =['DE_TenneT_GER','DE_TransnetBW','DE_Amprion','DE_50HzT']\n",
    "    if x in areas:\n",
    "        x = 'DE' \n",
    "    return x"
   ]
  },
  {
   "cell_type": "code",
   "execution_count": null,
   "metadata": {},
   "outputs": [],
   "source": [
    "#not needed anymore\n",
    "#generation_per_unit_ember = generation_per_unit_ember.groupby(by = 'PowerSystemResourceName').agg({'Monthly Generation (GWh)': 'sum',\n",
    "                                                                       'MapCode':'first',\n",
    "                                                                       'ProductionTypeName':'first',\n",
    "                                                                       \n",
    "                                                                         'Year': 'first',\n",
    "                                                                         'Installed Capacity (MW)': 'first'\n",
    "                                                                      })\n",
    "#merged_ember = pd.merge(generation_per_unit_ember, unit_matching_EU_2, on='PowerSystemResourceName', how='inner')"
   ]
  },
  {
   "cell_type": "markdown",
   "metadata": {},
   "source": [
    "# CO2 Signals\n",
    "In this section, we calculate CO2 signals based on CO2 emissions from power plant. "
   ]
  },
  {
   "cell_type": "markdown",
   "metadata": {},
   "source": [
    "## On power plant level"
   ]
  },
  {
   "cell_type": "markdown",
   "metadata": {},
   "source": [
    "Using the above calculated EF per power plant to design an hourly CO2 signal per power plant."
   ]
  },
  {
   "cell_type": "code",
   "execution_count": null,
   "metadata": {},
   "outputs": [],
   "source": [
    "hourly_CO2_emission_per_unit = generation_per_unit.multiply((Powerplants_emission_EU_CI_validated.carbon_intensity), axis='columns')"
   ]
  },
  {
   "cell_type": "markdown",
   "metadata": {},
   "source": [
    "Drop all power plants without an EF value."
   ]
  },
  {
   "cell_type": "code",
   "execution_count": null,
   "metadata": {},
   "outputs": [],
   "source": [
    "hourly_CO2_emission_per_unit.dropna(axis=1, inplace=True)"
   ]
  },
  {
   "cell_type": "markdown",
   "metadata": {},
   "source": [
    "Filter Data to Germany"
   ]
  },
  {
   "cell_type": "markdown",
   "metadata": {},
   "source": [
    "availabe power plants in Germany "
   ]
  },
  {
   "cell_type": "code",
   "execution_count": null,
   "metadata": {},
   "outputs": [],
   "source": [
    "DE_PP_ID = Powerplants_emission_EU_CI_validated[Powerplants_emission_EU_CI_validated.MapCode == 'DE'].index.to_list()"
   ]
  },
  {
   "cell_type": "markdown",
   "metadata": {},
   "source": [
    "German Dataset"
   ]
  },
  {
   "cell_type": "code",
   "execution_count": null,
   "metadata": {},
   "outputs": [],
   "source": [
    "hourly_CO2_emission_per_unit_DE = hourly_CO2_emission_per_unit[DE_PP_ID]"
   ]
  },
  {
   "cell_type": "code",
   "execution_count": null,
   "metadata": {},
   "outputs": [],
   "source": [
    "hourly_CO2_emission_per_unit_DE.sum(axis=1).plot()"
   ]
  },
  {
   "cell_type": "code",
   "execution_count": null,
   "metadata": {},
   "outputs": [],
   "source": [
    "(hourly_CO2_emission_per_unit_DE.sum(axis=1) / generation_per_unit[DE_PP_ID].sum(axis=1)).describe()"
   ]
  },
  {
   "cell_type": "markdown",
   "metadata": {},
   "source": [
    "some tests"
   ]
  },
  {
   "cell_type": "code",
   "execution_count": null,
   "metadata": {},
   "outputs": [],
   "source": [
    "#CO2_per_unit[Powerplants_emission_EU_CI_validated.index].sum().loc[['48W00000EGGPS-1X','48W00000EGGPS-4R','48W00000EGGPS-3T','48W00000EGGPS-2V']].sum()"
   ]
  },
  {
   "cell_type": "code",
   "execution_count": null,
   "metadata": {},
   "outputs": [],
   "source": [
    "#Powerplants_emission_EU_CI_validated[(Powerplants_emission_EU_CI_validated.countrycode == 'GB') & (Powerplants_emission_EU_CI_validated.EUTL_ID == 169)]"
   ]
  },
  {
   "cell_type": "markdown",
   "metadata": {},
   "source": [
    "## On tech level in Germany"
   ]
  },
  {
   "cell_type": "code",
   "execution_count": null,
   "metadata": {},
   "outputs": [],
   "source": [
    "Powerplants_emission_EU_CI_validated[(Powerplants_emission_EU_CI_validated.MapCode == 'DE')].head()"
   ]
  },
  {
   "cell_type": "code",
   "execution_count": null,
   "metadata": {},
   "outputs": [],
   "source": [
    "def calc_CI_tech_country_new(df):\n",
    "    # calculates the average carbon intensity per technology in a country for plausible results defined above.\n",
    "    # df is a dataframe which contains all sites with plausible carbon intensities of whole Europe.\n",
    "    CI_tech_country = df.groupby(['countrycode','EUTL_ID']).agg({'verified_emissions_18':'mean',\n",
    "                                                                 'ProductionTypeName':'first'}).groupby(['ProductionTypeName']).sum()['verified_emissions_18']\\\n",
    "                                     /\\\n",
    "                      df.groupby(['countrycode','EUTL_ID']).agg({'yearly_generation_2018':'sum',\n",
    "                                                                 'ProductionTypeName':'first'}).groupby(['ProductionTypeName']).sum()['yearly_generation_2018']\n",
    "\n",
    "    return CI_tech_country"
   ]
  },
  {
   "cell_type": "code",
   "execution_count": null,
   "metadata": {},
   "outputs": [],
   "source": [
    "EF_tech_dic = calc_CI_tech_country_new(Powerplants_emission_EU_CI_validated[(Powerplants_emission_EU_CI_validated.MapCode == 'DE')]).to_dict()"
   ]
  },
  {
   "cell_type": "code",
   "execution_count": null,
   "metadata": {},
   "outputs": [],
   "source": [
    "generation_unit_info['EF'] = generation_unit_info.ProductionTypeName.map(EF_tech_dic)"
   ]
  },
  {
   "cell_type": "code",
   "execution_count": null,
   "metadata": {},
   "outputs": [],
   "source": [
    "generation_unit_info.head()"
   ]
  },
  {
   "cell_type": "code",
   "execution_count": null,
   "metadata": {},
   "outputs": [],
   "source": [
    "dic = generation_unit_info.EF.to_dict()"
   ]
  },
  {
   "cell_type": "code",
   "execution_count": null,
   "metadata": {},
   "outputs": [],
   "source": [
    "dic"
   ]
  },
  {
   "cell_type": "code",
   "execution_count": null,
   "metadata": {},
   "outputs": [],
   "source": [
    "generation_per_unit_DE = generation_per_unit[Powerplants_emission_EU_CI_validated[(Powerplants_emission_EU_CI_validated.MapCode == 'DE')].index.to_list()]"
   ]
  },
  {
   "cell_type": "code",
   "execution_count": null,
   "metadata": {},
   "outputs": [],
   "source": [
    "hourly_CO2_emission_per_unit_2 = generation_per_unit_DE.assign(**dic).mul(generation_per_unit_DE)"
   ]
  },
  {
   "cell_type": "code",
   "execution_count": null,
   "metadata": {},
   "outputs": [],
   "source": [
    "hourly_CO2_emission_per_unit_DE2 = hourly_CO2_emission_per_unit_2[DE_PP_ID]"
   ]
  },
  {
   "cell_type": "code",
   "execution_count": null,
   "metadata": {},
   "outputs": [],
   "source": [
    "(hourly_CO2_emission_per_unit_DE2.sum(axis=1) - hourly_CO2_emission_per_unit_DE.sum(axis=1)).plot()"
   ]
  },
  {
   "cell_type": "markdown",
   "metadata": {},
   "source": [
    "## On country level in Germany"
   ]
  },
  {
   "cell_type": "code",
   "execution_count": null,
   "metadata": {},
   "outputs": [],
   "source": [
    "def calc_CI_country_new(df):\n",
    "    # calculates the average carbon intensity per technology in a country for plausible results defined above.\n",
    "    # df is a dataframe which contains all sites with plausible carbon intensities of whole Europe.\n",
    "    CI_country = df.groupby(['countrycode','EUTL_ID']).agg({'verified_emissions_18':'mean',\n",
    "                                                                 'ProductionTypeName':'first'}).groupby(['countrycode']).sum()['verified_emissions_18']\\\n",
    "                                     /\\\n",
    "                      df.groupby(['countrycode','EUTL_ID']).agg({'yearly_generation_2018':'sum',\n",
    "                                                                 'ProductionTypeName':'first'}).groupby(['countrycode']).sum()['yearly_generation_2018']\n",
    "\n",
    "    return CI_country"
   ]
  },
  {
   "cell_type": "code",
   "execution_count": null,
   "metadata": {},
   "outputs": [],
   "source": [
    "EF_dic = calc_CI_country_new(Powerplants_emission_EU_CI_validated).to_dict()"
   ]
  },
  {
   "cell_type": "code",
   "execution_count": null,
   "metadata": {},
   "outputs": [],
   "source": [
    "EF_dic"
   ]
  },
  {
   "cell_type": "code",
   "execution_count": null,
   "metadata": {},
   "outputs": [],
   "source": [
    "generation_unit_info['EF'] = generation_unit_info.MapCode.map(EF_dic)"
   ]
  },
  {
   "cell_type": "code",
   "execution_count": null,
   "metadata": {},
   "outputs": [],
   "source": [
    "dic = generation_unit_info.EF.to_dict()"
   ]
  },
  {
   "cell_type": "code",
   "execution_count": null,
   "metadata": {},
   "outputs": [],
   "source": [
    "generation_per_unit_DE = generation_per_unit[Powerplants_emission_EU_CI_validated[(Powerplants_emission_EU_CI_validated.MapCode == 'DE')].index.to_list()]"
   ]
  },
  {
   "cell_type": "code",
   "execution_count": null,
   "metadata": {},
   "outputs": [],
   "source": [
    "hourly_CO2_emission_per_unit_3 = generation_per_unit_DE.assign(**dic).mul(generation_per_unit_DE)"
   ]
  },
  {
   "cell_type": "code",
   "execution_count": null,
   "metadata": {},
   "outputs": [],
   "source": [
    "hourly_CO2_emission_per_unit_DE3 = hourly_CO2_emission_per_unit_3[DE_PP_ID]"
   ]
  },
  {
   "cell_type": "code",
   "execution_count": null,
   "metadata": {},
   "outputs": [],
   "source": [
    "(hourly_CO2_emission_per_unit_DE3.sum(axis=1) - hourly_CO2_emission_per_unit_DE.sum(axis=1)).plot()"
   ]
  },
  {
   "cell_type": "code",
   "execution_count": null,
   "metadata": {},
   "outputs": [],
   "source": [
    "EF = pd.DataFrame()\n",
    "EF['PP'] = hourly_CO2_emission_per_unit_DE.sum(axis=1)\n",
    "EF['tech'] = hourly_CO2_emission_per_unit_DE2.sum(axis=1)\n",
    "EF['country'] = hourly_CO2_emission_per_unit_DE3.sum(axis=1)"
   ]
  },
  {
   "cell_type": "code",
   "execution_count": null,
   "metadata": {},
   "outputs": [],
   "source": [
    "EF.plot.scatter(x='tech', y='country')"
   ]
  },
  {
   "cell_type": "markdown",
   "metadata": {},
   "source": [
    "hier ist es jetzt natürlich spannend auch EE Anlagen mit in die Rechnung mit rein zu nehmen, da sie einen EF von 0 haben, was sich bei tech und PP gut zeigen würde, bei country aber nicht. "
   ]
  },
  {
   "cell_type": "code",
   "execution_count": null,
   "metadata": {},
   "outputs": [],
   "source": [
    "EF.describe()"
   ]
  },
  {
   "cell_type": "code",
   "execution_count": null,
   "metadata": {},
   "outputs": [],
   "source": [
    "sns.boxplot(y=\"ProductionTypeName\", x=\"carbon_intensity\", data=EF, orient=\"h\")"
   ]
  },
  {
   "cell_type": "markdown",
   "metadata": {},
   "source": [
    "# CO2 Signals\n",
    "In this section, we calculate CO2 signals based on CO2 emissions from power plant. "
   ]
  },
  {
   "cell_type": "markdown",
   "metadata": {},
   "source": [
    "## On power plant level"
   ]
  },
  {
   "cell_type": "markdown",
   "metadata": {},
   "source": [
    "Using the above calculated EF per power plant to design an hourly CO2 signal per power plant."
   ]
  },
  {
   "cell_type": "code",
   "execution_count": null,
   "metadata": {},
   "outputs": [],
   "source": [
    "hourly_CO2_emission_per_unit = generation_per_unit.multiply((Powerplants_emission_EU_CI_validated.carbon_intensity), axis='columns')"
   ]
  },
  {
   "cell_type": "markdown",
   "metadata": {},
   "source": [
    "Drop all power plants without an EF value."
   ]
  },
  {
   "cell_type": "code",
   "execution_count": null,
   "metadata": {},
   "outputs": [],
   "source": [
    "hourly_CO2_emission_per_unit.dropna(axis=1, inplace=True)"
   ]
  },
  {
   "cell_type": "markdown",
   "metadata": {},
   "source": [
    "Filter Data to Germany"
   ]
  },
  {
   "cell_type": "markdown",
   "metadata": {},
   "source": [
    "availabe power plants in Germany "
   ]
  },
  {
   "cell_type": "code",
   "execution_count": null,
   "metadata": {},
   "outputs": [],
   "source": [
    "DE_PP_ID = Powerplants_emission_EU_CI_validated[Powerplants_emission_EU_CI_validated.MapCode == 'DE'].index.to_list()"
   ]
  },
  {
   "cell_type": "markdown",
   "metadata": {},
   "source": [
    "German Dataset"
   ]
  },
  {
   "cell_type": "code",
   "execution_count": null,
   "metadata": {},
   "outputs": [],
   "source": [
    "hourly_CO2_emission_per_unit_DE = hourly_CO2_emission_per_unit[DE_PP_ID]"
   ]
  },
  {
   "cell_type": "code",
   "execution_count": null,
   "metadata": {},
   "outputs": [],
   "source": [
    "hourly_CO2_emission_per_unit_DE.sum(axis=1).plot()"
   ]
  },
  {
   "cell_type": "code",
   "execution_count": null,
   "metadata": {},
   "outputs": [],
   "source": [
    "(hourly_CO2_emission_per_unit_DE.sum(axis=1) / generation_per_unit[DE_PP_ID].sum(axis=1)).describe()"
   ]
  },
  {
   "cell_type": "markdown",
   "metadata": {},
   "source": [
    "some tests"
   ]
  },
  {
   "cell_type": "code",
   "execution_count": null,
   "metadata": {},
   "outputs": [],
   "source": [
    "#CO2_per_unit[Powerplants_emission_EU_CI_validated.index].sum().loc[['48W00000EGGPS-1X','48W00000EGGPS-4R','48W00000EGGPS-3T','48W00000EGGPS-2V']].sum()"
   ]
  },
  {
   "cell_type": "code",
   "execution_count": null,
   "metadata": {},
   "outputs": [],
   "source": [
    "#Powerplants_emission_EU_CI_validated[(Powerplants_emission_EU_CI_validated.countrycode == 'GB') & (Powerplants_emission_EU_CI_validated.EUTL_ID == 169)]"
   ]
  },
  {
   "cell_type": "markdown",
   "metadata": {},
   "source": [
    "## On tech level in Germany"
   ]
  },
  {
   "cell_type": "code",
   "execution_count": null,
   "metadata": {},
   "outputs": [],
   "source": [
    "Powerplants_emission_EU_CI_validated[(Powerplants_emission_EU_CI_validated.MapCode == 'DE')].head()"
   ]
  },
  {
   "cell_type": "code",
   "execution_count": null,
   "metadata": {},
   "outputs": [],
   "source": [
    "def calc_CI_tech_country_new(df):\n",
    "    # calculates the average carbon intensity per technology in a country for plausible results defined above.\n",
    "    # df is a dataframe which contains all sites with plausible carbon intensities of whole Europe.\n",
    "    CI_tech_country = df.groupby(['countrycode','EUTL_ID']).agg({'verified_emissions_18':'mean',\n",
    "                                                                 'ProductionTypeName':'first'}).groupby(['ProductionTypeName']).sum()['verified_emissions_18']\\\n",
    "                                     /\\\n",
    "                      df.groupby(['countrycode','EUTL_ID']).agg({'yearly_generation_2018':'sum',\n",
    "                                                                 'ProductionTypeName':'first'}).groupby(['ProductionTypeName']).sum()['yearly_generation_2018']\n",
    "\n",
    "    return CI_tech_country"
   ]
  },
  {
   "cell_type": "code",
   "execution_count": null,
   "metadata": {},
   "outputs": [],
   "source": [
    "EF_tech_dic = calc_CI_tech_country_new(Powerplants_emission_EU_CI_validated[(Powerplants_emission_EU_CI_validated.MapCode == 'DE')]).to_dict()"
   ]
  },
  {
   "cell_type": "code",
   "execution_count": null,
   "metadata": {},
   "outputs": [],
   "source": [
    "generation_unit_info['EF'] = generation_unit_info.ProductionTypeName.map(EF_tech_dic)"
   ]
  },
  {
   "cell_type": "code",
   "execution_count": null,
   "metadata": {},
   "outputs": [],
   "source": [
    "generation_unit_info.head()"
   ]
  },
  {
   "cell_type": "code",
   "execution_count": null,
   "metadata": {},
   "outputs": [],
   "source": [
    "dic = generation_unit_info.EF.to_dict()"
   ]
  },
  {
   "cell_type": "code",
   "execution_count": null,
   "metadata": {},
   "outputs": [],
   "source": [
    "dic"
   ]
  },
  {
   "cell_type": "code",
   "execution_count": null,
   "metadata": {},
   "outputs": [],
   "source": [
    "generation_per_unit_DE = generation_per_unit[Powerplants_emission_EU_CI_validated[(Powerplants_emission_EU_CI_validated.MapCode == 'DE')].index.to_list()]"
   ]
  },
  {
   "cell_type": "code",
   "execution_count": null,
   "metadata": {},
   "outputs": [],
   "source": [
    "hourly_CO2_emission_per_unit_2 = generation_per_unit_DE.assign(**dic).mul(generation_per_unit_DE)"
   ]
  },
  {
   "cell_type": "code",
   "execution_count": null,
   "metadata": {},
   "outputs": [],
   "source": [
    "hourly_CO2_emission_per_unit_DE2 = hourly_CO2_emission_per_unit_2[DE_PP_ID]"
   ]
  },
  {
   "cell_type": "code",
   "execution_count": null,
   "metadata": {},
   "outputs": [],
   "source": [
    "(hourly_CO2_emission_per_unit_DE2.sum(axis=1) - hourly_CO2_emission_per_unit_DE.sum(axis=1)).plot()"
   ]
  },
  {
   "cell_type": "markdown",
   "metadata": {},
   "source": [
    "## On country level in Germany"
   ]
  },
  {
   "cell_type": "code",
   "execution_count": null,
   "metadata": {},
   "outputs": [],
   "source": [
    "def calc_CI_country_new(df):\n",
    "    # calculates the average carbon intensity per technology in a country for plausible results defined above.\n",
    "    # df is a dataframe which contains all sites with plausible carbon intensities of whole Europe.\n",
    "    CI_country = df.groupby(['countrycode','EUTL_ID']).agg({'verified_emissions_18':'mean',\n",
    "                                                                 'ProductionTypeName':'first'}).groupby(['countrycode']).sum()['verified_emissions_18']\\\n",
    "                                     /\\\n",
    "                      df.groupby(['countrycode','EUTL_ID']).agg({'yearly_generation_2018':'sum',\n",
    "                                                                 'ProductionTypeName':'first'}).groupby(['countrycode']).sum()['yearly_generation_2018']\n",
    "\n",
    "    return CI_country"
   ]
  },
  {
   "cell_type": "code",
   "execution_count": null,
   "metadata": {},
   "outputs": [],
   "source": [
    "EF_dic = calc_CI_country_new(Powerplants_emission_EU_CI_validated).to_dict()"
   ]
  },
  {
   "cell_type": "code",
   "execution_count": null,
   "metadata": {},
   "outputs": [],
   "source": [
    "EF_dic"
   ]
  },
  {
   "cell_type": "code",
   "execution_count": null,
   "metadata": {},
   "outputs": [],
   "source": [
    "generation_unit_info['EF'] = generation_unit_info.MapCode.map(EF_dic)"
   ]
  },
  {
   "cell_type": "code",
   "execution_count": null,
   "metadata": {},
   "outputs": [],
   "source": [
    "dic = generation_unit_info.EF.to_dict()"
   ]
  },
  {
   "cell_type": "code",
   "execution_count": null,
   "metadata": {},
   "outputs": [],
   "source": [
    "generation_per_unit_DE = generation_per_unit[Powerplants_emission_EU_CI_validated[(Powerplants_emission_EU_CI_validated.MapCode == 'DE')].index.to_list()]"
   ]
  },
  {
   "cell_type": "code",
   "execution_count": null,
   "metadata": {},
   "outputs": [],
   "source": [
    "hourly_CO2_emission_per_unit_3 = generation_per_unit_DE.assign(**dic).mul(generation_per_unit_DE)"
   ]
  },
  {
   "cell_type": "code",
   "execution_count": null,
   "metadata": {},
   "outputs": [],
   "source": [
    "hourly_CO2_emission_per_unit_DE3 = hourly_CO2_emission_per_unit_3[DE_PP_ID]"
   ]
  },
  {
   "cell_type": "code",
   "execution_count": null,
   "metadata": {},
   "outputs": [],
   "source": [
    "(hourly_CO2_emission_per_unit_DE3.sum(axis=1) - hourly_CO2_emission_per_unit_DE.sum(axis=1)).plot()"
   ]
  },
  {
   "cell_type": "code",
   "execution_count": null,
   "metadata": {},
   "outputs": [],
   "source": [
    "EF = pd.DataFrame()\n",
    "EF['PP'] = hourly_CO2_emission_per_unit_DE.sum(axis=1)\n",
    "EF['tech'] = hourly_CO2_emission_per_unit_DE2.sum(axis=1)\n",
    "EF['country'] = hourly_CO2_emission_per_unit_DE3.sum(axis=1)"
   ]
  },
  {
   "cell_type": "code",
   "execution_count": null,
   "metadata": {},
   "outputs": [],
   "source": [
    "EF.plot.scatter(x='tech', y='country')"
   ]
  },
  {
   "cell_type": "markdown",
   "metadata": {},
   "source": [
    "hier ist es jetzt natürlich spannend auch EE Anlagen mit in die Rechnung mit rein zu nehmen, da sie einen EF von 0 haben, was sich bei tech und PP gut zeigen würde, bei country aber nicht. "
   ]
  },
  {
   "cell_type": "code",
   "execution_count": null,
   "metadata": {},
   "outputs": [],
   "source": [
    "EF.describe()"
   ]
  },
  {
   "cell_type": "code",
   "execution_count": null,
   "metadata": {},
   "outputs": [],
   "source": [
    "sns.boxplot(y=\"ProductionTypeName\", x=\"carbon_intensity\", data=EF, orient=\"h\")"
   ]
  }
 ],
 "metadata": {
  "kernelspec": {
   "display_name": "Python 3",
   "language": "python",
   "name": "python3"
  },
  "language_info": {
   "codemirror_mode": {
    "name": "ipython",
    "version": 3
   },
   "file_extension": ".py",
   "mimetype": "text/x-python",
   "name": "python",
   "nbconvert_exporter": "python",
   "pygments_lexer": "ipython3",
   "version": "3.7.9"
  }
 },
 "nbformat": 4,
 "nbformat_minor": 4
}
