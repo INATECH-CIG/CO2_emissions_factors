{
 "cells": [
  {
   "cell_type": "markdown",
   "metadata": {},
   "source": [
    "# Matching EUETS and ENTSO E data"
   ]
  },
  {
   "cell_type": "markdown",
   "metadata": {},
   "source": [
    "This script provides information about the matching mechanism that was used to match the EUETS emission datat with ENTSO E production data."
   ]
  },
  {
   "cell_type": "markdown",
   "metadata": {},
   "source": [
    "# Script setup"
   ]
  },
  {
   "cell_type": "code",
   "execution_count": 1,
   "metadata": {},
   "outputs": [],
   "source": [
    "import os\n",
    "import logging\n",
    "\n",
    "import pandas as pd\n",
    "\n",
    "#helpers\n",
    "from helpers import change_ENTSOE_ProductionTypeName"
   ]
  },
  {
   "cell_type": "markdown",
   "metadata": {},
   "source": [
    "# Data directory preparation"
   ]
  },
  {
   "cell_type": "code",
   "execution_count": 2,
   "metadata": {},
   "outputs": [],
   "source": [
    "# Create input, processed and output folders if they don't exist\n",
    "# If the paths are relative, the correspoding folders will be created inside the current working directory.\n",
    "\n",
    "input_directory_path = os.path.join('input')\n",
    "Matching_methode_input_directory_path = os.path.join('input', 'Matching')\n",
    "processed_directory_path = 'processed'\n",
    "output_directory_path = os.path.join('output')\n",
    "\n",
    "os.makedirs(input_directory_path, exist_ok=True)\n",
    "os.makedirs(Matching_methode_input_directory_path, exist_ok=True)\n",
    "os.makedirs(processed_directory_path, exist_ok=True)\n",
    "os.makedirs(output_directory_path, exist_ok=True)"
   ]
  },
  {
   "cell_type": "markdown",
   "metadata": {},
   "source": [
    "# Matching Method"
   ]
  },
  {
   "cell_type": "markdown",
   "metadata": {},
   "source": [
    "In this section we describe the method that was used to match the ENTSO E power plant names (PowerSystemResourceName) with the ETS plant names (EUTL-ID).\n",
    "\n",
    "Since ENTSO-E and ETS names are not the same in general, a more sophisticated and time expensive approach was used. The general process was:\n",
    "\n",
    "    1.) Filter the EU ETS data to countries and than sort them according too the emissions (large emitter in the list most of the time are power plants)\n",
    "\n",
    "    2.) Using a google search request in order to find out more information about the power plant. For example the exact name, address and owner can often be found on the Wikipedia web page.\n",
    "    \n",
    "    3.) The Entso-E dataset always provides an EIC number which is the \"Energy Identification code\" for power plants. Googling this code sometimes redirects to a webpage called \"gem.wiki\". It contains similar information like wikipedia but because it is dedicated to fossil fuel projects from time to time more information. (e.g. https://www.gem.wiki/Amfard_power_station)\n",
    "    \n",
    "    4.) Using the power plant name in the filter option on the entso e transparency website often results in the needed power plant EIC number\n",
    "    \n",
    "    5.)Probelm of different names of the power plant: Usually, either the name or the location of a power plant defines its name in the datasets. This will be usually reflected to some point in ENTSO E as well as ETS data, but in very different forms, so no standard algorithm can be applied and manual investigations was done to match such a power plant.\n",
    "    \n",
    "    6.) If names in this two datasets do not coincide at all, another factor was be exploited: The size of the power plant can be used, since most of the time we wanted to find the huge emitter. Since the emission factor is roughly known for each technology, one can specify a range how much this power plant has emitted. (since yearly generation is known) As there are only very few installations with such high emissions, usually less then 10 entries remain in the ETS-database. Further googling then the names of this installations usually reveal what it is referring to, where the plant is and whom it belongs to. using this technique usually provided the result then.\n",
    "    \n",
    "    7.) In some cases it was helpful to translate the INSTALLATION_NAME of the EU ETS dataset. An example is the Polish power plant \"Kozienice\". This power plant appears with two entries in the EU ETS register. 1. \"Elektrownia Kozienice - blok energetyczny 11\" and second \"Elektrownia Kozienice - kot?ownia rozruchowa\". Both entries refer to the coal-fired power plant. The second entry refers to the start-up boiler.\n",
    "    \n",
    "This method was performed for lignite, coal and gas power plants.\n",
    "\n",
    "For Germany an already existing matching list for power plants was used additionally and included in our dataset.\n",
    "Matching List for German power plants with Entso e identifier and the EUTL identifier.\n",
    "Data download form: https://zenodo.org/record/3588418#.XxlZOufgq5h \\\n",
    "\n",
    "File - > Matching_Entso_EUTL_LCPD.csv\n",
    "\n",
    "corresponding Paper: \"Comparing empirical and model-based approaches for calculating dynamic grid emission factors: an application to CO2-minimizing storage dispatch in Germany\"\n",
    "https://linkinghub.elsevier.com/retrieve/pii/S0959652620316358"
   ]
  },
  {
   "cell_type": "markdown",
   "metadata": {},
   "source": [
    "# Load data functions"
   ]
  },
  {
   "cell_type": "code",
   "execution_count": 3,
   "metadata": {},
   "outputs": [],
   "source": [
    "def load_matching_data_EU(path, fn):\n",
    "    \"\"\"\n",
    "    Load the matching list for EU power plants with ENTSO-E identifier and the EUTL identifier.\n",
    "        \n",
    "    Parameters\n",
    "    ----------\n",
    "    path: str\n",
    "        path to data\n",
    "    fn : str\n",
    "        filename\n",
    "        \n",
    "    \"\"\"\n",
    "    \n",
    "    df = pd.read_csv(os.path.join(path, fn), sep = ',', header = 0, index_col=0)\n",
    "\n",
    "    return df\n",
    "\n",
    "def load_unit_info(path, fn):\n",
    "    \"\"\"\n",
    "    Load the ENTSO-E generation unit information.\n",
    "        \n",
    "    Parameters\n",
    "    ----------\n",
    "    path: str\n",
    "        path to data\n",
    "    fn : str\n",
    "        filename\n",
    "        \n",
    "    \"\"\"\n",
    "    \n",
    "    df = pd.read_csv(os.path.join(path, fn),sep = ',',index_col=0)\n",
    "    \n",
    "    # Rename production type name according to own convention\n",
    "    df.ProductionTypeName = change_ENTSOE_ProductionTypeName(df.ProductionTypeName)\n",
    "    \n",
    "    # set name for the index\n",
    "    df.index.set_names('GenerationUnitEIC', inplace=True)\n",
    "\n",
    "    return df\n",
    "\n",
    "def load_generation_per_unit(path, fn):\n",
    "    \"\"\"\n",
    "    Load the ENTSO-E gernation per unit data.\n",
    "        \n",
    "    Parameters\n",
    "    ----------\n",
    "    path: str\n",
    "        path to data\n",
    "    fn : str\n",
    "        filename\n",
    "        \n",
    "    \"\"\"\n",
    "    \n",
    "    generation = pd.read_csv(os.path.join(path, fn),sep = ',',index_col=0,parse_dates=True)\n",
    "    \n",
    "    return generation"
   ]
  },
  {
   "cell_type": "markdown",
   "metadata": {},
   "source": [
    "# Data loading and file preparation "
   ]
  },
  {
   "cell_type": "markdown",
   "metadata": {},
   "source": [
    "#### Load machting information for power plant data"
   ]
  },
  {
   "cell_type": "code",
   "execution_count": 4,
   "metadata": {},
   "outputs": [],
   "source": [
    "unit_matching_EU = load_matching_data_EU(Matching_methode_input_directory_path, 'matching_ENTSOE_EU_ETS.csv')"
   ]
  },
  {
   "cell_type": "markdown",
   "metadata": {},
   "source": [
    "#### Load power plant unit inforamtion (capacity, name, etc.)"
   ]
  },
  {
   "cell_type": "code",
   "execution_count": 5,
   "metadata": {},
   "outputs": [],
   "source": [
    "generation_unit_info = load_unit_info(input_directory_path, 'unit_data_2018.csv')"
   ]
  },
  {
   "cell_type": "markdown",
   "metadata": {},
   "source": [
    "#### Load power plant generation data"
   ]
  },
  {
   "cell_type": "code",
   "execution_count": 6,
   "metadata": {},
   "outputs": [],
   "source": [
    "generation_per_unit = load_generation_per_unit(input_directory_path, 'gen_data_2018.csv')"
   ]
  },
  {
   "cell_type": "markdown",
   "metadata": {},
   "source": [
    "# Data preperation"
   ]
  },
  {
   "cell_type": "markdown",
   "metadata": {},
   "source": [
    "#### Yearly power generation per unit"
   ]
  },
  {
   "cell_type": "code",
   "execution_count": 7,
   "metadata": {},
   "outputs": [],
   "source": [
    "generation_unit_info['generation_2018'] = generation_per_unit.sum()"
   ]
  },
  {
   "cell_type": "markdown",
   "metadata": {},
   "source": [
    "#### Matching ENTSO-E ID and EUTL ID"
   ]
  },
  {
   "cell_type": "code",
   "execution_count": 8,
   "metadata": {},
   "outputs": [],
   "source": [
    "generation_unit_info_matched = pd.merge(generation_unit_info, unit_matching_EU, left_on='GenerationUnitEIC', right_on='eic_g', how='inner')"
   ]
  },
  {
   "cell_type": "markdown",
   "metadata": {},
   "source": [
    "# Matching Results"
   ]
  },
  {
   "cell_type": "code",
   "execution_count": 9,
   "metadata": {},
   "outputs": [
    {
     "data": {
      "text/html": [
       "<div>\n",
       "<style scoped>\n",
       "    .dataframe tbody tr th:only-of-type {\n",
       "        vertical-align: middle;\n",
       "    }\n",
       "\n",
       "    .dataframe tbody tr th {\n",
       "        vertical-align: top;\n",
       "    }\n",
       "\n",
       "    .dataframe thead th {\n",
       "        text-align: right;\n",
       "    }\n",
       "</style>\n",
       "<table border=\"1\" class=\"dataframe\">\n",
       "  <thead>\n",
       "    <tr style=\"text-align: right;\">\n",
       "      <th></th>\n",
       "      <th>AreaCode</th>\n",
       "      <th>AreaName</th>\n",
       "      <th>AreaTypeCode</th>\n",
       "      <th>InstalledGenCapacity</th>\n",
       "      <th>MapCode</th>\n",
       "      <th>PowerSystemResourceName</th>\n",
       "      <th>ProductionTypeName</th>\n",
       "      <th>ProductionUnitEIC</th>\n",
       "      <th>duplicate_count</th>\n",
       "      <th>generation_2018</th>\n",
       "      <th>eic_g</th>\n",
       "      <th>eic_p</th>\n",
       "      <th>EUTL_countrycode</th>\n",
       "      <th>EUTL_ID</th>\n",
       "    </tr>\n",
       "  </thead>\n",
       "  <tbody>\n",
       "    <tr>\n",
       "      <th>0</th>\n",
       "      <td>10YAT-APG------L</td>\n",
       "      <td>APG CA</td>\n",
       "      <td>CTA</td>\n",
       "      <td>140.0</td>\n",
       "      <td>AT</td>\n",
       "      <td>Lau GuD</td>\n",
       "      <td>gas</td>\n",
       "      <td>14W-PROD-LAU---8</td>\n",
       "      <td>2.0</td>\n",
       "      <td>0.000</td>\n",
       "      <td>14W-GEN-LAU----Z</td>\n",
       "      <td>14W-PROD-LAU---8</td>\n",
       "      <td>AT</td>\n",
       "      <td>86</td>\n",
       "    </tr>\n",
       "    <tr>\n",
       "      <th>1</th>\n",
       "      <td>10YAT-APG------L</td>\n",
       "      <td>APG CA</td>\n",
       "      <td>CTA</td>\n",
       "      <td>400.0</td>\n",
       "      <td>AT</td>\n",
       "      <td>Kraftwerk Timelkam GUD</td>\n",
       "      <td>gas</td>\n",
       "      <td>14WENERGIE--WT02</td>\n",
       "      <td>2.0</td>\n",
       "      <td>685235.670</td>\n",
       "      <td>14WENERGIEAGWT4S</td>\n",
       "      <td>14WENERGIE--WT02</td>\n",
       "      <td>AT</td>\n",
       "      <td>149</td>\n",
       "    </tr>\n",
       "    <tr>\n",
       "      <th>2</th>\n",
       "      <td>10YAT-APG------L</td>\n",
       "      <td>APG CA</td>\n",
       "      <td>CTA</td>\n",
       "      <td>332.0</td>\n",
       "      <td>AT</td>\n",
       "      <td>KW Dürnrohr Block 2</td>\n",
       "      <td>hard_coal</td>\n",
       "      <td>14W-KW-DU2-EVN-K</td>\n",
       "      <td>2.0</td>\n",
       "      <td>745290.410</td>\n",
       "      <td>14W-KW-DUE-EVN-A</td>\n",
       "      <td>14W-KW-DU2-EVN-K</td>\n",
       "      <td>AT</td>\n",
       "      <td>94</td>\n",
       "    </tr>\n",
       "    <tr>\n",
       "      <th>3</th>\n",
       "      <td>10YAT-APG------L</td>\n",
       "      <td>APG CA</td>\n",
       "      <td>CTA</td>\n",
       "      <td>150.0</td>\n",
       "      <td>AT</td>\n",
       "      <td>KW Riedersbach 2 G2</td>\n",
       "      <td>hard_coal</td>\n",
       "      <td>14WENERGIEAGWR05</td>\n",
       "      <td>2.0</td>\n",
       "      <td>0.000</td>\n",
       "      <td>14WENERGIEAGWR21</td>\n",
       "      <td>14WENERGIEAGWR05</td>\n",
       "      <td>AT</td>\n",
       "      <td>79</td>\n",
       "    </tr>\n",
       "    <tr>\n",
       "      <th>4</th>\n",
       "      <td>10Y1001A1001A796</td>\n",
       "      <td>Energinet CA</td>\n",
       "      <td>CTA</td>\n",
       "      <td>250.0</td>\n",
       "      <td>DK</td>\n",
       "      <td>Avedoerevaerket 1</td>\n",
       "      <td>biomass</td>\n",
       "      <td>45V0000000000091</td>\n",
       "      <td>1.0</td>\n",
       "      <td>646873.950</td>\n",
       "      <td>45W000000000029I</td>\n",
       "      <td>45W0000000000102</td>\n",
       "      <td>DK</td>\n",
       "      <td>42</td>\n",
       "    </tr>\n",
       "    <tr>\n",
       "      <th>...</th>\n",
       "      <td>...</td>\n",
       "      <td>...</td>\n",
       "      <td>...</td>\n",
       "      <td>...</td>\n",
       "      <td>...</td>\n",
       "      <td>...</td>\n",
       "      <td>...</td>\n",
       "      <td>...</td>\n",
       "      <td>...</td>\n",
       "      <td>...</td>\n",
       "      <td>...</td>\n",
       "      <td>...</td>\n",
       "      <td>...</td>\n",
       "      <td>...</td>\n",
       "    </tr>\n",
       "    <tr>\n",
       "      <th>838</th>\n",
       "      <td>10YGB----------A</td>\n",
       "      <td>National Grid CA</td>\n",
       "      <td>CTA</td>\n",
       "      <td>525.0</td>\n",
       "      <td>GB</td>\n",
       "      <td>EGGPS-3</td>\n",
       "      <td>hard_coal</td>\n",
       "      <td>48WSTN0000EGGPS5</td>\n",
       "      <td>0.0</td>\n",
       "      <td>236678.180</td>\n",
       "      <td>48W00000EGGPS-3T</td>\n",
       "      <td>48WSTN0000EGGPS5</td>\n",
       "      <td>GB</td>\n",
       "      <td>169</td>\n",
       "    </tr>\n",
       "    <tr>\n",
       "      <th>839</th>\n",
       "      <td>10YGB----------A</td>\n",
       "      <td>National Grid CA</td>\n",
       "      <td>CTA</td>\n",
       "      <td>260.0</td>\n",
       "      <td>GB</td>\n",
       "      <td>DEEP-1</td>\n",
       "      <td>gas</td>\n",
       "      <td>48WSTN00000DEEP3</td>\n",
       "      <td>0.0</td>\n",
       "      <td>335757.515</td>\n",
       "      <td>48W000000DEEP-1N</td>\n",
       "      <td>48WSTN00000DEEP3</td>\n",
       "      <td>GB</td>\n",
       "      <td>187</td>\n",
       "    </tr>\n",
       "    <tr>\n",
       "      <th>840</th>\n",
       "      <td>10YGB----------A</td>\n",
       "      <td>National Grid CA</td>\n",
       "      <td>CTA</td>\n",
       "      <td>525.0</td>\n",
       "      <td>GB</td>\n",
       "      <td>EGGPS-2</td>\n",
       "      <td>hard_coal</td>\n",
       "      <td>48WSTN0000EGGPS5</td>\n",
       "      <td>0.0</td>\n",
       "      <td>15438.130</td>\n",
       "      <td>48W00000EGGPS-2V</td>\n",
       "      <td>48WSTN0000EGGPS5</td>\n",
       "      <td>GB</td>\n",
       "      <td>169</td>\n",
       "    </tr>\n",
       "    <tr>\n",
       "      <th>841</th>\n",
       "      <td>10YGB----------A</td>\n",
       "      <td>National Grid CA</td>\n",
       "      <td>CTA</td>\n",
       "      <td>20.0</td>\n",
       "      <td>GB</td>\n",
       "      <td>WBUGT-4</td>\n",
       "      <td>gas</td>\n",
       "      <td>48WSTN0000WBUGT2</td>\n",
       "      <td>0.0</td>\n",
       "      <td>81.230</td>\n",
       "      <td>48W00000WBUGT-4N</td>\n",
       "      <td>48WSTN0000WBUGT2</td>\n",
       "      <td>GB</td>\n",
       "      <td>145</td>\n",
       "    </tr>\n",
       "    <tr>\n",
       "      <th>842</th>\n",
       "      <td>10YGB----------A</td>\n",
       "      <td>National Grid CA</td>\n",
       "      <td>CTA</td>\n",
       "      <td>485.0</td>\n",
       "      <td>GB</td>\n",
       "      <td>FIDL-1</td>\n",
       "      <td>hard_coal</td>\n",
       "      <td>48WSTN00000FIDLP</td>\n",
       "      <td>0.0</td>\n",
       "      <td>37992.540</td>\n",
       "      <td>48W000000FIDL-16</td>\n",
       "      <td>48WSTN00000FIDLP</td>\n",
       "      <td>GB</td>\n",
       "      <td>562</td>\n",
       "    </tr>\n",
       "  </tbody>\n",
       "</table>\n",
       "<p>843 rows × 14 columns</p>\n",
       "</div>"
      ],
      "text/plain": [
       "             AreaCode          AreaName AreaTypeCode  InstalledGenCapacity  \\\n",
       "0    10YAT-APG------L            APG CA          CTA                 140.0   \n",
       "1    10YAT-APG------L            APG CA          CTA                 400.0   \n",
       "2    10YAT-APG------L            APG CA          CTA                 332.0   \n",
       "3    10YAT-APG------L            APG CA          CTA                 150.0   \n",
       "4    10Y1001A1001A796      Energinet CA          CTA                 250.0   \n",
       "..                ...               ...          ...                   ...   \n",
       "838  10YGB----------A  National Grid CA          CTA                 525.0   \n",
       "839  10YGB----------A  National Grid CA          CTA                 260.0   \n",
       "840  10YGB----------A  National Grid CA          CTA                 525.0   \n",
       "841  10YGB----------A  National Grid CA          CTA                  20.0   \n",
       "842  10YGB----------A  National Grid CA          CTA                 485.0   \n",
       "\n",
       "    MapCode PowerSystemResourceName ProductionTypeName ProductionUnitEIC  \\\n",
       "0        AT                 Lau GuD                gas  14W-PROD-LAU---8   \n",
       "1        AT  Kraftwerk Timelkam GUD                gas  14WENERGIE--WT02   \n",
       "2        AT     KW Dürnrohr Block 2          hard_coal  14W-KW-DU2-EVN-K   \n",
       "3        AT     KW Riedersbach 2 G2          hard_coal  14WENERGIEAGWR05   \n",
       "4        DK       Avedoerevaerket 1            biomass  45V0000000000091   \n",
       "..      ...                     ...                ...               ...   \n",
       "838      GB                 EGGPS-3          hard_coal  48WSTN0000EGGPS5   \n",
       "839      GB                  DEEP-1                gas  48WSTN00000DEEP3   \n",
       "840      GB                 EGGPS-2          hard_coal  48WSTN0000EGGPS5   \n",
       "841      GB                 WBUGT-4                gas  48WSTN0000WBUGT2   \n",
       "842      GB                  FIDL-1          hard_coal  48WSTN00000FIDLP   \n",
       "\n",
       "     duplicate_count  generation_2018             eic_g             eic_p  \\\n",
       "0                2.0            0.000  14W-GEN-LAU----Z  14W-PROD-LAU---8   \n",
       "1                2.0       685235.670  14WENERGIEAGWT4S  14WENERGIE--WT02   \n",
       "2                2.0       745290.410  14W-KW-DUE-EVN-A  14W-KW-DU2-EVN-K   \n",
       "3                2.0            0.000  14WENERGIEAGWR21  14WENERGIEAGWR05   \n",
       "4                1.0       646873.950  45W000000000029I  45W0000000000102   \n",
       "..               ...              ...               ...               ...   \n",
       "838              0.0       236678.180  48W00000EGGPS-3T  48WSTN0000EGGPS5   \n",
       "839              0.0       335757.515  48W000000DEEP-1N  48WSTN00000DEEP3   \n",
       "840              0.0        15438.130  48W00000EGGPS-2V  48WSTN0000EGGPS5   \n",
       "841              0.0           81.230  48W00000WBUGT-4N  48WSTN0000WBUGT2   \n",
       "842              0.0        37992.540  48W000000FIDL-16  48WSTN00000FIDLP   \n",
       "\n",
       "    EUTL_countrycode  EUTL_ID  \n",
       "0                 AT       86  \n",
       "1                 AT      149  \n",
       "2                 AT       94  \n",
       "3                 AT       79  \n",
       "4                 DK       42  \n",
       "..               ...      ...  \n",
       "838               GB      169  \n",
       "839               GB      187  \n",
       "840               GB      169  \n",
       "841               GB      145  \n",
       "842               GB      562  \n",
       "\n",
       "[843 rows x 14 columns]"
      ]
     },
     "execution_count": 9,
     "metadata": {},
     "output_type": "execute_result"
    }
   ],
   "source": [
    "generation_unit_info_matched"
   ]
  },
  {
   "cell_type": "code",
   "execution_count": 10,
   "metadata": {},
   "outputs": [
    {
     "data": {
      "text/plain": [
       "295018.8"
      ]
     },
     "execution_count": 10,
     "metadata": {},
     "output_type": "execute_result"
    }
   ],
   "source": [
    "# total capcity\n",
    "generation_unit_info_matched.InstalledGenCapacity.sum()"
   ]
  },
  {
   "cell_type": "code",
   "execution_count": 11,
   "metadata": {},
   "outputs": [
    {
     "name": "stdout",
     "output_type": "stream",
     "text": [
      "Number of gas units\n",
      "452\n",
      "Installed capacity of gas in MW\n",
      "152774.8\n",
      "Number of hard_coal units\n",
      "232\n",
      "Installed capacity of hard_coal in MW\n",
      "87003.0\n",
      "Number of biomass units\n",
      "3\n",
      "Installed capacity of biomass in MW\n",
      "1083.0\n",
      "Number of lignite units\n",
      "131\n",
      "Installed capacity of lignite in MW\n",
      "45173.0\n",
      "Number of other_fossil units\n",
      "25\n",
      "Installed capacity of other_fossil in MW\n",
      "8985.0\n"
     ]
    }
   ],
   "source": [
    "for i in generation_unit_info_matched.ProductionTypeName.unique():\n",
    "    print('Number of ' + i + ' units')\n",
    "    print(len(generation_unit_info_matched[generation_unit_info_matched.ProductionTypeName == i]))\n",
    "    print('Installed capacity of ' + i + ' in MW')\n",
    "    print(generation_unit_info_matched[generation_unit_info_matched.ProductionTypeName == i].InstalledGenCapacity.sum())\n",
    "    "
   ]
  },
  {
   "cell_type": "code",
   "execution_count": 12,
   "metadata": {},
   "outputs": [],
   "source": [
    "filter = ['gas', 'hard_coal', 'lignite']"
   ]
  },
  {
   "cell_type": "code",
   "execution_count": 13,
   "metadata": {},
   "outputs": [],
   "source": [
    "units = generation_unit_info.query('ProductionTypeName in @filter')"
   ]
  },
  {
   "cell_type": "code",
   "execution_count": 14,
   "metadata": {},
   "outputs": [],
   "source": [
    "units_matches = generation_unit_info_matched.query('ProductionTypeName in @filter')"
   ]
  },
  {
   "cell_type": "code",
   "execution_count": 15,
   "metadata": {},
   "outputs": [
    {
     "data": {
      "text/plain": [
       "60"
      ]
     },
     "execution_count": 15,
     "metadata": {},
     "output_type": "execute_result"
    }
   ],
   "source": [
    "len(units) - len(units_matches)"
   ]
  },
  {
   "cell_type": "code",
   "execution_count": 16,
   "metadata": {},
   "outputs": [
    {
     "data": {
      "text/plain": [
       "875"
      ]
     },
     "execution_count": 16,
     "metadata": {},
     "output_type": "execute_result"
    }
   ],
   "source": [
    "len(units)"
   ]
  },
  {
   "cell_type": "code",
   "execution_count": 17,
   "metadata": {},
   "outputs": [
    {
     "data": {
      "text/plain": [
       "284950.79999999993"
      ]
     },
     "execution_count": 17,
     "metadata": {},
     "output_type": "execute_result"
    }
   ],
   "source": [
    "units_matches.InstalledGenCapacity.sum()"
   ]
  },
  {
   "cell_type": "code",
   "execution_count": 18,
   "metadata": {},
   "outputs": [
    {
     "data": {
      "text/plain": [
       "18537.6"
      ]
     },
     "execution_count": 18,
     "metadata": {},
     "output_type": "execute_result"
    }
   ],
   "source": [
    "units.query('GenerationUnitEIC not in @units_matches.eic_g').InstalledGenCapacity.sum()"
   ]
  },
  {
   "cell_type": "code",
   "execution_count": 19,
   "metadata": {},
   "outputs": [
    {
     "data": {
      "text/plain": [
       "0      14W-GEN-LAU----Z\n",
       "1      14WENERGIEAGWT4S\n",
       "2      14W-KW-DUE-EVN-A\n",
       "3      14WENERGIEAGWR21\n",
       "5      45W000000000032T\n",
       "             ...       \n",
       "838    48W00000EGGPS-3T\n",
       "839    48W000000DEEP-1N\n",
       "840    48W00000EGGPS-2V\n",
       "841    48W00000WBUGT-4N\n",
       "842    48W000000FIDL-16\n",
       "Name: eic_g, Length: 815, dtype: object"
      ]
     },
     "execution_count": 19,
     "metadata": {},
     "output_type": "execute_result"
    }
   ],
   "source": [
    "units_matches.eic_g"
   ]
  },
  {
   "cell_type": "code",
   "execution_count": null,
   "metadata": {},
   "outputs": [],
   "source": []
  }
 ],
 "metadata": {
  "kernelspec": {
   "display_name": "Python 3",
   "language": "python",
   "name": "python3"
  },
  "language_info": {
   "codemirror_mode": {
    "name": "ipython",
    "version": 3
   },
   "file_extension": ".py",
   "mimetype": "text/x-python",
   "name": "python",
   "nbconvert_exporter": "python",
   "pygments_lexer": "ipython3",
   "version": "3.7.9"
  },
  "toc": {
   "base_numbering": 1,
   "nav_menu": {},
   "number_sections": true,
   "sideBar": true,
   "skip_h1_title": false,
   "title_cell": "Table of Contents",
   "title_sidebar": "Contents",
   "toc_cell": false,
   "toc_position": {},
   "toc_section_display": true,
   "toc_window_display": false
  }
 },
 "nbformat": 4,
 "nbformat_minor": 4
}
