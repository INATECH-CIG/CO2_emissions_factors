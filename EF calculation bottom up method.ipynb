{
 "cells": [
  {
   "cell_type": "markdown",
   "metadata": {
    "toc": true
   },
   "source": [
    "<h1>Table of Contents<span class=\"tocSkip\"></span></h1>\n",
    "<div class=\"toc\"><ul class=\"toc-item\"><li><span><a href=\"#Introduction-(bottom-up-method)\" data-toc-modified-id=\"Introduction-(bottom-up-method)-1\"><span class=\"toc-item-num\">1&nbsp;&nbsp;</span>Introduction (bottom up method)</a></span></li><li><span><a href=\"#Script-setup\" data-toc-modified-id=\"Script-setup-2\"><span class=\"toc-item-num\">2&nbsp;&nbsp;</span>Script setup</a></span></li><li><span><a href=\"#Data-directory-preparention\" data-toc-modified-id=\"Data-directory-preparention-3\"><span class=\"toc-item-num\">3&nbsp;&nbsp;</span>Data directory preparention</a></span></li><li><span><a href=\"#Data-file-preparation\" data-toc-modified-id=\"Data-file-preparation-4\"><span class=\"toc-item-num\">4&nbsp;&nbsp;</span>Data file preparation</a></span><ul class=\"toc-item\"><li><span><a href=\"#input-directory-(all-general-raw-data-files)\" data-toc-modified-id=\"input-directory-(all-general-raw-data-files)-4.1\"><span class=\"toc-item-num\">4.1&nbsp;&nbsp;</span><code>input</code> directory (all general raw data files)</a></span></li><li><span><a href=\"#input/Bottom_up_method-directory-(all-necessary-raw-data-files-for-the-bottom-up-method)\" data-toc-modified-id=\"input/Bottom_up_method-directory-(all-necessary-raw-data-files-for-the-bottom-up-method)-4.2\"><span class=\"toc-item-num\">4.2&nbsp;&nbsp;</span><code>input/Bottom_up_method</code> directory (all necessary raw data files for the bottom up method)</a></span></li></ul></li><li><span><a href=\"#Load-data-functions\" data-toc-modified-id=\"Load-data-functions-5\"><span class=\"toc-item-num\">5&nbsp;&nbsp;</span>Load data functions</a></span></li><li><span><a href=\"#Load-data-sets\" data-toc-modified-id=\"Load-data-sets-6\"><span class=\"toc-item-num\">6&nbsp;&nbsp;</span>Load data sets</a></span></li><li><span><a href=\"#Emission-factor-calculation-method\" data-toc-modified-id=\"Emission-factor-calculation-method-7\"><span class=\"toc-item-num\">7&nbsp;&nbsp;</span>Emission factor calculation method</a></span><ul class=\"toc-item\"><li><span><a href=\"#Data-preperation\" data-toc-modified-id=\"Data-preperation-7.1\"><span class=\"toc-item-num\">7.1&nbsp;&nbsp;</span>Data preperation</a></span></li><li><span><a href=\"#Emission-factor-per-power-plants\" data-toc-modified-id=\"Emission-factor-per-power-plants-7.2\"><span class=\"toc-item-num\">7.2&nbsp;&nbsp;</span>Emission factor per power plants</a></span><ul class=\"toc-item\"><li><span><a href=\"#Validation-of-emission-factor-per-power-plant\" data-toc-modified-id=\"Validation-of-emission-factor-per-power-plant-7.2.1\"><span class=\"toc-item-num\">7.2.1&nbsp;&nbsp;</span>Validation of emission factor per power plant</a></span></li></ul></li><li><span><a href=\"#Emission-factor-per-technology-and-country\" data-toc-modified-id=\"Emission-factor-per-technology-and-country-7.3\"><span class=\"toc-item-num\">7.3&nbsp;&nbsp;</span>Emission factor per technology and country</a></span></li><li><span><a href=\"#Emission-factor-per-country\" data-toc-modified-id=\"Emission-factor-per-country-7.4\"><span class=\"toc-item-num\">7.4&nbsp;&nbsp;</span>Emission factor per country</a></span></li></ul></li><li><span><a href=\"#Validation-of-calculated-emission-factors\" data-toc-modified-id=\"Validation-of-calculated-emission-factors-8\"><span class=\"toc-item-num\">8&nbsp;&nbsp;</span>Validation of calculated emission factors</a></span><ul class=\"toc-item\"><li><span><a href=\"#Validation-threshold-for-EF-per-technology-and-country\" data-toc-modified-id=\"Validation-threshold-for-EF-per-technology-and-country-8.1\"><span class=\"toc-item-num\">8.1&nbsp;&nbsp;</span>Validation threshold for EF per technology and country</a></span></li></ul></li><li><span><a href=\"#Export-final-EF-to-csv\" data-toc-modified-id=\"Export-final-EF-to-csv-9\"><span class=\"toc-item-num\">9&nbsp;&nbsp;</span>Export final EF to csv</a></span></li></ul></div>"
   ]
  },
  {
   "cell_type": "markdown",
   "metadata": {},
   "source": [
    "# Introduction (bottom up method)"
   ]
  },
  {
   "cell_type": "markdown",
   "metadata": {},
   "source": [
    "In this script, we determine country specific emission factors (EF) for different generation technologies. The calculated EF per technology is based on an bottom up method, that uses the hourly power plant generation and yearly published emission data on power plant level.\n",
    "\n",
    "The used method follows the idea to calculated a EF for individual power plants. In a late step the country specific EF per technology is determined by taking the mean EF from a representative sample of power plant-specific EFs in the resektive country.\n",
    "\n",
    "The method was applied for data from 2018."
   ]
  },
  {
   "cell_type": "markdown",
   "metadata": {},
   "source": [
    "# Script setup"
   ]
  },
  {
   "cell_type": "code",
   "execution_count": 1,
   "metadata": {},
   "outputs": [],
   "source": [
    "import os\n",
    "\n",
    "import pandas as pd\n",
    "import seaborn as sns\n",
    "import matplotlib.pyplot as plt\n",
    "from matplotlib.dates import DateFormatter \n",
    "\n",
    "%matplotlib inline\n",
    "plt.style.use('seaborn')\n",
    "plt.rcParams['figure.figsize'] = [15, 10]\n",
    "\n",
    "#helpers\n",
    "from helpers import load_timeseries_ENTSOE"
   ]
  },
  {
   "cell_type": "markdown",
   "metadata": {},
   "source": [
    "# Data directory preparention"
   ]
  },
  {
   "cell_type": "markdown",
   "metadata": {},
   "source": [
    "Create input, processed and output folders if they don't exist\n",
    "If the paths are relative, the corresponding folders will be created inside the current working directory.\n",
    "- input -> all needed input data\n",
    "- processed -> save point and exchange with other scripts\n",
    "- output -> final emission factors"
   ]
  },
  {
   "cell_type": "code",
   "execution_count": 2,
   "metadata": {},
   "outputs": [],
   "source": [
    "input_directory_path = os.path.join('input')\n",
    "Bootom_up_methode_input_directory_path = os.path.join('input', 'Bootom_up_methode')\n",
    "processed_directory_path = 'processed'\n",
    "output_directory_path = os.path.join('output')\n",
    "\n",
    "os.makedirs(input_directory_path, exist_ok=True)\n",
    "os.makedirs(Bootom_up_methode_input_directory_path, exist_ok=True)\n",
    "os.makedirs(processed_directory_path, exist_ok=True)\n",
    "os.makedirs(output_directory_path, exist_ok=True)"
   ]
  },
  {
   "cell_type": "markdown",
   "metadata": {},
   "source": [
    "# Data file preparation"
   ]
  },
  {
   "cell_type": "markdown",
   "metadata": {},
   "source": [
    "## `input` directory (all general raw data files)\n",
    "\n",
    "- 1) ENTSO-E production per type\n",
    "Production per type from ENTSO-E\n",
    "Original data: ENTSO-E Transparency Platform, Actual Generation per Production Type Available online: \n",
    "https://transparency.entsoe.eu/generation/r2/actualGenerationPerProductionType/show\n",
    "Processed with the following script that converts the data to hourly resolution (private script from INATECH):\n",
    "\n",
    " File - > time_series_60min_multiindex.csv -> generation per technology\n",
    " \n",
    "- 2) ENTSO-E production per unit\n",
    "Production per Unit from ENTSO-E\n",
    "Original data: ENTSO-E Transparency Platform, Actual Generation per Generation Unit Available online: https://transparency.entsoe.eu/generation/r2/actualGenerationPerGenerationUnit/show (accessed on Apr 29, 2020).\n",
    "Processed with the following script that converts the data to hourly resolution (private script from INATECH):\n",
    "https://github.com/INATECH-CIG/entso-e_GenerationOutputPerUnit\n",
    "\n",
    "File - > gen_data.csv -> hourly generation data per unit\n",
    "\n",
    "File - > unit_data.csv -> information about the generation units\n",
    "\n"
   ]
  },
  {
   "cell_type": "code",
   "execution_count": 3,
   "metadata": {},
   "outputs": [
    {
     "name": "stdout",
     "output_type": "stream",
     "text": [
      "['input\\\\Bootom_up_methode', 'input\\\\CO2_Signal', 'input\\\\ember_EF.csv', 'input\\\\entso.csv', 'input\\\\entsoe-statistical-factsheet-2018-stacked.csv', 'input\\\\entsoe_gen_type_hourly_table.csv', 'input\\\\entsoe_gen_type_hourly_table1.csv', 'input\\\\entso_gen_type_hourly_table_scaled.csv', 'input\\\\entso_scaled.csv', 'input\\\\gen_data_2015.csv', 'input\\\\gen_data_2016.csv', 'input\\\\gen_data_2017.csv', 'input\\\\gen_data_2018.csv', 'input\\\\Matching', 'input\\\\MDV_table.csv', 'input\\\\time_series_60min_multiindex.csv', 'input\\\\top_down_methode', 'input\\\\unit_data_2015.csv', 'input\\\\unit_data_2016.csv', 'input\\\\unit_data_2017.csv', 'input\\\\unit_data_2018.csv']\n"
     ]
    }
   ],
   "source": [
    "# Checks if the the input directories are empty or not\n",
    "# Checks all filenames in the input directory\n",
    "\n",
    "if not os.listdir(input_directory_path) :\n",
    "    print(\"The directory for the bootom up method is empty. Please provide the data to the directory as described in the instructions above.\")\n",
    "\n",
    "\n",
    "filenames = [os.path.join(input_directory_path, fn) for fn in os.listdir(input_directory_path)]\n",
    "\n",
    "print(filenames)"
   ]
  },
  {
   "cell_type": "markdown",
   "metadata": {},
   "source": [
    "## `input/Bottom_up_method` directory (all necessary raw data files for the bottom up method)\n",
    "\n",
    "Based on the developed method the following data sets needed:\n",
    "\n",
    "- 1) Matcher for power plants in ENTSO-E and EUTL Data for Europe\n",
    "The matching was performed by a manual process (see description).\n",
    "\n",
    "File - > Matching_Entso_EUTL_EU.csv\n",
    "\n",
    "- 2) EU Emissions Data (EUTL)\n",
    "Data are provided in the report section of the following web side:\n",
    "https://ec.europa.eu/clima/policies/ets/registry_en#tab-0-1\n",
    "\n",
    "For example: ->Documentation->Reports->Verified Emissions for 2019\n",
    "\n",
    "File - > \"Verified Emissions for 2019\" -> verified_emissions_2018_en.xlsx -> converted to .csv\n",
    "\n",
    "Another way to check the data is directly through the European Union Transaction Log:\n",
    "https://ec.europa.eu/clima/ets/napMgt.do?languageCode=en"
   ]
  },
  {
   "cell_type": "code",
   "execution_count": 4,
   "metadata": {},
   "outputs": [
    {
     "name": "stdout",
     "output_type": "stream",
     "text": [
      "['input\\\\Bootom_up_methode\\\\matching_ENTSOE_EU_ETS.csv', 'input\\\\Bootom_up_methode\\\\old', 'input\\\\Bootom_up_methode\\\\verified_emissions_2018_en.csv', 'input\\\\Bootom_up_methode\\\\verified_emissions_2018_en.xlsx', 'input\\\\Bootom_up_methode\\\\~$verified_emissions_2018_en.xlsx']\n"
     ]
    }
   ],
   "source": [
    "# Checks if the the input directories are empty or not\n",
    "# Checks all filenames in the input directory\n",
    "\n",
    "if not os.listdir(Bootom_up_methode_input_directory_path) :\n",
    "    print(\"The directory for the bootom up method is empty. Please provide the data to the directory as described in the instructions above.\")\n",
    "\n",
    "\n",
    "filenames = [os.path.join(Bootom_up_methode_input_directory_path, fn) for fn in os.listdir(Bootom_up_methode_input_directory_path)]\n",
    "\n",
    "print(filenames)"
   ]
  },
  {
   "cell_type": "markdown",
   "metadata": {},
   "source": [
    "# Load data functions"
   ]
  },
  {
   "cell_type": "code",
   "execution_count": 5,
   "metadata": {},
   "outputs": [],
   "source": [
    "def change_ENTSOE_ProductionTypeName (ProductionTypeName):\n",
    "    \"\"\"\n",
    "    Converts ENTSO-E ProductionTypeNames into INATECH technology type names.\n",
    "\n",
    "    Parameters\n",
    "    ----------\n",
    "    ProductionTypeName : string\n",
    "        DESCRIPTION.\n",
    "\n",
    "    Returns\n",
    "    -------\n",
    "    string\n",
    "        DESCRIPTION.\n",
    "\n",
    "    \"\"\"\n",
    "    return ProductionTypeName.replace({\n",
    "            'Fossil Hard coal': 'hard_coal', \n",
    "            'Fossil Brown coal/Lignite': 'lignite', \n",
    "            'Fossil Gas': 'gas',\n",
    "            'Fossil Coal-derived gas': 'other_fossil',\n",
    "            'Fossil Peat': 'other_fossil',\n",
    "            'Nuclear': 'nuclear',\n",
    "            'Biomass': 'biomass',\n",
    "            'Waste': 'waste',\n",
    "            'Geothermal': 'other_renewable',\n",
    "            'Marine': 'other_renewable',\n",
    "            'Other': 'other_fossil',\n",
    "            'Hydro Pumped Storage': 'hydro',\n",
    "            'Hydro Run-of-river and poundage': 'hydro',\n",
    "            'Hydro Water Reservoir': 'hydro',\n",
    "            'Fossil Oil': 'other_fossil',\n",
    "            'Fossil Oil shale': 'other_fossil', \n",
    "            'Solar': 'solar',\n",
    "            'Wind Onshore': 'wind_onshore',\n",
    "            'Wind Offshore': 'wind_offshore',\n",
    "            'Other renewable': 'other_renewable'}, inplace = False)"
   ]
  },
  {
   "cell_type": "code",
   "execution_count": 6,
   "metadata": {},
   "outputs": [],
   "source": [
    "def load_matching_data_EU(path, fn):\n",
    "    \"\"\"\n",
    "    Load the matching list for EU power plants with ENTSO-E identifier and the EUTL identifier.\n",
    "        \n",
    "    Parameters\n",
    "    ----------\n",
    "    path: str\n",
    "        path to data\n",
    "    fn : str\n",
    "        filename\n",
    "        \n",
    "    \"\"\"\n",
    "    \n",
    "    df = pd.read_csv(os.path.join(path, fn), sep = ',', header = 0, index_col=0)\n",
    "\n",
    "    return df\n",
    "\n",
    "def load_EUTL_data(path, fn):\n",
    "    \"\"\"\n",
    "    Load the EU emission data (EUTL).\n",
    "        \n",
    "    Parameters\n",
    "    ----------\n",
    "    path: str\n",
    "        path to data\n",
    "    fn : str\n",
    "        filename\n",
    "        \n",
    "    \"\"\"\n",
    "    \n",
    "    df = pd.read_csv(os.path.join(path, fn),sep = ';', header = 13, encoding='ISO-8859-1')\n",
    "\n",
    "    return df\n",
    "\n",
    "def load_generation_per_unit(path, fn):\n",
    "    \"\"\"\n",
    "    Load the ENTSO-E gernation per unit data.\n",
    "        \n",
    "    Parameters\n",
    "    ----------\n",
    "    path: str\n",
    "        path to data\n",
    "    fn : str\n",
    "        filename\n",
    "        \n",
    "    \"\"\"\n",
    "    \n",
    "    generation = pd.read_csv(os.path.join(path, fn),sep = ',',index_col=0,parse_dates=True)\n",
    "    \n",
    "    return generation\n",
    "\n",
    "def load_unit_info(path, fn):\n",
    "    \"\"\"\n",
    "    Load the ENTSO-E generation unit information.\n",
    "        \n",
    "    Parameters\n",
    "    ----------\n",
    "    path: str\n",
    "        path to data\n",
    "    fn : str\n",
    "        filename\n",
    "        \n",
    "    \"\"\"\n",
    "    \n",
    "    df = pd.read_csv(os.path.join(path, fn),sep = ',',index_col=0)\n",
    "    \n",
    "    # Rename production type name according to own convention\n",
    "    df.ProductionTypeName = change_ENTSOE_ProductionTypeName(df.ProductionTypeName)\n",
    "    \n",
    "    # set name for the index\n",
    "    df.index.set_names('GenerationUnitEIC', inplace=True)\n",
    "\n",
    "    return df"
   ]
  },
  {
   "cell_type": "markdown",
   "metadata": {},
   "source": [
    "# Load data sets"
   ]
  },
  {
   "cell_type": "markdown",
   "metadata": {},
   "source": [
    "#### Load power plant generation data"
   ]
  },
  {
   "cell_type": "code",
   "execution_count": 7,
   "metadata": {},
   "outputs": [],
   "source": [
    "generation_per_unit_2018 = load_generation_per_unit(input_directory_path, 'gen_data_2018.csv')"
   ]
  },
  {
   "cell_type": "markdown",
   "metadata": {},
   "source": [
    "#### Load power plant unit inforamtion (capacity, name, etc.)"
   ]
  },
  {
   "cell_type": "code",
   "execution_count": 8,
   "metadata": {},
   "outputs": [],
   "source": [
    "generation_unit_info = load_unit_info(input_directory_path, 'unit_data_2018.csv')"
   ]
  },
  {
   "cell_type": "markdown",
   "metadata": {},
   "source": [
    "#### Load CO2_emissions data from EUTL dataset"
   ]
  },
  {
   "cell_type": "code",
   "execution_count": 9,
   "metadata": {},
   "outputs": [],
   "source": [
    "EUTL_emissions = load_EUTL_data(Bootom_up_methode_input_directory_path, 'verified_emissions_2018_en.csv')"
   ]
  },
  {
   "cell_type": "markdown",
   "metadata": {},
   "source": [
    "#### Load machting information for power plant data"
   ]
  },
  {
   "cell_type": "code",
   "execution_count": 10,
   "metadata": {},
   "outputs": [],
   "source": [
    "unit_matching_EU = load_matching_data_EU(Bootom_up_methode_input_directory_path, 'matching_ENTSOE_EU_ETS.csv')"
   ]
  },
  {
   "cell_type": "markdown",
   "metadata": {},
   "source": [
    "# Emission factor calculation method"
   ]
  },
  {
   "cell_type": "markdown",
   "metadata": {},
   "source": [
    "In the following the EF calculation is down step by step"
   ]
  },
  {
   "cell_type": "markdown",
   "metadata": {},
   "source": [
    "## Data preperation"
   ]
  },
  {
   "cell_type": "markdown",
   "metadata": {},
   "source": [
    "#### Yearly power generation per unit"
   ]
  },
  {
   "cell_type": "markdown",
   "metadata": {},
   "source": [
    "Store the yearly generation per power plant to the power plant information data set."
   ]
  },
  {
   "cell_type": "code",
   "execution_count": 11,
   "metadata": {},
   "outputs": [],
   "source": [
    "generation_unit_info['generation_2018'] = generation_per_unit_2018.sum()"
   ]
  },
  {
   "cell_type": "markdown",
   "metadata": {},
   "source": [
    "#### Matching ENTSO-E ID and EUTL ID"
   ]
  },
  {
   "cell_type": "markdown",
   "metadata": {},
   "source": [
    "Combining matching information (ENTSO-E ID and EUTL ID) to the generation unit info. Keep only matched information."
   ]
  },
  {
   "cell_type": "code",
   "execution_count": 12,
   "metadata": {},
   "outputs": [],
   "source": [
    "generation_unit_info_matched = pd.merge(generation_unit_info, unit_matching_EU, left_on='GenerationUnitEIC', right_on='eic_g', how='inner')"
   ]
  },
  {
   "cell_type": "code",
   "execution_count": 13,
   "metadata": {},
   "outputs": [
    {
     "data": {
      "text/plain": [
       "array(['gas', 'hard_coal', 'biomass', 'lignite', 'other_fossil'],\n",
       "      dtype=object)"
      ]
     },
     "execution_count": 13,
     "metadata": {},
     "output_type": "execute_result"
    }
   ],
   "source": [
    "generation_unit_info_matched.ProductionTypeName.unique()"
   ]
  },
  {
   "cell_type": "markdown",
   "metadata": {},
   "source": [
    "#### Connecting emissions and production data"
   ]
  },
  {
   "cell_type": "markdown",
   "metadata": {},
   "source": [
    "Create a unique identifier from the country code and the plant ID in the emission data set and generation unit data set."
   ]
  },
  {
   "cell_type": "code",
   "execution_count": 14,
   "metadata": {},
   "outputs": [],
   "source": [
    "generation_unit_info_matched['Unique_ID'] = generation_unit_info_matched.EUTL_countrycode + generation_unit_info_matched.EUTL_ID.astype(str)\n",
    "EUTL_emissions['Unique_ID'] = EUTL_emissions.REGISTRY_CODE + EUTL_emissions.INSTALLATION_IDENTIFIER.astype(int).astype(str)"
   ]
  },
  {
   "cell_type": "markdown",
   "metadata": {},
   "source": [
    "#### Merge both datasets "
   ]
  },
  {
   "cell_type": "code",
   "execution_count": 15,
   "metadata": {},
   "outputs": [],
   "source": [
    "generation_unit_info_matched = generation_unit_info_matched.merge(EUTL_emissions, left_on='Unique_ID', right_on='Unique_ID', how='inner')"
   ]
  },
  {
   "cell_type": "code",
   "execution_count": 16,
   "metadata": {},
   "outputs": [],
   "source": [
    "generation_unit_info_matched.set_index('eic_g', inplace=True)"
   ]
  },
  {
   "cell_type": "markdown",
   "metadata": {},
   "source": [
    "Show first 10 entries from data"
   ]
  },
  {
   "cell_type": "code",
   "execution_count": 17,
   "metadata": {},
   "outputs": [
    {
     "data": {
      "text/html": [
       "<div>\n",
       "<style scoped>\n",
       "    .dataframe tbody tr th:only-of-type {\n",
       "        vertical-align: middle;\n",
       "    }\n",
       "\n",
       "    .dataframe tbody tr th {\n",
       "        vertical-align: top;\n",
       "    }\n",
       "\n",
       "    .dataframe thead th {\n",
       "        text-align: right;\n",
       "    }\n",
       "</style>\n",
       "<table border=\"1\" class=\"dataframe\">\n",
       "  <thead>\n",
       "    <tr style=\"text-align: right;\">\n",
       "      <th></th>\n",
       "      <th>AreaCode</th>\n",
       "      <th>AreaName</th>\n",
       "      <th>AreaTypeCode</th>\n",
       "      <th>InstalledGenCapacity</th>\n",
       "      <th>MapCode</th>\n",
       "      <th>PowerSystemResourceName</th>\n",
       "      <th>ProductionTypeName</th>\n",
       "      <th>ProductionUnitEIC</th>\n",
       "      <th>duplicate_count</th>\n",
       "      <th>generation_2018</th>\n",
       "      <th>...</th>\n",
       "      <th>VERIFIED_EMISSIONS_2012</th>\n",
       "      <th>ALLOCATION_2011</th>\n",
       "      <th>VERIFIED_EMISSIONS_2011</th>\n",
       "      <th>ALLOCATION_2010</th>\n",
       "      <th>VERIFIED_EMISSIONS_2010</th>\n",
       "      <th>ALLOCATION_2009</th>\n",
       "      <th>VERIFIED_EMISSIONS_2009</th>\n",
       "      <th>ALLOCATION_2008</th>\n",
       "      <th>VERIFIED_EMISSIONS_2008</th>\n",
       "      <th>ACCOUNT_CLOSURE</th>\n",
       "    </tr>\n",
       "    <tr>\n",
       "      <th>eic_g</th>\n",
       "      <th></th>\n",
       "      <th></th>\n",
       "      <th></th>\n",
       "      <th></th>\n",
       "      <th></th>\n",
       "      <th></th>\n",
       "      <th></th>\n",
       "      <th></th>\n",
       "      <th></th>\n",
       "      <th></th>\n",
       "      <th></th>\n",
       "      <th></th>\n",
       "      <th></th>\n",
       "      <th></th>\n",
       "      <th></th>\n",
       "      <th></th>\n",
       "      <th></th>\n",
       "      <th></th>\n",
       "      <th></th>\n",
       "      <th></th>\n",
       "      <th></th>\n",
       "    </tr>\n",
       "  </thead>\n",
       "  <tbody>\n",
       "    <tr>\n",
       "      <th>14W-GEN-LAU----Z</th>\n",
       "      <td>10YAT-APG------L</td>\n",
       "      <td>APG CA</td>\n",
       "      <td>CTA</td>\n",
       "      <td>140.0</td>\n",
       "      <td>AT</td>\n",
       "      <td>Lau GuD</td>\n",
       "      <td>gas</td>\n",
       "      <td>14W-PROD-LAU---8</td>\n",
       "      <td>2.0</td>\n",
       "      <td>0.00</td>\n",
       "      <td>...</td>\n",
       "      <td>95890</td>\n",
       "      <td>304721</td>\n",
       "      <td>109080</td>\n",
       "      <td>304721</td>\n",
       "      <td>206265</td>\n",
       "      <td>304721</td>\n",
       "      <td>118982</td>\n",
       "      <td>304721</td>\n",
       "      <td>256284</td>\n",
       "      <td>OPEN</td>\n",
       "    </tr>\n",
       "    <tr>\n",
       "      <th>14WENERGIEAGWT4S</th>\n",
       "      <td>10YAT-APG------L</td>\n",
       "      <td>APG CA</td>\n",
       "      <td>CTA</td>\n",
       "      <td>400.0</td>\n",
       "      <td>AT</td>\n",
       "      <td>Kraftwerk Timelkam GUD</td>\n",
       "      <td>gas</td>\n",
       "      <td>14WENERGIE--WT02</td>\n",
       "      <td>2.0</td>\n",
       "      <td>685235.67</td>\n",
       "      <td>...</td>\n",
       "      <td>188992</td>\n",
       "      <td>681283</td>\n",
       "      <td>560205</td>\n",
       "      <td>681283</td>\n",
       "      <td>580029</td>\n",
       "      <td>681283</td>\n",
       "      <td>340026</td>\n",
       "      <td>218704</td>\n",
       "      <td>103553</td>\n",
       "      <td>OPEN</td>\n",
       "    </tr>\n",
       "    <tr>\n",
       "      <th>14W-KW-DUE-EVN-A</th>\n",
       "      <td>10YAT-APG------L</td>\n",
       "      <td>APG CA</td>\n",
       "      <td>CTA</td>\n",
       "      <td>332.0</td>\n",
       "      <td>AT</td>\n",
       "      <td>KW Dürnrohr Block 2</td>\n",
       "      <td>hard_coal</td>\n",
       "      <td>14W-KW-DU2-EVN-K</td>\n",
       "      <td>2.0</td>\n",
       "      <td>745290.41</td>\n",
       "      <td>...</td>\n",
       "      <td>1195366</td>\n",
       "      <td>1139438</td>\n",
       "      <td>1611109</td>\n",
       "      <td>1139438</td>\n",
       "      <td>1592747</td>\n",
       "      <td>1139438</td>\n",
       "      <td>899251</td>\n",
       "      <td>1139438</td>\n",
       "      <td>1435406</td>\n",
       "      <td>OPEN</td>\n",
       "    </tr>\n",
       "    <tr>\n",
       "      <th>14WENERGIEAGWR21</th>\n",
       "      <td>10YAT-APG------L</td>\n",
       "      <td>APG CA</td>\n",
       "      <td>CTA</td>\n",
       "      <td>150.0</td>\n",
       "      <td>AT</td>\n",
       "      <td>KW Riedersbach 2 G2</td>\n",
       "      <td>hard_coal</td>\n",
       "      <td>14WENERGIEAGWR05</td>\n",
       "      <td>2.0</td>\n",
       "      <td>0.00</td>\n",
       "      <td>...</td>\n",
       "      <td>208067</td>\n",
       "      <td>437140</td>\n",
       "      <td>253226</td>\n",
       "      <td>437140</td>\n",
       "      <td>310019</td>\n",
       "      <td>437140</td>\n",
       "      <td>342118</td>\n",
       "      <td>437140</td>\n",
       "      <td>730397</td>\n",
       "      <td>OPEN</td>\n",
       "    </tr>\n",
       "    <tr>\n",
       "      <th>45W000000000029I</th>\n",
       "      <td>10Y1001A1001A796</td>\n",
       "      <td>Energinet CA</td>\n",
       "      <td>CTA</td>\n",
       "      <td>250.0</td>\n",
       "      <td>DK</td>\n",
       "      <td>Avedoerevaerket 1</td>\n",
       "      <td>biomass</td>\n",
       "      <td>45V0000000000091</td>\n",
       "      <td>1.0</td>\n",
       "      <td>646873.95</td>\n",
       "      <td>...</td>\n",
       "      <td>1007432</td>\n",
       "      <td>1763671</td>\n",
       "      <td>1543126</td>\n",
       "      <td>1763671</td>\n",
       "      <td>1625381</td>\n",
       "      <td>1763671</td>\n",
       "      <td>1772512</td>\n",
       "      <td>1763673</td>\n",
       "      <td>1890106</td>\n",
       "      <td>OPEN</td>\n",
       "    </tr>\n",
       "  </tbody>\n",
       "</table>\n",
       "<p>5 rows × 55 columns</p>\n",
       "</div>"
      ],
      "text/plain": [
       "                          AreaCode      AreaName AreaTypeCode  \\\n",
       "eic_g                                                           \n",
       "14W-GEN-LAU----Z  10YAT-APG------L        APG CA          CTA   \n",
       "14WENERGIEAGWT4S  10YAT-APG------L        APG CA          CTA   \n",
       "14W-KW-DUE-EVN-A  10YAT-APG------L        APG CA          CTA   \n",
       "14WENERGIEAGWR21  10YAT-APG------L        APG CA          CTA   \n",
       "45W000000000029I  10Y1001A1001A796  Energinet CA          CTA   \n",
       "\n",
       "                  InstalledGenCapacity MapCode PowerSystemResourceName  \\\n",
       "eic_g                                                                    \n",
       "14W-GEN-LAU----Z                 140.0      AT                 Lau GuD   \n",
       "14WENERGIEAGWT4S                 400.0      AT  Kraftwerk Timelkam GUD   \n",
       "14W-KW-DUE-EVN-A                 332.0      AT     KW Dürnrohr Block 2   \n",
       "14WENERGIEAGWR21                 150.0      AT     KW Riedersbach 2 G2   \n",
       "45W000000000029I                 250.0      DK       Avedoerevaerket 1   \n",
       "\n",
       "                 ProductionTypeName ProductionUnitEIC  duplicate_count  \\\n",
       "eic_g                                                                    \n",
       "14W-GEN-LAU----Z                gas  14W-PROD-LAU---8              2.0   \n",
       "14WENERGIEAGWT4S                gas  14WENERGIE--WT02              2.0   \n",
       "14W-KW-DUE-EVN-A          hard_coal  14W-KW-DU2-EVN-K              2.0   \n",
       "14WENERGIEAGWR21          hard_coal  14WENERGIEAGWR05              2.0   \n",
       "45W000000000029I            biomass  45V0000000000091              1.0   \n",
       "\n",
       "                  generation_2018  ... VERIFIED_EMISSIONS_2012  \\\n",
       "eic_g                              ...                           \n",
       "14W-GEN-LAU----Z             0.00  ...                   95890   \n",
       "14WENERGIEAGWT4S        685235.67  ...                  188992   \n",
       "14W-KW-DUE-EVN-A        745290.41  ...                 1195366   \n",
       "14WENERGIEAGWR21             0.00  ...                  208067   \n",
       "45W000000000029I        646873.95  ...                 1007432   \n",
       "\n",
       "                 ALLOCATION_2011  VERIFIED_EMISSIONS_2011 ALLOCATION_2010  \\\n",
       "eic_g                                                                       \n",
       "14W-GEN-LAU----Z          304721                   109080          304721   \n",
       "14WENERGIEAGWT4S          681283                   560205          681283   \n",
       "14W-KW-DUE-EVN-A         1139438                  1611109         1139438   \n",
       "14WENERGIEAGWR21          437140                   253226          437140   \n",
       "45W000000000029I         1763671                  1543126         1763671   \n",
       "\n",
       "                 VERIFIED_EMISSIONS_2010 ALLOCATION_2009  \\\n",
       "eic_g                                                      \n",
       "14W-GEN-LAU----Z                  206265          304721   \n",
       "14WENERGIEAGWT4S                  580029          681283   \n",
       "14W-KW-DUE-EVN-A                 1592747         1139438   \n",
       "14WENERGIEAGWR21                  310019          437140   \n",
       "45W000000000029I                 1625381         1763671   \n",
       "\n",
       "                 VERIFIED_EMISSIONS_2009  ALLOCATION_2008  \\\n",
       "eic_g                                                       \n",
       "14W-GEN-LAU----Z                  118982           304721   \n",
       "14WENERGIEAGWT4S                  340026           218704   \n",
       "14W-KW-DUE-EVN-A                  899251          1139438   \n",
       "14WENERGIEAGWR21                  342118           437140   \n",
       "45W000000000029I                 1772512          1763673   \n",
       "\n",
       "                 VERIFIED_EMISSIONS_2008  ACCOUNT_CLOSURE  \n",
       "eic_g                                                      \n",
       "14W-GEN-LAU----Z                  256284             OPEN  \n",
       "14WENERGIEAGWT4S                  103553             OPEN  \n",
       "14W-KW-DUE-EVN-A                 1435406             OPEN  \n",
       "14WENERGIEAGWR21                  730397             OPEN  \n",
       "45W000000000029I                 1890106             OPEN  \n",
       "\n",
       "[5 rows x 55 columns]"
      ]
     },
     "execution_count": 17,
     "metadata": {},
     "output_type": "execute_result"
    }
   ],
   "source": [
    "generation_unit_info_matched.head(5)"
   ]
  },
  {
   "cell_type": "code",
   "execution_count": 18,
   "metadata": {},
   "outputs": [
    {
     "data": {
      "text/plain": [
       "Index(['AreaCode', 'AreaName', 'AreaTypeCode', 'InstalledGenCapacity',\n",
       "       'MapCode', 'PowerSystemResourceName', 'ProductionTypeName',\n",
       "       'ProductionUnitEIC', 'duplicate_count', 'generation_2018', 'eic_p',\n",
       "       'EUTL_countrycode', 'EUTL_ID', 'Unique_ID', 'REGISTRY_CODE',\n",
       "       'IDENTIFIER_IN_REG', 'INSTALLATION_NAME', 'INSTALLATION_IDENTIFIER',\n",
       "       'PERMIT_IDENTIFIER', 'MAIN_ACTIVITY_TYPE_CODE', 'ALLOCATION_2018',\n",
       "       'ALLOCATION_RESERVE_2018', 'ALLOCATION_TRANSITIONAL_2018',\n",
       "       'VERIFIED_EMISSIONS_2018', 'ALLOCATION_2017', 'ALLOCATION_RESERVE_2017',\n",
       "       'ALLOCATION_TRANSITIONAL_2017', 'VERIFIED_EMISSIONS_2017',\n",
       "       'ALLOCATION_2016', 'ALLOCATION_RESERVE_2016',\n",
       "       'ALLOCATION_TRANSITIONAL_2016', 'VERIFIED_EMISSIONS_2016',\n",
       "       'ALLOCATION_2015', 'ALLOCATION_RESERVE_2015',\n",
       "       'ALLOCATION_TRANSITIONAL_2015', 'VERIFIED_EMISSIONS_2015',\n",
       "       'ALLOCATION_2014', 'ALLOCATION_RESERVE_2014',\n",
       "       'ALLOCATION_TRANSITIONAL_2014', 'VERIFIED_EMISSIONS_2014',\n",
       "       'ALLOCATION_2013', 'ALLOCATION_RESERVE_2013',\n",
       "       'ALLOCATION_TRANSITIONAL_2013', 'VERIFIED_EMISSIONS_2013',\n",
       "       'ALLOCATION_2012', 'VERIFIED_EMISSIONS_2012', 'ALLOCATION_2011',\n",
       "       'VERIFIED_EMISSIONS_2011', 'ALLOCATION_2010', 'VERIFIED_EMISSIONS_2010',\n",
       "       'ALLOCATION_2009', 'VERIFIED_EMISSIONS_2009', 'ALLOCATION_2008',\n",
       "       'VERIFIED_EMISSIONS_2008', 'ACCOUNT_CLOSURE'],\n",
       "      dtype='object')"
      ]
     },
     "execution_count": 18,
     "metadata": {},
     "output_type": "execute_result"
    }
   ],
   "source": [
    "generation_unit_info_matched.columns"
   ]
  },
  {
   "cell_type": "markdown",
   "metadata": {},
   "source": [
    "## Emission factor per power plants"
   ]
  },
  {
   "cell_type": "markdown",
   "metadata": {},
   "source": [
    "The following function calculates the EF for each entry in the EUTL data set. Due to the fact, that the EUTL data set has a spatial resolution on site level and not on power plant level it can happen, that power plants data need to be aggregated together in the emission calculation.\n"
   ]
  },
  {
   "cell_type": "code",
   "execution_count": 19,
   "metadata": {},
   "outputs": [],
   "source": [
    "def calc_side_gen(df, year):\n",
    "    # calculate the electricity generation per side.\n",
    "    side_generation = df.groupby(['EUTL_countrycode','EUTL_ID']).sum()['generation_' + str(year)].reset_index()\n",
    "    \n",
    "    # add side generation to PP dataset\n",
    "    df['side_generation_' + str(year)] = df.apply(lambda x: side_generation.query('EUTL_countrycode == @x.EUTL_countrycode')\\\n",
    "                                                              .query('EUTL_ID == @x.EUTL_ID').iloc[0,2],axis = 1)\n",
    "    \n",
    "    return df"
   ]
  },
  {
   "cell_type": "code",
   "execution_count": 20,
   "metadata": {},
   "outputs": [],
   "source": [
    "years = [2018]\n",
    "\n",
    "for i in years:\n",
    "    generation_unit_info_matched = calc_side_gen(generation_unit_info_matched, i)"
   ]
  },
  {
   "cell_type": "markdown",
   "metadata": {},
   "source": [
    "Distribute the reported emissions per site across the individual power plants in relation to the reported generation per unit at one side."
   ]
  },
  {
   "cell_type": "code",
   "execution_count": 21,
   "metadata": {},
   "outputs": [],
   "source": [
    "for i in years:\n",
    "    generation_unit_info_matched['ALLOCATION_' + str(i)] = generation_unit_info_matched['ALLOCATION_' + str(i)].apply(str)\n",
    "    generation_unit_info_matched['ALLOCATION_' + str(i)].replace({'Excluded' : 0}, inplace = True)\n",
    "    generation_unit_info_matched['ALLOCATION_' + str(i)].replace({'-1' : 0}, inplace = True)\n",
    "    generation_unit_info_matched['ALLOCATION_' + str(i)] = generation_unit_info_matched['ALLOCATION_' + str(i)].apply(float)\n",
    "    generation_unit_info_matched['VERIFIED_EMISSIONS_' + str(i)] = generation_unit_info_matched['VERIFIED_EMISSIONS_' + str(i)].apply(str)\n",
    "    generation_unit_info_matched['VERIFIED_EMISSIONS_' + str(i)].replace({'Excluded' : 0}, inplace = True)\n",
    "    generation_unit_info_matched['VERIFIED_EMISSIONS_' + str(i)].replace({'-1' : 0}, inplace = True)\n",
    "    generation_unit_info_matched['VERIFIED_EMISSIONS_' + str(i)] = generation_unit_info_matched['VERIFIED_EMISSIONS_' + str(i)].apply(float)\n",
    "    \n",
    "\n"
   ]
  },
  {
   "cell_type": "code",
   "execution_count": 22,
   "metadata": {},
   "outputs": [],
   "source": [
    "### Achtung hier ändere ich die Emissionen \n",
    "for i in years:\n",
    "    generation_unit_info_matched['VERIFIED_EMISSIONS_' + str(i)] = generation_unit_info_matched['VERIFIED_EMISSIONS_' + str(i)] - ((generation_unit_info_matched['ALLOCATION_' + str(i)] / 50) * 100)"
   ]
  },
  {
   "cell_type": "code",
   "execution_count": 23,
   "metadata": {},
   "outputs": [],
   "source": [
    "for i in years:\n",
    "    generation_unit_info_matched['VERIFIED_EMISSIONS_' + str(i)] = generation_unit_info_matched['VERIFIED_EMISSIONS_' + str(i)].apply(str)\n",
    "    generation_unit_info_matched['VERIFIED_EMISSIONS_' + str(i)].replace({'Excluded' : 0}, inplace = True)\n",
    "    generation_unit_info_matched['VERIFIED_EMISSIONS_' + str(i)] = generation_unit_info_matched['VERIFIED_EMISSIONS_' + str(i)].apply(float)\n",
    "    generation_unit_info_matched['PP_emissions_' + str(i)] = (generation_unit_info_matched['VERIFIED_EMISSIONS_' + str(i)] / generation_unit_info_matched['side_generation_' + str(i)]) * generation_unit_info_matched['generation_' + str(i)]    "
   ]
  },
  {
   "cell_type": "markdown",
   "metadata": {},
   "source": [
    "Calculates the emission factor for each PP."
   ]
  },
  {
   "cell_type": "code",
   "execution_count": 24,
   "metadata": {},
   "outputs": [],
   "source": [
    "for i in years:\n",
    "    generation_unit_info_matched['PP_EF' + str(i)] = generation_unit_info_matched['PP_emissions_' + str(i)] / generation_unit_info_matched['generation_' + str(i)]"
   ]
  },
  {
   "cell_type": "markdown",
   "metadata": {},
   "source": [
    "Show first 10 entries from data.\n",
    "\n",
    "Attention, the verified_emissions_* per power plant are always site-related (eic_p), if there are several power plants at one site, the emissions have to be distributed among the power plants. (see. PP_emissions)"
   ]
  },
  {
   "cell_type": "code",
   "execution_count": 25,
   "metadata": {},
   "outputs": [
    {
     "data": {
      "text/html": [
       "<div>\n",
       "<style scoped>\n",
       "    .dataframe tbody tr th:only-of-type {\n",
       "        vertical-align: middle;\n",
       "    }\n",
       "\n",
       "    .dataframe tbody tr th {\n",
       "        vertical-align: top;\n",
       "    }\n",
       "\n",
       "    .dataframe thead th {\n",
       "        text-align: right;\n",
       "    }\n",
       "</style>\n",
       "<table border=\"1\" class=\"dataframe\">\n",
       "  <thead>\n",
       "    <tr style=\"text-align: right;\">\n",
       "      <th></th>\n",
       "      <th>AreaCode</th>\n",
       "      <th>AreaName</th>\n",
       "      <th>AreaTypeCode</th>\n",
       "      <th>InstalledGenCapacity</th>\n",
       "      <th>MapCode</th>\n",
       "      <th>PowerSystemResourceName</th>\n",
       "      <th>ProductionTypeName</th>\n",
       "      <th>ProductionUnitEIC</th>\n",
       "      <th>duplicate_count</th>\n",
       "      <th>generation_2018</th>\n",
       "      <th>...</th>\n",
       "      <th>ALLOCATION_2010</th>\n",
       "      <th>VERIFIED_EMISSIONS_2010</th>\n",
       "      <th>ALLOCATION_2009</th>\n",
       "      <th>VERIFIED_EMISSIONS_2009</th>\n",
       "      <th>ALLOCATION_2008</th>\n",
       "      <th>VERIFIED_EMISSIONS_2008</th>\n",
       "      <th>ACCOUNT_CLOSURE</th>\n",
       "      <th>side_generation_2018</th>\n",
       "      <th>PP_emissions_2018</th>\n",
       "      <th>PP_EF2018</th>\n",
       "    </tr>\n",
       "    <tr>\n",
       "      <th>eic_g</th>\n",
       "      <th></th>\n",
       "      <th></th>\n",
       "      <th></th>\n",
       "      <th></th>\n",
       "      <th></th>\n",
       "      <th></th>\n",
       "      <th></th>\n",
       "      <th></th>\n",
       "      <th></th>\n",
       "      <th></th>\n",
       "      <th></th>\n",
       "      <th></th>\n",
       "      <th></th>\n",
       "      <th></th>\n",
       "      <th></th>\n",
       "      <th></th>\n",
       "      <th></th>\n",
       "      <th></th>\n",
       "      <th></th>\n",
       "      <th></th>\n",
       "      <th></th>\n",
       "    </tr>\n",
       "  </thead>\n",
       "  <tbody>\n",
       "    <tr>\n",
       "      <th>14W-GEN-LAU----Z</th>\n",
       "      <td>10YAT-APG------L</td>\n",
       "      <td>APG CA</td>\n",
       "      <td>CTA</td>\n",
       "      <td>140.0</td>\n",
       "      <td>AT</td>\n",
       "      <td>Lau GuD</td>\n",
       "      <td>gas</td>\n",
       "      <td>14W-PROD-LAU---8</td>\n",
       "      <td>2.0</td>\n",
       "      <td>0.00</td>\n",
       "      <td>...</td>\n",
       "      <td>304721</td>\n",
       "      <td>206265</td>\n",
       "      <td>304721</td>\n",
       "      <td>118982</td>\n",
       "      <td>304721</td>\n",
       "      <td>256284</td>\n",
       "      <td>OPEN</td>\n",
       "      <td>0.00</td>\n",
       "      <td>NaN</td>\n",
       "      <td>NaN</td>\n",
       "    </tr>\n",
       "    <tr>\n",
       "      <th>14WENERGIEAGWT4S</th>\n",
       "      <td>10YAT-APG------L</td>\n",
       "      <td>APG CA</td>\n",
       "      <td>CTA</td>\n",
       "      <td>400.0</td>\n",
       "      <td>AT</td>\n",
       "      <td>Kraftwerk Timelkam GUD</td>\n",
       "      <td>gas</td>\n",
       "      <td>14WENERGIE--WT02</td>\n",
       "      <td>2.0</td>\n",
       "      <td>685235.67</td>\n",
       "      <td>...</td>\n",
       "      <td>681283</td>\n",
       "      <td>580029</td>\n",
       "      <td>681283</td>\n",
       "      <td>340026</td>\n",
       "      <td>218704</td>\n",
       "      <td>103553</td>\n",
       "      <td>OPEN</td>\n",
       "      <td>685235.67</td>\n",
       "      <td>254778.000000</td>\n",
       "      <td>0.371811</td>\n",
       "    </tr>\n",
       "    <tr>\n",
       "      <th>14W-KW-DUE-EVN-A</th>\n",
       "      <td>10YAT-APG------L</td>\n",
       "      <td>APG CA</td>\n",
       "      <td>CTA</td>\n",
       "      <td>332.0</td>\n",
       "      <td>AT</td>\n",
       "      <td>KW Dürnrohr Block 2</td>\n",
       "      <td>hard_coal</td>\n",
       "      <td>14W-KW-DU2-EVN-K</td>\n",
       "      <td>2.0</td>\n",
       "      <td>745290.41</td>\n",
       "      <td>...</td>\n",
       "      <td>1139438</td>\n",
       "      <td>1592747</td>\n",
       "      <td>1139438</td>\n",
       "      <td>899251</td>\n",
       "      <td>1139438</td>\n",
       "      <td>1435406</td>\n",
       "      <td>OPEN</td>\n",
       "      <td>745290.41</td>\n",
       "      <td>0.000000</td>\n",
       "      <td>0.000000</td>\n",
       "    </tr>\n",
       "    <tr>\n",
       "      <th>14WENERGIEAGWR21</th>\n",
       "      <td>10YAT-APG------L</td>\n",
       "      <td>APG CA</td>\n",
       "      <td>CTA</td>\n",
       "      <td>150.0</td>\n",
       "      <td>AT</td>\n",
       "      <td>KW Riedersbach 2 G2</td>\n",
       "      <td>hard_coal</td>\n",
       "      <td>14WENERGIEAGWR05</td>\n",
       "      <td>2.0</td>\n",
       "      <td>0.00</td>\n",
       "      <td>...</td>\n",
       "      <td>437140</td>\n",
       "      <td>310019</td>\n",
       "      <td>437140</td>\n",
       "      <td>342118</td>\n",
       "      <td>437140</td>\n",
       "      <td>730397</td>\n",
       "      <td>OPEN</td>\n",
       "      <td>0.00</td>\n",
       "      <td>NaN</td>\n",
       "      <td>NaN</td>\n",
       "    </tr>\n",
       "    <tr>\n",
       "      <th>45W000000000029I</th>\n",
       "      <td>10Y1001A1001A796</td>\n",
       "      <td>Energinet CA</td>\n",
       "      <td>CTA</td>\n",
       "      <td>250.0</td>\n",
       "      <td>DK</td>\n",
       "      <td>Avedoerevaerket 1</td>\n",
       "      <td>biomass</td>\n",
       "      <td>45V0000000000091</td>\n",
       "      <td>1.0</td>\n",
       "      <td>646873.95</td>\n",
       "      <td>...</td>\n",
       "      <td>1763671</td>\n",
       "      <td>1625381</td>\n",
       "      <td>1763671</td>\n",
       "      <td>1772512</td>\n",
       "      <td>1763673</td>\n",
       "      <td>1890106</td>\n",
       "      <td>OPEN</td>\n",
       "      <td>2025224.37</td>\n",
       "      <td>-143410.918928</td>\n",
       "      <td>-0.221698</td>\n",
       "    </tr>\n",
       "  </tbody>\n",
       "</table>\n",
       "<p>5 rows × 58 columns</p>\n",
       "</div>"
      ],
      "text/plain": [
       "                          AreaCode      AreaName AreaTypeCode  \\\n",
       "eic_g                                                           \n",
       "14W-GEN-LAU----Z  10YAT-APG------L        APG CA          CTA   \n",
       "14WENERGIEAGWT4S  10YAT-APG------L        APG CA          CTA   \n",
       "14W-KW-DUE-EVN-A  10YAT-APG------L        APG CA          CTA   \n",
       "14WENERGIEAGWR21  10YAT-APG------L        APG CA          CTA   \n",
       "45W000000000029I  10Y1001A1001A796  Energinet CA          CTA   \n",
       "\n",
       "                  InstalledGenCapacity MapCode PowerSystemResourceName  \\\n",
       "eic_g                                                                    \n",
       "14W-GEN-LAU----Z                 140.0      AT                 Lau GuD   \n",
       "14WENERGIEAGWT4S                 400.0      AT  Kraftwerk Timelkam GUD   \n",
       "14W-KW-DUE-EVN-A                 332.0      AT     KW Dürnrohr Block 2   \n",
       "14WENERGIEAGWR21                 150.0      AT     KW Riedersbach 2 G2   \n",
       "45W000000000029I                 250.0      DK       Avedoerevaerket 1   \n",
       "\n",
       "                 ProductionTypeName ProductionUnitEIC  duplicate_count  \\\n",
       "eic_g                                                                    \n",
       "14W-GEN-LAU----Z                gas  14W-PROD-LAU---8              2.0   \n",
       "14WENERGIEAGWT4S                gas  14WENERGIE--WT02              2.0   \n",
       "14W-KW-DUE-EVN-A          hard_coal  14W-KW-DU2-EVN-K              2.0   \n",
       "14WENERGIEAGWR21          hard_coal  14WENERGIEAGWR05              2.0   \n",
       "45W000000000029I            biomass  45V0000000000091              1.0   \n",
       "\n",
       "                  generation_2018  ... ALLOCATION_2010  \\\n",
       "eic_g                              ...                   \n",
       "14W-GEN-LAU----Z             0.00  ...          304721   \n",
       "14WENERGIEAGWT4S        685235.67  ...          681283   \n",
       "14W-KW-DUE-EVN-A        745290.41  ...         1139438   \n",
       "14WENERGIEAGWR21             0.00  ...          437140   \n",
       "45W000000000029I        646873.95  ...         1763671   \n",
       "\n",
       "                 VERIFIED_EMISSIONS_2010  ALLOCATION_2009  \\\n",
       "eic_g                                                       \n",
       "14W-GEN-LAU----Z                  206265           304721   \n",
       "14WENERGIEAGWT4S                  580029           681283   \n",
       "14W-KW-DUE-EVN-A                 1592747          1139438   \n",
       "14WENERGIEAGWR21                  310019           437140   \n",
       "45W000000000029I                 1625381          1763671   \n",
       "\n",
       "                 VERIFIED_EMISSIONS_2009 ALLOCATION_2008  \\\n",
       "eic_g                                                      \n",
       "14W-GEN-LAU----Z                  118982          304721   \n",
       "14WENERGIEAGWT4S                  340026          218704   \n",
       "14W-KW-DUE-EVN-A                  899251         1139438   \n",
       "14WENERGIEAGWR21                  342118          437140   \n",
       "45W000000000029I                 1772512         1763673   \n",
       "\n",
       "                 VERIFIED_EMISSIONS_2008 ACCOUNT_CLOSURE  \\\n",
       "eic_g                                                      \n",
       "14W-GEN-LAU----Z                  256284            OPEN   \n",
       "14WENERGIEAGWT4S                  103553            OPEN   \n",
       "14W-KW-DUE-EVN-A                 1435406            OPEN   \n",
       "14WENERGIEAGWR21                  730397            OPEN   \n",
       "45W000000000029I                 1890106            OPEN   \n",
       "\n",
       "                  side_generation_2018 PP_emissions_2018  PP_EF2018  \n",
       "eic_g                                                                \n",
       "14W-GEN-LAU----Z                  0.00               NaN        NaN  \n",
       "14WENERGIEAGWT4S             685235.67     254778.000000   0.371811  \n",
       "14W-KW-DUE-EVN-A             745290.41          0.000000   0.000000  \n",
       "14WENERGIEAGWR21                  0.00               NaN        NaN  \n",
       "45W000000000029I            2025224.37    -143410.918928  -0.221698  \n",
       "\n",
       "[5 rows x 58 columns]"
      ]
     },
     "execution_count": 25,
     "metadata": {},
     "output_type": "execute_result"
    }
   ],
   "source": [
    "generation_unit_info_matched.head()"
   ]
  },
  {
   "cell_type": "markdown",
   "metadata": {},
   "source": [
    "### Validation of emission factor per power plant"
   ]
  },
  {
   "cell_type": "markdown",
   "metadata": {},
   "source": [
    "Check and test results and drop all results that are not plausible."
   ]
  },
  {
   "cell_type": "markdown",
   "metadata": {},
   "source": [
    "Which technologies are covered in the data set?"
   ]
  },
  {
   "cell_type": "code",
   "execution_count": 26,
   "metadata": {},
   "outputs": [
    {
     "data": {
      "text/plain": [
       "array(['gas', 'hard_coal', 'biomass', 'lignite', 'other_fossil'],\n",
       "      dtype=object)"
      ]
     },
     "execution_count": 26,
     "metadata": {},
     "output_type": "execute_result"
    }
   ],
   "source": [
    "generation_unit_info_matched.ProductionTypeName.unique()"
   ]
  },
  {
   "cell_type": "markdown",
   "metadata": {},
   "source": [
    "Take only the following technologies:"
   ]
  },
  {
   "cell_type": "code",
   "execution_count": 27,
   "metadata": {},
   "outputs": [],
   "source": [
    "tech = ['gas', 'hard_coal', 'lignite', 'other_fossil']"
   ]
  },
  {
   "cell_type": "code",
   "execution_count": 28,
   "metadata": {},
   "outputs": [],
   "source": [
    "generation_unit_info_matched = generation_unit_info_matched.query('ProductionTypeName in @tech')"
   ]
  },
  {
   "cell_type": "markdown",
   "metadata": {},
   "source": [
    "Since not all emission factors are correctly calculated we limited the list of calculated emissions per power plant is checked by a plausibility check. We are using numbers from the UBA and added a treshold of plus minus 50 %.\n",
    "\n",
    "UBA:\n",
    "https://www.umweltbundesamt.de/sites/default/files/medien/1410/publikationen/2020-04-01_climate-change_13-2020_strommix_2020_fin.pdf\n",
    "\n",
    "Some comparison numbers:\n",
    "https://www.gegenwind-saarland.de/Materialien/Energiewende/071031--VdI---CO2-Emissionen%20der%20Stromerzeugung_01.pdf"
   ]
  },
  {
   "cell_type": "code",
   "execution_count": 29,
   "metadata": {},
   "outputs": [],
   "source": [
    "# emissions space per technology in [t CO2/MWh] \n",
    "\n",
    "emission_space = {\"lignite\": (1.635,0.545),\n",
    "                  \"hard_coal\": (1.230,0.410),\n",
    "                  \"gas\": (0.555,0.185),\n",
    "                  \"other_fossil\": (2.250,0.750)}"
   ]
  },
  {
   "cell_type": "code",
   "execution_count": 30,
   "metadata": {},
   "outputs": [],
   "source": [
    "# function for CI check\n",
    "def check_CI (PP_EF, ProductionTypeName):\n",
    "    if PP_EF > emission_space[ProductionTypeName][1] and PP_EF < emission_space[ProductionTypeName][0]:\n",
    "        return True\n",
    "    else:\n",
    "        return False  "
   ]
  },
  {
   "cell_type": "code",
   "execution_count": 31,
   "metadata": {},
   "outputs": [],
   "source": [
    "# us CI_check function for CI validation\n",
    "for i in years:\n",
    "    generation_unit_info_matched['EF_' + str(i) + '_validation'] = generation_unit_info_matched.apply(lambda x: check_CI(x['PP_EF' + str(i)], x['ProductionTypeName']), axis=1)"
   ]
  },
  {
   "cell_type": "code",
   "execution_count": 32,
   "metadata": {},
   "outputs": [],
   "source": [
    "# take only the data that are validated\n",
    "# for more years using -> & [(generation_unit_info_matched.EF_2016_validation == True) & (generation_unit_info_matched.EF_2018_validation == True)]\n",
    "generation_unit_info_validated = generation_unit_info_matched[(generation_unit_info_matched.EF_2018_validation == True)]"
   ]
  },
  {
   "cell_type": "code",
   "execution_count": 33,
   "metadata": {},
   "outputs": [
    {
     "data": {
      "text/plain": [
       "840"
      ]
     },
     "execution_count": 33,
     "metadata": {},
     "output_type": "execute_result"
    }
   ],
   "source": [
    "len(generation_unit_info_matched)"
   ]
  },
  {
   "cell_type": "code",
   "execution_count": 34,
   "metadata": {},
   "outputs": [
    {
     "data": {
      "text/plain": [
       "543"
      ]
     },
     "execution_count": 34,
     "metadata": {},
     "output_type": "execute_result"
    }
   ],
   "source": [
    "#number of power plants\n",
    "len(generation_unit_info_validated)"
   ]
  },
  {
   "cell_type": "code",
   "execution_count": 35,
   "metadata": {},
   "outputs": [
    {
     "data": {
      "text/plain": [
       "679453259.1274993"
      ]
     },
     "execution_count": 35,
     "metadata": {},
     "output_type": "execute_result"
    }
   ],
   "source": [
    "# total generation of validated power plants\n",
    "generation_unit_info_validated.generation_2018.sum()"
   ]
  },
  {
   "cell_type": "markdown",
   "metadata": {},
   "source": [
    "reasons why the CI is not valid:\n",
    "\n",
    "1.) Match is not correct - then one more iteration is necessary\n",
    "\n",
    "2.) Data is wrong or incomplete\n",
    "\n",
    "3.) Match is correct, but it's a highly aggregated facility such like a steel manufacturing factory, where both process-CO2 AND the emissions from the power plant running the process accounts into the number given in the dataset.\n",
    "\n",
    "4.) the facility contains more smaller power plants which are not covered by ENTSO-E (<100MW) but nevertheless\n",
    "produce emissions which need to be paid for.\n",
    "\n",
    "5.) if the number of the carbon-intensity is negative, then the dataset is explained as \" -1 = blank (No allocation has been made / No Emissions have been Verified)\""
   ]
  },
  {
   "cell_type": "markdown",
   "metadata": {},
   "source": [
    "#### Plot EF per technology"
   ]
  },
  {
   "cell_type": "code",
   "execution_count": 36,
   "metadata": {},
   "outputs": [
    {
     "data": {
      "image/png": "[encoded data removed]",
      "text/plain": [
       "<Figure size 1080x720 with 1 Axes>"
      ]
     },
     "metadata": {},
     "output_type": "display_data"
    }
   ],
   "source": [
    "generation_unit_info_validated_plot = generation_unit_info_validated[['ProductionTypeName','PP_EF2018','EUTL_countrycode']].copy()\n",
    "\n",
    "\n",
    "\n",
    "# convert to g CO2 / kWh\n",
    "generation_unit_info_validated_plot.PP_EF2018 = generation_unit_info_validated_plot.PP_EF2018 * 1000\n",
    "\n",
    "fig, ax = plt.subplots(1, 1)\n",
    "\n",
    "ax = sns.boxplot(x=\"ProductionTypeName\", y=\"PP_EF2018\", data=generation_unit_info_validated_plot, orient=\"v\", linewidth=4, dodge=True)\n",
    "\n",
    "ax = sns.stripplot(x=\"ProductionTypeName\", y=\"PP_EF2018\", data=generation_unit_info_validated_plot, color=\".25\", orient=\"v\", size=7, jitter=0.35, palette=['#91bfdb'],edgecolor='black',\n",
    "                  linewidth=1, dodge=True)\n",
    "\n",
    "ax.set_xlabel(\"Production technology\", fontsize=22)\n",
    "ax.set_ylabel(\"CO2 intensity [g CO2/kWh]\" , fontsize=22)\n",
    "\n",
    "ax.tick_params(axis='x',labelsize=19)\n",
    "ax.tick_params(axis='y',labelsize=19)\n",
    "\n",
    "labels = ['Gas','Coal','Lignite','Other fossil']\n",
    "\n",
    "ax.set_xticklabels(labels)\n",
    "pass"
   ]
  },
  {
   "cell_type": "markdown",
   "metadata": {},
   "source": [
    "#### Save point"
   ]
  },
  {
   "cell_type": "code",
   "execution_count": 37,
   "metadata": {},
   "outputs": [],
   "source": [
    "fig.savefig(os.path.join(output_directory_path + '/_CO2_intensity_by_technology.png'))"
   ]
  },
  {
   "cell_type": "code",
   "execution_count": 38,
   "metadata": {},
   "outputs": [],
   "source": [
    "generation_unit_info_validated.to_csv(processed_directory_path + '/generation_unit_EF_bottom_up_methode.csv')"
   ]
  },
  {
   "cell_type": "markdown",
   "metadata": {},
   "source": [
    "## Emission factor per technology and country"
   ]
  },
  {
   "cell_type": "markdown",
   "metadata": {},
   "source": [
    "In the following section we calculate EF per technology and country."
   ]
  },
  {
   "cell_type": "code",
   "execution_count": 39,
   "metadata": {},
   "outputs": [],
   "source": [
    "generation_per_tech_country = generation_unit_info_validated.groupby(['EUTL_countrycode','ProductionTypeName']).sum()[['generation_2018','PP_emissions_2018']]"
   ]
  },
  {
   "cell_type": "code",
   "execution_count": 40,
   "metadata": {},
   "outputs": [],
   "source": [
    "EF_per_tech_country = generation_per_tech_country.PP_emissions_2018 / generation_per_tech_country.generation_2018"
   ]
  },
  {
   "cell_type": "markdown",
   "metadata": {},
   "source": [
    "#### Plot mean EF per technology and country"
   ]
  },
  {
   "cell_type": "code",
   "execution_count": 41,
   "metadata": {},
   "outputs": [
    {
     "data": {
      "text/plain": [
       "<Figure size 1080x720 with 0 Axes>"
      ]
     },
     "metadata": {},
     "output_type": "display_data"
    },
    {
     "data": {
      "image/png": "[encoded data removed]",
      "text/plain": [
       "<Figure size 1080x720 with 4 Axes>"
      ]
     },
     "metadata": {},
     "output_type": "display_data"
    }
   ],
   "source": [
    "plt.figure()\n",
    "\n",
    "EF_per_tech_country.unstack(level=1).plot(kind='bar', subplots=True, ylabel='CI [t CO2/MWh]')\n",
    "\n",
    "plt.grid(True)"
   ]
  },
  {
   "cell_type": "markdown",
   "metadata": {},
   "source": [
    "#### Emission factors per technologies and countries"
   ]
  },
  {
   "cell_type": "code",
   "execution_count": 42,
   "metadata": {},
   "outputs": [
    {
     "data": {
      "text/plain": [
       "EUTL_countrycode  ProductionTypeName\n",
       "AT                gas                   0.288711\n",
       "                  hard_coal             0.884070\n",
       "BE                gas                   0.389641\n",
       "CZ                hard_coal             0.985546\n",
       "                  lignite               0.928296\n",
       "DE                gas                   0.334091\n",
       "                  hard_coal             0.871051\n",
       "                  lignite               1.125560\n",
       "                  other_fossil          1.619695\n",
       "DK                gas                   0.329783\n",
       "                  hard_coal             0.775840\n",
       "ES                gas                   0.386506\n",
       "                  hard_coal             0.975777\n",
       "FI                hard_coal             0.674454\n",
       "                  other_fossil          0.759814\n",
       "FR                gas                   0.396985\n",
       "                  hard_coal             0.834945\n",
       "GB                gas                   0.467992\n",
       "                  hard_coal             1.103223\n",
       "GR                gas                   0.332135\n",
       "                  lignite               1.401712\n",
       "HU                gas                   0.371916\n",
       "                  lignite               1.355619\n",
       "IE                gas                   0.347416\n",
       "                  hard_coal             1.032204\n",
       "IT                gas                   0.387735\n",
       "                  hard_coal             0.997673\n",
       "NL                gas                   0.353883\n",
       "                  hard_coal             0.948562\n",
       "PL                gas                   0.370311\n",
       "                  hard_coal             0.942409\n",
       "                  lignite               1.158647\n",
       "PT                gas                   0.430328\n",
       "                  hard_coal             0.546439\n",
       "RO                gas                   0.315028\n",
       "                  hard_coal             1.157439\n",
       "                  lignite               1.000763\n",
       "SE                gas                   0.361805\n",
       "SK                hard_coal             0.903090\n",
       "                  lignite               1.295547\n",
       "dtype: float64"
      ]
     },
     "execution_count": 42,
     "metadata": {},
     "output_type": "execute_result"
    }
   ],
   "source": [
    "EF_per_tech_country"
   ]
  },
  {
   "cell_type": "markdown",
   "metadata": {},
   "source": [
    "#### Add technology specific EF to the data set"
   ]
  },
  {
   "cell_type": "code",
   "execution_count": 43,
   "metadata": {},
   "outputs": [],
   "source": [
    "# reset index\n",
    "generation_unit_info_validated.reset_index(inplace=True)\n",
    "# set new index for maping function \n",
    "generation_unit_info_EF_tech = generation_unit_info_validated.set_index(['EUTL_countrycode','ProductionTypeName'])\n",
    "\n",
    "# map the EF to the data set\n",
    "generation_unit_info_EF_tech['Tech_EF'] = generation_unit_info_EF_tech.index.map(EF_per_tech_country.to_dict())\n",
    "\n",
    "#reset index\n",
    "generation_unit_info_EF_tech.reset_index(inplace=True)\n",
    "\n",
    "#set old index\n",
    "generation_unit_info_EF_tech.set_index(['eic_g'],inplace=True)"
   ]
  },
  {
   "cell_type": "code",
   "execution_count": 44,
   "metadata": {},
   "outputs": [
    {
     "data": {
      "text/html": [
       "<div>\n",
       "<style scoped>\n",
       "    .dataframe tbody tr th:only-of-type {\n",
       "        vertical-align: middle;\n",
       "    }\n",
       "\n",
       "    .dataframe tbody tr th {\n",
       "        vertical-align: top;\n",
       "    }\n",
       "\n",
       "    .dataframe thead th {\n",
       "        text-align: right;\n",
       "    }\n",
       "</style>\n",
       "<table border=\"1\" class=\"dataframe\">\n",
       "  <thead>\n",
       "    <tr style=\"text-align: right;\">\n",
       "      <th></th>\n",
       "      <th>EUTL_countrycode</th>\n",
       "      <th>ProductionTypeName</th>\n",
       "      <th>AreaCode</th>\n",
       "      <th>AreaName</th>\n",
       "      <th>AreaTypeCode</th>\n",
       "      <th>InstalledGenCapacity</th>\n",
       "      <th>MapCode</th>\n",
       "      <th>PowerSystemResourceName</th>\n",
       "      <th>ProductionUnitEIC</th>\n",
       "      <th>duplicate_count</th>\n",
       "      <th>...</th>\n",
       "      <th>ALLOCATION_2009</th>\n",
       "      <th>VERIFIED_EMISSIONS_2009</th>\n",
       "      <th>ALLOCATION_2008</th>\n",
       "      <th>VERIFIED_EMISSIONS_2008</th>\n",
       "      <th>ACCOUNT_CLOSURE</th>\n",
       "      <th>side_generation_2018</th>\n",
       "      <th>PP_emissions_2018</th>\n",
       "      <th>PP_EF2018</th>\n",
       "      <th>EF_2018_validation</th>\n",
       "      <th>Tech_EF</th>\n",
       "    </tr>\n",
       "    <tr>\n",
       "      <th>eic_g</th>\n",
       "      <th></th>\n",
       "      <th></th>\n",
       "      <th></th>\n",
       "      <th></th>\n",
       "      <th></th>\n",
       "      <th></th>\n",
       "      <th></th>\n",
       "      <th></th>\n",
       "      <th></th>\n",
       "      <th></th>\n",
       "      <th></th>\n",
       "      <th></th>\n",
       "      <th></th>\n",
       "      <th></th>\n",
       "      <th></th>\n",
       "      <th></th>\n",
       "      <th></th>\n",
       "      <th></th>\n",
       "      <th></th>\n",
       "      <th></th>\n",
       "      <th></th>\n",
       "    </tr>\n",
       "  </thead>\n",
       "  <tbody>\n",
       "    <tr>\n",
       "      <th>14WENERGIEAGWT4S</th>\n",
       "      <td>AT</td>\n",
       "      <td>gas</td>\n",
       "      <td>10YAT-APG------L</td>\n",
       "      <td>APG CA</td>\n",
       "      <td>CTA</td>\n",
       "      <td>400.0</td>\n",
       "      <td>AT</td>\n",
       "      <td>Kraftwerk Timelkam GUD</td>\n",
       "      <td>14WENERGIE--WT02</td>\n",
       "      <td>2.0</td>\n",
       "      <td>...</td>\n",
       "      <td>681283</td>\n",
       "      <td>340026</td>\n",
       "      <td>218704</td>\n",
       "      <td>103553</td>\n",
       "      <td>OPEN</td>\n",
       "      <td>685235.67</td>\n",
       "      <td>254778.000000</td>\n",
       "      <td>0.371811</td>\n",
       "      <td>True</td>\n",
       "      <td>0.288711</td>\n",
       "    </tr>\n",
       "    <tr>\n",
       "      <th>45W000000000032T</th>\n",
       "      <td>DK</td>\n",
       "      <td>hard_coal</td>\n",
       "      <td>10Y1001A1001A796</td>\n",
       "      <td>Energinet CA</td>\n",
       "      <td>CTA</td>\n",
       "      <td>147.0</td>\n",
       "      <td>DK</td>\n",
       "      <td>Asnaesvaerket 2</td>\n",
       "      <td>45V000000000011E</td>\n",
       "      <td>1.0</td>\n",
       "      <td>...</td>\n",
       "      <td>1765314</td>\n",
       "      <td>2430356</td>\n",
       "      <td>1765318</td>\n",
       "      <td>2484733</td>\n",
       "      <td>OPEN</td>\n",
       "      <td>770018.30</td>\n",
       "      <td>202216.305002</td>\n",
       "      <td>0.922057</td>\n",
       "      <td>True</td>\n",
       "      <td>0.775840</td>\n",
       "    </tr>\n",
       "    <tr>\n",
       "      <th>45W000000000033R</th>\n",
       "      <td>DK</td>\n",
       "      <td>hard_coal</td>\n",
       "      <td>10Y1001A1001A796</td>\n",
       "      <td>Energinet CA</td>\n",
       "      <td>CTA</td>\n",
       "      <td>640.0</td>\n",
       "      <td>DK</td>\n",
       "      <td>Asnaesvaerket 5</td>\n",
       "      <td>45V000000000011E</td>\n",
       "      <td>1.0</td>\n",
       "      <td>...</td>\n",
       "      <td>1765314</td>\n",
       "      <td>2430356</td>\n",
       "      <td>1765318</td>\n",
       "      <td>2484733</td>\n",
       "      <td>OPEN</td>\n",
       "      <td>770018.30</td>\n",
       "      <td>507784.694998</td>\n",
       "      <td>0.922057</td>\n",
       "      <td>True</td>\n",
       "      <td>0.775840</td>\n",
       "    </tr>\n",
       "    <tr>\n",
       "      <th>45W000000000034P</th>\n",
       "      <td>DK</td>\n",
       "      <td>hard_coal</td>\n",
       "      <td>10Y1001A1001A796</td>\n",
       "      <td>Energinet CA</td>\n",
       "      <td>CTA</td>\n",
       "      <td>250.0</td>\n",
       "      <td>DK</td>\n",
       "      <td>Amagervaerket 3</td>\n",
       "      <td>45V000000000012C</td>\n",
       "      <td>1.0</td>\n",
       "      <td>...</td>\n",
       "      <td>1250992</td>\n",
       "      <td>1684995</td>\n",
       "      <td>1250995</td>\n",
       "      <td>1089604</td>\n",
       "      <td>OPEN</td>\n",
       "      <td>1060165.23</td>\n",
       "      <td>771352.000000</td>\n",
       "      <td>0.727577</td>\n",
       "      <td>True</td>\n",
       "      <td>0.775840</td>\n",
       "    </tr>\n",
       "    <tr>\n",
       "      <th>45W000000000040U</th>\n",
       "      <td>DK</td>\n",
       "      <td>hard_coal</td>\n",
       "      <td>10Y1001A1001A796</td>\n",
       "      <td>Energinet CA</td>\n",
       "      <td>CTA</td>\n",
       "      <td>377.0</td>\n",
       "      <td>DK</td>\n",
       "      <td>Esbjergvaerket 3</td>\n",
       "      <td>45V0000000000164</td>\n",
       "      <td>1.0</td>\n",
       "      <td>...</td>\n",
       "      <td>1051487</td>\n",
       "      <td>1318927</td>\n",
       "      <td>1051489</td>\n",
       "      <td>1158930</td>\n",
       "      <td>OPEN</td>\n",
       "      <td>1193633.83</td>\n",
       "      <td>924609.000000</td>\n",
       "      <td>0.774617</td>\n",
       "      <td>True</td>\n",
       "      <td>0.775840</td>\n",
       "    </tr>\n",
       "  </tbody>\n",
       "</table>\n",
       "<p>5 rows × 60 columns</p>\n",
       "</div>"
      ],
      "text/plain": [
       "                 EUTL_countrycode ProductionTypeName          AreaCode  \\\n",
       "eic_g                                                                    \n",
       "14WENERGIEAGWT4S               AT                gas  10YAT-APG------L   \n",
       "45W000000000032T               DK          hard_coal  10Y1001A1001A796   \n",
       "45W000000000033R               DK          hard_coal  10Y1001A1001A796   \n",
       "45W000000000034P               DK          hard_coal  10Y1001A1001A796   \n",
       "45W000000000040U               DK          hard_coal  10Y1001A1001A796   \n",
       "\n",
       "                      AreaName AreaTypeCode  InstalledGenCapacity MapCode  \\\n",
       "eic_g                                                                       \n",
       "14WENERGIEAGWT4S        APG CA          CTA                 400.0      AT   \n",
       "45W000000000032T  Energinet CA          CTA                 147.0      DK   \n",
       "45W000000000033R  Energinet CA          CTA                 640.0      DK   \n",
       "45W000000000034P  Energinet CA          CTA                 250.0      DK   \n",
       "45W000000000040U  Energinet CA          CTA                 377.0      DK   \n",
       "\n",
       "                 PowerSystemResourceName ProductionUnitEIC  duplicate_count  \\\n",
       "eic_g                                                                         \n",
       "14WENERGIEAGWT4S  Kraftwerk Timelkam GUD  14WENERGIE--WT02              2.0   \n",
       "45W000000000032T         Asnaesvaerket 2  45V000000000011E              1.0   \n",
       "45W000000000033R         Asnaesvaerket 5  45V000000000011E              1.0   \n",
       "45W000000000034P         Amagervaerket 3  45V000000000012C              1.0   \n",
       "45W000000000040U        Esbjergvaerket 3  45V0000000000164              1.0   \n",
       "\n",
       "                  ...  ALLOCATION_2009 VERIFIED_EMISSIONS_2009  \\\n",
       "eic_g             ...                                            \n",
       "14WENERGIEAGWT4S  ...           681283                  340026   \n",
       "45W000000000032T  ...          1765314                 2430356   \n",
       "45W000000000033R  ...          1765314                 2430356   \n",
       "45W000000000034P  ...          1250992                 1684995   \n",
       "45W000000000040U  ...          1051487                 1318927   \n",
       "\n",
       "                  ALLOCATION_2008 VERIFIED_EMISSIONS_2008 ACCOUNT_CLOSURE  \\\n",
       "eic_g                                                                       \n",
       "14WENERGIEAGWT4S           218704                  103553            OPEN   \n",
       "45W000000000032T          1765318                 2484733            OPEN   \n",
       "45W000000000033R          1765318                 2484733            OPEN   \n",
       "45W000000000034P          1250995                 1089604            OPEN   \n",
       "45W000000000040U          1051489                 1158930            OPEN   \n",
       "\n",
       "                 side_generation_2018 PP_emissions_2018  PP_EF2018  \\\n",
       "eic_g                                                                \n",
       "14WENERGIEAGWT4S            685235.67     254778.000000   0.371811   \n",
       "45W000000000032T            770018.30     202216.305002   0.922057   \n",
       "45W000000000033R            770018.30     507784.694998   0.922057   \n",
       "45W000000000034P           1060165.23     771352.000000   0.727577   \n",
       "45W000000000040U           1193633.83     924609.000000   0.774617   \n",
       "\n",
       "                 EF_2018_validation   Tech_EF  \n",
       "eic_g                                          \n",
       "14WENERGIEAGWT4S               True  0.288711  \n",
       "45W000000000032T               True  0.775840  \n",
       "45W000000000033R               True  0.775840  \n",
       "45W000000000034P               True  0.775840  \n",
       "45W000000000040U               True  0.775840  \n",
       "\n",
       "[5 rows x 60 columns]"
      ]
     },
     "execution_count": 44,
     "metadata": {},
     "output_type": "execute_result"
    }
   ],
   "source": [
    "generation_unit_info_EF_tech.head(5)"
   ]
  },
  {
   "cell_type": "markdown",
   "metadata": {},
   "source": [
    "#### Save point"
   ]
  },
  {
   "cell_type": "code",
   "execution_count": 45,
   "metadata": {},
   "outputs": [],
   "source": [
    "generation_unit_info_EF_tech.to_csv(processed_directory_path + '/generation_unit_EF_bottom_up_methode.csv')"
   ]
  },
  {
   "cell_type": "markdown",
   "metadata": {},
   "source": [
    "## Emission factor per country"
   ]
  },
  {
   "cell_type": "markdown",
   "metadata": {},
   "source": [
    "In the following section we calculate mean EF per country."
   ]
  },
  {
   "cell_type": "code",
   "execution_count": 46,
   "metadata": {},
   "outputs": [],
   "source": [
    "generation_per_country = generation_unit_info_validated.groupby(['EUTL_countrycode']).sum()[['generation_2018','PP_emissions_2018']]"
   ]
  },
  {
   "cell_type": "code",
   "execution_count": 47,
   "metadata": {},
   "outputs": [],
   "source": [
    "EF_per_country = generation_per_country.PP_emissions_2018 / generation_per_country.generation_2018"
   ]
  },
  {
   "cell_type": "code",
   "execution_count": 48,
   "metadata": {},
   "outputs": [],
   "source": [
    "# reset index\n",
    "generation_unit_info_EF_tech.reset_index(inplace=True)\n",
    "# set new index for maping function \n",
    "generation_unit_info_EF_country = generation_unit_info_EF_tech.set_index(['MapCode'])\n",
    "\n",
    "# map the EF to the data set\n",
    "generation_unit_info_EF_country['Country_EF'] = generation_unit_info_EF_country.index.map(EF_per_country.to_dict())\n",
    "\n",
    "#reset index\n",
    "generation_unit_info_EF_country.reset_index(inplace=True)\n",
    "\n",
    "#set old index\n",
    "generation_unit_info_EF_country.set_index(['eic_g'],inplace=True)"
   ]
  },
  {
   "cell_type": "code",
   "execution_count": 49,
   "metadata": {},
   "outputs": [
    {
     "data": {
      "text/html": [
       "<div>\n",
       "<style scoped>\n",
       "    .dataframe tbody tr th:only-of-type {\n",
       "        vertical-align: middle;\n",
       "    }\n",
       "\n",
       "    .dataframe tbody tr th {\n",
       "        vertical-align: top;\n",
       "    }\n",
       "\n",
       "    .dataframe thead th {\n",
       "        text-align: right;\n",
       "    }\n",
       "</style>\n",
       "<table border=\"1\" class=\"dataframe\">\n",
       "  <thead>\n",
       "    <tr style=\"text-align: right;\">\n",
       "      <th></th>\n",
       "      <th>MapCode</th>\n",
       "      <th>EUTL_countrycode</th>\n",
       "      <th>ProductionTypeName</th>\n",
       "      <th>AreaCode</th>\n",
       "      <th>AreaName</th>\n",
       "      <th>AreaTypeCode</th>\n",
       "      <th>InstalledGenCapacity</th>\n",
       "      <th>PowerSystemResourceName</th>\n",
       "      <th>ProductionUnitEIC</th>\n",
       "      <th>duplicate_count</th>\n",
       "      <th>...</th>\n",
       "      <th>VERIFIED_EMISSIONS_2009</th>\n",
       "      <th>ALLOCATION_2008</th>\n",
       "      <th>VERIFIED_EMISSIONS_2008</th>\n",
       "      <th>ACCOUNT_CLOSURE</th>\n",
       "      <th>side_generation_2018</th>\n",
       "      <th>PP_emissions_2018</th>\n",
       "      <th>PP_EF2018</th>\n",
       "      <th>EF_2018_validation</th>\n",
       "      <th>Tech_EF</th>\n",
       "      <th>Country_EF</th>\n",
       "    </tr>\n",
       "    <tr>\n",
       "      <th>eic_g</th>\n",
       "      <th></th>\n",
       "      <th></th>\n",
       "      <th></th>\n",
       "      <th></th>\n",
       "      <th></th>\n",
       "      <th></th>\n",
       "      <th></th>\n",
       "      <th></th>\n",
       "      <th></th>\n",
       "      <th></th>\n",
       "      <th></th>\n",
       "      <th></th>\n",
       "      <th></th>\n",
       "      <th></th>\n",
       "      <th></th>\n",
       "      <th></th>\n",
       "      <th></th>\n",
       "      <th></th>\n",
       "      <th></th>\n",
       "      <th></th>\n",
       "      <th></th>\n",
       "    </tr>\n",
       "  </thead>\n",
       "  <tbody>\n",
       "    <tr>\n",
       "      <th>14WENERGIEAGWT4S</th>\n",
       "      <td>AT</td>\n",
       "      <td>AT</td>\n",
       "      <td>gas</td>\n",
       "      <td>10YAT-APG------L</td>\n",
       "      <td>APG CA</td>\n",
       "      <td>CTA</td>\n",
       "      <td>400.0</td>\n",
       "      <td>Kraftwerk Timelkam GUD</td>\n",
       "      <td>14WENERGIE--WT02</td>\n",
       "      <td>2.0</td>\n",
       "      <td>...</td>\n",
       "      <td>340026</td>\n",
       "      <td>218704</td>\n",
       "      <td>103553</td>\n",
       "      <td>OPEN</td>\n",
       "      <td>685235.67</td>\n",
       "      <td>254778.000000</td>\n",
       "      <td>0.371811</td>\n",
       "      <td>True</td>\n",
       "      <td>0.288711</td>\n",
       "      <td>0.344882</td>\n",
       "    </tr>\n",
       "    <tr>\n",
       "      <th>45W000000000032T</th>\n",
       "      <td>DK</td>\n",
       "      <td>DK</td>\n",
       "      <td>hard_coal</td>\n",
       "      <td>10Y1001A1001A796</td>\n",
       "      <td>Energinet CA</td>\n",
       "      <td>CTA</td>\n",
       "      <td>147.0</td>\n",
       "      <td>Asnaesvaerket 2</td>\n",
       "      <td>45V000000000011E</td>\n",
       "      <td>1.0</td>\n",
       "      <td>...</td>\n",
       "      <td>2430356</td>\n",
       "      <td>1765318</td>\n",
       "      <td>2484733</td>\n",
       "      <td>OPEN</td>\n",
       "      <td>770018.30</td>\n",
       "      <td>202216.305002</td>\n",
       "      <td>0.922057</td>\n",
       "      <td>True</td>\n",
       "      <td>0.775840</td>\n",
       "      <td>0.751762</td>\n",
       "    </tr>\n",
       "    <tr>\n",
       "      <th>45W000000000033R</th>\n",
       "      <td>DK</td>\n",
       "      <td>DK</td>\n",
       "      <td>hard_coal</td>\n",
       "      <td>10Y1001A1001A796</td>\n",
       "      <td>Energinet CA</td>\n",
       "      <td>CTA</td>\n",
       "      <td>640.0</td>\n",
       "      <td>Asnaesvaerket 5</td>\n",
       "      <td>45V000000000011E</td>\n",
       "      <td>1.0</td>\n",
       "      <td>...</td>\n",
       "      <td>2430356</td>\n",
       "      <td>1765318</td>\n",
       "      <td>2484733</td>\n",
       "      <td>OPEN</td>\n",
       "      <td>770018.30</td>\n",
       "      <td>507784.694998</td>\n",
       "      <td>0.922057</td>\n",
       "      <td>True</td>\n",
       "      <td>0.775840</td>\n",
       "      <td>0.751762</td>\n",
       "    </tr>\n",
       "    <tr>\n",
       "      <th>45W000000000034P</th>\n",
       "      <td>DK</td>\n",
       "      <td>DK</td>\n",
       "      <td>hard_coal</td>\n",
       "      <td>10Y1001A1001A796</td>\n",
       "      <td>Energinet CA</td>\n",
       "      <td>CTA</td>\n",
       "      <td>250.0</td>\n",
       "      <td>Amagervaerket 3</td>\n",
       "      <td>45V000000000012C</td>\n",
       "      <td>1.0</td>\n",
       "      <td>...</td>\n",
       "      <td>1684995</td>\n",
       "      <td>1250995</td>\n",
       "      <td>1089604</td>\n",
       "      <td>OPEN</td>\n",
       "      <td>1060165.23</td>\n",
       "      <td>771352.000000</td>\n",
       "      <td>0.727577</td>\n",
       "      <td>True</td>\n",
       "      <td>0.775840</td>\n",
       "      <td>0.751762</td>\n",
       "    </tr>\n",
       "    <tr>\n",
       "      <th>45W000000000040U</th>\n",
       "      <td>DK</td>\n",
       "      <td>DK</td>\n",
       "      <td>hard_coal</td>\n",
       "      <td>10Y1001A1001A796</td>\n",
       "      <td>Energinet CA</td>\n",
       "      <td>CTA</td>\n",
       "      <td>377.0</td>\n",
       "      <td>Esbjergvaerket 3</td>\n",
       "      <td>45V0000000000164</td>\n",
       "      <td>1.0</td>\n",
       "      <td>...</td>\n",
       "      <td>1318927</td>\n",
       "      <td>1051489</td>\n",
       "      <td>1158930</td>\n",
       "      <td>OPEN</td>\n",
       "      <td>1193633.83</td>\n",
       "      <td>924609.000000</td>\n",
       "      <td>0.774617</td>\n",
       "      <td>True</td>\n",
       "      <td>0.775840</td>\n",
       "      <td>0.751762</td>\n",
       "    </tr>\n",
       "  </tbody>\n",
       "</table>\n",
       "<p>5 rows × 61 columns</p>\n",
       "</div>"
      ],
      "text/plain": [
       "                 MapCode EUTL_countrycode ProductionTypeName  \\\n",
       "eic_g                                                          \n",
       "14WENERGIEAGWT4S      AT               AT                gas   \n",
       "45W000000000032T      DK               DK          hard_coal   \n",
       "45W000000000033R      DK               DK          hard_coal   \n",
       "45W000000000034P      DK               DK          hard_coal   \n",
       "45W000000000040U      DK               DK          hard_coal   \n",
       "\n",
       "                          AreaCode      AreaName AreaTypeCode  \\\n",
       "eic_g                                                           \n",
       "14WENERGIEAGWT4S  10YAT-APG------L        APG CA          CTA   \n",
       "45W000000000032T  10Y1001A1001A796  Energinet CA          CTA   \n",
       "45W000000000033R  10Y1001A1001A796  Energinet CA          CTA   \n",
       "45W000000000034P  10Y1001A1001A796  Energinet CA          CTA   \n",
       "45W000000000040U  10Y1001A1001A796  Energinet CA          CTA   \n",
       "\n",
       "                  InstalledGenCapacity PowerSystemResourceName  \\\n",
       "eic_g                                                            \n",
       "14WENERGIEAGWT4S                 400.0  Kraftwerk Timelkam GUD   \n",
       "45W000000000032T                 147.0         Asnaesvaerket 2   \n",
       "45W000000000033R                 640.0         Asnaesvaerket 5   \n",
       "45W000000000034P                 250.0         Amagervaerket 3   \n",
       "45W000000000040U                 377.0        Esbjergvaerket 3   \n",
       "\n",
       "                 ProductionUnitEIC  duplicate_count  ...  \\\n",
       "eic_g                                                ...   \n",
       "14WENERGIEAGWT4S  14WENERGIE--WT02              2.0  ...   \n",
       "45W000000000032T  45V000000000011E              1.0  ...   \n",
       "45W000000000033R  45V000000000011E              1.0  ...   \n",
       "45W000000000034P  45V000000000012C              1.0  ...   \n",
       "45W000000000040U  45V0000000000164              1.0  ...   \n",
       "\n",
       "                  VERIFIED_EMISSIONS_2009 ALLOCATION_2008  \\\n",
       "eic_g                                                       \n",
       "14WENERGIEAGWT4S                   340026          218704   \n",
       "45W000000000032T                  2430356         1765318   \n",
       "45W000000000033R                  2430356         1765318   \n",
       "45W000000000034P                  1684995         1250995   \n",
       "45W000000000040U                  1318927         1051489   \n",
       "\n",
       "                  VERIFIED_EMISSIONS_2008 ACCOUNT_CLOSURE  \\\n",
       "eic_g                                                       \n",
       "14WENERGIEAGWT4S                   103553            OPEN   \n",
       "45W000000000032T                  2484733            OPEN   \n",
       "45W000000000033R                  2484733            OPEN   \n",
       "45W000000000034P                  1089604            OPEN   \n",
       "45W000000000040U                  1158930            OPEN   \n",
       "\n",
       "                 side_generation_2018 PP_emissions_2018 PP_EF2018  \\\n",
       "eic_g                                                               \n",
       "14WENERGIEAGWT4S            685235.67     254778.000000  0.371811   \n",
       "45W000000000032T            770018.30     202216.305002  0.922057   \n",
       "45W000000000033R            770018.30     507784.694998  0.922057   \n",
       "45W000000000034P           1060165.23     771352.000000  0.727577   \n",
       "45W000000000040U           1193633.83     924609.000000  0.774617   \n",
       "\n",
       "                  EF_2018_validation   Tech_EF  Country_EF  \n",
       "eic_g                                                       \n",
       "14WENERGIEAGWT4S                True  0.288711    0.344882  \n",
       "45W000000000032T                True  0.775840    0.751762  \n",
       "45W000000000033R                True  0.775840    0.751762  \n",
       "45W000000000034P                True  0.775840    0.751762  \n",
       "45W000000000040U                True  0.775840    0.751762  \n",
       "\n",
       "[5 rows x 61 columns]"
      ]
     },
     "execution_count": 49,
     "metadata": {},
     "output_type": "execute_result"
    }
   ],
   "source": [
    "generation_unit_info_EF_country.head(5)"
   ]
  },
  {
   "cell_type": "markdown",
   "metadata": {},
   "source": [
    "#### Plot"
   ]
  },
  {
   "cell_type": "code",
   "execution_count": 50,
   "metadata": {},
   "outputs": [
    {
     "data": {
      "image/png": "[encoded data removed]",
      "text/plain": [
       "<Figure size 1080x720 with 1 Axes>"
      ]
     },
     "metadata": {},
     "output_type": "display_data"
    }
   ],
   "source": [
    "plt.figure()\n",
    "\n",
    "generation_unit_info_EF_country.groupby(['MapCode']).mean().Country_EF.plot(kind='bar', subplots=True, ylabel='CI [t CO2/MWh]')\n",
    "\n",
    "plt.grid(True)"
   ]
  },
  {
   "cell_type": "markdown",
   "metadata": {},
   "source": [
    "#### Save point"
   ]
  },
  {
   "cell_type": "code",
   "execution_count": 51,
   "metadata": {},
   "outputs": [],
   "source": [
    "generation_unit_info_EF_country.to_csv(processed_directory_path + '/generation_unit_EF_bottom_up_methode.csv')"
   ]
  },
  {
   "cell_type": "markdown",
   "metadata": {},
   "source": [
    "# Validation of calculated emission factors"
   ]
  },
  {
   "cell_type": "markdown",
   "metadata": {},
   "source": [
    "In this section we checking if the underlying power production that we have used for EF calculation represent the country production. By comparing the used power plant production with the production per production type (from ENTSO-E) of each country, we can get an idea how trustful is our resulting EF."
   ]
  },
  {
   "cell_type": "markdown",
   "metadata": {},
   "source": [
    "#### Load ENTSO-E generation per type"
   ]
  },
  {
   "cell_type": "code",
   "execution_count": 52,
   "metadata": {},
   "outputs": [],
   "source": [
    "#entsoe_gen_type = load_timeseries_ENTSOE(input_directory_path, 'time_series_60min_multiindex.csv')\n",
    "entsoe_gen_type = pd.read_csv(input_directory_path+'/entsoe_gen_type_hourly_table.csv', index_col=[0], header=[0, 1], parse_dates=True).dropna(how=\"all\", axis=0)"
   ]
  },
  {
   "cell_type": "markdown",
   "metadata": {},
   "source": [
    "Show the head of the data (the data is using a multi index for the columns)"
   ]
  },
  {
   "cell_type": "code",
   "execution_count": 53,
   "metadata": {},
   "outputs": [
    {
     "data": {
      "text/html": [
       "<div>\n",
       "<style scoped>\n",
       "    .dataframe tbody tr th:only-of-type {\n",
       "        vertical-align: middle;\n",
       "    }\n",
       "\n",
       "    .dataframe tbody tr th {\n",
       "        vertical-align: top;\n",
       "    }\n",
       "\n",
       "    .dataframe thead tr th {\n",
       "        text-align: left;\n",
       "    }\n",
       "\n",
       "    .dataframe thead tr:last-of-type th {\n",
       "        text-align: right;\n",
       "    }\n",
       "</style>\n",
       "<table border=\"1\" class=\"dataframe\">\n",
       "  <thead>\n",
       "    <tr>\n",
       "      <th>region</th>\n",
       "      <th colspan=\"8\" halign=\"left\">AT</th>\n",
       "      <th colspan=\"2\" halign=\"left\">BE</th>\n",
       "      <th>...</th>\n",
       "      <th>SI</th>\n",
       "      <th colspan=\"9\" halign=\"left\">SK</th>\n",
       "    </tr>\n",
       "    <tr>\n",
       "      <th>variable</th>\n",
       "      <th>biomass</th>\n",
       "      <th>gas</th>\n",
       "      <th>hard_coal</th>\n",
       "      <th>hydro</th>\n",
       "      <th>other_fossil</th>\n",
       "      <th>other_renewable</th>\n",
       "      <th>solar</th>\n",
       "      <th>wind_onshore</th>\n",
       "      <th>biomass</th>\n",
       "      <th>gas</th>\n",
       "      <th>...</th>\n",
       "      <th>wind_onshore</th>\n",
       "      <th>biomass</th>\n",
       "      <th>gas</th>\n",
       "      <th>hard_coal</th>\n",
       "      <th>hydro</th>\n",
       "      <th>lignite</th>\n",
       "      <th>nuclear</th>\n",
       "      <th>other_fossil</th>\n",
       "      <th>other_renewable</th>\n",
       "      <th>solar</th>\n",
       "    </tr>\n",
       "    <tr>\n",
       "      <th>utc_timestamp</th>\n",
       "      <th></th>\n",
       "      <th></th>\n",
       "      <th></th>\n",
       "      <th></th>\n",
       "      <th></th>\n",
       "      <th></th>\n",
       "      <th></th>\n",
       "      <th></th>\n",
       "      <th></th>\n",
       "      <th></th>\n",
       "      <th></th>\n",
       "      <th></th>\n",
       "      <th></th>\n",
       "      <th></th>\n",
       "      <th></th>\n",
       "      <th></th>\n",
       "      <th></th>\n",
       "      <th></th>\n",
       "      <th></th>\n",
       "      <th></th>\n",
       "      <th></th>\n",
       "    </tr>\n",
       "  </thead>\n",
       "  <tbody>\n",
       "    <tr>\n",
       "      <th>2018-01-01 00:00:00+00:00</th>\n",
       "      <td>316.0</td>\n",
       "      <td>71.0</td>\n",
       "      <td>150.0</td>\n",
       "      <td>3345.0</td>\n",
       "      <td>122.0</td>\n",
       "      <td>0.0</td>\n",
       "      <td>0.0</td>\n",
       "      <td>832.0</td>\n",
       "      <td>232.46</td>\n",
       "      <td>1499.90</td>\n",
       "      <td>...</td>\n",
       "      <td>0.70</td>\n",
       "      <td>28.2</td>\n",
       "      <td>175.6</td>\n",
       "      <td>48.1</td>\n",
       "      <td>455.93</td>\n",
       "      <td>179.5</td>\n",
       "      <td>1819.3</td>\n",
       "      <td>478.8</td>\n",
       "      <td>41.4</td>\n",
       "      <td>0.0</td>\n",
       "    </tr>\n",
       "    <tr>\n",
       "      <th>2018-01-01 01:00:00+00:00</th>\n",
       "      <td>316.0</td>\n",
       "      <td>70.0</td>\n",
       "      <td>149.0</td>\n",
       "      <td>3275.0</td>\n",
       "      <td>122.0</td>\n",
       "      <td>0.0</td>\n",
       "      <td>0.0</td>\n",
       "      <td>926.0</td>\n",
       "      <td>153.58</td>\n",
       "      <td>1565.88</td>\n",
       "      <td>...</td>\n",
       "      <td>0.61</td>\n",
       "      <td>28.1</td>\n",
       "      <td>172.9</td>\n",
       "      <td>48.0</td>\n",
       "      <td>461.95</td>\n",
       "      <td>177.9</td>\n",
       "      <td>1816.7</td>\n",
       "      <td>475.8</td>\n",
       "      <td>41.0</td>\n",
       "      <td>0.0</td>\n",
       "    </tr>\n",
       "    <tr>\n",
       "      <th>2018-01-01 02:00:00+00:00</th>\n",
       "      <td>316.0</td>\n",
       "      <td>69.0</td>\n",
       "      <td>149.0</td>\n",
       "      <td>3167.0</td>\n",
       "      <td>122.0</td>\n",
       "      <td>0.0</td>\n",
       "      <td>0.0</td>\n",
       "      <td>692.0</td>\n",
       "      <td>133.70</td>\n",
       "      <td>1552.23</td>\n",
       "      <td>...</td>\n",
       "      <td>0.57</td>\n",
       "      <td>28.1</td>\n",
       "      <td>162.1</td>\n",
       "      <td>46.7</td>\n",
       "      <td>513.39</td>\n",
       "      <td>174.7</td>\n",
       "      <td>1808.7</td>\n",
       "      <td>469.5</td>\n",
       "      <td>40.8</td>\n",
       "      <td>0.0</td>\n",
       "    </tr>\n",
       "    <tr>\n",
       "      <th>2018-01-01 03:00:00+00:00</th>\n",
       "      <td>316.0</td>\n",
       "      <td>72.0</td>\n",
       "      <td>149.0</td>\n",
       "      <td>3160.0</td>\n",
       "      <td>122.0</td>\n",
       "      <td>0.0</td>\n",
       "      <td>0.0</td>\n",
       "      <td>453.0</td>\n",
       "      <td>131.38</td>\n",
       "      <td>1515.33</td>\n",
       "      <td>...</td>\n",
       "      <td>0.62</td>\n",
       "      <td>29.7</td>\n",
       "      <td>140.3</td>\n",
       "      <td>45.3</td>\n",
       "      <td>587.83</td>\n",
       "      <td>168.5</td>\n",
       "      <td>1803.6</td>\n",
       "      <td>455.6</td>\n",
       "      <td>39.4</td>\n",
       "      <td>0.0</td>\n",
       "    </tr>\n",
       "    <tr>\n",
       "      <th>2018-01-01 04:00:00+00:00</th>\n",
       "      <td>316.0</td>\n",
       "      <td>75.0</td>\n",
       "      <td>149.0</td>\n",
       "      <td>3330.0</td>\n",
       "      <td>122.0</td>\n",
       "      <td>0.0</td>\n",
       "      <td>0.0</td>\n",
       "      <td>321.0</td>\n",
       "      <td>131.26</td>\n",
       "      <td>1529.68</td>\n",
       "      <td>...</td>\n",
       "      <td>0.56</td>\n",
       "      <td>29.5</td>\n",
       "      <td>143.5</td>\n",
       "      <td>46.4</td>\n",
       "      <td>562.89</td>\n",
       "      <td>170.6</td>\n",
       "      <td>1809.1</td>\n",
       "      <td>461.5</td>\n",
       "      <td>40.4</td>\n",
       "      <td>0.0</td>\n",
       "    </tr>\n",
       "  </tbody>\n",
       "</table>\n",
       "<p>5 rows × 369 columns</p>\n",
       "</div>"
      ],
      "text/plain": [
       "region                         AT                                       \\\n",
       "variable                  biomass   gas hard_coal   hydro other_fossil   \n",
       "utc_timestamp                                                            \n",
       "2018-01-01 00:00:00+00:00   316.0  71.0     150.0  3345.0        122.0   \n",
       "2018-01-01 01:00:00+00:00   316.0  70.0     149.0  3275.0        122.0   \n",
       "2018-01-01 02:00:00+00:00   316.0  69.0     149.0  3167.0        122.0   \n",
       "2018-01-01 03:00:00+00:00   316.0  72.0     149.0  3160.0        122.0   \n",
       "2018-01-01 04:00:00+00:00   316.0  75.0     149.0  3330.0        122.0   \n",
       "\n",
       "region                                                            BE           \\\n",
       "variable                  other_renewable solar wind_onshore biomass      gas   \n",
       "utc_timestamp                                                                   \n",
       "2018-01-01 00:00:00+00:00             0.0   0.0        832.0  232.46  1499.90   \n",
       "2018-01-01 01:00:00+00:00             0.0   0.0        926.0  153.58  1565.88   \n",
       "2018-01-01 02:00:00+00:00             0.0   0.0        692.0  133.70  1552.23   \n",
       "2018-01-01 03:00:00+00:00             0.0   0.0        453.0  131.38  1515.33   \n",
       "2018-01-01 04:00:00+00:00             0.0   0.0        321.0  131.26  1529.68   \n",
       "\n",
       "region                     ...           SI      SK                           \\\n",
       "variable                   ... wind_onshore biomass    gas hard_coal   hydro   \n",
       "utc_timestamp              ...                                                 \n",
       "2018-01-01 00:00:00+00:00  ...         0.70    28.2  175.6      48.1  455.93   \n",
       "2018-01-01 01:00:00+00:00  ...         0.61    28.1  172.9      48.0  461.95   \n",
       "2018-01-01 02:00:00+00:00  ...         0.57    28.1  162.1      46.7  513.39   \n",
       "2018-01-01 03:00:00+00:00  ...         0.62    29.7  140.3      45.3  587.83   \n",
       "2018-01-01 04:00:00+00:00  ...         0.56    29.5  143.5      46.4  562.89   \n",
       "\n",
       "region                                                                        \n",
       "variable                  lignite nuclear other_fossil other_renewable solar  \n",
       "utc_timestamp                                                                 \n",
       "2018-01-01 00:00:00+00:00   179.5  1819.3        478.8            41.4   0.0  \n",
       "2018-01-01 01:00:00+00:00   177.9  1816.7        475.8            41.0   0.0  \n",
       "2018-01-01 02:00:00+00:00   174.7  1808.7        469.5            40.8   0.0  \n",
       "2018-01-01 03:00:00+00:00   168.5  1803.6        455.6            39.4   0.0  \n",
       "2018-01-01 04:00:00+00:00   170.6  1809.1        461.5            40.4   0.0  \n",
       "\n",
       "[5 rows x 369 columns]"
      ]
     },
     "execution_count": 53,
     "metadata": {},
     "output_type": "execute_result"
    }
   ],
   "source": [
    "entsoe_gen_type.head()"
   ]
  },
  {
   "cell_type": "code",
   "execution_count": 54,
   "metadata": {},
   "outputs": [
    {
     "data": {
      "text/html": [
       "<div>\n",
       "<style scoped>\n",
       "    .dataframe tbody tr th:only-of-type {\n",
       "        vertical-align: middle;\n",
       "    }\n",
       "\n",
       "    .dataframe tbody tr th {\n",
       "        vertical-align: top;\n",
       "    }\n",
       "\n",
       "    .dataframe thead th {\n",
       "        text-align: right;\n",
       "    }\n",
       "</style>\n",
       "<table border=\"1\" class=\"dataframe\">\n",
       "  <thead>\n",
       "    <tr style=\"text-align: right;\">\n",
       "      <th>variable</th>\n",
       "      <th>hydro</th>\n",
       "      <th>nuclear</th>\n",
       "      <th>other_fossil</th>\n",
       "      <th>wind_onshore</th>\n",
       "    </tr>\n",
       "    <tr>\n",
       "      <th>utc_timestamp</th>\n",
       "      <th></th>\n",
       "      <th></th>\n",
       "      <th></th>\n",
       "      <th></th>\n",
       "    </tr>\n",
       "  </thead>\n",
       "  <tbody>\n",
       "    <tr>\n",
       "      <th>2018-01-01 00:00:00+00:00</th>\n",
       "      <td>4407.0</td>\n",
       "      <td>8542.0</td>\n",
       "      <td>1135.0</td>\n",
       "      <td>2199.0</td>\n",
       "    </tr>\n",
       "    <tr>\n",
       "      <th>2018-01-01 01:00:00+00:00</th>\n",
       "      <td>4291.0</td>\n",
       "      <td>8540.0</td>\n",
       "      <td>1142.0</td>\n",
       "      <td>2253.0</td>\n",
       "    </tr>\n",
       "    <tr>\n",
       "      <th>2018-01-01 02:00:00+00:00</th>\n",
       "      <td>4259.0</td>\n",
       "      <td>8541.0</td>\n",
       "      <td>1056.0</td>\n",
       "      <td>2224.0</td>\n",
       "    </tr>\n",
       "    <tr>\n",
       "      <th>2018-01-01 03:00:00+00:00</th>\n",
       "      <td>4242.0</td>\n",
       "      <td>8542.0</td>\n",
       "      <td>1053.0</td>\n",
       "      <td>2154.0</td>\n",
       "    </tr>\n",
       "    <tr>\n",
       "      <th>2018-01-01 04:00:00+00:00</th>\n",
       "      <td>4376.0</td>\n",
       "      <td>8540.0</td>\n",
       "      <td>1053.0</td>\n",
       "      <td>2183.0</td>\n",
       "    </tr>\n",
       "    <tr>\n",
       "      <th>...</th>\n",
       "      <td>...</td>\n",
       "      <td>...</td>\n",
       "      <td>...</td>\n",
       "      <td>...</td>\n",
       "    </tr>\n",
       "    <tr>\n",
       "      <th>2018-12-31 19:00:00+00:00</th>\n",
       "      <td>5999.0</td>\n",
       "      <td>8207.0</td>\n",
       "      <td>1773.0</td>\n",
       "      <td>5556.0</td>\n",
       "    </tr>\n",
       "    <tr>\n",
       "      <th>2018-12-31 20:00:00+00:00</th>\n",
       "      <td>4742.0</td>\n",
       "      <td>8209.0</td>\n",
       "      <td>1707.0</td>\n",
       "      <td>5591.0</td>\n",
       "    </tr>\n",
       "    <tr>\n",
       "      <th>2018-12-31 21:00:00+00:00</th>\n",
       "      <td>3930.0</td>\n",
       "      <td>8210.0</td>\n",
       "      <td>1678.0</td>\n",
       "      <td>5576.0</td>\n",
       "    </tr>\n",
       "    <tr>\n",
       "      <th>2018-12-31 22:00:00+00:00</th>\n",
       "      <td>3256.0</td>\n",
       "      <td>8212.0</td>\n",
       "      <td>1676.0</td>\n",
       "      <td>5464.0</td>\n",
       "    </tr>\n",
       "    <tr>\n",
       "      <th>2018-12-31 23:00:00+00:00</th>\n",
       "      <td>2295.0</td>\n",
       "      <td>8211.0</td>\n",
       "      <td>1591.0</td>\n",
       "      <td>5355.0</td>\n",
       "    </tr>\n",
       "  </tbody>\n",
       "</table>\n",
       "<p>8760 rows × 4 columns</p>\n",
       "</div>"
      ],
      "text/plain": [
       "variable                    hydro  nuclear  other_fossil  wind_onshore\n",
       "utc_timestamp                                                         \n",
       "2018-01-01 00:00:00+00:00  4407.0   8542.0        1135.0        2199.0\n",
       "2018-01-01 01:00:00+00:00  4291.0   8540.0        1142.0        2253.0\n",
       "2018-01-01 02:00:00+00:00  4259.0   8541.0        1056.0        2224.0\n",
       "2018-01-01 03:00:00+00:00  4242.0   8542.0        1053.0        2154.0\n",
       "2018-01-01 04:00:00+00:00  4376.0   8540.0        1053.0        2183.0\n",
       "...                           ...      ...           ...           ...\n",
       "2018-12-31 19:00:00+00:00  5999.0   8207.0        1773.0        5556.0\n",
       "2018-12-31 20:00:00+00:00  4742.0   8209.0        1707.0        5591.0\n",
       "2018-12-31 21:00:00+00:00  3930.0   8210.0        1678.0        5576.0\n",
       "2018-12-31 22:00:00+00:00  3256.0   8212.0        1676.0        5464.0\n",
       "2018-12-31 23:00:00+00:00  2295.0   8211.0        1591.0        5355.0\n",
       "\n",
       "[8760 rows x 4 columns]"
      ]
     },
     "execution_count": 54,
     "metadata": {},
     "output_type": "execute_result"
    }
   ],
   "source": [
    "entsoe_gen_type['SE']"
   ]
  },
  {
   "cell_type": "markdown",
   "metadata": {},
   "source": [
    "#### Filter the data\n",
    "- countries\n",
    "- technologies\n",
    "\n",
    "that are covert from our method"
   ]
  },
  {
   "cell_type": "code",
   "execution_count": 55,
   "metadata": {},
   "outputs": [],
   "source": [
    "#country filter\n",
    "entsoe_gen_type_pp = entsoe_gen_type[generation_unit_info_validated.EUTL_countrycode.unique()]\n",
    "# take the sum of the generation\n",
    "entsoe_gen_type_pp = entsoe_gen_type_pp.sum()"
   ]
  },
  {
   "cell_type": "markdown",
   "metadata": {},
   "source": [
    "Reset the multiindex from pandas"
   ]
  },
  {
   "cell_type": "code",
   "execution_count": 56,
   "metadata": {},
   "outputs": [],
   "source": [
    "entsoe_gen_type_pp = entsoe_gen_type_pp.reset_index()"
   ]
  },
  {
   "cell_type": "markdown",
   "metadata": {},
   "source": [
    "Rename columns"
   ]
  },
  {
   "cell_type": "code",
   "execution_count": 57,
   "metadata": {},
   "outputs": [],
   "source": [
    "entsoe_gen_type_pp = entsoe_gen_type_pp.rename(columns={0:'generation_per_type_2018_ENTSO-E','region':'EUTL_countrycode','variable':'ProductionTypeName'})"
   ]
  },
  {
   "cell_type": "markdown",
   "metadata": {},
   "source": [
    "#### Production for each technology form power plant generation"
   ]
  },
  {
   "cell_type": "code",
   "execution_count": 58,
   "metadata": {},
   "outputs": [],
   "source": [
    "Powerplants_gen_type_year = pd.DataFrame(generation_unit_info_validated.groupby(['EUTL_countrycode','ProductionTypeName']).sum()['generation_2018'])"
   ]
  },
  {
   "cell_type": "markdown",
   "metadata": {},
   "source": [
    "Reset the multiindex from pandas and drop not used columns"
   ]
  },
  {
   "cell_type": "code",
   "execution_count": 59,
   "metadata": {},
   "outputs": [],
   "source": [
    "Powerplants_gen_type_year = Powerplants_gen_type_year.reset_index()\n",
    "Powerplants_gen_type_year = Powerplants_gen_type_year.rename(columns={'generation_2018':'verified_generation_per_unit_2018_ENTSO-E'})"
   ]
  },
  {
   "cell_type": "markdown",
   "metadata": {},
   "source": [
    "#### Merge power plant generation and ENTSO-E per type"
   ]
  },
  {
   "cell_type": "code",
   "execution_count": 60,
   "metadata": {},
   "outputs": [],
   "source": [
    "gen_data_comparison = entsoe_gen_type_pp.merge(Powerplants_gen_type_year, on=['EUTL_countrycode','ProductionTypeName'])"
   ]
  },
  {
   "cell_type": "code",
   "execution_count": 61,
   "metadata": {},
   "outputs": [],
   "source": [
    "gen_data_comparison['missing_generation'] = gen_data_comparison['generation_per_type_2018_ENTSO-E'] - gen_data_comparison['verified_generation_per_unit_2018_ENTSO-E']"
   ]
  },
  {
   "cell_type": "code",
   "execution_count": 62,
   "metadata": {},
   "outputs": [],
   "source": [
    "gen_data_comparison['covered_generation'] = round((100 / gen_data_comparison['generation_per_type_2018_ENTSO-E']) * gen_data_comparison['verified_generation_per_unit_2018_ENTSO-E'])"
   ]
  },
  {
   "cell_type": "code",
   "execution_count": 63,
   "metadata": {},
   "outputs": [
    {
     "data": {
      "text/html": [
       "<div>\n",
       "<style scoped>\n",
       "    .dataframe tbody tr th:only-of-type {\n",
       "        vertical-align: middle;\n",
       "    }\n",
       "\n",
       "    .dataframe tbody tr th {\n",
       "        vertical-align: top;\n",
       "    }\n",
       "\n",
       "    .dataframe thead th {\n",
       "        text-align: right;\n",
       "    }\n",
       "</style>\n",
       "<table border=\"1\" class=\"dataframe\">\n",
       "  <thead>\n",
       "    <tr style=\"text-align: right;\">\n",
       "      <th></th>\n",
       "      <th>EUTL_countrycode</th>\n",
       "      <th>ProductionTypeName</th>\n",
       "      <th>generation_per_type_2018_ENTSO-E</th>\n",
       "      <th>verified_generation_per_unit_2018_ENTSO-E</th>\n",
       "      <th>missing_generation</th>\n",
       "      <th>covered_generation</th>\n",
       "    </tr>\n",
       "  </thead>\n",
       "  <tbody>\n",
       "    <tr>\n",
       "      <th>0</th>\n",
       "      <td>AT</td>\n",
       "      <td>gas</td>\n",
       "      <td>8.168009e+06</td>\n",
       "      <td>6.660371e+06</td>\n",
       "      <td>1.507638e+06</td>\n",
       "      <td>82.0</td>\n",
       "    </tr>\n",
       "    <tr>\n",
       "      <th>1</th>\n",
       "      <td>AT</td>\n",
       "      <td>hard_coal</td>\n",
       "      <td>1.422450e+06</td>\n",
       "      <td>6.938571e+05</td>\n",
       "      <td>7.285929e+05</td>\n",
       "      <td>49.0</td>\n",
       "    </tr>\n",
       "    <tr>\n",
       "      <th>2</th>\n",
       "      <td>DK</td>\n",
       "      <td>gas</td>\n",
       "      <td>2.843756e+06</td>\n",
       "      <td>2.734431e+05</td>\n",
       "      <td>2.570312e+06</td>\n",
       "      <td>10.0</td>\n",
       "    </tr>\n",
       "    <tr>\n",
       "      <th>3</th>\n",
       "      <td>DK</td>\n",
       "      <td>hard_coal</td>\n",
       "      <td>6.426351e+06</td>\n",
       "      <td>4.792089e+06</td>\n",
       "      <td>1.634262e+06</td>\n",
       "      <td>75.0</td>\n",
       "    </tr>\n",
       "    <tr>\n",
       "      <th>4</th>\n",
       "      <td>BE</td>\n",
       "      <td>gas</td>\n",
       "      <td>2.230368e+07</td>\n",
       "      <td>1.421671e+07</td>\n",
       "      <td>8.086968e+06</td>\n",
       "      <td>64.0</td>\n",
       "    </tr>\n",
       "    <tr>\n",
       "      <th>5</th>\n",
       "      <td>DE</td>\n",
       "      <td>gas</td>\n",
       "      <td>4.295907e+07</td>\n",
       "      <td>1.484443e+07</td>\n",
       "      <td>2.811464e+07</td>\n",
       "      <td>35.0</td>\n",
       "    </tr>\n",
       "    <tr>\n",
       "      <th>6</th>\n",
       "      <td>DE</td>\n",
       "      <td>hard_coal</td>\n",
       "      <td>7.154638e+07</td>\n",
       "      <td>6.179260e+07</td>\n",
       "      <td>9.753775e+06</td>\n",
       "      <td>86.0</td>\n",
       "    </tr>\n",
       "    <tr>\n",
       "      <th>7</th>\n",
       "      <td>DE</td>\n",
       "      <td>lignite</td>\n",
       "      <td>1.283613e+08</td>\n",
       "      <td>1.292305e+08</td>\n",
       "      <td>-8.691585e+05</td>\n",
       "      <td>101.0</td>\n",
       "    </tr>\n",
       "    <tr>\n",
       "      <th>8</th>\n",
       "      <td>DE</td>\n",
       "      <td>other_fossil</td>\n",
       "      <td>1.003786e+07</td>\n",
       "      <td>3.303138e+06</td>\n",
       "      <td>6.734727e+06</td>\n",
       "      <td>33.0</td>\n",
       "    </tr>\n",
       "    <tr>\n",
       "      <th>9</th>\n",
       "      <td>FI</td>\n",
       "      <td>hard_coal</td>\n",
       "      <td>5.971642e+06</td>\n",
       "      <td>4.093411e+06</td>\n",
       "      <td>1.878231e+06</td>\n",
       "      <td>69.0</td>\n",
       "    </tr>\n",
       "  </tbody>\n",
       "</table>\n",
       "</div>"
      ],
      "text/plain": [
       "  EUTL_countrycode ProductionTypeName  generation_per_type_2018_ENTSO-E  \\\n",
       "0               AT                gas                      8.168009e+06   \n",
       "1               AT          hard_coal                      1.422450e+06   \n",
       "2               DK                gas                      2.843756e+06   \n",
       "3               DK          hard_coal                      6.426351e+06   \n",
       "4               BE                gas                      2.230368e+07   \n",
       "5               DE                gas                      4.295907e+07   \n",
       "6               DE          hard_coal                      7.154638e+07   \n",
       "7               DE            lignite                      1.283613e+08   \n",
       "8               DE       other_fossil                      1.003786e+07   \n",
       "9               FI          hard_coal                      5.971642e+06   \n",
       "\n",
       "   verified_generation_per_unit_2018_ENTSO-E  missing_generation  \\\n",
       "0                               6.660371e+06        1.507638e+06   \n",
       "1                               6.938571e+05        7.285929e+05   \n",
       "2                               2.734431e+05        2.570312e+06   \n",
       "3                               4.792089e+06        1.634262e+06   \n",
       "4                               1.421671e+07        8.086968e+06   \n",
       "5                               1.484443e+07        2.811464e+07   \n",
       "6                               6.179260e+07        9.753775e+06   \n",
       "7                               1.292305e+08       -8.691585e+05   \n",
       "8                               3.303138e+06        6.734727e+06   \n",
       "9                               4.093411e+06        1.878231e+06   \n",
       "\n",
       "   covered_generation  \n",
       "0                82.0  \n",
       "1                49.0  \n",
       "2                10.0  \n",
       "3                75.0  \n",
       "4                64.0  \n",
       "5                35.0  \n",
       "6                86.0  \n",
       "7               101.0  \n",
       "8                33.0  \n",
       "9                69.0  "
      ]
     },
     "execution_count": 63,
     "metadata": {},
     "output_type": "execute_result"
    }
   ],
   "source": [
    "gen_data_comparison.head(10)"
   ]
  },
  {
   "cell_type": "markdown",
   "metadata": {},
   "source": [
    "#### Plot covered generation per country and generation type"
   ]
  },
  {
   "cell_type": "code",
   "execution_count": 64,
   "metadata": {},
   "outputs": [
    {
     "data": {
      "text/plain": [
       "[<matplotlib.lines.Line2D at 0x198e0ea60c8>]"
      ]
     },
     "execution_count": 64,
     "metadata": {},
     "output_type": "execute_result"
    },
    {
     "data": {
      "image/png": "[encoded data removed]",
      "text/plain": [
       "<Figure size 1080x720 with 1 Axes>"
      ]
     },
     "metadata": {},
     "output_type": "display_data"
    }
   ],
   "source": [
    "ax = sns.barplot(x=\"EUTL_countrycode\", y=\"covered_generation\", hue=\"ProductionTypeName\", data=gen_data_comparison)\n",
    "ax.plot([-1, 19], [25, 25], 'r--')"
   ]
  },
  {
   "cell_type": "markdown",
   "metadata": {},
   "source": [
    "#### Mean coverage per country"
   ]
  },
  {
   "cell_type": "code",
   "execution_count": 65,
   "metadata": {},
   "outputs": [
    {
     "data": {
      "text/plain": [
       "EUTL_countrycode\n",
       "AT    65.50\n",
       "BE    64.00\n",
       "CZ    47.50\n",
       "DE    63.75\n",
       "DK    42.50\n",
       "ES    67.50\n",
       "FI    40.50\n",
       "FR    74.00\n",
       "GB    51.50\n",
       "GR    80.50\n",
       "HU    76.50\n",
       "IE    92.00\n",
       "IT    74.50\n",
       "NL    70.00\n",
       "PL    50.00\n",
       "PT    34.50\n",
       "RO    59.00\n",
       "SK    92.00\n",
       "Name: covered_generation, dtype: float64"
      ]
     },
     "execution_count": 65,
     "metadata": {},
     "output_type": "execute_result"
    }
   ],
   "source": [
    "gen_data_comparison.groupby(['EUTL_countrycode']).mean()['covered_generation']"
   ]
  },
  {
   "cell_type": "code",
   "execution_count": 66,
   "metadata": {},
   "outputs": [
    {
     "data": {
      "image/png": "[encoded data removed]",
      "text/plain": [
       "<Figure size 1080x720 with 1 Axes>"
      ]
     },
     "metadata": {},
     "output_type": "display_data"
    }
   ],
   "source": [
    "fig, ax = plt.subplots(1, 1)\n",
    "\n",
    "ax = gen_data_comparison.groupby(['EUTL_countrycode']).mean()['covered_generation'].plot(kind='bar', ylabel='Coverage [%]')\n",
    "\n",
    "ax.plot([-10, 100], [25, 25], 'r--')\n",
    "\n",
    "ax.set_xlabel(\"Country\" , fontsize=20)\n",
    "ax.set_ylabel(\"Coverage [%]\", fontsize=20)\n",
    "\n",
    "ax.tick_params(axis='y',labelsize=19)\n",
    "ax.tick_params(axis='x',labelsize=19)\n",
    "\n",
    "\n",
    "ax.tick_params(axis='x', rotation=45)"
   ]
  },
  {
   "cell_type": "code",
   "execution_count": 67,
   "metadata": {},
   "outputs": [],
   "source": [
    "fig.savefig(os.path.join(output_directory_path + '/_mean_coverage_of_elec_production_per_country.png'))"
   ]
  },
  {
   "cell_type": "markdown",
   "metadata": {},
   "source": [
    "Mean coverage over all countries"
   ]
  },
  {
   "cell_type": "code",
   "execution_count": 68,
   "metadata": {},
   "outputs": [
    {
     "data": {
      "text/plain": [
       "63.17948717948718"
      ]
     },
     "execution_count": 68,
     "metadata": {},
     "output_type": "execute_result"
    }
   ],
   "source": [
    "gen_data_comparison.covered_generation.mean()"
   ]
  },
  {
   "cell_type": "markdown",
   "metadata": {},
   "source": [
    "## Validation threshold for EF per technology and country"
   ]
  },
  {
   "cell_type": "markdown",
   "metadata": {},
   "source": [
    "Take only the countries and technologies where at least 30 % of the generation is connected to CO2 emissions."
   ]
  },
  {
   "cell_type": "code",
   "execution_count": 69,
   "metadata": {},
   "outputs": [],
   "source": [
    "# add identifier\n",
    "gen_data_comparison['Verified_EF'] = (round(gen_data_comparison['covered_generation']) > 25)"
   ]
  },
  {
   "cell_type": "code",
   "execution_count": 70,
   "metadata": {},
   "outputs": [],
   "source": [
    "# set new index\n",
    "gen_data_comparison = gen_data_comparison.set_index(['EUTL_countrycode','ProductionTypeName'])"
   ]
  },
  {
   "cell_type": "code",
   "execution_count": 71,
   "metadata": {},
   "outputs": [],
   "source": [
    "# take the calculated EF from 7.3 and reset the used index\n",
    "EF_per_tech_country = EF_per_tech_country.reset_index().rename(columns={0:'EF','EUTL_countrycode':'MapCode'}).set_index(['MapCode','ProductionTypeName'])"
   ]
  },
  {
   "cell_type": "code",
   "execution_count": 72,
   "metadata": {},
   "outputs": [],
   "source": [
    "# Transfer the verification of EF too the result\n",
    "EF_per_tech_country['Verified_EF'] = gen_data_comparison['Verified_EF']"
   ]
  },
  {
   "cell_type": "code",
   "execution_count": 73,
   "metadata": {},
   "outputs": [],
   "source": [
    "EF_per_tech_country['EF_round_in_kwh'] = (EF_per_tech_country.EF * 1000).round(2)"
   ]
  },
  {
   "cell_type": "code",
   "execution_count": 74,
   "metadata": {},
   "outputs": [
    {
     "data": {
      "text/html": [
       "<div>\n",
       "<style scoped>\n",
       "    .dataframe tbody tr th:only-of-type {\n",
       "        vertical-align: middle;\n",
       "    }\n",
       "\n",
       "    .dataframe tbody tr th {\n",
       "        vertical-align: top;\n",
       "    }\n",
       "\n",
       "    .dataframe thead th {\n",
       "        text-align: right;\n",
       "    }\n",
       "</style>\n",
       "<table border=\"1\" class=\"dataframe\">\n",
       "  <thead>\n",
       "    <tr style=\"text-align: right;\">\n",
       "      <th></th>\n",
       "      <th></th>\n",
       "      <th>EF</th>\n",
       "      <th>Verified_EF</th>\n",
       "      <th>EF_round_in_kwh</th>\n",
       "    </tr>\n",
       "    <tr>\n",
       "      <th>MapCode</th>\n",
       "      <th>ProductionTypeName</th>\n",
       "      <th></th>\n",
       "      <th></th>\n",
       "      <th></th>\n",
       "    </tr>\n",
       "  </thead>\n",
       "  <tbody>\n",
       "    <tr>\n",
       "      <th rowspan=\"2\" valign=\"top\">AT</th>\n",
       "      <th>gas</th>\n",
       "      <td>0.288711</td>\n",
       "      <td>True</td>\n",
       "      <td>288.71</td>\n",
       "    </tr>\n",
       "    <tr>\n",
       "      <th>hard_coal</th>\n",
       "      <td>0.884070</td>\n",
       "      <td>True</td>\n",
       "      <td>884.07</td>\n",
       "    </tr>\n",
       "    <tr>\n",
       "      <th>BE</th>\n",
       "      <th>gas</th>\n",
       "      <td>0.389641</td>\n",
       "      <td>True</td>\n",
       "      <td>389.64</td>\n",
       "    </tr>\n",
       "    <tr>\n",
       "      <th rowspan=\"2\" valign=\"top\">CZ</th>\n",
       "      <th>hard_coal</th>\n",
       "      <td>0.985546</td>\n",
       "      <td>True</td>\n",
       "      <td>985.55</td>\n",
       "    </tr>\n",
       "    <tr>\n",
       "      <th>lignite</th>\n",
       "      <td>0.928296</td>\n",
       "      <td>True</td>\n",
       "      <td>928.30</td>\n",
       "    </tr>\n",
       "    <tr>\n",
       "      <th rowspan=\"4\" valign=\"top\">DE</th>\n",
       "      <th>gas</th>\n",
       "      <td>0.334091</td>\n",
       "      <td>True</td>\n",
       "      <td>334.09</td>\n",
       "    </tr>\n",
       "    <tr>\n",
       "      <th>hard_coal</th>\n",
       "      <td>0.871051</td>\n",
       "      <td>True</td>\n",
       "      <td>871.05</td>\n",
       "    </tr>\n",
       "    <tr>\n",
       "      <th>lignite</th>\n",
       "      <td>1.125560</td>\n",
       "      <td>True</td>\n",
       "      <td>1125.56</td>\n",
       "    </tr>\n",
       "    <tr>\n",
       "      <th>other_fossil</th>\n",
       "      <td>1.619695</td>\n",
       "      <td>True</td>\n",
       "      <td>1619.69</td>\n",
       "    </tr>\n",
       "    <tr>\n",
       "      <th rowspan=\"2\" valign=\"top\">DK</th>\n",
       "      <th>gas</th>\n",
       "      <td>0.329783</td>\n",
       "      <td>False</td>\n",
       "      <td>329.78</td>\n",
       "    </tr>\n",
       "    <tr>\n",
       "      <th>hard_coal</th>\n",
       "      <td>0.775840</td>\n",
       "      <td>True</td>\n",
       "      <td>775.84</td>\n",
       "    </tr>\n",
       "    <tr>\n",
       "      <th rowspan=\"2\" valign=\"top\">ES</th>\n",
       "      <th>gas</th>\n",
       "      <td>0.386506</td>\n",
       "      <td>True</td>\n",
       "      <td>386.51</td>\n",
       "    </tr>\n",
       "    <tr>\n",
       "      <th>hard_coal</th>\n",
       "      <td>0.975777</td>\n",
       "      <td>True</td>\n",
       "      <td>975.78</td>\n",
       "    </tr>\n",
       "    <tr>\n",
       "      <th rowspan=\"2\" valign=\"top\">FI</th>\n",
       "      <th>hard_coal</th>\n",
       "      <td>0.674454</td>\n",
       "      <td>True</td>\n",
       "      <td>674.45</td>\n",
       "    </tr>\n",
       "    <tr>\n",
       "      <th>other_fossil</th>\n",
       "      <td>0.759814</td>\n",
       "      <td>False</td>\n",
       "      <td>759.81</td>\n",
       "    </tr>\n",
       "    <tr>\n",
       "      <th rowspan=\"2\" valign=\"top\">FR</th>\n",
       "      <th>gas</th>\n",
       "      <td>0.396985</td>\n",
       "      <td>True</td>\n",
       "      <td>396.98</td>\n",
       "    </tr>\n",
       "    <tr>\n",
       "      <th>hard_coal</th>\n",
       "      <td>0.834945</td>\n",
       "      <td>True</td>\n",
       "      <td>834.94</td>\n",
       "    </tr>\n",
       "    <tr>\n",
       "      <th rowspan=\"2\" valign=\"top\">GB</th>\n",
       "      <th>gas</th>\n",
       "      <td>0.467992</td>\n",
       "      <td>True</td>\n",
       "      <td>467.99</td>\n",
       "    </tr>\n",
       "    <tr>\n",
       "      <th>hard_coal</th>\n",
       "      <td>1.103223</td>\n",
       "      <td>True</td>\n",
       "      <td>1103.22</td>\n",
       "    </tr>\n",
       "    <tr>\n",
       "      <th rowspan=\"2\" valign=\"top\">GR</th>\n",
       "      <th>gas</th>\n",
       "      <td>0.332135</td>\n",
       "      <td>True</td>\n",
       "      <td>332.13</td>\n",
       "    </tr>\n",
       "    <tr>\n",
       "      <th>lignite</th>\n",
       "      <td>1.401712</td>\n",
       "      <td>True</td>\n",
       "      <td>1401.71</td>\n",
       "    </tr>\n",
       "    <tr>\n",
       "      <th rowspan=\"2\" valign=\"top\">HU</th>\n",
       "      <th>gas</th>\n",
       "      <td>0.371916</td>\n",
       "      <td>True</td>\n",
       "      <td>371.92</td>\n",
       "    </tr>\n",
       "    <tr>\n",
       "      <th>lignite</th>\n",
       "      <td>1.355619</td>\n",
       "      <td>True</td>\n",
       "      <td>1355.62</td>\n",
       "    </tr>\n",
       "    <tr>\n",
       "      <th rowspan=\"2\" valign=\"top\">IE</th>\n",
       "      <th>gas</th>\n",
       "      <td>0.347416</td>\n",
       "      <td>True</td>\n",
       "      <td>347.42</td>\n",
       "    </tr>\n",
       "    <tr>\n",
       "      <th>hard_coal</th>\n",
       "      <td>1.032204</td>\n",
       "      <td>True</td>\n",
       "      <td>1032.20</td>\n",
       "    </tr>\n",
       "    <tr>\n",
       "      <th rowspan=\"2\" valign=\"top\">IT</th>\n",
       "      <th>gas</th>\n",
       "      <td>0.387735</td>\n",
       "      <td>True</td>\n",
       "      <td>387.74</td>\n",
       "    </tr>\n",
       "    <tr>\n",
       "      <th>hard_coal</th>\n",
       "      <td>0.997673</td>\n",
       "      <td>True</td>\n",
       "      <td>997.67</td>\n",
       "    </tr>\n",
       "    <tr>\n",
       "      <th rowspan=\"2\" valign=\"top\">NL</th>\n",
       "      <th>gas</th>\n",
       "      <td>0.353883</td>\n",
       "      <td>True</td>\n",
       "      <td>353.88</td>\n",
       "    </tr>\n",
       "    <tr>\n",
       "      <th>hard_coal</th>\n",
       "      <td>0.948562</td>\n",
       "      <td>True</td>\n",
       "      <td>948.56</td>\n",
       "    </tr>\n",
       "    <tr>\n",
       "      <th rowspan=\"3\" valign=\"top\">PL</th>\n",
       "      <th>gas</th>\n",
       "      <td>0.370311</td>\n",
       "      <td>False</td>\n",
       "      <td>370.31</td>\n",
       "    </tr>\n",
       "    <tr>\n",
       "      <th>hard_coal</th>\n",
       "      <td>0.942409</td>\n",
       "      <td>True</td>\n",
       "      <td>942.41</td>\n",
       "    </tr>\n",
       "    <tr>\n",
       "      <th>lignite</th>\n",
       "      <td>1.158647</td>\n",
       "      <td>True</td>\n",
       "      <td>1158.65</td>\n",
       "    </tr>\n",
       "    <tr>\n",
       "      <th rowspan=\"2\" valign=\"top\">PT</th>\n",
       "      <th>gas</th>\n",
       "      <td>0.430328</td>\n",
       "      <td>True</td>\n",
       "      <td>430.33</td>\n",
       "    </tr>\n",
       "    <tr>\n",
       "      <th>hard_coal</th>\n",
       "      <td>0.546439</td>\n",
       "      <td>True</td>\n",
       "      <td>546.44</td>\n",
       "    </tr>\n",
       "    <tr>\n",
       "      <th rowspan=\"3\" valign=\"top\">RO</th>\n",
       "      <th>gas</th>\n",
       "      <td>0.315028</td>\n",
       "      <td>False</td>\n",
       "      <td>315.03</td>\n",
       "    </tr>\n",
       "    <tr>\n",
       "      <th>hard_coal</th>\n",
       "      <td>1.157439</td>\n",
       "      <td>True</td>\n",
       "      <td>1157.44</td>\n",
       "    </tr>\n",
       "    <tr>\n",
       "      <th>lignite</th>\n",
       "      <td>1.000763</td>\n",
       "      <td>True</td>\n",
       "      <td>1000.76</td>\n",
       "    </tr>\n",
       "    <tr>\n",
       "      <th>SE</th>\n",
       "      <th>gas</th>\n",
       "      <td>0.361805</td>\n",
       "      <td>NaN</td>\n",
       "      <td>361.80</td>\n",
       "    </tr>\n",
       "    <tr>\n",
       "      <th rowspan=\"2\" valign=\"top\">SK</th>\n",
       "      <th>hard_coal</th>\n",
       "      <td>0.903090</td>\n",
       "      <td>True</td>\n",
       "      <td>903.09</td>\n",
       "    </tr>\n",
       "    <tr>\n",
       "      <th>lignite</th>\n",
       "      <td>1.295547</td>\n",
       "      <td>True</td>\n",
       "      <td>1295.55</td>\n",
       "    </tr>\n",
       "  </tbody>\n",
       "</table>\n",
       "</div>"
      ],
      "text/plain": [
       "                                  EF Verified_EF  EF_round_in_kwh\n",
       "MapCode ProductionTypeName                                       \n",
       "AT      gas                 0.288711        True           288.71\n",
       "        hard_coal           0.884070        True           884.07\n",
       "BE      gas                 0.389641        True           389.64\n",
       "CZ      hard_coal           0.985546        True           985.55\n",
       "        lignite             0.928296        True           928.30\n",
       "DE      gas                 0.334091        True           334.09\n",
       "        hard_coal           0.871051        True           871.05\n",
       "        lignite             1.125560        True          1125.56\n",
       "        other_fossil        1.619695        True          1619.69\n",
       "DK      gas                 0.329783       False           329.78\n",
       "        hard_coal           0.775840        True           775.84\n",
       "ES      gas                 0.386506        True           386.51\n",
       "        hard_coal           0.975777        True           975.78\n",
       "FI      hard_coal           0.674454        True           674.45\n",
       "        other_fossil        0.759814       False           759.81\n",
       "FR      gas                 0.396985        True           396.98\n",
       "        hard_coal           0.834945        True           834.94\n",
       "GB      gas                 0.467992        True           467.99\n",
       "        hard_coal           1.103223        True          1103.22\n",
       "GR      gas                 0.332135        True           332.13\n",
       "        lignite             1.401712        True          1401.71\n",
       "HU      gas                 0.371916        True           371.92\n",
       "        lignite             1.355619        True          1355.62\n",
       "IE      gas                 0.347416        True           347.42\n",
       "        hard_coal           1.032204        True          1032.20\n",
       "IT      gas                 0.387735        True           387.74\n",
       "        hard_coal           0.997673        True           997.67\n",
       "NL      gas                 0.353883        True           353.88\n",
       "        hard_coal           0.948562        True           948.56\n",
       "PL      gas                 0.370311       False           370.31\n",
       "        hard_coal           0.942409        True           942.41\n",
       "        lignite             1.158647        True          1158.65\n",
       "PT      gas                 0.430328        True           430.33\n",
       "        hard_coal           0.546439        True           546.44\n",
       "RO      gas                 0.315028       False           315.03\n",
       "        hard_coal           1.157439        True          1157.44\n",
       "        lignite             1.000763        True          1000.76\n",
       "SE      gas                 0.361805         NaN           361.80\n",
       "SK      hard_coal           0.903090        True           903.09\n",
       "        lignite             1.295547        True          1295.55"
      ]
     },
     "execution_count": 74,
     "metadata": {},
     "output_type": "execute_result"
    }
   ],
   "source": [
    "EF_per_tech_country"
   ]
  },
  {
   "cell_type": "code",
   "execution_count": 75,
   "metadata": {},
   "outputs": [
    {
     "data": {
      "text/plain": [
       "4"
      ]
     },
     "execution_count": 75,
     "metadata": {},
     "output_type": "execute_result"
    }
   ],
   "source": [
    "# hoe many false are in the EF dataset\n",
    "(EF_per_tech_country.Verified_EF == False).sum()"
   ]
  },
  {
   "cell_type": "markdown",
   "metadata": {},
   "source": [
    "# Export final EF to csv"
   ]
  },
  {
   "cell_type": "code",
   "execution_count": 76,
   "metadata": {},
   "outputs": [],
   "source": [
    "EF_per_tech_country.to_csv(processed_directory_path + '/EF_bottom_up_methode.csv')\n",
    "EF_per_tech_country.to_csv(output_directory_path + '/EF_bottom_up_methode.csv')"
   ]
  },
  {
   "cell_type": "code",
   "execution_count": null,
   "metadata": {},
   "outputs": [],
   "source": []
  }
 ],
 "metadata": {
  "kernelspec": {
   "display_name": "Python 3",
   "language": "python",
   "name": "python3"
  },
  "language_info": {
   "codemirror_mode": {
    "name": "ipython",
    "version": 3
   },
   "file_extension": ".py",
   "mimetype": "text/x-python",
   "name": "python",
   "nbconvert_exporter": "python",
   "pygments_lexer": "ipython3",
   "version": "3.7.9"
  },
  "toc": {
   "base_numbering": 1,
   "nav_menu": {},
   "number_sections": true,
   "sideBar": false,
   "skip_h1_title": false,
   "title_cell": "Table of Contents",
   "title_sidebar": "Contents",
   "toc_cell": true,
   "toc_position": {},
   "toc_section_display": false,
   "toc_window_display": false
  }
 },
 "nbformat": 4,
 "nbformat_minor": 4
}
