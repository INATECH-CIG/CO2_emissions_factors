{
 "cells": [
  {
   "cell_type": "markdown",
   "metadata": {
    "toc": true
   },
   "source": [
    "<h1>Table of Contents<span class=\"tocSkip\"></span></h1>\n",
    "<div class=\"toc\"><ul class=\"toc-item\"><li><span><a href=\"#Introduction\" data-toc-modified-id=\"Introduction-1\"><span class=\"toc-item-num\">1&nbsp;&nbsp;</span>Introduction</a></span></li><li><span><a href=\"#Script-setup\" data-toc-modified-id=\"Script-setup-2\"><span class=\"toc-item-num\">2&nbsp;&nbsp;</span>Script setup</a></span></li><li><span><a href=\"#Data-directory-preparention\" data-toc-modified-id=\"Data-directory-preparention-3\"><span class=\"toc-item-num\">3&nbsp;&nbsp;</span>Data directory preparention</a></span></li><li><span><a href=\"#Data-file-preperation\" data-toc-modified-id=\"Data-file-preperation-4\"><span class=\"toc-item-num\">4&nbsp;&nbsp;</span>Data file preperation</a></span><ul class=\"toc-item\"><li><span><a href=\"#input-directory-(all-general-raw-data-files)\" data-toc-modified-id=\"input-directory-(all-general-raw-data-files)-4.1\"><span class=\"toc-item-num\">4.1&nbsp;&nbsp;</span><code>input</code> directory (all general raw data files)</a></span></li><li><span><a href=\"#processed-directory-(all-data-files-produced-in-this-repository)\" data-toc-modified-id=\"processed-directory-(all-data-files-produced-in-this-repository)-4.2\"><span class=\"toc-item-num\">4.2&nbsp;&nbsp;</span><code>processed</code> directory (all data files produced in this repository)</a></span></li></ul></li><li><span><a href=\"#Load-data-functions\" data-toc-modified-id=\"Load-data-functions-5\"><span class=\"toc-item-num\">5&nbsp;&nbsp;</span>Load data functions</a></span></li><li><span><a href=\"#Load-data-sets\" data-toc-modified-id=\"Load-data-sets-6\"><span class=\"toc-item-num\">6&nbsp;&nbsp;</span>Load data sets</a></span></li><li><span><a href=\"#Power-plant-CO2-Signals\" data-toc-modified-id=\"Power-plant-CO2-Signals-7\"><span class=\"toc-item-num\">7&nbsp;&nbsp;</span>Power plant CO2 Signals</a></span><ul class=\"toc-item\"><li><span><a href=\"#Plant-Level\" data-toc-modified-id=\"Plant-Level-7.1\"><span class=\"toc-item-num\">7.1&nbsp;&nbsp;</span>Plant Level</a></span></li><li><span><a href=\"#Technology-Level\" data-toc-modified-id=\"Technology-Level-7.2\"><span class=\"toc-item-num\">7.2&nbsp;&nbsp;</span>Technology Level</a></span></li><li><span><a href=\"#Country-level\" data-toc-modified-id=\"Country-level-7.3\"><span class=\"toc-item-num\">7.3&nbsp;&nbsp;</span>Country level</a></span></li><li><span><a href=\"#Signal-analysis\" data-toc-modified-id=\"Signal-analysis-7.4\"><span class=\"toc-item-num\">7.4&nbsp;&nbsp;</span>Signal analysis</a></span></li><li><span><a href=\"#CO2-Signal-Example\" data-toc-modified-id=\"CO2-Signal-Example-7.5\"><span class=\"toc-item-num\">7.5&nbsp;&nbsp;</span>CO2 Signal Example</a></span></li></ul></li><li><span><a href=\"#ENTSO-E-generation-per-technology-CO2-Signal\" data-toc-modified-id=\"ENTSO-E-generation-per-technology-CO2-Signal-8\"><span class=\"toc-item-num\">8&nbsp;&nbsp;</span>ENTSO-E generation per technology CO2 Signal</a></span><ul class=\"toc-item\"><li><span><a href=\"#EF-preparation\" data-toc-modified-id=\"EF-preparation-8.1\"><span class=\"toc-item-num\">8.1&nbsp;&nbsp;</span>EF preparation</a></span></li><li><span><a href=\"#Plots\" data-toc-modified-id=\"Plots-8.2\"><span class=\"toc-item-num\">8.2&nbsp;&nbsp;</span>Plots</a></span><ul class=\"toc-item\"><li><span><a href=\"#CO2-Signal-Example\" data-toc-modified-id=\"CO2-Signal-Example-8.2.1\"><span class=\"toc-item-num\">8.2.1&nbsp;&nbsp;</span>CO2 Signal Example</a></span></li><li><span><a href=\"#CO2-Duration-Curves\" data-toc-modified-id=\"CO2-Duration-Curves-8.2.2\"><span class=\"toc-item-num\">8.2.2&nbsp;&nbsp;</span>CO2 Duration Curves</a></span></li><li><span><a href=\"#Carbon-Intensity-Heat-Map\" data-toc-modified-id=\"Carbon-Intensity-Heat-Map-8.2.3\"><span class=\"toc-item-num\">8.2.3&nbsp;&nbsp;</span>Carbon Intensity Heat Map</a></span></li></ul></li></ul></li><li><span><a href=\"#ENTSO-E-Statistical-Factsheet-2018-in-Comma-Separated-Value-(CSV)-format\" data-toc-modified-id=\"ENTSO-E-Statistical-Factsheet-2018-in-Comma-Separated-Value-(CSV)-format-9\"><span class=\"toc-item-num\">9&nbsp;&nbsp;</span>ENTSO-E Statistical Factsheet 2018 in Comma Separated Value (CSV) format</a></span></li><li><span><a href=\"#ENTSO-E-Power-Stats-generation-per-technology-CO2-Signal\" data-toc-modified-id=\"ENTSO-E-Power-Stats-generation-per-technology-CO2-Signal-10\"><span class=\"toc-item-num\">10&nbsp;&nbsp;</span>ENTSO-E Power Stats generation per technology CO2 Signal</a></span></li><li><span><a href=\"#Compair-Bottom-Up-and-Top-down\" data-toc-modified-id=\"Compair-Bottom-Up-and-Top-down-11\"><span class=\"toc-item-num\">11&nbsp;&nbsp;</span>Compair Bottom Up and Top down</a></span></li><li><span><a href=\"#Plotting-CI\" data-toc-modified-id=\"Plotting-CI-12\"><span class=\"toc-item-num\">12&nbsp;&nbsp;</span>Plotting CI</a></span></li><li><span><a href=\"#Export-final-CO2-signals\" data-toc-modified-id=\"Export-final-CO2-signals-13\"><span class=\"toc-item-num\">13&nbsp;&nbsp;</span>Export final CO2 signals</a></span></li></ul></div>"
   ]
  },
  {
   "cell_type": "markdown",
   "metadata": {},
   "source": [
    "# Introduction"
   ]
  },
  {
   "cell_type": "markdown",
   "metadata": {},
   "source": [
    "This notebook uses the calculated EFs to design an hourly CO2 emission signal for EU countries."
   ]
  },
  {
   "cell_type": "markdown",
   "metadata": {},
   "source": [
    "# Script setup"
   ]
  },
  {
   "cell_type": "code",
   "execution_count": 1,
   "metadata": {},
   "outputs": [],
   "source": [
    "import os\n",
    "import logging\n",
    "\n",
    "import pandas as pd\n",
    "import seaborn as sns\n",
    "import matplotlib.pyplot as plt\n",
    "from matplotlib.dates import DateFormatter\n",
    "from IPython.display import Image \n",
    "import datetime\n",
    "from matplotlib.lines import Line2D\n",
    "\n",
    "#GEO\n",
    "import geopandas as gpd\n",
    "#from pyproj import CRS\n",
    "#from pyproj import Transformer\n",
    "#from shapely.geometry import Point\n",
    "\n",
    "%matplotlib inline\n",
    "plt.style.use('seaborn')\n",
    "plt.rcParams['figure.figsize'] = [15, 10]\n",
    "sns.set_theme()\n",
    "\n",
    "#helpers\n",
    "from helpers import change_ENTSOE_ProductionTypeName"
   ]
  },
  {
   "cell_type": "markdown",
   "metadata": {},
   "source": [
    "# Data directory preparention"
   ]
  },
  {
   "cell_type": "markdown",
   "metadata": {},
   "source": [
    "Create input, processed and output folders if they don't exist\n",
    "If the paths are relative, the corresponding folders will be created inside the current working directory.\n",
    "- input -> all needed input data\n",
    "- processed -> save point and exchange with other scripts\n",
    "- output -> final emission factors"
   ]
  },
  {
   "cell_type": "code",
   "execution_count": 2,
   "metadata": {},
   "outputs": [],
   "source": [
    "input_directory_path = os.path.join('input')\n",
    "processed_directory_path = 'processed'\n",
    "output_directory_path = os.path.join('output')\n",
    "\n",
    "os.makedirs(input_directory_path, exist_ok=True)\n",
    "os.makedirs(processed_directory_path, exist_ok=True)\n",
    "os.makedirs(output_directory_path, exist_ok=True)"
   ]
  },
  {
   "cell_type": "markdown",
   "metadata": {},
   "source": [
    "# Data file preperation"
   ]
  },
  {
   "cell_type": "markdown",
   "metadata": {},
   "source": [
    "## `input` directory (all general raw data files)\n",
    "\n",
    "- 1) ENTSO-E production per type\n",
    "Production per type from ENTSO-E\n",
    "Original data: ENTSO-E Transparency Platform, Actual Generation per Production Type Available online: \n",
    "https://transparency.entsoe.eu/generation/r2/actualGenerationPerProductionType/show\n",
    "Processed with the following script that converts the data to hourly resolution (private script from INATECH):\n",
    "\n",
    "\n",
    " File - > time_series_60min_multiindex.csv - > generation per technology\n",
    " \n",
    "- 2) ENTSO-E production per unit\n",
    "Production per Unit from ENTSO-E\n",
    "Original data: ENTSO-E Transparency Platform, Actual Generation per Generation Unit Available online: https://transparency.entsoe.eu/generation/r2/actualGenerationPerGenerationUnit/show (accessed on Apr 29, 2020).\n",
    "Processed with the following script that converts the data to hourly resolution (private script from INATECH):\n",
    "https://github.com/INATECH-CIG/entso-e_GenerationOutputPerUnit\n",
    "\n",
    "File - > gen_data.csv -> hourly generation data per unit"
   ]
  },
  {
   "cell_type": "code",
   "execution_count": 3,
   "metadata": {},
   "outputs": [
    {
     "name": "stdout",
     "output_type": "stream",
     "text": [
      "['input\\\\Bootom_up_methode', 'input\\\\CO2_Signal', 'input\\\\ember_EF.csv', 'input\\\\entso.csv', 'input\\\\entsoe-statistical-factsheet-2018-stacked.csv', 'input\\\\entso_scaled.csv', 'input\\\\gen_data_2015.csv', 'input\\\\gen_data_2016.csv', 'input\\\\gen_data_2017.csv', 'input\\\\gen_data_2018.csv', 'input\\\\Matching', 'input\\\\MDV_table.csv', 'input\\\\time_series_60min_multiindex.csv', 'input\\\\top_down_methode', 'input\\\\unit_data_2015.csv', 'input\\\\unit_data_2016.csv', 'input\\\\unit_data_2017.csv', 'input\\\\unit_data_2018.csv']\n"
     ]
    }
   ],
   "source": [
    "# Checks if the the input directories are empty or not\n",
    "# Checks all filenames in the input directory\n",
    "\n",
    "if not os.listdir(input_directory_path) :\n",
    "    print(\"The directory for the bootom up method is empty. Please provide the data to the directory as described in the instructions above.\")\n",
    "\n",
    "\n",
    "filenames = [os.path.join(input_directory_path, fn) for fn in os.listdir(input_directory_path)]\n",
    "\n",
    "print(filenames)"
   ]
  },
  {
   "cell_type": "markdown",
   "metadata": {},
   "source": [
    "## `processed` directory (all data files produced in this repository)\n",
    "\n",
    "- 1) EF per type and county\n",
    "\n",
    "File - > EF_bottom_up_methode.csv\n",
    "\n",
    "- 2) EF per unit\n",
    "\n",
    "File -> generation_unit_EF_bottom_up_methode.csv"
   ]
  },
  {
   "cell_type": "code",
   "execution_count": 4,
   "metadata": {},
   "outputs": [
    {
     "name": "stdout",
     "output_type": "stream",
     "text": [
      "['processed\\\\CI_bottom_up_methode.csv', 'processed\\\\CI_top_down_methode.csv', 'processed\\\\EF_bottom_up_methode.csv', 'processed\\\\generation_unit_EF_bottom_up_methode.csv', 'processed\\\\Matching_Entso_EUTL_EU.csv', 'processed\\\\_CO2_intensity_by_technology.png']\n"
     ]
    }
   ],
   "source": [
    "# Checks if the the input directories are empty or not\n",
    "# Checks all filenames in the input directory\n",
    "\n",
    "if not os.listdir(processed_directory_path) :\n",
    "    print(\"The directory for the CO2 Signal is empty. Please provide the data to the directory as described in the instructions above.\")\n",
    "\n",
    "\n",
    "filenames = [os.path.join(processed_directory_path, fn) for fn in os.listdir(processed_directory_path)]\n",
    "\n",
    "print(filenames)"
   ]
  },
  {
   "cell_type": "markdown",
   "metadata": {},
   "source": [
    "# Load data functions"
   ]
  },
  {
   "cell_type": "code",
   "execution_count": 5,
   "metadata": {},
   "outputs": [],
   "source": [
    "def load_generation_per_unit(path, fn):\n",
    "    \"\"\"\n",
    "    Load the ENTSO-E gernation per unit data.\n",
    "        \n",
    "    Parameters\n",
    "    ----------\n",
    "    path: str\n",
    "        path to data\n",
    "    fn : str\n",
    "        filename\n",
    "        \n",
    "    \"\"\"\n",
    "    \n",
    "    generation = pd.read_csv(os.path.join(path, fn),sep = ',',index_col=0,parse_dates=True)\n",
    "    \n",
    "    return generation\n",
    "\n",
    "def load_unit_CO2_data(path, fn):\n",
    "    \"\"\"\n",
    "    Own generation unit information with CO2 information per unit\n",
    "        \n",
    "    Parameters\n",
    "    ----------\n",
    "    path: str\n",
    "        path to data\n",
    "    fn : str\n",
    "        filename\n",
    "        \n",
    "    \"\"\"\n",
    "    \n",
    "    df = pd.read_csv(os.path.join(path, fn),sep = ',',index_col=0)\n",
    "    \n",
    "    # set name for the index\n",
    "    #df.index.set_names('eic_g', inplace=True)\n",
    "\n",
    "    return df\n",
    "\n",
    "def load_EF(path, fn):\n",
    "    \"\"\"\n",
    "    Own generation EF per tech and country\n",
    "        \n",
    "    Parameters\n",
    "    ----------\n",
    "    path: str\n",
    "        path to data\n",
    "    fn : str\n",
    "        filename\n",
    "        \n",
    "    \"\"\"\n",
    "    \n",
    "    df = pd.read_csv(os.path.join(path, fn),sep = ',',index_col=[0,1])\n",
    "    \n",
    "    return df\n",
    "\n",
    "def load_timeseries_ENTSOE(path, fn):\n",
    "    \"\"\"\n",
    "    Read generation data from time-series package own modification.\n",
    "\n",
    "\n",
    "    Parameters\n",
    "    ----------\n",
    "    path : TYPE\n",
    "        DESCRIPTION.\n",
    "    fn : TYPE\n",
    "        DESCRIPTION.\n",
    "\n",
    "    Returns\n",
    "    -------\n",
    "    generation : TYPE\n",
    "        DESCRIPTION.\n",
    "\n",
    "    \"\"\"\n",
    "   \n",
    "    generation = (pd.read_csv(os.path.join(path, fn), index_col=[0], header=[0, 1], parse_dates=True)\n",
    "                    .dropna(how=\"all\", axis=0))\n",
    "       \n",
    "    \n",
    "    return generation"
   ]
  },
  {
   "cell_type": "markdown",
   "metadata": {},
   "source": [
    "# Load data sets"
   ]
  },
  {
   "cell_type": "markdown",
   "metadata": {},
   "source": [
    "#### Load power plant generation data"
   ]
  },
  {
   "cell_type": "code",
   "execution_count": 6,
   "metadata": {},
   "outputs": [],
   "source": [
    "generation_per_unit = load_generation_per_unit(input_directory_path, 'gen_data_2018.csv')"
   ]
  },
  {
   "cell_type": "markdown",
   "metadata": {},
   "source": [
    "#### Load power plant emission info data"
   ]
  },
  {
   "cell_type": "code",
   "execution_count": 7,
   "metadata": {},
   "outputs": [],
   "source": [
    "generation_unit_info = load_unit_CO2_data(processed_directory_path, 'generation_unit_EF_bottom_up_methode.csv')"
   ]
  },
  {
   "cell_type": "markdown",
   "metadata": {},
   "source": [
    "#### Load ENTSO-E generation per type"
   ]
  },
  {
   "cell_type": "code",
   "execution_count": 8,
   "metadata": {},
   "outputs": [],
   "source": [
    "entsoe_gen_type = load_timeseries_ENTSOE(input_directory_path, 'entso_scaled.csv')"
   ]
  },
  {
   "cell_type": "markdown",
   "metadata": {},
   "source": [
    "#### Load EF per technology"
   ]
  },
  {
   "cell_type": "code",
   "execution_count": 9,
   "metadata": {},
   "outputs": [],
   "source": [
    "EF = load_EF(processed_directory_path, 'EF_bottom_up_methode.csv')"
   ]
  },
  {
   "cell_type": "code",
   "execution_count": 10,
   "metadata": {},
   "outputs": [
    {
     "data": {
      "text/html": [
       "<div>\n",
       "<style scoped>\n",
       "    .dataframe tbody tr th:only-of-type {\n",
       "        vertical-align: middle;\n",
       "    }\n",
       "\n",
       "    .dataframe tbody tr th {\n",
       "        vertical-align: top;\n",
       "    }\n",
       "\n",
       "    .dataframe thead th {\n",
       "        text-align: right;\n",
       "    }\n",
       "</style>\n",
       "<table border=\"1\" class=\"dataframe\">\n",
       "  <thead>\n",
       "    <tr style=\"text-align: right;\">\n",
       "      <th></th>\n",
       "      <th></th>\n",
       "      <th>EF</th>\n",
       "      <th>Verified_EF</th>\n",
       "    </tr>\n",
       "    <tr>\n",
       "      <th>MapCode</th>\n",
       "      <th>ProductionTypeName</th>\n",
       "      <th></th>\n",
       "      <th></th>\n",
       "    </tr>\n",
       "  </thead>\n",
       "  <tbody>\n",
       "    <tr>\n",
       "      <th rowspan=\"2\" valign=\"top\">AT</th>\n",
       "      <th>gas</th>\n",
       "      <td>0.36</td>\n",
       "      <td>True</td>\n",
       "    </tr>\n",
       "    <tr>\n",
       "      <th>hard_coal</th>\n",
       "      <td>1.07</td>\n",
       "      <td>True</td>\n",
       "    </tr>\n",
       "    <tr>\n",
       "      <th>BE</th>\n",
       "      <th>gas</th>\n",
       "      <td>0.39</td>\n",
       "      <td>True</td>\n",
       "    </tr>\n",
       "    <tr>\n",
       "      <th rowspan=\"2\" valign=\"top\">CZ</th>\n",
       "      <th>hard_coal</th>\n",
       "      <td>1.01</td>\n",
       "      <td>True</td>\n",
       "    </tr>\n",
       "    <tr>\n",
       "      <th>lignite</th>\n",
       "      <td>0.93</td>\n",
       "      <td>True</td>\n",
       "    </tr>\n",
       "    <tr>\n",
       "      <th rowspan=\"4\" valign=\"top\">DE</th>\n",
       "      <th>gas</th>\n",
       "      <td>0.43</td>\n",
       "      <td>True</td>\n",
       "    </tr>\n",
       "    <tr>\n",
       "      <th>hard_coal</th>\n",
       "      <td>0.91</td>\n",
       "      <td>True</td>\n",
       "    </tr>\n",
       "    <tr>\n",
       "      <th>lignite</th>\n",
       "      <td>1.14</td>\n",
       "      <td>True</td>\n",
       "    </tr>\n",
       "    <tr>\n",
       "      <th>other_fossil</th>\n",
       "      <td>1.40</td>\n",
       "      <td>True</td>\n",
       "    </tr>\n",
       "    <tr>\n",
       "      <th>DK</th>\n",
       "      <th>gas</th>\n",
       "      <td>0.46</td>\n",
       "      <td>False</td>\n",
       "    </tr>\n",
       "  </tbody>\n",
       "</table>\n",
       "</div>"
      ],
      "text/plain": [
       "                              EF Verified_EF\n",
       "MapCode ProductionTypeName                  \n",
       "AT      gas                 0.36        True\n",
       "        hard_coal           1.07        True\n",
       "BE      gas                 0.39        True\n",
       "CZ      hard_coal           1.01        True\n",
       "        lignite             0.93        True\n",
       "DE      gas                 0.43        True\n",
       "        hard_coal           0.91        True\n",
       "        lignite             1.14        True\n",
       "        other_fossil        1.40        True\n",
       "DK      gas                 0.46       False"
      ]
     },
     "execution_count": 10,
     "metadata": {},
     "output_type": "execute_result"
    }
   ],
   "source": [
    "EF.head(10)"
   ]
  },
  {
   "cell_type": "markdown",
   "metadata": {},
   "source": [
    "#### Filter generation set to generation info data"
   ]
  },
  {
   "cell_type": "code",
   "execution_count": 11,
   "metadata": {},
   "outputs": [],
   "source": [
    "generation_per_unit = generation_per_unit[generation_unit_info.index]"
   ]
  },
  {
   "cell_type": "markdown",
   "metadata": {},
   "source": [
    "# Power plant CO2 Signals"
   ]
  },
  {
   "cell_type": "markdown",
   "metadata": {},
   "source": [
    "In this section we build CO2 signal out of the used per power plant generation data. We limit the used generation to the generation units where we where able to calculated EFs."
   ]
  },
  {
   "cell_type": "code",
   "execution_count": null,
   "metadata": {},
   "outputs": [],
   "source": [
    "generation_per_unit = generation_per_unit[generation_unit_info.index]"
   ]
  },
  {
   "cell_type": "code",
   "execution_count": null,
   "metadata": {},
   "outputs": [],
   "source": [
    "generation_per_unit.head(5)"
   ]
  },
  {
   "cell_type": "code",
   "execution_count": null,
   "metadata": {},
   "outputs": [],
   "source": [
    "generation_unit_info.head(5)"
   ]
  },
  {
   "cell_type": "markdown",
   "metadata": {},
   "source": [
    "## Plant Level"
   ]
  },
  {
   "cell_type": "code",
   "execution_count": null,
   "metadata": {},
   "outputs": [],
   "source": [
    "CO2_emission_per_unit_EF = generation_per_unit.multiply((generation_unit_info.PP_EF2018), axis='columns')"
   ]
  },
  {
   "cell_type": "code",
   "execution_count": null,
   "metadata": {},
   "outputs": [],
   "source": [
    "CO2_emission_per_unit_EF.dropna(axis=1, inplace=True)"
   ]
  },
  {
   "cell_type": "code",
   "execution_count": null,
   "metadata": {},
   "outputs": [],
   "source": [
    "CO2_emission_per_unit_EF.sum(axis=1).describe()"
   ]
  },
  {
   "cell_type": "markdown",
   "metadata": {},
   "source": [
    "## Technology Level"
   ]
  },
  {
   "cell_type": "code",
   "execution_count": null,
   "metadata": {},
   "outputs": [],
   "source": [
    "CO2_emission_per_tech_EF = generation_per_unit.multiply((generation_unit_info.Tech_EF), axis='columns')"
   ]
  },
  {
   "cell_type": "code",
   "execution_count": null,
   "metadata": {},
   "outputs": [],
   "source": [
    "CO2_emission_per_tech_EF.dropna(axis=1, inplace=True)"
   ]
  },
  {
   "cell_type": "code",
   "execution_count": null,
   "metadata": {},
   "outputs": [],
   "source": [
    "CO2_emission_per_tech_EF.sum(axis=1).describe()"
   ]
  },
  {
   "cell_type": "markdown",
   "metadata": {},
   "source": [
    "## Country level"
   ]
  },
  {
   "cell_type": "code",
   "execution_count": null,
   "metadata": {},
   "outputs": [],
   "source": [
    "CO2_emission_per_country_EF = generation_per_unit.multiply((generation_unit_info.Country_EF), axis='columns')"
   ]
  },
  {
   "cell_type": "code",
   "execution_count": null,
   "metadata": {},
   "outputs": [],
   "source": [
    "CO2_emission_per_country_EF.dropna(axis=1, inplace=True)"
   ]
  },
  {
   "cell_type": "code",
   "execution_count": null,
   "metadata": {},
   "outputs": [],
   "source": [
    "CO2_emission_per_country_EF.sum(axis=1).describe()"
   ]
  },
  {
   "cell_type": "markdown",
   "metadata": {},
   "source": [
    "## Signal analysis "
   ]
  },
  {
   "cell_type": "markdown",
   "metadata": {},
   "source": [
    "#### Scatter Plot"
   ]
  },
  {
   "cell_type": "code",
   "execution_count": null,
   "metadata": {},
   "outputs": [],
   "source": [
    "Carbon_intensitiy = pd.DataFrame()\n",
    "Carbon_intensitiy['unit_EF'] = ((CO2_emission_per_unit_EF * 1000000).sum(axis=1) / (generation_per_unit * 1000).sum(axis=1))\n",
    "Carbon_intensitiy['tech_EF'] = ((CO2_emission_per_tech_EF * 1000000).sum(axis=1) / (generation_per_unit * 1000).sum(axis=1))\n",
    "Carbon_intensitiy['country_EF'] = ((CO2_emission_per_country_EF * 1000000).sum(axis=1) / (generation_per_unit * 1000).sum(axis=1))\n",
    "Carbon_intensitiy['diff_norm'] = (Carbon_intensitiy['unit_EF'] - Carbon_intensitiy['tech_EF']) / Carbon_intensitiy['tech_EF']"
   ]
  },
  {
   "cell_type": "code",
   "execution_count": null,
   "metadata": {},
   "outputs": [],
   "source": [
    "diff_norm = (Carbon_intensitiy['unit_EF'] - Carbon_intensitiy['tech_EF']) / Carbon_intensitiy['tech_EF']\n"
   ]
  },
  {
   "cell_type": "code",
   "execution_count": null,
   "metadata": {},
   "outputs": [],
   "source": [
    "diff_norm\n",
    "\n",
    "fig,ax = plt.subplots(1,1)\n",
    "    \n",
    "fig.set_size_inches(12,6)\n",
    "\n",
    "\n",
    "Carbon_intensitiy.plot(kind='scatter', x=\"tech_EF\", y=\"diff_norm\", ax=ax, alpha=0.6, color='b', s=3)\n",
    "\n",
    "#Carbon_intensitiy.plot(kind='scatter', x=\"unit_EF\", y=\"tech_EF\", ax=ax, alpha=0.6, color='r', s=3)\n",
    "\n",
    "#Carbon_intensitiy.plot(kind='scatter', x=\"unit_EF\", y=\"unit_EF\", ax=ax, alpha=0.6, color='g', s=3)\n",
    "\n",
    "\n",
    "\n",
    "ax.set_ylabel(\"Abweichung in %\")\n",
    "ax.set_xlabel(\"g CO2 Emissions / kWh \")\n",
    "\n",
    "ax.legend(['Country EF', 'Technology EF', 'Powerplant EF'] ,loc='lower right', bbox_to_anchor=(1.0, 0.2))"
   ]
  },
  {
   "cell_type": "code",
   "execution_count": null,
   "metadata": {},
   "outputs": [],
   "source": [
    "fig,ax = plt.subplots(1,1)\n",
    "    \n",
    "fig.set_size_inches(12,6)\n",
    "\n",
    "\n",
    "Carbon_intensitiy.plot(kind='scatter', x=\"unit_EF\", y=\"country_EF\", ax=ax, alpha=0.6, color='b', s=3)\n",
    "\n",
    "Carbon_intensitiy.plot(kind='scatter', x=\"unit_EF\", y=\"tech_EF\", ax=ax, alpha=0.6, color='r', s=3)\n",
    "\n",
    "Carbon_intensitiy.plot(kind='scatter', x=\"unit_EF\", y=\"unit_EF\", ax=ax, alpha=0.6, color='g', s=3)\n",
    "\n",
    "\n",
    "\n",
    "ax.set_ylabel(\"g CO2 Emissions / kWh \")\n",
    "ax.set_xlabel(\"g CO2 Emissions / kWh \")\n",
    "\n",
    "ax.legend(['Country EF', 'Technology EF', 'Powerplant EF'] ,loc='lower right', bbox_to_anchor=(1.0, 0.2))"
   ]
  },
  {
   "cell_type": "code",
   "execution_count": null,
   "metadata": {},
   "outputs": [],
   "source": []
  },
  {
   "cell_type": "code",
   "execution_count": null,
   "metadata": {},
   "outputs": [],
   "source": [
    "Carbon_intensitiy_per_country_unit_EF = ((CO2_emission_per_unit_EF * 1000000).groupby(generation_unit_info.MapCode, axis=1).sum()) / (generation_per_unit * 1000).groupby(generation_unit_info.MapCode, axis=1).sum()\n",
    "Carbon_intensitiy_per_country_tech_EF = (CO2_emission_per_tech_EF * 1000000).groupby(generation_unit_info.MapCode, axis=1).sum() / (generation_per_unit * 1000).groupby(generation_unit_info.MapCode, axis=1).sum()\n",
    "Carbon_intensitiy_per_country_country_EF = (CO2_emission_per_country_EF * 1000000).groupby(generation_unit_info.MapCode, axis=1).sum() / (generation_per_unit * 1000).groupby(generation_unit_info.MapCode, axis=1).sum()"
   ]
  },
  {
   "cell_type": "code",
   "execution_count": null,
   "metadata": {},
   "outputs": [],
   "source": [
    "n_graphs = len(Carbon_intensitiy_per_country_unit_EF.columns)\n",
    "n_cols = 5\n",
    "    \n",
    "if n_graphs % n_cols == 0:\n",
    "    n_rows = n_graphs // n_cols\n",
    "else:\n",
    "    n_rows = n_graphs // n_cols + 1\n",
    "    \n",
    "    \n",
    "fig, axes = plt.subplots(nrows=n_rows, ncols=n_cols)\n",
    "\n",
    "fig.delaxes(axes[3][4])\n",
    "\n",
    "size = 2.5\n",
    "\n",
    "fig.set_size_inches(size*n_cols,size*n_rows)\n",
    "    \n",
    "    \n",
    "for i, country in enumerate(Carbon_intensitiy_per_country_unit_EF.columns):\n",
    "    i_row = i // n_cols\n",
    "    i_col = i % n_cols\n",
    "        \n",
    "    ax = axes[i_row,i_col]\n",
    "    \n",
    "    ax.set(aspect='equal')\n",
    "    \n",
    "    sns.scatterplot(x=Carbon_intensitiy_per_country_unit_EF.loc[:,country], y=Carbon_intensitiy_per_country_country_EF.loc[:,country], s=10, ax=ax)\n",
    "    sns.scatterplot(x=Carbon_intensitiy_per_country_unit_EF.loc[:,country], y=Carbon_intensitiy_per_country_tech_EF.loc[:,country], s=10, ax=ax)\n",
    "    sns.scatterplot(x=Carbon_intensitiy_per_country_unit_EF.loc[:,country], y=Carbon_intensitiy_per_country_unit_EF.loc[:,country], s=10, ax=ax)\n",
    "    \n",
    "        #max_lim = (max(entso_DE.loc[:,tech].max(),generation_DE.loc[:,tech].max())//1000)*1000+1000\n",
    "        #if max_lim < 0:\n",
    "        #    max_lim = 0\n",
    "        \n",
    "        #min_lim = (min(entso_DE.loc[:,tech].min(),generation_DE.loc[:,tech].min())//1000)*1000-1000\n",
    "        #if min_lim < 0:\n",
    "        #    min_lim = 0\n",
    "    \n",
    "    ax.set_title(country)\n",
    "        #ax.set_xlim(min_lim,max_lim)\n",
    "        #ax.set_ylim(min_lim,max_lim)\n",
    "        \n",
    "    ax.set_xlabel(\"g CO2 Emissions / kWh \")\n",
    "    ax.set_ylabel(\"g CO2 Emissions / kWh \")\n",
    "    \n",
    "    fig.tight_layout()\n",
    "    \n",
    "ax.legend(['Country EF', 'Technology EF', 'Powerplant EF'] ,loc='lower right', bbox_to_anchor=(2.8, 0.5))"
   ]
  },
  {
   "cell_type": "markdown",
   "metadata": {},
   "source": [
    "#### EF distribution"
   ]
  },
  {
   "cell_type": "code",
   "execution_count": null,
   "metadata": {},
   "outputs": [],
   "source": [
    "# per unit EF\n",
    "fig,ax = plt.subplots(1,1)\n",
    "    \n",
    "fig.set_size_inches(16,6)\n",
    "ax = sns.violinplot(data=Carbon_intensitiy_per_country_unit_EF[['AT', 'DE', 'DK', 'ES', 'FI', 'FR', 'GB', 'GR', 'HU', 'IE',\n",
    "       'IT', 'NL', 'SK']])#,'BE']])\n",
    "\n",
    "ax.set_ylabel(\"g CO2/kWh\")\n",
    "ax.set_xlabel(\"Country\")"
   ]
  },
  {
   "cell_type": "code",
   "execution_count": null,
   "metadata": {},
   "outputs": [],
   "source": [
    "# per tech ef\n",
    "fig,ax = plt.subplots(1,1)\n",
    "    \n",
    "fig.set_size_inches(12,6)\n",
    "\n",
    "ax = sns.violinplot(data=Carbon_intensitiy_per_country_tech_EF[['AT', 'DE', 'DK', 'ES', 'FI', 'FR', 'GB', 'GR', 'HU', 'IE',\n",
    "       'IT', 'NL', 'SK']])#,'BE']])\n",
    "\n",
    "ax.set_ylabel(\"g CO2/kWh\")\n",
    "ax.set_xlabel(\"Country\")"
   ]
  },
  {
   "cell_type": "code",
   "execution_count": null,
   "metadata": {},
   "outputs": [],
   "source": [
    "# per country EF\n",
    "fig,ax = plt.subplots(1,1)\n",
    "    \n",
    "fig.set_size_inches(12,6)\n",
    "\n",
    "ax = sns.violinplot(data=Carbon_intensitiy_per_country_country_EF[['AT', 'DE', 'DK', 'ES', 'FI', 'FR', 'GB', 'GR', 'HU', 'IE',\n",
    "       'IT', 'NL', 'SK']])#,'BE']])\n",
    "\n",
    "ax.set_ylabel(\"g CO2/kWh\")\n",
    "ax.set_xlabel(\"Country\")"
   ]
  },
  {
   "cell_type": "markdown",
   "metadata": {},
   "source": [
    "## CO2 Signal Example"
   ]
  },
  {
   "cell_type": "markdown",
   "metadata": {},
   "source": [
    "The following plot shows an example of the three generated CO2 Signals"
   ]
  },
  {
   "cell_type": "code",
   "execution_count": null,
   "metadata": {},
   "outputs": [],
   "source": [
    "def plot_production_profile(generation, CO2_emission_per_unit_EF, CO2_emission_per_tech_EF, CO2_emission_per_country_EF, generators, countries, start, end):\n",
    "    \n",
    "    # load and filter data\n",
    "    generators = generators[generators.MapCode == countries]\n",
    "    generation = generation[generators.index]\n",
    "    CO2_emission_per_unit_EF = CO2_emission_per_unit_EF[generators.index]\n",
    "    CO2_emission_per_tech_EF = CO2_emission_per_tech_EF[generators.index]\n",
    "    CO2_emission_per_country_EF = CO2_emission_per_country_EF[generators.index]\n",
    "    \n",
    "    # sum technologies\n",
    "    generation_car =  generation.groupby(generators.ProductionTypeName, axis=1).sum()\n",
    "    \n",
    "    # sum Emissions\n",
    "    CO2_emission_per_unit_EF = CO2_emission_per_unit_EF.sum(axis=1)\n",
    "    CO2_emission_per_tech_EF = CO2_emission_per_tech_EF.sum(axis=1)\n",
    "    CO2_emission_per_country_EF = CO2_emission_per_country_EF.sum(axis=1)\n",
    "    \n",
    "    # Carbon intensity\n",
    "    Carbon_intensitiy_unit_EF = (CO2_emission_per_unit_EF * 1000000) / ((generation_car * 1000).sum(axis=1))\n",
    "    Carbon_intensitiy_tech_EF = (CO2_emission_per_tech_EF * 1000000) / ((generation_car * 1000).sum(axis=1))\n",
    "    Carbon_intensitiy_country_EF = (CO2_emission_per_country_EF * 1000000) / ((generation_car * 1000).sum(axis=1))\n",
    "    \n",
    "    #plotting\n",
    "    import seaborn as sns\n",
    "\n",
    "    sns.set(style=\"whitegrid\")\n",
    "\n",
    "    colors = {'gas': '#b20101',\n",
    "              'biomass': '#0c6013',\n",
    "              'hard_coal': '#707070',\n",
    "              'geothermal': '#ba91b1',\n",
    "              'lignite': '#9e5a01',\n",
    "              'nuclear': '#ff9000',\n",
    "              'oil': '#262626',\n",
    "              'other_fossil': '#d35050',\n",
    "              'waste': '#68896b',\n",
    "              'onwind': '#235ebc',\n",
    "              'offwind': '#6895dd',\n",
    "              'solar': '#f9d002',\n",
    "              'PHS': '#08ad97',\n",
    "              'hydro': '#08ad97',\n",
    "              'ror': '#4adbc8',\n",
    "              'load': '#ea048a'}\n",
    "\n",
    "    generation_car = generation_car.loc[start:end]\n",
    "    Carbon_intensitiy_unit_EF = Carbon_intensitiy_unit_EF.loc[start:end]\n",
    "    Carbon_intensitiy_tech_EF = Carbon_intensitiy_tech_EF.loc[start:end]\n",
    "    Carbon_intensitiy_country_EF = Carbon_intensitiy_country_EF.loc[start:end]\n",
    "\n",
    "\n",
    "    #order of col\n",
    "    #cols = ['lignite', 'hard_coal',  'gas']#, 'other_fossil']\n",
    "\n",
    "    #p_by_carrier = p_by_carrier[cols]\n",
    "\n",
    "\n",
    "\n",
    "    fig,ax = plt.subplots(1,1)\n",
    "\n",
    "    fig.set_size_inches(12,6)\n",
    "\n",
    "    generation_car.plot(kind=\"area\",\n",
    "                        ax=ax,\n",
    "                        linewidth=0,\n",
    "                        color=[colors[col] for col in generation_car.columns],\n",
    "                        alpha=0.7)\n",
    "\n",
    "\n",
    "\n",
    "    ax.set_ylabel(\"Production [MW]\")\n",
    "    ax.set_xlabel(\"Date\")\n",
    "    ax.legend(loc='upper right', bbox_to_anchor=(1.0, 0.5))\n",
    "\n",
    "    #ax3 = ax.twinx()\n",
    "    Carbon_intensitiy_unit_EF.plot(ax=ax, secondary_y=True, legend=False)\n",
    "\n",
    "\n",
    "    Carbon_intensitiy_tech_EF.plot(ax=ax, secondary_y=True, legend=False)\n",
    "\n",
    "    Carbon_intensitiy_country_EF.plot(ax=ax, secondary_y=True, legend=False)\n",
    "\n",
    "    ax.right_ax.set_ylabel(\"Emission intensity [g CO2 / kWh]\")\n",
    "\n",
    "    #ax.set_xlim(0,snapLength-1)\n",
    "    #ax.set_ylim(0,150000)\n",
    "    #ax.right_ax.set_ylim(0,0.1)\n",
    "    plt.tight_layout()\n",
    "    \n",
    "    return"
   ]
  },
  {
   "cell_type": "code",
   "execution_count": null,
   "metadata": {},
   "outputs": [],
   "source": [
    "start = datetime.date(2018, 12, 4)\n",
    "end = datetime.date(2018, 12, 24)\n",
    "\n",
    "#Carbon_intensitiy_per_country_unit_EF\n",
    "#Carbon_intensitiy_per_country_tech_EF\n",
    "#Carbon_intensitiy_per_country_country_EF\n",
    "\n",
    "plot_production_profile(generation_per_unit, CO2_emission_per_unit_EF, CO2_emission_per_tech_EF, CO2_emission_per_country_EF, generation_unit_info, 'DE', start, end)\n"
   ]
  },
  {
   "cell_type": "markdown",
   "metadata": {},
   "source": [
    "# ENTSO-E generation per technology CO2 Signal"
   ]
  },
  {
   "cell_type": "markdown",
   "metadata": {},
   "source": [
    "In this section we using the country specific EF for generating an CO2 emission signal for all EU countries. The production data are based on the production per type data from ENTSO-E"
   ]
  },
  {
   "cell_type": "code",
   "execution_count": 12,
   "metadata": {},
   "outputs": [
    {
     "data": {
      "text/html": [
       "<div>\n",
       "<style scoped>\n",
       "    .dataframe tbody tr th:only-of-type {\n",
       "        vertical-align: middle;\n",
       "    }\n",
       "\n",
       "    .dataframe tbody tr th {\n",
       "        vertical-align: top;\n",
       "    }\n",
       "\n",
       "    .dataframe thead tr th {\n",
       "        text-align: left;\n",
       "    }\n",
       "\n",
       "    .dataframe thead tr:last-of-type th {\n",
       "        text-align: right;\n",
       "    }\n",
       "</style>\n",
       "<table border=\"1\" class=\"dataframe\">\n",
       "  <thead>\n",
       "    <tr>\n",
       "      <th>region</th>\n",
       "      <th colspan=\"8\" halign=\"left\">AT</th>\n",
       "      <th colspan=\"2\" halign=\"left\">BE</th>\n",
       "      <th>...</th>\n",
       "      <th>SI</th>\n",
       "      <th colspan=\"9\" halign=\"left\">SK</th>\n",
       "    </tr>\n",
       "    <tr>\n",
       "      <th>variable</th>\n",
       "      <th>biomass</th>\n",
       "      <th>gas</th>\n",
       "      <th>hard_coal</th>\n",
       "      <th>hydro</th>\n",
       "      <th>other_fossil</th>\n",
       "      <th>other_renewable</th>\n",
       "      <th>solar</th>\n",
       "      <th>wind_onshore</th>\n",
       "      <th>biomass</th>\n",
       "      <th>gas</th>\n",
       "      <th>...</th>\n",
       "      <th>wind_onshore</th>\n",
       "      <th>biomass</th>\n",
       "      <th>gas</th>\n",
       "      <th>hard_coal</th>\n",
       "      <th>hydro</th>\n",
       "      <th>lignite</th>\n",
       "      <th>nuclear</th>\n",
       "      <th>other_fossil</th>\n",
       "      <th>other_renewable</th>\n",
       "      <th>solar</th>\n",
       "    </tr>\n",
       "    <tr>\n",
       "      <th>utc_timestamp</th>\n",
       "      <th></th>\n",
       "      <th></th>\n",
       "      <th></th>\n",
       "      <th></th>\n",
       "      <th></th>\n",
       "      <th></th>\n",
       "      <th></th>\n",
       "      <th></th>\n",
       "      <th></th>\n",
       "      <th></th>\n",
       "      <th></th>\n",
       "      <th></th>\n",
       "      <th></th>\n",
       "      <th></th>\n",
       "      <th></th>\n",
       "      <th></th>\n",
       "      <th></th>\n",
       "      <th></th>\n",
       "      <th></th>\n",
       "      <th></th>\n",
       "      <th></th>\n",
       "    </tr>\n",
       "  </thead>\n",
       "  <tbody>\n",
       "    <tr>\n",
       "      <th>2018-01-01 00:00:00+00:00</th>\n",
       "      <td>0.0</td>\n",
       "      <td>85.185998</td>\n",
       "      <td>189.813350</td>\n",
       "      <td>3633.105979</td>\n",
       "      <td>376.712329</td>\n",
       "      <td>NaN</td>\n",
       "      <td>0.0</td>\n",
       "      <td>767.537636</td>\n",
       "      <td>310.564338</td>\n",
       "      <td>1486.203046</td>\n",
       "      <td>...</td>\n",
       "      <td>0.0</td>\n",
       "      <td>75.757569</td>\n",
       "      <td>223.815846</td>\n",
       "      <td>71.307423</td>\n",
       "      <td>490.635794</td>\n",
       "      <td>174.510973</td>\n",
       "      <td>1707.038703</td>\n",
       "      <td>127.939921</td>\n",
       "      <td>0.0</td>\n",
       "      <td>0.0</td>\n",
       "    </tr>\n",
       "    <tr>\n",
       "      <th>2018-01-01 01:00:00+00:00</th>\n",
       "      <td>0.0</td>\n",
       "      <td>83.986195</td>\n",
       "      <td>188.547928</td>\n",
       "      <td>3557.076855</td>\n",
       "      <td>376.712329</td>\n",
       "      <td>NaN</td>\n",
       "      <td>0.0</td>\n",
       "      <td>854.254629</td>\n",
       "      <td>205.181412</td>\n",
       "      <td>1551.580523</td>\n",
       "      <td>...</td>\n",
       "      <td>0.0</td>\n",
       "      <td>75.488926</td>\n",
       "      <td>220.374486</td>\n",
       "      <td>71.159174</td>\n",
       "      <td>497.114042</td>\n",
       "      <td>172.955443</td>\n",
       "      <td>1704.599138</td>\n",
       "      <td>127.138292</td>\n",
       "      <td>0.0</td>\n",
       "      <td>0.0</td>\n",
       "    </tr>\n",
       "    <tr>\n",
       "      <th>2018-01-01 02:00:00+00:00</th>\n",
       "      <td>0.0</td>\n",
       "      <td>82.786393</td>\n",
       "      <td>188.547928</td>\n",
       "      <td>3439.774779</td>\n",
       "      <td>376.712329</td>\n",
       "      <td>NaN</td>\n",
       "      <td>0.0</td>\n",
       "      <td>638.384669</td>\n",
       "      <td>178.621922</td>\n",
       "      <td>1538.055173</td>\n",
       "      <td>...</td>\n",
       "      <td>0.0</td>\n",
       "      <td>75.488926</td>\n",
       "      <td>206.609047</td>\n",
       "      <td>69.231947</td>\n",
       "      <td>552.469700</td>\n",
       "      <td>169.844384</td>\n",
       "      <td>1697.092784</td>\n",
       "      <td>125.454872</td>\n",
       "      <td>0.0</td>\n",
       "      <td>0.0</td>\n",
       "    </tr>\n",
       "    <tr>\n",
       "      <th>2018-01-01 03:00:00+00:00</th>\n",
       "      <td>0.0</td>\n",
       "      <td>86.385801</td>\n",
       "      <td>188.547928</td>\n",
       "      <td>3432.171866</td>\n",
       "      <td>376.712329</td>\n",
       "      <td>NaN</td>\n",
       "      <td>0.0</td>\n",
       "      <td>417.902102</td>\n",
       "      <td>175.522424</td>\n",
       "      <td>1501.492141</td>\n",
       "      <td>...</td>\n",
       "      <td>0.0</td>\n",
       "      <td>79.787227</td>\n",
       "      <td>178.823253</td>\n",
       "      <td>67.156471</td>\n",
       "      <td>632.576139</td>\n",
       "      <td>163.816707</td>\n",
       "      <td>1692.307483</td>\n",
       "      <td>121.740660</td>\n",
       "      <td>0.0</td>\n",
       "      <td>0.0</td>\n",
       "    </tr>\n",
       "    <tr>\n",
       "      <th>2018-01-01 04:00:00+00:00</th>\n",
       "      <td>0.0</td>\n",
       "      <td>89.985209</td>\n",
       "      <td>188.547928</td>\n",
       "      <td>3616.814024</td>\n",
       "      <td>376.712329</td>\n",
       "      <td>NaN</td>\n",
       "      <td>0.0</td>\n",
       "      <td>296.129304</td>\n",
       "      <td>175.362106</td>\n",
       "      <td>1515.711098</td>\n",
       "      <td>...</td>\n",
       "      <td>0.0</td>\n",
       "      <td>79.249940</td>\n",
       "      <td>182.901901</td>\n",
       "      <td>68.787202</td>\n",
       "      <td>605.737684</td>\n",
       "      <td>165.858340</td>\n",
       "      <td>1697.468101</td>\n",
       "      <td>123.317196</td>\n",
       "      <td>0.0</td>\n",
       "      <td>0.0</td>\n",
       "    </tr>\n",
       "  </tbody>\n",
       "</table>\n",
       "<p>5 rows × 200 columns</p>\n",
       "</div>"
      ],
      "text/plain": [
       "region                         AT                                      \\\n",
       "variable                  biomass        gas   hard_coal        hydro   \n",
       "utc_timestamp                                                           \n",
       "2018-01-01 00:00:00+00:00     0.0  85.185998  189.813350  3633.105979   \n",
       "2018-01-01 01:00:00+00:00     0.0  83.986195  188.547928  3557.076855   \n",
       "2018-01-01 02:00:00+00:00     0.0  82.786393  188.547928  3439.774779   \n",
       "2018-01-01 03:00:00+00:00     0.0  86.385801  188.547928  3432.171866   \n",
       "2018-01-01 04:00:00+00:00     0.0  89.985209  188.547928  3616.814024   \n",
       "\n",
       "region                                                                     \\\n",
       "variable                  other_fossil other_renewable solar wind_onshore   \n",
       "utc_timestamp                                                               \n",
       "2018-01-01 00:00:00+00:00   376.712329             NaN   0.0   767.537636   \n",
       "2018-01-01 01:00:00+00:00   376.712329             NaN   0.0   854.254629   \n",
       "2018-01-01 02:00:00+00:00   376.712329             NaN   0.0   638.384669   \n",
       "2018-01-01 03:00:00+00:00   376.712329             NaN   0.0   417.902102   \n",
       "2018-01-01 04:00:00+00:00   376.712329             NaN   0.0   296.129304   \n",
       "\n",
       "region                             BE               ...           SI  \\\n",
       "variable                      biomass          gas  ... wind_onshore   \n",
       "utc_timestamp                                       ...                \n",
       "2018-01-01 00:00:00+00:00  310.564338  1486.203046  ...          0.0   \n",
       "2018-01-01 01:00:00+00:00  205.181412  1551.580523  ...          0.0   \n",
       "2018-01-01 02:00:00+00:00  178.621922  1538.055173  ...          0.0   \n",
       "2018-01-01 03:00:00+00:00  175.522424  1501.492141  ...          0.0   \n",
       "2018-01-01 04:00:00+00:00  175.362106  1515.711098  ...          0.0   \n",
       "\n",
       "region                            SK                                     \\\n",
       "variable                     biomass         gas  hard_coal       hydro   \n",
       "utc_timestamp                                                             \n",
       "2018-01-01 00:00:00+00:00  75.757569  223.815846  71.307423  490.635794   \n",
       "2018-01-01 01:00:00+00:00  75.488926  220.374486  71.159174  497.114042   \n",
       "2018-01-01 02:00:00+00:00  75.488926  206.609047  69.231947  552.469700   \n",
       "2018-01-01 03:00:00+00:00  79.787227  178.823253  67.156471  632.576139   \n",
       "2018-01-01 04:00:00+00:00  79.249940  182.901901  68.787202  605.737684   \n",
       "\n",
       "region                                                           \\\n",
       "variable                      lignite      nuclear other_fossil   \n",
       "utc_timestamp                                                     \n",
       "2018-01-01 00:00:00+00:00  174.510973  1707.038703   127.939921   \n",
       "2018-01-01 01:00:00+00:00  172.955443  1704.599138   127.138292   \n",
       "2018-01-01 02:00:00+00:00  169.844384  1697.092784   125.454872   \n",
       "2018-01-01 03:00:00+00:00  163.816707  1692.307483   121.740660   \n",
       "2018-01-01 04:00:00+00:00  165.858340  1697.468101   123.317196   \n",
       "\n",
       "region                                           \n",
       "variable                  other_renewable solar  \n",
       "utc_timestamp                                    \n",
       "2018-01-01 00:00:00+00:00             0.0   0.0  \n",
       "2018-01-01 01:00:00+00:00             0.0   0.0  \n",
       "2018-01-01 02:00:00+00:00             0.0   0.0  \n",
       "2018-01-01 03:00:00+00:00             0.0   0.0  \n",
       "2018-01-01 04:00:00+00:00             0.0   0.0  \n",
       "\n",
       "[5 rows x 200 columns]"
      ]
     },
     "execution_count": 12,
     "metadata": {},
     "output_type": "execute_result"
    }
   ],
   "source": [
    "# take a look at the generation data\n",
    "entsoe_gen_type.head(5)"
   ]
  },
  {
   "cell_type": "markdown",
   "metadata": {},
   "source": [
    "## EF preparation "
   ]
  },
  {
   "cell_type": "code",
   "execution_count": 13,
   "metadata": {},
   "outputs": [
    {
     "data": {
      "text/html": [
       "<div>\n",
       "<style scoped>\n",
       "    .dataframe tbody tr th:only-of-type {\n",
       "        vertical-align: middle;\n",
       "    }\n",
       "\n",
       "    .dataframe tbody tr th {\n",
       "        vertical-align: top;\n",
       "    }\n",
       "\n",
       "    .dataframe thead th {\n",
       "        text-align: right;\n",
       "    }\n",
       "</style>\n",
       "<table border=\"1\" class=\"dataframe\">\n",
       "  <thead>\n",
       "    <tr style=\"text-align: right;\">\n",
       "      <th></th>\n",
       "      <th></th>\n",
       "      <th>EF</th>\n",
       "      <th>Verified_EF</th>\n",
       "    </tr>\n",
       "    <tr>\n",
       "      <th>MapCode</th>\n",
       "      <th>ProductionTypeName</th>\n",
       "      <th></th>\n",
       "      <th></th>\n",
       "    </tr>\n",
       "  </thead>\n",
       "  <tbody>\n",
       "    <tr>\n",
       "      <th rowspan=\"2\" valign=\"top\">AT</th>\n",
       "      <th>gas</th>\n",
       "      <td>0.36</td>\n",
       "      <td>True</td>\n",
       "    </tr>\n",
       "    <tr>\n",
       "      <th>hard_coal</th>\n",
       "      <td>1.07</td>\n",
       "      <td>True</td>\n",
       "    </tr>\n",
       "    <tr>\n",
       "      <th>BE</th>\n",
       "      <th>gas</th>\n",
       "      <td>0.39</td>\n",
       "      <td>True</td>\n",
       "    </tr>\n",
       "    <tr>\n",
       "      <th rowspan=\"2\" valign=\"top\">CZ</th>\n",
       "      <th>hard_coal</th>\n",
       "      <td>1.01</td>\n",
       "      <td>True</td>\n",
       "    </tr>\n",
       "    <tr>\n",
       "      <th>lignite</th>\n",
       "      <td>0.93</td>\n",
       "      <td>True</td>\n",
       "    </tr>\n",
       "    <tr>\n",
       "      <th rowspan=\"4\" valign=\"top\">DE</th>\n",
       "      <th>gas</th>\n",
       "      <td>0.43</td>\n",
       "      <td>True</td>\n",
       "    </tr>\n",
       "    <tr>\n",
       "      <th>hard_coal</th>\n",
       "      <td>0.91</td>\n",
       "      <td>True</td>\n",
       "    </tr>\n",
       "    <tr>\n",
       "      <th>lignite</th>\n",
       "      <td>1.14</td>\n",
       "      <td>True</td>\n",
       "    </tr>\n",
       "    <tr>\n",
       "      <th>other_fossil</th>\n",
       "      <td>1.40</td>\n",
       "      <td>True</td>\n",
       "    </tr>\n",
       "    <tr>\n",
       "      <th rowspan=\"2\" valign=\"top\">DK</th>\n",
       "      <th>gas</th>\n",
       "      <td>0.46</td>\n",
       "      <td>False</td>\n",
       "    </tr>\n",
       "    <tr>\n",
       "      <th>hard_coal</th>\n",
       "      <td>0.96</td>\n",
       "      <td>True</td>\n",
       "    </tr>\n",
       "    <tr>\n",
       "      <th rowspan=\"2\" valign=\"top\">ES</th>\n",
       "      <th>gas</th>\n",
       "      <td>0.39</td>\n",
       "      <td>True</td>\n",
       "    </tr>\n",
       "    <tr>\n",
       "      <th>hard_coal</th>\n",
       "      <td>0.98</td>\n",
       "      <td>True</td>\n",
       "    </tr>\n",
       "    <tr>\n",
       "      <th rowspan=\"3\" valign=\"top\">FI</th>\n",
       "      <th>gas</th>\n",
       "      <td>0.43</td>\n",
       "      <td>True</td>\n",
       "    </tr>\n",
       "    <tr>\n",
       "      <th>hard_coal</th>\n",
       "      <td>0.96</td>\n",
       "      <td>True</td>\n",
       "    </tr>\n",
       "    <tr>\n",
       "      <th>other_fossil</th>\n",
       "      <td>0.86</td>\n",
       "      <td>True</td>\n",
       "    </tr>\n",
       "    <tr>\n",
       "      <th rowspan=\"2\" valign=\"top\">FR</th>\n",
       "      <th>gas</th>\n",
       "      <td>0.40</td>\n",
       "      <td>True</td>\n",
       "    </tr>\n",
       "    <tr>\n",
       "      <th>hard_coal</th>\n",
       "      <td>0.83</td>\n",
       "      <td>True</td>\n",
       "    </tr>\n",
       "    <tr>\n",
       "      <th rowspan=\"2\" valign=\"top\">GB</th>\n",
       "      <th>gas</th>\n",
       "      <td>0.48</td>\n",
       "      <td>True</td>\n",
       "    </tr>\n",
       "    <tr>\n",
       "      <th>hard_coal</th>\n",
       "      <td>1.10</td>\n",
       "      <td>True</td>\n",
       "    </tr>\n",
       "    <tr>\n",
       "      <th rowspan=\"2\" valign=\"top\">GR</th>\n",
       "      <th>gas</th>\n",
       "      <td>0.37</td>\n",
       "      <td>True</td>\n",
       "    </tr>\n",
       "    <tr>\n",
       "      <th>lignite</th>\n",
       "      <td>1.43</td>\n",
       "      <td>True</td>\n",
       "    </tr>\n",
       "    <tr>\n",
       "      <th rowspan=\"2\" valign=\"top\">HU</th>\n",
       "      <th>gas</th>\n",
       "      <td>0.39</td>\n",
       "      <td>True</td>\n",
       "    </tr>\n",
       "    <tr>\n",
       "      <th>lignite</th>\n",
       "      <td>1.36</td>\n",
       "      <td>True</td>\n",
       "    </tr>\n",
       "    <tr>\n",
       "      <th rowspan=\"2\" valign=\"top\">IE</th>\n",
       "      <th>gas</th>\n",
       "      <td>0.35</td>\n",
       "      <td>True</td>\n",
       "    </tr>\n",
       "    <tr>\n",
       "      <th>hard_coal</th>\n",
       "      <td>1.03</td>\n",
       "      <td>True</td>\n",
       "    </tr>\n",
       "    <tr>\n",
       "      <th rowspan=\"3\" valign=\"top\">IT</th>\n",
       "      <th>gas</th>\n",
       "      <td>0.40</td>\n",
       "      <td>True</td>\n",
       "    </tr>\n",
       "    <tr>\n",
       "      <th>hard_coal</th>\n",
       "      <td>1.00</td>\n",
       "      <td>True</td>\n",
       "    </tr>\n",
       "    <tr>\n",
       "      <th>other_fossil</th>\n",
       "      <td>0.52</td>\n",
       "      <td>False</td>\n",
       "    </tr>\n",
       "    <tr>\n",
       "      <th>LT</th>\n",
       "      <th>gas</th>\n",
       "      <td>0.57</td>\n",
       "      <td>False</td>\n",
       "    </tr>\n",
       "    <tr>\n",
       "      <th rowspan=\"2\" valign=\"top\">NL</th>\n",
       "      <th>gas</th>\n",
       "      <td>0.37</td>\n",
       "      <td>True</td>\n",
       "    </tr>\n",
       "    <tr>\n",
       "      <th>hard_coal</th>\n",
       "      <td>0.98</td>\n",
       "      <td>True</td>\n",
       "    </tr>\n",
       "    <tr>\n",
       "      <th rowspan=\"3\" valign=\"top\">PL</th>\n",
       "      <th>gas</th>\n",
       "      <td>0.51</td>\n",
       "      <td>False</td>\n",
       "    </tr>\n",
       "    <tr>\n",
       "      <th>hard_coal</th>\n",
       "      <td>0.95</td>\n",
       "      <td>True</td>\n",
       "    </tr>\n",
       "    <tr>\n",
       "      <th>lignite</th>\n",
       "      <td>1.16</td>\n",
       "      <td>True</td>\n",
       "    </tr>\n",
       "    <tr>\n",
       "      <th rowspan=\"2\" valign=\"top\">PT</th>\n",
       "      <th>gas</th>\n",
       "      <td>0.43</td>\n",
       "      <td>True</td>\n",
       "    </tr>\n",
       "    <tr>\n",
       "      <th>hard_coal</th>\n",
       "      <td>0.55</td>\n",
       "      <td>False</td>\n",
       "    </tr>\n",
       "    <tr>\n",
       "      <th rowspan=\"3\" valign=\"top\">RO</th>\n",
       "      <th>gas</th>\n",
       "      <td>0.58</td>\n",
       "      <td>False</td>\n",
       "    </tr>\n",
       "    <tr>\n",
       "      <th>hard_coal</th>\n",
       "      <td>1.23</td>\n",
       "      <td>True</td>\n",
       "    </tr>\n",
       "    <tr>\n",
       "      <th>lignite</th>\n",
       "      <td>1.01</td>\n",
       "      <td>True</td>\n",
       "    </tr>\n",
       "    <tr>\n",
       "      <th>SE</th>\n",
       "      <th>gas</th>\n",
       "      <td>0.49</td>\n",
       "      <td>NaN</td>\n",
       "    </tr>\n",
       "    <tr>\n",
       "      <th rowspan=\"2\" valign=\"top\">SK</th>\n",
       "      <th>hard_coal</th>\n",
       "      <td>0.91</td>\n",
       "      <td>True</td>\n",
       "    </tr>\n",
       "    <tr>\n",
       "      <th>lignite</th>\n",
       "      <td>1.35</td>\n",
       "      <td>True</td>\n",
       "    </tr>\n",
       "  </tbody>\n",
       "</table>\n",
       "</div>"
      ],
      "text/plain": [
       "                              EF Verified_EF\n",
       "MapCode ProductionTypeName                  \n",
       "AT      gas                 0.36        True\n",
       "        hard_coal           1.07        True\n",
       "BE      gas                 0.39        True\n",
       "CZ      hard_coal           1.01        True\n",
       "        lignite             0.93        True\n",
       "DE      gas                 0.43        True\n",
       "        hard_coal           0.91        True\n",
       "        lignite             1.14        True\n",
       "        other_fossil        1.40        True\n",
       "DK      gas                 0.46       False\n",
       "        hard_coal           0.96        True\n",
       "ES      gas                 0.39        True\n",
       "        hard_coal           0.98        True\n",
       "FI      gas                 0.43        True\n",
       "        hard_coal           0.96        True\n",
       "        other_fossil        0.86        True\n",
       "FR      gas                 0.40        True\n",
       "        hard_coal           0.83        True\n",
       "GB      gas                 0.48        True\n",
       "        hard_coal           1.10        True\n",
       "GR      gas                 0.37        True\n",
       "        lignite             1.43        True\n",
       "HU      gas                 0.39        True\n",
       "        lignite             1.36        True\n",
       "IE      gas                 0.35        True\n",
       "        hard_coal           1.03        True\n",
       "IT      gas                 0.40        True\n",
       "        hard_coal           1.00        True\n",
       "        other_fossil        0.52       False\n",
       "LT      gas                 0.57       False\n",
       "NL      gas                 0.37        True\n",
       "        hard_coal           0.98        True\n",
       "PL      gas                 0.51       False\n",
       "        hard_coal           0.95        True\n",
       "        lignite             1.16        True\n",
       "PT      gas                 0.43        True\n",
       "        hard_coal           0.55       False\n",
       "RO      gas                 0.58       False\n",
       "        hard_coal           1.23        True\n",
       "        lignite             1.01        True\n",
       "SE      gas                 0.49         NaN\n",
       "SK      hard_coal           0.91        True\n",
       "        lignite             1.35        True"
      ]
     },
     "execution_count": 13,
     "metadata": {},
     "output_type": "execute_result"
    }
   ],
   "source": [
    "EF"
   ]
  },
  {
   "cell_type": "code",
   "execution_count": 14,
   "metadata": {},
   "outputs": [
    {
     "name": "stdout",
     "output_type": "stream",
     "text": [
      "{'gas': 0.43333333333333335, 'hard_coal': 0.9646666666666667, 'lignite': 1.1971428571428573, 'other_fossil': 0.5}\n"
     ]
    }
   ],
   "source": [
    "# Mean EF for all calculated countries and technologies\n",
    "\n",
    "EF_mean = EF.groupby('ProductionTypeName').mean()\n",
    "EF_mean.loc['other_fossil'] = 0.5\n",
    "EF_mean = EF_mean.EF.to_dict()\n",
    "\n",
    "\n",
    "print(EF_mean)"
   ]
  },
  {
   "cell_type": "code",
   "execution_count": 15,
   "metadata": {},
   "outputs": [],
   "source": [
    "# If no country-specific EFs are available and also no mean EF is available for a country and technology, we use the following EFs. Source:\n",
    "\n",
    "EF_default = {'biomass':0,\n",
    "            'geothermal':0,\n",
    "            'hydro':0,\n",
    "            'nuclear':0,\n",
    "            'oil':0.8,\n",
    "            'other_renewable':0,\n",
    "            'solar':0,\n",
    "            'waste':0.2,\n",
    "            'wind_offshore':0,\n",
    "            'wind_onshore':0,\n",
    "            'marine':0,\n",
    "            'oil shale':0.51,\n",
    "            'other_fossil': 0.51}\n"
   ]
  },
  {
   "cell_type": "code",
   "execution_count": 16,
   "metadata": {},
   "outputs": [],
   "source": [
    "# Create a dataframe with the EF for each country and technology. If no specific EF is available, we use the default EF .\n",
    "EF_multi = {}\n",
    "\n",
    "for i in entsoe_gen_type.columns:\n",
    "    if i in EF:\n",
    "        EF_multi[i] = EF[i]\n",
    "    elif i[1] in EF_mean:\n",
    "        EF_multi[i] = EF_mean[i[1]]\n",
    "    else:\n",
    "        EF_multi[i] = EF_default[i[1]]"
   ]
  },
  {
   "cell_type": "code",
   "execution_count": 17,
   "metadata": {},
   "outputs": [],
   "source": [
    "# calculate emissions based on EF and generation per type\n",
    "CO2_emission_entsoe_gen_type = entsoe_gen_type * EF_multi"
   ]
  },
  {
   "cell_type": "code",
   "execution_count": 18,
   "metadata": {},
   "outputs": [],
   "source": [
    "# From the previously calculated emissions, an emission signal (g CO2 / kWh) can now be calculated for each country.\n",
    "# Since emissions and generation are available per technology, they must first be grouped and summed. \n",
    "\n",
    "# Emission in g CO2\n",
    "CO2_emission = (CO2_emission_entsoe_gen_type * 1000000).groupby(level=0, axis=1).sum()\n",
    "# generation in kWh\n",
    "Generation = (entsoe_gen_type * 1000).groupby(level=0, axis=1).sum()\n",
    "\n",
    "# CI in g CO2/kWh\n",
    "Carbon_intensitiy_entsoe_gen_type = CO2_emission.div(Generation)"
   ]
  },
  {
   "cell_type": "code",
   "execution_count": 19,
   "metadata": {},
   "outputs": [
    {
     "data": {
      "text/html": [
       "<div>\n",
       "<style scoped>\n",
       "    .dataframe tbody tr th:only-of-type {\n",
       "        vertical-align: middle;\n",
       "    }\n",
       "\n",
       "    .dataframe tbody tr th {\n",
       "        vertical-align: top;\n",
       "    }\n",
       "\n",
       "    .dataframe thead th {\n",
       "        text-align: right;\n",
       "    }\n",
       "</style>\n",
       "<table border=\"1\" class=\"dataframe\">\n",
       "  <thead>\n",
       "    <tr style=\"text-align: right;\">\n",
       "      <th>region</th>\n",
       "      <th>AT</th>\n",
       "      <th>BE</th>\n",
       "      <th>BG</th>\n",
       "      <th>CH</th>\n",
       "      <th>CY</th>\n",
       "      <th>CZ</th>\n",
       "      <th>DE</th>\n",
       "      <th>DK</th>\n",
       "      <th>EE</th>\n",
       "      <th>ES</th>\n",
       "      <th>...</th>\n",
       "      <th>ME</th>\n",
       "      <th>NL</th>\n",
       "      <th>NO</th>\n",
       "      <th>PL</th>\n",
       "      <th>PT</th>\n",
       "      <th>RO</th>\n",
       "      <th>RS</th>\n",
       "      <th>SE</th>\n",
       "      <th>SI</th>\n",
       "      <th>SK</th>\n",
       "    </tr>\n",
       "    <tr>\n",
       "      <th>utc_timestamp</th>\n",
       "      <th></th>\n",
       "      <th></th>\n",
       "      <th></th>\n",
       "      <th></th>\n",
       "      <th></th>\n",
       "      <th></th>\n",
       "      <th></th>\n",
       "      <th></th>\n",
       "      <th></th>\n",
       "      <th></th>\n",
       "      <th></th>\n",
       "      <th></th>\n",
       "      <th></th>\n",
       "      <th></th>\n",
       "      <th></th>\n",
       "      <th></th>\n",
       "      <th></th>\n",
       "      <th></th>\n",
       "      <th></th>\n",
       "      <th></th>\n",
       "      <th></th>\n",
       "    </tr>\n",
       "  </thead>\n",
       "  <tbody>\n",
       "    <tr>\n",
       "      <th>2018-01-01 00:00:00+00:00</th>\n",
       "      <td>80.828977</td>\n",
       "      <td>87.971237</td>\n",
       "      <td>456.461061</td>\n",
       "      <td>0.0</td>\n",
       "      <td>476.331413</td>\n",
       "      <td>487.216140</td>\n",
       "      <td>212.867821</td>\n",
       "      <td>99.942102</td>\n",
       "      <td>426.150700</td>\n",
       "      <td>95.431302</td>\n",
       "      <td>...</td>\n",
       "      <td>1197.142857</td>\n",
       "      <td>143.963550</td>\n",
       "      <td>11.031603</td>\n",
       "      <td>669.522415</td>\n",
       "      <td>139.730350</td>\n",
       "      <td>386.722895</td>\n",
       "      <td>891.622381</td>\n",
       "      <td>11.447693</td>\n",
       "      <td>270.154833</td>\n",
       "      <td>152.789388</td>\n",
       "    </tr>\n",
       "    <tr>\n",
       "      <th>2018-01-01 01:00:00+00:00</th>\n",
       "      <td>80.353685</td>\n",
       "      <td>92.890540</td>\n",
       "      <td>456.637494</td>\n",
       "      <td>0.0</td>\n",
       "      <td>471.255494</td>\n",
       "      <td>483.955317</td>\n",
       "      <td>211.718723</td>\n",
       "      <td>117.302014</td>\n",
       "      <td>422.609722</td>\n",
       "      <td>106.451047</td>\n",
       "      <td>...</td>\n",
       "      <td>1197.142857</td>\n",
       "      <td>143.435118</td>\n",
       "      <td>11.796932</td>\n",
       "      <td>652.648023</td>\n",
       "      <td>144.384019</td>\n",
       "      <td>378.139665</td>\n",
       "      <td>915.588038</td>\n",
       "      <td>11.562233</td>\n",
       "      <td>264.945023</td>\n",
       "      <td>151.546829</td>\n",
       "    </tr>\n",
       "    <tr>\n",
       "      <th>2018-01-01 02:00:00+00:00</th>\n",
       "      <td>85.928578</td>\n",
       "      <td>96.672125</td>\n",
       "      <td>457.499822</td>\n",
       "      <td>0.0</td>\n",
       "      <td>446.428967</td>\n",
       "      <td>480.536246</td>\n",
       "      <td>208.470942</td>\n",
       "      <td>109.660728</td>\n",
       "      <td>425.378810</td>\n",
       "      <td>121.787964</td>\n",
       "      <td>...</td>\n",
       "      <td>1197.142857</td>\n",
       "      <td>141.263157</td>\n",
       "      <td>13.047575</td>\n",
       "      <td>642.388650</td>\n",
       "      <td>135.416339</td>\n",
       "      <td>397.485963</td>\n",
       "      <td>922.163791</td>\n",
       "      <td>10.752087</td>\n",
       "      <td>246.096775</td>\n",
       "      <td>145.836953</td>\n",
       "    </tr>\n",
       "    <tr>\n",
       "      <th>2018-01-01 03:00:00+00:00</th>\n",
       "      <td>90.560033</td>\n",
       "      <td>96.028462</td>\n",
       "      <td>457.012412</td>\n",
       "      <td>0.0</td>\n",
       "      <td>445.871864</td>\n",
       "      <td>483.481323</td>\n",
       "      <td>209.051641</td>\n",
       "      <td>111.244915</td>\n",
       "      <td>428.837454</td>\n",
       "      <td>121.059778</td>\n",
       "      <td>...</td>\n",
       "      <td>1197.142857</td>\n",
       "      <td>139.789742</td>\n",
       "      <td>13.047143</td>\n",
       "      <td>645.422457</td>\n",
       "      <td>140.959416</td>\n",
       "      <td>407.478948</td>\n",
       "      <td>902.650132</td>\n",
       "      <td>10.783414</td>\n",
       "      <td>253.450453</td>\n",
       "      <td>135.976751</td>\n",
       "    </tr>\n",
       "    <tr>\n",
       "      <th>2018-01-01 04:00:00+00:00</th>\n",
       "      <td>89.583788</td>\n",
       "      <td>96.994692</td>\n",
       "      <td>458.455535</td>\n",
       "      <td>0.0</td>\n",
       "      <td>467.979894</td>\n",
       "      <td>489.836863</td>\n",
       "      <td>206.954700</td>\n",
       "      <td>107.227323</td>\n",
       "      <td>427.777730</td>\n",
       "      <td>122.483322</td>\n",
       "      <td>...</td>\n",
       "      <td>1197.142857</td>\n",
       "      <td>139.827193</td>\n",
       "      <td>12.990978</td>\n",
       "      <td>636.181700</td>\n",
       "      <td>141.437997</td>\n",
       "      <td>411.844655</td>\n",
       "      <td>919.518287</td>\n",
       "      <td>10.671919</td>\n",
       "      <td>255.438442</td>\n",
       "      <td>138.824653</td>\n",
       "    </tr>\n",
       "  </tbody>\n",
       "</table>\n",
       "<p>5 rows × 29 columns</p>\n",
       "</div>"
      ],
      "text/plain": [
       "region                            AT         BE          BG   CH          CY  \\\n",
       "utc_timestamp                                                                  \n",
       "2018-01-01 00:00:00+00:00  80.828977  87.971237  456.461061  0.0  476.331413   \n",
       "2018-01-01 01:00:00+00:00  80.353685  92.890540  456.637494  0.0  471.255494   \n",
       "2018-01-01 02:00:00+00:00  85.928578  96.672125  457.499822  0.0  446.428967   \n",
       "2018-01-01 03:00:00+00:00  90.560033  96.028462  457.012412  0.0  445.871864   \n",
       "2018-01-01 04:00:00+00:00  89.583788  96.994692  458.455535  0.0  467.979894   \n",
       "\n",
       "region                             CZ          DE          DK          EE  \\\n",
       "utc_timestamp                                                               \n",
       "2018-01-01 00:00:00+00:00  487.216140  212.867821   99.942102  426.150700   \n",
       "2018-01-01 01:00:00+00:00  483.955317  211.718723  117.302014  422.609722   \n",
       "2018-01-01 02:00:00+00:00  480.536246  208.470942  109.660728  425.378810   \n",
       "2018-01-01 03:00:00+00:00  483.481323  209.051641  111.244915  428.837454   \n",
       "2018-01-01 04:00:00+00:00  489.836863  206.954700  107.227323  427.777730   \n",
       "\n",
       "region                             ES  ...           ME          NL  \\\n",
       "utc_timestamp                          ...                            \n",
       "2018-01-01 00:00:00+00:00   95.431302  ...  1197.142857  143.963550   \n",
       "2018-01-01 01:00:00+00:00  106.451047  ...  1197.142857  143.435118   \n",
       "2018-01-01 02:00:00+00:00  121.787964  ...  1197.142857  141.263157   \n",
       "2018-01-01 03:00:00+00:00  121.059778  ...  1197.142857  139.789742   \n",
       "2018-01-01 04:00:00+00:00  122.483322  ...  1197.142857  139.827193   \n",
       "\n",
       "region                            NO          PL          PT          RO  \\\n",
       "utc_timestamp                                                              \n",
       "2018-01-01 00:00:00+00:00  11.031603  669.522415  139.730350  386.722895   \n",
       "2018-01-01 01:00:00+00:00  11.796932  652.648023  144.384019  378.139665   \n",
       "2018-01-01 02:00:00+00:00  13.047575  642.388650  135.416339  397.485963   \n",
       "2018-01-01 03:00:00+00:00  13.047143  645.422457  140.959416  407.478948   \n",
       "2018-01-01 04:00:00+00:00  12.990978  636.181700  141.437997  411.844655   \n",
       "\n",
       "region                             RS         SE          SI          SK  \n",
       "utc_timestamp                                                             \n",
       "2018-01-01 00:00:00+00:00  891.622381  11.447693  270.154833  152.789388  \n",
       "2018-01-01 01:00:00+00:00  915.588038  11.562233  264.945023  151.546829  \n",
       "2018-01-01 02:00:00+00:00  922.163791  10.752087  246.096775  145.836953  \n",
       "2018-01-01 03:00:00+00:00  902.650132  10.783414  253.450453  135.976751  \n",
       "2018-01-01 04:00:00+00:00  919.518287  10.671919  255.438442  138.824653  \n",
       "\n",
       "[5 rows x 29 columns]"
      ]
     },
     "execution_count": 19,
     "metadata": {},
     "output_type": "execute_result"
    }
   ],
   "source": [
    "Carbon_intensitiy_entsoe_gen_type.head(5)"
   ]
  },
  {
   "cell_type": "code",
   "execution_count": 20,
   "metadata": {},
   "outputs": [],
   "source": [
    "mean_Carbon_intensitiy_entsoe_gen_type = CO2_emission.sum() / Generation.sum()"
   ]
  },
  {
   "cell_type": "code",
   "execution_count": 21,
   "metadata": {},
   "outputs": [],
   "source": [
    "Carbon_intensitiy_entsoe_gen_type_mean = Carbon_intensitiy_entsoe_gen_type.copy()\n"
   ]
  },
  {
   "cell_type": "code",
   "execution_count": 22,
   "metadata": {},
   "outputs": [],
   "source": [
    "for i in Carbon_intensitiy_entsoe_gen_type_mean.columns:\n",
    "    Carbon_intensitiy_entsoe_gen_type_mean[i] = mean_Carbon_intensitiy_entsoe_gen_type[i]"
   ]
  },
  {
   "cell_type": "code",
   "execution_count": 23,
   "metadata": {},
   "outputs": [
    {
     "data": {
      "text/html": [
       "<div>\n",
       "<style scoped>\n",
       "    .dataframe tbody tr th:only-of-type {\n",
       "        vertical-align: middle;\n",
       "    }\n",
       "\n",
       "    .dataframe tbody tr th {\n",
       "        vertical-align: top;\n",
       "    }\n",
       "\n",
       "    .dataframe thead th {\n",
       "        text-align: right;\n",
       "    }\n",
       "</style>\n",
       "<table border=\"1\" class=\"dataframe\">\n",
       "  <thead>\n",
       "    <tr style=\"text-align: right;\">\n",
       "      <th>region</th>\n",
       "      <th>AT</th>\n",
       "      <th>BE</th>\n",
       "      <th>BG</th>\n",
       "      <th>CH</th>\n",
       "      <th>CY</th>\n",
       "      <th>CZ</th>\n",
       "      <th>DE</th>\n",
       "      <th>DK</th>\n",
       "      <th>EE</th>\n",
       "      <th>ES</th>\n",
       "      <th>...</th>\n",
       "      <th>ME</th>\n",
       "      <th>NL</th>\n",
       "      <th>NO</th>\n",
       "      <th>PL</th>\n",
       "      <th>PT</th>\n",
       "      <th>RO</th>\n",
       "      <th>RS</th>\n",
       "      <th>SE</th>\n",
       "      <th>SI</th>\n",
       "      <th>SK</th>\n",
       "    </tr>\n",
       "    <tr>\n",
       "      <th>utc_timestamp</th>\n",
       "      <th></th>\n",
       "      <th></th>\n",
       "      <th></th>\n",
       "      <th></th>\n",
       "      <th></th>\n",
       "      <th></th>\n",
       "      <th></th>\n",
       "      <th></th>\n",
       "      <th></th>\n",
       "      <th></th>\n",
       "      <th></th>\n",
       "      <th></th>\n",
       "      <th></th>\n",
       "      <th></th>\n",
       "      <th></th>\n",
       "      <th></th>\n",
       "      <th></th>\n",
       "      <th></th>\n",
       "      <th></th>\n",
       "      <th></th>\n",
       "      <th></th>\n",
       "    </tr>\n",
       "  </thead>\n",
       "  <tbody>\n",
       "    <tr>\n",
       "      <th>2018-01-01 00:00:00+00:00</th>\n",
       "      <td>130.479772</td>\n",
       "      <td>166.077565</td>\n",
       "      <td>497.366275</td>\n",
       "      <td>0.0</td>\n",
       "      <td>480.0</td>\n",
       "      <td>571.954593</td>\n",
       "      <td>460.222653</td>\n",
       "      <td>276.517449</td>\n",
       "      <td>431.372549</td>\n",
       "      <td>277.407882</td>\n",
       "      <td>...</td>\n",
       "      <td>465.555556</td>\n",
       "      <td>434.039975</td>\n",
       "      <td>9.589673</td>\n",
       "      <td>851.616252</td>\n",
       "      <td>309.742754</td>\n",
       "      <td>336.832261</td>\n",
       "      <td>853.832429</td>\n",
       "      <td>8.90411</td>\n",
       "      <td>329.238095</td>\n",
       "      <td>157.755429</td>\n",
       "    </tr>\n",
       "    <tr>\n",
       "      <th>2018-01-01 01:00:00+00:00</th>\n",
       "      <td>130.479772</td>\n",
       "      <td>166.077565</td>\n",
       "      <td>497.366275</td>\n",
       "      <td>0.0</td>\n",
       "      <td>480.0</td>\n",
       "      <td>571.954593</td>\n",
       "      <td>460.222653</td>\n",
       "      <td>276.517449</td>\n",
       "      <td>431.372549</td>\n",
       "      <td>277.407882</td>\n",
       "      <td>...</td>\n",
       "      <td>465.555556</td>\n",
       "      <td>434.039975</td>\n",
       "      <td>9.589673</td>\n",
       "      <td>851.616252</td>\n",
       "      <td>309.742754</td>\n",
       "      <td>336.832261</td>\n",
       "      <td>853.832429</td>\n",
       "      <td>8.90411</td>\n",
       "      <td>329.238095</td>\n",
       "      <td>157.755429</td>\n",
       "    </tr>\n",
       "    <tr>\n",
       "      <th>2018-01-01 02:00:00+00:00</th>\n",
       "      <td>130.479772</td>\n",
       "      <td>166.077565</td>\n",
       "      <td>497.366275</td>\n",
       "      <td>0.0</td>\n",
       "      <td>480.0</td>\n",
       "      <td>571.954593</td>\n",
       "      <td>460.222653</td>\n",
       "      <td>276.517449</td>\n",
       "      <td>431.372549</td>\n",
       "      <td>277.407882</td>\n",
       "      <td>...</td>\n",
       "      <td>465.555556</td>\n",
       "      <td>434.039975</td>\n",
       "      <td>9.589673</td>\n",
       "      <td>851.616252</td>\n",
       "      <td>309.742754</td>\n",
       "      <td>336.832261</td>\n",
       "      <td>853.832429</td>\n",
       "      <td>8.90411</td>\n",
       "      <td>329.238095</td>\n",
       "      <td>157.755429</td>\n",
       "    </tr>\n",
       "    <tr>\n",
       "      <th>2018-01-01 03:00:00+00:00</th>\n",
       "      <td>130.479772</td>\n",
       "      <td>166.077565</td>\n",
       "      <td>497.366275</td>\n",
       "      <td>0.0</td>\n",
       "      <td>480.0</td>\n",
       "      <td>571.954593</td>\n",
       "      <td>460.222653</td>\n",
       "      <td>276.517449</td>\n",
       "      <td>431.372549</td>\n",
       "      <td>277.407882</td>\n",
       "      <td>...</td>\n",
       "      <td>465.555556</td>\n",
       "      <td>434.039975</td>\n",
       "      <td>9.589673</td>\n",
       "      <td>851.616252</td>\n",
       "      <td>309.742754</td>\n",
       "      <td>336.832261</td>\n",
       "      <td>853.832429</td>\n",
       "      <td>8.90411</td>\n",
       "      <td>329.238095</td>\n",
       "      <td>157.755429</td>\n",
       "    </tr>\n",
       "    <tr>\n",
       "      <th>2018-01-01 04:00:00+00:00</th>\n",
       "      <td>130.479772</td>\n",
       "      <td>166.077565</td>\n",
       "      <td>497.366275</td>\n",
       "      <td>0.0</td>\n",
       "      <td>480.0</td>\n",
       "      <td>571.954593</td>\n",
       "      <td>460.222653</td>\n",
       "      <td>276.517449</td>\n",
       "      <td>431.372549</td>\n",
       "      <td>277.407882</td>\n",
       "      <td>...</td>\n",
       "      <td>465.555556</td>\n",
       "      <td>434.039975</td>\n",
       "      <td>9.589673</td>\n",
       "      <td>851.616252</td>\n",
       "      <td>309.742754</td>\n",
       "      <td>336.832261</td>\n",
       "      <td>853.832429</td>\n",
       "      <td>8.90411</td>\n",
       "      <td>329.238095</td>\n",
       "      <td>157.755429</td>\n",
       "    </tr>\n",
       "  </tbody>\n",
       "</table>\n",
       "<p>5 rows × 29 columns</p>\n",
       "</div>"
      ],
      "text/plain": [
       "region                             AT          BE          BG   CH     CY  \\\n",
       "utc_timestamp                                                               \n",
       "2018-01-01 00:00:00+00:00  130.479772  166.077565  497.366275  0.0  480.0   \n",
       "2018-01-01 01:00:00+00:00  130.479772  166.077565  497.366275  0.0  480.0   \n",
       "2018-01-01 02:00:00+00:00  130.479772  166.077565  497.366275  0.0  480.0   \n",
       "2018-01-01 03:00:00+00:00  130.479772  166.077565  497.366275  0.0  480.0   \n",
       "2018-01-01 04:00:00+00:00  130.479772  166.077565  497.366275  0.0  480.0   \n",
       "\n",
       "region                             CZ          DE          DK          EE  \\\n",
       "utc_timestamp                                                               \n",
       "2018-01-01 00:00:00+00:00  571.954593  460.222653  276.517449  431.372549   \n",
       "2018-01-01 01:00:00+00:00  571.954593  460.222653  276.517449  431.372549   \n",
       "2018-01-01 02:00:00+00:00  571.954593  460.222653  276.517449  431.372549   \n",
       "2018-01-01 03:00:00+00:00  571.954593  460.222653  276.517449  431.372549   \n",
       "2018-01-01 04:00:00+00:00  571.954593  460.222653  276.517449  431.372549   \n",
       "\n",
       "region                             ES  ...          ME          NL        NO  \\\n",
       "utc_timestamp                          ...                                     \n",
       "2018-01-01 00:00:00+00:00  277.407882  ...  465.555556  434.039975  9.589673   \n",
       "2018-01-01 01:00:00+00:00  277.407882  ...  465.555556  434.039975  9.589673   \n",
       "2018-01-01 02:00:00+00:00  277.407882  ...  465.555556  434.039975  9.589673   \n",
       "2018-01-01 03:00:00+00:00  277.407882  ...  465.555556  434.039975  9.589673   \n",
       "2018-01-01 04:00:00+00:00  277.407882  ...  465.555556  434.039975  9.589673   \n",
       "\n",
       "region                             PL          PT          RO          RS  \\\n",
       "utc_timestamp                                                               \n",
       "2018-01-01 00:00:00+00:00  851.616252  309.742754  336.832261  853.832429   \n",
       "2018-01-01 01:00:00+00:00  851.616252  309.742754  336.832261  853.832429   \n",
       "2018-01-01 02:00:00+00:00  851.616252  309.742754  336.832261  853.832429   \n",
       "2018-01-01 03:00:00+00:00  851.616252  309.742754  336.832261  853.832429   \n",
       "2018-01-01 04:00:00+00:00  851.616252  309.742754  336.832261  853.832429   \n",
       "\n",
       "region                          SE          SI          SK  \n",
       "utc_timestamp                                               \n",
       "2018-01-01 00:00:00+00:00  8.90411  329.238095  157.755429  \n",
       "2018-01-01 01:00:00+00:00  8.90411  329.238095  157.755429  \n",
       "2018-01-01 02:00:00+00:00  8.90411  329.238095  157.755429  \n",
       "2018-01-01 03:00:00+00:00  8.90411  329.238095  157.755429  \n",
       "2018-01-01 04:00:00+00:00  8.90411  329.238095  157.755429  \n",
       "\n",
       "[5 rows x 29 columns]"
      ]
     },
     "execution_count": 23,
     "metadata": {},
     "output_type": "execute_result"
    }
   ],
   "source": [
    "Carbon_intensitiy_entsoe_gen_type_mean.head()"
   ]
  },
  {
   "cell_type": "markdown",
   "metadata": {},
   "source": [
    "## Plots"
   ]
  },
  {
   "cell_type": "markdown",
   "metadata": {},
   "source": [
    "This section is to see some plots for the generated data"
   ]
  },
  {
   "cell_type": "markdown",
   "metadata": {},
   "source": [
    "### CO2 Signal Example"
   ]
  },
  {
   "cell_type": "code",
   "execution_count": 108,
   "metadata": {},
   "outputs": [
    {
     "data": {
      "text/plain": [
       "Index(['biomass', 'gas', 'hard_coal', 'hydro', 'lignite', 'nuclear',\n",
       "       'other_fossil', 'other_renewable', 'solar', 'wind_offshore',\n",
       "       'wind_onshore'],\n",
       "      dtype='object', name='variable')"
      ]
     },
     "execution_count": 108,
     "metadata": {},
     "output_type": "execute_result"
    }
   ],
   "source": [
    "entsoe_gen_type.columns.levels[1]\n"
   ]
  },
  {
   "cell_type": "code",
   "execution_count": null,
   "metadata": {},
   "outputs": [],
   "source": []
  },
  {
   "cell_type": "code",
   "execution_count": 109,
   "metadata": {},
   "outputs": [],
   "source": [
    "def plot_production_profile_2(generation, Carbon_intensitiy, mean_Carbon_intensitiy, countries, start, end):\n",
    "    \n",
    "    # load and filter data\n",
    "    generation = generation[countries]\n",
    "    Carbon_intensitiy = Carbon_intensitiy[countries]\n",
    "    Carbon_intensitiy_mean = mean_Carbon_intensitiy[countries]\n",
    "    \n",
    "    \n",
    "    #plotting\n",
    "    import seaborn as sns\n",
    "\n",
    "    sns.set(style=\"whitegrid\")\n",
    "\n",
    "    colors = {'gas': '#b20101',\n",
    "              'biomass': '#0c6013',\n",
    "              'hard_coal': '#707070',\n",
    "              'geothermal': '#ba91b1',\n",
    "              'lignite': '#9e5a01',\n",
    "              'nuclear': '#ff9000',\n",
    "              'oil': '#262626',\n",
    "              'other_fossil': '#d35050',\n",
    "              'waste': '#68896b',\n",
    "              'wind_onshore': '#235ebc',\n",
    "              'wind_offshore': '#6895dd',\n",
    "              'solar': '#f9d002',\n",
    "              'PHS': '#08ad97',\n",
    "              'hydro': '#08ad97',\n",
    "              'ror': '#4adbc8',\n",
    "              'load': '#ea048a',\n",
    "              'other_renewable':'#08ad97'}\n",
    "\n",
    "    generation = generation.loc[start:end]\n",
    "    Carbon_intensitiy = Carbon_intensitiy.loc[start:end]\n",
    "    Carbon_intensitiy_mean = Carbon_intensitiy_mean.loc[start:end]\n",
    "\n",
    "\n",
    "\n",
    "    #order of col\n",
    "    tech = ['biomass', 'nuclear','lignite', 'hard_coal','geothermal', 'hydro', 'gas','waste', 'oil', 'other_fossil', 'other_renewable', 'solar',  'wind_offshore', 'wind_onshore']\n",
    "    \n",
    "    filter = generation.columns\n",
    "    \n",
    "    cols = [k for k in tech if k in filter]\n",
    "\n",
    "    generation = generation[cols]\n",
    "\n",
    "\n",
    "\n",
    "    fig,ax = plt.subplots(1,1)\n",
    "\n",
    "    fig.set_size_inches(16,6)\n",
    "\n",
    "    generation.plot(kind=\"area\",\n",
    "                        ax=ax,\n",
    "                        linewidth=0,\n",
    "                        color=[colors[col] for col in generation.columns],\n",
    "                        alpha=0.7)\n",
    "\n",
    "\n",
    "\n",
    "    ax.set_ylabel(\"Production [MW]\", fontsize=14)\n",
    "    ax.set_xlabel(\"Date\", fontsize=14)\n",
    "    #ax.legend(loc='center left', bbox_to_anchor=(1.08, 0.5))\n",
    "    ax.grid(False)\n",
    "    \n",
    "    ax2 = fig.add_axes() # This is the magic that joins the x-axis\n",
    "    ax2 = ax.twinx()\n",
    "\n",
    "    #ax3 = ax.twinx()\n",
    "    \n",
    "    Carbon_intensitiy.plot(ax=ax2, secondary_y=True, legend=False, color=\"k\")\n",
    "    Carbon_intensitiy_mean.plot(ax=ax2, secondary_y=True, legend=False, color=\"k\", linestyle='--')    \n",
    "    \n",
    "        \n",
    "    handles = [Line2D([0], [0], color='k', lw=2),\n",
    "               Line2D([0], [0], color='k', linestyle='--', lw=2)\n",
    "               ]\n",
    "    \n",
    "    labels = [str(countries)+ ' technology specific',str(countries) + ' country specific']\n",
    "    \n",
    "    l2 = ax2.legend(handles, labels,  loc='upper left', bbox_to_anchor=(1.10, 0.90),\n",
    "                   handletextpad=0., columnspacing=0.5, ncol=1,\n",
    "                   title='CO2 Signals', fontsize=14, frameon=True)\n",
    "    \n",
    "    handles = []\n",
    "    labels = []\n",
    "    \n",
    "    for t in generation.columns:\n",
    "        handles.append(plt.Line2D([0], [0], color=colors[t], marker='o', markersize=8, linewidth=0))\n",
    "        labels.append(t)\n",
    "        \n",
    "    l3 = ax.legend(handles, labels,  bbox_to_anchor=(1.10, 0.7),\n",
    "                   handletextpad=0., columnspacing=0.5, ncol=2,\n",
    "                   title='Technology Types', fontsize=14, frameon=True, framealpha=0.6) #loc=\"upper right\", \n",
    "    \n",
    "    \n",
    "\n",
    "\n",
    "    ax2.right_ax.set_ylabel(\"Emission intensity [g CO2 / kWh]\", fontsize=14)\n",
    "\n",
    "    plt.tight_layout()\n",
    "    plt.show()\n",
    "    \n",
    "    return fig"
   ]
  },
  {
   "cell_type": "code",
   "execution_count": 110,
   "metadata": {},
   "outputs": [
    {
     "name": "stderr",
     "output_type": "stream",
     "text": [
      "C:\\Users\\Freddy\\.conda\\envs\\Lecture\\lib\\site-packages\\ipykernel_launcher.py:66: MatplotlibDeprecationWarning: Calling add_axes() without argument is deprecated since 3.3 and will be removed two minor releases later. You may want to use add_subplot() instead.\n"
     ]
    },
    {
     "data": {
      "image/png": "[encoded data removed]",
      "text/plain": [
       "<Figure size 1152x432 with 3 Axes>"
      ]
     },
     "metadata": {},
     "output_type": "display_data"
    }
   ],
   "source": [
    "start = datetime.date(2018, 12, 4)\n",
    "end = datetime.date(2018, 12, 24)\n",
    "\n",
    "fig = plot_production_profile_2(entsoe_gen_type, Carbon_intensitiy_entsoe_gen_type, Carbon_intensitiy_entsoe_gen_type_mean, 'DE', start, end)"
   ]
  },
  {
   "cell_type": "code",
   "execution_count": null,
   "metadata": {},
   "outputs": [],
   "source": [
    "fig.savefig(os.path.join(output_directory_path + '/CO2_signal_example_DE.png'))"
   ]
  },
  {
   "cell_type": "code",
   "execution_count": null,
   "metadata": {},
   "outputs": [],
   "source": [
    "start = datetime.date(2018, 12, 4)\n",
    "end = datetime.date(2018, 12, 24)\n",
    "\n",
    "fig = plot_production_profile_2(entsoe_gen_type, Carbon_intensitiy_entsoe_gen_type, Carbon_intensitiy_entsoe_gen_type_mean, 'PL', start, end)"
   ]
  },
  {
   "cell_type": "code",
   "execution_count": null,
   "metadata": {},
   "outputs": [],
   "source": [
    "fig.savefig(os.path.join(output_directory_path + '/CO2_signal_example_PL.png'))"
   ]
  },
  {
   "cell_type": "code",
   "execution_count": null,
   "metadata": {},
   "outputs": [],
   "source": [
    "start = datetime.date(2018, 12, 4)\n",
    "end = datetime.date(2018, 12, 24)\n",
    "\n",
    "fig = plot_production_profile_2(entsoe_gen_type, Carbon_intensitiy_entsoe_gen_type, Carbon_intensitiy_entsoe_gen_type_mean, 'SK', start, end)"
   ]
  },
  {
   "cell_type": "code",
   "execution_count": null,
   "metadata": {},
   "outputs": [],
   "source": [
    "start = datetime.date(2018, 12, 4)\n",
    "end = datetime.date(2018, 12, 24)\n",
    "\n",
    "fig = plot_production_profile_2(entsoe_gen_type, Carbon_intensitiy_entsoe_gen_type, Carbon_intensitiy_entsoe_gen_type_mean, 'DK', start, end)"
   ]
  },
  {
   "cell_type": "markdown",
   "metadata": {},
   "source": [
    "### CO2 Duration Curves"
   ]
  },
  {
   "cell_type": "code",
   "execution_count": null,
   "metadata": {},
   "outputs": [],
   "source": [
    "countries = Carbon_intensitiy_entsoe_gen_type[EF.index.levels[0]].columns"
   ]
  },
  {
   "cell_type": "code",
   "execution_count": null,
   "metadata": {},
   "outputs": [],
   "source": [
    "Carbon_intensitiy_entsoe_gen_type"
   ]
  },
  {
   "cell_type": "markdown",
   "metadata": {},
   "source": [
    "#### One Figure"
   ]
  },
  {
   "cell_type": "code",
   "execution_count": null,
   "metadata": {},
   "outputs": [],
   "source": [
    "fig, ax = plt.subplots()\n",
    "\n",
    "for i in countries:    \n",
    "    ax.plot(range(0,8760), Carbon_intensitiy_entsoe_gen_type[i].sort_values(ascending=False), label = 'CO2 Duration curve')\n",
    "\n",
    "\n",
    "    \n",
    "ax.legend(countries ,loc='upper right')\n",
    "ax.set_xlabel('hour')\n",
    "ax.set_ylabel('g CO2 / kWh')\n",
    "plt.title('CO2 Duration curve')\n",
    "plt.show()"
   ]
  },
  {
   "cell_type": "markdown",
   "metadata": {},
   "source": [
    "#### Multi sub Figures"
   ]
  },
  {
   "cell_type": "code",
   "execution_count": null,
   "metadata": {},
   "outputs": [],
   "source": [
    "n_graphs = len(Carbon_intensitiy_entsoe_gen_type[EF.index.levels[0]].columns)\n",
    "n_cols = 4\n",
    "    \n",
    "if n_graphs % n_cols == 0:\n",
    "    n_rows = n_graphs // n_cols\n",
    "else:\n",
    "    n_rows = n_graphs // n_cols + 1\n",
    "    \n",
    "    \n",
    "fig, axes = plt.subplots(nrows=n_rows, ncols=n_cols)\n",
    "\n",
    "#fig.delaxes(axes[3][4])\n",
    "\n",
    "size = 2.5\n",
    "\n",
    "fig.set_size_inches(size*n_cols,size*n_rows)\n",
    "    \n",
    "    \n",
    "for i, country in enumerate(Carbon_intensitiy_entsoe_gen_type[EF.index.levels[0]].columns):\n",
    "    i_row = i // n_cols\n",
    "    i_col = i % n_cols\n",
    "        \n",
    "    ax = axes[i_row,i_col]\n",
    "        \n",
    "    ax.plot(range(0,8760), Carbon_intensitiy_entsoe_gen_type[country].sort_values(ascending=False))\n",
    "    ax.plot(range(0,8760), ([mean_Carbon_intensitiy_entsoe_gen_type[country]]*8760))\n",
    "    \n",
    "    ax.set_title(country, fontsize=12)\n",
    "    ax.set_xlim(0,8760)\n",
    "    ax.set_ylim(0,1000)\n",
    "    \n",
    "    ax.set_xticks([0,4380,8760])\n",
    "        \n",
    "    ax.set_xlabel(\"Hour of the year\", fontsize=12)\n",
    "    ax.set_ylabel(\"Emissions [g CO2/kWh]\", fontsize=12)\n",
    "    ax.set_aspect(8.760)\n",
    "    fig.tight_layout()\n",
    "\n",
    "handles = [Line2D([0], [0], color='C0', lw=2),\n",
    "           Line2D([0], [0], color='C1', lw=2)\n",
    "           ]\n",
    "    \n",
    "labels = ['Technology specific EF','Country specific EF']\n",
    "    \n",
    "l2 = ax.legend(handles, labels,  loc='upper left', bbox_to_anchor=(1.10, 6.70),\n",
    "                   handletextpad=0., columnspacing=0.5, ncol=1,\n",
    "                   title='CO2 Duration Curves', fontsize=12, title_fontsize= 14, frameon=True)\n",
    "\n"
   ]
  },
  {
   "cell_type": "code",
   "execution_count": null,
   "metadata": {},
   "outputs": [],
   "source": [
    "fig.savefig(os.path.join(output_directory_path + '/CO2_duration_curve.png'),bbox_extra_artists=(l2,), bbox_inches='tight')"
   ]
  },
  {
   "cell_type": "markdown",
   "metadata": {},
   "source": [
    "### Carbon Intensity Heat Map "
   ]
  },
  {
   "cell_type": "code",
   "execution_count": null,
   "metadata": {},
   "outputs": [],
   "source": [
    "# all countries\n",
    "sns.heatmap(Carbon_intensitiy_entsoe_gen_type[countries].transpose(), cmap=sns.cubehelix_palette(start=2, rot=0, dark=0, light=.75, reverse=False, as_cmap=True))"
   ]
  },
  {
   "cell_type": "code",
   "execution_count": null,
   "metadata": {},
   "outputs": [],
   "source": [
    "# use Germany as an aingle country example\n",
    "df = Carbon_intensitiy_entsoe_gen_type['DE'].to_frame().copy()"
   ]
  },
  {
   "cell_type": "code",
   "execution_count": null,
   "metadata": {},
   "outputs": [],
   "source": [
    "df.head()"
   ]
  },
  {
   "cell_type": "code",
   "execution_count": null,
   "metadata": {},
   "outputs": [],
   "source": [
    "# def names for the heat map\n",
    "df['month'] = df.index.month_name()\n",
    "df['day'] = df.index.day_name()\n",
    "df['hour']=df.index.hour\n",
    "df['date']=df.index.date\n",
    "df.head()"
   ]
  },
  {
   "cell_type": "code",
   "execution_count": null,
   "metadata": {},
   "outputs": [],
   "source": [
    "# group the values\n",
    "df1 = df.groupby(['month', 'hour'],sort=False).agg(['mean'])\n",
    "df1.columns=df1.columns.droplevel(0)\n",
    "df1.reset_index(inplace=True)\n",
    "df1.head()"
   ]
  },
  {
   "cell_type": "code",
   "execution_count": null,
   "metadata": {},
   "outputs": [],
   "source": [
    "# pandas pivot with multiple variables\n",
    "heatmap_data = pd.pivot_table(df1, values='mean', index=['month'], columns='hour')\n",
    "# print to see few rows and columns\n",
    "print(heatmap_data.iloc[0:3, 0:3])"
   ]
  },
  {
   "cell_type": "code",
   "execution_count": null,
   "metadata": {},
   "outputs": [],
   "source": [
    "months=df1.month.unique().tolist()\n",
    "print(months)"
   ]
  },
  {
   "cell_type": "code",
   "execution_count": null,
   "metadata": {},
   "outputs": [],
   "source": [
    "heatmap_data=heatmap_data.loc[months]"
   ]
  },
  {
   "cell_type": "code",
   "execution_count": null,
   "metadata": {},
   "outputs": [],
   "source": [
    "sns.heatmap(heatmap_data,cmap=\"coolwarm\")\n",
    "plt.xlabel(\"Hour\", size=14)\n",
    "plt.ylabel(\"Month\", size=14)\n",
    "plt.title(\"Germany Mean CO2 Intensity\", size=14)\n",
    "plt.tight_layout()"
   ]
  },
  {
   "cell_type": "markdown",
   "metadata": {},
   "source": [
    "# ENTSO-E Statistical Factsheet 2018 in Comma Separated Value (CSV) format"
   ]
  },
  {
   "cell_type": "code",
   "execution_count": null,
   "metadata": {},
   "outputs": [],
   "source": [
    "def convert_ENTSOE_to_INATECH_type(ProductionTypeName):\n",
    "    \"\"\"\n",
    "    Converts ENTSO-E Factsheet source names into INATECH technology type names.\n",
    "\n",
    "    Parameters\n",
    "    ----------\n",
    "    ProductionTypeName : string\n",
    "        ENTSO-E name of production type.\n",
    "\n",
    "    Returns\n",
    "    -------\n",
    "    string\n",
    "        INATECH names of production type.\n",
    "\n",
    "    \"\"\"\n",
    "    \n",
    "    return ProductionTypeName.replace({\n",
    "            'Nuclear': 'nuclear',\n",
    "            'Fossil Brown coal / Lignite': 'lignite',\n",
    "            'Fossil Coal-derived gas': 'other_fossil',\n",
    "            'Fossil Gas': 'gas',\n",
    "            'Fossil Hard coal': 'hard_coal',\n",
    "            'Fossil Oil': 'other_fossil',\n",
    "            'Fossil Oil shale': 'other_fossil',\n",
    "            'Fossil Peat': 'other_fossil',\n",
    "            'Mixed fuels': 'other_fossil',\n",
    "            'Other fossil fuels': 'other_fossil',\n",
    "            'Hydro pure pumped storage': 'hydro',\n",
    "            'Hydro mixed pumped storage ( non renewable part )': 'hydro',\n",
    "            'Waste ( non renewable part )': 'other_fossil',\n",
    "            'Other non-renewable': 'other_fossil',\n",
    "            'Wind offshore': 'wind_offshore',\n",
    "            'Wind onshore': 'wind_onshore',\n",
    "            'Solar PV': 'solar',\n",
    "            'Solar Thermal': 'solar',\n",
    "            'Biomass': 'biomass',\n",
    "            'Biogas': 'biomass',\n",
    "            'Geothermal': 'other_renewable',\n",
    "            'Renewable Waste': 'other_renewable',\n",
    "            'Hydro Pure storage': 'hydro',\n",
    "            'Hydro Run-of-river and pondage': 'hydro',\n",
    "            'Hydro mixed pumped storage ( renewable part )': 'hydro',\n",
    "            'Hydro Marine ( tidal / wave )': 'other_renewable',\n",
    "            'Other renewable': 'other_renewable'}, inplace=False)"
   ]
  },
  {
   "cell_type": "code",
   "execution_count": null,
   "metadata": {},
   "outputs": [],
   "source": [
    "FACT = pd.read_csv(input_directory_path + '/entsoe-statistical-factsheet-2018-stacked.csv', index_col=[1], header=[0], parse_dates=True)\n",
    "\n",
    "FACT.drop(['capacity_MW'], axis=1, inplace=True)\n",
    "\n",
    "# set filter and apply filter to datat\n",
    "filter = ['Fossil fuels','Total NGC','Renewable net generation','Non renewable net generation','Not identified']\n",
    "    \n",
    "FACT.query('source not in @filter', inplace=True)\n",
    "\n",
    "FACT.source.replace({'Of which ':''}, regex=True, inplace=True)\n",
    "\n",
    "# change ProductionTypeNames into INATECH technology type names\n",
    "FACT.source = convert_ENTSOE_to_INATECH_type(FACT.source)"
   ]
  },
  {
   "cell_type": "code",
   "execution_count": null,
   "metadata": {},
   "outputs": [],
   "source": [
    "# reset index for groupby function\n",
    "FACT.reset_index(inplace=True)\n",
    "# group same production types\n",
    "FACT = FACT.groupby(['source', 'year','country']).sum()\n",
    "# set the old index for the dataframe\n",
    "FACT = FACT.reset_index().set_index('year')"
   ]
  },
  {
   "cell_type": "code",
   "execution_count": null,
   "metadata": {},
   "outputs": [],
   "source": [
    "# convert to MWh\n",
    "FACT['generation_TWh'] = FACT['generation_TWh'] * 1000000"
   ]
  },
  {
   "cell_type": "code",
   "execution_count": null,
   "metadata": {},
   "outputs": [],
   "source": [
    "FACT.rename(columns={'generation_TWh':'generation'}, inplace=True)"
   ]
  },
  {
   "cell_type": "code",
   "execution_count": null,
   "metadata": {},
   "outputs": [],
   "source": [
    "FACT"
   ]
  },
  {
   "cell_type": "code",
   "execution_count": null,
   "metadata": {},
   "outputs": [],
   "source": [
    "FACT =  pd.pivot_table(FACT, values='generation', index=FACT.index, columns=['country','source'])"
   ]
  },
  {
   "cell_type": "code",
   "execution_count": null,
   "metadata": {},
   "outputs": [],
   "source": [
    "# Create a dataframe with the EF for each country and technology. If no specific EF is available, we use the default EF .\n",
    "EF_multi = {}\n",
    "\n",
    "for i in FACT.columns:\n",
    "    if i in EF:\n",
    "        EF_multi[i] = EF[i]\n",
    "    elif i[1] in EF_mean:\n",
    "        EF_multi[i] = EF_mean[i[1]]\n",
    "    else:\n",
    "        EF_multi[i] = EF_default[i[1]]"
   ]
  },
  {
   "cell_type": "code",
   "execution_count": null,
   "metadata": {},
   "outputs": [],
   "source": []
  },
  {
   "cell_type": "code",
   "execution_count": null,
   "metadata": {},
   "outputs": [],
   "source": [
    "# calculate emissions based on EF and generation per type\n",
    "CO2_emission_FACT = FACT * EF_multi"
   ]
  },
  {
   "cell_type": "code",
   "execution_count": null,
   "metadata": {},
   "outputs": [],
   "source": [
    "# From the previously calculated emissions, an emission signal (g CO2 / kWh) can now be calculated for each country.\n",
    "# Since emissions and generation are available per technology, they must first be grouped and summed. \n",
    "CO2_emission_FACT = (CO2_emission_FACT * 1000000).groupby(level=0, axis=1).sum()\n",
    "Generation_FACT = (FACT * 1000).groupby(level=0, axis=1).sum()\n",
    "\n",
    "Carbon_intensitiy_FACT = CO2_emission_FACT.div(Generation_FACT)"
   ]
  },
  {
   "cell_type": "code",
   "execution_count": null,
   "metadata": {},
   "outputs": [],
   "source": [
    "\n",
    "\n",
    "mean_Carbon_intensitiy_FACT = CO2_emission_FACT.loc['2018'].sum() / Generation_FACT.loc['2018'].sum()"
   ]
  },
  {
   "cell_type": "code",
   "execution_count": null,
   "metadata": {},
   "outputs": [],
   "source": [
    "mean_Carbon_intensitiy_FACT"
   ]
  },
  {
   "cell_type": "markdown",
   "metadata": {},
   "source": [
    "# ENTSO-E Power Stats generation per technology CO2 Signal"
   ]
  },
  {
   "cell_type": "code",
   "execution_count": null,
   "metadata": {},
   "outputs": [],
   "source": [
    "MDV = pd.read_csv(input_directory_path + '/MDV_table.csv', index_col=[0], header=[0, 1], parse_dates=True)"
   ]
  },
  {
   "cell_type": "code",
   "execution_count": null,
   "metadata": {},
   "outputs": [],
   "source": [
    "MDV.loc['2018'].head(5)"
   ]
  },
  {
   "cell_type": "code",
   "execution_count": null,
   "metadata": {},
   "outputs": [],
   "source": [
    "# convert to MWh\n",
    "MDV = MDV * 1000"
   ]
  },
  {
   "cell_type": "code",
   "execution_count": null,
   "metadata": {},
   "outputs": [],
   "source": [
    "# Create a dataframe with the EF for each country and technology. If no specific EF is available, we use the default EF .\n",
    "EF_multi = {}\n",
    "\n",
    "for i in MDV.columns:\n",
    "    if i in EF:\n",
    "        EF_multi[i] = EF[i]\n",
    "    elif i[1] in EF_mean:\n",
    "        EF_multi[i] = EF_mean[i[1]]\n",
    "    else:\n",
    "        EF_multi[i] = EF_default[i[1]]"
   ]
  },
  {
   "cell_type": "code",
   "execution_count": null,
   "metadata": {},
   "outputs": [],
   "source": [
    "# calculate emissions based on EF and generation per type\n",
    "CO2_emission_MDV = MDV * EF_multi"
   ]
  },
  {
   "cell_type": "code",
   "execution_count": null,
   "metadata": {},
   "outputs": [],
   "source": [
    "# From the previously calculated emissions, an emission signal (g CO2 / kWh) can now be calculated for each country.\n",
    "# Since emissions and generation are available per technology, they must first be grouped and summed. \n",
    "CO2_emission_MDV = (CO2_emission_MDV * 1000000).groupby(level=0, axis=1).sum()\n",
    "Generation_MDV = (MDV * 1000).groupby(level=0, axis=1).sum()\n",
    "\n",
    "Carbon_intensitiy_MDV = CO2_emission_MDV.div(Generation_MDV)"
   ]
  },
  {
   "cell_type": "code",
   "execution_count": null,
   "metadata": {},
   "outputs": [],
   "source": [
    "#take only year 2018\n",
    "Carbon_intensitiy_MDV = Carbon_intensitiy_MDV.loc['2018']"
   ]
  },
  {
   "cell_type": "code",
   "execution_count": null,
   "metadata": {},
   "outputs": [],
   "source": [
    "\n",
    "\n",
    "mean_Carbon_intensitiy_MDV = CO2_emission_MDV.loc['2018'].sum() / Generation_MDV.loc['2018'].sum()"
   ]
  },
  {
   "cell_type": "code",
   "execution_count": null,
   "metadata": {},
   "outputs": [],
   "source": [
    "MDV['DE'].sum().sum()"
   ]
  },
  {
   "cell_type": "code",
   "execution_count": null,
   "metadata": {},
   "outputs": [],
   "source": [
    "CI_top_down"
   ]
  },
  {
   "cell_type": "markdown",
   "metadata": {},
   "source": [
    "# Compair Bottom Up and Top down"
   ]
  },
  {
   "cell_type": "code",
   "execution_count": 100,
   "metadata": {},
   "outputs": [],
   "source": [
    "CI_top_down = pd.read_csv(os.path.join(processed_directory_path,'CI_top_down_methode.csv'), index_col=0)\n",
    "#CI_top_down.rename(columns={'UK':'GB'}, inplace = True)"
   ]
  },
  {
   "cell_type": "code",
   "execution_count": 101,
   "metadata": {},
   "outputs": [],
   "source": [
    "CI_compar = pd.DataFrame()\n",
    "CI_compar.index.rename('country',inplace=True)"
   ]
  },
  {
   "cell_type": "code",
   "execution_count": 102,
   "metadata": {},
   "outputs": [
    {
     "data": {
      "text/plain": [
       "Index([], dtype='object', name='country')"
      ]
     },
     "execution_count": 102,
     "metadata": {},
     "output_type": "execute_result"
    }
   ],
   "source": [
    "CI_compar.index"
   ]
  },
  {
   "cell_type": "code",
   "execution_count": 103,
   "metadata": {},
   "outputs": [],
   "source": [
    "CI_compar['CI_top_down_ref'] = CI_top_down.loc[2018].filter(mean_Carbon_intensitiy_entsoe_gen_type.index.to_list())"
   ]
  },
  {
   "cell_type": "code",
   "execution_count": 104,
   "metadata": {},
   "outputs": [],
   "source": [
    "CI_compar['CI_bottom_up'] = mean_Carbon_intensitiy_entsoe_gen_type.filter(CI_compar.index.to_list())\n",
    "CI_compar['diff_bottom_up'] =CI_compar['CI_bottom_up'] -  CI_compar['CI_top_down_ref']\n",
    "CI_compar['diff_bottom_up_pro'] = round((100 / CI_compar['CI_top_down_ref']) * CI_compar['diff_bottom_up'])"
   ]
  },
  {
   "cell_type": "code",
   "execution_count": 107,
   "metadata": {},
   "outputs": [
    {
     "data": {
      "text/html": [
       "<div>\n",
       "<style scoped>\n",
       "    .dataframe tbody tr th:only-of-type {\n",
       "        vertical-align: middle;\n",
       "    }\n",
       "\n",
       "    .dataframe tbody tr th {\n",
       "        vertical-align: top;\n",
       "    }\n",
       "\n",
       "    .dataframe thead th {\n",
       "        text-align: right;\n",
       "    }\n",
       "</style>\n",
       "<table border=\"1\" class=\"dataframe\">\n",
       "  <thead>\n",
       "    <tr style=\"text-align: right;\">\n",
       "      <th></th>\n",
       "      <th>CI_top_down_ref</th>\n",
       "      <th>CI_bottom_up</th>\n",
       "      <th>diff_bottom_up</th>\n",
       "      <th>diff_bottom_up_pro</th>\n",
       "    </tr>\n",
       "    <tr>\n",
       "      <th>country</th>\n",
       "      <th></th>\n",
       "      <th></th>\n",
       "      <th></th>\n",
       "      <th></th>\n",
       "    </tr>\n",
       "  </thead>\n",
       "  <tbody>\n",
       "    <tr>\n",
       "      <th>AT</th>\n",
       "      <td>100.120593</td>\n",
       "      <td>130.479772</td>\n",
       "      <td>30.359179</td>\n",
       "      <td>30.0</td>\n",
       "    </tr>\n",
       "    <tr>\n",
       "      <th>BE</th>\n",
       "      <td>205.448187</td>\n",
       "      <td>166.077565</td>\n",
       "      <td>-39.370622</td>\n",
       "      <td>-19.0</td>\n",
       "    </tr>\n",
       "    <tr>\n",
       "      <th>BG</th>\n",
       "      <td>422.058675</td>\n",
       "      <td>497.366275</td>\n",
       "      <td>75.307600</td>\n",
       "      <td>18.0</td>\n",
       "    </tr>\n",
       "    <tr>\n",
       "      <th>CY</th>\n",
       "      <td>661.739128</td>\n",
       "      <td>480.000000</td>\n",
       "      <td>-181.739128</td>\n",
       "      <td>-27.0</td>\n",
       "    </tr>\n",
       "    <tr>\n",
       "      <th>CZ</th>\n",
       "      <td>442.564283</td>\n",
       "      <td>571.954593</td>\n",
       "      <td>129.390310</td>\n",
       "      <td>29.0</td>\n",
       "    </tr>\n",
       "    <tr>\n",
       "      <th>DE</th>\n",
       "      <td>398.932178</td>\n",
       "      <td>460.222653</td>\n",
       "      <td>61.290475</td>\n",
       "      <td>15.0</td>\n",
       "    </tr>\n",
       "    <tr>\n",
       "      <th>DK</th>\n",
       "      <td>185.037765</td>\n",
       "      <td>276.517449</td>\n",
       "      <td>91.479684</td>\n",
       "      <td>49.0</td>\n",
       "    </tr>\n",
       "    <tr>\n",
       "      <th>EE</th>\n",
       "      <td>895.026279</td>\n",
       "      <td>431.372549</td>\n",
       "      <td>-463.653730</td>\n",
       "      <td>-52.0</td>\n",
       "    </tr>\n",
       "    <tr>\n",
       "      <th>ES</th>\n",
       "      <td>273.631418</td>\n",
       "      <td>277.407882</td>\n",
       "      <td>3.776464</td>\n",
       "      <td>1.0</td>\n",
       "    </tr>\n",
       "    <tr>\n",
       "      <th>FI</th>\n",
       "      <td>109.512261</td>\n",
       "      <td>138.914683</td>\n",
       "      <td>29.402421</td>\n",
       "      <td>27.0</td>\n",
       "    </tr>\n",
       "    <tr>\n",
       "      <th>FR</th>\n",
       "      <td>53.160315</td>\n",
       "      <td>39.091420</td>\n",
       "      <td>-14.068895</td>\n",
       "      <td>-26.0</td>\n",
       "    </tr>\n",
       "    <tr>\n",
       "      <th>GB</th>\n",
       "      <td>247.425506</td>\n",
       "      <td>254.105853</td>\n",
       "      <td>6.680347</td>\n",
       "      <td>3.0</td>\n",
       "    </tr>\n",
       "    <tr>\n",
       "      <th>GR</th>\n",
       "      <td>649.699921</td>\n",
       "      <td>628.541432</td>\n",
       "      <td>-21.158489</td>\n",
       "      <td>-3.0</td>\n",
       "    </tr>\n",
       "    <tr>\n",
       "      <th>HU</th>\n",
       "      <td>249.157700</td>\n",
       "      <td>277.755102</td>\n",
       "      <td>28.597402</td>\n",
       "      <td>11.0</td>\n",
       "    </tr>\n",
       "    <tr>\n",
       "      <th>IE</th>\n",
       "      <td>347.349256</td>\n",
       "      <td>338.493656</td>\n",
       "      <td>-8.855600</td>\n",
       "      <td>-3.0</td>\n",
       "    </tr>\n",
       "    <tr>\n",
       "      <th>IT</th>\n",
       "      <td>246.669624</td>\n",
       "      <td>317.751457</td>\n",
       "      <td>71.081832</td>\n",
       "      <td>29.0</td>\n",
       "    </tr>\n",
       "    <tr>\n",
       "      <th>LT</th>\n",
       "      <td>61.303802</td>\n",
       "      <td>106.451613</td>\n",
       "      <td>45.147811</td>\n",
       "      <td>74.0</td>\n",
       "    </tr>\n",
       "    <tr>\n",
       "      <th>LV</th>\n",
       "      <td>134.958764</td>\n",
       "      <td>211.794872</td>\n",
       "      <td>76.836108</td>\n",
       "      <td>57.0</td>\n",
       "    </tr>\n",
       "    <tr>\n",
       "      <th>NL</th>\n",
       "      <td>437.600310</td>\n",
       "      <td>434.039975</td>\n",
       "      <td>-3.560335</td>\n",
       "      <td>-1.0</td>\n",
       "    </tr>\n",
       "    <tr>\n",
       "      <th>NO</th>\n",
       "      <td>18.523399</td>\n",
       "      <td>9.589673</td>\n",
       "      <td>-8.933727</td>\n",
       "      <td>-48.0</td>\n",
       "    </tr>\n",
       "    <tr>\n",
       "      <th>PL</th>\n",
       "      <td>785.138073</td>\n",
       "      <td>851.616252</td>\n",
       "      <td>66.478178</td>\n",
       "      <td>8.0</td>\n",
       "    </tr>\n",
       "    <tr>\n",
       "      <th>PT</th>\n",
       "      <td>306.449054</td>\n",
       "      <td>309.742754</td>\n",
       "      <td>3.293699</td>\n",
       "      <td>1.0</td>\n",
       "    </tr>\n",
       "    <tr>\n",
       "      <th>RO</th>\n",
       "      <td>290.405662</td>\n",
       "      <td>336.832261</td>\n",
       "      <td>46.426598</td>\n",
       "      <td>16.0</td>\n",
       "    </tr>\n",
       "    <tr>\n",
       "      <th>SE</th>\n",
       "      <td>12.719717</td>\n",
       "      <td>8.904110</td>\n",
       "      <td>-3.815608</td>\n",
       "      <td>-30.0</td>\n",
       "    </tr>\n",
       "    <tr>\n",
       "      <th>SI</th>\n",
       "      <td>246.126960</td>\n",
       "      <td>329.238095</td>\n",
       "      <td>83.111136</td>\n",
       "      <td>34.0</td>\n",
       "    </tr>\n",
       "    <tr>\n",
       "      <th>SK</th>\n",
       "      <td>136.057979</td>\n",
       "      <td>157.755429</td>\n",
       "      <td>21.697450</td>\n",
       "      <td>16.0</td>\n",
       "    </tr>\n",
       "  </tbody>\n",
       "</table>\n",
       "</div>"
      ],
      "text/plain": [
       "         CI_top_down_ref  CI_bottom_up  diff_bottom_up  diff_bottom_up_pro\n",
       "country                                                                   \n",
       "AT            100.120593    130.479772       30.359179                30.0\n",
       "BE            205.448187    166.077565      -39.370622               -19.0\n",
       "BG            422.058675    497.366275       75.307600                18.0\n",
       "CY            661.739128    480.000000     -181.739128               -27.0\n",
       "CZ            442.564283    571.954593      129.390310                29.0\n",
       "DE            398.932178    460.222653       61.290475                15.0\n",
       "DK            185.037765    276.517449       91.479684                49.0\n",
       "EE            895.026279    431.372549     -463.653730               -52.0\n",
       "ES            273.631418    277.407882        3.776464                 1.0\n",
       "FI            109.512261    138.914683       29.402421                27.0\n",
       "FR             53.160315     39.091420      -14.068895               -26.0\n",
       "GB            247.425506    254.105853        6.680347                 3.0\n",
       "GR            649.699921    628.541432      -21.158489                -3.0\n",
       "HU            249.157700    277.755102       28.597402                11.0\n",
       "IE            347.349256    338.493656       -8.855600                -3.0\n",
       "IT            246.669624    317.751457       71.081832                29.0\n",
       "LT             61.303802    106.451613       45.147811                74.0\n",
       "LV            134.958764    211.794872       76.836108                57.0\n",
       "NL            437.600310    434.039975       -3.560335                -1.0\n",
       "NO             18.523399      9.589673       -8.933727               -48.0\n",
       "PL            785.138073    851.616252       66.478178                 8.0\n",
       "PT            306.449054    309.742754        3.293699                 1.0\n",
       "RO            290.405662    336.832261       46.426598                16.0\n",
       "SE             12.719717      8.904110       -3.815608               -30.0\n",
       "SI            246.126960    329.238095       83.111136                34.0\n",
       "SK            136.057979    157.755429       21.697450                16.0"
      ]
     },
     "execution_count": 107,
     "metadata": {},
     "output_type": "execute_result"
    }
   ],
   "source": [
    "CI_compar"
   ]
  },
  {
   "cell_type": "code",
   "execution_count": null,
   "metadata": {},
   "outputs": [],
   "source": [
    "\n",
    "\n",
    "\n",
    "CI_compar['CI_MDV'] = mean_Carbon_intensitiy_MDV\n",
    "CI_compar['CI_FACT'] = mean_Carbon_intensitiy_FACT\n",
    "\n",
    "CI_compar['diff_MDV'] =CI_compar['CI_MDV'] -  CI_compar['CI_top_down_ref']\n",
    "CI_compar['diff_FACT'] =CI_compar['CI_FACT'] -  CI_compar['CI_top_down_ref']\n",
    "\n",
    "\n",
    "CI_compar['diff_MDV_pro'] = round((100 / CI_compar['CI_top_down_ref']) * CI_compar['diff_MDV'])\n",
    "\n",
    "CI_compar['diff_FACT_pro'] = round((100 / CI_compar['CI_top_down_ref']) * CI_compar['diff_FACT'])\n"
   ]
  },
  {
   "cell_type": "code",
   "execution_count": null,
   "metadata": {},
   "outputs": [],
   "source": [
    "entsoe_gen_type['SE'].sum()/1000"
   ]
  },
  {
   "cell_type": "code",
   "execution_count": null,
   "metadata": {},
   "outputs": [],
   "source": [
    "mean_Carbon_intensitiy_entsoe_gen_type['SE'].sum()/1000"
   ]
  },
  {
   "cell_type": "code",
   "execution_count": null,
   "metadata": {},
   "outputs": [],
   "source": [
    "CI_compar\n",
    "#gründe warum CI_bottom up zu hoch\n",
    "# DK wärme wird dort viel von Kraftwerken genutzt\n",
    "# EE hat ganz viel other fossil (wir haben keine EF ausgerechnet)\n",
    "# LT\n",
    "# LV\n",
    "# NO"
   ]
  },
  {
   "cell_type": "markdown",
   "metadata": {},
   "source": [
    "Information about the data shown. The reference value shown here is not an official value, but can be used as a reference, since it is based on a documented and freely available method. "
   ]
  },
  {
   "cell_type": "code",
   "execution_count": null,
   "metadata": {},
   "outputs": [],
   "source": [
    "energy_comp = pd.DataFrame()\n",
    "\n",
    "energy_comp['MDV'] = MDV['2018'].sum()"
   ]
  },
  {
   "cell_type": "code",
   "execution_count": null,
   "metadata": {},
   "outputs": [],
   "source": [
    "energy_comp['entsoe'] = entsoe_gen_type.sum()"
   ]
  },
  {
   "cell_type": "code",
   "execution_count": null,
   "metadata": {},
   "outputs": [],
   "source": [
    "energy_comp['diff'] = energy_comp['MDV'] - energy_comp['entsoe']\n",
    "energy_comp['missing_pro'] = round((100 / energy_comp['MDV']) * energy_comp['diff'])"
   ]
  },
  {
   "cell_type": "code",
   "execution_count": null,
   "metadata": {},
   "outputs": [],
   "source": [
    "energy_comp.loc['DE']"
   ]
  },
  {
   "cell_type": "code",
   "execution_count": null,
   "metadata": {},
   "outputs": [],
   "source": [
    "ember_CF = pd.read_csv(os.path.join(input_directory_path,'ember_EF.csv'))"
   ]
  },
  {
   "cell_type": "markdown",
   "metadata": {},
   "source": [
    "# Plotting CI"
   ]
  },
  {
   "cell_type": "code",
   "execution_count": null,
   "metadata": {},
   "outputs": [],
   "source": [
    "world = gpd.read_file(gpd.datasets.get_path('naturalearth_lowres'))"
   ]
  },
  {
   "cell_type": "code",
   "execution_count": null,
   "metadata": {},
   "outputs": [],
   "source": [
    "world[world.name == 'Germany']"
   ]
  },
  {
   "cell_type": "code",
   "execution_count": null,
   "metadata": {},
   "outputs": [],
   "source": [
    "import pycountry\n",
    "\n"
   ]
  },
  {
   "cell_type": "code",
   "execution_count": null,
   "metadata": {},
   "outputs": [],
   "source": [
    "pycountry.countries.search_fuzzy('Norway')"
   ]
  },
  {
   "cell_type": "code",
   "execution_count": null,
   "metadata": {},
   "outputs": [],
   "source": [
    "import numpy as np\n",
    "\n",
    "\n",
    "def do_fuzzy_search(country):\n",
    "    try:\n",
    "        result = pycountry.countries.search_fuzzy(country)\n",
    "        return result[0].alpha_2\n",
    "    except:\n",
    "        return np.nan\n",
    "\n",
    "world[\"country_code\"] = world[\"name\"].apply(lambda country: do_fuzzy_search(country))"
   ]
  },
  {
   "cell_type": "code",
   "execution_count": null,
   "metadata": {},
   "outputs": [],
   "source": [
    "world.set_index('country_code', inplace=True)"
   ]
  },
  {
   "cell_type": "code",
   "execution_count": null,
   "metadata": {},
   "outputs": [],
   "source": []
  },
  {
   "cell_type": "code",
   "execution_count": null,
   "metadata": {},
   "outputs": [],
   "source": [
    "world['CI'] = Carbon_intensitiy_entsoe_gen_type.mean()"
   ]
  },
  {
   "cell_type": "code",
   "execution_count": null,
   "metadata": {},
   "outputs": [],
   "source": [
    "world[world.name == 'France']"
   ]
  },
  {
   "cell_type": "code",
   "execution_count": null,
   "metadata": {},
   "outputs": [],
   "source": [
    "world.plot(column='CI')"
   ]
  },
  {
   "cell_type": "code",
   "execution_count": null,
   "metadata": {},
   "outputs": [],
   "source": [
    "from mpl_toolkits.axes_grid1 import make_axes_locatable\n",
    "\n",
    "fig, ax = plt.subplots(1, 1)\n",
    "\n",
    "fig.suptitle(\"Density difference plot for \" + country, fontsize=16)\n",
    "\n",
    "divider = make_axes_locatable(ax)\n",
    "\n",
    "cax = divider.append_axes(\"right\", size=\"5%\", pad=0.1)\n",
    "\n",
    "world.plot(column='CI',\n",
    "           ax=ax,\n",
    "           cax=cax,\n",
    "           legend=True,\n",
    "           legend_kwds={'label': \"Capacity density diff per NUTS region [MW/km²]\", 'orientation': \"vertical\"},\n",
    "           cmap='Blues',\n",
    "           edgecolor='k')\n",
    "\n",
    "\n",
    "ax.text(0.05, 0.05,'Mean Cap. difference ' + str(round(world.CI.mean())) + ' [MW]',\\\n",
    "        ha='left', va='center', transform=ax.transAxes, fontsize=15, color='white',\\\n",
    "        bbox={'facecolor': 'royalblue', 'alpha': 0.5, 'pad': 5})\n",
    "\n",
    "ax.title.set_text('Density difference plot for capacities in the NUTS regions')\n"
   ]
  },
  {
   "cell_type": "markdown",
   "metadata": {},
   "source": [
    "# Export final CO2 signals"
   ]
  },
  {
   "cell_type": "code",
   "execution_count": null,
   "metadata": {},
   "outputs": [],
   "source": [
    "Carbon_intensitiy_entsoe_gen_type.to_csv(processed_directory_path + '/CI_bottom_up_methode.csv')\n",
    "Carbon_intensitiy_entsoe_gen_type.to_csv(output_directory_path + '/CI_bottom_up_methode.csv')"
   ]
  },
  {
   "cell_type": "markdown",
   "metadata": {},
   "source": [
    "# Plottting "
   ]
  },
  {
   "cell_type": "code",
   "execution_count": null,
   "metadata": {},
   "outputs": [],
   "source": [
    "CI_compar.index"
   ]
  },
  {
   "cell_type": "code",
   "execution_count": null,
   "metadata": {},
   "outputs": [],
   "source": [
    "import numpy as np\n",
    "# Create a dataframe\n",
    "#value1=np.random.uniform(size=20)\n",
    "#value2=value1+np.random.uniform(size=20)/4\n",
    "#df = pd.DataFrame({'group':list(map(chr, range(65, 85))), 'value1':value1 , 'value2':value2 })\n",
    "\n",
    "CI_compar\n",
    "\n",
    "# Reorder it following the values of the first value:\n",
    "ordered_df = CI_compar.sort_values(by='CI_bottom_up')\n",
    "my_range=range(1,len(CI_compar.index)+1)\n",
    " \n",
    "# The vertical plot is made using the hline function\n",
    "# I load the seaborn library only to benefit the nice looking feature\n",
    "import seaborn as sns\n",
    "plt.hlines(y=my_range, xmin=ordered_df['CI_top_down_ref'], xmax=ordered_df['CI_bottom_up'], color='grey', alpha=0.4)\n",
    "plt.scatter(ordered_df['CI_top_down_ref'], my_range, color='skyblue', alpha=1, label='CI_top_down_ref')\n",
    "plt.scatter(ordered_df['CI_bottom_up'], my_range, color='green', alpha=0.4 , label='CI_bottom_up')\n",
    "plt.legend()\n",
    " \n",
    "# Add title and axis names\n",
    "plt.yticks(my_range, ordered_df.index)\n",
    "plt.title(\"Comparison of the CI_top_down_ref and the CI_bottom_up\", loc='left')\n",
    "plt.xlabel('Value of the variables')\n",
    "#plt.ylabel(ordered_df.index)"
   ]
  },
  {
   "cell_type": "code",
   "execution_count": null,
   "metadata": {},
   "outputs": [],
   "source": [
    "df"
   ]
  },
  {
   "cell_type": "code",
   "execution_count": null,
   "metadata": {},
   "outputs": [],
   "source": []
  }
 ],
 "metadata": {
  "kernelspec": {
   "display_name": "Python 3",
   "language": "python",
   "name": "python3"
  },
  "language_info": {
   "codemirror_mode": {
    "name": "ipython",
    "version": 3
   },
   "file_extension": ".py",
   "mimetype": "text/x-python",
   "name": "python",
   "nbconvert_exporter": "python",
   "pygments_lexer": "ipython3",
   "version": "3.7.9"
  },
  "toc": {
   "base_numbering": 1,
   "nav_menu": {},
   "number_sections": true,
   "sideBar": true,
   "skip_h1_title": false,
   "title_cell": "Table of Contents",
   "title_sidebar": "Contents",
   "toc_cell": true,
   "toc_position": {},
   "toc_section_display": true,
   "toc_window_display": false
  }
 },
 "nbformat": 4,
 "nbformat_minor": 4
}
